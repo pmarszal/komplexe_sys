{
 "metadata": {
  "name": "",
  "signature": "sha256:1bc4bd05fd9d74f8a96144ee168ed412c23d669e4921836df7ee10e9edae79e2"
 },
 "nbformat": 3,
 "nbformat_minor": 0,
 "worksheets": [
  {
   "cells": [
    {
     "cell_type": "code",
     "collapsed": false,
     "input": [
      "from matplotlib import pyplot as plt\n",
      "import numpy as np\n",
      "from scipy.integrate import ode"
     ],
     "language": "python",
     "metadata": {},
     "outputs": [],
     "prompt_number": 31
    },
    {
     "cell_type": "code",
     "collapsed": false,
     "input": [
      "#Param\n",
      "g = 1.\n",
      "#Fixpoints\n",
      "x_fix = [[0.,0.],[-1.,0.],[1.,0.]]\n",
      "#Integration params\n",
      "dt = 0.01\n",
      "t_end = 10\n",
      "#Grid\n",
      "rng = np.arange(0,10,0.1)\n",
      "X,Y = np.meshgrid(rng,rng)\n",
      "XY = np.vstack(([X.T], [Y.T])).T"
     ],
     "language": "python",
     "metadata": {},
     "outputs": [],
     "prompt_number": 32
    },
    {
     "cell_type": "code",
     "collapsed": false,
     "input": [
      "def well(t,x):\n",
      "    return [x[1],-g*x[1]+x[0]-x[0]**3.]"
     ],
     "language": "python",
     "metadata": {},
     "outputs": [],
     "prompt_number": 33
    },
    {
     "cell_type": "code",
     "collapsed": false,
     "input": [
      "def integrate(x0):\n",
      "    x_final = []\n",
      "    r = ode(well).set_integrator('dopri5')\n",
      "    r.set_initial_value(x0,0)\n",
      "    while r.successful() and r.t+dt < t_end:\n",
      "        r.integrate(r.t+dt)\n",
      "    return r.y"
     ],
     "language": "python",
     "metadata": {},
     "outputs": [],
     "prompt_number": 34
    },
    {
     "cell_type": "code",
     "collapsed": false,
     "input": [
      "F = integrate(XY)"
     ],
     "language": "python",
     "metadata": {},
     "outputs": [],
     "prompt_number": 34
    }
   ],
   "metadata": {}
  }
 ]
}