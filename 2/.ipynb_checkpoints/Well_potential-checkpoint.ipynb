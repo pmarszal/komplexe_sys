{
 "metadata": {
  "name": "",
  "signature": "sha256:e1ecd372248d7858ffa51d7cfe56fa182715ffb2a81ecc78eaafd053414e745f"
 },
 "nbformat": 3,
 "nbformat_minor": 0,
 "worksheets": [
  {
   "cells": [
    {
     "cell_type": "code",
     "collapsed": false,
     "input": [
      "%matplotlib inline\n",
      "from matplotlib import pyplot as plt\n",
      "import numpy as np\n",
      "from scipy.integrate import ode\n",
      "import matplotlib.pylab as pylab\n",
      "pylab.rcParams['figure.figsize'] = 16, 12  # that's default image size for this interactive session"
     ],
     "language": "python",
     "metadata": {},
     "outputs": [],
     "prompt_number": 1
    },
    {
     "cell_type": "code",
     "collapsed": false,
     "input": [
      "#Param\n",
      "g = 1.\n",
      "#Fixpoints\n",
      "x_fix = [[0.,0.],[-1.,0.],[1.,0.]]\n",
      "#Integration params\n",
      "dt = 0.1\n",
      "t_end = 10\n",
      "#Grid\n",
      "bound = 10.\n",
      "rng = np.arange(-bound,bound,0.1)\n",
      "grng = np.arange(0,bound,0.05)\n",
      "X,Y = np.meshgrid(rng,rng)"
     ],
     "language": "python",
     "metadata": {},
     "outputs": [],
     "prompt_number": 2
    },
    {
     "cell_type": "code",
     "collapsed": false,
     "input": [
      "def well(t,x):\n",
      "    return [x[1],-g*x[1]+x[0]-x[0]**3.]"
     ],
     "language": "python",
     "metadata": {},
     "outputs": [],
     "prompt_number": 3
    },
    {
     "cell_type": "code",
     "collapsed": false,
     "input": [
      "def integrate(x0):\n",
      "    x_final = []\n",
      "    r = ode(well).set_integrator('dopri5')\n",
      "    r.set_initial_value(x0,0)\n",
      "    while r.successful() and r.t+dt < t_end:\n",
      "        r.integrate(r.t+dt)\n",
      "    return r.y"
     ],
     "language": "python",
     "metadata": {},
     "outputs": []
    },
    {
     "cell_type": "code",
     "collapsed": false,
     "input": [
      "x_fin = []\n",
      "Map = np.zeros_like(X)\n",
      "for i in range(len(rng)):\n",
      "    for j in range(len(rng)):\n",
      "        x_fin.append(integrate([X[i,j],Y[i,j]]))\n",
      "        Map[i,j] = x_fin[-1][0]"
     ],
     "language": "python",
     "metadata": {},
     "outputs": []
    },
    {
     "cell_type": "code",
     "collapsed": false,
     "input": [
      "fig = plt.figure()\n",
      "ax = fig.add_subplot(1,1,1)\n",
      "ax.set_ylabel('v_0')\n",
      "ax.set_xlabel('x_0')\n",
      "ax.imshow(Map, origin='lower', extent =[-bound,bound,-bound,bound])"
     ],
     "language": "python",
     "metadata": {},
     "outputs": []
    },
    {
     "cell_type": "code",
     "collapsed": false,
     "input": [
      "X,G = np.meshgrid(rng,grng)\n",
      "x_fin2 = []\n",
      "Map2 = np.zeros_like(X)\n",
      "for i in range(len(rng)):\n",
      "    for j in range(len(rng)):\n",
      "        g = G[i,j]\n",
      "        x_fin2.append(integrate([X[i,j],0.]))\n",
      "        Map2[i,j] = x_fin2[-1][0]"
     ],
     "language": "python",
     "metadata": {},
     "outputs": []
    },
    {
     "cell_type": "code",
     "collapsed": false,
     "input": [
      "fig = plt.figure()\n",
      "ax = fig.add_subplot(1,1,1)\n",
      "ax.set_ylabel('x0')\n",
      "ax.set_xlabel('g')\n",
      "ax.imshow(Map2.T, origin='lower', extent=[0,bound,-bound,bound])"
     ],
     "language": "python",
     "metadata": {},
     "outputs": []
    },
    {
     "cell_type": "code",
     "collapsed": false,
     "input": [],
     "language": "python",
     "metadata": {},
     "outputs": []
    }
   ],
   "metadata": {}
  }
 ]
}