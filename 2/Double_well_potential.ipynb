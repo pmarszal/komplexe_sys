{
 "metadata": {
  "name": "",
  "signature": "sha256:d1e9995a6416aa77f348e46e93d63edd24eb88c438ce0249f24957076771d6ff"
 },
 "nbformat": 3,
 "nbformat_minor": 0,
 "worksheets": [
  {
   "cells": [
    {
     "cell_type": "code",
     "collapsed": false,
     "input": [
      "from matplotlib import pyplot as plt\n",
      "import numpy as np\n",
      "from scipy.integrate import ode"
     ],
     "language": "python",
     "metadata": {},
     "outputs": [],
     "prompt_number": 1
    },
    {
     "cell_type": "code",
     "collapsed": false,
     "input": [
      "#Param\n",
      "g = 1.\n",
      "#Fixpoints\n",
      "x_fix = [[0.,0.],[-1.,0.],[1.,0.]]\n",
      "#Integration params\n",
      "dt = 0.01\n",
      "t_end = 10\n",
      "#Grid\n",
      "rng = np.arange(0,10,0.1)"
     ],
     "language": "python",
     "metadata": {},
     "outputs": [],
     "prompt_number": 2
    },
    {
     "cell_type": "code",
     "collapsed": false,
     "input": [
      "def well(t,x):\n",
      "    return [x[1],-g*x[1]+x[0]-x[0]**3.]"
     ],
     "language": "python",
     "metadata": {},
     "outputs": [],
     "prompt_number": 3
    },
    {
     "cell_type": "code",
     "collapsed": false,
     "input": [
      "def integrate(x0):\n",
      "    x_final = []\n",
      "    r = ode(well).set_integrator('dopri5')\n",
      "    r.set_initial_value(x0,0)\n",
      "    while r.successful() and r.t+dt < t_end:\n",
      "        r.integrate(r.t+dt)\n",
      "    return r.y"
     ],
     "language": "python",
     "metadata": {},
     "outputs": []
    },
    {
     "cell_type": "code",
     "collapsed": false,
     "input": [
      "x_fin = []\n",
      "for x0 in rng:\n",
      "    for v0 in rng:\n",
      "        print x0,v0\n",
      "        x_fin.append(integrate([x0,v0]))\n",
      "        print x_fin[-1]"
     ],
     "language": "python",
     "metadata": {},
     "outputs": [
      {
       "output_type": "stream",
       "stream": "stdout",
       "text": [
        "0.0 0.0\n",
        "[ 0.  0.]"
       ]
      },
      {
       "output_type": "stream",
       "stream": "stdout",
       "text": [
        "\n",
        "0.0 0.1\n",
        "[ 0.99179371  0.02780599]"
       ]
      },
      {
       "output_type": "stream",
       "stream": "stdout",
       "text": [
        "\n",
        "0.0 0.2\n",
        "[ 1.0098025   0.00206103]"
       ]
      },
      {
       "output_type": "stream",
       "stream": "stdout",
       "text": [
        "\n",
        "0.0 0.3\n",
        "[ 1.0072628  -0.00795791]"
       ]
      },
      {
       "output_type": "stream",
       "stream": "stdout",
       "text": [
        "\n",
        "0.0 0.4\n",
        "[ 1.00290161 -0.00888104]"
       ]
      },
      {
       "output_type": "stream",
       "stream": "stdout",
       "text": [
        "\n",
        "0.0 0.5\n",
        "[ 0.99963129 -0.00684968]"
       ]
      },
      {
       "output_type": "stream",
       "stream": "stdout",
       "text": [
        "\n",
        "0.0 0.6\n",
        "[ 0.99756646 -0.00414062]"
       ]
      },
      {
       "output_type": "stream",
       "stream": "stdout",
       "text": [
        "\n",
        "0.0 0.7\n",
        "[ 0.9964114  -0.00153783]"
       ]
      },
      {
       "output_type": "stream",
       "stream": "stdout",
       "text": [
        "\n",
        "0.0 0.8\n",
        "[  9.95884762e-01   7.19736767e-04]"
       ]
      },
      {
       "output_type": "stream",
       "stream": "stdout",
       "text": [
        "\n",
        "0.0 0.9\n",
        "[ 0.99577817  0.00259306]"
       ]
      },
      {
       "output_type": "stream",
       "stream": "stdout",
       "text": [
        "\n",
        "0.0 1.0\n",
        "[ 0.99594658  0.00411411]"
       ]
      },
      {
       "output_type": "stream",
       "stream": "stdout",
       "text": [
        "\n",
        "0.0 1.1\n",
        "[ 0.99629071  0.00533628]"
       ]
      },
      {
       "output_type": "stream",
       "stream": "stdout",
       "text": [
        "\n",
        "0.0 1.2\n",
        "[ 0.99674254  0.00631557]"
       ]
      },
      {
       "output_type": "stream",
       "stream": "stdout",
       "text": [
        "\n",
        "0.0 1.3\n",
        "[ 0.99725519  0.00710376]"
       ]
      },
      {
       "output_type": "stream",
       "stream": "stdout",
       "text": [
        "\n",
        "0.0 1.4\n",
        "[ 0.99779591  0.00774666]"
       ]
      },
      {
       "output_type": "stream",
       "stream": "stdout",
       "text": [
        "\n",
        "0.0 1.5\n",
        "[ 0.99834139  0.00828411]"
       ]
      },
      {
       "output_type": "stream",
       "stream": "stdout",
       "text": [
        "\n",
        "0.0 1.6\n",
        "[ 0.99887454  0.00875085]"
       ]
      },
      {
       "output_type": "stream",
       "stream": "stdout",
       "text": [
        "\n",
        "0.0 1.7\n",
        "[ 0.99938219  0.00917745]"
       ]
      },
      {
       "output_type": "stream",
       "stream": "stdout",
       "text": [
        "\n",
        "0.0 1.8\n",
        "[ 0.99985347  0.0095913 ]"
       ]
      },
      {
       "output_type": "stream",
       "stream": "stdout",
       "text": [
        "\n",
        "0.0 1.9\n",
        "[ 1.00027853  0.01001744]"
       ]
      },
      {
       "output_type": "stream",
       "stream": "stdout",
       "text": [
        "\n",
        "0.0 2.0\n",
        "[ 1.00064747  0.01047936]"
       ]
      },
      {
       "output_type": "stream",
       "stream": "stdout",
       "text": [
        "\n",
        "0.0 2.1\n",
        "[ 1.00094942  0.01099952]"
       ]
      },
      {
       "output_type": "stream",
       "stream": "stdout",
       "text": [
        "\n",
        "0.0 2.2\n",
        "[ 1.00117159  0.01159995]"
       ]
      },
      {
       "output_type": "stream",
       "stream": "stdout",
       "text": [
        "\n",
        "0.0 2.3\n",
        "[ 1.0012982   0.01230246]"
       ]
      },
      {
       "output_type": "stream",
       "stream": "stdout",
       "text": [
        "\n",
        "0.0 2.4\n",
        "[ 1.00130935  0.01312877]"
       ]
      },
      {
       "output_type": "stream",
       "stream": "stdout",
       "text": [
        "\n",
        "0.0 2.5\n",
        "[ 1.00117951  0.01410018]"
       ]
      },
      {
       "output_type": "stream",
       "stream": "stdout",
       "text": [
        "\n",
        "0.0 2.6\n",
        "[ 1.00087573  0.01523678]"
       ]
      },
      {
       "output_type": "stream",
       "stream": "stdout",
       "text": [
        "\n",
        "0.0 2.7\n",
        "[ 1.00035531  0.01655555]"
       ]
      },
      {
       "output_type": "stream",
       "stream": "stdout",
       "text": [
        "\n",
        "0.0 2.8\n",
        "[ 0.99956292  0.01806688]"
       ]
      },
      {
       "output_type": "stream",
       "stream": "stdout",
       "text": [
        "\n",
        "0.0 2.9\n",
        "[ 0.99842709  0.01976818]"
       ]
      },
      {
       "output_type": "stream",
       "stream": "stdout",
       "text": [
        "\n",
        "0.0 3.0\n",
        "[ 0.99685617  0.02163225]"
       ]
      },
      {
       "output_type": "stream",
       "stream": "stdout",
       "text": [
        "\n",
        "0.0 3.1\n",
        "[ 0.99473463  0.02358644]"
       ]
      },
      {
       "output_type": "stream",
       "stream": "stdout",
       "text": [
        "\n",
        "0.0 3.2\n",
        "[ 0.99192186  0.02547437]"
       ]
      },
      {
       "output_type": "stream",
       "stream": "stdout",
       "text": [
        "\n",
        "0.0 3.3\n",
        "[ 0.98826027  0.02698496]"
       ]
      },
      {
       "output_type": "stream",
       "stream": "stdout",
       "text": [
        "\n",
        "0.0 3.4\n",
        "[ 0.98361074  0.02751687]"
       ]
      },
      {
       "output_type": "stream",
       "stream": "stdout",
       "text": [
        "\n",
        "0.0 3.5\n",
        "[ 0.97796739  0.02591241]"
       ]
      },
      {
       "output_type": "stream",
       "stream": "stdout",
       "text": [
        "\n",
        "0.0 3.6\n",
        "[ 0.97180781  0.01991956]"
       ]
      },
      {
       "output_type": "stream",
       "stream": "stdout",
       "text": [
        "\n",
        "0.0 3.7\n",
        "[ 0.96719007  0.0051056 ]"
       ]
      },
      {
       "output_type": "stream",
       "stream": "stdout",
       "text": [
        "\n",
        "0.0 3.8\n",
        "[ 0.97145203 -0.02688895]"
       ]
      },
      {
       "output_type": "stream",
       "stream": "stdout",
       "text": [
        "\n",
        "0.0 3.9\n",
        "[ 1.01015711 -0.08265921]"
       ]
      },
      {
       "output_type": "stream",
       "stream": "stdout",
       "text": [
        "\n",
        "0.0 4.0\n",
        "[ 1.09608295  0.04276979]"
       ]
      },
      {
       "output_type": "stream",
       "stream": "stdout",
       "text": [
        "\n",
        "0.0 4.1\n",
        "[-0.86039728 -0.31156802]"
       ]
      },
      {
       "output_type": "stream",
       "stream": "stdout",
       "text": [
        "\n",
        "0.0 4.2\n",
        "[-1.03028755  0.09365672]"
       ]
      },
      {
       "output_type": "stream",
       "stream": "stdout",
       "text": [
        "\n",
        "0.0 4.3\n",
        "[-0.96971076  0.02260682]"
       ]
      },
      {
       "output_type": "stream",
       "stream": "stdout",
       "text": [
        "\n",
        "0.0 4.4\n",
        "[-0.96923038 -0.01780881]"
       ]
      },
      {
       "output_type": "stream",
       "stream": "stdout",
       "text": [
        "\n",
        "0.0 4.5\n",
        "[-0.98130889 -0.02978591]"
       ]
      },
      {
       "output_type": "stream",
       "stream": "stdout",
       "text": [
        "\n",
        "0.0 4.6\n",
        "[-0.99322563 -0.02848769]"
       ]
      },
      {
       "output_type": "stream",
       "stream": "stdout",
       "text": [
        "\n",
        "0.0 4.7\n",
        "[-1.00217168 -0.02184538]"
       ]
      },
      {
       "output_type": "stream",
       "stream": "stdout",
       "text": [
        "\n",
        "0.0 4.8\n",
        "[-1.00802702 -0.01369505]"
       ]
      },
      {
       "output_type": "stream",
       "stream": "stdout",
       "text": [
        "\n",
        "0.0 4.9\n",
        "[-1.01134548 -0.00582127]"
       ]
      },
      {
       "output_type": "stream",
       "stream": "stdout",
       "text": [
        "\n",
        "0.0 5.0\n",
        "[-1.01276031  0.00101893]"
       ]
      },
      {
       "output_type": "stream",
       "stream": "stdout",
       "text": [
        "\n",
        "0.0 5.1\n",
        "[-1.01281764  0.00658099]"
       ]
      },
      {
       "output_type": "stream",
       "stream": "stdout",
       "text": [
        "\n",
        "0.0 5.2\n",
        "[-1.01194567  0.01086881]"
       ]
      },
      {
       "output_type": "stream",
       "stream": "stdout",
       "text": [
        "\n",
        "0.0 5.3\n",
        "[-1.01046532  0.01399806]"
       ]
      },
      {
       "output_type": "stream",
       "stream": "stdout",
       "text": [
        "\n",
        "0.0 5.4\n",
        "[-1.00861084  0.01612598]"
       ]
      },
      {
       "output_type": "stream",
       "stream": "stdout",
       "text": [
        "\n",
        "0.0 5.5\n",
        "[-1.00654989  0.01741613]"
       ]
      },
      {
       "output_type": "stream",
       "stream": "stdout",
       "text": [
        "\n",
        "0.0 5.6\n",
        "[-1.00440033  0.01802177]"
       ]
      },
      {
       "output_type": "stream",
       "stream": "stdout",
       "text": [
        "\n",
        "0.0 5.7\n",
        "[-1.00224332  0.01807901]"
       ]
      },
      {
       "output_type": "stream",
       "stream": "stdout",
       "text": [
        "\n",
        "0.0 5.8\n",
        "[-1.00013318  0.01770497]"
       ]
      },
      {
       "output_type": "stream",
       "stream": "stdout",
       "text": [
        "\n",
        "0.0 5.9\n",
        "[-0.99810479  0.01699849]"
       ]
      },
      {
       "output_type": "stream",
       "stream": "stdout",
       "text": [
        "\n",
        "0.0 6.0\n",
        "[-0.99617901  0.01604186]"
       ]
      },
      {
       "output_type": "stream",
       "stream": "stdout",
       "text": [
        "\n",
        "0.0 6.1\n",
        "[-0.99436666  0.01490304]"
       ]
      },
      {
       "output_type": "stream",
       "stream": "stdout",
       "text": [
        "\n",
        "0.0 6.2\n",
        "[-0.99267144  0.01363776]"
       ]
      },
      {
       "output_type": "stream",
       "stream": "stdout",
       "text": [
        "\n",
        "0.0 6.3\n",
        "[-0.9910921   0.01229163]"
       ]
      },
      {
       "output_type": "stream",
       "stream": "stdout",
       "text": [
        "\n",
        "0.0 6.4\n",
        "[-0.98962391  0.01090187]"
       ]
      },
      {
       "output_type": "stream",
       "stream": "stdout",
       "text": [
        "\n",
        "0.0 6.5\n",
        "[-0.98825988  0.00949894]"
       ]
      },
      {
       "output_type": "stream",
       "stream": "stdout",
       "text": [
        "\n",
        "0.0 6.6\n",
        "[-0.98699152  0.00810785]"
       ]
      },
      {
       "output_type": "stream",
       "stream": "stdout",
       "text": [
        "\n",
        "0.0 6.7\n",
        "[-0.98580949  0.00674934]"
       ]
      },
      {
       "output_type": "stream",
       "stream": "stdout",
       "text": [
        "\n",
        "0.0 6.8\n",
        "[-0.98470399  0.00544088]"
       ]
      },
      {
       "output_type": "stream",
       "stream": "stdout",
       "text": [
        "\n",
        "0.0 6.9\n",
        "[-0.98366513  0.00419754]"
       ]
      },
      {
       "output_type": "stream",
       "stream": "stdout",
       "text": [
        "\n",
        "0.0 7.0\n",
        "[-0.98268315  0.00303273]"
       ]
      },
      {
       "output_type": "stream",
       "stream": "stdout",
       "text": [
        "\n",
        "0.0 7.1\n",
        "[-0.98174861  0.00195893]"
       ]
      },
      {
       "output_type": "stream",
       "stream": "stdout",
       "text": [
        "\n",
        "0.0 7.2\n",
        "[-0.98085258  0.00098831]"
       ]
      },
      {
       "output_type": "stream",
       "stream": "stdout",
       "text": [
        "\n",
        "0.0 7.3\n",
        "[ -9.79986783e-01   1.33378230e-04]"
       ]
      },
      {
       "output_type": "stream",
       "stream": "stdout",
       "text": [
        "\n",
        "0.0 7.4\n",
        "[ -9.79143775e-01  -5.92395164e-04]"
       ]
      },
      {
       "output_type": "stream",
       "stream": "stdout",
       "text": [
        "\n",
        "0.0 7.5\n",
        "[-0.97831716 -0.00117391]"
       ]
      },
      {
       "output_type": "stream",
       "stream": "stdout",
       "text": [
        "\n",
        "0.0 7.6\n",
        "[-0.97750187 -0.00159368]"
       ]
      },
      {
       "output_type": "stream",
       "stream": "stdout",
       "text": [
        "\n",
        "0.0 7.7\n",
        "[-0.97669449 -0.00183105]"
       ]
      },
      {
       "output_type": "stream",
       "stream": "stdout",
       "text": [
        "\n",
        "0.0 7.8\n",
        "[-0.97589381 -0.00186118]"
       ]
      },
      {
       "output_type": "stream",
       "stream": "stdout",
       "text": [
        "\n",
        "0.0 7.9\n",
        "[-0.97510148 -0.00165392]"
       ]
      },
      {
       "output_type": "stream",
       "stream": "stdout",
       "text": [
        "\n",
        "0.0 8.0\n",
        "[-0.97432295 -0.00117239]"
       ]
      },
      {
       "output_type": "stream",
       "stream": "stdout",
       "text": [
        "\n",
        "0.0 8.1\n",
        "[ -9.73568871e-01  -3.71314875e-04]"
       ]
      },
      {
       "output_type": "stream",
       "stream": "stdout",
       "text": [
        "\n",
        "0.0 8.2\n",
        "[ -9.72856966e-01   8.05109552e-04]"
       ]
      },
      {
       "output_type": "stream",
       "stream": "stdout",
       "text": [
        "\n",
        "0.0 8.3\n",
        "[-0.97221473  0.00242578]"
       ]
      },
      {
       "output_type": "stream",
       "stream": "stdout",
       "text": [
        "\n",
        "0.0 8.4\n",
        "[-0.97168329  0.00457581]"
       ]
      },
      {
       "output_type": "stream",
       "stream": "stdout",
       "text": [
        "\n",
        "0.0 8.5\n",
        "[-0.97132302  0.00736032]"
       ]
      },
      {
       "output_type": "stream",
       "stream": "stdout",
       "text": [
        "\n",
        "0.0 8.6\n",
        "[-0.9712216   0.01090867]"
       ]
      },
      {
       "output_type": "stream",
       "stream": "stdout",
       "text": [
        "\n",
        "0.0 8.7\n",
        "[-0.97150604  0.01537897]"
       ]
      },
      {
       "output_type": "stream",
       "stream": "stdout",
       "text": [
        "\n",
        "0.0 8.8\n",
        "[-0.97236037  0.02096155]"
       ]
      },
      {
       "output_type": "stream",
       "stream": "stdout",
       "text": [
        "\n",
        "0.0 8.9\n",
        "[-0.97405218  0.02787861]"
       ]
      },
      {
       "output_type": "stream",
       "stream": "stdout",
       "text": [
        "\n",
        "0.0 9.0\n",
        "[-0.9769724   0.03637279]"
       ]
      },
      {
       "output_type": "stream",
       "stream": "stdout",
       "text": [
        "\n",
        "0.0 9.1\n",
        "[-0.98169455  0.04666694]"
       ]
      },
      {
       "output_type": "stream",
       "stream": "stdout",
       "text": [
        "\n",
        "0.0 9.2\n",
        "[-0.98905944  0.05885054]"
       ]
      },
      {
       "output_type": "stream",
       "stream": "stdout",
       "text": [
        "\n",
        "0.0 9.3\n",
        "[-1.00028211  0.07257738]"
       ]
      },
      {
       "output_type": "stream",
       "stream": "stdout",
       "text": [
        "\n",
        "0.0 9.4\n",
        "[-1.01702326  0.08626401]"
       ]
      },
      {
       "output_type": "stream",
       "stream": "stdout",
       "text": [
        "\n",
        "0.0 9.5\n",
        "[-1.04111904  0.09492649]"
       ]
      },
      {
       "output_type": "stream",
       "stream": "stdout",
       "text": [
        "\n",
        "0.0 9.6\n",
        "[-1.07253386  0.08432253]"
       ]
      },
      {
       "output_type": "stream",
       "stream": "stdout",
       "text": [
        "\n",
        "0.0 9.7\n",
        "[-1.09882309  0.0169861 ]"
       ]
      },
      {
       "output_type": "stream",
       "stream": "stdout",
       "text": [
        "\n",
        "0.0 9.8\n",
        "[-1.046283   -0.17195285]"
       ]
      },
      {
       "output_type": "stream",
       "stream": "stdout",
       "text": [
        "\n",
        "0.0 9.9\n",
        "[-0.63014842 -0.31108429]"
       ]
      },
      {
       "output_type": "stream",
       "stream": "stdout",
       "text": [
        "\n",
        "0.1 0.0\n",
        "[ 1.00745599  0.01093725]"
       ]
      },
      {
       "output_type": "stream",
       "stream": "stdout",
       "text": [
        "\n",
        "0.1 0.1\n",
        "[ 1.00891654 -0.00545075]"
       ]
      },
      {
       "output_type": "stream",
       "stream": "stdout",
       "text": [
        "\n",
        "0.1 0.2\n",
        "[ 1.00469106 -0.00897239]"
       ]
      },
      {
       "output_type": "stream",
       "stream": "stdout",
       "text": [
        "\n",
        "0.1 0.3\n",
        "[ 1.00099552 -0.00782432]"
       ]
      },
      {
       "output_type": "stream",
       "stream": "stdout",
       "text": [
        "\n",
        "0.1 0.4\n",
        "[ 0.9985224  -0.00536009]"
       ]
      },
      {
       "output_type": "stream",
       "stream": "stdout",
       "text": [
        "\n",
        "0.1 0.5\n",
        "[ 0.99705752 -0.0027694 ]"
       ]
      },
      {
       "output_type": "stream",
       "stream": "stdout",
       "text": [
        "\n",
        "0.1 0.6\n",
        "[  9.96309393e-01  -4.45319074e-04]"
       ]
      },
      {
       "output_type": "stream",
       "stream": "stdout",
       "text": [
        "\n",
        "0.1 0.7\n",
        "[ 0.99604764  0.001513  ]"
       ]
      },
      {
       "output_type": "stream",
       "stream": "stdout",
       "text": [
        "\n",
        "0.1 0.8\n",
        "[ 0.99610874  0.00311395]"
       ]
      },
      {
       "output_type": "stream",
       "stream": "stdout",
       "text": [
        "\n",
        "0.1 0.9\n",
        "[ 0.99637999  0.00440218]"
       ]
      },
      {
       "output_type": "stream",
       "stream": "stdout",
       "text": [
        "\n",
        "0.1 1.0\n",
        "[ 0.99678419  0.00543094]"
       ]
      },
      {
       "output_type": "stream",
       "stream": "stdout",
       "text": [
        "\n",
        "0.1 1.1\n",
        "[ 0.99726821  0.00625167]"
       ]
      },
      {
       "output_type": "stream",
       "stream": "stdout",
       "text": [
        "\n",
        "0.1 1.2\n",
        "[ 0.99779517  0.00691067]"
       ]
      },
      {
       "output_type": "stream",
       "stream": "stdout",
       "text": [
        "\n",
        "0.1 1.3\n",
        "[ 0.99833913  0.00744848]"
       ]
      },
      {
       "output_type": "stream",
       "stream": "stdout",
       "text": [
        "\n",
        "0.1 1.4\n",
        "[ 0.99888144  0.00790042]"
       ]
      },
      {
       "output_type": "stream",
       "stream": "stdout",
       "text": [
        "\n",
        "0.1 1.5\n",
        "[ 0.99940822  0.00829743]"
       ]
      },
      {
       "output_type": "stream",
       "stream": "stdout",
       "text": [
        "\n",
        "0.1 1.6\n",
        "[ 0.99990856  0.00866703]"
       ]
      },
      {
       "output_type": "stream",
       "stream": "stdout",
       "text": [
        "\n",
        "0.1 1.7\n",
        "[ 1.00037321  0.00903414]"
       ]
      },
      {
       "output_type": "stream",
       "stream": "stdout",
       "text": [
        "\n",
        "0.1 1.8\n",
        "[ 1.0007935   0.00942192]"
       ]
      },
      {
       "output_type": "stream",
       "stream": "stdout",
       "text": [
        "\n",
        "0.1 1.9\n",
        "[ 1.00116043  0.00985239]"
       ]
      },
      {
       "output_type": "stream",
       "stream": "stdout",
       "text": [
        "\n",
        "0.1 2.0\n",
        "[ 1.00146384  0.01034702]"
       ]
      },
      {
       "output_type": "stream",
       "stream": "stdout",
       "text": [
        "\n",
        "0.1 2.1\n",
        "[ 1.0016915   0.01092717]"
       ]
      },
      {
       "output_type": "stream",
       "stream": "stdout",
       "text": [
        "\n",
        "0.1 2.2\n",
        "[ 1.00182816  0.01161439]"
       ]
      },
      {
       "output_type": "stream",
       "stream": "stdout",
       "text": [
        "\n",
        "0.1 2.3\n",
        "[ 1.00185436  0.01243051]"
       ]
      },
      {
       "output_type": "stream",
       "stream": "stdout",
       "text": [
        "\n",
        "0.1 2.4\n",
        "[ 1.00174497  0.01339745]"
       ]
      },
      {
       "output_type": "stream",
       "stream": "stdout",
       "text": [
        "\n",
        "0.1 2.5\n",
        "[ 1.00146738  0.0145364 ]"
       ]
      },
      {
       "output_type": "stream",
       "stream": "stdout",
       "text": [
        "\n",
        "0.1 2.6\n",
        "[ 1.00097912  0.01586615]"
       ]
      },
      {
       "output_type": "stream",
       "stream": "stdout",
       "text": [
        "\n",
        "0.1 2.7\n",
        "[ 1.00022492  0.01739983]"
       ]
      },
      {
       "output_type": "stream",
       "stream": "stdout",
       "text": [
        "\n",
        "0.1 2.8\n",
        "[ 0.99913295  0.01913886]"
       ]
      },
      {
       "output_type": "stream",
       "stream": "stdout",
       "text": [
        "\n",
        "0.1 2.9\n",
        "[ 0.99761056  0.02106181]"
       ]
      },
      {
       "output_type": "stream",
       "stream": "stdout",
       "text": [
        "\n",
        "0.1 3.0\n",
        "[ 0.99553992  0.02310431]"
       ]
      },
      {
       "output_type": "stream",
       "stream": "stdout",
       "text": [
        "\n",
        "0.1 3.1\n",
        "[ 0.99277585  0.02512191]"
       ]
      },
      {
       "output_type": "stream",
       "stream": "stdout",
       "text": [
        "\n",
        "0.1 3.2\n",
        "[ 0.98915178  0.02682075]"
       ]
      },
      {
       "output_type": "stream",
       "stream": "stdout",
       "text": [
        "\n",
        "0.1 3.3\n",
        "[ 0.98451126  0.02762439]"
       ]
      },
      {
       "output_type": "stream",
       "stream": "stdout",
       "text": [
        "\n",
        "0.1 3.4\n",
        "[ 0.97881447  0.02641076]"
       ]
      },
      {
       "output_type": "stream",
       "stream": "stdout",
       "text": [
        "\n",
        "0.1 3.5\n",
        "[ 0.97247018  0.02097603]"
       ]
      },
      {
       "output_type": "stream",
       "stream": "stdout",
       "text": [
        "\n",
        "0.1 3.6\n",
        "[ 0.9673903   0.00693602]"
       ]
      },
      {
       "output_type": "stream",
       "stream": "stdout",
       "text": [
        "\n",
        "0.1 3.7\n",
        "[ 0.97058971 -0.02414262]"
       ]
      },
      {
       "output_type": "stream",
       "stream": "stdout",
       "text": [
        "\n",
        "0.1 3.8\n",
        "[ 1.00709071 -0.08024717]"
       ]
      },
      {
       "output_type": "stream",
       "stream": "stdout",
       "text": [
        "\n",
        "0.1 3.9\n",
        "[ 1.09801767  0.02872146]"
       ]
      },
      {
       "output_type": "stream",
       "stream": "stdout",
       "text": [
        "\n",
        "0.1 4.0\n",
        "[-0.84766885 -0.3149071 ]"
       ]
      },
      {
       "output_type": "stream",
       "stream": "stdout",
       "text": [
        "\n",
        "0.1 4.1\n",
        "[-1.02949205  0.09339029]"
       ]
      },
      {
       "output_type": "stream",
       "stream": "stdout",
       "text": [
        "\n",
        "0.1 4.2\n",
        "[-0.96939269  0.02143867]"
       ]
      },
      {
       "output_type": "stream",
       "stream": "stdout",
       "text": [
        "\n",
        "0.1 4.3\n",
        "[-0.96953615 -0.01847559]"
       ]
      },
      {
       "output_type": "stream",
       "stream": "stdout",
       "text": [
        "\n",
        "0.1 4.4\n",
        "[-0.98183434 -0.02988412]"
       ]
      },
      {
       "output_type": "stream",
       "stream": "stdout",
       "text": [
        "\n",
        "0.1 4.5\n",
        "[-0.99373318 -0.02820335]"
       ]
      },
      {
       "output_type": "stream",
       "stream": "stdout",
       "text": [
        "\n",
        "0.1 4.6\n",
        "[-1.00255837 -0.02136321]"
       ]
      },
      {
       "output_type": "stream",
       "stream": "stdout",
       "text": [
        "\n",
        "0.1 4.7\n",
        "[-1.00826336 -0.01315147]"
       ]
      },
      {
       "output_type": "stream",
       "stream": "stdout",
       "text": [
        "\n",
        "0.1 4.8\n",
        "[-1.01143756 -0.00530486]"
       ]
      },
      {
       "output_type": "stream",
       "stream": "stdout",
       "text": [
        "\n",
        "0.1 4.9\n",
        "[-1.01272924  0.00145659]"
       ]
      },
      {
       "output_type": "stream",
       "stream": "stdout",
       "text": [
        "\n",
        "0.1 5.0\n",
        "[-1.01268905  0.00691419]"
       ]
      },
      {
       "output_type": "stream",
       "stream": "stdout",
       "text": [
        "\n",
        "0.1 5.1\n",
        "[-1.01174459  0.0110887 ]"
       ]
      },
      {
       "output_type": "stream",
       "stream": "stdout",
       "text": [
        "\n",
        "0.1 5.2\n",
        "[-1.01021399  0.01410621]"
       ]
      },
      {
       "output_type": "stream",
       "stream": "stdout",
       "text": [
        "\n",
        "0.1 5.3\n",
        "[-1.00832794  0.01612993]"
       ]
      },
      {
       "output_type": "stream",
       "stream": "stdout",
       "text": [
        "\n",
        "0.1 5.4\n",
        "[-1.00625059  0.01732644]"
       ]
      },
      {
       "output_type": "stream",
       "stream": "stdout",
       "text": [
        "\n",
        "0.1 5.5\n",
        "[-1.00409659  0.0178502 ]"
       ]
      },
      {
       "output_type": "stream",
       "stream": "stdout",
       "text": [
        "\n",
        "0.1 5.6\n",
        "[-1.00194432  0.01783732]"
       ]
      },
      {
       "output_type": "stream",
       "stream": "stdout",
       "text": [
        "\n",
        "0.1 5.7\n",
        "[-0.99984579  0.01740432]"
       ]
      },
      {
       "output_type": "stream",
       "stream": "stdout",
       "text": [
        "\n",
        "0.1 5.8\n",
        "[-0.99783399  0.01664904]"
       ]
      },
      {
       "output_type": "stream",
       "stream": "stdout",
       "text": [
        "\n",
        "0.1 5.9\n",
        "[-0.99592825  0.01565264]"
       ]
      },
      {
       "output_type": "stream",
       "stream": "stdout",
       "text": [
        "\n",
        "0.1 6.0\n",
        "[-0.99413816  0.01448188]"
       ]
      },
      {
       "output_type": "stream",
       "stream": "stdout",
       "text": [
        "\n",
        "0.1 6.1\n",
        "[-0.99246649  0.01319137]"
       ]
      },
      {
       "output_type": "stream",
       "stream": "stdout",
       "text": [
        "\n",
        "0.1 6.2\n",
        "[-0.99091121  0.01182562]"
       ]
      },
      {
       "output_type": "stream",
       "stream": "stdout",
       "text": [
        "\n",
        "0.1 6.3\n",
        "[-0.98946703  0.01042087]"
       ]
      },
      {
       "output_type": "stream",
       "stream": "stdout",
       "text": [
        "\n",
        "0.1 6.4\n",
        "[-0.9881265   0.00900668]"
       ]
      },
      {
       "output_type": "stream",
       "stream": "stdout",
       "text": [
        "\n",
        "0.1 6.5\n",
        "[-0.98688079  0.00760726]"
       ]
      },
      {
       "output_type": "stream",
       "stream": "stdout",
       "text": [
        "\n",
        "0.1 6.6\n",
        "[-0.98572029  0.00624264]"
       ]
      },
      {
       "output_type": "stream",
       "stream": "stdout",
       "text": [
        "\n",
        "0.1 6.7\n",
        "[-0.98463502  0.00492965]"
       ]
      },
      {
       "output_type": "stream",
       "stream": "stdout",
       "text": [
        "\n",
        "0.1 6.8\n",
        "[-0.9836149   0.00368278]"
       ]
      },
      {
       "output_type": "stream",
       "stream": "stdout",
       "text": [
        "\n",
        "0.1 6.9\n",
        "[-0.98265006  0.00251494]"
       ]
      },
      {
       "output_type": "stream",
       "stream": "stdout",
       "text": [
        "\n",
        "0.1 7.0\n",
        "[-0.98173094  0.00143815]"
       ]
      },
      {
       "output_type": "stream",
       "stream": "stdout",
       "text": [
        "\n",
        "0.1 7.1\n",
        "[ -9.80848524e-01   4.64160956e-04]"
       ]
      },
      {
       "output_type": "stream",
       "stream": "stdout",
       "text": [
        "\n",
        "0.1 7.2\n",
        "[ -9.79994427e-01  -3.94900213e-04]"
       ]
      },
      {
       "output_type": "stream",
       "stream": "stdout",
       "text": [
        "\n",
        "0.1 7.3\n",
        "[-0.9791611  -0.00112592]"
       ]
      },
      {
       "output_type": "stream",
       "stream": "stdout",
       "text": [
        "\n",
        "0.1 7.4\n",
        "[-0.97834202 -0.00171413]"
       ]
      },
      {
       "output_type": "stream",
       "stream": "stdout",
       "text": [
        "\n",
        "0.1 7.5\n",
        "[-0.97753196 -0.00214238]"
       ]
      },
      {
       "output_type": "stream",
       "stream": "stdout",
       "text": [
        "\n",
        "0.1 7.6\n",
        "[-0.97672733 -0.0023903 ]"
       ]
      },
      {
       "output_type": "stream",
       "stream": "stdout",
       "text": [
        "\n",
        "0.1 7.7\n",
        "[-0.97592666 -0.00243337]"
       ]
      },
      {
       "output_type": "stream",
       "stream": "stdout",
       "text": [
        "\n",
        "0.1 7.8\n",
        "[-0.97513131 -0.00224172]"
       ]
      },
      {
       "output_type": "stream",
       "stream": "stdout",
       "text": [
        "\n",
        "0.1 7.9\n",
        "[-0.97434636 -0.00177878]"
       ]
      },
      {
       "output_type": "stream",
       "stream": "stdout",
       "text": [
        "\n",
        "0.1 8.0\n",
        "[-0.97358199 -0.00099953]"
       ]
      },
      {
       "output_type": "stream",
       "stream": "stdout",
       "text": [
        "\n",
        "0.1 8.1\n",
        "[ -9.72855334e-01   1.51592163e-04]"
       ]
      },
      {
       "output_type": "stream",
       "stream": "stdout",
       "text": [
        "\n",
        "0.1 8.2\n",
        "[-0.97219313  0.00174327]"
       ]
      },
      {
       "output_type": "stream",
       "stream": "stdout",
       "text": [
        "\n",
        "0.1 8.3\n",
        "[-0.9716356   0.00386053]"
       ]
      },
      {
       "output_type": "stream",
       "stream": "stdout",
       "text": [
        "\n",
        "0.1 8.4\n",
        "[-0.97124194  0.0066085 ]"
       ]
      },
      {
       "output_type": "stream",
       "stream": "stdout",
       "text": [
        "\n",
        "0.1 8.5\n",
        "[-0.9710984   0.01011688]"
       ]
      },
      {
       "output_type": "stream",
       "stream": "stdout",
       "text": [
        "\n",
        "0.1 8.6\n",
        "[-0.97133018  0.01454454]"
       ]
      },
      {
       "output_type": "stream",
       "stream": "stdout",
       "text": [
        "\n",
        "0.1 8.7\n",
        "[-0.97211909  0.02008338]"
       ]
      },
      {
       "output_type": "stream",
       "stream": "stdout",
       "text": [
        "\n",
        "0.1 8.8\n",
        "[-0.97373006  0.02695858]"
       ]
      },
      {
       "output_type": "stream",
       "stream": "stdout",
       "text": [
        "\n",
        "0.1 8.9\n",
        "[-0.97655099  0.0354183 ]"
       ]
      },
      {
       "output_type": "stream",
       "stream": "stdout",
       "text": [
        "\n",
        "0.1 9.0\n",
        "[-0.98115225  0.04569553]"
       ]
      },
      {
       "output_type": "stream",
       "stream": "stdout",
       "text": [
        "\n",
        "0.1 9.1\n",
        "[-0.98837255  0.05789868]"
       ]
      },
      {
       "output_type": "stream",
       "stream": "stdout",
       "text": [
        "\n",
        "0.1 9.2\n",
        "[-0.99942892  0.07171763]"
       ]
      },
      {
       "output_type": "stream",
       "stream": "stdout",
       "text": [
        "\n",
        "0.1 9.3\n",
        "[-1.01599703  0.0856392 ]"
       ]
      },
      {
       "output_type": "stream",
       "stream": "stdout",
       "text": [
        "\n",
        "0.1 9.4\n",
        "[-1.03996667  0.09481733]"
       ]
      },
      {
       "output_type": "stream",
       "stream": "stdout",
       "text": [
        "\n",
        "0.1 9.5\n",
        "[-1.07147188  0.08526091]"
       ]
      },
      {
       "output_type": "stream",
       "stream": "stdout",
       "text": [
        "\n",
        "0.1 9.6\n",
        "[-1.09857866  0.01975687]"
       ]
      },
      {
       "output_type": "stream",
       "stream": "stdout",
       "text": [
        "\n",
        "0.1 9.7\n",
        "[-1.0488301 -0.1678751]"
       ]
      },
      {
       "output_type": "stream",
       "stream": "stdout",
       "text": [
        "\n",
        "0.1 9.8\n",
        "[-0.63712671 -0.31259145]"
       ]
      },
      {
       "output_type": "stream",
       "stream": "stdout",
       "text": [
        "\n",
        "0.1 9.9\n",
        "[ 0.36790601  0.21268738]"
       ]
      },
      {
       "output_type": "stream",
       "stream": "stdout",
       "text": [
        "\n",
        "0.2 0.0\n",
        "[ 1.00661789 -0.00823407]"
       ]
      },
      {
       "output_type": "stream",
       "stream": "stdout",
       "text": [
        "\n",
        "0.2 0.1\n",
        "[ 1.00260472 -0.00853886]"
       ]
      },
      {
       "output_type": "stream",
       "stream": "stdout",
       "text": [
        "\n",
        "0.2 0.2\n",
        "[ 0.99968965 -0.00654209]"
       ]
      },
      {
       "output_type": "stream",
       "stream": "stdout",
       "text": [
        "\n",
        "0.2 0.3\n",
        "[ 0.99786355 -0.00404905]"
       ]
      },
      {
       "output_type": "stream",
       "stream": "stdout",
       "text": [
        "\n",
        "0.2 0.4\n",
        "[ 0.9968491  -0.00168779]"
       ]
      },
      {
       "output_type": "stream",
       "stream": "stdout",
       "text": [
        "\n",
        "0.2 0.5\n",
        "[  9.96396870e-01   3.50138682e-04]"
       ]
      },
      {
       "output_type": "stream",
       "stream": "stdout",
       "text": [
        "\n",
        "0.2 0.6\n",
        "[ 0.99632333  0.00203601]"
       ]
      },
      {
       "output_type": "stream",
       "stream": "stdout",
       "text": [
        "\n",
        "0.2 0.7\n",
        "[ 0.99650041  0.00339973]"
       ]
      },
      {
       "output_type": "stream",
       "stream": "stdout",
       "text": [
        "\n",
        "0.2 0.8\n",
        "[ 0.99683996  0.00448911]"
       ]
      },
      {
       "output_type": "stream",
       "stream": "stdout",
       "text": [
        "\n",
        "0.2 0.9\n",
        "[ 0.99728133  0.00535407]"
       ]
      },
      {
       "output_type": "stream",
       "stream": "stdout",
       "text": [
        "\n",
        "0.2 1.0\n",
        "[ 0.99778253  0.0060409 ]"
       ]
      },
      {
       "output_type": "stream",
       "stream": "stdout",
       "text": [
        "\n",
        "0.2 1.1\n",
        "[ 0.99831422  0.00659064]"
       ]
      },
      {
       "output_type": "stream",
       "stream": "stdout",
       "text": [
        "\n",
        "0.2 1.2\n",
        "[ 0.99885557  0.00703918]"
       ]
      },
      {
       "output_type": "stream",
       "stream": "stdout",
       "text": [
        "\n",
        "0.2 1.3\n",
        "[ 0.99939146  0.00741786]"
       ]
      },
      {
       "output_type": "stream",
       "stream": "stdout",
       "text": [
        "\n",
        "0.2 1.4\n",
        "[ 0.99991049  0.0077544 ]"
       ]
      },
      {
       "output_type": "stream",
       "stream": "stdout",
       "text": [
        "\n",
        "0.2 1.5\n",
        "[ 1.00040351  0.00807369]"
       ]
      },
      {
       "output_type": "stream",
       "stream": "stdout",
       "text": [
        "\n",
        "0.2 1.6\n",
        "[ 1.00086257  0.0083986 ]"
       ]
      },
      {
       "output_type": "stream",
       "stream": "stdout",
       "text": [
        "\n",
        "0.2 1.7\n",
        "[ 1.00127997  0.00875067]"
       ]
      },
      {
       "output_type": "stream",
       "stream": "stdout",
       "text": [
        "\n",
        "0.2 1.8\n",
        "[ 1.00164749  0.00915071]"
       ]
      },
      {
       "output_type": "stream",
       "stream": "stdout",
       "text": [
        "\n",
        "0.2 1.9\n",
        "[ 1.00195565  0.00961935]"
       ]
      },
      {
       "output_type": "stream",
       "stream": "stdout",
       "text": [
        "\n",
        "0.2 2.0\n",
        "[ 1.00219282  0.01017742]"
       ]
      },
      {
       "output_type": "stream",
       "stream": "stdout",
       "text": [
        "\n",
        "0.2 2.1\n",
        "[ 1.00234432  0.01084633]"
       ]
      },
      {
       "output_type": "stream",
       "stream": "stdout",
       "text": [
        "\n",
        "0.2 2.2\n",
        "[ 1.00239128  0.01164812]"
       ]
      },
      {
       "output_type": "stream",
       "stream": "stdout",
       "text": [
        "\n",
        "0.2 2.3\n",
        "[ 1.00230916  0.01260538]"
       ]
      },
      {
       "output_type": "stream",
       "stream": "stdout",
       "text": [
        "\n",
        "0.2 2.4\n",
        "[ 1.00206596  0.01374054]"
       ]
      },
      {
       "output_type": "stream",
       "stream": "stdout",
       "text": [
        "\n",
        "0.2 2.5\n",
        "[ 1.0016198   0.01507441]"
       ]
      },
      {
       "output_type": "stream",
       "stream": "stdout",
       "text": [
        "\n",
        "0.2 2.6\n",
        "[ 1.00091588  0.01662318]"
       ]
      },
      {
       "output_type": "stream",
       "stream": "stdout",
       "text": [
        "\n",
        "0.2 2.7\n",
        "[ 0.99988264  0.01839281]"
       ]
      },
      {
       "output_type": "stream",
       "stream": "stdout",
       "text": [
        "\n",
        "0.2 2.8\n",
        "[ 0.9984271   0.02036868]"
       ]
      },
      {
       "output_type": "stream",
       "stream": "stdout",
       "text": [
        "\n",
        "0.2 2.9\n",
        "[ 0.99642997  0.02249646]"
       ]
      },
      {
       "output_type": "stream",
       "stream": "stdout",
       "text": [
        "\n",
        "0.2 3.0\n",
        "[ 0.99374229  0.02464684]"
       ]
      },
      {
       "output_type": "stream",
       "stream": "stdout",
       "text": [
        "\n",
        "0.2 3.1\n",
        "[ 0.99018897  0.02654898]"
       ]
      },
      {
       "output_type": "stream",
       "stream": "stdout",
       "text": [
        "\n",
        "0.2 3.2\n",
        "[ 0.98559526  0.02766214]"
       ]
      },
      {
       "output_type": "stream",
       "stream": "stdout",
       "text": [
        "\n",
        "0.2 3.3\n",
        "[ 0.97988174  0.02692047]"
       ]
      },
      {
       "output_type": "stream",
       "stream": "stdout",
       "text": [
        "\n",
        "0.2 3.4\n",
        "[ 0.97336868  0.02220907]"
       ]
      },
      {
       "output_type": "stream",
       "stream": "stdout",
       "text": [
        "\n",
        "0.2 3.5\n",
        "[ 0.96775652  0.0092741 ]"
       ]
      },
      {
       "output_type": "stream",
       "stream": "stdout",
       "text": [
        "\n",
        "0.2 3.6\n",
        "[ 0.96951082 -0.02024933]"
       ]
      },
      {
       "output_type": "stream",
       "stream": "stdout",
       "text": [
        "\n",
        "0.2 3.7\n",
        "[ 1.00230309 -0.07602815]"
       ]
      },
      {
       "output_type": "stream",
       "stream": "stdout",
       "text": [
        "\n",
        "0.2 3.8\n",
        "[ 1.09967671  0.00195462]"
       ]
      },
      {
       "output_type": "stream",
       "stream": "stdout",
       "text": [
        "\n",
        "0.2 3.9\n",
        "[-0.78732877 -0.32435188]"
       ]
      },
      {
       "output_type": "stream",
       "stream": "stdout",
       "text": [
        "\n",
        "0.2 4.0\n",
        "[-1.03164765  0.09406772]"
       ]
      },
      {
       "output_type": "stream",
       "stream": "stdout",
       "text": [
        "\n",
        "0.2 4.1\n",
        "[-0.96946689  0.02168288]"
       ]
      },
      {
       "output_type": "stream",
       "stream": "stdout",
       "text": [
        "\n",
        "0.2 4.2\n",
        "[-0.96962843 -0.01863637]"
       ]
      },
      {
       "output_type": "stream",
       "stream": "stdout",
       "text": [
        "\n",
        "0.2 4.3\n",
        "[-0.98208353 -0.02990536]"
       ]
      },
      {
       "output_type": "stream",
       "stream": "stdout",
       "text": [
        "\n",
        "0.2 4.4\n",
        "[-0.9940203  -0.02801652]"
       ]
      },
      {
       "output_type": "stream",
       "stream": "stdout",
       "text": [
        "\n",
        "0.2 4.5\n",
        "[-1.00279426 -0.02103617]"
       ]
      },
      {
       "output_type": "stream",
       "stream": "stdout",
       "text": [
        "\n",
        "0.2 4.6\n",
        "[-1.00840739 -0.01276854]"
       ]
      },
      {
       "output_type": "stream",
       "stream": "stdout",
       "text": [
        "\n",
        "0.2 4.7\n",
        "[-1.01148114 -0.00493286]"
       ]
      },
      {
       "output_type": "stream",
       "stream": "stdout",
       "text": [
        "\n",
        "0.2 4.8\n",
        "[-1.01268078  0.00177358]"
       ]
      },
      {
       "output_type": "stream",
       "stream": "stdout",
       "text": [
        "\n",
        "0.2 4.9\n",
        "[-1.01256433  0.0071513 ]"
       ]
      },
      {
       "output_type": "stream",
       "stream": "stdout",
       "text": [
        "\n",
        "0.2 5.0\n",
        "[-1.01156144  0.01123511]"
       ]
      },
      {
       "output_type": "stream",
       "stream": "stdout",
       "text": [
        "\n",
        "0.2 5.1\n",
        "[-1.00998948  0.01416047]"
       ]
      },
      {
       "output_type": "stream",
       "stream": "stdout",
       "text": [
        "\n",
        "0.2 5.2\n",
        "[-1.00807716  0.01609636]"
       ]
      },
      {
       "output_type": "stream",
       "stream": "stdout",
       "text": [
        "\n",
        "0.2 5.3\n",
        "[-1.0059862   0.01721262]"
       ]
      },
      {
       "output_type": "stream",
       "stream": "stdout",
       "text": [
        "\n",
        "0.2 5.4\n",
        "[-1.00382884  0.01766523]"
       ]
      },
      {
       "output_type": "stream",
       "stream": "stdout",
       "text": [
        "\n",
        "0.2 5.5\n",
        "[-1.00168126  0.01759073]"
       ]
      },
      {
       "output_type": "stream",
       "stream": "stdout",
       "text": [
        "\n",
        "0.2 5.6\n",
        "[-0.99959357  0.01710538]"
       ]
      },
      {
       "output_type": "stream",
       "stream": "stdout",
       "text": [
        "\n",
        "0.2 5.7\n",
        "[-0.99759712  0.01630637]"
       ]
      },
      {
       "output_type": "stream",
       "stream": "stdout",
       "text": [
        "\n",
        "0.2 5.8\n",
        "[-0.99570992  0.015274  ]"
       ]
      },
      {
       "output_type": "stream",
       "stream": "stdout",
       "text": [
        "\n",
        "0.2 5.9\n",
        "[-0.99394051  0.01407411]"
       ]
      },
      {
       "output_type": "stream",
       "stream": "stdout",
       "text": [
        "\n",
        "0.2 6.0\n",
        "[-0.99229076  0.01276033]"
       ]
      },
      {
       "output_type": "stream",
       "stream": "stdout",
       "text": [
        "\n",
        "0.2 6.1\n",
        "[-0.99075798  0.01137627]"
       ]
      },
      {
       "output_type": "stream",
       "stream": "stdout",
       "text": [
        "\n",
        "0.2 6.2\n",
        "[-0.98933632  0.0099573 ]"
       ]
      },
      {
       "output_type": "stream",
       "stream": "stdout",
       "text": [
        "\n",
        "0.2 6.3\n",
        "[-0.98801792  0.00853218]"
       ]
      },
      {
       "output_type": "stream",
       "stream": "stdout",
       "text": [
        "\n",
        "0.2 6.4\n",
        "[-0.98679362  0.00712442]"
       ]
      },
      {
       "output_type": "stream",
       "stream": "stdout",
       "text": [
        "\n",
        "0.2 6.5\n",
        "[-0.98565356  0.00575337]"
       ]
      },
      {
       "output_type": "stream",
       "stream": "stdout",
       "text": [
        "\n",
        "0.2 6.6\n",
        "[-0.98458754  0.00443529]"
       ]
      },
      {
       "output_type": "stream",
       "stream": "stdout",
       "text": [
        "\n",
        "0.2 6.7\n",
        "[-0.98358534  0.00318412]"
       ]
      },
      {
       "output_type": "stream",
       "stream": "stdout",
       "text": [
        "\n",
        "0.2 6.8\n",
        "[-0.98263694  0.00201229]"
       ]
      },
      {
       "output_type": "stream",
       "stream": "stdout",
       "text": [
        "\n",
        "0.2 6.9\n",
        "[ -9.81732694e-01   9.31373889e-04]"
       ]
      },
      {
       "output_type": "stream",
       "stream": "stdout",
       "text": [
        "\n",
        "0.2 7.0\n",
        "[ -9.80863447e-01  -4.72915164e-05]"
       ]
      },
      {
       "output_type": "stream",
       "stream": "stdout",
       "text": [
        "\n",
        "0.2 7.1\n",
        "[ -9.80020715e-01  -9.11968288e-04]"
       ]
      },
      {
       "output_type": "stream",
       "stream": "stdout",
       "text": [
        "\n",
        "0.2 7.2\n",
        "[-0.97919683 -0.00164991]"
       ]
      },
      {
       "output_type": "stream",
       "stream": "stdout",
       "text": [
        "\n",
        "0.2 7.3\n",
        "[-0.97838512 -0.00224671]"
       ]
      },
      {
       "output_type": "stream",
       "stream": "stdout",
       "text": [
        "\n",
        "0.2 7.4\n",
        "[-0.97758019 -0.00268556]"
       ]
      },
      {
       "output_type": "stream",
       "stream": "stdout",
       "text": [
        "\n",
        "0.2 7.5\n",
        "[-0.97677823 -0.00294645]"
       ]
      },
      {
       "output_type": "stream",
       "stream": "stdout",
       "text": [
        "\n",
        "0.2 7.6\n",
        "[-0.97597751 -0.0030052 ]"
       ]
      },
      {
       "output_type": "stream",
       "stream": "stdout",
       "text": [
        "\n",
        "0.2 7.7\n",
        "[-0.97517905 -0.00283233]"
       ]
      },
      {
       "output_type": "stream",
       "stream": "stdout",
       "text": [
        "\n",
        "0.2 7.8\n",
        "[-0.9743875  -0.00239162]"
       ]
      },
      {
       "output_type": "stream",
       "stream": "stdout",
       "text": [
        "\n",
        "0.2 7.9\n",
        "[-0.9736125  -0.00163842]"
       ]
      },
      {
       "output_type": "stream",
       "stream": "stdout",
       "text": [
        "\n",
        "0.2 8.0\n",
        "[ -9.72870504e-01  -5.17580308e-04]"
       ]
      },
      {
       "output_type": "stream",
       "stream": "stdout",
       "text": [
        "\n",
        "0.2 8.1\n",
        "[-0.97218738  0.00103925]"
       ]
      },
      {
       "output_type": "stream",
       "stream": "stdout",
       "text": [
        "\n",
        "0.2 8.2\n",
        "[-0.97160225  0.00311677]"
       ]
      },
      {
       "output_type": "stream",
       "stream": "stdout",
       "text": [
        "\n",
        "0.2 8.3\n",
        "[-0.97117289  0.00581992]"
       ]
      },
      {
       "output_type": "stream",
       "stream": "stdout",
       "text": [
        "\n",
        "0.2 8.4\n",
        "[-0.97098375  0.00927839]"
       ]
      },
      {
       "output_type": "stream",
       "stream": "stdout",
       "text": [
        "\n",
        "0.2 8.5\n",
        "[-0.97115773  0.01365149]"
       ]
      },
      {
       "output_type": "stream",
       "stream": "stdout",
       "text": [
        "\n",
        "0.2 8.6\n",
        "[-0.9718737   0.01913229]"
       ]
      },
      {
       "output_type": "stream",
       "stream": "stdout",
       "text": [
        "\n",
        "0.2 8.7\n",
        "[-0.97339283  0.02594861]"
       ]
      },
      {
       "output_type": "stream",
       "stream": "stdout",
       "text": [
        "\n",
        "0.2 8.8\n",
        "[-0.97609838  0.03435393]"
       ]
      },
      {
       "output_type": "stream",
       "stream": "stdout",
       "text": [
        "\n",
        "0.2 8.9\n",
        "[-0.98055525  0.04459183]"
       ]
      },
      {
       "output_type": "stream",
       "stream": "stdout",
       "text": [
        "\n",
        "0.2 9.0\n",
        "[-0.9875966   0.05679179]"
       ]
      },
      {
       "output_type": "stream",
       "stream": "stdout",
       "text": [
        "\n",
        "0.2 9.1\n",
        "[-0.99843676  0.07068642]"
       ]
      },
      {
       "output_type": "stream",
       "stream": "stdout",
       "text": [
        "\n",
        "0.2 9.2\n",
        "[-1.01476131  0.08485186]"
       ]
      },
      {
       "output_type": "stream",
       "stream": "stdout",
       "text": [
        "\n",
        "0.2 9.3\n",
        "[-1.03851485  0.09463303]"
       ]
      },
      {
       "output_type": "stream",
       "stream": "stdout",
       "text": [
        "\n",
        "0.2 9.4\n",
        "[-1.070042    0.08643627]"
       ]
      },
      {
       "output_type": "stream",
       "stream": "stdout",
       "text": [
        "\n",
        "0.2 9.5\n",
        "[-1.09816327  0.02364903]"
       ]
      },
      {
       "output_type": "stream",
       "stream": "stdout",
       "text": [
        "\n",
        "0.2 9.6\n",
        "[-1.05283172 -0.16120455]"
       ]
      },
      {
       "output_type": "stream",
       "stream": "stdout",
       "text": [
        "\n",
        "0.2 9.7\n",
        "[-0.65156414 -0.31547342]"
       ]
      },
      {
       "output_type": "stream",
       "stream": "stdout",
       "text": [
        "\n",
        "0.2 9.8\n",
        "[ 0.35480237  0.20613045]"
       ]
      },
      {
       "output_type": "stream",
       "stream": "stdout",
       "text": [
        "\n",
        "0.2 9.9\n",
        "[ 1.00975341  0.21997463]"
       ]
      },
      {
       "output_type": "stream",
       "stream": "stdout",
       "text": [
        "\n",
        "0.3 0.0\n",
        "[ 1.00112977 -0.00760796]"
       ]
      },
      {
       "output_type": "stream",
       "stream": "stdout",
       "text": [
        "\n",
        "0.3 0.1\n",
        "[ 0.99888432 -0.0053606 ]"
       ]
      },
      {
       "output_type": "stream",
       "stream": "stdout",
       "text": [
        "\n",
        "0.3 0.2\n",
        "[ 0.9975466 -0.0030165]"
       ]
      },
      {
       "output_type": "stream",
       "stream": "stdout",
       "text": [
        "\n",
        "0.3 0.3\n",
        "[  9.96857854e-01  -9.13702490e-04]"
       ]
      },
      {
       "output_type": "stream",
       "stream": "stdout",
       "text": [
        "\n",
        "0.3 0.4\n",
        "[  9.96614068e-01   8.59469056e-04]"
       ]
      },
      {
       "output_type": "stream",
       "stream": "stdout",
       "text": [
        "\n",
        "0.3 0.5\n",
        "[ 0.9966695   0.00230839]"
       ]
      },
      {
       "output_type": "stream",
       "stream": "stdout",
       "text": [
        "\n",
        "0.3 0.6\n",
        "[ 0.99692292  0.00347105]"
       ]
      },
      {
       "output_type": "stream",
       "stream": "stdout",
       "text": [
        "\n",
        "0.3 0.7\n",
        "[ 0.99730443  0.00439386]"
       ]
      },
      {
       "output_type": "stream",
       "stream": "stdout",
       "text": [
        "\n",
        "0.3 0.8\n",
        "[ 0.99776564  0.00512221]"
       ]
      },
      {
       "output_type": "stream",
       "stream": "stdout",
       "text": [
        "\n",
        "0.3 0.9\n",
        "[ 0.99827281  0.00569733]"
       ]
      },
      {
       "output_type": "stream",
       "stream": "stdout",
       "text": [
        "\n",
        "0.3 1.0\n",
        "[ 0.99880219  0.00615557]"
       ]
      },
      {
       "output_type": "stream",
       "stream": "stdout",
       "text": [
        "\n",
        "0.3 1.1\n",
        "[ 0.9993368   0.00652876]"
       ]
      },
      {
       "output_type": "stream",
       "stream": "stdout",
       "text": [
        "\n",
        "0.3 1.2\n",
        "[ 0.99986418  0.0068449 ]"
       ]
      },
      {
       "output_type": "stream",
       "stream": "stdout",
       "text": [
        "\n",
        "0.3 1.3\n",
        "[ 1.00037482  0.00712896]"
       ]
      },
      {
       "output_type": "stream",
       "stream": "stdout",
       "text": [
        "\n",
        "0.3 1.4\n",
        "[ 1.00086096  0.00740364]"
       ]
      },
      {
       "output_type": "stream",
       "stream": "stdout",
       "text": [
        "\n",
        "0.3 1.5\n",
        "[ 1.00131568  0.00769005]"
       ]
      },
      {
       "output_type": "stream",
       "stream": "stdout",
       "text": [
        "\n",
        "0.3 1.6\n",
        "[ 1.00173212  0.00800839]"
       ]
      },
      {
       "output_type": "stream",
       "stream": "stdout",
       "text": [
        "\n",
        "0.3 1.7\n",
        "[ 1.00210277  0.00837844]"
       ]
      },
      {
       "output_type": "stream",
       "stream": "stdout",
       "text": [
        "\n",
        "0.3 1.8\n",
        "[ 1.00241879  0.00882011]"
       ]
      },
      {
       "output_type": "stream",
       "stream": "stdout",
       "text": [
        "\n",
        "0.3 1.9\n",
        "[ 1.00266919  0.00935385]"
       ]
      },
      {
       "output_type": "stream",
       "stream": "stdout",
       "text": [
        "\n",
        "0.3 2.0\n",
        "[ 1.00283996  0.01000095]"
       ]
      },
      {
       "output_type": "stream",
       "stream": "stdout",
       "text": [
        "\n",
        "0.3 2.1\n",
        "[ 1.00291293  0.01078373]"
       ]
      },
      {
       "output_type": "stream",
       "stream": "stdout",
       "text": [
        "\n",
        "0.3 2.2\n",
        "[ 1.00286437  0.0117255 ]"
       ]
      },
      {
       "output_type": "stream",
       "stream": "stdout",
       "text": [
        "\n",
        "0.3 2.3\n",
        "[ 1.00266314  0.01284999]"
       ]
      },
      {
       "output_type": "stream",
       "stream": "stdout",
       "text": [
        "\n",
        "0.3 2.4\n",
        "[ 1.00226829  0.01418012]"
       ]
      },
      {
       "output_type": "stream",
       "stream": "stdout",
       "text": [
        "\n",
        "0.3 2.5\n",
        "[ 1.00162598  0.01573536]"
       ]
      },
      {
       "output_type": "stream",
       "stream": "stdout",
       "text": [
        "\n",
        "0.3 2.6\n",
        "[ 1.00066549  0.01752664]"
       ]
      },
      {
       "output_type": "stream",
       "stream": "stdout",
       "text": [
        "\n",
        "0.3 2.7\n",
        "[ 0.99929428  0.01954683]"
       ]
      },
      {
       "output_type": "stream",
       "stream": "stdout",
       "text": [
        "\n",
        "0.3 2.8\n",
        "[ 0.99739256  0.0217531 ]"
       ]
      },
      {
       "output_type": "stream",
       "stream": "stdout",
       "text": [
        "\n",
        "0.3 2.9\n",
        "[ 0.99480863  0.02403384]"
       ]
      },
      {
       "output_type": "stream",
       "stream": "stdout",
       "text": [
        "\n",
        "0.3 3.0\n",
        "[ 0.9913599   0.02614608]"
       ]
      },
      {
       "output_type": "stream",
       "stream": "stdout",
       "text": [
        "\n",
        "0.3 3.1\n",
        "[ 0.98685345  0.02759397]"
       ]
      },
      {
       "output_type": "stream",
       "stream": "stdout",
       "text": [
        "\n",
        "0.3 3.2\n",
        "[ 0.98116736  0.02738583]"
       ]
      },
      {
       "output_type": "stream",
       "stream": "stdout",
       "text": [
        "\n",
        "0.3 3.3\n",
        "[ 0.97452001  0.02353196]"
       ]
      },
      {
       "output_type": "stream",
       "stream": "stdout",
       "text": [
        "\n",
        "0.3 3.4\n",
        "[ 0.96835216  0.01198497]"
       ]
      },
      {
       "output_type": "stream",
       "stream": "stdout",
       "text": [
        "\n",
        "0.3 3.5\n",
        "[ 0.96840313 -0.01539507]"
       ]
      },
      {
       "output_type": "stream",
       "stream": "stdout",
       "text": [
        "\n",
        "0.3 3.6\n",
        "[ 0.99628195 -0.06986963]"
       ]
      },
      {
       "output_type": "stream",
       "stream": "stdout",
       "text": [
        "\n",
        "0.3 3.7\n",
        "[ 1.09733117 -0.03110994]"
       ]
      },
      {
       "output_type": "stream",
       "stream": "stdout",
       "text": [
        "\n",
        "0.3 3.8\n",
        "[-0.65848304 -0.31677949]"
       ]
      },
      {
       "output_type": "stream",
       "stream": "stdout",
       "text": [
        "\n",
        "0.3 3.9\n",
        "[-1.03692744  0.09531618]"
       ]
      },
      {
       "output_type": "stream",
       "stream": "stdout",
       "text": [
        "\n",
        "0.3 4.0\n",
        "[-0.96994411  0.02333976]"
       ]
      },
      {
       "output_type": "stream",
       "stream": "stdout",
       "text": [
        "\n",
        "0.3 4.1\n",
        "[-0.96950526 -0.01831463]"
       ]
      },
      {
       "output_type": "stream",
       "stream": "stdout",
       "text": [
        "\n",
        "0.3 4.2\n",
        "[-0.98206407 -0.02986657]"
       ]
      },
      {
       "output_type": "stream",
       "stream": "stdout",
       "text": [
        "\n",
        "0.3 4.3\n",
        "[-0.9940992  -0.02793288]"
       ]
      },
      {
       "output_type": "stream",
       "stream": "stdout",
       "text": [
        "\n",
        "0.3 4.4\n",
        "[-1.00289168 -0.0208615 ]"
       ]
      },
      {
       "output_type": "stream",
       "stream": "stdout",
       "text": [
        "\n",
        "0.3 4.5\n",
        "[-1.0084695  -0.01253861]"
       ]
      },
      {
       "output_type": "stream",
       "stream": "stdout",
       "text": [
        "\n",
        "0.3 4.6\n",
        "[-1.01148402 -0.00469544]"
       ]
      },
      {
       "output_type": "stream",
       "stream": "stdout",
       "text": [
        "\n",
        "0.3 4.7\n",
        "[-1.01262014  0.00198011]"
       ]
      },
      {
       "output_type": "stream",
       "stream": "stdout",
       "text": [
        "\n",
        "0.3 4.8\n",
        "[-1.01244653  0.00730195]"
       ]
      },
      {
       "output_type": "stream",
       "stream": "stdout",
       "text": [
        "\n",
        "0.3 4.9\n",
        "[-1.01139752  0.01131655]"
       ]
      },
      {
       "output_type": "stream",
       "stream": "stdout",
       "text": [
        "\n",
        "0.3 5.0\n",
        "[-1.00979179  0.01416801]"
       ]
      },
      {
       "output_type": "stream",
       "stream": "stdout",
       "text": [
        "\n",
        "0.3 5.1\n",
        "[-1.00785752  0.0160311 ]"
       ]
      },
      {
       "output_type": "stream",
       "stream": "stdout",
       "text": [
        "\n",
        "0.3 5.2\n",
        "[-1.00575506  0.01707923]"
       ]
      },
      {
       "output_type": "stream",
       "stream": "stdout",
       "text": [
        "\n",
        "0.3 5.3\n",
        "[-1.00359498  0.01747029]"
       ]
      },
      {
       "output_type": "stream",
       "stream": "stdout",
       "text": [
        "\n",
        "0.3 5.4\n",
        "[-1.00145177  0.0173417 ]"
       ]
      },
      {
       "output_type": "stream",
       "stream": "stdout",
       "text": [
        "\n",
        "0.3 5.5\n",
        "[-0.99937397  0.0168098 ]"
       ]
      },
      {
       "output_type": "stream",
       "stream": "stdout",
       "text": [
        "\n",
        "0.3 5.6\n",
        "[-0.9973916   0.01597148]"
       ]
      },
      {
       "output_type": "stream",
       "stream": "stdout",
       "text": [
        "\n",
        "0.3 5.7\n",
        "[-0.9955215   0.01490644]"
       ]
      },
      {
       "output_type": "stream",
       "stream": "stdout",
       "text": [
        "\n",
        "0.3 5.8\n",
        "[-0.99377123  0.01367979]"
       ]
      },
      {
       "output_type": "stream",
       "stream": "stdout",
       "text": [
        "\n",
        "0.3 5.9\n",
        "[-0.9921419  0.0123444]"
       ]
      },
      {
       "output_type": "stream",
       "stream": "stdout",
       "text": [
        "\n",
        "0.3 6.0\n",
        "[-0.99063016  0.0109431 ]"
       ]
      },
      {
       "output_type": "stream",
       "stream": "stdout",
       "text": [
        "\n",
        "0.3 6.1\n",
        "[-0.98922969  0.00951052]"
       ]
      },
      {
       "output_type": "stream",
       "stream": "stdout",
       "text": [
        "\n",
        "0.3 6.2\n",
        "[-0.98793219  0.00807472]"
       ]
      },
      {
       "output_type": "stream",
       "stream": "stdout",
       "text": [
        "\n",
        "0.3 6.3\n",
        "[-0.98672821  0.00665855]"
       ]
      },
      {
       "output_type": "stream",
       "stream": "stdout",
       "text": [
        "\n",
        "0.3 6.4\n",
        "[-0.98560761  0.00528076]"
       ]
      },
      {
       "output_type": "stream",
       "stream": "stdout",
       "text": [
        "\n",
        "0.3 6.5\n",
        "[-0.98456002  0.00395705]"
       ]
      },
      {
       "output_type": "stream",
       "stream": "stdout",
       "text": [
        "\n",
        "0.3 6.6\n",
        "[-0.98357505  0.00270088]"
       ]
      },
      {
       "output_type": "stream",
       "stream": "stdout",
       "text": [
        "\n",
        "0.3 6.7\n",
        "[-0.98264253  0.00152419]"
       ]
      },
      {
       "output_type": "stream",
       "stream": "stdout",
       "text": [
        "\n",
        "0.3 6.8\n",
        "[ -9.81752697e-01   4.38119476e-04]"
       ]
      },
      {
       "output_type": "stream",
       "stream": "stdout",
       "text": [
        "\n",
        "0.3 6.9\n",
        "[ -9.80896283e-01  -5.46394498e-04]"
       ]
      },
      {
       "output_type": "stream",
       "stream": "stdout",
       "text": [
        "\n",
        "0.3 7.0\n",
        "[-0.98006468 -0.00141801]"
       ]
      },
      {
       "output_type": "stream",
       "stream": "stdout",
       "text": [
        "\n",
        "0.3 7.1\n",
        "[-0.97925009 -0.00216437]"
       ]
      },
      {
       "output_type": "stream",
       "stream": "stdout",
       "text": [
        "\n",
        "0.3 7.2\n",
        "[-0.97844569 -0.00277143]"
       ]
      },
      {
       "output_type": "stream",
       "stream": "stdout",
       "text": [
        "\n",
        "0.3 7.3\n",
        "[-0.97764588 -0.00322278]"
       ]
      },
      {
       "output_type": "stream",
       "stream": "stdout",
       "text": [
        "\n",
        "0.3 7.4\n",
        "[-0.97684662 -0.0034988 ]"
       ]
      },
      {
       "output_type": "stream",
       "stream": "stdout",
       "text": [
        "\n",
        "0.3 7.5\n",
        "[-0.97604591 -0.0035757 ]"
       ]
      },
      {
       "output_type": "stream",
       "stream": "stdout",
       "text": [
        "\n",
        "0.3 7.6\n",
        "[-0.97524436 -0.00342443]"
       ]
      },
      {
       "output_type": "stream",
       "stream": "stdout",
       "text": [
        "\n",
        "0.3 7.7\n",
        "[-0.97444618 -0.00300923]"
       ]
      },
      {
       "output_type": "stream",
       "stream": "stdout",
       "text": [
        "\n",
        "0.3 7.8\n",
        "[-0.9736604  -0.00228593]"
       ]
      },
      {
       "output_type": "stream",
       "stream": "stdout",
       "text": [
        "\n",
        "0.3 7.9\n",
        "[-0.9729027  -0.00119987]"
       ]
      },
      {
       "output_type": "stream",
       "stream": "stdout",
       "text": [
        "\n",
        "0.3 8.0\n",
        "[ -9.72197984e-01   3.16785498e-04]"
       ]
      },
      {
       "output_type": "stream",
       "stream": "stdout",
       "text": [
        "\n",
        "0.3 8.1\n",
        "[-0.97158409  0.00234822]"
       ]
      },
      {
       "output_type": "stream",
       "stream": "stdout",
       "text": [
        "\n",
        "0.3 8.2\n",
        "[-0.97111718  0.00499894]"
       ]
      },
      {
       "output_type": "stream",
       "stream": "stdout",
       "text": [
        "\n",
        "0.3 8.3\n",
        "[-0.97087958  0.00839837]"
       ]
      },
      {
       "output_type": "stream",
       "stream": "stdout",
       "text": [
        "\n",
        "0.3 8.4\n",
        "[-0.97099142  0.01270587]"
       ]
      },
      {
       "output_type": "stream",
       "stream": "stdout",
       "text": [
        "\n",
        "0.3 8.5\n",
        "[-0.97162797  0.01811533]"
       ]
      },
      {
       "output_type": "stream",
       "stream": "stdout",
       "text": [
        "\n",
        "0.3 8.6\n",
        "[-0.97304568  0.02485679]"
       ]
      },
      {
       "output_type": "stream",
       "stream": "stdout",
       "text": [
        "\n",
        "0.3 8.7\n",
        "[-0.9756217   0.03318877]"
       ]
      },
      {
       "output_type": "stream",
       "stream": "stdout",
       "text": [
        "\n",
        "0.3 8.8\n",
        "[-0.97991327  0.04336561]"
       ]
      },
      {
       "output_type": "stream",
       "stream": "stdout",
       "text": [
        "\n",
        "0.3 8.9\n",
        "[-0.98674479  0.05553936]"
       ]
      },
      {
       "output_type": "stream",
       "stream": "stdout",
       "text": [
        "\n",
        "0.3 9.0\n",
        "[-0.99732334  0.06949067]"
       ]
      },
      {
       "output_type": "stream",
       "stream": "stdout",
       "text": [
        "\n",
        "0.3 9.1\n",
        "[-1.01333899  0.08390062]"
       ]
      },
      {
       "output_type": "stream",
       "stream": "stdout",
       "text": [
        "\n",
        "0.3 9.2\n",
        "[-1.03678986  0.09435007]"
       ]
      },
      {
       "output_type": "stream",
       "stream": "stdout",
       "text": [
        "\n",
        "0.3 9.3\n",
        "[-1.06826106  0.08777078]"
       ]
      },
      {
       "output_type": "stream",
       "stream": "stdout",
       "text": [
        "\n",
        "0.3 9.4\n",
        "[-1.09752641  0.02847586]"
       ]
      },
      {
       "output_type": "stream",
       "stream": "stdout",
       "text": [
        "\n",
        "0.3 9.5\n",
        "[-1.05796008 -0.15213394]"
       ]
      },
      {
       "output_type": "stream",
       "stream": "stdout",
       "text": [
        "\n",
        "0.3 9.6\n",
        "[-0.67262074 -0.31908317]"
       ]
      },
      {
       "output_type": "stream",
       "stream": "stdout",
       "text": [
        "\n",
        "0.3 9.7\n",
        "[ 0.33189819  0.19439818]"
       ]
      },
      {
       "output_type": "stream",
       "stream": "stdout",
       "text": [
        "\n",
        "0.3 9.8\n",
        "[ 1.00524418  0.22478706]"
       ]
      },
      {
       "output_type": "stream",
       "stream": "stdout",
       "text": [
        "\n",
        "0.3 9.9\n",
        "[ 1.09804282 -0.02784913]"
       ]
      },
      {
       "output_type": "stream",
       "stream": "stdout",
       "text": [
        "\n",
        "0.4 0.0\n",
        "[ 0.9984633  -0.00442436]"
       ]
      },
      {
       "output_type": "stream",
       "stream": "stdout",
       "text": [
        "\n",
        "0.4 0.1\n",
        "[ 0.99747803 -0.00229195]"
       ]
      },
      {
       "output_type": "stream",
       "stream": "stdout",
       "text": [
        "\n",
        "0.4 0.2\n",
        "[  9.97016884e-01  -4.36757927e-04]"
       ]
      },
      {
       "output_type": "stream",
       "stream": "stdout",
       "text": [
        "\n",
        "0.4 0.3\n",
        "[ 0.99691443  0.00110515]"
       ]
      },
      {
       "output_type": "stream",
       "stream": "stdout",
       "text": [
        "\n",
        "0.4 0.4\n",
        "[ 0.99705372  0.00235437]"
       ]
      },
      {
       "output_type": "stream",
       "stream": "stdout",
       "text": [
        "\n",
        "0.4 0.5\n",
        "[ 0.99735337  0.00335031]"
       ]
      },
      {
       "output_type": "stream",
       "stream": "stdout",
       "text": [
        "\n",
        "0.4 0.6\n",
        "[ 0.99775688  0.00413594]"
       ]
      },
      {
       "output_type": "stream",
       "stream": "stdout",
       "text": [
        "\n",
        "0.4 0.7\n",
        "[ 0.99822483  0.00475199]"
       ]
      },
      {
       "output_type": "stream",
       "stream": "stdout",
       "text": [
        "\n",
        "0.4 0.8\n",
        "[ 0.99872956  0.00523509]"
       ]
      },
      {
       "output_type": "stream",
       "stream": "stdout",
       "text": [
        "\n",
        "0.4 0.9\n",
        "[ 0.99925145  0.0056175 ]"
       ]
      },
      {
       "output_type": "stream",
       "stream": "stdout",
       "text": [
        "\n",
        "0.4 1.0\n",
        "[ 0.99977637  0.00592764]"
       ]
      },
      {
       "output_type": "stream",
       "stream": "stdout",
       "text": [
        "\n",
        "0.4 1.1\n",
        "[ 1.00029387  0.00619066]"
       ]
      },
      {
       "output_type": "stream",
       "stream": "stdout",
       "text": [
        "\n",
        "0.4 1.2\n",
        "[ 1.00079588  0.00642926]"
       ]
      },
      {
       "output_type": "stream",
       "stream": "stdout",
       "text": [
        "\n",
        "0.4 1.3\n",
        "[ 1.00127573  0.00666429]"
       ]
      },
      {
       "output_type": "stream",
       "stream": "stdout",
       "text": [
        "\n",
        "0.4 1.4\n",
        "[ 1.00172734  0.00691539]"
       ]
      },
      {
       "output_type": "stream",
       "stream": "stdout",
       "text": [
        "\n",
        "0.4 1.5\n",
        "[ 1.00214457  0.0072016 ]"
       ]
      },
      {
       "output_type": "stream",
       "stream": "stdout",
       "text": [
        "\n",
        "0.4 1.6\n",
        "[ 1.00252057  0.00754186]"
       ]
      },
      {
       "output_type": "stream",
       "stream": "stdout",
       "text": [
        "\n",
        "0.4 1.7\n",
        "[ 1.00284712  0.00795547]"
       ]
      },
      {
       "output_type": "stream",
       "stream": "stdout",
       "text": [
        "\n",
        "0.4 1.8\n",
        "[ 1.00311391  0.00846253]"
       ]
      },
      {
       "output_type": "stream",
       "stream": "stdout",
       "text": [
        "\n",
        "0.4 1.9\n",
        "[ 1.00330768  0.00908427]"
       ]
      },
      {
       "output_type": "stream",
       "stream": "stdout",
       "text": [
        "\n",
        "0.4 2.0\n",
        "[ 1.0034111   0.00984333]"
       ]
      },
      {
       "output_type": "stream",
       "stream": "stdout",
       "text": [
        "\n",
        "0.4 2.1\n",
        "[ 1.0034014  0.0107637]"
       ]
      },
      {
       "output_type": "stream",
       "stream": "stdout",
       "text": [
        "\n",
        "0.4 2.2\n",
        "[ 1.00324854  0.01187042]"
       ]
      },
      {
       "output_type": "stream",
       "stream": "stdout",
       "text": [
        "\n",
        "0.4 2.3\n",
        "[ 1.00291284  0.01318854]"
       ]
      },
      {
       "output_type": "stream",
       "stream": "stdout",
       "text": [
        "\n",
        "0.4 2.4\n",
        "[ 1.00234185  0.01474087]"
       ]
      },
      {
       "output_type": "stream",
       "stream": "stdout",
       "text": [
        "\n",
        "0.4 2.5\n",
        "[ 1.00146624  0.01654349]"
       ]
      },
      {
       "output_type": "stream",
       "stream": "stdout",
       "text": [
        "\n",
        "0.4 2.6\n",
        "[ 1.0001947   0.01859722]"
       ]
      },
      {
       "output_type": "stream",
       "stream": "stdout",
       "text": [
        "\n",
        "0.4 2.7\n",
        "[ 0.99840788  0.02087156]"
       ]
      },
      {
       "output_type": "stream",
       "stream": "stdout",
       "text": [
        "\n",
        "0.4 2.8\n",
        "[ 0.99595262  0.02327435]"
       ]
      },
      {
       "output_type": "stream",
       "stream": "stdout",
       "text": [
        "\n",
        "0.4 2.9\n",
        "[ 0.99264028  0.02559386]"
       ]
      },
      {
       "output_type": "stream",
       "stream": "stdout",
       "text": [
        "\n",
        "0.4 3.0\n",
        "[ 0.98826117  0.02738574]"
       ]
      },
      {
       "output_type": "stream",
       "stream": "stdout",
       "text": [
        "\n",
        "0.4 3.1\n",
        "[ 0.98265096  0.02774574]"
       ]
      },
      {
       "output_type": "stream",
       "stream": "stdout",
       "text": [
        "\n",
        "0.4 3.2\n",
        "[ 0.97592097  0.02483707]"
       ]
      },
      {
       "output_type": "stream",
       "stream": "stdout",
       "text": [
        "\n",
        "0.4 3.3\n",
        "[ 0.96922737  0.01487999]"
       ]
      },
      {
       "output_type": "stream",
       "stream": "stdout",
       "text": [
        "\n",
        "0.4 3.4\n",
        "[ 0.96748031 -0.00989195]"
       ]
      },
      {
       "output_type": "stream",
       "stream": "stdout",
       "text": [
        "\n",
        "0.4 3.5\n",
        "[ 0.98973405 -0.06191459]"
       ]
      },
      {
       "output_type": "stream",
       "stream": "stdout",
       "text": [
        "\n",
        "0.4 3.6\n",
        "[ 1.08855409 -0.06194195]"
       ]
      },
      {
       "output_type": "stream",
       "stream": "stdout",
       "text": [
        "\n",
        "0.4 3.7\n",
        "[-0.43051859 -0.2422532 ]"
       ]
      },
      {
       "output_type": "stream",
       "stream": "stdout",
       "text": [
        "\n",
        "0.4 3.8\n",
        "[-1.0454846   0.09603683]"
       ]
      },
      {
       "output_type": "stream",
       "stream": "stdout",
       "text": [
        "\n",
        "0.4 3.9\n",
        "[-0.97088878  0.02637904]"
       ]
      },
      {
       "output_type": "stream",
       "stream": "stdout",
       "text": [
        "\n",
        "0.4 4.0\n",
        "[-0.96919352 -0.01753111]"
       ]
      },
      {
       "output_type": "stream",
       "stream": "stdout",
       "text": [
        "\n",
        "0.4 4.1\n",
        "[-0.98180214 -0.02977301]"
       ]
      },
      {
       "output_type": "stream",
       "stream": "stdout",
       "text": [
        "\n",
        "0.4 4.2\n",
        "[-0.99399364 -0.02794406]"
       ]
      },
      {
       "output_type": "stream",
       "stream": "stdout",
       "text": [
        "\n",
        "0.4 4.3\n",
        "[-1.00286948 -0.02082313]"
       ]
      },
      {
       "output_type": "stream",
       "stream": "stdout",
       "text": [
        "\n",
        "0.4 4.4\n",
        "[-1.00846298 -0.01244273]"
       ]
      },
      {
       "output_type": "stream",
       "stream": "stdout",
       "text": [
        "\n",
        "0.4 4.5\n",
        "[-1.01145444 -0.00457385]"
       ]
      },
      {
       "output_type": "stream",
       "stream": "stdout",
       "text": [
        "\n",
        "0.4 4.6\n",
        "[-1.01255149  0.00209309]"
       ]
      },
      {
       "output_type": "stream",
       "stream": "stdout",
       "text": [
        "\n",
        "0.4 4.7\n",
        "[-1.01233666  0.00738044]"
       ]
      },
      {
       "output_type": "stream",
       "stream": "stdout",
       "text": [
        "\n",
        "0.4 4.8\n",
        "[-1.01125158  0.01134456]"
       ]
      },
      {
       "output_type": "stream",
       "stream": "stdout",
       "text": [
        "\n",
        "0.4 4.9\n",
        "[-1.00961808  0.01413774]"
       ]
      },
      {
       "output_type": "stream",
       "stream": "stdout",
       "text": [
        "\n",
        "0.4 5.0\n",
        "[-1.00766516  0.0159407 ]"
       ]
      },
      {
       "output_type": "stream",
       "stream": "stdout",
       "text": [
        "\n",
        "0.4 5.1\n",
        "[-1.00555271  0.01693078]"
       ]
      },
      {
       "output_type": "stream",
       "stream": "stdout",
       "text": [
        "\n",
        "0.4 5.2\n",
        "[-1.00339023  0.01726824]"
       ]
      },
      {
       "output_type": "stream",
       "stream": "stdout",
       "text": [
        "\n",
        "0.4 5.3\n",
        "[-1.00125097  0.0170917 ]"
       ]
      },
      {
       "output_type": "stream",
       "stream": "stdout",
       "text": [
        "\n",
        "0.4 5.4\n",
        "[-0.99918221  0.01651798]"
       ]
      },
      {
       "output_type": "stream",
       "stream": "stdout",
       "text": [
        "\n",
        "0.4 5.5\n",
        "[-0.9972128  0.0156439]"
       ]
      },
      {
       "output_type": "stream",
       "stream": "stdout",
       "text": [
        "\n",
        "0.4 5.6\n",
        "[-0.99535855  0.01454884]"
       ]
      },
      {
       "output_type": "stream",
       "stream": "stdout",
       "text": [
        "\n",
        "0.4 5.7\n",
        "[-0.99362616  0.01329734]"
       ]
      },
      {
       "output_type": "stream",
       "stream": "stdout",
       "text": [
        "\n",
        "0.4 5.8\n",
        "[-0.99201601  0.01194168]"
       ]
      },
      {
       "output_type": "stream",
       "stream": "stdout",
       "text": [
        "\n",
        "0.4 5.9\n",
        "[-0.99052416  0.01052401]"
       ]
      },
      {
       "output_type": "stream",
       "stream": "stdout",
       "text": [
        "\n",
        "0.4 6.0\n",
        "[-0.98914378  0.00907831]"
       ]
      },
      {
       "output_type": "stream",
       "stream": "stdout",
       "text": [
        "\n",
        "0.4 6.1\n",
        "[-0.98786622  0.00763203]"
       ]
      },
      {
       "output_type": "stream",
       "stream": "stdout",
       "text": [
        "\n",
        "0.4 6.2\n",
        "[-0.9866817  0.0062074]"
       ]
      },
      {
       "output_type": "stream",
       "stream": "stdout",
       "text": [
        "\n",
        "0.4 6.3\n",
        "[-0.98557984  0.00482263]"
       ]
      },
      {
       "output_type": "stream",
       "stream": "stdout",
       "text": [
        "\n",
        "0.4 6.4\n",
        "[-0.98455005  0.0034929 ]"
       ]
      },
      {
       "output_type": "stream",
       "stream": "stdout",
       "text": [
        "\n",
        "0.4 6.5\n",
        "[-0.98358179  0.00223118]"
       ]
      },
      {
       "output_type": "stream",
       "stream": "stdout",
       "text": [
        "\n",
        "0.4 6.6\n",
        "[-0.98266475  0.00104895]"
       ]
      },
      {
       "output_type": "stream",
       "stream": "stdout",
       "text": [
        "\n",
        "0.4 6.7\n",
        "[ -9.81789034e-01  -4.30585950e-05]"
       ]
      },
      {
       "output_type": "stream",
       "stream": "stdout",
       "text": [
        "\n",
        "0.4 6.8\n",
        "[-0.98094525 -0.00103434]"
       ]
      },
      {
       "output_type": "stream",
       "stream": "stdout",
       "text": [
        "\n",
        "0.4 6.9\n",
        "[-0.98012467 -0.00191394]"
       ]
      },
      {
       "output_type": "stream",
       "stream": "stdout",
       "text": [
        "\n",
        "0.4 7.0\n",
        "[-0.97931934 -0.00266989]"
       ]
      },
      {
       "output_type": "stream",
       "stream": "stdout",
       "text": [
        "\n",
        "0.4 7.1\n",
        "[-0.97852227 -0.00328856]"
       ]
      },
      {
       "output_type": "stream",
       "stream": "stdout",
       "text": [
        "\n",
        "0.4 7.2\n",
        "[-0.97772768 -0.00375393]"
       ]
      },
      {
       "output_type": "stream",
       "stream": "stdout",
       "text": [
        "\n",
        "0.4 7.3\n",
        "[-0.97693127 -0.0040468 ]"
       ]
      },
      {
       "output_type": "stream",
       "stream": "stdout",
       "text": [
        "\n",
        "0.4 7.4\n",
        "[-0.97613071 -0.00414385]"
       ]
      },
      {
       "output_type": "stream",
       "stream": "stdout",
       "text": [
        "\n",
        "0.4 7.5\n",
        "[-0.97532624 -0.00401649]"
       ]
      },
      {
       "output_type": "stream",
       "stream": "stdout",
       "text": [
        "\n",
        "0.4 7.6\n",
        "[-0.97452155 -0.00362949]"
       ]
      },
      {
       "output_type": "stream",
       "stream": "stdout",
       "text": [
        "\n",
        "0.4 7.7\n",
        "[-0.97372502 -0.00293924]"
       ]
      },
      {
       "output_type": "stream",
       "stream": "stdout",
       "text": [
        "\n",
        "0.4 7.8\n",
        "[-0.97295151 -0.00189168]"
       ]
      },
      {
       "output_type": "stream",
       "stream": "stdout",
       "text": [
        "\n",
        "0.4 7.9\n",
        "[ -9.72224834e-01  -4.19635221e-04]"
       ]
      },
      {
       "output_type": "stream",
       "stream": "stdout",
       "text": [
        "\n",
        "0.4 8.0\n",
        "[-0.97158146  0.00156041]"
       ]
      },
      {
       "output_type": "stream",
       "stream": "stdout",
       "text": [
        "\n",
        "0.4 8.1\n",
        "[-0.97107573  0.00415232]"
       ]
      },
      {
       "output_type": "stream",
       "stream": "stdout",
       "text": [
        "\n",
        "0.4 8.2\n",
        "[-0.97078762  0.00748497]"
       ]
      },
      {
       "output_type": "stream",
       "stream": "stdout",
       "text": [
        "\n",
        "0.4 8.3\n",
        "[-0.9708341  0.0117175]"
       ]
      },
      {
       "output_type": "stream",
       "stream": "stdout",
       "text": [
        "\n",
        "0.4 8.4\n",
        "[-0.97138629  0.01704423]"
       ]
      },
      {
       "output_type": "stream",
       "stream": "stdout",
       "text": [
        "\n",
        "0.4 8.5\n",
        "[-0.97269512  0.02369699]"
       ]
      },
      {
       "output_type": "stream",
       "stream": "stdout",
       "text": [
        "\n",
        "0.4 8.6\n",
        "[-0.97513043  0.03193899]"
       ]
      },
      {
       "output_type": "stream",
       "stream": "stdout",
       "text": [
        "\n",
        "0.4 8.7\n",
        "[-0.97923996  0.0420352 ]"
       ]
      },
      {
       "output_type": "stream",
       "stream": "stdout",
       "text": [
        "\n",
        "0.4 8.8\n",
        "[-0.98583659  0.05416105]"
       ]
      },
      {
       "output_type": "stream",
       "stream": "stdout",
       "text": [
        "\n",
        "0.4 8.9\n",
        "[-0.99611606  0.06814859]"
       ]
      },
      {
       "output_type": "stream",
       "stream": "stdout",
       "text": [
        "\n",
        "0.4 9.0\n",
        "[-1.0117676   0.08279476]"
       ]
      },
      {
       "output_type": "stream",
       "stream": "stdout",
       "text": [
        "\n",
        "0.4 9.1\n",
        "[-1.03483911  0.09394923]"
       ]
      },
      {
       "output_type": "stream",
       "stream": "stdout",
       "text": [
        "\n",
        "0.4 9.2\n",
        "[-1.066172    0.08916735]"
       ]
      },
      {
       "output_type": "stream",
       "stream": "stdout",
       "text": [
        "\n",
        "0.4 9.3\n",
        "[-1.09662743  0.03396097]"
       ]
      },
      {
       "output_type": "stream",
       "stream": "stdout",
       "text": [
        "\n",
        "0.4 9.4\n",
        "[-1.06375769 -0.14106138]"
       ]
      },
      {
       "output_type": "stream",
       "stream": "stdout",
       "text": [
        "\n",
        "0.4 9.5\n",
        "[-0.69881611 -0.32252981]"
       ]
      },
      {
       "output_type": "stream",
       "stream": "stdout",
       "text": [
        "\n",
        "0.4 9.6\n",
        "[ 0.30017028  0.17761774]"
       ]
      },
      {
       "output_type": "stream",
       "stream": "stdout",
       "text": [
        "\n",
        "0.4 9.7\n",
        "[ 0.99819853  0.23193463]"
       ]
      },
      {
       "output_type": "stream",
       "stream": "stdout",
       "text": [
        "\n",
        "0.4 9.8\n",
        "[ 1.09839316 -0.02515553]"
       ]
      },
      {
       "output_type": "stream",
       "stream": "stdout",
       "text": [
        "\n",
        "0.4 9.9\n",
        "[ 1.05342245 -0.09562754]"
       ]
      },
      {
       "output_type": "stream",
       "stream": "stdout",
       "text": [
        "\n",
        "0.5 0.0\n",
        "[ 0.99758567 -0.00186971]"
       ]
      },
      {
       "output_type": "stream",
       "stream": "stdout",
       "text": [
        "\n",
        "0.5 0.1\n",
        "[  9.97276665e-01  -2.33976149e-04]"
       ]
      },
      {
       "output_type": "stream",
       "stream": "stdout",
       "text": [
        "\n",
        "0.5 0.2\n",
        "[ 0.99726435  0.00111339]"
       ]
      },
      {
       "output_type": "stream",
       "stream": "stdout",
       "text": [
        "\n",
        "0.5 0.3\n",
        "[ 0.99745307  0.0021985 ]"
       ]
      },
      {
       "output_type": "stream",
       "stream": "stdout",
       "text": [
        "\n",
        "0.5 0.4\n",
        "[ 0.99777593  0.00305895]"
       ]
      },
      {
       "output_type": "stream",
       "stream": "stdout",
       "text": [
        "\n",
        "0.5 0.5\n",
        "[ 0.99818613  0.00373368]"
       ]
      },
      {
       "output_type": "stream",
       "stream": "stdout",
       "text": [
        "\n",
        "0.5 0.6\n",
        "[ 0.99865077  0.00425901]"
       ]
      },
      {
       "output_type": "stream",
       "stream": "stdout",
       "text": [
        "\n",
        "0.5 0.7\n",
        "[ 0.99914661  0.00466752]"
       ]
      },
      {
       "output_type": "stream",
       "stream": "stdout",
       "text": [
        "\n",
        "0.5 0.8\n",
        "[ 0.99965704  0.00498804]"
       ]
      },
      {
       "output_type": "stream",
       "stream": "stdout",
       "text": [
        "\n",
        "0.5 0.9\n",
        "[ 1.00017004  0.00524609]"
       ]
      },
      {
       "output_type": "stream",
       "stream": "stdout",
       "text": [
        "\n",
        "0.5 1.0\n",
        "[ 1.00067666  0.0054645 ]"
       ]
      },
      {
       "output_type": "stream",
       "stream": "stdout",
       "text": [
        "\n",
        "0.5 1.1\n",
        "[ 1.0011699   0.00566404]"
       ]
      },
      {
       "output_type": "stream",
       "stream": "stdout",
       "text": [
        "\n",
        "0.5 1.2\n",
        "[ 1.00164395  0.00586399]"
       ]
      },
      {
       "output_type": "stream",
       "stream": "stdout",
       "text": [
        "\n",
        "0.5 1.3\n",
        "[ 1.00209343  0.0060828 ]"
       ]
      },
      {
       "output_type": "stream",
       "stream": "stdout",
       "text": [
        "\n",
        "0.5 1.4\n",
        "[ 1.00251281  0.00633853]"
       ]
      },
      {
       "output_type": "stream",
       "stream": "stdout",
       "text": [
        "\n",
        "0.5 1.5\n",
        "[ 1.00289585  0.00664935]"
       ]
      },
      {
       "output_type": "stream",
       "stream": "stdout",
       "text": [
        "\n",
        "0.5 1.6\n",
        "[ 1.00323496  0.00703407]"
       ]
      },
      {
       "output_type": "stream",
       "stream": "stdout",
       "text": [
        "\n",
        "0.5 1.7\n",
        "[ 1.00352054  0.00751249]"
       ]
      },
      {
       "output_type": "stream",
       "stream": "stdout",
       "text": [
        "\n",
        "0.5 1.8\n",
        "[ 1.00374011  0.00810581]"
       ]
      },
      {
       "output_type": "stream",
       "stream": "stdout",
       "text": [
        "\n",
        "0.5 1.9\n",
        "[ 1.00387728  0.00883692]"
       ]
      },
      {
       "output_type": "stream",
       "stream": "stdout",
       "text": [
        "\n",
        "0.5 2.0\n",
        "[ 1.00391038  0.00973049]"
       ]
      },
      {
       "output_type": "stream",
       "stream": "stdout",
       "text": [
        "\n",
        "0.5 2.1\n",
        "[ 1.00381068  0.0108128 ]"
       ]
      },
      {
       "output_type": "stream",
       "stream": "stdout",
       "text": [
        "\n",
        "0.5 2.2\n",
        "[ 1.00354003  0.01211097]"
       ]
      },
      {
       "output_type": "stream",
       "stream": "stdout",
       "text": [
        "\n",
        "0.5 2.3\n",
        "[ 1.00304769  0.01365107]"
       ]
      },
      {
       "output_type": "stream",
       "stream": "stdout",
       "text": [
        "\n",
        "0.5 2.4\n",
        "[ 1.00226627  0.01545431]"
       ]
      },
      {
       "output_type": "stream",
       "stream": "stdout",
       "text": [
        "\n",
        "0.5 2.5\n",
        "[ 1.0011063   0.01752951]"
       ]
      },
      {
       "output_type": "stream",
       "stream": "stdout",
       "text": [
        "\n",
        "0.5 2.6\n",
        "[ 0.99944984  0.01985878]"
       ]
      },
      {
       "output_type": "stream",
       "stream": "stdout",
       "text": [
        "\n",
        "0.5 2.7\n",
        "[ 0.99714354  0.02237013]"
       ]
      },
      {
       "output_type": "stream",
       "stream": "stdout",
       "text": [
        "\n",
        "0.5 2.8\n",
        "[ 0.99399446  0.02488465]"
       ]
      },
      {
       "output_type": "stream",
       "stream": "stdout",
       "text": [
        "\n",
        "0.5 2.9\n",
        "[ 0.9897785   0.02701292]"
       ]
      },
      {
       "output_type": "stream",
       "stream": "stdout",
       "text": [
        "\n",
        "0.5 3.0\n",
        "[ 0.98429191  0.02794548]"
       ]
      },
      {
       "output_type": "stream",
       "stream": "stdout",
       "text": [
        "\n",
        "0.5 3.1\n",
        "[ 0.97754191  0.02601458]"
       ]
      },
      {
       "output_type": "stream",
       "stream": "stdout",
       "text": [
        "\n",
        "0.5 3.2\n",
        "[ 0.97039971  0.01774711]"
       ]
      },
      {
       "output_type": "stream",
       "stream": "stdout",
       "text": [
        "\n",
        "0.5 3.3\n",
        "[ 0.96692507 -0.00413436]"
       ]
      },
      {
       "output_type": "stream",
       "stream": "stdout",
       "text": [
        "\n",
        "0.5 3.4\n",
        "[ 0.98341683 -0.0526518 ]"
       ]
      },
      {
       "output_type": "stream",
       "stream": "stdout",
       "text": [
        "\n",
        "0.5 3.5\n",
        "[ 1.07386906 -0.08377458]"
       ]
      },
      {
       "output_type": "stream",
       "stream": "stdout",
       "text": [
        "\n",
        "0.5 3.6\n",
        "[-0.08955007 -0.05514056]"
       ]
      },
      {
       "output_type": "stream",
       "stream": "stdout",
       "text": [
        "\n",
        "0.5 3.7\n",
        "[-1.05718489  0.09412919]"
       ]
      },
      {
       "output_type": "stream",
       "stream": "stdout",
       "text": [
        "\n",
        "0.5 3.8\n",
        "[-0.97239227  0.03069057]"
       ]
      },
      {
       "output_type": "stream",
       "stream": "stdout",
       "text": [
        "\n",
        "0.5 3.9\n",
        "[-0.96874795 -0.01632268]"
       ]
      },
      {
       "output_type": "stream",
       "stream": "stdout",
       "text": [
        "\n",
        "0.5 4.0\n",
        "[-0.98134604 -0.02962402]"
       ]
      },
      {
       "output_type": "stream",
       "stream": "stdout",
       "text": [
        "\n",
        "0.5 4.1\n",
        "[-0.99374226 -0.02802824]"
       ]
      },
      {
       "output_type": "stream",
       "stream": "stdout",
       "text": [
        "\n",
        "0.5 4.2\n",
        "[-1.00275513 -0.02089056]"
       ]
      },
      {
       "output_type": "stream",
       "stream": "stdout",
       "text": [
        "\n",
        "0.5 4.3\n",
        "[-1.00840521 -0.01244925]"
       ]
      },
      {
       "output_type": "stream",
       "stream": "stdout",
       "text": [
        "\n",
        "0.5 4.4\n",
        "[-1.01140169 -0.0045392 ]"
       ]
      },
      {
       "output_type": "stream",
       "stream": "stdout",
       "text": [
        "\n",
        "0.5 4.5\n",
        "[-1.01247806  0.00213695]"
       ]
      },
      {
       "output_type": "stream",
       "stream": "stdout",
       "text": [
        "\n",
        "0.5 4.6\n",
        "[-1.01223366  0.00740634]"
       ]
      },
      {
       "output_type": "stream",
       "stream": "stdout",
       "text": [
        "\n",
        "0.5 4.7\n",
        "[-1.01111964  0.01133404]"
       ]
      },
      {
       "output_type": "stream",
       "stream": "stdout",
       "text": [
        "\n",
        "0.5 4.8\n",
        "[-1.00946254  0.01408042]"
       ]
      },
      {
       "output_type": "stream",
       "stream": "stdout",
       "text": [
        "\n",
        "0.5 4.9\n",
        "[-1.00749319  0.01583243]"
       ]
      },
      {
       "output_type": "stream",
       "stream": "stdout",
       "text": [
        "\n",
        "0.5 5.0\n",
        "[-1.0053717   0.01677168]"
       ]
      },
      {
       "output_type": "stream",
       "stream": "stdout",
       "text": [
        "\n",
        "0.5 5.1\n",
        "[-1.00320701  0.01706115]"
       ]
      },
      {
       "output_type": "stream",
       "stream": "stdout",
       "text": [
        "\n",
        "0.5 5.2\n",
        "[-1.0010714  0.016841 ]"
       ]
      },
      {
       "output_type": "stream",
       "stream": "stdout",
       "text": [
        "\n",
        "0.5 5.3\n",
        "[-0.99901109  0.01622878]"
       ]
      },
      {
       "output_type": "stream",
       "stream": "stdout",
       "text": [
        "\n",
        "0.5 5.4\n",
        "[-0.99705389  0.01532148]"
       ]
      },
      {
       "output_type": "stream",
       "stream": "stdout",
       "text": [
        "\n",
        "0.5 5.5\n",
        "[-0.99521469  0.01419827]"
       ]
      },
      {
       "output_type": "stream",
       "stream": "stdout",
       "text": [
        "\n",
        "0.5 5.6\n",
        "[-0.99349937  0.01292333]"
       ]
      },
      {
       "output_type": "stream",
       "stream": "stdout",
       "text": [
        "\n",
        "0.5 5.7\n",
        "[-0.99190762  0.01154839]"
       ]
      },
      {
       "output_type": "stream",
       "stream": "stdout",
       "text": [
        "\n",
        "0.5 5.8\n",
        "[-0.99043492  0.01011504]"
       ]
      },
      {
       "output_type": "stream",
       "stream": "stdout",
       "text": [
        "\n",
        "0.5 5.9\n",
        "[-0.98907399  0.00865668]"
       ]
      },
      {
       "output_type": "stream",
       "stream": "stdout",
       "text": [
        "\n",
        "0.5 6.0\n",
        "[-0.98781579  0.00720015]"
       ]
      },
      {
       "output_type": "stream",
       "stream": "stdout",
       "text": [
        "\n",
        "0.5 6.1\n",
        "[-0.98665022  0.00576714]"
       ]
      },
      {
       "output_type": "stream",
       "stream": "stdout",
       "text": [
        "\n",
        "0.5 6.2\n",
        "[-0.98556667  0.00437534]"
       ]
      },
      {
       "output_type": "stream",
       "stream": "stdout",
       "text": [
        "\n",
        "0.5 6.3\n",
        "[-0.98455434  0.00303941]"
       ]
      },
      {
       "output_type": "stream",
       "stream": "stdout",
       "text": [
        "\n",
        "0.5 6.4\n",
        "[-0.98360253  0.00177186]"
       ]
      },
      {
       "output_type": "stream",
       "stream": "stdout",
       "text": [
        "\n",
        "0.5 6.5\n",
        "[ -9.82700779e-01   5.83738559e-04]"
       ]
      },
      {
       "output_type": "stream",
       "stream": "stdout",
       "text": [
        "\n",
        "0.5 6.6\n",
        "[ -9.81839059e-01  -5.14673119e-04]"
       ]
      },
      {
       "output_type": "stream",
       "stream": "stdout",
       "text": [
        "\n",
        "0.5 6.7\n",
        "[-0.98100786 -0.00151326]"
       ]
      },
      {
       "output_type": "stream",
       "stream": "stdout",
       "text": [
        "\n",
        "0.5 6.8\n",
        "[-0.98019831 -0.00240149]"
       ]
      },
      {
       "output_type": "stream",
       "stream": "stdout",
       "text": [
        "\n",
        "0.5 6.9\n",
        "[-0.97940232 -0.00316778]"
       ]
      },
      {
       "output_type": "stream",
       "stream": "stdout",
       "text": [
        "\n",
        "0.5 7.0\n",
        "[-0.97861273 -0.00379891]"
       ]
      },
      {
       "output_type": "stream",
       "stream": "stdout",
       "text": [
        "\n",
        "0.5 7.1\n",
        "[-0.97782354 -0.0042793 ]"
       ]
      },
      {
       "output_type": "stream",
       "stream": "stdout",
       "text": [
        "\n",
        "0.5 7.2\n",
        "[-0.9770302  -0.00459019]"
       ]
      },
      {
       "output_type": "stream",
       "stream": "stdout",
       "text": [
        "\n",
        "0.5 7.3\n",
        "[-0.97623006 -0.00470873]"
       ]
      },
      {
       "output_type": "stream",
       "stream": "stdout",
       "text": [
        "\n",
        "0.5 7.4\n",
        "[-0.97542293 -0.00460687]"
       ]
      },
      {
       "output_type": "stream",
       "stream": "stdout",
       "text": [
        "\n",
        "0.5 7.5\n",
        "[-0.97461197 -0.00424993]"
       ]
      },
      {
       "output_type": "stream",
       "stream": "stdout",
       "text": [
        "\n",
        "0.5 7.6\n",
        "[-0.97380491 -0.00359495]"
       ]
      },
      {
       "output_type": "stream",
       "stream": "stdout",
       "text": [
        "\n",
        "0.5 7.7\n",
        "[-0.97301571 -0.00258855]"
       ]
      },
      {
       "output_type": "stream",
       "stream": "stdout",
       "text": [
        "\n",
        "0.5 7.8\n",
        "[-0.97226708 -0.0011643 ]"
       ]
      },
      {
       "output_type": "stream",
       "stream": "stdout",
       "text": [
        "\n",
        "0.5 7.9\n",
        "[ -9.71593998e-01   7.60509849e-04]"
       ]
      },
      {
       "output_type": "stream",
       "stream": "stdout",
       "text": [
        "\n",
        "0.5 8.0\n",
        "[-0.97104888  0.00328894]"
       ]
      },
      {
       "output_type": "stream",
       "stream": "stdout",
       "text": [
        "\n",
        "0.5 8.1\n",
        "[-0.97070915  0.00654912]"
       ]
      },
      {
       "output_type": "stream",
       "stream": "stdout",
       "text": [
        "\n",
        "0.5 8.2\n",
        "[-0.97068841  0.01069971]"
       ]
      },
      {
       "output_type": "stream",
       "stream": "stdout",
       "text": [
        "\n",
        "0.5 8.3\n",
        "[-0.97115323  0.01593512]"
       ]
      },
      {
       "output_type": "stream",
       "stream": "stdout",
       "text": [
        "\n",
        "0.5 8.4\n",
        "[-0.97234845  0.0224886 ]"
       ]
      },
      {
       "output_type": "stream",
       "stream": "stdout",
       "text": [
        "\n",
        "0.5 8.5\n",
        "[-0.97463574  0.03062763]"
       ]
      },
      {
       "output_type": "stream",
       "stream": "stdout",
       "text": [
        "\n",
        "0.5 8.6\n",
        "[-0.97855203  0.04062746]"
       ]
      },
      {
       "output_type": "stream",
       "stream": "stdout",
       "text": [
        "\n",
        "0.5 8.7\n",
        "[-0.98489658  0.05268686]"
       ]
      },
      {
       "output_type": "stream",
       "stream": "stdout",
       "text": [
        "\n",
        "0.5 8.8\n",
        "[-0.9948506   0.06669055]"
       ]
      },
      {
       "output_type": "stream",
       "stream": "stdout",
       "text": [
        "\n",
        "0.5 8.9\n",
        "[-1.01009774  0.08155667]"
       ]
      },
      {
       "output_type": "stream",
       "stream": "stdout",
       "text": [
        "\n",
        "0.5 9.0\n",
        "[-1.03272996  0.09342174]"
       ]
      },
      {
       "output_type": "stream",
       "stream": "stdout",
       "text": [
        "\n",
        "0.5 9.1\n",
        "[-1.06384601  0.09052422]"
       ]
      },
      {
       "output_type": "stream",
       "stream": "stdout",
       "text": [
        "\n",
        "0.5 9.2\n",
        "[-1.09545303  0.0397682 ]"
       ]
      },
      {
       "output_type": "stream",
       "stream": "stdout",
       "text": [
        "\n",
        "0.5 9.3\n",
        "[-1.06971327 -0.12858972]"
       ]
      },
      {
       "output_type": "stream",
       "stream": "stdout",
       "text": [
        "\n",
        "0.5 9.4\n",
        "[-0.7281583  -0.32490584]"
       ]
      },
      {
       "output_type": "stream",
       "stream": "stdout",
       "text": [
        "\n",
        "0.5 9.5\n",
        "[ 0.26137561  0.15635444]"
       ]
      },
      {
       "output_type": "stream",
       "stream": "stdout",
       "text": [
        "\n",
        "0.5 9.6\n",
        "[ 0.98887626  0.24074829]"
       ]
      },
      {
       "output_type": "stream",
       "stream": "stdout",
       "text": [
        "\n",
        "0.5 9.7\n",
        "[ 1.09880559 -0.0214784 ]"
       ]
      },
      {
       "output_type": "stream",
       "stream": "stdout",
       "text": [
        "\n",
        "0.5 9.8\n",
        "[ 1.05435662 -0.09540388]"
       ]
      },
      {
       "output_type": "stream",
       "stream": "stdout",
       "text": [
        "\n",
        "0.5 9.9\n",
        "[ 1.0090831  -0.08280301]"
       ]
      },
      {
       "output_type": "stream",
       "stream": "stdout",
       "text": [
        "\n",
        "0.6 0.0\n",
        "[  9.97603979e-01  -2.78928140e-04]"
       ]
      },
      {
       "output_type": "stream",
       "stream": "stdout",
       "text": [
        "\n",
        "0.6 0.1\n",
        "[  9.97642234e-01   9.09525897e-04]"
       ]
      },
      {
       "output_type": "stream",
       "stream": "stdout",
       "text": [
        "\n",
        "0.6 0.2\n",
        "[ 0.99785362  0.001863  ]"
       ]
      },
      {
       "output_type": "stream",
       "stream": "stdout",
       "text": [
        "\n",
        "0.6 0.3\n",
        "[ 0.99818161  0.00261591]"
       ]
      },
      {
       "output_type": "stream",
       "stream": "stdout",
       "text": [
        "\n",
        "0.6 0.4\n",
        "[ 0.99858635  0.00320308]"
       ]
      },
      {
       "output_type": "stream",
       "stream": "stdout",
       "text": [
        "\n",
        "0.6 0.5\n",
        "[ 0.99903962  0.00365688]"
       ]
      },
      {
       "output_type": "stream",
       "stream": "stdout",
       "text": [
        "\n",
        "0.6 0.6\n",
        "[ 0.99952133  0.00400645]"
       ]
      },
      {
       "output_type": "stream",
       "stream": "stdout",
       "text": [
        "\n",
        "0.6 0.7\n",
        "[ 1.00001703  0.00427771]"
       ]
      },
      {
       "output_type": "stream",
       "stream": "stdout",
       "text": [
        "\n",
        "0.6 0.8\n",
        "[ 1.0005162   0.00449378]"
       ]
      },
      {
       "output_type": "stream",
       "stream": "stdout",
       "text": [
        "\n",
        "0.6 0.9\n",
        "[ 1.00101097  0.00467553]"
       ]
      },
      {
       "output_type": "stream",
       "stream": "stdout",
       "text": [
        "\n",
        "0.6 1.0\n",
        "[ 1.00149517  0.00484215]"
       ]
      },
      {
       "output_type": "stream",
       "stream": "stdout",
       "text": [
        "\n",
        "0.6 1.1\n",
        "[ 1.00196363  0.00501165]"
       ]
      },
      {
       "output_type": "stream",
       "stream": "stdout",
       "text": [
        "\n",
        "0.6 1.2\n",
        "[ 1.00241154  0.00520141]"
       ]
      },
      {
       "output_type": "stream",
       "stream": "stdout",
       "text": [
        "\n",
        "0.6 1.3\n",
        "[ 1.00283391  0.00542869]"
       ]
      },
      {
       "output_type": "stream",
       "stream": "stdout",
       "text": [
        "\n",
        "0.6 1.4\n",
        "[ 1.00322505  0.00571103]"
       ]
      },
      {
       "output_type": "stream",
       "stream": "stdout",
       "text": [
        "\n",
        "0.6 1.5\n",
        "[ 1.00357798  0.00606678]"
       ]
      },
      {
       "output_type": "stream",
       "stream": "stdout",
       "text": [
        "\n",
        "0.6 1.6\n",
        "[ 1.00388381  0.00651548]"
       ]
      },
      {
       "output_type": "stream",
       "stream": "stdout",
       "text": [
        "\n",
        "0.6 1.7\n",
        "[ 1.00413087  0.00707829]"
       ]
      },
      {
       "output_type": "stream",
       "stream": "stdout",
       "text": [
        "\n",
        "0.6 1.8\n",
        "[ 1.00430376  0.00777835]"
       ]
      },
      {
       "output_type": "stream",
       "stream": "stdout",
       "text": [
        "\n",
        "0.6 1.9\n",
        "[ 1.004382    0.00864093]"
       ]
      },
      {
       "output_type": "stream",
       "stream": "stdout",
       "text": [
        "\n",
        "0.6 2.0\n",
        "[ 1.00433828  0.00969346]"
       ]
      },
      {
       "output_type": "stream",
       "stream": "stdout",
       "text": [
        "\n",
        "0.6 2.1\n",
        "[ 1.00413616  0.01096497]"
       ]
      },
      {
       "output_type": "stream",
       "stream": "stdout",
       "text": [
        "\n",
        "0.6 2.2\n",
        "[ 1.00372689  0.01248463]"
       ]
      },
      {
       "output_type": "stream",
       "stream": "stdout",
       "text": [
        "\n",
        "0.6 2.3\n",
        "[ 1.00304531  0.01427854]"
       ]
      },
      {
       "output_type": "stream",
       "stream": "stdout",
       "text": [
        "\n",
        "0.6 2.4\n",
        "[ 1.00200435  0.01636328]"
       ]
      },
      {
       "output_type": "stream",
       "stream": "stdout",
       "text": [
        "\n",
        "0.6 2.5\n",
        "[ 1.00048821  0.01873326]"
       ]
      },
      {
       "output_type": "stream",
       "stream": "stdout",
       "text": [
        "\n",
        "0.6 2.6\n",
        "[ 0.99834447  0.02133631]"
       ]
      },
      {
       "output_type": "stream",
       "stream": "stdout",
       "text": [
        "\n",
        "0.6 2.7\n",
        "[ 0.99537767  0.02402615]"
       ]
      },
      {
       "output_type": "stream",
       "stream": "stdout",
       "text": [
        "\n",
        "0.6 2.8\n",
        "[ 0.99135219  0.02646832]"
       ]
      },
      {
       "output_type": "stream",
       "stream": "stdout",
       "text": [
        "\n",
        "0.6 2.9\n",
        "[ 0.98602988  0.02794904]"
       ]
      },
      {
       "output_type": "stream",
       "stream": "stdout",
       "text": [
        "\n",
        "0.6 3.0\n",
        "[ 0.97932346  0.02697306]"
       ]
      },
      {
       "output_type": "stream",
       "stream": "stdout",
       "text": [
        "\n",
        "0.6 3.1\n",
        "[ 0.97183976  0.02038657]"
       ]
      },
      {
       "output_type": "stream",
       "stream": "stdout",
       "text": [
        "\n",
        "0.6 3.2\n",
        "[ 0.96683933  0.00146414]"
       ]
      },
      {
       "output_type": "stream",
       "stream": "stdout",
       "text": [
        "\n",
        "0.6 3.3\n",
        "[ 0.97795536 -0.04284388]"
       ]
      },
      {
       "output_type": "stream",
       "stream": "stdout",
       "text": [
        "\n",
        "0.6 3.4\n",
        "[ 1.05612285 -0.09431721]"
       ]
      },
      {
       "output_type": "stream",
       "stream": "stdout",
       "text": [
        "\n",
        "0.6 3.5\n",
        "[ 0.31183925  0.18382881]"
       ]
      },
      {
       "output_type": "stream",
       "stream": "stdout",
       "text": [
        "\n",
        "0.6 3.6\n",
        "[-1.07109481  0.08638945]"
       ]
      },
      {
       "output_type": "stream",
       "stream": "stdout",
       "text": [
        "\n",
        "0.6 3.7\n",
        "[-0.97451042  0.03600025]"
       ]
      },
      {
       "output_type": "stream",
       "stream": "stdout",
       "text": [
        "\n",
        "0.6 3.8\n",
        "[-0.96824643 -0.01477612]"
       ]
      },
      {
       "output_type": "stream",
       "stream": "stdout",
       "text": [
        "\n",
        "0.6 3.9\n",
        "[-0.98077126 -0.02942336]"
       ]
      },
      {
       "output_type": "stream",
       "stream": "stdout",
       "text": [
        "\n",
        "0.6 4.0\n",
        "[-0.9934035  -0.02815169]"
       ]
      },
      {
       "output_type": "stream",
       "stream": "stdout",
       "text": [
        "\n",
        "0.6 4.1\n",
        "[-1.00258811 -0.0210175 ]"
       ]
      },
      {
       "output_type": "stream",
       "stream": "stdout",
       "text": [
        "\n",
        "0.6 4.2\n",
        "[-1.00831964 -0.01251188]"
       ]
      },
      {
       "output_type": "stream",
       "stream": "stdout",
       "text": [
        "\n",
        "0.6 4.3\n",
        "[-1.01133708 -0.00455075]"
       ]
      },
      {
       "output_type": "stream",
       "stream": "stdout",
       "text": [
        "\n",
        "0.6 4.4\n",
        "[-1.01240253  0.00214496]"
       ]
      },
      {
       "output_type": "stream",
       "stream": "stdout",
       "text": [
        "\n",
        "0.6 4.5\n",
        "[-1.0121344   0.00740533]"
       ]
      },
      {
       "output_type": "stream",
       "stream": "stdout",
       "text": [
        "\n",
        "0.6 4.6\n",
        "[-1.01099486  0.01130378]"
       ]
      },
      {
       "output_type": "stream",
       "stream": "stdout",
       "text": [
        "\n",
        "0.6 4.7\n",
        "[-1.0093161   0.01400898]"
       ]
      },
      {
       "output_type": "stream",
       "stream": "stdout",
       "text": [
        "\n",
        "0.6 4.8\n",
        "[-1.00733137  0.01571436]"
       ]
      },
      {
       "output_type": "stream",
       "stream": "stdout",
       "text": [
        "\n",
        "0.6 4.9\n",
        "[-1.00520138  0.01660613]"
       ]
      },
      {
       "output_type": "stream",
       "stream": "stdout",
       "text": [
        "\n",
        "0.6 5.0\n",
        "[-1.0030347  0.0168502]"
       ]
      },
      {
       "output_type": "stream",
       "stream": "stdout",
       "text": [
        "\n",
        "0.6 5.1\n",
        "[-1.00090278  0.01658849]"
       ]
      },
      {
       "output_type": "stream",
       "stream": "stdout",
       "text": [
        "\n",
        "0.6 5.2\n",
        "[-0.99885086  0.01593938]"
       ]
      },
      {
       "output_type": "stream",
       "stream": "stdout",
       "text": [
        "\n",
        "0.6 5.3\n",
        "[-0.99690577  0.01500013]"
       ]
      },
      {
       "output_type": "stream",
       "stream": "stdout",
       "text": [
        "\n",
        "0.6 5.4\n",
        "[-0.99508149  0.01384982]"
       ]
      },
      {
       "output_type": "stream",
       "stream": "stdout",
       "text": [
        "\n",
        "0.6 5.5\n",
        "[-0.99338312  0.01255227]"
       ]
      },
      {
       "output_type": "stream",
       "stream": "stdout",
       "text": [
        "\n",
        "0.6 5.6\n",
        "[-0.99180964  0.01115873]"
       ]
      },
      {
       "output_type": "stream",
       "stream": "stdout",
       "text": [
        "\n",
        "0.6 5.7\n",
        "[-0.99035599  0.00971026]"
       ]
      },
      {
       "output_type": "stream",
       "stream": "stdout",
       "text": [
        "\n",
        "0.6 5.8\n",
        "[-0.98901442  0.00823968]"
       ]
      },
      {
       "output_type": "stream",
       "stream": "stdout",
       "text": [
        "\n",
        "0.6 5.9\n",
        "[-0.9877755   0.00677327]"
       ]
      },
      {
       "output_type": "stream",
       "stream": "stdout",
       "text": [
        "\n",
        "0.6 6.0\n",
        "[-0.98662885  0.00533218]"
       ]
      },
      {
       "output_type": "stream",
       "stream": "stdout",
       "text": [
        "\n",
        "0.6 6.1\n",
        "[-0.98556359  0.00393357]"
       ]
      },
      {
       "output_type": "stream",
       "stream": "stdout",
       "text": [
        "\n",
        "0.6 6.2\n",
        "[-0.98456874  0.00259162]"
       ]
      },
      {
       "output_type": "stream",
       "stream": "stdout",
       "text": [
        "\n",
        "0.6 6.3\n",
        "[-0.98363341  0.00131835]"
       ]
      },
      {
       "output_type": "stream",
       "stream": "stdout",
       "text": [
        "\n",
        "0.6 6.4\n",
        "[ -9.82747024e-01   1.24381944e-04]"
       ]
      },
      {
       "output_type": "stream",
       "stream": "stdout",
       "text": [
        "\n",
        "0.6 6.5\n",
        "[ -9.81899404e-01  -9.80428081e-04]"
       ]
      },
      {
       "output_type": "stream",
       "stream": "stdout",
       "text": [
        "\n",
        "0.6 6.6\n",
        "[-0.98108092 -0.00198638]"
       ]
      },
      {
       "output_type": "stream",
       "stream": "stdout",
       "text": [
        "\n",
        "0.6 6.7\n",
        "[-0.98028257 -0.00288334]"
       ]
      },
      {
       "output_type": "stream",
       "stream": "stdout",
       "text": [
        "\n",
        "0.6 6.8\n",
        "[-0.97949611 -0.00366016]"
       ]
      },
      {
       "output_type": "stream",
       "stream": "stdout",
       "text": [
        "\n",
        "0.6 6.9\n",
        "[-0.97871423 -0.00430401]"
       ]
      },
      {
       "output_type": "stream",
       "stream": "stdout",
       "text": [
        "\n",
        "0.6 7.0\n",
        "[-0.9779307  -0.00479975]"
       ]
      },
      {
       "output_type": "stream",
       "stream": "stdout",
       "text": [
        "\n",
        "0.6 7.1\n",
        "[-0.97714071 -0.00512909]"
       ]
      },
      {
       "output_type": "stream",
       "stream": "stdout",
       "text": [
        "\n",
        "0.6 7.2\n",
        "[-0.97634129 -0.00526968]"
       ]
      },
      {
       "output_type": "stream",
       "stream": "stdout",
       "text": [
        "\n",
        "0.6 7.3\n",
        "[-0.97553184 -0.00519401]"
       ]
      },
      {
       "output_type": "stream",
       "stream": "stdout",
       "text": [
        "\n",
        "0.6 7.4\n",
        "[-0.97471499 -0.00486799]"
       ]
      },
      {
       "output_type": "stream",
       "stream": "stdout",
       "text": [
        "\n",
        "0.6 7.5\n",
        "[-0.97389776 -0.00424933]"
       ]
      },
      {
       "output_type": "stream",
       "stream": "stdout",
       "text": [
        "\n",
        "0.6 7.6\n",
        "[-0.97309323 -0.00328538]"
       ]
      },
      {
       "output_type": "stream",
       "stream": "stdout",
       "text": [
        "\n",
        "0.6 7.7\n",
        "[-0.97232297 -0.00191054]"
       ]
      },
      {
       "output_type": "stream",
       "stream": "stdout",
       "text": [
        "\n",
        "0.6 7.8\n",
        "[ -9.71620447e-01  -4.29462883e-05]"
       ]
      },
      {
       "output_type": "stream",
       "stream": "stdout",
       "text": [
        "\n",
        "0.6 7.9\n",
        "[-0.9710361   0.00241953]"
       ]
      },
      {
       "output_type": "stream",
       "stream": "stdout",
       "text": [
        "\n",
        "0.6 8.0\n",
        "[-0.97064472  0.00560417]"
       ]
      },
      {
       "output_type": "stream",
       "stream": "stdout",
       "text": [
        "\n",
        "0.6 8.1\n",
        "[-0.97055642  0.00966894]"
       ]
      },
      {
       "output_type": "stream",
       "stream": "stdout",
       "text": [
        "\n",
        "0.6 8.2\n",
        "[-0.97093306  0.01480815]"
       ]
      },
      {
       "output_type": "stream",
       "stream": "stdout",
       "text": [
        "\n",
        "0.6 8.3\n",
        "[-0.97201314  0.02125616]"
       ]
      },
      {
       "output_type": "stream",
       "stream": "stdout",
       "text": [
        "\n",
        "0.6 8.4\n",
        "[-0.9741497   0.02928428]"
       ]
      },
      {
       "output_type": "stream",
       "stream": "stdout",
       "text": [
        "\n",
        "0.6 8.5\n",
        "[-0.9778682   0.03917746]"
       ]
      },
      {
       "output_type": "stream",
       "stream": "stdout",
       "text": [
        "\n",
        "0.6 8.6\n",
        "[-0.98395315  0.05115707]"
       ]
      },
      {
       "output_type": "stream",
       "stream": "stdout",
       "text": [
        "\n",
        "0.6 8.7\n",
        "[-0.99356925  0.06515967]"
       ]
      },
      {
       "output_type": "stream",
       "stream": "stdout",
       "text": [
        "\n",
        "0.6 8.8\n",
        "[-1.00839103  0.08022393]"
       ]
      },
      {
       "output_type": "stream",
       "stream": "stdout",
       "text": [
        "\n",
        "0.6 8.9\n",
        "[-1.03054791  0.09277512]"
       ]
      },
      {
       "output_type": "stream",
       "stream": "stdout",
       "text": [
        "\n",
        "0.6 9.0\n",
        "[-1.06138344  0.09175038]"
       ]
      },
      {
       "output_type": "stream",
       "stream": "stdout",
       "text": [
        "\n",
        "0.6 9.1\n",
        "[-1.09403328  0.04553678]"
       ]
      },
      {
       "output_type": "stream",
       "stream": "stdout",
       "text": [
        "\n",
        "0.6 9.2\n",
        "[-1.0753427  -0.11550391]"
       ]
      },
      {
       "output_type": "stream",
       "stream": "stdout",
       "text": [
        "\n",
        "0.6 9.3\n",
        "[-0.75832915 -0.32555981]"
       ]
      },
      {
       "output_type": "stream",
       "stream": "stdout",
       "text": [
        "\n",
        "0.6 9.4\n",
        "[ 0.21823075  0.13187778]"
       ]
      },
      {
       "output_type": "stream",
       "stream": "stdout",
       "text": [
        "\n",
        "0.6 9.5\n",
        "[ 0.97783625  0.25032636]"
       ]
      },
      {
       "output_type": "stream",
       "stream": "stdout",
       "text": [
        "\n",
        "0.6 9.6\n",
        "[ 1.0991966 -0.0171591]"
       ]
      },
      {
       "output_type": "stream",
       "stream": "stdout",
       "text": [
        "\n",
        "0.6 9.7\n",
        "[ 1.05545107 -0.09511272]"
       ]
      },
      {
       "output_type": "stream",
       "stream": "stdout",
       "text": [
        "\n",
        "0.6 9.8\n",
        "[ 1.00965328 -0.08322178]"
       ]
      },
      {
       "output_type": "stream",
       "stream": "stdout",
       "text": [
        "\n",
        "0.6 9.9\n",
        "[ 0.9820451 -0.0521968]"
       ]
      },
      {
       "output_type": "stream",
       "stream": "stdout",
       "text": [
        "\n",
        "0.7 0.0\n",
        "[  9.98037815e-01   5.15480531e-04]"
       ]
      },
      {
       "output_type": "stream",
       "stream": "stdout",
       "text": [
        "\n",
        "0.7 0.1\n",
        "[ 0.99825011  0.00136635]"
       ]
      },
      {
       "output_type": "stream",
       "stream": "stdout",
       "text": [
        "\n",
        "0.7 0.2\n",
        "[ 0.9985683   0.00203657]"
       ]
      },
      {
       "output_type": "stream",
       "stream": "stdout",
       "text": [
        "\n",
        "0.7 0.3\n",
        "[ 0.99895736  0.00255704]"
       ]
      },
      {
       "output_type": "stream",
       "stream": "stdout",
       "text": [
        "\n",
        "0.7 0.4\n",
        "[ 0.99939231  0.00295667]"
       ]
      },
      {
       "output_type": "stream",
       "stream": "stdout",
       "text": [
        "\n",
        "0.7 0.5\n",
        "[ 0.99985521  0.00326163]"
       ]
      },
      {
       "output_type": "stream",
       "stream": "stdout",
       "text": [
        "\n",
        "0.7 0.6\n",
        "[ 1.0003331  0.0034954]"
       ]
      },
      {
       "output_type": "stream",
       "stream": "stdout",
       "text": [
        "\n",
        "0.7 0.7\n",
        "[ 1.0008165   0.00367913]"
       ]
      },
      {
       "output_type": "stream",
       "stream": "stdout",
       "text": [
        "\n",
        "0.7 0.8\n",
        "[ 1.00129827  0.00383206]"
       ]
      },
      {
       "output_type": "stream",
       "stream": "stdout",
       "text": [
        "\n",
        "0.7 0.9\n",
        "[ 1.00177284  0.00397207]"
       ]
      },
      {
       "output_type": "stream",
       "stream": "stdout",
       "text": [
        "\n",
        "0.7 1.0\n",
        "[ 1.0022355   0.00411611]"
       ]
      },
      {
       "output_type": "stream",
       "stream": "stdout",
       "text": [
        "\n",
        "0.7 1.1\n",
        "[ 1.00268189  0.00428069]"
       ]
      },
      {
       "output_type": "stream",
       "stream": "stdout",
       "text": [
        "\n",
        "0.7 1.2\n",
        "[ 1.00310747  0.00448238]"
       ]
      },
      {
       "output_type": "stream",
       "stream": "stdout",
       "text": [
        "\n",
        "0.7 1.3\n",
        "[ 1.00350705  0.00473819]"
       ]
      },
      {
       "output_type": "stream",
       "stream": "stdout",
       "text": [
        "\n",
        "0.7 1.4\n",
        "[ 1.00387422  0.00506608]"
       ]
      },
      {
       "output_type": "stream",
       "stream": "stdout",
       "text": [
        "\n",
        "0.7 1.5\n",
        "[ 1.00420074  0.00548537]"
       ]
      },
      {
       "output_type": "stream",
       "stream": "stdout",
       "text": [
        "\n",
        "0.7 1.6\n",
        "[ 1.00447578  0.00601718]"
       ]
      },
      {
       "output_type": "stream",
       "stream": "stdout",
       "text": [
        "\n",
        "0.7 1.7\n",
        "[ 1.00468493  0.00668484]"
       ]
      },
      {
       "output_type": "stream",
       "stream": "stdout",
       "text": [
        "\n",
        "0.7 1.8\n",
        "[ 1.0048089  0.0075142]"
       ]
      },
      {
       "output_type": "stream",
       "stream": "stdout",
       "text": [
        "\n",
        "0.7 1.9\n",
        "[ 1.00482184  0.00853371]"
       ]
      },
      {
       "output_type": "stream",
       "stream": "stdout",
       "text": [
        "\n",
        "0.7 2.0\n",
        "[ 1.00468907  0.00977414]"
       ]
      },
      {
       "output_type": "stream",
       "stream": "stdout",
       "text": [
        "\n",
        "0.7 2.1\n",
        "[ 1.00436392  0.01126751]"
       ]
      },
      {
       "output_type": "stream",
       "stream": "stdout",
       "text": [
        "\n",
        "0.7 2.2\n",
        "[ 1.00378365  0.01304446]"
       ]
      },
      {
       "output_type": "stream",
       "stream": "stdout",
       "text": [
        "\n",
        "0.7 2.3\n",
        "[ 1.00286385  0.01512876]"
       ]
      },
      {
       "output_type": "stream",
       "stream": "stdout",
       "text": [
        "\n",
        "0.7 2.4\n",
        "[ 1.00149127  0.01752634]"
       ]
      },
      {
       "output_type": "stream",
       "stream": "stdout",
       "text": [
        "\n",
        "0.7 2.5\n",
        "[ 0.99951526  0.02020366]"
       ]
      },
      {
       "output_type": "stream",
       "stream": "stdout",
       "text": [
        "\n",
        "0.7 2.6\n",
        "[ 0.99673926  0.02304513]"
       ]
      },
      {
       "output_type": "stream",
       "stream": "stdout",
       "text": [
        "\n",
        "0.7 2.7\n",
        "[ 0.99291895  0.02576819]"
       ]
      },
      {
       "output_type": "stream",
       "stream": "stdout",
       "text": [
        "\n",
        "0.7 2.8\n",
        "[ 0.98778772  0.0277495 ]"
       ]
      },
      {
       "output_type": "stream",
       "stream": "stdout",
       "text": [
        "\n",
        "0.7 2.9\n",
        "[ 0.98117737  0.02765726]"
       ]
      },
      {
       "output_type": "stream",
       "stream": "stdout",
       "text": [
        "\n",
        "0.7 3.0\n",
        "[ 0.97346547  0.02264292]"
       ]
      },
      {
       "output_type": "stream",
       "stream": "stdout",
       "text": [
        "\n",
        "0.7 3.1\n",
        "[ 0.96721693  0.00653394]"
       ]
      },
      {
       "output_type": "stream",
       "stream": "stdout",
       "text": [
        "\n",
        "0.7 3.2\n",
        "[ 0.97371751 -0.03335975]"
       ]
      },
      {
       "output_type": "stream",
       "stream": "stdout",
       "text": [
        "\n",
        "0.7 3.3\n",
        "[ 1.03866717 -0.09544133]"
       ]
      },
      {
       "output_type": "stream",
       "stream": "stdout",
       "text": [
        "\n",
        "0.7 3.4\n",
        "[ 0.6598206  0.3170075]"
       ]
      },
      {
       "output_type": "stream",
       "stream": "stdout",
       "text": [
        "\n",
        "0.7 3.5\n",
        "[-1.08487931  0.06941927]"
       ]
      },
      {
       "output_type": "stream",
       "stream": "stdout",
       "text": [
        "\n",
        "0.7 3.6\n",
        "[-0.97714754  0.04175905]"
       ]
      },
      {
       "output_type": "stream",
       "stream": "stdout",
       "text": [
        "\n",
        "0.7 3.7\n",
        "[-0.96777893 -0.01307701]"
       ]
      },
      {
       "output_type": "stream",
       "stream": "stdout",
       "text": [
        "\n",
        "0.7 3.8\n",
        "[-0.98018628 -0.0291939 ]"
       ]
      },
      {
       "output_type": "stream",
       "stream": "stdout",
       "text": [
        "\n",
        "0.7 3.9\n",
        "[-0.99306178 -0.028271  ]"
       ]
      },
      {
       "output_type": "stream",
       "stream": "stdout",
       "text": [
        "\n",
        "0.7 4.0\n",
        "[-1.00242402 -0.02114027]"
       ]
      },
      {
       "output_type": "stream",
       "stream": "stdout",
       "text": [
        "\n",
        "0.7 4.1\n",
        "[-1.00823804 -0.01256726]"
       ]
      },
      {
       "output_type": "stream",
       "stream": "stdout",
       "text": [
        "\n",
        "0.7 4.2\n",
        "[-1.01127499 -0.00455379]"
       ]
      },
      {
       "output_type": "stream",
       "stream": "stdout",
       "text": [
        "\n",
        "0.7 4.3\n",
        "[-1.01232741  0.00216078]"
       ]
      },
      {
       "output_type": "stream",
       "stream": "stdout",
       "text": [
        "\n",
        "0.7 4.4\n",
        "[-1.01203367  0.0074102 ]"
       ]
      },
      {
       "output_type": "stream",
       "stream": "stdout",
       "text": [
        "\n",
        "0.7 4.5\n",
        "[-1.01086728  0.01127703]"
       ]
      },
      {
       "output_type": "stream",
       "stream": "stdout",
       "text": [
        "\n",
        "0.7 4.6\n",
        "[-1.00916614  0.0139387 ]"
       ]
      },
      {
       "output_type": "stream",
       "stream": "stdout",
       "text": [
        "\n",
        "0.7 4.7\n",
        "[-1.00716584  0.01559541]"
       ]
      },
      {
       "output_type": "stream",
       "stream": "stdout",
       "text": [
        "\n",
        "0.7 4.8\n",
        "[-1.00502756  0.01643806]"
       ]
      },
      {
       "output_type": "stream",
       "stream": "stdout",
       "text": [
        "\n",
        "0.7 4.9\n",
        "[-1.00285937  0.01663554]"
       ]
      },
      {
       "output_type": "stream",
       "stream": "stdout",
       "text": [
        "\n",
        "0.7 5.0\n",
        "[-1.00073181  0.01633144]"
       ]
      },
      {
       "output_type": "stream",
       "stream": "stdout",
       "text": [
        "\n",
        "0.7 5.1\n",
        "[-0.99868906  0.01564498]"
       ]
      },
      {
       "output_type": "stream",
       "stream": "stdout",
       "text": [
        "\n",
        "0.7 5.2\n",
        "[-0.99675691  0.01467363]"
       ]
      },
      {
       "output_type": "stream",
       "stream": "stdout",
       "text": [
        "\n",
        "0.7 5.3\n",
        "[-0.99494839  0.01349629]"
       ]
      },
      {
       "output_type": "stream",
       "stream": "stdout",
       "text": [
        "\n",
        "0.7 5.4\n",
        "[-0.99326776  0.01217637]"
       ]
      },
      {
       "output_type": "stream",
       "stream": "stdout",
       "text": [
        "\n",
        "0.7 5.5\n",
        "[-0.99171333  0.01076463]"
       ]
      },
      {
       "output_type": "stream",
       "stream": "stdout",
       "text": [
        "\n",
        "0.7 5.6\n",
        "[-0.99027944  0.00930152]"
       ]
      },
      {
       "output_type": "stream",
       "stream": "stdout",
       "text": [
        "\n",
        "0.7 5.7\n",
        "[-0.98895789  0.00781927]"
       ]
      },
      {
       "output_type": "stream",
       "stream": "stdout",
       "text": [
        "\n",
        "0.7 5.8\n",
        "[-0.98773886  0.00634358]"
       ]
      },
      {
       "output_type": "stream",
       "stream": "stdout",
       "text": [
        "\n",
        "0.7 5.9\n",
        "[-0.98661167  0.00489503]"
       ]
      },
      {
       "output_type": "stream",
       "stream": "stdout",
       "text": [
        "\n",
        "0.7 6.0\n",
        "[-0.9855652   0.00349023]"
       ]
      },
      {
       "output_type": "stream",
       "stream": "stdout",
       "text": [
        "\n",
        "0.7 6.1\n",
        "[-0.98458827  0.00214287]"
       ]
      },
      {
       "output_type": "stream",
       "stream": "stdout",
       "text": [
        "\n",
        "0.7 6.2\n",
        "[ -9.83669837e-01   8.64504557e-04]"
       ]
      },
      {
       "output_type": "stream",
       "stream": "stdout",
       "text": [
        "\n",
        "0.7 6.3\n",
        "[ -9.82799178e-01  -3.34709090e-04]"
       ]
      },
      {
       "output_type": "stream",
       "stream": "stdout",
       "text": [
        "\n",
        "0.7 6.4\n",
        "[-0.981966   -0.00144534]"
       ]
      },
      {
       "output_type": "stream",
       "stream": "stdout",
       "text": [
        "\n",
        "0.7 6.5\n",
        "[-0.98116055 -0.00245811]"
       ]
      },
      {
       "output_type": "stream",
       "stream": "stdout",
       "text": [
        "\n",
        "0.7 6.6\n",
        "[-0.98037371 -0.00336328]"
       ]
      },
      {
       "output_type": "stream",
       "stream": "stdout",
       "text": [
        "\n",
        "0.7 6.7\n",
        "[-0.97959709 -0.00415011]"
       ]
      },
      {
       "output_type": "stream",
       "stream": "stdout",
       "text": [
        "\n",
        "0.7 6.8\n",
        "[-0.9788232 -0.0048062]"
       ]
      },
      {
       "output_type": "stream",
       "stream": "stdout",
       "text": [
        "\n",
        "0.7 6.9\n",
        "[-0.97804563 -0.00531684]"
       ]
      },
      {
       "output_type": "stream",
       "stream": "stdout",
       "text": [
        "\n",
        "0.7 7.0\n",
        "[-0.97725933 -0.00566421]"
       ]
      },
      {
       "output_type": "stream",
       "stream": "stdout",
       "text": [
        "\n",
        "0.7 7.1\n",
        "[-0.97646097 -0.00582644]"
       ]
      },
      {
       "output_type": "stream",
       "stream": "stdout",
       "text": [
        "\n",
        "0.7 7.2\n",
        "[-0.97564957 -0.00577657]"
       ]
      },
      {
       "output_type": "stream",
       "stream": "stdout",
       "text": [
        "\n",
        "0.7 7.3\n",
        "[-0.97482722 -0.00548111]"
       ]
      },
      {
       "output_type": "stream",
       "stream": "stdout",
       "text": [
        "\n",
        "0.7 7.4\n",
        "[-0.97400029 -0.00489844]"
       ]
      },
      {
       "output_type": "stream",
       "stream": "stdout",
       "text": [
        "\n",
        "0.7 7.5\n",
        "[-0.97318098 -0.00397664]"
       ]
      },
      {
       "output_type": "stream",
       "stream": "stdout",
       "text": [
        "\n",
        "0.7 7.6\n",
        "[-0.97238971 -0.00265092]"
       ]
      },
      {
       "output_type": "stream",
       "stream": "stdout",
       "text": [
        "\n",
        "0.7 7.7\n",
        "[ -9.71658482e-01  -8.40319888e-04]"
       ]
      },
      {
       "output_type": "stream",
       "stream": "stdout",
       "text": [
        "\n",
        "0.7 7.8\n",
        "[-0.97103578  0.00155638]"
       ]
      },
      {
       "output_type": "stream",
       "stream": "stdout",
       "text": [
        "\n",
        "0.7 7.9\n",
        "[-0.97059382  0.00466555]"
       ]
      },
      {
       "output_type": "stream",
       "stream": "stdout",
       "text": [
        "\n",
        "0.7 8.0\n",
        "[-0.97043926  0.00864444]"
       ]
      },
      {
       "output_type": "stream",
       "stream": "stdout",
       "text": [
        "\n",
        "0.7 8.1\n",
        "[-0.97072932  0.01368712]"
       ]
      },
      {
       "output_type": "stream",
       "stream": "stdout",
       "text": [
        "\n",
        "0.7 8.2\n",
        "[-0.97169622  0.0200289 ]"
       ]
      },
      {
       "output_type": "stream",
       "stream": "stdout",
       "text": [
        "\n",
        "0.7 8.3\n",
        "[-0.97368452  0.02794457]"
       ]
      },
      {
       "output_type": "stream",
       "stream": "stdout",
       "text": [
        "\n",
        "0.7 8.4\n",
        "[-0.97720827  0.03772812]"
       ]
      },
      {
       "output_type": "stream",
       "stream": "stdout",
       "text": [
        "\n",
        "0.7 8.5\n",
        "[-0.98303722  0.04962216]"
       ]
      },
      {
       "output_type": "stream",
       "stream": "stdout",
       "text": [
        "\n",
        "0.7 8.6\n",
        "[-0.99231922  0.06361214]"
       ]
      },
      {
       "output_type": "stream",
       "stream": "stdout",
       "text": [
        "\n",
        "0.7 8.7\n",
        "[-1.00671804  0.07885091]"
       ]
      },
      {
       "output_type": "stream",
       "stream": "stdout",
       "text": [
        "\n",
        "0.7 8.8\n",
        "[-1.02839427  0.09203799]"
       ]
      },
      {
       "output_type": "stream",
       "stream": "stdout",
       "text": [
        "\n",
        "0.7 8.9\n",
        "[-1.05891324  0.09277852]"
       ]
      },
      {
       "output_type": "stream",
       "stream": "stdout",
       "text": [
        "\n",
        "0.7 9.0\n",
        "[-1.09245218  0.05091382]"
       ]
      },
      {
       "output_type": "stream",
       "stream": "stdout",
       "text": [
        "\n",
        "0.7 9.1\n",
        "[-1.08025419 -0.10272891]"
       ]
      },
      {
       "output_type": "stream",
       "stream": "stdout",
       "text": [
        "\n",
        "0.7 9.2\n",
        "[-0.78688321 -0.3243383 ]"
       ]
      },
      {
       "output_type": "stream",
       "stream": "stdout",
       "text": [
        "\n",
        "0.7 9.3\n",
        "[ 0.17454996  0.10636054]"
       ]
      },
      {
       "output_type": "stream",
       "stream": "stdout",
       "text": [
        "\n",
        "0.7 9.4\n",
        "[ 0.96610938  0.25958066]"
       ]
      },
      {
       "output_type": "stream",
       "stream": "stdout",
       "text": [
        "\n",
        "0.7 9.5\n",
        "[ 1.09949813 -0.01272209]"
       ]
      },
      {
       "output_type": "stream",
       "stream": "stdout",
       "text": [
        "\n",
        "0.7 9.6\n",
        "[ 1.05652969 -0.09479262]"
       ]
      },
      {
       "output_type": "stream",
       "stream": "stdout",
       "text": [
        "\n",
        "0.7 9.7\n",
        "[ 1.0102114  -0.08362467]"
       ]
      },
      {
       "output_type": "stream",
       "stream": "stdout",
       "text": [
        "\n",
        "0.7 9.8\n",
        "[ 0.98225536 -0.05251422]"
       ]
      },
      {
       "output_type": "stream",
       "stream": "stdout",
       "text": [
        "\n",
        "0.7 9.9\n",
        "[ 0.96892032 -0.0232122 ]"
       ]
      },
      {
       "output_type": "stream",
       "stream": "stdout",
       "text": [
        "\n",
        "0.8 0.0\n",
        "[  9.98646442e-01   7.22547054e-04]"
       ]
      },
      {
       "output_type": "stream",
       "stream": "stdout",
       "text": [
        "\n",
        "0.8 0.1\n",
        "[ 0.99894149  0.0013322 ]"
       ]
      },
      {
       "output_type": "stream",
       "stream": "stdout",
       "text": [
        "\n",
        "0.8 0.2\n",
        "[ 0.99930544  0.00180484]"
       ]
      },
      {
       "output_type": "stream",
       "stream": "stdout",
       "text": [
        "\n",
        "0.8 0.3\n",
        "[ 0.9997154   0.00216626]"
       ]
      },
      {
       "output_type": "stream",
       "stream": "stdout",
       "text": [
        "\n",
        "0.8 0.4\n",
        "[ 1.0001548   0.00244009]"
       ]
      },
      {
       "output_type": "stream",
       "stream": "stdout",
       "text": [
        "\n",
        "0.8 0.5\n",
        "[ 1.0006116   0.00264775]"
       ]
      },
      {
       "output_type": "stream",
       "stream": "stdout",
       "text": [
        "\n",
        "0.8 0.6\n",
        "[ 1.00107693  0.00280873]"
       ]
      },
      {
       "output_type": "stream",
       "stream": "stdout",
       "text": [
        "\n",
        "0.8 0.7\n",
        "[ 1.00154413  0.00294094]"
       ]
      },
      {
       "output_type": "stream",
       "stream": "stdout",
       "text": [
        "\n",
        "0.8 0.8\n",
        "[ 1.00200797  0.00306119]"
       ]
      },
      {
       "output_type": "stream",
       "stream": "stdout",
       "text": [
        "\n",
        "0.8 0.9\n",
        "[ 1.00246408  0.00318553]"
       ]
      },
      {
       "output_type": "stream",
       "stream": "stdout",
       "text": [
        "\n",
        "0.8 1.0\n",
        "[ 1.0029084  0.0033298]"
       ]
      },
      {
       "output_type": "stream",
       "stream": "stdout",
       "text": [
        "\n",
        "0.8 1.1\n",
        "[ 1.00333676  0.00350998]"
       ]
      },
      {
       "output_type": "stream",
       "stream": "stdout",
       "text": [
        "\n",
        "0.8 1.2\n",
        "[ 1.00374436  0.00374265]"
       ]
      },
      {
       "output_type": "stream",
       "stream": "stdout",
       "text": [
        "\n",
        "0.8 1.3\n",
        "[ 1.00412532  0.00404545]"
       ]
      },
      {
       "output_type": "stream",
       "stream": "stdout",
       "text": [
        "\n",
        "0.8 1.4\n",
        "[ 1.00447199  0.00443752]"
       ]
      },
      {
       "output_type": "stream",
       "stream": "stdout",
       "text": [
        "\n",
        "0.8 1.5\n",
        "[ 1.00477431  0.00493998]"
       ]
      },
      {
       "output_type": "stream",
       "stream": "stdout",
       "text": [
        "\n",
        "0.8 1.6\n",
        "[ 1.00501878  0.00557637]"
       ]
      },
      {
       "output_type": "stream",
       "stream": "stdout",
       "text": [
        "\n",
        "0.8 1.7\n",
        "[ 1.00518727  0.00637302]"
       ]
      },
      {
       "output_type": "stream",
       "stream": "stdout",
       "text": [
        "\n",
        "0.8 1.8\n",
        "[ 1.00525532  0.00735934]"
       ]
      },
      {
       "output_type": "stream",
       "stream": "stdout",
       "text": [
        "\n",
        "0.8 1.9\n",
        "[ 1.0051899   0.00856768]"
       ]
      },
      {
       "output_type": "stream",
       "stream": "stdout",
       "text": [
        "\n",
        "0.8 2.0\n",
        "[ 1.00494639  0.01003265]"
       ]
      },
      {
       "output_type": "stream",
       "stream": "stdout",
       "text": [
        "\n",
        "0.8 2.1\n",
        "[ 1.00446434  0.01178897]"
       ]
      },
      {
       "output_type": "stream",
       "stream": "stdout",
       "text": [
        "\n",
        "0.8 2.2\n",
        "[ 1.00366196  0.01386693]"
       ]
      },
      {
       "output_type": "stream",
       "stream": "stdout",
       "text": [
        "\n",
        "0.8 2.3\n",
        "[ 1.00242861  0.01628284]"
       ]
      },
      {
       "output_type": "stream",
       "stream": "stdout",
       "text": [
        "\n",
        "0.8 2.4\n",
        "[ 1.00061562  0.01901986]"
       ]
      },
      {
       "output_type": "stream",
       "stream": "stdout",
       "text": [
        "\n",
        "0.8 2.5\n",
        "[ 0.99802614  0.02198984]"
       ]
      },
      {
       "output_type": "stream",
       "stream": "stdout",
       "text": [
        "\n",
        "0.8 2.6\n",
        "[ 0.99440928  0.02495629]"
       ]
      },
      {
       "output_type": "stream",
       "stream": "stdout",
       "text": [
        "\n",
        "0.8 2.7\n",
        "[ 0.98947553  0.02737566]"
       ]
      },
      {
       "output_type": "stream",
       "stream": "stdout",
       "text": [
        "\n",
        "0.8 2.8\n",
        "[ 0.98299063  0.0280594 ]"
       ]
      },
      {
       "output_type": "stream",
       "stream": "stdout",
       "text": [
        "\n",
        "0.8 2.9\n",
        "[ 0.9751453   0.02442523]"
       ]
      },
      {
       "output_type": "stream",
       "stream": "stdout",
       "text": [
        "\n",
        "0.8 3.0\n",
        "[ 0.96794284  0.01079185]"
       ]
      },
      {
       "output_type": "stream",
       "stream": "stdout",
       "text": [
        "\n",
        "0.8 3.1\n",
        "[ 0.97078527 -0.02501378]"
       ]
      },
      {
       "output_type": "stream",
       "stream": "stdout",
       "text": [
        "\n",
        "0.8 3.2\n",
        "[ 1.02401246 -0.09103923]"
       ]
      },
      {
       "output_type": "stream",
       "stream": "stdout",
       "text": [
        "\n",
        "0.8 3.3\n",
        "[ 0.88108518  0.30498305]"
       ]
      },
      {
       "output_type": "stream",
       "stream": "stdout",
       "text": [
        "\n",
        "0.8 3.4\n",
        "[-1.09498806  0.04296879]"
       ]
      },
      {
       "output_type": "stream",
       "stream": "stdout",
       "text": [
        "\n",
        "0.8 3.5\n",
        "[-0.9798883  0.0470369]"
       ]
      },
      {
       "output_type": "stream",
       "stream": "stdout",
       "text": [
        "\n",
        "0.8 3.6\n",
        "[-0.96743132 -0.01156501]"
       ]
      },
      {
       "output_type": "stream",
       "stream": "stdout",
       "text": [
        "\n",
        "0.8 3.7\n",
        "[-0.97973833 -0.02899236]"
       ]
      },
      {
       "output_type": "stream",
       "stream": "stdout",
       "text": [
        "\n",
        "0.8 3.8\n",
        "[-0.99283356 -0.02833437]"
       ]
      },
      {
       "output_type": "stream",
       "stream": "stdout",
       "text": [
        "\n",
        "0.8 3.9\n",
        "[-1.00233818 -0.02117552]"
       ]
      },
      {
       "output_type": "stream",
       "stream": "stdout",
       "text": [
        "\n",
        "0.8 4.0\n",
        "[-1.00820229 -0.01253247]"
       ]
      },
      {
       "output_type": "stream",
       "stream": "stdout",
       "text": [
        "\n",
        "0.8 4.1\n",
        "[-1.01123351 -0.0044777 ]"
       ]
      },
      {
       "output_type": "stream",
       "stream": "stdout",
       "text": [
        "\n",
        "0.8 4.2\n",
        "[-1.01225498  0.00223965]"
       ]
      },
      {
       "output_type": "stream",
       "stream": "stdout",
       "text": [
        "\n",
        "0.8 4.3\n",
        "[-1.01192382  0.00746153]"
       ]
      },
      {
       "output_type": "stream",
       "stream": "stdout",
       "text": [
        "\n",
        "0.8 4.4\n",
        "[-1.01072343  0.01128175]"
       ]
      },
      {
       "output_type": "stream",
       "stream": "stdout",
       "text": [
        "\n",
        "0.8 4.5\n",
        "[-1.0089961   0.01388725]"
       ]
      },
      {
       "output_type": "stream",
       "stream": "stdout",
       "text": [
        "\n",
        "0.8 4.6\n",
        "[-1.00697874  0.01548514]"
       ]
      },
      {
       "output_type": "stream",
       "stream": "stdout",
       "text": [
        "\n",
        "0.8 4.7\n",
        "[-1.00483223  0.01627082]"
       ]
      },
      {
       "output_type": "stream",
       "stream": "stdout",
       "text": [
        "\n",
        "0.8 4.8\n",
        "[-1.00266359  0.01641586]"
       ]
      },
      {
       "output_type": "stream",
       "stream": "stdout",
       "text": [
        "\n",
        "0.8 4.9\n",
        "[-1.00054204  0.0160652 ]"
       ]
      },
      {
       "output_type": "stream",
       "stream": "stdout",
       "text": [
        "\n",
        "0.8 5.0\n",
        "[-0.99851043  0.01533854]"
       ]
      },
      {
       "output_type": "stream",
       "stream": "stdout",
       "text": [
        "\n",
        "0.8 5.1\n",
        "[-0.9965933   0.01433328]"
       ]
      },
      {
       "output_type": "stream",
       "stream": "stdout",
       "text": [
        "\n",
        "0.8 5.2\n",
        "[-0.99480263  0.01312793]"
       ]
      },
      {
       "output_type": "stream",
       "stream": "stdout",
       "text": [
        "\n",
        "0.8 5.3\n",
        "[-0.99314177  0.01178532]"
       ]
      },
      {
       "output_type": "stream",
       "stream": "stdout",
       "text": [
        "\n",
        "0.8 5.4\n",
        "[-0.99160828  0.01035551]"
       ]
      },
      {
       "output_type": "stream",
       "stream": "stdout",
       "text": [
        "\n",
        "0.8 5.5\n",
        "[-0.99019591  0.00887826]"
       ]
      },
      {
       "output_type": "stream",
       "stream": "stdout",
       "text": [
        "\n",
        "0.8 5.6\n",
        "[-0.98889595  0.0073851 ]"
       ]
      },
      {
       "output_type": "stream",
       "stream": "stdout",
       "text": [
        "\n",
        "0.8 5.7\n",
        "[-0.98769823  0.00590107]"
       ]
      },
      {
       "output_type": "stream",
       "stream": "stdout",
       "text": [
        "\n",
        "0.8 5.8\n",
        "[-0.98659176  0.00444612]"
       ]
      },
      {
       "output_type": "stream",
       "stream": "stdout",
       "text": [
        "\n",
        "0.8 5.9\n",
        "[-0.98556519  0.0030363 ]"
       ]
      },
      {
       "output_type": "stream",
       "stream": "stdout",
       "text": [
        "\n",
        "0.8 6.0\n",
        "[-0.98460715  0.00168475]"
       ]
      },
      {
       "output_type": "stream",
       "stream": "stdout",
       "text": [
        "\n",
        "0.8 6.1\n",
        "[ -9.83706443e-01   4.02525645e-04]"
       ]
      },
      {
       "output_type": "stream",
       "stream": "stdout",
       "text": [
        "\n",
        "0.8 6.2\n",
        "[ -9.82852233e-01  -8.00671074e-04]"
       ]
      },
      {
       "output_type": "stream",
       "stream": "stdout",
       "text": [
        "\n",
        "0.8 6.3\n",
        "[-0.98203411 -0.00191585]"
       ]
      },
      {
       "output_type": "stream",
       "stream": "stdout",
       "text": [
        "\n",
        "0.8 6.4\n",
        "[-0.98124223 -0.00293414]"
       ]
      },
      {
       "output_type": "stream",
       "stream": "stdout",
       "text": [
        "\n",
        "0.8 6.5\n",
        "[-0.98046734 -0.00384624]"
       ]
      },
      {
       "output_type": "stream",
       "stream": "stdout",
       "text": [
        "\n",
        "0.8 6.6\n",
        "[-0.97970095 -0.00464178]"
       ]
      },
      {
       "output_type": "stream",
       "stream": "stdout",
       "text": [
        "\n",
        "0.8 6.7\n",
        "[-0.9789354  -0.00530878]"
       ]
      },
      {
       "output_type": "stream",
       "stream": "stdout",
       "text": [
        "\n",
        "0.8 6.8\n",
        "[-0.97816411 -0.00583295]"
       ]
      },
      {
       "output_type": "stream",
       "stream": "stdout",
       "text": [
        "\n",
        "0.8 6.9\n",
        "[-0.97738178 -0.00619691]"
       ]
      },
      {
       "output_type": "stream",
       "stream": "stdout",
       "text": [
        "\n",
        "0.8 7.0\n",
        "[-0.97658479 -0.00637929]"
       ]
      },
      {
       "output_type": "stream",
       "stream": "stdout",
       "text": [
        "\n",
        "0.8 7.1\n",
        "[-0.97577178 -0.0063536 ]"
       ]
      },
      {
       "output_type": "stream",
       "stream": "stdout",
       "text": [
        "\n",
        "0.8 7.2\n",
        "[-0.97494435 -0.00608696]"
       ]
      },
      {
       "output_type": "stream",
       "stream": "stdout",
       "text": [
        "\n",
        "0.8 7.3\n",
        "[-0.97410821 -0.00553835]"
       ]
      },
      {
       "output_type": "stream",
       "stream": "stdout",
       "text": [
        "\n",
        "0.8 7.4\n",
        "[-0.97327475 -0.00465654]"
       ]
      },
      {
       "output_type": "stream",
       "stream": "stdout",
       "text": [
        "\n",
        "0.8 7.5\n",
        "[-0.97246333 -0.00337751]"
       ]
      },
      {
       "output_type": "stream",
       "stream": "stdout",
       "text": [
        "\n",
        "0.8 7.6\n",
        "[-0.97170455 -0.0016211 ]"
       ]
      },
      {
       "output_type": "stream",
       "stream": "stdout",
       "text": [
        "\n",
        "0.8 7.7\n",
        "[ -9.71045059e-01   7.13062917e-04]"
       ]
      },
      {
       "output_type": "stream",
       "stream": "stdout",
       "text": [
        "\n",
        "0.8 7.8\n",
        "[-0.97055466  0.00375053]"
       ]
      },
      {
       "output_type": "stream",
       "stream": "stdout",
       "text": [
        "\n",
        "0.8 7.9\n",
        "[-0.9703368   0.00764793]"
       ]
      },
      {
       "output_type": "stream",
       "stream": "stdout",
       "text": [
        "\n",
        "0.8 8.0\n",
        "[-0.97054439  0.01259916]"
       ]
      },
      {
       "output_type": "stream",
       "stream": "stdout",
       "text": [
        "\n",
        "0.8 8.1\n",
        "[-0.97140386  0.01884048]"
       ]
      },
      {
       "output_type": "stream",
       "stream": "stdout",
       "text": [
        "\n",
        "0.8 8.2\n",
        "[-0.97325195  0.02664997]"
       ]
      },
      {
       "output_type": "stream",
       "stream": "stdout",
       "text": [
        "\n",
        "0.8 8.3\n",
        "[-0.97659229  0.03632998]"
       ]
      },
      {
       "output_type": "stream",
       "stream": "stdout",
       "text": [
        "\n",
        "0.8 8.4\n",
        "[-0.98218124  0.04814255]"
       ]
      },
      {
       "output_type": "stream",
       "stream": "stdout",
       "text": [
        "\n",
        "0.8 8.5\n",
        "[-0.99115138  0.0621174 ]"
       ]
      },
      {
       "output_type": "stream",
       "stream": "stdout",
       "text": [
        "\n",
        "0.8 8.6\n",
        "[-1.0051566   0.07750973]"
       ]
      },
      {
       "output_type": "stream",
       "stream": "stdout",
       "text": [
        "\n",
        "0.8 8.7\n",
        "[-1.02638433  0.09126289]"
       ]
      },
      {
       "output_type": "stream",
       "stream": "stdout",
       "text": [
        "\n",
        "0.8 8.8\n",
        "[-1.05659166  0.09357279]"
       ]
      },
      {
       "output_type": "stream",
       "stream": "stdout",
       "text": [
        "\n",
        "0.8 8.9\n",
        "[-1.09085127  0.05557565]"
       ]
      },
      {
       "output_type": "stream",
       "stream": "stdout",
       "text": [
        "\n",
        "0.8 9.0\n",
        "[-1.08418053 -0.09128399]"
       ]
      },
      {
       "output_type": "stream",
       "stream": "stdout",
       "text": [
        "\n",
        "0.8 9.1\n",
        "[-0.81139401 -0.32171711]"
       ]
      },
      {
       "output_type": "stream",
       "stream": "stdout",
       "text": [
        "\n",
        "0.8 9.2\n",
        "[ 0.13530426  0.0829293 ]"
       ]
      },
      {
       "output_type": "stream",
       "stream": "stdout",
       "text": [
        "\n",
        "0.8 9.3\n",
        "[ 0.9553594   0.26731026]"
       ]
      },
      {
       "output_type": "stream",
       "stream": "stdout",
       "text": [
        "\n",
        "0.8 9.4\n",
        "[ 1.0996793  -0.00891873]"
       ]
      },
      {
       "output_type": "stream",
       "stream": "stdout",
       "text": [
        "\n",
        "0.8 9.5\n",
        "[ 1.05737122 -0.09451774]"
       ]
      },
      {
       "output_type": "stream",
       "stream": "stdout",
       "text": [
        "\n",
        "0.8 9.6\n",
        "[ 1.01060465 -0.08390099]"
       ]
      },
      {
       "output_type": "stream",
       "stream": "stdout",
       "text": [
        "\n",
        "0.8 9.7\n",
        "[ 0.98237661 -0.05268669]"
       ]
      },
      {
       "output_type": "stream",
       "stream": "stdout",
       "text": [
        "\n",
        "0.8 9.8\n",
        "[ 0.96894739 -0.02324459]"
       ]
      },
      {
       "output_type": "stream",
       "stream": "stdout",
       "text": [
        "\n",
        "0.8 9.9\n",
        "[  9.64886908e-01  -4.67693311e-04]"
       ]
      },
      {
       "output_type": "stream",
       "stream": "stdout",
       "text": [
        "\n",
        "0.9 0.0\n",
        "[  9.99315629e-01   5.09841781e-04]"
       ]
      },
      {
       "output_type": "stream",
       "stream": "stdout",
       "text": [
        "\n",
        "0.9 0.1\n",
        "[  9.99644779e-01   9.51853417e-04]"
       ]
      },
      {
       "output_type": "stream",
       "stream": "stdout",
       "text": [
        "\n",
        "0.9 0.2\n",
        "[ 1.00002259  0.00129003]"
       ]
      },
      {
       "output_type": "stream",
       "stream": "stdout",
       "text": [
        "\n",
        "0.9 0.3\n",
        "[ 1.00043319  0.00154573]"
       ]
      },
      {
       "output_type": "stream",
       "stream": "stdout",
       "text": [
        "\n",
        "0.9 0.4\n",
        "[ 1.00086495  0.00173861]"
       ]
      },
      {
       "output_type": "stream",
       "stream": "stdout",
       "text": [
        "\n",
        "0.9 0.5\n",
        "[ 1.00130926  0.00188675]"
       ]
      },
      {
       "output_type": "stream",
       "stream": "stdout",
       "text": [
        "\n",
        "0.9 0.6\n",
        "[ 1.00175964  0.00200697]"
       ]
      },
      {
       "output_type": "stream",
       "stream": "stdout",
       "text": [
        "\n",
        "0.9 0.7\n",
        "[ 1.002211    0.00211517]"
       ]
      },
      {
       "output_type": "stream",
       "stream": "stdout",
       "text": [
        "\n",
        "0.9 0.8\n",
        "[ 1.00265912  0.00222673]"
       ]
      },
      {
       "output_type": "stream",
       "stream": "stdout",
       "text": [
        "\n",
        "0.9 0.9\n",
        "[ 1.00310014  0.00235692]"
       ]
      },
      {
       "output_type": "stream",
       "stream": "stdout",
       "text": [
        "\n",
        "0.9 1.0\n",
        "[ 1.00353011  0.00252127]"
       ]
      },
      {
       "output_type": "stream",
       "stream": "stdout",
       "text": [
        "\n",
        "0.9 1.1\n",
        "[ 1.00394457  0.00273604]"
       ]
      },
      {
       "output_type": "stream",
       "stream": "stdout",
       "text": [
        "\n",
        "0.9 1.2\n",
        "[ 1.004338    0.00301866]"
       ]
      },
      {
       "output_type": "stream",
       "stream": "stdout",
       "text": [
        "\n",
        "0.9 1.3\n",
        "[ 1.00470328  0.00338816]"
       ]
      },
      {
       "output_type": "stream",
       "stream": "stdout",
       "text": [
        "\n",
        "0.9 1.4\n",
        "[ 1.00503099  0.00386571]"
       ]
      },
      {
       "output_type": "stream",
       "stream": "stdout",
       "text": [
        "\n",
        "0.9 1.5\n",
        "[ 1.00530843  0.0044751 ]"
       ]
      },
      {
       "output_type": "stream",
       "stream": "stdout",
       "text": [
        "\n",
        "0.9 1.6\n",
        "[ 1.00551845  0.00524316]"
       ]
      },
      {
       "output_type": "stream",
       "stream": "stdout",
       "text": [
        "\n",
        "0.9 1.7\n",
        "[ 1.00563779  0.00620022]"
       ]
      },
      {
       "output_type": "stream",
       "stream": "stdout",
       "text": [
        "\n",
        "0.9 1.8\n",
        "[ 1.00563488  0.00738011]"
       ]
      },
      {
       "output_type": "stream",
       "stream": "stdout",
       "text": [
        "\n",
        "0.9 1.9\n",
        "[ 1.00546679  0.00881979]"
       ]
      },
      {
       "output_type": "stream",
       "stream": "stdout",
       "text": [
        "\n",
        "0.9 2.0\n",
        "[ 1.00507505  0.01055768]"
       ]
      },
      {
       "output_type": "stream",
       "stream": "stdout",
       "text": [
        "\n",
        "0.9 2.1\n",
        "[ 1.00438001  0.01262982]"
       ]
      },
      {
       "output_type": "stream",
       "stream": "stdout",
       "text": [
        "\n",
        "0.9 2.2\n",
        "[ 1.00327317  0.01506155]"
       ]
      },
      {
       "output_type": "stream",
       "stream": "stdout",
       "text": [
        "\n",
        "0.9 2.3\n",
        "[ 1.00160731  0.01785037]"
       ]
      },
      {
       "output_type": "stream",
       "stream": "stdout",
       "text": [
        "\n",
        "0.9 2.4\n",
        "[ 0.99918513  0.02093121]"
       ]
      },
      {
       "output_type": "stream",
       "stream": "stdout",
       "text": [
        "\n",
        "0.9 2.5\n",
        "[ 0.99575003  0.02410563]"
       ]
      },
      {
       "output_type": "stream",
       "stream": "stdout",
       "text": [
        "\n",
        "0.9 2.6\n",
        "[ 0.99099365  0.02689451]"
       ]
      },
      {
       "output_type": "stream",
       "stream": "stdout",
       "text": [
        "\n",
        "0.9 2.7\n",
        "[ 0.98462949  0.02822211]"
       ]
      },
      {
       "output_type": "stream",
       "stream": "stdout",
       "text": [
        "\n",
        "0.9 2.8\n",
        "[ 0.97670551  0.02571046]"
       ]
      },
      {
       "output_type": "stream",
       "stream": "stdout",
       "text": [
        "\n",
        "0.9 2.9\n",
        "[ 0.96881176  0.0140479 ]"
       ]
      },
      {
       "output_type": "stream",
       "stream": "stdout",
       "text": [
        "\n",
        "0.9 3.0\n",
        "[ 0.96901301 -0.01849624]"
       ]
      },
      {
       "output_type": "stream",
       "stream": "stdout",
       "text": [
        "\n",
        "0.9 3.1\n",
        "[ 1.01354994 -0.08513301]"
       ]
      },
      {
       "output_type": "stream",
       "stream": "stdout",
       "text": [
        "\n",
        "0.9 3.2\n",
        "[ 0.98830265  0.24117661]"
       ]
      },
      {
       "output_type": "stream",
       "stream": "stdout",
       "text": [
        "\n",
        "0.9 3.3\n",
        "[-1.09916753  0.01560059]"
       ]
      },
      {
       "output_type": "stream",
       "stream": "stdout",
       "text": [
        "\n",
        "0.9 3.4\n",
        "[-0.98185055  0.05047418]"
       ]
      },
      {
       "output_type": "stream",
       "stream": "stdout",
       "text": [
        "\n",
        "0.9 3.5\n",
        "[-0.9672772  -0.01076671]"
       ]
      },
      {
       "output_type": "stream",
       "stream": "stdout",
       "text": [
        "\n",
        "0.9 3.6\n",
        "[-0.97961901 -0.02891264]"
       ]
      },
      {
       "output_type": "stream",
       "stream": "stdout",
       "text": [
        "\n",
        "0.9 3.7\n",
        "[-0.99287083 -0.02827827]"
       ]
      },
      {
       "output_type": "stream",
       "stream": "stdout",
       "text": [
        "\n",
        "0.9 3.8\n",
        "[-1.00242668 -0.02101671]"
       ]
      },
      {
       "output_type": "stream",
       "stream": "stdout",
       "text": [
        "\n",
        "0.9 3.9\n",
        "[-1.0082639  -0.01230276]"
       ]
      },
      {
       "output_type": "stream",
       "stream": "stdout",
       "text": [
        "\n",
        "0.9 4.0\n",
        "[-1.01123341 -0.00423497]"
       ]
      },
      {
       "output_type": "stream",
       "stream": "stdout",
       "text": [
        "\n",
        "0.9 4.1\n",
        "[-1.01218624  0.00244857]"
       ]
      },
      {
       "output_type": "stream",
       "stream": "stdout",
       "text": [
        "\n",
        "0.9 4.2\n",
        "[-1.01179384  0.00760731]"
       ]
      },
      {
       "output_type": "stream",
       "stream": "stdout",
       "text": [
        "\n",
        "0.9 4.3\n",
        "[-1.0105455  0.0113499]"
       ]
      },
      {
       "output_type": "stream",
       "stream": "stdout",
       "text": [
        "\n",
        "0.9 4.4\n",
        "[-1.00878482  0.01387385]"
       ]
      },
      {
       "output_type": "stream",
       "stream": "stdout",
       "text": [
        "\n",
        "0.9 4.5\n",
        "[-1.00674775  0.01539296]"
       ]
      },
      {
       "output_type": "stream",
       "stream": "stdout",
       "text": [
        "\n",
        "0.9 4.6\n",
        "[-1.00459324  0.01610646]"
       ]
      },
      {
       "output_type": "stream",
       "stream": "stdout",
       "text": [
        "\n",
        "0.9 4.7\n",
        "[-1.00242618  0.0161878 ]"
       ]
      },
      {
       "output_type": "stream",
       "stream": "stdout",
       "text": [
        "\n",
        "0.9 4.8\n",
        "[-1.00031369  0.01578252]"
       ]
      },
      {
       "output_type": "stream",
       "stream": "stdout",
       "text": [
        "\n",
        "0.9 4.9\n",
        "[-0.99829677  0.01501015]"
       ]
      },
      {
       "output_type": "stream",
       "stream": "stdout",
       "text": [
        "\n",
        "0.9 5.0\n",
        "[-0.99639843  0.01396745]"
       ]
      },
      {
       "output_type": "stream",
       "stream": "stdout",
       "text": [
        "\n",
        "0.9 5.1\n",
        "[-0.99462932  0.01273208]"
       ]
      },
      {
       "output_type": "stream",
       "stream": "stdout",
       "text": [
        "\n",
        "0.9 5.2\n",
        "[-0.99299178  0.0113659 ]"
       ]
      },
      {
       "output_type": "stream",
       "stream": "stdout",
       "text": [
        "\n",
        "0.9 5.3\n",
        "[-0.99148253  0.00991802]"
       ]
      },
      {
       "output_type": "stream",
       "stream": "stdout",
       "text": [
        "\n",
        "0.9 5.4\n",
        "[-0.99009468  0.00842727]"
       ]
      },
      {
       "output_type": "stream",
       "stream": "stdout",
       "text": [
        "\n",
        "0.9 5.5\n",
        "[-0.98881903  0.00692431]"
       ]
      },
      {
       "output_type": "stream",
       "stream": "stdout",
       "text": [
        "\n",
        "0.9 5.6\n",
        "[-0.98764501  0.00543339]"
       ]
      },
      {
       "output_type": "stream",
       "stream": "stdout",
       "text": [
        "\n",
        "0.9 5.7\n",
        "[-0.98656135  0.00397372]"
       ]
      },
      {
       "output_type": "stream",
       "stream": "stdout",
       "text": [
        "\n",
        "0.9 5.8\n",
        "[-0.98555649  0.00256072]"
       ]
      },
      {
       "output_type": "stream",
       "stream": "stdout",
       "text": [
        "\n",
        "0.9 5.9\n",
        "[-0.98461888  0.00120692]"
       ]
      },
      {
       "output_type": "stream",
       "stream": "stdout",
       "text": [
        "\n",
        "0.9 6.0\n",
        "[ -9.83737223e-01  -7.71432343e-05]"
       ]
      },
      {
       "output_type": "stream",
       "stream": "stdout",
       "text": [
        "\n",
        "0.9 6.1\n",
        "[-0.98290056 -0.00128226]"
       ]
      },
      {
       "output_type": "stream",
       "stream": "stdout",
       "text": [
        "\n",
        "0.9 6.2\n",
        "[-0.9820984  -0.00239988]"
       ]
      },
      {
       "output_type": "stream",
       "stream": "stdout",
       "text": [
        "\n",
        "0.9 6.3\n",
        "[-0.9813208  -0.00342157]"
       ]
      },
      {
       "output_type": "stream",
       "stream": "stdout",
       "text": [
        "\n",
        "0.9 6.4\n",
        "[-0.98055845 -0.0043384 ]"
       ]
      },
      {
       "output_type": "stream",
       "stream": "stdout",
       "text": [
        "\n",
        "0.9 6.5\n",
        "[-0.97980274 -0.00514042]"
       ]
      },
      {
       "output_type": "stream",
       "stream": "stdout",
       "text": [
        "\n",
        "0.9 6.6\n",
        "[-0.97904589 -0.00581604]"
       ]
      },
      {
       "output_type": "stream",
       "stream": "stdout",
       "text": [
        "\n",
        "0.9 6.7\n",
        "[-0.97828114 -0.00635133]"
       ]
      },
      {
       "output_type": "stream",
       "stream": "stdout",
       "text": [
        "\n",
        "0.9 6.8\n",
        "[-0.97750301 -0.00672934]"
       ]
      },
      {
       "output_type": "stream",
       "stream": "stdout",
       "text": [
        "\n",
        "0.9 6.9\n",
        "[-0.97670761 -0.00692911]"
       ]
      },
      {
       "output_type": "stream",
       "stream": "stdout",
       "text": [
        "\n",
        "0.9 7.0\n",
        "[-0.97589321 -0.00692464]"
       ]
      },
      {
       "output_type": "stream",
       "stream": "stdout",
       "text": [
        "\n",
        "0.9 7.1\n",
        "[-0.975061  -0.0066835]"
       ]
      },
      {
       "output_type": "stream",
       "stream": "stdout",
       "text": [
        "\n",
        "0.9 7.2\n",
        "[-0.97421609 -0.00616523]"
       ]
      },
      {
       "output_type": "stream",
       "stream": "stdout",
       "text": [
        "\n",
        "0.9 7.3\n",
        "[-0.97336915 -0.00531918]"
       ]
      },
      {
       "output_type": "stream",
       "stream": "stdout",
       "text": [
        "\n",
        "0.9 7.4\n",
        "[-0.97253858 -0.00408193]"
       ]
      },
      {
       "output_type": "stream",
       "stream": "stdout",
       "text": [
        "\n",
        "0.9 7.5\n",
        "[-0.97175372 -0.00237399]"
       ]
      },
      {
       "output_type": "stream",
       "stream": "stdout",
       "text": [
        "\n",
        "0.9 7.6\n",
        "[ -9.71059630e-01  -9.56372511e-05]"
       ]
      },
      {
       "output_type": "stream",
       "stream": "stdout",
       "text": [
        "\n",
        "0.9 7.7\n",
        "[-0.97052399  0.00287812]"
       ]
      },
      {
       "output_type": "stream",
       "stream": "stdout",
       "text": [
        "\n",
        "0.9 7.8\n",
        "[-0.97024746  0.00670353]"
       ]
      },
      {
       "output_type": "stream",
       "stream": "stdout",
       "text": [
        "\n",
        "0.9 7.9\n",
        "[-0.97037929  0.01157465]"
       ]
      },
      {
       "output_type": "stream",
       "stream": "stdout",
       "text": [
        "\n",
        "0.9 8.0\n",
        "[-0.97114102  0.01772889]"
       ]
      },
      {
       "output_type": "stream",
       "stream": "stdout",
       "text": [
        "\n",
        "0.9 8.1\n",
        "[-0.97286294  0.02544769]"
       ]
      },
      {
       "output_type": "stream",
       "stream": "stdout",
       "text": [
        "\n",
        "0.9 8.2\n",
        "[-0.97604025  0.03504124]"
       ]
      },
      {
       "output_type": "stream",
       "stream": "stdout",
       "text": [
        "\n",
        "0.9 8.3\n",
        "[-0.9814188  0.0467889]"
       ]
      },
      {
       "output_type": "stream",
       "stream": "stdout",
       "text": [
        "\n",
        "0.9 8.4\n",
        "[-0.99011984  0.06075848]"
       ]
      },
      {
       "output_type": "stream",
       "stream": "stdout",
       "text": [
        "\n",
        "0.9 8.5\n",
        "[-1.0037915   0.07629068]"
       ]
      },
      {
       "output_type": "stream",
       "stream": "stdout",
       "text": [
        "\n",
        "0.9 8.6\n",
        "[-1.02464695  0.09052682]"
       ]
      },
      {
       "output_type": "stream",
       "stream": "stdout",
       "text": [
        "\n",
        "0.9 8.7\n",
        "[-1.05460146  0.09412935]"
       ]
      },
      {
       "output_type": "stream",
       "stream": "stdout",
       "text": [
        "\n",
        "0.9 8.8\n",
        "[-1.0894265   0.05922938]"
       ]
      },
      {
       "output_type": "stream",
       "stream": "stdout",
       "text": [
        "\n",
        "0.9 8.9\n",
        "[-1.0869675  -0.08225969]"
       ]
      },
      {
       "output_type": "stream",
       "stream": "stdout",
       "text": [
        "\n",
        "0.9 9.0\n",
        "[-0.82946698 -0.31876838]"
       ]
      },
      {
       "output_type": "stream",
       "stream": "stdout",
       "text": [
        "\n",
        "0.9 9.1\n",
        "[ 0.10660749  0.06555938]"
       ]
      },
      {
       "output_type": "stream",
       "stream": "stdout",
       "text": [
        "\n",
        "0.9 9.2\n",
        "[ 0.94795059  0.27225031]"
       ]
      },
      {
       "output_type": "stream",
       "stream": "stdout",
       "text": [
        "\n",
        "0.9 9.3\n",
        "[ 1.09975129 -0.00673856]"
       ]
      },
      {
       "output_type": "stream",
       "stream": "stdout",
       "text": [
        "\n",
        "0.9 9.4\n",
        "[ 1.05770701 -0.09439722]"
       ]
      },
      {
       "output_type": "stream",
       "stream": "stdout",
       "text": [
        "\n",
        "0.9 9.5\n",
        "[ 1.01064615 -0.08391917]"
       ]
      },
      {
       "output_type": "stream",
       "stream": "stdout",
       "text": [
        "\n",
        "0.9 9.6\n",
        "[ 0.98231184 -0.05255944]"
       ]
      },
      {
       "output_type": "stream",
       "stream": "stdout",
       "text": [
        "\n",
        "0.9 9.7\n",
        "[ 0.96890019 -0.02303059]"
       ]
      },
      {
       "output_type": "stream",
       "stream": "stdout",
       "text": [
        "\n",
        "0.9 9.8\n",
        "[  9.64901576e-01  -2.45134387e-04]"
       ]
      },
      {
       "output_type": "stream",
       "stream": "stdout",
       "text": [
        "\n",
        "0.9 9.9\n",
        "[ 0.96638856  0.01575003]"
       ]
      },
      {
       "output_type": "stream",
       "stream": "stdout",
       "text": [
        "\n",
        "1.0 0.0\n",
        "[ 1.  0.]"
       ]
      },
      {
       "output_type": "stream",
       "stream": "stdout",
       "text": [
        "\n",
        "1.0 0.1\n",
        "[  1.00033714e+00   3.29017973e-04]"
       ]
      },
      {
       "output_type": "stream",
       "stream": "stdout",
       "text": [
        "\n",
        "1.0 0.2\n",
        "[  1.00071233e+00   5.79327602e-04]"
       ]
      },
      {
       "output_type": "stream",
       "stream": "stdout",
       "text": [
        "\n",
        "1.0 0.3\n",
        "[  1.00111390e+00   7.68954898e-04]"
       ]
      },
      {
       "output_type": "stream",
       "stream": "stdout",
       "text": [
        "\n",
        "1.0 0.4\n",
        "[  1.00153312e+00   9.14756588e-04]"
       ]
      },
      {
       "output_type": "stream",
       "stream": "stdout",
       "text": [
        "\n",
        "1.0 0.5\n",
        "[ 1.0019634   0.00103261]"
       ]
      },
      {
       "output_type": "stream",
       "stream": "stdout",
       "text": [
        "\n",
        "1.0 0.6\n",
        "[ 1.0023996   0.00113771]"
       ]
      },
      {
       "output_type": "stream",
       "stream": "stdout",
       "text": [
        "\n",
        "1.0 0.7\n",
        "[ 1.00283745  0.00124487]"
       ]
      },
      {
       "output_type": "stream",
       "stream": "stdout",
       "text": [
        "\n",
        "1.0 0.8\n",
        "[ 1.00327311  0.00136895]"
       ]
      },
      {
       "output_type": "stream",
       "stream": "stdout",
       "text": [
        "\n",
        "1.0 0.9\n",
        "[ 1.00370274  0.00152519]"
       ]
      },
      {
       "output_type": "stream",
       "stream": "stdout",
       "text": [
        "\n",
        "1.0 1.0\n",
        "[ 1.00412203  0.00172966]"
       ]
      },
      {
       "output_type": "stream",
       "stream": "stdout",
       "text": [
        "\n",
        "1.0 1.1\n",
        "[ 1.00452572  0.00199967]"
       ]
      },
      {
       "output_type": "stream",
       "stream": "stdout",
       "text": [
        "\n",
        "1.0 1.2\n",
        "[ 1.00490706  0.0023543 ]"
       ]
      },
      {
       "output_type": "stream",
       "stream": "stdout",
       "text": [
        "\n",
        "1.0 1.3\n",
        "[ 1.00525707  0.00281487]"
       ]
      },
      {
       "output_type": "stream",
       "stream": "stdout",
       "text": [
        "\n",
        "1.0 1.4\n",
        "[ 1.00556366  0.00340553]"
       ]
      },
      {
       "output_type": "stream",
       "stream": "stdout",
       "text": [
        "\n",
        "1.0 1.5\n",
        "[ 1.0058104   0.00415372]"
       ]
      },
      {
       "output_type": "stream",
       "stream": "stdout",
       "text": [
        "\n",
        "1.0 1.6\n",
        "[ 1.00597491  0.00509071]"
       ]
      },
      {
       "output_type": "stream",
       "stream": "stdout",
       "text": [
        "\n",
        "1.0 1.7\n",
        "[ 1.00602662  0.00625186]"
       ]
      },
      {
       "output_type": "stream",
       "stream": "stdout",
       "text": [
        "\n",
        "1.0 1.8\n",
        "[ 1.00592378  0.00767634]"
       ]
      },
      {
       "output_type": "stream",
       "stream": "stdout",
       "text": [
        "\n",
        "1.0 1.9\n",
        "[ 1.00560917  0.00940595]"
       ]
      },
      {
       "output_type": "stream",
       "stream": "stdout",
       "text": [
        "\n",
        "1.0 2.0\n",
        "[ 1.00500438  0.01148179]"
       ]
      },
      {
       "output_type": "stream",
       "stream": "stdout",
       "text": [
        "\n",
        "1.0 2.1\n",
        "[ 1.00400181  0.01393681]"
       ]
      },
      {
       "output_type": "stream",
       "stream": "stdout",
       "text": [
        "\n",
        "1.0 2.2\n",
        "[ 1.00245435  0.01678013]"
       ]
      },
      {
       "output_type": "stream",
       "stream": "stdout",
       "text": [
        "\n",
        "1.0 2.3\n",
        "[ 1.00016268  0.01996454]"
       ]
      },
      {
       "output_type": "stream",
       "stream": "stdout",
       "text": [
        "\n",
        "1.0 2.4\n",
        "[ 0.99686353  0.02331952]"
       ]
      },
      {
       "output_type": "stream",
       "stream": "stdout",
       "text": [
        "\n",
        "1.0 2.5\n",
        "[ 0.99223147  0.02641032]"
       ]
      },
      {
       "output_type": "stream",
       "stream": "stdout",
       "text": [
        "\n",
        "1.0 2.6\n",
        "[ 0.98593891  0.02823307]"
       ]
      },
      {
       "output_type": "stream",
       "stream": "stdout",
       "text": [
        "\n",
        "1.0 2.7\n",
        "[ 0.97793448  0.02652747]"
       ]
      },
      {
       "output_type": "stream",
       "stream": "stdout",
       "text": [
        "\n",
        "1.0 2.8\n",
        "[ 0.96955378  0.01616586]"
       ]
      },
      {
       "output_type": "stream",
       "stream": "stdout",
       "text": [
        "\n",
        "1.0 2.9\n",
        "[ 0.96814437 -0.01443871]"
       ]
      },
      {
       "output_type": "stream",
       "stream": "stdout",
       "text": [
        "\n",
        "1.0 3.0\n",
        "[ 1.00806313 -0.08108814]"
       ]
      },
      {
       "output_type": "stream",
       "stream": "stdout",
       "text": [
        "\n",
        "1.0 3.1\n",
        "[ 1.02269362  0.20488586]"
       ]
      },
      {
       "output_type": "stream",
       "stream": "stdout",
       "text": [
        "\n",
        "1.0 3.2\n",
        "[-1.09962999  0.0064167 ]"
       ]
      },
      {
       "output_type": "stream",
       "stream": "stdout",
       "text": [
        "\n",
        "1.0 3.3\n",
        "[-0.98176669  0.05032334]"
       ]
      },
      {
       "output_type": "stream",
       "stream": "stdout",
       "text": [
        "\n",
        "1.0 3.4\n",
        "[-0.9674108  -0.01134712]"
       ]
      },
      {
       "output_type": "stream",
       "stream": "stdout",
       "text": [
        "\n",
        "1.0 3.5\n",
        "[-0.98007003 -0.02905596]"
       ]
      },
      {
       "output_type": "stream",
       "stream": "stdout",
       "text": [
        "\n",
        "1.0 3.6\n",
        "[-0.99335764 -0.02801268]"
       ]
      },
      {
       "output_type": "stream",
       "stream": "stdout",
       "text": [
        "\n",
        "1.0 3.7\n",
        "[-1.00280077 -0.02052845]"
       ]
      },
      {
       "output_type": "stream",
       "stream": "stdout",
       "text": [
        "\n",
        "1.0 3.8\n",
        "[-1.00847893 -0.01175065]"
       ]
      },
      {
       "output_type": "stream",
       "stream": "stdout",
       "text": [
        "\n",
        "1.0 3.9\n",
        "[-1.01129404 -0.00372256]"
       ]
      },
      {
       "output_type": "stream",
       "stream": "stdout",
       "text": [
        "\n",
        "1.0 4.0\n",
        "[-1.0121178   0.00286398]"
       ]
      },
      {
       "output_type": "stream",
       "stream": "stdout",
       "text": [
        "\n",
        "1.0 4.1\n",
        "[-1.01162713  0.00790035]"
       ]
      },
      {
       "output_type": "stream",
       "stream": "stdout",
       "text": [
        "\n",
        "1.0 4.2\n",
        "[-1.0103099  0.0115151]"
       ]
      },
      {
       "output_type": "stream",
       "stream": "stdout",
       "text": [
        "\n",
        "1.0 4.3\n",
        "[-1.00850563  0.01391718]"
       ]
      },
      {
       "output_type": "stream",
       "stream": "stdout",
       "text": [
        "\n",
        "1.0 4.4\n",
        "[-1.00644551  0.01532631]"
       ]
      },
      {
       "output_type": "stream",
       "stream": "stdout",
       "text": [
        "\n",
        "1.0 4.5\n",
        "[-1.00428403  0.01594418]"
       ]
      },
      {
       "output_type": "stream",
       "stream": "stdout",
       "text": [
        "\n",
        "1.0 4.6\n",
        "[-1.00212213  0.01594469]"
       ]
      },
      {
       "output_type": "stream",
       "stream": "stdout",
       "text": [
        "\n",
        "1.0 4.7\n",
        "[-1.00002372  0.01547267]"
       ]
      },
      {
       "output_type": "stream",
       "stream": "stdout",
       "text": [
        "\n",
        "1.0 4.8\n",
        "[-0.99802719  0.01464636]"
       ]
      },
      {
       "output_type": "stream",
       "stream": "stdout",
       "text": [
        "\n",
        "1.0 4.9\n",
        "[-0.99615348  0.013561  ]"
       ]
      },
      {
       "output_type": "stream",
       "stream": "stdout",
       "text": [
        "\n",
        "1.0 5.0\n",
        "[-0.99441166  0.01229266]"
       ]
      },
      {
       "output_type": "stream",
       "stream": "stdout",
       "text": [
        "\n",
        "1.0 5.1\n",
        "[-0.99280282  0.01090169]"
       ]
      },
      {
       "output_type": "stream",
       "stream": "stdout",
       "text": [
        "\n",
        "1.0 5.2\n",
        "[-0.99132277  0.00943579]"
       ]
      },
      {
       "output_type": "stream",
       "stream": "stdout",
       "text": [
        "\n",
        "1.0 5.3\n",
        "[-0.98996392  0.00793253]"
       ]
      },
      {
       "output_type": "stream",
       "stream": "stdout",
       "text": [
        "\n",
        "1.0 5.4\n",
        "[-0.98871656  0.00642143]"
       ]
      },
      {
       "output_type": "stream",
       "stream": "stdout",
       "text": [
        "\n",
        "1.0 5.5\n",
        "[-0.98756975  0.00492574]"
       ]
      },
      {
       "output_type": "stream",
       "stream": "stdout",
       "text": [
        "\n",
        "1.0 5.6\n",
        "[-0.98651195  0.00346383]"
       ]
      },
      {
       "output_type": "stream",
       "stream": "stdout",
       "text": [
        "\n",
        "1.0 5.7\n",
        "[-0.98553139  0.00205033]"
       ]
      },
      {
       "output_type": "stream",
       "stream": "stdout",
       "text": [
        "\n",
        "1.0 5.8\n",
        "[ -9.84616422e-01   6.97136446e-04]"
       ]
      },
      {
       "output_type": "stream",
       "stream": "stdout",
       "text": [
        "\n",
        "1.0 5.9\n",
        "[ -9.83755627e-01  -5.85821112e-04]"
       ]
      },
      {
       "output_type": "stream",
       "stream": "stdout",
       "text": [
        "\n",
        "1.0 6.0\n",
        "[-0.98293799 -0.00178984]"
       ]
      },
      {
       "output_type": "stream",
       "stream": "stdout",
       "text": [
        "\n",
        "1.0 6.1\n",
        "[-0.98215297 -0.00290685]"
       ]
      },
      {
       "output_type": "stream",
       "stream": "stdout",
       "text": [
        "\n",
        "1.0 6.2\n",
        "[-0.98139059 -0.00392881]"
       ]
      },
      {
       "output_type": "stream",
       "stream": "stdout",
       "text": [
        "\n",
        "1.0 6.3\n",
        "[-0.98064145 -0.00484721]"
       ]
      },
      {
       "output_type": "stream",
       "stream": "stdout",
       "text": [
        "\n",
        "1.0 6.4\n",
        "[-0.97989688 -0.00565244]"
       ]
      },
      {
       "output_type": "stream",
       "stream": "stdout",
       "text": [
        "\n",
        "1.0 6.5\n",
        "[-0.97914903 -0.00633326]"
       ]
      },
      {
       "output_type": "stream",
       "stream": "stdout",
       "text": [
        "\n",
        "1.0 6.6\n",
        "[-0.97839101 -0.00687612]"
       ]
      },
      {
       "output_type": "stream",
       "stream": "stdout",
       "text": [
        "\n",
        "1.0 6.7\n",
        "[-0.97761715 -0.00726437]"
       ]
      },
      {
       "output_type": "stream",
       "stream": "stdout",
       "text": [
        "\n",
        "1.0 6.8\n",
        "[-0.97682336 -0.00747743]"
       ]
      },
      {
       "output_type": "stream",
       "stream": "stdout",
       "text": [
        "\n",
        "1.0 6.9\n",
        "[-0.97600762 -0.00748964]"
       ]
      },
      {
       "output_type": "stream",
       "stream": "stdout",
       "text": [
        "\n",
        "1.0 7.0\n",
        "[-0.97517073 -0.00726896]"
       ]
      },
      {
       "output_type": "stream",
       "stream": "stdout",
       "text": [
        "\n",
        "1.0 7.1\n",
        "[-0.97431735 -0.0067753 ]"
       ]
      },
      {
       "output_type": "stream",
       "stream": "stdout",
       "text": [
        "\n",
        "1.0 7.2\n",
        "[-0.97345751 -0.00595843]"
       ]
      },
      {
       "output_type": "stream",
       "stream": "stdout",
       "text": [
        "\n",
        "1.0 7.3\n",
        "[-0.97260881 -0.00475532]"
       ]
      },
      {
       "output_type": "stream",
       "stream": "stdout",
       "text": [
        "\n",
        "1.0 7.4\n",
        "[-0.9717996  -0.00308685]"
       ]
      },
      {
       "output_type": "stream",
       "stream": "stdout",
       "text": [
        "\n",
        "1.0 7.5\n",
        "[ -9.71073642e-01  -8.53618535e-04]"
       ]
      },
      {
       "output_type": "stream",
       "stream": "stdout",
       "text": [
        "\n",
        "1.0 7.6\n",
        "[-0.97049695  0.00206921]"
       ]
      },
      {
       "output_type": "stream",
       "stream": "stdout",
       "text": [
        "\n",
        "1.0 7.7\n",
        "[-0.97016809  0.00583802]"
       ]
      },
      {
       "output_type": "stream",
       "stream": "stdout",
       "text": [
        "\n",
        "1.0 7.8\n",
        "[-0.97023357  0.01064755]"
       ]
      },
      {
       "output_type": "stream",
       "stream": "stdout",
       "text": [
        "\n",
        "1.0 7.9\n",
        "[-0.97091148  0.01673694]"
       ]
      },
      {
       "output_type": "stream",
       "stream": "stdout",
       "text": [
        "\n",
        "1.0 8.0\n",
        "[-0.97252776  0.02439135]"
       ]
      },
      {
       "output_type": "stream",
       "stream": "stdout",
       "text": [
        "\n",
        "1.0 8.1\n",
        "[-0.97557234  0.03392851]"
       ]
      },
      {
       "output_type": "stream",
       "stream": "stdout",
       "text": [
        "\n",
        "1.0 8.2\n",
        "[-0.98078522  0.04564288]"
       ]
      },
      {
       "output_type": "stream",
       "stream": "stdout",
       "text": [
        "\n",
        "1.0 8.3\n",
        "[-0.98928296  0.05963284]"
       ]
      },
      {
       "output_type": "stream",
       "stream": "stdout",
       "text": [
        "\n",
        "1.0 8.4\n",
        "[-1.00271609  0.07530263]"
       ]
      },
      {
       "output_type": "stream",
       "stream": "stdout",
       "text": [
        "\n",
        "1.0 8.5\n",
        "[-1.0233269   0.08992952]"
       ]
      },
      {
       "output_type": "stream",
       "stream": "stdout",
       "text": [
        "\n",
        "1.0 8.6\n",
        "[-1.05315352  0.09446769]"
       ]
      },
      {
       "output_type": "stream",
       "stream": "stdout",
       "text": [
        "\n",
        "1.0 8.7\n",
        "[-1.0884198   0.06158652]"
       ]
      },
      {
       "output_type": "stream",
       "stream": "stdout",
       "text": [
        "\n",
        "1.0 8.8\n",
        "[-1.0885097  -0.07684927]"
       ]
      },
      {
       "output_type": "stream",
       "stream": "stdout",
       "text": [
        "\n",
        "1.0 8.9\n",
        "[-0.83852968 -0.31694277]"
       ]
      },
      {
       "output_type": "stream",
       "stream": "stdout",
       "text": [
        "\n",
        "1.0 9.0\n",
        "[ 0.09568642  0.05890631]"
       ]
      },
      {
       "output_type": "stream",
       "stream": "stdout",
       "text": [
        "\n",
        "1.0 9.1\n",
        "[ 0.94679904  0.27299026]"
       ]
      },
      {
       "output_type": "stream",
       "stream": "stdout",
       "text": [
        "\n",
        "1.0 9.2\n",
        "[ 1.09973001 -0.00735461]"
       ]
      },
      {
       "output_type": "stream",
       "stream": "stdout",
       "text": [
        "\n",
        "1.0 9.3\n",
        "[ 1.05721975 -0.09455044]"
       ]
      },
      {
       "output_type": "stream",
       "stream": "stdout",
       "text": [
        "\n",
        "1.0 9.4\n",
        "[ 1.01011927 -0.08352013]"
       ]
      },
      {
       "output_type": "stream",
       "stream": "stdout",
       "text": [
        "\n",
        "1.0 9.5\n",
        "[ 0.98195111 -0.05195076]"
       ]
      },
      {
       "output_type": "stream",
       "stream": "stdout",
       "text": [
        "\n",
        "1.0 9.6\n",
        "[ 0.96873763 -0.02242463]"
       ]
      },
      {
       "output_type": "stream",
       "stream": "stdout",
       "text": [
        "\n",
        "1.0 9.7\n",
        "[  9.64907783e-01   2.59965939e-04]"
       ]
      },
      {
       "output_type": "stream",
       "stream": "stdout",
       "text": [
        "\n",
        "1.0 9.8\n",
        "[ 0.96651964  0.01611776]"
       ]
      },
      {
       "output_type": "stream",
       "stream": "stdout",
       "text": [
        "\n",
        "1.0 9.9\n",
        "[ 0.97107391  0.02628435]"
       ]
      },
      {
       "output_type": "stream",
       "stream": "stdout",
       "text": [
        "\n",
        "1.1 0.0\n",
        "[  1.00069542e+00  -7.17358864e-04]"
       ]
      },
      {
       "output_type": "stream",
       "stream": "stdout",
       "text": [
        "\n",
        "1.1 0.1\n",
        "[  1.00102639e+00  -4.60139720e-04]"
       ]
      },
      {
       "output_type": "stream",
       "stream": "stdout",
       "text": [
        "\n",
        "1.1 0.2\n",
        "[  1.00139065e+00  -2.62038025e-04]"
       ]
      },
      {
       "output_type": "stream",
       "stream": "stdout",
       "text": [
        "\n",
        "1.1 0.3\n",
        "[  1.00177900e+00  -1.07384798e-04]"
       ]
      },
      {
       "output_type": "stream",
       "stream": "stdout",
       "text": [
        "\n",
        "1.1 0.4\n",
        "[  1.00218443e+00   1.88491652e-05]"
       ]
      },
      {
       "output_type": "stream",
       "stream": "stdout",
       "text": [
        "\n",
        "1.1 0.5\n",
        "[  1.00260144e+00   1.31248017e-04]"
       ]
      },
      {
       "output_type": "stream",
       "stream": "stdout",
       "text": [
        "\n",
        "1.1 0.6\n",
        "[  1.00302552e+00   2.44226279e-04]"
       ]
      },
      {
       "output_type": "stream",
       "stream": "stdout",
       "text": [
        "\n",
        "1.1 0.7\n",
        "[  1.00345267e+00   3.72355997e-04]"
       ]
      },
      {
       "output_type": "stream",
       "stream": "stdout",
       "text": [
        "\n",
        "1.1 0.8\n",
        "[  1.00387893e+00   5.30734213e-04]"
       ]
      },
      {
       "output_type": "stream",
       "stream": "stdout",
       "text": [
        "\n",
        "1.1 0.9\n",
        "[  1.00429998e+00   7.35388933e-04]"
       ]
      },
      {
       "output_type": "stream",
       "stream": "stdout",
       "text": [
        "\n",
        "1.1 1.0\n",
        "[  1.00471064e+00   1.00372658e-03]"
       ]
      },
      {
       "output_type": "stream",
       "stream": "stdout",
       "text": [
        "\n",
        "1.1 1.1\n",
        "[ 1.00510429  0.00135503]"
       ]
      },
      {
       "output_type": "stream",
       "stream": "stdout",
       "text": [
        "\n",
        "1.1 1.2\n",
        "[ 1.00547215  0.00181098]"
       ]
      },
      {
       "output_type": "stream",
       "stream": "stdout",
       "text": [
        "\n",
        "1.1 1.3\n",
        "[ 1.00580241  0.00239626]"
       ]
      },
      {
       "output_type": "stream",
       "stream": "stdout",
       "text": [
        "\n",
        "1.1 1.4\n",
        "[ 1.00607898  0.00313917]"
       ]
      },
      {
       "output_type": "stream",
       "stream": "stdout",
       "text": [
        "\n",
        "1.1 1.5\n",
        "[ 1.00627983  0.00407212]"
       ]
      },
      {
       "output_type": "stream",
       "stream": "stdout",
       "text": [
        "\n",
        "1.1 1.6\n",
        "[ 1.00637477  0.0052321 ]"
       ]
      },
      {
       "output_type": "stream",
       "stream": "stdout",
       "text": [
        "\n",
        "1.1 1.7\n",
        "[ 1.00632233  0.0066606 ]"
       ]
      },
      {
       "output_type": "stream",
       "stream": "stdout",
       "text": [
        "\n",
        "1.1 1.8\n",
        "[ 1.00606539  0.00840261]"
       ]
      },
      {
       "output_type": "stream",
       "stream": "stdout",
       "text": [
        "\n",
        "1.1 1.9\n",
        "[ 1.00552521  0.01050371]"
       ]
      },
      {
       "output_type": "stream",
       "stream": "stdout",
       "text": [
        "\n",
        "1.1 2.0\n",
        "[ 1.00459308  0.01300303]"
       ]
      },
      {
       "output_type": "stream",
       "stream": "stdout",
       "text": [
        "\n",
        "1.1 2.1\n",
        "[ 1.00311928  0.01591821]"
       ]
      },
      {
       "output_type": "stream",
       "stream": "stdout",
       "text": [
        "\n",
        "1.1 2.2\n",
        "[ 1.00089925  0.01921358]"
       ]
      },
      {
       "output_type": "stream",
       "stream": "stdout",
       "text": [
        "\n",
        "1.1 2.3\n",
        "[ 0.99765973  0.02273367]"
       ]
      },
      {
       "output_type": "stream",
       "stream": "stdout",
       "text": [
        "\n",
        "1.1 2.4\n",
        "[ 0.9930569   0.02606174]"
       ]
      },
      {
       "output_type": "stream",
       "stream": "stdout",
       "text": [
        "\n",
        "1.1 2.5\n",
        "[ 0.98673063  0.02821018]"
       ]
      },
      {
       "output_type": "stream",
       "stream": "stdout",
       "text": [
        "\n",
        "1.1 2.6\n",
        "[ 0.97857562  0.02691479]"
       ]
      },
      {
       "output_type": "stream",
       "stream": "stdout",
       "text": [
        "\n",
        "1.1 2.7\n",
        "[ 0.96985914  0.01695765]"
       ]
      },
      {
       "output_type": "stream",
       "stream": "stdout",
       "text": [
        "\n",
        "1.1 2.8\n",
        "[ 0.9679912  -0.01365809]"
       ]
      },
      {
       "output_type": "stream",
       "stream": "stdout",
       "text": [
        "\n",
        "1.1 2.9\n",
        "[ 1.00876893 -0.08165229]"
       ]
      },
      {
       "output_type": "stream",
       "stream": "stdout",
       "text": [
        "\n",
        "1.1 3.0\n",
        "[ 0.99524191  0.23471054]"
       ]
      },
      {
       "output_type": "stream",
       "stream": "stdout",
       "text": [
        "\n",
        "1.1 3.1\n",
        "[-1.09720087  0.03217406]"
       ]
      },
      {
       "output_type": "stream",
       "stream": "stdout",
       "text": [
        "\n",
        "1.1 3.2\n",
        "[-0.97860927  0.044615  ]"
       ]
      },
      {
       "output_type": "stream",
       "stream": "stdout",
       "text": [
        "\n",
        "1.1 3.3\n",
        "[-0.96806006 -0.01389525]"
       ]
      },
      {
       "output_type": "stream",
       "stream": "stdout",
       "text": [
        "\n",
        "1.1 3.4\n",
        "[-0.98138549 -0.02944094]"
       ]
      },
      {
       "output_type": "stream",
       "stream": "stdout",
       "text": [
        "\n",
        "1.1 3.5\n",
        "[-0.99449241 -0.02738899]"
       ]
      },
      {
       "output_type": "stream",
       "stream": "stdout",
       "text": [
        "\n",
        "1.1 3.6\n",
        "[-1.00356944 -0.01953907]"
       ]
      },
      {
       "output_type": "stream",
       "stream": "stdout",
       "text": [
        "\n",
        "1.1 3.7\n",
        "[-1.00889459 -0.01072856]"
       ]
      },
      {
       "output_type": "stream",
       "stream": "stdout",
       "text": [
        "\n",
        "1.1 3.8\n",
        "[-1.01142407 -0.00282805]"
       ]
      },
      {
       "output_type": "stream",
       "stream": "stdout",
       "text": [
        "\n",
        "1.1 3.9\n",
        "[-1.01203584  0.003565  ]"
       ]
      },
      {
       "output_type": "stream",
       "stream": "stdout",
       "text": [
        "\n",
        "1.1 4.0\n",
        "[-1.01139774  0.00839213]"
       ]
      },
      {
       "output_type": "stream",
       "stream": "stdout",
       "text": [
        "\n",
        "1.1 4.1\n",
        "[-1.009985    0.01180731]"
       ]
      },
      {
       "output_type": "stream",
       "stream": "stdout",
       "text": [
        "\n",
        "1.1 4.2\n",
        "[-1.00812513  0.01403108]"
       ]
      },
      {
       "output_type": "stream",
       "stream": "stdout",
       "text": [
        "\n",
        "1.1 4.3\n",
        "[-1.00603919  0.01528729]"
       ]
      },
      {
       "output_type": "stream",
       "stream": "stdout",
       "text": [
        "\n",
        "1.1 4.4\n",
        "[-1.00387354  0.01577775]"
       ]
      },
      {
       "output_type": "stream",
       "stream": "stdout",
       "text": [
        "\n",
        "1.1 4.5\n",
        "[-1.00172285  0.01567454]"
       ]
      },
      {
       "output_type": "stream",
       "stream": "stdout",
       "text": [
        "\n",
        "1.1 4.6\n",
        "[-0.99964623  0.01511984]"
       ]
      },
      {
       "output_type": "stream",
       "stream": "stdout",
       "text": [
        "\n",
        "1.1 4.7\n",
        "[-0.99767846  0.014229  ]"
       ]
      },
      {
       "output_type": "stream",
       "stream": "stdout",
       "text": [
        "\n",
        "1.1 4.8\n",
        "[-0.99583782  0.01309445]"
       ]
      },
      {
       "output_type": "stream",
       "stream": "stdout",
       "text": [
        "\n",
        "1.1 4.9\n",
        "[-0.99413137  0.01178964]"
       ]
      },
      {
       "output_type": "stream",
       "stream": "stdout",
       "text": [
        "\n",
        "1.1 5.0\n",
        "[-0.99255877  0.01037266]"
       ]
      },
      {
       "output_type": "stream",
       "stream": "stdout",
       "text": [
        "\n",
        "1.1 5.1\n",
        "[-0.99111479  0.00888917]"
       ]
      },
      {
       "output_type": "stream",
       "stream": "stdout",
       "text": [
        "\n",
        "1.1 5.2\n",
        "[-0.98979109  0.00737501]"
       ]
      },
      {
       "output_type": "stream",
       "stream": "stdout",
       "text": [
        "\n",
        "1.1 5.3\n",
        "[-0.98857744  0.00585826]"
       ]
      },
      {
       "output_type": "stream",
       "stream": "stdout",
       "text": [
        "\n",
        "1.1 5.4\n",
        "[-0.98746255  0.00436089]"
       ]
      },
      {
       "output_type": "stream",
       "stream": "stdout",
       "text": [
        "\n",
        "1.1 5.5\n",
        "[-0.98643464  0.00290022]"
       ]
      },
      {
       "output_type": "stream",
       "stream": "stdout",
       "text": [
        "\n",
        "1.1 5.6\n",
        "[-0.98548182  0.00148999]"
       ]
      },
      {
       "output_type": "stream",
       "stream": "stdout",
       "text": [
        "\n",
        "1.1 5.7\n",
        "[ -9.84592338e-01   1.41317966e-04]"
       ]
      },
      {
       "output_type": "stream",
       "stream": "stdout",
       "text": [
        "\n",
        "1.1 5.8\n",
        "[-0.98375474 -0.0011365 ]"
       ]
      },
      {
       "output_type": "stream",
       "stream": "stdout",
       "text": [
        "\n",
        "1.1 5.9\n",
        "[-0.98295799 -0.00233532]"
       ]
      },
      {
       "output_type": "stream",
       "stream": "stdout",
       "text": [
        "\n",
        "1.1 6.0\n",
        "[-0.98219155 -0.00344754]"
       ]
      },
      {
       "output_type": "stream",
       "stream": "stdout",
       "text": [
        "\n",
        "1.1 6.1\n",
        "[-0.98144542 -0.00446555]"
       ]
      },
      {
       "output_type": "stream",
       "stream": "stdout",
       "text": [
        "\n",
        "1.1 6.2\n",
        "[-0.98071021 -0.00538119]"
       ]
      },
      {
       "output_type": "stream",
       "stream": "stdout",
       "text": [
        "\n",
        "1.1 6.3\n",
        "[-0.97997723 -0.00618521]"
       ]
      },
      {
       "output_type": "stream",
       "stream": "stdout",
       "text": [
        "\n",
        "1.1 6.4\n",
        "[-0.97923855 -0.00686663]"
       ]
      },
      {
       "output_type": "stream",
       "stream": "stdout",
       "text": [
        "\n",
        "1.1 6.5\n",
        "[-0.97848722 -0.00741219]"
       ]
      },
      {
       "output_type": "stream",
       "stream": "stdout",
       "text": [
        "\n",
        "1.1 6.6\n",
        "[-0.97771747 -0.0078055 ]"
       ]
      },
      {
       "output_type": "stream",
       "stream": "stdout",
       "text": [
        "\n",
        "1.1 6.7\n",
        "[-0.97692503 -0.0080262 ]"
       ]
      },
      {
       "output_type": "stream",
       "stream": "stdout",
       "text": [
        "\n",
        "1.1 6.8\n",
        "[-0.97610768 -0.00804886]"
       ]
      },
      {
       "output_type": "stream",
       "stream": "stdout",
       "text": [
        "\n",
        "1.1 6.9\n",
        "[-0.97526594 -0.00784165]"
       ]
      },
      {
       "output_type": "stream",
       "stream": "stdout",
       "text": [
        "\n",
        "1.1 7.0\n",
        "[-0.9744041  -0.00736465]"
       ]
      },
      {
       "output_type": "stream",
       "stream": "stdout",
       "text": [
        "\n",
        "1.1 7.1\n",
        "[-0.97353173 -0.00656776]"
       ]
      },
      {
       "output_type": "stream",
       "stream": "stdout",
       "text": [
        "\n",
        "1.1 7.2\n",
        "[-0.97266589 -0.00538802]"
       ]
      },
      {
       "output_type": "stream",
       "stream": "stdout",
       "text": [
        "\n",
        "1.1 7.3\n",
        "[-0.97183423 -0.00374629]"
       ]
      },
      {
       "output_type": "stream",
       "stream": "stdout",
       "text": [
        "\n",
        "1.1 7.4\n",
        "[-0.97107964 -0.00154297]"
       ]
      },
      {
       "output_type": "stream",
       "stream": "stdout",
       "text": [
        "\n",
        "1.1 7.5\n",
        "[-0.97046713  0.00134724]"
       ]
      },
      {
       "output_type": "stream",
       "stream": "stdout",
       "text": [
        "\n",
        "1.1 7.6\n",
        "[-0.97009405  0.00508159]"
       ]
      },
      {
       "output_type": "stream",
       "stream": "stdout",
       "text": [
        "\n",
        "1.1 7.7\n",
        "[-0.97010555  0.00985639]"
       ]
      },
      {
       "output_type": "stream",
       "stream": "stdout",
       "text": [
        "\n",
        "1.1 7.8\n",
        "[-0.97071825  0.01591345]"
       ]
      },
      {
       "output_type": "stream",
       "stream": "stdout",
       "text": [
        "\n",
        "1.1 7.9\n",
        "[-0.97225673  0.02354243]"
       ]
      },
      {
       "output_type": "stream",
       "stream": "stdout",
       "text": [
        "\n",
        "1.1 8.0\n",
        "[-0.97521016  0.03306864]"
       ]
      },
      {
       "output_type": "stream",
       "stream": "stdout",
       "text": [
        "\n",
        "1.1 8.1\n",
        "[-0.98031952  0.0447993 ]"
       ]
      },
      {
       "output_type": "stream",
       "stream": "stdout",
       "text": [
        "\n",
        "1.1 8.2\n",
        "[-0.9887066   0.05885432]"
       ]
      },
      {
       "output_type": "stream",
       "stream": "stdout",
       "text": [
        "\n",
        "1.1 8.3\n",
        "[-1.00203721  0.07467362]"
       ]
      },
      {
       "output_type": "stream",
       "stream": "stdout",
       "text": [
        "\n",
        "1.1 8.4\n",
        "[-1.02259165  0.08958904]"
       ]
      },
      {
       "output_type": "stream",
       "stream": "stdout",
       "text": [
        "\n",
        "1.1 8.5\n",
        "[-1.05249302  0.0946101 ]"
       ]
      },
      {
       "output_type": "stream",
       "stream": "stdout",
       "text": [
        "\n",
        "1.1 8.6\n",
        "[-1.08810612  0.06229673]"
       ]
      },
      {
       "output_type": "stream",
       "stream": "stdout",
       "text": [
        "\n",
        "1.1 8.7\n",
        "[-1.08861636 -0.07646901]"
       ]
      },
      {
       "output_type": "stream",
       "stream": "stdout",
       "text": [
        "\n",
        "1.1 8.8\n",
        "[-0.83528383 -0.31762529]"
       ]
      },
      {
       "output_type": "stream",
       "stream": "stdout",
       "text": [
        "\n",
        "1.1 8.9\n",
        "[ 0.11088455  0.06815812]"
       ]
      },
      {
       "output_type": "stream",
       "stream": "stdout",
       "text": [
        "\n",
        "1.1 9.0\n",
        "[ 0.95485851  0.26765062]"
       ]
      },
      {
       "output_type": "stream",
       "stream": "stdout",
       "text": [
        "\n",
        "1.1 9.1\n",
        "[ 1.09953023 -0.01196097]"
       ]
      },
      {
       "output_type": "stream",
       "stream": "stdout",
       "text": [
        "\n",
        "1.1 9.2\n",
        "[ 1.05554458 -0.09504481]"
       ]
      },
      {
       "output_type": "stream",
       "stream": "stdout",
       "text": [
        "\n",
        "1.1 9.3\n",
        "[ 1.00879046 -0.08250431]"
       ]
      },
      {
       "output_type": "stream",
       "stream": "stdout",
       "text": [
        "\n",
        "1.1 9.4\n",
        "[ 0.98118148 -0.05065297]"
       ]
      },
      {
       "output_type": "stream",
       "stream": "stdout",
       "text": [
        "\n",
        "1.1 9.5\n",
        "[ 0.96842183 -0.02126566]"
       ]
      },
      {
       "output_type": "stream",
       "stream": "stdout",
       "text": [
        "\n",
        "1.1 9.6\n",
        "[ 0.96490987  0.0011593 ]"
       ]
      },
      {
       "output_type": "stream",
       "stream": "stdout",
       "text": [
        "\n",
        "1.1 9.7\n",
        "[ 0.96672766  0.01674348]"
       ]
      },
      {
       "output_type": "stream",
       "stream": "stdout",
       "text": [
        "\n",
        "1.1 9.8\n",
        "[ 0.97140431  0.02666013]"
       ]
      },
      {
       "output_type": "stream",
       "stream": "stdout",
       "text": [
        "\n",
        "1.1 9.9\n",
        "[ 0.97742384  0.03215692]"
       ]
      },
      {
       "output_type": "stream",
       "stream": "stdout",
       "text": [
        "\n",
        "1.2 0.0\n",
        "[ 1.00142682 -0.00157096]"
       ]
      },
      {
       "output_type": "stream",
       "stream": "stdout",
       "text": [
        "\n",
        "1.2 0.1\n",
        "[ 1.00174362 -0.00135303]"
       ]
      },
      {
       "output_type": "stream",
       "stream": "stdout",
       "text": [
        "\n",
        "1.2 0.2\n",
        "[ 1.00209265 -0.00117791]"
       ]
      },
      {
       "output_type": "stream",
       "stream": "stdout",
       "text": [
        "\n",
        "1.2 0.3\n",
        "[ 1.00246612 -0.00103147]"
       ]
      },
      {
       "output_type": "stream",
       "stream": "stdout",
       "text": [
        "\n",
        "1.2 0.4\n",
        "[  1.00285788e+00  -8.99725028e-04]"
       ]
      },
      {
       "output_type": "stream",
       "stream": "stdout",
       "text": [
        "\n",
        "1.2 0.5\n",
        "[  1.00326288e+00  -7.68575584e-04]"
       ]
      },
      {
       "output_type": "stream",
       "stream": "stdout",
       "text": [
        "\n",
        "1.2 0.6\n",
        "[  1.00367669e+00  -6.23597501e-04]"
       ]
      },
      {
       "output_type": "stream",
       "stream": "stdout",
       "text": [
        "\n",
        "1.2 0.7\n",
        "[  1.00409501e+00  -4.49676841e-04]"
       ]
      },
      {
       "output_type": "stream",
       "stream": "stdout",
       "text": [
        "\n",
        "1.2 0.8\n",
        "[  1.00451326e+00  -2.30621749e-04]"
       ]
      },
      {
       "output_type": "stream",
       "stream": "stdout",
       "text": [
        "\n",
        "1.2 0.9\n",
        "[  1.00492603e+00   5.12861126e-05]"
       ]
      },
      {
       "output_type": "stream",
       "stream": "stdout",
       "text": [
        "\n",
        "1.2 1.0\n",
        "[  1.00532655e+00   4.15798862e-04]"
       ]
      },
      {
       "output_type": "stream",
       "stream": "stdout",
       "text": [
        "\n",
        "1.2 1.1\n",
        "[  1.00570587e+00   8.85270343e-04]"
       ]
      },
      {
       "output_type": "stream",
       "stream": "stdout",
       "text": [
        "\n",
        "1.2 1.2\n",
        "[ 1.006052    0.00148528]"
       ]
      },
      {
       "output_type": "stream",
       "stream": "stdout",
       "text": [
        "\n",
        "1.2 1.3\n",
        "[ 1.0063486   0.00224529]"
       ]
      },
      {
       "output_type": "stream",
       "stream": "stdout",
       "text": [
        "\n",
        "1.2 1.4\n",
        "[ 1.00657325  0.00319928]"
       ]
      },
      {
       "output_type": "stream",
       "stream": "stdout",
       "text": [
        "\n",
        "1.2 1.5\n",
        "[ 1.00669515  0.00438622]"
       ]
      },
      {
       "output_type": "stream",
       "stream": "stdout",
       "text": [
        "\n",
        "1.2 1.6\n",
        "[ 1.00667176  0.00585016]"
       ]
      },
      {
       "output_type": "stream",
       "stream": "stdout",
       "text": [
        "\n",
        "1.2 1.7\n",
        "[ 1.00644428  0.00763934]"
       ]
      },
      {
       "output_type": "stream",
       "stream": "stdout",
       "text": [
        "\n",
        "1.2 1.8\n",
        "[ 1.00593118  0.00980328]"
       ]
      },
      {
       "output_type": "stream",
       "stream": "stdout",
       "text": [
        "\n",
        "1.2 1.9\n",
        "[ 1.00501933  0.0123857 ]"
       ]
      },
      {
       "output_type": "stream",
       "stream": "stdout",
       "text": [
        "\n",
        "1.2 2.0\n",
        "[ 1.00355201  0.01540887]"
       ]
      },
      {
       "output_type": "stream",
       "stream": "stdout",
       "text": [
        "\n",
        "1.2 2.1\n",
        "[ 1.00131374  0.01884023]"
       ]
      },
      {
       "output_type": "stream",
       "stream": "stdout",
       "text": [
        "\n",
        "1.2 2.2\n",
        "[ 0.99801482  0.02252143]"
       ]
      },
      {
       "output_type": "stream",
       "stream": "stdout",
       "text": [
        "\n",
        "1.2 2.3\n",
        "[ 0.99328858  0.02601566]"
       ]
      },
      {
       "output_type": "stream",
       "stream": "stdout",
       "text": [
        "\n",
        "1.2 2.4\n",
        "[ 0.98675034  0.02826887]"
       ]
      },
      {
       "output_type": "stream",
       "stream": "stdout",
       "text": [
        "\n",
        "1.2 2.5\n",
        "[ 0.9783016  0.0268265]"
       ]
      },
      {
       "output_type": "stream",
       "stream": "stdout",
       "text": [
        "\n",
        "1.2 2.6\n",
        "[ 0.96941657  0.0159439 ]"
       ]
      },
      {
       "output_type": "stream",
       "stream": "stdout",
       "text": [
        "\n",
        "1.2 2.7\n",
        "[ 0.96880674 -0.01771765]"
       ]
      },
      {
       "output_type": "stream",
       "stream": "stdout",
       "text": [
        "\n",
        "1.2 2.8\n",
        "[ 1.019332   -0.08869831]"
       ]
      },
      {
       "output_type": "stream",
       "stream": "stdout",
       "text": [
        "\n",
        "1.2 2.9\n",
        "[ 0.79690195  0.32349016]"
       ]
      },
      {
       "output_type": "stream",
       "stream": "stdout",
       "text": [
        "\n",
        "1.2 3.0\n",
        "[-1.07875474  0.07852351]"
       ]
      },
      {
       "output_type": "stream",
       "stream": "stdout",
       "text": [
        "\n",
        "1.2 3.1\n",
        "[-0.97284876  0.03179557]"
       ]
      },
      {
       "output_type": "stream",
       "stream": "stdout",
       "text": [
        "\n",
        "1.2 3.2\n",
        "[-0.96975336 -0.01849097]"
       ]
      },
      {
       "output_type": "stream",
       "stream": "stdout",
       "text": [
        "\n",
        "1.2 3.3\n",
        "[-0.98389051 -0.02984829]"
       ]
      },
      {
       "output_type": "stream",
       "stream": "stdout",
       "text": [
        "\n",
        "1.2 3.4\n",
        "[-0.9964445  -0.02615519]"
       ]
      },
      {
       "output_type": "stream",
       "stream": "stdout",
       "text": [
        "\n",
        "1.2 3.5\n",
        "[-1.00480408 -0.01783759]"
       ]
      },
      {
       "output_type": "stream",
       "stream": "stdout",
       "text": [
        "\n",
        "1.2 3.6\n",
        "[-1.00952495 -0.00908006]"
       ]
      },
      {
       "output_type": "stream",
       "stream": "stdout",
       "text": [
        "\n",
        "1.2 3.7\n",
        "[-1.01160589 -0.00144414]"
       ]
      },
      {
       "output_type": "stream",
       "stream": "stdout",
       "text": [
        "\n",
        "1.2 3.8\n",
        "[-1.01190657  0.00461972]"
       ]
      },
      {
       "output_type": "stream",
       "stream": "stdout",
       "text": [
        "\n",
        "1.2 3.9\n",
        "[-1.01106485  0.00912126]"
       ]
      },
      {
       "output_type": "stream",
       "stream": "stdout",
       "text": [
        "\n",
        "1.2 4.0\n",
        "[-1.00952827  0.01224367]"
       ]
      },
      {
       "output_type": "stream",
       "stream": "stdout",
       "text": [
        "\n",
        "1.2 4.1\n",
        "[-1.00760202  0.0142175 ]"
       ]
      },
      {
       "output_type": "stream",
       "stream": "stdout",
       "text": [
        "\n",
        "1.2 4.2\n",
        "[-1.00549021  0.01526732]"
       ]
      },
      {
       "output_type": "stream",
       "stream": "stdout",
       "text": [
        "\n",
        "1.2 4.3\n",
        "[-1.00332666  0.01559153]"
       ]
      },
      {
       "output_type": "stream",
       "stream": "stdout",
       "text": [
        "\n",
        "1.2 4.4\n",
        "[-1.00119688  0.01535719]"
       ]
      },
      {
       "output_type": "stream",
       "stream": "stdout",
       "text": [
        "\n",
        "1.2 4.5\n",
        "[-0.99915333  0.01470119]"
       ]
      },
      {
       "output_type": "stream",
       "stream": "stdout",
       "text": [
        "\n",
        "1.2 4.6\n",
        "[-0.99722607  0.01373382]"
       ]
      },
      {
       "output_type": "stream",
       "stream": "stdout",
       "text": [
        "\n",
        "1.2 4.7\n",
        "[-0.99542996  0.01254305]"
       ]
      },
      {
       "output_type": "stream",
       "stream": "stdout",
       "text": [
        "\n",
        "1.2 4.8\n",
        "[-0.99376969  0.01119846]"
       ]
      },
      {
       "output_type": "stream",
       "stream": "stdout",
       "text": [
        "\n",
        "1.2 4.9\n",
        "[-0.99224325  0.00975482]"
       ]
      },
      {
       "output_type": "stream",
       "stream": "stdout",
       "text": [
        "\n",
        "1.2 5.0\n",
        "[-0.99084426  0.00825506]"
       ]
      },
      {
       "output_type": "stream",
       "stream": "stdout",
       "text": [
        "\n",
        "1.2 5.1\n",
        "[-0.9895636   0.00673273]"
       ]
      },
      {
       "output_type": "stream",
       "stream": "stdout",
       "text": [
        "\n",
        "1.2 5.2\n",
        "[-0.98839056  0.005214  ]"
       ]
      },
      {
       "output_type": "stream",
       "stream": "stdout",
       "text": [
        "\n",
        "1.2 5.3\n",
        "[-0.98731352  0.0037193 ]"
       ]
      },
      {
       "output_type": "stream",
       "stream": "stdout",
       "text": [
        "\n",
        "1.2 5.4\n",
        "[-0.98632056  0.00226464]"
       ]
      },
      {
       "output_type": "stream",
       "stream": "stdout",
       "text": [
        "\n",
        "1.2 5.5\n",
        "[ -9.85399695e-01   8.62723404e-04]"
       ]
      },
      {
       "output_type": "stream",
       "stream": "stdout",
       "text": [
        "\n",
        "1.2 5.6\n",
        "[ -9.84539161e-01  -4.76211403e-04]"
       ]
      },
      {
       "output_type": "stream",
       "stream": "stdout",
       "text": [
        "\n",
        "1.2 5.7\n",
        "[-0.98372754 -0.00174358]"
       ]
      },
      {
       "output_type": "stream",
       "stream": "stdout",
       "text": [
        "\n",
        "1.2 5.8\n",
        "[-0.98295383 -0.00293184]"
       ]
      },
      {
       "output_type": "stream",
       "stream": "stdout",
       "text": [
        "\n",
        "1.2 5.9\n",
        "[-0.98220757 -0.00403386]"
       ]
      },
      {
       "output_type": "stream",
       "stream": "stdout",
       "text": [
        "\n",
        "1.2 6.0\n",
        "[-0.98147879 -0.00504246]"
       ]
      },
      {
       "output_type": "stream",
       "stream": "stdout",
       "text": [
        "\n",
        "1.2 6.1\n",
        "[-0.98075817 -0.00594978]"
       ]
      },
      {
       "output_type": "stream",
       "stream": "stdout",
       "text": [
        "\n",
        "1.2 6.2\n",
        "[-0.98003703 -0.00674685]"
       ]
      },
      {
       "output_type": "stream",
       "stream": "stdout",
       "text": [
        "\n",
        "1.2 6.3\n",
        "[-0.97930747 -0.00742293]"
       ]
      },
      {
       "output_type": "stream",
       "stream": "stdout",
       "text": [
        "\n",
        "1.2 6.4\n",
        "[-0.97856251 -0.0079649 ]"
       ]
      },
      {
       "output_type": "stream",
       "stream": "stdout",
       "text": [
        "\n",
        "1.2 6.5\n",
        "[-0.97779633 -0.00835653]"
       ]
      },
      {
       "output_type": "stream",
       "stream": "stdout",
       "text": [
        "\n",
        "1.2 6.6\n",
        "[-0.97700458 -0.00857753]"
       ]
      },
      {
       "output_type": "stream",
       "stream": "stdout",
       "text": [
        "\n",
        "1.2 6.7\n",
        "[-0.97618493 -0.0086025 ]"
       ]
      },
      {
       "output_type": "stream",
       "stream": "stdout",
       "text": [
        "\n",
        "1.2 6.8\n",
        "[-0.97533772 -0.00839957]"
       ]
      },
      {
       "output_type": "stream",
       "stream": "stdout",
       "text": [
        "\n",
        "1.2 6.9\n",
        "[-0.97446705 -0.00792871]"
       ]
      },
      {
       "output_type": "stream",
       "stream": "stdout",
       "text": [
        "\n",
        "1.2 7.0\n",
        "[-0.97358227 -0.00713959]"
       ]
      },
      {
       "output_type": "stream",
       "stream": "stdout",
       "text": [
        "\n",
        "1.2 7.1\n",
        "[-0.97270014 -0.00596888]"
       ]
      },
      {
       "output_type": "stream",
       "stream": "stdout",
       "text": [
        "\n",
        "1.2 7.2\n",
        "[-0.97184802 -0.00433683]"
       ]
      },
      {
       "output_type": "stream",
       "stream": "stdout",
       "text": [
        "\n",
        "1.2 7.3\n",
        "[-0.97106857 -0.00214294]"
       ]
      },
      {
       "output_type": "stream",
       "stream": "stdout",
       "text": [
        "\n",
        "1.2 7.4\n",
        "[ -9.70426609e-01   7.39395318e-04]"
       ]
      },
      {
       "output_type": "stream",
       "stream": "stdout",
       "text": [
        "\n",
        "1.2 7.5\n",
        "[-0.9700195  0.0044694]"
       ]
      },
      {
       "output_type": "stream",
       "stream": "stdout",
       "text": [
        "\n",
        "1.2 7.6\n",
        "[-0.96999286  0.00924617]"
       ]
      },
      {
       "output_type": "stream",
       "stream": "stdout",
       "text": [
        "\n",
        "1.2 7.7\n",
        "[-0.97056453  0.01531564]"
       ]
      },
      {
       "output_type": "stream",
       "stream": "stdout",
       "text": [
        "\n",
        "1.2 7.8\n",
        "[-0.97206183  0.02297323]"
       ]
      },
      {
       "output_type": "stream",
       "stream": "stdout",
       "text": [
        "\n",
        "1.2 7.9\n",
        "[-0.97497937  0.03255223]"
       ]
      },
      {
       "output_type": "stream",
       "stream": "stdout",
       "text": [
        "\n",
        "1.2 8.0\n",
        "[-0.98006857  0.04437006]"
       ]
      },
      {
       "output_type": "stream",
       "stream": "stdout",
       "text": [
        "\n",
        "1.2 8.1\n",
        "[-0.98847047  0.05855688]"
       ]
      },
      {
       "output_type": "stream",
       "stream": "stdout",
       "text": [
        "\n",
        "1.2 8.2\n",
        "[-1.0018849  0.0745521]"
       ]
      },
      {
       "output_type": "stream",
       "stream": "stdout",
       "text": [
        "\n",
        "1.2 8.3\n",
        "[-1.02264495  0.08963347]"
       ]
      },
      {
       "output_type": "stream",
       "stream": "stdout",
       "text": [
        "\n",
        "1.2 8.4\n",
        "[-1.05291242  0.09454244]"
       ]
      },
      {
       "output_type": "stream",
       "stream": "stdout",
       "text": [
        "\n",
        "1.2 8.5\n",
        "[-1.08877062  0.06081878]"
       ]
      },
      {
       "output_type": "stream",
       "stream": "stdout",
       "text": [
        "\n",
        "1.2 8.6\n",
        "[-1.08675379 -0.08300488]"
       ]
      },
      {
       "output_type": "stream",
       "stream": "stdout",
       "text": [
        "\n",
        "1.2 8.7\n",
        "[-0.8146213 -0.3212591]"
       ]
      },
      {
       "output_type": "stream",
       "stream": "stdout",
       "text": [
        "\n",
        "1.2 8.8\n",
        "[ 0.16156568  0.09865359]"
       ]
      },
      {
       "output_type": "stream",
       "stream": "stdout",
       "text": [
        "\n",
        "1.2 8.9\n",
        "[ 0.97411679  0.25335252]"
       ]
      },
      {
       "output_type": "stream",
       "stream": "stdout",
       "text": [
        "\n",
        "1.2 9.0\n",
        "[ 1.09878808 -0.02145971]"
       ]
      },
      {
       "output_type": "stream",
       "stream": "stdout",
       "text": [
        "\n",
        "1.2 9.1\n",
        "[ 1.05227851 -0.09579032]"
       ]
      },
      {
       "output_type": "stream",
       "stream": "stdout",
       "text": [
        "\n",
        "1.2 9.2\n",
        "[ 1.00643419 -0.08061348]"
       ]
      },
      {
       "output_type": "stream",
       "stream": "stdout",
       "text": [
        "\n",
        "1.2 9.3\n",
        "[ 0.97990487 -0.04843682]"
       ]
      },
      {
       "output_type": "stream",
       "stream": "stdout",
       "text": [
        "\n",
        "1.2 9.4\n",
        "[ 0.96792899 -0.01938565]"
       ]
      },
      {
       "output_type": "stream",
       "stream": "stdout",
       "text": [
        "\n",
        "1.2 9.5\n",
        "[ 0.96492415  0.00256492]"
       ]
      },
      {
       "output_type": "stream",
       "stream": "stdout",
       "text": [
        "\n",
        "1.2 9.6\n",
        "[ 0.96704877  0.01769514]"
       ]
      },
      {
       "output_type": "stream",
       "stream": "stdout",
       "text": [
        "\n",
        "1.2 9.7\n",
        "[ 0.97189551  0.02722213]"
       ]
      },
      {
       "output_type": "stream",
       "stream": "stdout",
       "text": [
        "\n",
        "1.2 9.8\n",
        "[ 0.97799344  0.0324005 ]"
       ]
      },
      {
       "output_type": "stream",
       "stream": "stdout",
       "text": [
        "\n",
        "1.2 9.9\n",
        "[ 0.98445552  0.03430366]"
       ]
      },
      {
       "output_type": "stream",
       "stream": "stdout",
       "text": [
        "\n",
        "1.3 0.0\n",
        "[ 1.00224406 -0.0024894 ]"
       ]
      },
      {
       "output_type": "stream",
       "stream": "stdout",
       "text": [
        "\n",
        "1.3 0.1\n",
        "[ 1.00254122 -0.002283  ]"
       ]
      },
      {
       "output_type": "stream",
       "stream": "stdout",
       "text": [
        "\n",
        "1.3 0.2\n",
        "[ 1.00287201 -0.00210415]"
       ]
      },
      {
       "output_type": "stream",
       "stream": "stdout",
       "text": [
        "\n",
        "1.3 0.3\n",
        "[ 1.00322921 -0.00193959]"
       ]
      },
      {
       "output_type": "stream",
       "stream": "stdout",
       "text": [
        "\n",
        "1.3 0.4\n",
        "[ 1.0036069 -0.0017756]"
       ]
      },
      {
       "output_type": "stream",
       "stream": "stdout",
       "text": [
        "\n",
        "1.3 0.5\n",
        "[ 1.00399985 -0.00159783]"
       ]
      },
      {
       "output_type": "stream",
       "stream": "stdout",
       "text": [
        "\n",
        "1.3 0.6\n",
        "[ 1.00440309 -0.00139098]"
       ]
      },
      {
       "output_type": "stream",
       "stream": "stdout",
       "text": [
        "\n",
        "1.3 0.7\n",
        "[ 1.00481142 -0.00113847]"
       ]
      },
      {
       "output_type": "stream",
       "stream": "stdout",
       "text": [
        "\n",
        "1.3 0.8\n",
        "[  1.00521883e+00  -8.21958830e-04]"
       ]
      },
      {
       "output_type": "stream",
       "stream": "stdout",
       "text": [
        "\n",
        "1.3 0.9\n",
        "[  1.00561790e+00  -4.20858092e-04]"
       ]
      },
      {
       "output_type": "stream",
       "stream": "stdout",
       "text": [
        "\n",
        "1.3 1.0\n",
        "[  1.00599900e+00   8.82925304e-05]"
       ]
      },
      {
       "output_type": "stream",
       "stream": "stdout",
       "text": [
        "\n",
        "1.3 1.1\n",
        "[  1.00634926e+00   7.32476164e-04]"
       ]
      },
      {
       "output_type": "stream",
       "stream": "stdout",
       "text": [
        "\n",
        "1.3 1.2\n",
        "[ 1.00665123  0.00154291]"
       ]
      },
      {
       "output_type": "stream",
       "stream": "stdout",
       "text": [
        "\n",
        "1.3 1.3\n",
        "[ 1.00688094  0.00255573]"
       ]
      },
      {
       "output_type": "stream",
       "stream": "stdout",
       "text": [
        "\n",
        "1.3 1.4\n",
        "[ 1.00700543  0.00381252]"
       ]
      },
      {
       "output_type": "stream",
       "stream": "stdout",
       "text": [
        "\n",
        "1.3 1.5\n",
        "[ 1.00697905  0.00536037]"
       ]
      },
      {
       "output_type": "stream",
       "stream": "stdout",
       "text": [
        "\n",
        "1.3 1.6\n",
        "[ 1.00673846  0.0072509 ]"
       ]
      },
      {
       "output_type": "stream",
       "stream": "stdout",
       "text": [
        "\n",
        "1.3 1.7\n",
        "[ 1.00619549  0.0095369 ]"
       ]
      },
      {
       "output_type": "stream",
       "stream": "stdout",
       "text": [
        "\n",
        "1.3 1.8\n",
        "[ 1.00522732  0.01226427]"
       ]
      },
      {
       "output_type": "stream",
       "stream": "stdout",
       "text": [
        "\n",
        "1.3 1.9\n",
        "[ 1.00366305  0.01545393]"
       ]
      },
      {
       "output_type": "stream",
       "stream": "stdout",
       "text": [
        "\n",
        "1.3 2.0\n",
        "[ 1.00126708  0.01906284]"
       ]
      },
      {
       "output_type": "stream",
       "stream": "stdout",
       "text": [
        "\n",
        "1.3 2.1\n",
        "[ 0.99772284  0.02290031]"
       ]
      },
      {
       "output_type": "stream",
       "stream": "stdout",
       "text": [
        "\n",
        "1.3 2.2\n",
        "[ 0.99263399  0.02644524]"
       ]
      },
      {
       "output_type": "stream",
       "stream": "stdout",
       "text": [
        "\n",
        "1.3 2.3\n",
        "[ 0.98560829  0.02843411]"
       ]
      },
      {
       "output_type": "stream",
       "stream": "stdout",
       "text": [
        "\n",
        "1.3 2.4\n",
        "[ 0.97667396  0.02589047]"
       ]
      },
      {
       "output_type": "stream",
       "stream": "stdout",
       "text": [
        "\n",
        "1.3 2.5\n",
        "[ 0.96807235  0.01174808]"
       ]
      },
      {
       "output_type": "stream",
       "stream": "stdout",
       "text": [
        "\n",
        "1.3 2.6\n",
        "[ 0.97248515 -0.03022006]"
       ]
      },
      {
       "output_type": "stream",
       "stream": "stdout",
       "text": [
        "\n",
        "1.3 2.7\n",
        "[ 1.05038161 -0.09555257]"
       ]
      },
      {
       "output_type": "stream",
       "stream": "stdout",
       "text": [
        "\n",
        "1.3 2.8\n",
        "[-0.0936052  -0.05761641]"
       ]
      },
      {
       "output_type": "stream",
       "stream": "stdout",
       "text": [
        "\n",
        "1.3 2.9\n",
        "[-1.03478132  0.09484753]"
       ]
      },
      {
       "output_type": "stream",
       "stream": "stdout",
       "text": [
        "\n",
        "1.3 3.0\n",
        "[-0.96748357  0.01245346]"
       ]
      },
      {
       "output_type": "stream",
       "stream": "stdout",
       "text": [
        "\n",
        "1.3 3.1\n",
        "[-0.97334406 -0.02417313]"
       ]
      },
      {
       "output_type": "stream",
       "stream": "stdout",
       "text": [
        "\n",
        "1.3 3.2\n",
        "[-0.98784827 -0.0296665 ]"
       ]
      },
      {
       "output_type": "stream",
       "stream": "stdout",
       "text": [
        "\n",
        "1.3 3.3\n",
        "[-0.99927287 -0.02393155]"
       ]
      },
      {
       "output_type": "stream",
       "stream": "stdout",
       "text": [
        "\n",
        "1.3 3.4\n",
        "[-1.00648296 -0.01519185]"
       ]
      },
      {
       "output_type": "stream",
       "stream": "stdout",
       "text": [
        "\n",
        "1.3 3.5\n",
        "[-1.01031619 -0.00666831]"
       ]
      },
      {
       "output_type": "stream",
       "stream": "stdout",
       "text": [
        "\n",
        "1.3 3.6\n",
        "[ -1.01177502e+00   5.03908232e-04]"
       ]
      },
      {
       "output_type": "stream",
       "stream": "stdout",
       "text": [
        "\n",
        "1.3 3.7\n",
        "[-1.01166474  0.00606231]"
       ]
      },
      {
       "output_type": "stream",
       "stream": "stdout",
       "text": [
        "\n",
        "1.3 3.8\n",
        "[-1.01056701  0.01009548]"
       ]
      },
      {
       "output_type": "stream",
       "stream": "stdout",
       "text": [
        "\n",
        "1.3 3.9\n",
        "[-1.0088839   0.01281492]"
       ]
      },
      {
       "output_type": "stream",
       "stream": "stdout",
       "text": [
        "\n",
        "1.3 4.0\n",
        "[-1.00688672  0.01445643]"
       ]
      },
      {
       "output_type": "stream",
       "stream": "stdout",
       "text": [
        "\n",
        "1.3 4.1\n",
        "[-1.00475515  0.0152399 ]"
       ]
      },
      {
       "output_type": "stream",
       "stream": "stdout",
       "text": [
        "\n",
        "1.3 4.2\n",
        "[-1.00260566  0.01535538]"
       ]
      },
      {
       "output_type": "stream",
       "stream": "stdout",
       "text": [
        "\n",
        "1.3 4.3\n",
        "[-1.0005116   0.01496078]"
       ]
      },
      {
       "output_type": "stream",
       "stream": "stdout",
       "text": [
        "\n",
        "1.3 4.4\n",
        "[-0.99851696  0.01418439]"
       ]
      },
      {
       "output_type": "stream",
       "stream": "stdout",
       "text": [
        "\n",
        "1.3 4.5\n",
        "[-0.99664588  0.01312893]"
       ]
      },
      {
       "output_type": "stream",
       "stream": "stdout",
       "text": [
        "\n",
        "1.3 4.6\n",
        "[-0.99490918  0.01187589]"
       ]
      },
      {
       "output_type": "stream",
       "stream": "stdout",
       "text": [
        "\n",
        "1.3 4.7\n",
        "[-0.99330881  0.01048949]"
       ]
      },
      {
       "output_type": "stream",
       "stream": "stdout",
       "text": [
        "\n",
        "1.3 4.8\n",
        "[-0.99184089  0.0090201 ]"
       ]
      },
      {
       "output_type": "stream",
       "stream": "stdout",
       "text": [
        "\n",
        "1.3 4.9\n",
        "[-0.99049786  0.00750703]"
       ]
      },
      {
       "output_type": "stream",
       "stream": "stdout",
       "text": [
        "\n",
        "1.3 5.0\n",
        "[-0.98926984  0.00598092]"
       ]
      },
      {
       "output_type": "stream",
       "stream": "stdout",
       "text": [
        "\n",
        "1.3 5.1\n",
        "[-0.98814568  0.00446558]"
       ]
      },
      {
       "output_type": "stream",
       "stream": "stdout",
       "text": [
        "\n",
        "1.3 5.2\n",
        "[-0.98711356  0.00297953]"
       ]
      },
      {
       "output_type": "stream",
       "stream": "stdout",
       "text": [
        "\n",
        "1.3 5.3\n",
        "[-0.98616146  0.00153727]"
       ]
      },
      {
       "output_type": "stream",
       "stream": "stdout",
       "text": [
        "\n",
        "1.3 5.4\n",
        "[ -9.85277422e-01   1.50251556e-04]"
       ]
      },
      {
       "output_type": "stream",
       "stream": "stdout",
       "text": [
        "\n",
        "1.3 5.5\n",
        "[-0.98444977 -0.00117224]"
       ]
      },
      {
       "output_type": "stream",
       "stream": "stdout",
       "text": [
        "\n",
        "1.3 5.6\n",
        "[-0.98366719 -0.00242242]"
       ]
      },
      {
       "output_type": "stream",
       "stream": "stdout",
       "text": [
        "\n",
        "1.3 5.7\n",
        "[-0.98291884 -0.00359335]"
       ]
      },
      {
       "output_type": "stream",
       "stream": "stdout",
       "text": [
        "\n",
        "1.3 5.8\n",
        "[-0.98219435 -0.0046784 ]"
       ]
      },
      {
       "output_type": "stream",
       "stream": "stdout",
       "text": [
        "\n",
        "1.3 5.9\n",
        "[-0.98148392 -0.00567072]"
       ]
      },
      {
       "output_type": "stream",
       "stream": "stdout",
       "text": [
        "\n",
        "1.3 6.0\n",
        "[-0.98077833 -0.00656278]"
       ]
      },
      {
       "output_type": "stream",
       "stream": "stdout",
       "text": [
        "\n",
        "1.3 6.1\n",
        "[-0.980069   -0.00734576]"
       ]
      },
      {
       "output_type": "stream",
       "stream": "stdout",
       "text": [
        "\n",
        "1.3 6.2\n",
        "[-0.9793481  -0.00800905]"
       ]
      },
      {
       "output_type": "stream",
       "stream": "stdout",
       "text": [
        "\n",
        "1.3 6.3\n",
        "[-0.97860871 -0.00853957]"
       ]
      },
      {
       "output_type": "stream",
       "stream": "stdout",
       "text": [
        "\n",
        "1.3 6.4\n",
        "[-0.97784504 -0.00892104]"
       ]
      },
      {
       "output_type": "stream",
       "stream": "stdout",
       "text": [
        "\n",
        "1.3 6.5\n",
        "[-0.97705277 -0.00913306]"
       ]
      },
      {
       "output_type": "stream",
       "stream": "stdout",
       "text": [
        "\n",
        "1.3 6.6\n",
        "[-0.97622954 -0.00915   ]"
       ]
      },
      {
       "output_type": "stream",
       "stream": "stdout",
       "text": [
        "\n",
        "1.3 6.7\n",
        "[-0.9753757  -0.00893963]"
       ]
      },
      {
       "output_type": "stream",
       "stream": "stdout",
       "text": [
        "\n",
        "1.3 6.8\n",
        "[-0.97449535 -0.00846143]"
       ]
      },
      {
       "output_type": "stream",
       "stream": "stdout",
       "text": [
        "\n",
        "1.3 6.9\n",
        "[-0.97359787 -0.00766433]"
       ]
      },
      {
       "output_type": "stream",
       "stream": "stdout",
       "text": [
        "\n",
        "1.3 7.0\n",
        "[-0.97270013 -0.00648404]"
       ]
      },
      {
       "output_type": "stream",
       "stream": "stdout",
       "text": [
        "\n",
        "1.3 7.1\n",
        "[-0.97182976 -0.00483945]"
       ]
      },
      {
       "output_type": "stream",
       "stream": "stdout",
       "text": [
        "\n",
        "1.3 7.2\n",
        "[-0.9710299 -0.0026282]"
       ]
      },
      {
       "output_type": "stream",
       "stream": "stdout",
       "text": [
        "\n",
        "1.3 7.3\n",
        "[ -9.70366332e-01   2.78823210e-04]"
       ]
      },
      {
       "output_type": "stream",
       "stream": "stdout",
       "text": [
        "\n",
        "1.3 7.4\n",
        "[-0.96993807  0.00404424]"
       ]
      },
      {
       "output_type": "stream",
       "stream": "stdout",
       "text": [
        "\n",
        "1.3 7.5\n",
        "[-0.96989359  0.00887174]"
       ]
      },
      {
       "output_type": "stream",
       "stream": "stdout",
       "text": [
        "\n",
        "1.3 7.6\n",
        "[-0.97045562  0.01501326]"
       ]
      },
      {
       "output_type": "stream",
       "stream": "stdout",
       "text": [
        "\n",
        "1.3 7.7\n",
        "[-0.97195972  0.02277187]"
       ]
      },
      {
       "output_type": "stream",
       "stream": "stdout",
       "text": [
        "\n",
        "1.3 7.8\n",
        "[-0.97491442  0.03248957]"
       ]
      },
      {
       "output_type": "stream",
       "stream": "stdout",
       "text": [
        "\n",
        "1.3 7.9\n",
        "[-0.98009449  0.04449075]"
       ]
      },
      {
       "output_type": "stream",
       "stream": "stdout",
       "text": [
        "\n",
        "1.3 8.0\n",
        "[-0.9886796   0.05890062]"
       ]
      },
      {
       "output_type": "stream",
       "stream": "stdout",
       "text": [
        "\n",
        "1.3 8.1\n",
        "[-1.00242964  0.0751082 ]"
       ]
      },
      {
       "output_type": "stream",
       "stream": "stdout",
       "text": [
        "\n",
        "1.3 8.2\n",
        "[-1.02375059  0.09018427]"
       ]
      },
      {
       "output_type": "stream",
       "stream": "stdout",
       "text": [
        "\n",
        "1.3 8.3\n",
        "[-1.05477233  0.09413897]"
       ]
      },
      {
       "output_type": "stream",
       "stream": "stdout",
       "text": [
        "\n",
        "1.3 8.4\n",
        "[-1.09065554  0.05617759]"
       ]
      },
      {
       "output_type": "stream",
       "stream": "stdout",
       "text": [
        "\n",
        "1.3 8.5\n",
        "[-1.08151646 -0.09921844]"
       ]
      },
      {
       "output_type": "stream",
       "stream": "stdout",
       "text": [
        "\n",
        "1.3 8.6\n",
        "[-0.76762801 -0.32537214]"
       ]
      },
      {
       "output_type": "stream",
       "stream": "stdout",
       "text": [
        "\n",
        "1.3 8.7\n",
        "[ 0.25724126  0.15404134]"
       ]
      },
      {
       "output_type": "stream",
       "stream": "stdout",
       "text": [
        "\n",
        "1.3 8.8\n",
        "[ 1.00413264  0.2259294 ]"
       ]
      },
      {
       "output_type": "stream",
       "stream": "stdout",
       "text": [
        "\n",
        "1.3 8.9\n",
        "[ 1.09667279 -0.0359779 ]"
       ]
      },
      {
       "output_type": "stream",
       "stream": "stdout",
       "text": [
        "\n",
        "1.3 9.0\n",
        "[ 1.04701295 -0.09640767]"
       ]
      },
      {
       "output_type": "stream",
       "stream": "stdout",
       "text": [
        "\n",
        "1.3 9.1\n",
        "[ 1.00287394 -0.07751487]"
       ]
      },
      {
       "output_type": "stream",
       "stream": "stdout",
       "text": [
        "\n",
        "1.3 9.2\n",
        "[ 0.97806509 -0.04506263]"
       ]
      },
      {
       "output_type": "stream",
       "stream": "stdout",
       "text": [
        "\n",
        "1.3 9.3\n",
        "[ 0.96726517 -0.01662452]"
       ]
      },
      {
       "output_type": "stream",
       "stream": "stdout",
       "text": [
        "\n",
        "1.3 9.4\n",
        "[ 0.96498752  0.0045762 ]"
       ]
      },
      {
       "output_type": "stream",
       "stream": "stdout",
       "text": [
        "\n",
        "1.3 9.5\n",
        "[ 0.96753332  0.0190275 ]"
       ]
      },
      {
       "output_type": "stream",
       "stream": "stdout",
       "text": [
        "\n",
        "1.3 9.6\n",
        "[ 0.97260154  0.027993  ]"
       ]
      },
      {
       "output_type": "stream",
       "stream": "stdout",
       "text": [
        "\n",
        "1.3 9.7\n",
        "[ 0.9787924   0.03272611]"
       ]
      },
      {
       "output_type": "stream",
       "stream": "stdout",
       "text": [
        "\n",
        "1.3 9.8\n",
        "[ 0.98526555  0.03428611]"
       ]
      },
      {
       "output_type": "stream",
       "stream": "stdout",
       "text": [
        "\n",
        "1.3 9.9\n",
        "[ 0.99152714  0.03352251]"
       ]
      },
      {
       "output_type": "stream",
       "stream": "stdout",
       "text": [
        "\n",
        "1.4 0.0\n",
        "[ 1.00322083 -0.00337068]"
       ]
      },
      {
       "output_type": "stream",
       "stream": "stdout",
       "text": [
        "\n",
        "1.4 0.1\n",
        "[ 1.00349261 -0.00314923]"
       ]
      },
      {
       "output_type": "stream",
       "stream": "stdout",
       "text": [
        "\n",
        "1.4 0.2\n",
        "[ 1.00380082 -0.00293839]"
       ]
      },
      {
       "output_type": "stream",
       "stream": "stdout",
       "text": [
        "\n",
        "1.4 0.3\n",
        "[ 1.00413814 -0.0027251 ]"
       ]
      },
      {
       "output_type": "stream",
       "stream": "stdout",
       "text": [
        "\n",
        "1.4 0.4\n",
        "[ 1.00449813 -0.00249518]"
       ]
      },
      {
       "output_type": "stream",
       "stream": "stdout",
       "text": [
        "\n",
        "1.4 0.5\n",
        "[ 1.00487463 -0.00223307]"
       ]
      },
      {
       "output_type": "stream",
       "stream": "stdout",
       "text": [
        "\n",
        "1.4 0.6\n",
        "[ 1.00526129 -0.00192156]"
       ]
      },
      {
       "output_type": "stream",
       "stream": "stdout",
       "text": [
        "\n",
        "1.4 0.7\n",
        "[ 1.00565092 -0.00154133]"
       ]
      },
      {
       "output_type": "stream",
       "stream": "stdout",
       "text": [
        "\n",
        "1.4 0.8\n",
        "[ 1.00603476 -0.00107045]"
       ]
      },
      {
       "output_type": "stream",
       "stream": "stdout",
       "text": [
        "\n",
        "1.4 0.9\n",
        "[  1.00640163e+00  -4.83726184e-04]"
       ]
      },
      {
       "output_type": "stream",
       "stream": "stdout",
       "text": [
        "\n",
        "1.4 1.0\n",
        "[  1.00673670e+00   2.47952827e-04]"
       ]
      },
      {
       "output_type": "stream",
       "stream": "stdout",
       "text": [
        "\n",
        "1.4 1.1\n",
        "[ 1.00701996  0.0011584 ]"
       ]
      },
      {
       "output_type": "stream",
       "stream": "stdout",
       "text": [
        "\n",
        "1.4 1.2\n",
        "[ 1.00722409  0.00228679]"
       ]
      },
      {
       "output_type": "stream",
       "stream": "stdout",
       "text": [
        "\n",
        "1.4 1.3\n",
        "[ 1.00731141  0.00367815]"
       ]
      },
      {
       "output_type": "stream",
       "stream": "stdout",
       "text": [
        "\n",
        "1.4 1.4\n",
        "[ 1.00722977  0.00538323]"
       ]
      },
      {
       "output_type": "stream",
       "stream": "stdout",
       "text": [
        "\n",
        "1.4 1.5\n",
        "[ 1.00690664  0.00745685]"
       ]
      },
      {
       "output_type": "stream",
       "stream": "stdout",
       "text": [
        "\n",
        "1.4 1.6\n",
        "[ 1.00624081  0.00995343]"
       ]
      },
      {
       "output_type": "stream",
       "stream": "stdout",
       "text": [
        "\n",
        "1.4 1.7\n",
        "[ 1.00509097  0.01291594]"
       ]
      },
      {
       "output_type": "stream",
       "stream": "stdout",
       "text": [
        "\n",
        "1.4 1.8\n",
        "[ 1.00326037  0.01635173]"
       ]
      },
      {
       "output_type": "stream",
       "stream": "stdout",
       "text": [
        "\n",
        "1.4 1.9\n",
        "[ 1.00047869  0.02018016]"
       ]
      },
      {
       "output_type": "stream",
       "stream": "stdout",
       "text": [
        "\n",
        "1.4 2.0\n",
        "[ 0.99638762  0.02411892]"
       ]
      },
      {
       "output_type": "stream",
       "stream": "stdout",
       "text": [
        "\n",
        "1.4 2.1\n",
        "[ 0.99055933  0.02743191]"
       ]
      },
      {
       "output_type": "stream",
       "stream": "stdout",
       "text": [
        "\n",
        "1.4 2.2\n",
        "[ 0.98265751  0.02834879]"
       ]
      },
      {
       "output_type": "stream",
       "stream": "stdout",
       "text": [
        "\n",
        "1.4 2.3\n",
        "[ 0.97317757  0.02266503]"
       ]
      },
      {
       "output_type": "stream",
       "stream": "stdout",
       "text": [
        "\n",
        "1.4 2.4\n",
        "[  9.66705130e-01   3.06845545e-04]"
       ]
      },
      {
       "output_type": "stream",
       "stream": "stdout",
       "text": [
        "\n",
        "1.4 2.5\n",
        "[ 0.98771525 -0.05923135]"
       ]
      },
      {
       "output_type": "stream",
       "stream": "stdout",
       "text": [
        "\n",
        "1.4 2.6\n",
        "[ 1.09933858  0.01304452]"
       ]
      },
      {
       "output_type": "stream",
       "stream": "stdout",
       "text": [
        "\n",
        "1.4 2.7\n",
        "[-1.07207279 -0.12353391]"
       ]
      },
      {
       "output_type": "stream",
       "stream": "stdout",
       "text": [
        "\n",
        "1.4 2.8\n",
        "[-0.9883914   0.06040322]"
       ]
      },
      {
       "output_type": "stream",
       "stream": "stdout",
       "text": [
        "\n",
        "1.4 2.9\n",
        "[-0.96699603 -0.00884867]"
       ]
      },
      {
       "output_type": "stream",
       "stream": "stdout",
       "text": [
        "\n",
        "1.4 3.0\n",
        "[-0.97959672 -0.02874941]"
       ]
      },
      {
       "output_type": "stream",
       "stream": "stdout",
       "text": [
        "\n",
        "1.4 3.1\n",
        "[-0.99325112 -0.02790829]"
       ]
      },
      {
       "output_type": "stream",
       "stream": "stdout",
       "text": [
        "\n",
        "1.4 3.2\n",
        "[-1.00281009 -0.02027411]"
       ]
      },
      {
       "output_type": "stream",
       "stream": "stdout",
       "text": [
        "\n",
        "1.4 3.3\n",
        "[-1.00842616 -0.0114146 ]"
       ]
      },
      {
       "output_type": "stream",
       "stream": "stdout",
       "text": [
        "\n",
        "1.4 3.4\n",
        "[-1.01111088 -0.00343183]"
       ]
      },
      {
       "output_type": "stream",
       "stream": "stdout",
       "text": [
        "\n",
        "1.4 3.5\n",
        "[-1.0118015   0.00301494]"
       ]
      },
      {
       "output_type": "stream",
       "stream": "stdout",
       "text": [
        "\n",
        "1.4 3.6\n",
        "[-1.01120504  0.00786074]"
       ]
      },
      {
       "output_type": "stream",
       "stream": "stdout",
       "text": [
        "\n",
        "1.4 3.7\n",
        "[-1.00981919  0.01126828]"
       ]
      },
      {
       "output_type": "stream",
       "stream": "stdout",
       "text": [
        "\n",
        "1.4 3.8\n",
        "[-1.00798315  0.01346869]"
       ]
      },
      {
       "output_type": "stream",
       "stream": "stdout",
       "text": [
        "\n",
        "1.4 3.9\n",
        "[-1.00592344  0.01469425]"
       ]
      },
      {
       "output_type": "stream",
       "stream": "stdout",
       "text": [
        "\n",
        "1.4 4.0\n",
        "[-1.0037885   0.01515258]"
       ]
      },
      {
       "output_type": "stream",
       "stream": "stdout",
       "text": [
        "\n",
        "1.4 4.1\n",
        "[-1.00167329  0.01501924]"
       ]
      },
      {
       "output_type": "stream",
       "stream": "stdout",
       "text": [
        "\n",
        "1.4 4.2\n",
        "[-0.99963641  0.01443823]"
       ]
      },
      {
       "output_type": "stream",
       "stream": "stdout",
       "text": [
        "\n",
        "1.4 4.3\n",
        "[-0.99771183  0.01352558]"
       ]
      },
      {
       "output_type": "stream",
       "stream": "stdout",
       "text": [
        "\n",
        "1.4 4.4\n",
        "[-0.99591692  0.01237366]"
       ]
      },
      {
       "output_type": "stream",
       "stream": "stdout",
       "text": [
        "\n",
        "1.4 4.5\n",
        "[-0.99425799  0.01105543]"
       ]
      },
      {
       "output_type": "stream",
       "stream": "stdout",
       "text": [
        "\n",
        "1.4 4.6\n",
        "[-0.99273401  0.00962819]"
       ]
      },
      {
       "output_type": "stream",
       "stream": "stdout",
       "text": [
        "\n",
        "1.4 4.7\n",
        "[-0.99133923  0.00813672]"
       ]
      },
      {
       "output_type": "stream",
       "stream": "stdout",
       "text": [
        "\n",
        "1.4 4.8\n",
        "[-0.99006491  0.00661589]"
       ]
      },
      {
       "output_type": "stream",
       "stream": "stdout",
       "text": [
        "\n",
        "1.4 4.9\n",
        "[-0.98890053  0.00509279]"
       ]
      },
      {
       "output_type": "stream",
       "stream": "stdout",
       "text": [
        "\n",
        "1.4 5.0\n",
        "[-0.98783462  0.00358842]"
       ]
      },
      {
       "output_type": "stream",
       "stream": "stdout",
       "text": [
        "\n",
        "1.4 5.1\n",
        "[-0.98685527  0.00211907]"
       ]
      },
      {
       "output_type": "stream",
       "stream": "stdout",
       "text": [
        "\n",
        "1.4 5.2\n",
        "[ -9.85950500e-01   6.97497882e-04]"
       ]
      },
      {
       "output_type": "stream",
       "stream": "stdout",
       "text": [
        "\n",
        "1.4 5.3\n",
        "[ -9.85108527e-01  -6.66226257e-04]"
       ]
      },
      {
       "output_type": "stream",
       "stream": "stdout",
       "text": [
        "\n",
        "1.4 5.4\n",
        "[-0.98431786 -0.00196389]"
       ]
      },
      {
       "output_type": "stream",
       "stream": "stdout",
       "text": [
        "\n",
        "1.4 5.5\n",
        "[-0.98356743 -0.00318853]"
       ]
      },
      {
       "output_type": "stream",
       "stream": "stdout",
       "text": [
        "\n",
        "1.4 5.6\n",
        "[-0.9828466  -0.00433383]"
       ]
      },
      {
       "output_type": "stream",
       "stream": "stdout",
       "text": [
        "\n",
        "1.4 5.7\n",
        "[-0.98214527 -0.0053936 ]"
       ]
      },
      {
       "output_type": "stream",
       "stream": "stdout",
       "text": [
        "\n",
        "1.4 5.8\n",
        "[-0.98145382 -0.00636134]"
       ]
      },
      {
       "output_type": "stream",
       "stream": "stdout",
       "text": [
        "\n",
        "1.4 5.9\n",
        "[-0.98076324 -0.00722966]"
       ]
      },
      {
       "output_type": "stream",
       "stream": "stdout",
       "text": [
        "\n",
        "1.4 6.0\n",
        "[-0.98006514 -0.00798985]"
       ]
      },
      {
       "output_type": "stream",
       "stream": "stdout",
       "text": [
        "\n",
        "1.4 6.1\n",
        "[-0.97935183 -0.00863126]"
       ]
      },
      {
       "output_type": "stream",
       "stream": "stdout",
       "text": [
        "\n",
        "1.4 6.2\n",
        "[-0.97861655 -0.00914068]"
       ]
      },
      {
       "output_type": "stream",
       "stream": "stdout",
       "text": [
        "\n",
        "1.4 6.3\n",
        "[-0.97785362 -0.00950154]"
       ]
      },
      {
       "output_type": "stream",
       "stream": "stdout",
       "text": [
        "\n",
        "1.4 6.4\n",
        "[-0.97705886 -0.00969305]"
       ]
      },
      {
       "output_type": "stream",
       "stream": "stdout",
       "text": [
        "\n",
        "1.4 6.5\n",
        "[-0.97623005 -0.00968902]"
       ]
      },
      {
       "output_type": "stream",
       "stream": "stdout",
       "text": [
        "\n",
        "1.4 6.6\n",
        "[-0.97536773 -0.00945647]"
       ]
      },
      {
       "output_type": "stream",
       "stream": "stdout",
       "text": [
        "\n",
        "1.4 6.7\n",
        "[-0.97447626 -0.00895383]"
       ]
      },
      {
       "output_type": "stream",
       "stream": "stdout",
       "text": [
        "\n",
        "1.4 6.8\n",
        "[-0.9735654 -0.0081287]"
       ]
      },
      {
       "output_type": "stream",
       "stream": "stdout",
       "text": [
        "\n",
        "1.4 6.9\n",
        "[-0.97265263 -0.00691497]"
       ]
      },
      {
       "output_type": "stream",
       "stream": "stdout",
       "text": [
        "\n",
        "1.4 7.0\n",
        "[-0.97176656 -0.00522918]"
       ]
      },
      {
       "output_type": "stream",
       "stream": "stdout",
       "text": [
        "\n",
        "1.4 7.1\n",
        "[-0.97095186 -0.00296586]"
       ]
      },
      {
       "output_type": "stream",
       "stream": "stdout",
       "text": [
        "\n",
        "1.4 7.2\n",
        "[ -9.70276717e-01   8.20675342e-06]"
       ]
      },
      {
       "output_type": "stream",
       "stream": "stdout",
       "text": [
        "\n",
        "1.4 7.3\n",
        "[-0.96984401  0.00386101]"
       ]
      },
      {
       "output_type": "stream",
       "stream": "stdout",
       "text": [
        "\n",
        "1.4 7.4\n",
        "[-0.96980832  0.00880316]"
       ]
      },
      {
       "output_type": "stream",
       "stream": "stdout",
       "text": [
        "\n",
        "1.4 7.5\n",
        "[-0.97040221  0.01509527]"
       ]
      },
      {
       "output_type": "stream",
       "stream": "stdout",
       "text": [
        "\n",
        "1.4 7.6\n",
        "[-0.971977    0.02305048]"
       ]
      },
      {
       "output_type": "stream",
       "stream": "stdout",
       "text": [
        "\n",
        "1.4 7.7\n",
        "[-0.97506674  0.0330203 ]"
       ]
      },
      {
       "output_type": "stream",
       "stream": "stdout",
       "text": [
        "\n",
        "1.4 7.8\n",
        "[-0.98048743  0.04533109]"
       ]
      },
      {
       "output_type": "stream",
       "stream": "stdout",
       "text": [
        "\n",
        "1.4 7.9\n",
        "[-0.98948401  0.06008055]"
       ]
      },
      {
       "output_type": "stream",
       "stream": "stdout",
       "text": [
        "\n",
        "1.4 8.0\n",
        "[-1.00391166  0.07653249]"
       ]
      },
      {
       "output_type": "stream",
       "stream": "stdout",
       "text": [
        "\n",
        "1.4 8.1\n",
        "[-1.02627137  0.09131905]"
       ]
      },
      {
       "output_type": "stream",
       "stream": "stdout",
       "text": [
        "\n",
        "1.4 8.2\n",
        "[-1.05852718  0.09300912]"
       ]
      },
      {
       "output_type": "stream",
       "stream": "stdout",
       "text": [
        "\n",
        "1.4 8.3\n",
        "[-1.09381055  0.04649196]"
       ]
      },
      {
       "output_type": "stream",
       "stream": "stdout",
       "text": [
        "\n",
        "1.4 8.4\n",
        "[-1.06942718 -0.12925364]"
       ]
      },
      {
       "output_type": "stream",
       "stream": "stdout",
       "text": [
        "\n",
        "1.4 8.5\n",
        "[-0.67809797 -0.3199086 ]"
       ]
      },
      {
       "output_type": "stream",
       "stream": "stdout",
       "text": [
        "\n",
        "1.4 8.6\n",
        "[ 0.40420957  0.23020737]"
       ]
      },
      {
       "output_type": "stream",
       "stream": "stdout",
       "text": [
        "\n",
        "1.4 8.7\n",
        "[ 1.04056021  0.18095733]"
       ]
      },
      {
       "output_type": "stream",
       "stream": "stdout",
       "text": [
        "\n",
        "1.4 8.8\n",
        "[ 1.09184007 -0.05429068]"
       ]
      },
      {
       "output_type": "stream",
       "stream": "stdout",
       "text": [
        "\n",
        "1.4 8.9\n",
        "[ 1.03941213 -0.0961243 ]"
       ]
      },
      {
       "output_type": "stream",
       "stream": "stdout",
       "text": [
        "\n",
        "1.4 9.0\n",
        "[ 0.99804079 -0.07280499]"
       ]
      },
      {
       "output_type": "stream",
       "stream": "stdout",
       "text": [
        "\n",
        "1.4 9.1\n",
        "[ 0.97568268 -0.04030372]"
       ]
      },
      {
       "output_type": "stream",
       "stream": "stdout",
       "text": [
        "\n",
        "1.4 9.2\n",
        "[ 0.96648564 -0.01285313]"
       ]
      },
      {
       "output_type": "stream",
       "stream": "stdout",
       "text": [
        "\n",
        "1.4 9.3\n",
        "[ 0.96516761  0.00726117]"
       ]
      },
      {
       "output_type": "stream",
       "stream": "stdout",
       "text": [
        "\n",
        "1.4 9.4\n",
        "[ 0.96825049  0.02076793]"
       ]
      },
      {
       "output_type": "stream",
       "stream": "stdout",
       "text": [
        "\n",
        "1.4 9.5\n",
        "[ 0.97358767  0.02897257]"
       ]
      },
      {
       "output_type": "stream",
       "stream": "stdout",
       "text": [
        "\n",
        "1.4 9.6\n",
        "[ 0.97987938  0.0331151 ]"
       ]
      },
      {
       "output_type": "stream",
       "stream": "stdout",
       "text": [
        "\n",
        "1.4 9.7\n",
        "[ 0.98634934  0.03422877]"
       ]
      },
      {
       "output_type": "stream",
       "stream": "stdout",
       "text": [
        "\n",
        "1.4 9.8\n",
        "[ 0.99254495  0.03313692]"
       ]
      },
      {
       "output_type": "stream",
       "stream": "stdout",
       "text": [
        "\n",
        "1.4 9.9\n",
        "[ 0.99821503  0.03048346]"
       ]
      },
      {
       "output_type": "stream",
       "stream": "stdout",
       "text": [
        "\n",
        "1.5 0.0\n",
        "[ 1.00444876 -0.00401875]"
       ]
      },
      {
       "output_type": "stream",
       "stream": "stdout",
       "text": [
        "\n",
        "1.5 0.1\n",
        "[ 1.00468566 -0.00375315]"
       ]
      },
      {
       "output_type": "stream",
       "stream": "stdout",
       "text": [
        "\n",
        "1.5 0.2\n",
        "[ 1.00496178 -0.0034752 ]"
       ]
      },
      {
       "output_type": "stream",
       "stream": "stdout",
       "text": [
        "\n",
        "1.5 0.3\n",
        "[ 1.00526878 -0.00317144]"
       ]
      },
      {
       "output_type": "stream",
       "stream": "stdout",
       "text": [
        "\n",
        "1.5 0.4\n",
        "[ 1.00559866 -0.00282626]"
       ]
      },
      {
       "output_type": "stream",
       "stream": "stdout",
       "text": [
        "\n",
        "1.5 0.5\n",
        "[ 1.00594311 -0.0024217 ]"
       ]
      },
      {
       "output_type": "stream",
       "stream": "stdout",
       "text": [
        "\n",
        "1.5 0.6\n",
        "[ 1.00629278 -0.00193708]"
       ]
      },
      {
       "output_type": "stream",
       "stream": "stdout",
       "text": [
        "\n",
        "1.5 0.7\n",
        "[ 1.00663643 -0.00134852]"
       ]
      },
      {
       "output_type": "stream",
       "stream": "stdout",
       "text": [
        "\n",
        "1.5 0.8\n",
        "[  1.00695985e+00  -6.28308287e-04]"
       ]
      },
      {
       "output_type": "stream",
       "stream": "stdout",
       "text": [
        "\n",
        "1.5 0.9\n",
        "[  1.00724438e+00   2.55805305e-04]"
       ]
      },
      {
       "output_type": "stream",
       "stream": "stdout",
       "text": [
        "\n",
        "1.5 1.0\n",
        "[ 1.00746501  0.00134131]"
       ]
      },
      {
       "output_type": "stream",
       "stream": "stdout",
       "text": [
        "\n",
        "1.5 1.1\n",
        "[ 1.0075877  0.0026715]"
       ]
      },
      {
       "output_type": "stream",
       "stream": "stdout",
       "text": [
        "\n",
        "1.5 1.2\n",
        "[ 1.00756569  0.00429566]"
       ]
      },
      {
       "output_type": "stream",
       "stream": "stdout",
       "text": [
        "\n",
        "1.5 1.3\n",
        "[ 1.00733424  0.00626812]"
       ]
      },
      {
       "output_type": "stream",
       "stream": "stdout",
       "text": [
        "\n",
        "1.5 1.4\n",
        "[ 1.00680333  0.00864514]"
       ]
      },
      {
       "output_type": "stream",
       "stream": "stdout",
       "text": [
        "\n",
        "1.5 1.5\n",
        "[ 1.0058474   0.01147686]"
       ]
      },
      {
       "output_type": "stream",
       "stream": "stdout",
       "text": [
        "\n",
        "1.5 1.6\n",
        "[ 1.00429141  0.01478928]"
       ]
      },
      {
       "output_type": "stream",
       "stream": "stdout",
       "text": [
        "\n",
        "1.5 1.7\n",
        "[ 1.00189331  0.01854495]"
       ]
      },
      {
       "output_type": "stream",
       "stream": "stdout",
       "text": [
        "\n",
        "1.5 1.8\n",
        "[ 0.99832644  0.02255808]"
       ]
      },
      {
       "output_type": "stream",
       "stream": "stdout",
       "text": [
        "\n",
        "1.5 1.9\n",
        "[ 0.99317907  0.02630796]"
       ]
      },
      {
       "output_type": "stream",
       "stream": "stdout",
       "text": [
        "\n",
        "1.5 2.0\n",
        "[ 0.98603752  0.02851624]"
       ]
      },
      {
       "output_type": "stream",
       "stream": "stdout",
       "text": [
        "\n",
        "1.5 2.1\n",
        "[ 0.97691039  0.02614548]"
       ]
      },
      {
       "output_type": "stream",
       "stream": "stdout",
       "text": [
        "\n",
        "1.5 2.2\n",
        "[ 0.96808116  0.01193102]"
       ]
      },
      {
       "output_type": "stream",
       "stream": "stdout",
       "text": [
        "\n",
        "1.5 2.3\n",
        "[ 0.97272118 -0.03090384]"
       ]
      },
      {
       "output_type": "stream",
       "stream": "stdout",
       "text": [
        "\n",
        "1.5 2.4\n",
        "[ 1.05398396 -0.09490205]"
       ]
      },
      {
       "output_type": "stream",
       "stream": "stdout",
       "text": [
        "\n",
        "1.5 2.5\n",
        "[-0.2313984  -0.13940943]"
       ]
      },
      {
       "output_type": "stream",
       "stream": "stdout",
       "text": [
        "\n",
        "1.5 2.6\n",
        "[-1.02906898  0.09319818]"
       ]
      },
      {
       "output_type": "stream",
       "stream": "stdout",
       "text": [
        "\n",
        "1.5 2.7\n",
        "[-0.96710814  0.00994093]"
       ]
      },
      {
       "output_type": "stream",
       "stream": "stdout",
       "text": [
        "\n",
        "1.5 2.8\n",
        "[-0.97394064 -0.02477015]"
       ]
      },
      {
       "output_type": "stream",
       "stream": "stdout",
       "text": [
        "\n",
        "1.5 2.9\n",
        "[-0.98836987 -0.02950734]"
       ]
      },
      {
       "output_type": "stream",
       "stream": "stdout",
       "text": [
        "\n",
        "1.5 3.0\n",
        "[-0.99955671 -0.02358102]"
       ]
      },
      {
       "output_type": "stream",
       "stream": "stdout",
       "text": [
        "\n",
        "1.5 3.1\n",
        "[-1.00656149 -0.01488683]"
       ]
      },
      {
       "output_type": "stream",
       "stream": "stdout",
       "text": [
        "\n",
        "1.5 3.2\n",
        "[-1.01025517 -0.00649343]"
       ]
      },
      {
       "output_type": "stream",
       "stream": "stdout",
       "text": [
        "\n",
        "1.5 3.3\n",
        "[ -1.01163350e+00   5.32683912e-04]"
       ]
      },
      {
       "output_type": "stream",
       "stream": "stdout",
       "text": [
        "\n",
        "1.5 3.4\n",
        "[-1.01148742  0.00595798]"
       ]
      },
      {
       "output_type": "stream",
       "stream": "stdout",
       "text": [
        "\n",
        "1.5 3.5\n",
        "[-1.0103852   0.00988122]"
       ]
      },
      {
       "output_type": "stream",
       "stream": "stdout",
       "text": [
        "\n",
        "1.5 3.6\n",
        "[-1.00871846  0.0125154 ]"
       ]
      },
      {
       "output_type": "stream",
       "stream": "stdout",
       "text": [
        "\n",
        "1.5 3.7\n",
        "[-1.00675089  0.01409414]"
       ]
      },
      {
       "output_type": "stream",
       "stream": "stdout",
       "text": [
        "\n",
        "1.5 3.8\n",
        "[-1.00465681  0.01483384]"
       ]
      },
      {
       "output_type": "stream",
       "stream": "stdout",
       "text": [
        "\n",
        "1.5 3.9\n",
        "[-1.00254907  0.01492083]"
       ]
      },
      {
       "output_type": "stream",
       "stream": "stdout",
       "text": [
        "\n",
        "1.5 4.0\n",
        "[-1.00049859  0.01450961]"
       ]
      },
      {
       "output_type": "stream",
       "stream": "stdout",
       "text": [
        "\n",
        "1.5 4.1\n",
        "[-0.99854781  0.01372551]"
       ]
      },
      {
       "output_type": "stream",
       "stream": "stdout",
       "text": [
        "\n",
        "1.5 4.2\n",
        "[-0.99671993  0.01266876]"
       ]
      },
      {
       "output_type": "stream",
       "stream": "stdout",
       "text": [
        "\n",
        "1.5 4.3\n",
        "[-0.99502523  0.01141882]"
       ]
      },
      {
       "output_type": "stream",
       "stream": "stdout",
       "text": [
        "\n",
        "1.5 4.4\n",
        "[-0.9934654   0.01003825]"
       ]
      },
      {
       "output_type": "stream",
       "stream": "stdout",
       "text": [
        "\n",
        "1.5 4.5\n",
        "[-0.99203653  0.00857603]"
       ]
      },
      {
       "output_type": "stream",
       "stream": "stdout",
       "text": [
        "\n",
        "1.5 4.6\n",
        "[-0.99073109  0.00707038]"
       ]
      },
      {
       "output_type": "stream",
       "stream": "stdout",
       "text": [
        "\n",
        "1.5 4.7\n",
        "[-0.98953937  0.00555098]"
       ]
      },
      {
       "output_type": "stream",
       "stream": "stdout",
       "text": [
        "\n",
        "1.5 4.8\n",
        "[-0.98845038  0.00404085]"
       ]
      },
      {
       "output_type": "stream",
       "stream": "stdout",
       "text": [
        "\n",
        "1.5 4.9\n",
        "[-0.98745254  0.00255781]"
       ]
      },
      {
       "output_type": "stream",
       "stream": "stdout",
       "text": [
        "\n",
        "1.5 5.0\n",
        "[-0.98653402  0.00111569]"
       ]
      },
      {
       "output_type": "stream",
       "stream": "stdout",
       "text": [
        "\n",
        "1.5 5.1\n",
        "[ -9.85683095e-01  -2.74712957e-04]"
       ]
      },
      {
       "output_type": "stream",
       "stream": "stdout",
       "text": [
        "\n",
        "1.5 5.2\n",
        "[-0.98488827 -0.00160477]"
       ]
      },
      {
       "output_type": "stream",
       "stream": "stdout",
       "text": [
        "\n",
        "1.5 5.3\n",
        "[-0.98413842 -0.00286739]"
       ]
      },
      {
       "output_type": "stream",
       "stream": "stdout",
       "text": [
        "\n",
        "1.5 5.4\n",
        "[-0.98342281 -0.00405643]"
       ]
      },
      {
       "output_type": "stream",
       "stream": "stdout",
       "text": [
        "\n",
        "1.5 5.5\n",
        "[-0.98273118 -0.00516616]"
       ]
      },
      {
       "output_type": "stream",
       "stream": "stdout",
       "text": [
        "\n",
        "1.5 5.6\n",
        "[-0.98205374 -0.0061908 ]"
       ]
      },
      {
       "output_type": "stream",
       "stream": "stdout",
       "text": [
        "\n",
        "1.5 5.7\n",
        "[-0.98138121 -0.00712402]"
       ]
      },
      {
       "output_type": "stream",
       "stream": "stdout",
       "text": [
        "\n",
        "1.5 5.8\n",
        "[-0.98070486 -0.00795853]"
       ]
      },
      {
       "output_type": "stream",
       "stream": "stdout",
       "text": [
        "\n",
        "1.5 5.9\n",
        "[-0.98001655 -0.00868551]"
       ]
      },
      {
       "output_type": "stream",
       "stream": "stdout",
       "text": [
        "\n",
        "1.5 6.0\n",
        "[-0.97930887 -0.00929409]"
       ]
      },
      {
       "output_type": "stream",
       "stream": "stdout",
       "text": [
        "\n",
        "1.5 6.1\n",
        "[-0.97857528 -0.00977066]"
       ]
      },
      {
       "output_type": "stream",
       "stream": "stdout",
       "text": [
        "\n",
        "1.5 6.2\n",
        "[-0.97781036 -0.01009812]"
       ]
      },
      {
       "output_type": "stream",
       "stream": "stdout",
       "text": [
        "\n",
        "1.5 6.3\n",
        "[-0.9770102  -0.01025491]"
       ]
      },
      {
       "output_type": "stream",
       "stream": "stdout",
       "text": [
        "\n",
        "1.5 6.4\n",
        "[-0.97617291 -0.01021381]"
       ]
      },
      {
       "output_type": "stream",
       "stream": "stdout",
       "text": [
        "\n",
        "1.5 6.5\n",
        "[-0.97529946 -0.00994055]"
       ]
      },
      {
       "output_type": "stream",
       "stream": "stdout",
       "text": [
        "\n",
        "1.5 6.6\n",
        "[-0.9743948  -0.00939184]"
       ]
      },
      {
       "output_type": "stream",
       "stream": "stdout",
       "text": [
        "\n",
        "1.5 6.7\n",
        "[-0.97346955 -0.00851308]"
       ]
      },
      {
       "output_type": "stream",
       "stream": "stdout",
       "text": [
        "\n",
        "1.5 6.8\n",
        "[-0.9725425  -0.00723529]"
       ]
      },
      {
       "output_type": "stream",
       "stream": "stdout",
       "text": [
        "\n",
        "1.5 6.9\n",
        "[-0.97164414 -0.00547131]"
       ]
      },
      {
       "output_type": "stream",
       "stream": "stdout",
       "text": [
        "\n",
        "1.5 7.0\n",
        "[-0.97082206 -0.00311086]"
       ]
      },
      {
       "output_type": "stream",
       "stream": "stdout",
       "text": [
        "\n",
        "1.5 7.1\n",
        "[ -9.70148903e-01  -1.45007993e-05]"
       ]
      },
      {
       "output_type": "stream",
       "stream": "stdout",
       "text": [
        "\n",
        "1.5 7.2\n",
        "[-0.9697344   0.00399374]"
       ]
      },
      {
       "output_type": "stream",
       "stream": "stdout",
       "text": [
        "\n",
        "1.5 7.3\n",
        "[-0.96974377  0.00913451]"
       ]
      },
      {
       "output_type": "stream",
       "stream": "stdout",
       "text": [
        "\n",
        "1.5 7.4\n",
        "[-0.97042623  0.01568052]"
       ]
      },
      {
       "output_type": "stream",
       "stream": "stdout",
       "text": [
        "\n",
        "1.5 7.5\n",
        "[-0.97215939  0.02395802]"
       ]
      },
      {
       "output_type": "stream",
       "stream": "stdout",
       "text": [
        "\n",
        "1.5 7.6\n",
        "[-0.97551911  0.03432826]"
       ]
      },
      {
       "output_type": "stream",
       "stream": "stdout",
       "text": [
        "\n",
        "1.5 7.7\n",
        "[-0.9813877   0.04711043]"
       ]
      },
      {
       "output_type": "stream",
       "stream": "stdout",
       "text": [
        "\n",
        "1.5 7.8\n",
        "[-0.99111255  0.06233699]"
       ]
      },
      {
       "output_type": "stream",
       "stream": "stdout",
       "text": [
        "\n",
        "1.5 7.9\n",
        "[-1.00669058  0.07902368]"
       ]
      },
      {
       "output_type": "stream",
       "stream": "stdout",
       "text": [
        "\n",
        "1.5 8.0\n",
        "[-1.03073018  0.09298116]"
       ]
      },
      {
       "output_type": "stream",
       "stream": "stdout",
       "text": [
        "\n",
        "1.5 8.1\n",
        "[-1.06473468  0.09015988]"
       ]
      },
      {
       "output_type": "stream",
       "stream": "stdout",
       "text": [
        "\n",
        "1.5 8.2\n",
        "[-1.09764042  0.02802268]"
       ]
      },
      {
       "output_type": "stream",
       "stream": "stdout",
       "text": [
        "\n",
        "1.5 8.3\n",
        "[-1.0419876  -0.17860261]"
       ]
      },
      {
       "output_type": "stream",
       "stream": "stdout",
       "text": [
        "\n",
        "1.5 8.4\n",
        "[-0.51755768 -0.27771696]"
       ]
      },
      {
       "output_type": "stream",
       "stream": "stdout",
       "text": [
        "\n",
        "1.5 8.5\n",
        "[ 0.59729145  0.30310417]"
       ]
      },
      {
       "output_type": "stream",
       "stream": "stdout",
       "text": [
        "\n",
        "1.5 8.6\n",
        "[ 1.07481247  0.11724468]"
       ]
      },
      {
       "output_type": "stream",
       "stream": "stdout",
       "text": [
        "\n",
        "1.5 8.7\n",
        "[ 1.0827238  -0.07342919]"
       ]
      },
      {
       "output_type": "stream",
       "stream": "stdout",
       "text": [
        "\n",
        "1.5 8.8\n",
        "[ 1.02935409 -0.09379041]"
       ]
      },
      {
       "output_type": "stream",
       "stream": "stdout",
       "text": [
        "\n",
        "1.5 8.9\n",
        "[ 0.99204463 -0.06605674]"
       ]
      },
      {
       "output_type": "stream",
       "stream": "stdout",
       "text": [
        "\n",
        "1.5 9.0\n",
        "[ 0.97289231 -0.03398812]"
       ]
      },
      {
       "output_type": "stream",
       "stream": "stdout",
       "text": [
        "\n",
        "1.5 9.1\n",
        "[ 0.96571418 -0.00800573]"
       ]
      },
      {
       "output_type": "stream",
       "stream": "stdout",
       "text": [
        "\n",
        "1.5 9.2\n",
        "[ 0.96557191  0.01063238]"
       ]
      },
      {
       "output_type": "stream",
       "stream": "stdout",
       "text": [
        "\n",
        "1.5 9.3\n",
        "[ 0.96929173  0.02289878]"
       ]
      },
      {
       "output_type": "stream",
       "stream": "stdout",
       "text": [
        "\n",
        "1.5 9.4\n",
        "[ 0.97493061  0.0301252 ]"
       ]
      },
      {
       "output_type": "stream",
       "stream": "stdout",
       "text": [
        "\n",
        "1.5 9.5\n",
        "[ 0.98131784  0.0335213 ]"
       ]
      },
      {
       "output_type": "stream",
       "stream": "stdout",
       "text": [
        "\n",
        "1.5 9.6\n",
        "[ 0.98775856  0.03407987]"
       ]
      },
      {
       "output_type": "stream",
       "stream": "stdout",
       "text": [
        "\n",
        "1.5 9.7\n",
        "[ 0.99385185  0.03258662]"
       ]
      },
      {
       "output_type": "stream",
       "stream": "stdout",
       "text": [
        "\n",
        "1.5 9.8\n",
        "[ 0.99937959  0.02965362]"
       ]
      },
      {
       "output_type": "stream",
       "stream": "stdout",
       "text": [
        "\n",
        "1.5 9.9\n",
        "[ 1.00423764  0.02575328]"
       ]
      },
      {
       "output_type": "stream",
       "stream": "stdout",
       "text": [
        "\n",
        "1.6 0.0\n",
        "[ 1.00599971 -0.003994  ]"
       ]
      },
      {
       "output_type": "stream",
       "stream": "stdout",
       "text": [
        "\n",
        "1.6 0.1\n",
        "[ 1.0061824  -0.00364817]"
       ]
      },
      {
       "output_type": "stream",
       "stream": "stdout",
       "text": [
        "\n",
        "1.6 0.2\n",
        "[ 1.00640334 -0.00325299]"
       ]
      },
      {
       "output_type": "stream",
       "stream": "stdout",
       "text": [
        "\n",
        "1.6 0.3\n",
        "[ 1.00665173 -0.00279393]"
       ]
      },
      {
       "output_type": "stream",
       "stream": "stdout",
       "text": [
        "\n",
        "1.6 0.4\n",
        "[ 1.00691608 -0.00225275]"
       ]
      },
      {
       "output_type": "stream",
       "stream": "stdout",
       "text": [
        "\n",
        "1.6 0.5\n",
        "[ 1.00718327 -0.00160733]"
       ]
      },
      {
       "output_type": "stream",
       "stream": "stdout",
       "text": [
        "\n",
        "1.6 0.6\n",
        "[  1.00743749e+00  -8.31335280e-04]"
       ]
      },
      {
       "output_type": "stream",
       "stream": "stdout",
       "text": [
        "\n",
        "1.6 0.7\n",
        "[  1.00765873e+00   1.06305057e-04]"
       ]
      },
      {
       "output_type": "stream",
       "stream": "stdout",
       "text": [
        "\n",
        "1.6 0.8\n",
        "[ 1.00782094  0.00124196]"
       ]
      },
      {
       "output_type": "stream",
       "stream": "stdout",
       "text": [
        "\n",
        "1.6 0.9\n",
        "[ 1.0078893   0.00261774]"
       ]
      },
      {
       "output_type": "stream",
       "stream": "stdout",
       "text": [
        "\n",
        "1.6 1.0\n",
        "[ 1.00781667  0.00428151]"
       ]
      },
      {
       "output_type": "stream",
       "stream": "stdout",
       "text": [
        "\n",
        "1.6 1.1\n",
        "[ 1.00753846  0.00628591]"
       ]
      },
      {
       "output_type": "stream",
       "stream": "stdout",
       "text": [
        "\n",
        "1.6 1.2\n",
        "[ 1.00696555  0.00868512]"
       ]
      },
      {
       "output_type": "stream",
       "stream": "stdout",
       "text": [
        "\n",
        "1.6 1.3\n",
        "[ 1.00597445  0.01152696]"
       ]
      },
      {
       "output_type": "stream",
       "stream": "stdout",
       "text": [
        "\n",
        "1.6 1.4\n",
        "[ 1.00439398  0.01483527]"
       ]
      },
      {
       "output_type": "stream",
       "stream": "stdout",
       "text": [
        "\n",
        "1.6 1.5\n",
        "[ 1.00198862  0.01857201]"
       ]
      },
      {
       "output_type": "stream",
       "stream": "stdout",
       "text": [
        "\n",
        "1.6 1.6\n",
        "[ 0.99844195  0.02255603]"
       ]
      },
      {
       "output_type": "stream",
       "stream": "stdout",
       "text": [
        "\n",
        "1.6 1.7\n",
        "[ 0.99335633  0.02628641]"
       ]
      },
      {
       "output_type": "stream",
       "stream": "stdout",
       "text": [
        "\n",
        "1.6 1.8\n",
        "[ 0.98633005  0.02854594]"
       ]
      },
      {
       "output_type": "stream",
       "stream": "stdout",
       "text": [
        "\n",
        "1.6 1.9\n",
        "[ 0.97734537  0.02647229]"
       ]
      },
      {
       "output_type": "stream",
       "stream": "stdout",
       "text": [
        "\n",
        "1.6 2.0\n",
        "[ 0.96843246  0.01329343]"
       ]
      },
      {
       "output_type": "stream",
       "stream": "stdout",
       "text": [
        "\n",
        "1.6 2.1\n",
        "[ 0.97122383 -0.02660357]"
       ]
      },
      {
       "output_type": "stream",
       "stream": "stdout",
       "text": [
        "\n",
        "1.6 2.2\n",
        "[ 1.04193903 -0.09581978]"
       ]
      },
      {
       "output_type": "stream",
       "stream": "stdout",
       "text": [
        "\n",
        "1.6 2.3\n",
        "[ 0.16354973  0.09981158]"
       ]
      },
      {
       "output_type": "stream",
       "stream": "stdout",
       "text": [
        "\n",
        "1.6 2.4\n",
        "[-1.04535591  0.09600407]"
       ]
      },
      {
       "output_type": "stream",
       "stream": "stdout",
       "text": [
        "\n",
        "1.6 2.5\n",
        "[-0.9684923   0.01741986]"
       ]
      },
      {
       "output_type": "stream",
       "stream": "stdout",
       "text": [
        "\n",
        "1.6 2.6\n",
        "[-0.9721659  -0.02257012]"
       ]
      },
      {
       "output_type": "stream",
       "stream": "stdout",
       "text": [
        "\n",
        "1.6 2.7\n",
        "[-0.98644438 -0.02973262]"
       ]
      },
      {
       "output_type": "stream",
       "stream": "stdout",
       "text": [
        "\n",
        "1.6 2.8\n",
        "[-0.99808968 -0.02477107]"
       ]
      },
      {
       "output_type": "stream",
       "stream": "stdout",
       "text": [
        "\n",
        "1.6 2.9\n",
        "[-1.00560303 -0.01636078]"
       ]
      },
      {
       "output_type": "stream",
       "stream": "stdout",
       "text": [
        "\n",
        "1.6 3.0\n",
        "[-1.00972432 -0.00793828]"
       ]
      },
      {
       "output_type": "stream",
       "stream": "stdout",
       "text": [
        "\n",
        "1.6 3.1\n",
        "[ -1.01143139e+00  -7.47984484e-04]"
       ]
      },
      {
       "output_type": "stream",
       "stream": "stdout",
       "text": [
        "\n",
        "1.6 3.2\n",
        "[-1.01152716  0.00488911]"
       ]
      },
      {
       "output_type": "stream",
       "stream": "stdout",
       "text": [
        "\n",
        "1.6 3.3\n",
        "[-1.01059765  0.00902912]"
       ]
      },
      {
       "output_type": "stream",
       "stream": "stdout",
       "text": [
        "\n",
        "1.6 3.4\n",
        "[-1.00905086  0.01186524]"
       ]
      },
      {
       "output_type": "stream",
       "stream": "stdout",
       "text": [
        "\n",
        "1.6 3.5\n",
        "[-1.00716394  0.01362293]"
       ]
      },
      {
       "output_type": "stream",
       "stream": "stdout",
       "text": [
        "\n",
        "1.6 3.6\n",
        "[-1.00512166  0.01451639]"
       ]
      },
      {
       "output_type": "stream",
       "stream": "stdout",
       "text": [
        "\n",
        "1.6 3.7\n",
        "[-1.00304486  0.01473265]"
       ]
      },
      {
       "output_type": "stream",
       "stream": "stdout",
       "text": [
        "\n",
        "1.6 3.8\n",
        "[-1.00101049  0.01442826]"
       ]
      },
      {
       "output_type": "stream",
       "stream": "stdout",
       "text": [
        "\n",
        "1.6 3.9\n",
        "[-0.99906552  0.01373103]"
       ]
      },
      {
       "output_type": "stream",
       "stream": "stdout",
       "text": [
        "\n",
        "1.6 4.0\n",
        "[-0.99723655  0.01274377]"
       ]
      },
      {
       "output_type": "stream",
       "stream": "stdout",
       "text": [
        "\n",
        "1.6 4.1\n",
        "[-0.99553641  0.01154833]"
       ]
      },
      {
       "output_type": "stream",
       "stream": "stdout",
       "text": [
        "\n",
        "1.6 4.2\n",
        "[-0.99396871  0.01020938]"
       ]
      },
      {
       "output_type": "stream",
       "stream": "stdout",
       "text": [
        "\n",
        "1.6 4.3\n",
        "[-0.99253098  0.00877779]"
       ]
      },
      {
       "output_type": "stream",
       "stream": "stdout",
       "text": [
        "\n",
        "1.6 4.4\n",
        "[-0.99121678  0.0072933 ]"
       ]
      },
      {
       "output_type": "stream",
       "stream": "stdout",
       "text": [
        "\n",
        "1.6 4.5\n",
        "[-0.99001721  0.00578693]"
       ]
      },
      {
       "output_type": "stream",
       "stream": "stdout",
       "text": [
        "\n",
        "1.6 4.6\n",
        "[-0.98892191  0.00428272]"
       ]
      },
      {
       "output_type": "stream",
       "stream": "stdout",
       "text": [
        "\n",
        "1.6 4.7\n",
        "[-0.98791975  0.00279931]"
       ]
      },
      {
       "output_type": "stream",
       "stream": "stdout",
       "text": [
        "\n",
        "1.6 4.8\n",
        "[-0.98699926  0.00135114]"
       ]
      },
      {
       "output_type": "stream",
       "stream": "stdout",
       "text": [
        "\n",
        "1.6 4.9\n",
        "[ -9.86148979e-01  -5.05666814e-05]"
       ]
      },
      {
       "output_type": "stream",
       "stream": "stdout",
       "text": [
        "\n",
        "1.6 5.0\n",
        "[-0.98535761 -0.00139696]"
       ]
      },
      {
       "output_type": "stream",
       "stream": "stdout",
       "text": [
        "\n",
        "1.6 5.1\n",
        "[-0.98461415 -0.00268091]"
       ]
      },
      {
       "output_type": "stream",
       "stream": "stdout",
       "text": [
        "\n",
        "1.6 5.2\n",
        "[-0.98390797 -0.00389641]"
       ]
      },
      {
       "output_type": "stream",
       "stream": "stdout",
       "text": [
        "\n",
        "1.6 5.3\n",
        "[-0.98322885 -0.00503807]"
       ]
      },
      {
       "output_type": "stream",
       "stream": "stdout",
       "text": [
        "\n",
        "1.6 5.4\n",
        "[-0.98256699 -0.00610065]"
       ]
      },
      {
       "output_type": "stream",
       "stream": "stdout",
       "text": [
        "\n",
        "1.6 5.5\n",
        "[-0.98191307 -0.00707862]"
       ]
      },
      {
       "output_type": "stream",
       "stream": "stdout",
       "text": [
        "\n",
        "1.6 5.6\n",
        "[-0.98125822 -0.00796574]"
       ]
      },
      {
       "output_type": "stream",
       "stream": "stdout",
       "text": [
        "\n",
        "1.6 5.7\n",
        "[-0.98059408 -0.00875458]"
       ]
      },
      {
       "output_type": "stream",
       "stream": "stdout",
       "text": [
        "\n",
        "1.6 5.8\n",
        "[-0.9799129  -0.00943601]"
       ]
      },
      {
       "output_type": "stream",
       "stream": "stdout",
       "text": [
        "\n",
        "1.6 5.9\n",
        "[-0.97920761 -0.00999866]"
       ]
      },
      {
       "output_type": "stream",
       "stream": "stdout",
       "text": [
        "\n",
        "1.6 6.0\n",
        "[-0.97847204 -0.0104282 ]"
       ]
      },
      {
       "output_type": "stream",
       "stream": "stdout",
       "text": [
        "\n",
        "1.6 6.1\n",
        "[-0.97770117 -0.01070658]"
       ]
      },
      {
       "output_type": "stream",
       "stream": "stdout",
       "text": [
        "\n",
        "1.6 6.2\n",
        "[-0.97689152 -0.010811  ]"
       ]
      },
      {
       "output_type": "stream",
       "stream": "stdout",
       "text": [
        "\n",
        "1.6 6.3\n",
        "[-0.97604178 -0.01071266]"
       ]
      },
      {
       "output_type": "stream",
       "stream": "stdout",
       "text": [
        "\n",
        "1.6 6.4\n",
        "[-0.97515369 -0.01037521]"
       ]
      },
      {
       "output_type": "stream",
       "stream": "stdout",
       "text": [
        "\n",
        "1.6 6.5\n",
        "[-0.97423324 -0.00975277]"
       ]
      },
      {
       "output_type": "stream",
       "stream": "stdout",
       "text": [
        "\n",
        "1.6 6.6\n",
        "[-0.97329257 -0.00878738]"
       ]
      },
      {
       "output_type": "stream",
       "stream": "stdout",
       "text": [
        "\n",
        "1.6 6.7\n",
        "[-0.97235266 -0.00740577]"
       ]
      },
      {
       "output_type": "stream",
       "stream": "stdout",
       "text": [
        "\n",
        "1.6 6.8\n",
        "[-0.97144724 -0.00551525]"
       ]
      },
      {
       "output_type": "stream",
       "stream": "stdout",
       "text": [
        "\n",
        "1.6 6.9\n",
        "[-0.97062877 -0.00299846]"
       ]
      },
      {
       "output_type": "stream",
       "stream": "stdout",
       "text": [
        "\n",
        "1.6 7.0\n",
        "[ -9.69977181e-01   2.93101353e-04]"
       ]
      },
      {
       "output_type": "stream",
       "stream": "stdout",
       "text": [
        "\n",
        "1.6 7.1\n",
        "[-0.96961333  0.00454689]"
       ]
      },
      {
       "output_type": "stream",
       "stream": "stdout",
       "text": [
        "\n",
        "1.6 7.2\n",
        "[-0.96971951  0.00999773]"
       ]
      },
      {
       "output_type": "stream",
       "stream": "stdout",
       "text": [
        "\n",
        "1.6 7.3\n",
        "[-0.97057143  0.01693478]"
       ]
      },
      {
       "output_type": "stream",
       "stream": "stdout",
       "text": [
        "\n",
        "1.6 7.4\n",
        "[-0.97258824  0.0257006 ]"
       ]
      },
      {
       "output_type": "stream",
       "stream": "stdout",
       "text": [
        "\n",
        "1.6 7.5\n",
        "[-0.97641121  0.03666425]"
       ]
      },
      {
       "output_type": "stream",
       "stream": "stdout",
       "text": [
        "\n",
        "1.6 7.6\n",
        "[-0.98302525  0.05011892]"
       ]
      },
      {
       "output_type": "stream",
       "stream": "stdout",
       "text": [
        "\n",
        "1.6 7.7\n",
        "[-0.9939326   0.06596232]"
       ]
      },
      {
       "output_type": "stream",
       "stream": "stdout",
       "text": [
        "\n",
        "1.6 7.8\n",
        "[-1.01132983  0.08273974]"
       ]
      },
      {
       "output_type": "stream",
       "stream": "stdout",
       "text": [
        "\n",
        "1.6 7.9\n",
        "[-1.03789751  0.09474684]"
       ]
      },
      {
       "output_type": "stream",
       "stream": "stdout",
       "text": [
        "\n",
        "1.6 8.0\n",
        "[-1.0739576  0.0831994]"
       ]
      },
      {
       "output_type": "stream",
       "stream": "stdout",
       "text": [
        "\n",
        "1.6 8.1\n",
        "[-1.09947349 -0.00673606]"
       ]
      },
      {
       "output_type": "stream",
       "stream": "stdout",
       "text": [
        "\n",
        "1.6 8.2\n",
        "[-0.97810728 -0.2499546 ]"
       ]
      },
      {
       "output_type": "stream",
       "stream": "stdout",
       "text": [
        "\n",
        "1.6 8.3\n",
        "[-0.2441575  -0.14663854]"
       ]
      },
      {
       "output_type": "stream",
       "stream": "stdout",
       "text": [
        "\n",
        "1.6 8.4\n",
        "[ 0.80812299  0.32223531]"
       ]
      },
      {
       "output_type": "stream",
       "stream": "stdout",
       "text": [
        "\n",
        "1.6 8.5\n",
        "[ 1.09636757  0.04171834]"
       ]
      },
      {
       "output_type": "stream",
       "stream": "stdout",
       "text": [
        "\n",
        "1.6 8.6\n",
        "[ 1.06823528 -0.08895773]"
       ]
      },
      {
       "output_type": "stream",
       "stream": "stdout",
       "text": [
        "\n",
        "1.6 8.7\n",
        "[ 1.01711542 -0.08810387]"
       ]
      },
      {
       "output_type": "stream",
       "stream": "stdout",
       "text": [
        "\n",
        "1.6 8.8\n",
        "[ 0.98524065 -0.05692785]"
       ]
      },
      {
       "output_type": "stream",
       "stream": "stdout",
       "text": [
        "\n",
        "1.6 8.9\n",
        "[ 0.96997155 -0.02606046]"
       ]
      },
      {
       "output_type": "stream",
       "stream": "stdout",
       "text": [
        "\n",
        "1.6 9.0\n",
        "[ 0.96515548 -0.00212012]"
       ]
      },
      {
       "output_type": "stream",
       "stream": "stdout",
       "text": [
        "\n",
        "1.6 9.1\n",
        "[ 0.96635191  0.01461934]"
       ]
      },
      {
       "output_type": "stream",
       "stream": "stdout",
       "text": [
        "\n",
        "1.6 9.2\n",
        "[ 0.97077047  0.02533828]"
       ]
      },
      {
       "output_type": "stream",
       "stream": "stdout",
       "text": [
        "\n",
        "1.6 9.3\n",
        "[ 0.97671585  0.03136661]"
       ]
      },
      {
       "output_type": "stream",
       "stream": "stdout",
       "text": [
        "\n",
        "1.6 9.4\n",
        "[ 0.98317218  0.03386211]"
       ]
      },
      {
       "output_type": "stream",
       "stream": "stdout",
       "text": [
        "\n",
        "1.6 9.5\n",
        "[ 0.98954128  0.03376073]"
       ]
      },
      {
       "output_type": "stream",
       "stream": "stdout",
       "text": [
        "\n",
        "1.6 9.6\n",
        "[ 0.99548304  0.03179811]"
       ]
      },
      {
       "output_type": "stream",
       "stream": "stdout",
       "text": [
        "\n",
        "1.6 9.7\n",
        "[ 1.00081782  0.02854496]"
       ]
      },
      {
       "output_type": "stream",
       "stream": "stdout",
       "text": [
        "\n",
        "1.6 9.8\n",
        "[ 1.00546582  0.02444036]"
       ]
      },
      {
       "output_type": "stream",
       "stream": "stdout",
       "text": [
        "\n",
        "1.6 9.9\n",
        "[ 1.00940896  0.01981943]"
       ]
      },
      {
       "output_type": "stream",
       "stream": "stdout",
       "text": [
        "\n",
        "1.7 0.0\n",
        "[ 1.00774455 -0.00223263]"
       ]
      },
      {
       "output_type": "stream",
       "stream": "stdout",
       "text": [
        "\n",
        "1.7 0.1\n",
        "[ 1.00782964 -0.0017596 ]"
       ]
      },
      {
       "output_type": "stream",
       "stream": "stdout",
       "text": [
        "\n",
        "1.7 0.2\n",
        "[ 1.00793631 -0.0011696 ]"
       ]
      },
      {
       "output_type": "stream",
       "stream": "stdout",
       "text": [
        "\n",
        "1.7 0.3\n",
        "[  1.00804828e+00  -4.46812136e-04]"
       ]
      },
      {
       "output_type": "stream",
       "stream": "stdout",
       "text": [
        "\n",
        "1.7 0.4\n",
        "[  1.00814589e+00   4.30772557e-04]"
       ]
      },
      {
       "output_type": "stream",
       "stream": "stdout",
       "text": [
        "\n",
        "1.7 0.5\n",
        "[ 1.00820469  0.00149114]"
       ]
      },
      {
       "output_type": "stream",
       "stream": "stdout",
       "text": [
        "\n",
        "1.7 0.6\n",
        "[ 1.00819329  0.00276822]"
       ]
      },
      {
       "output_type": "stream",
       "stream": "stdout",
       "text": [
        "\n",
        "1.7 0.7\n",
        "[ 1.00807051  0.00430168]"
       ]
      },
      {
       "output_type": "stream",
       "stream": "stdout",
       "text": [
        "\n",
        "1.7 0.8\n",
        "[ 1.00778142  0.00613611]"
       ]
      },
      {
       "output_type": "stream",
       "stream": "stdout",
       "text": [
        "\n",
        "1.7 0.9\n",
        "[ 1.00725177  0.00831875]"
       ]
      },
      {
       "output_type": "stream",
       "stream": "stdout",
       "text": [
        "\n",
        "1.7 1.0\n",
        "[ 1.00638044  0.01089413]"
       ]
      },
      {
       "output_type": "stream",
       "stream": "stdout",
       "text": [
        "\n",
        "1.7 1.1\n",
        "[ 1.00502912  0.01389234]"
       ]
      },
      {
       "output_type": "stream",
       "stream": "stdout",
       "text": [
        "\n",
        "1.7 1.2\n",
        "[ 1.00300914  0.01730448]"
       ]
      },
      {
       "output_type": "stream",
       "stream": "stdout",
       "text": [
        "\n",
        "1.7 1.3\n",
        "[ 1.00006665  0.02103127]"
       ]
      },
      {
       "output_type": "stream",
       "stream": "stdout",
       "text": [
        "\n",
        "1.7 1.4\n",
        "[ 0.9958735   0.02477504]"
       ]
      },
      {
       "output_type": "stream",
       "stream": "stdout",
       "text": [
        "\n",
        "1.7 1.5\n",
        "[ 0.99005152  0.0278069 ]"
       ]
      },
      {
       "output_type": "stream",
       "stream": "stdout",
       "text": [
        "\n",
        "1.7 1.6\n",
        "[ 0.98232973  0.02844659]"
       ]
      },
      {
       "output_type": "stream",
       "stream": "stdout",
       "text": [
        "\n",
        "1.7 1.7\n",
        "[ 0.97320953  0.02284865]"
       ]
      },
      {
       "output_type": "stream",
       "stream": "stdout",
       "text": [
        "\n",
        "1.7 1.8\n",
        "[ 0.9667108   0.00213041]"
       ]
      },
      {
       "output_type": "stream",
       "stream": "stdout",
       "text": [
        "\n",
        "1.7 1.9\n",
        "[ 0.98281493 -0.05178763]"
       ]
      },
      {
       "output_type": "stream",
       "stream": "stdout",
       "text": [
        "\n",
        "1.7 2.0\n",
        "[ 1.09147976 -0.05463617]"
       ]
      },
      {
       "output_type": "stream",
       "stream": "stdout",
       "text": [
        "\n",
        "1.7 2.1\n",
        "[-0.8725873  -0.30786954]"
       ]
      },
      {
       "output_type": "stream",
       "stream": "stdout",
       "text": [
        "\n",
        "1.7 2.2\n",
        "[-1.00853918  0.081615  ]"
       ]
      },
      {
       "output_type": "stream",
       "stream": "stdout",
       "text": [
        "\n",
        "1.7 2.3\n",
        "[-0.96648011  0.00331319]"
       ]
      },
      {
       "output_type": "stream",
       "stream": "stdout",
       "text": [
        "\n",
        "1.7 2.4\n",
        "[-0.97504725 -0.02578386]"
       ]
      },
      {
       "output_type": "stream",
       "stream": "stdout",
       "text": [
        "\n",
        "1.7 2.5\n",
        "[-0.98883944 -0.02934058]"
       ]
      },
      {
       "output_type": "stream",
       "stream": "stdout",
       "text": [
        "\n",
        "1.7 2.6\n",
        "[-0.99948523 -0.02354262]"
       ]
      },
      {
       "output_type": "stream",
       "stream": "stdout",
       "text": [
        "\n",
        "1.7 2.7\n",
        "[-1.00626038 -0.0152189 ]"
       ]
      },
      {
       "output_type": "stream",
       "stream": "stdout",
       "text": [
        "\n",
        "1.7 2.8\n",
        "[-1.0099381  -0.00712723]"
       ]
      },
      {
       "output_type": "stream",
       "stream": "stdout",
       "text": [
        "\n",
        "1.7 2.9\n",
        "[ -1.01141268e+00  -2.72892375e-04]"
       ]
      },
      {
       "output_type": "stream",
       "stream": "stdout",
       "text": [
        "\n",
        "1.7 3.0\n",
        "[-1.01140878  0.00509548]"
       ]
      },
      {
       "output_type": "stream",
       "stream": "stdout",
       "text": [
        "\n",
        "1.7 3.1\n",
        "[-1.01045729  0.00904446]"
       ]
      },
      {
       "output_type": "stream",
       "stream": "stdout",
       "text": [
        "\n",
        "1.7 3.2\n",
        "[-1.00893087  0.01175688]"
       ]
      },
      {
       "output_type": "stream",
       "stream": "stdout",
       "text": [
        "\n",
        "1.7 3.3\n",
        "[-1.00708505  0.01344299]"
       ]
      },
      {
       "output_type": "stream",
       "stream": "stdout",
       "text": [
        "\n",
        "1.7 3.4\n",
        "[-1.0050919  0.0143026]"
       ]
      },
      {
       "output_type": "stream",
       "stream": "stdout",
       "text": [
        "\n",
        "1.7 3.5\n",
        "[-1.00306509  0.01451101]"
       ]
      },
      {
       "output_type": "stream",
       "stream": "stdout",
       "text": [
        "\n",
        "1.7 3.6\n",
        "[-1.00107782  0.01421577]"
       ]
      },
      {
       "output_type": "stream",
       "stream": "stdout",
       "text": [
        "\n",
        "1.7 3.7\n",
        "[-0.99917532  0.01353807]"
       ]
      },
      {
       "output_type": "stream",
       "stream": "stdout",
       "text": [
        "\n",
        "1.7 3.8\n",
        "[-0.99738367  0.01257598]"
       ]
      },
      {
       "output_type": "stream",
       "stream": "stdout",
       "text": [
        "\n",
        "1.7 3.9\n",
        "[-0.99571583  0.011408  ]"
       ]
      },
      {
       "output_type": "stream",
       "stream": "stdout",
       "text": [
        "\n",
        "1.7 4.0\n",
        "[-0.9941759   0.01009656]"
       ]
      },
      {
       "output_type": "stream",
       "stream": "stdout",
       "text": [
        "\n",
        "1.7 4.1\n",
        "[-0.99276206  0.00869098]"
       ]
      },
      {
       "output_type": "stream",
       "stream": "stdout",
       "text": [
        "\n",
        "1.7 4.2\n",
        "[-0.9914686   0.00723002]"
       ]
      },
      {
       "output_type": "stream",
       "stream": "stdout",
       "text": [
        "\n",
        "1.7 4.3\n",
        "[-0.99028732  0.00574404]"
       ]
      },
      {
       "output_type": "stream",
       "stream": "stdout",
       "text": [
        "\n",
        "1.7 4.4\n",
        "[-0.98920852  0.00425672]"
       ]
      },
      {
       "output_type": "stream",
       "stream": "stdout",
       "text": [
        "\n",
        "1.7 4.5\n",
        "[-0.98822168  0.00278643]"
       ]
      },
      {
       "output_type": "stream",
       "stream": "stdout",
       "text": [
        "\n",
        "1.7 4.6\n",
        "[-0.98731589  0.00134746]"
       ]
      },
      {
       "output_type": "stream",
       "stream": "stdout",
       "text": [
        "\n",
        "1.7 4.7\n",
        "[ -9.86480163e-01  -4.90831990e-05]"
       ]
      },
      {
       "output_type": "stream",
       "stream": "stdout",
       "text": [
        "\n",
        "1.7 4.8\n",
        "[-0.98570362 -0.0013945 ]"
       ]
      },
      {
       "output_type": "stream",
       "stream": "stdout",
       "text": [
        "\n",
        "1.7 4.9\n",
        "[-0.98497563 -0.00268183]"
       ]
      },
      {
       "output_type": "stream",
       "stream": "stdout",
       "text": [
        "\n",
        "1.7 5.0\n",
        "[-0.98428588 -0.00390531]"
       ]
      },
      {
       "output_type": "stream",
       "stream": "stdout",
       "text": [
        "\n",
        "1.7 5.1\n",
        "[-0.9836244  -0.00505986]"
       ]
      },
      {
       "output_type": "stream",
       "stream": "stdout",
       "text": [
        "\n",
        "1.7 5.2\n",
        "[-0.98298162 -0.00614072]"
       ]
      },
      {
       "output_type": "stream",
       "stream": "stdout",
       "text": [
        "\n",
        "1.7 5.3\n",
        "[-0.98234833 -0.00714295]"
       ]
      },
      {
       "output_type": "stream",
       "stream": "stdout",
       "text": [
        "\n",
        "1.7 5.4\n",
        "[-0.98171577 -0.00806111]"
       ]
      },
      {
       "output_type": "stream",
       "stream": "stdout",
       "text": [
        "\n",
        "1.7 5.5\n",
        "[-0.98107558 -0.00888877]"
       ]
      },
      {
       "output_type": "stream",
       "stream": "stdout",
       "text": [
        "\n",
        "1.7 5.6\n",
        "[-0.9804199  -0.00961812]"
       ]
      },
      {
       "output_type": "stream",
       "stream": "stdout",
       "text": [
        "\n",
        "1.7 5.7\n",
        "[-0.97974145 -0.01023941]"
       ]
      },
      {
       "output_type": "stream",
       "stream": "stdout",
       "text": [
        "\n",
        "1.7 5.8\n",
        "[-0.97903363 -0.01074039]"
       ]
      },
      {
       "output_type": "stream",
       "stream": "stdout",
       "text": [
        "\n",
        "1.7 5.9\n",
        "[-0.97829078 -0.01110559]"
       ]
      },
      {
       "output_type": "stream",
       "stream": "stdout",
       "text": [
        "\n",
        "1.7 6.0\n",
        "[-0.97750844 -0.01131549]"
       ]
      },
      {
       "output_type": "stream",
       "stream": "stdout",
       "text": [
        "\n",
        "1.7 6.1\n",
        "[-0.97668385 -0.01134537]"
       ]
      },
      {
       "output_type": "stream",
       "stream": "stdout",
       "text": [
        "\n",
        "1.7 6.2\n",
        "[-0.97581659 -0.01116404]"
       ]
      },
      {
       "output_type": "stream",
       "stream": "stdout",
       "text": [
        "\n",
        "1.7 6.3\n",
        "[-0.9749096  -0.01073212]"
       ]
      },
      {
       "output_type": "stream",
       "stream": "stdout",
       "text": [
        "\n",
        "1.7 6.4\n",
        "[-0.97397058 -0.00999988]"
       ]
      },
      {
       "output_type": "stream",
       "stream": "stdout",
       "text": [
        "\n",
        "1.7 6.5\n",
        "[-0.9730141  -0.00890444]"
       ]
      },
      {
       "output_type": "stream",
       "stream": "stdout",
       "text": [
        "\n",
        "1.7 6.6\n",
        "[-0.97206466 -0.00736628]"
       ]
      },
      {
       "output_type": "stream",
       "stream": "stdout",
       "text": [
        "\n",
        "1.7 6.7\n",
        "[-0.97116118 -0.00528472]"
       ]
      },
      {
       "output_type": "stream",
       "stream": "stdout",
       "text": [
        "\n",
        "1.7 6.8\n",
        "[-0.97036379 -0.00253219]"
       ]
      },
      {
       "output_type": "stream",
       "stream": "stdout",
       "text": [
        "\n",
        "1.7 6.9\n",
        "[-0.96976395  0.00105277]"
       ]
      },
      {
       "output_type": "stream",
       "stream": "stdout",
       "text": [
        "\n",
        "1.7 7.0\n",
        "[-0.96949993  0.0056738 ]"
       ]
      },
      {
       "output_type": "stream",
       "stream": "stdout",
       "text": [
        "\n",
        "1.7 7.1\n",
        "[-0.96978073  0.01158524]"
       ]
      },
      {
       "output_type": "stream",
       "stream": "stdout",
       "text": [
        "\n",
        "1.7 7.2\n",
        "[-0.97092333  0.01909794]"
       ]
      },
      {
       "output_type": "stream",
       "stream": "stdout",
       "text": [
        "\n",
        "1.7 7.3\n",
        "[-0.97341132  0.0285731 ]"
       ]
      },
      {
       "output_type": "stream",
       "stream": "stdout",
       "text": [
        "\n",
        "1.7 7.4\n",
        "[-0.9779871   0.04037922]"
       ]
      },
      {
       "output_type": "stream",
       "stream": "stdout",
       "text": [
        "\n",
        "1.7 7.5\n",
        "[-0.98579228  0.0547419 ]"
       ]
      },
      {
       "output_type": "stream",
       "stream": "stdout",
       "text": [
        "\n",
        "1.7 7.6\n",
        "[-0.99855798  0.07128296]"
       ]
      },
      {
       "output_type": "stream",
       "stream": "stdout",
       "text": [
        "\n",
        "1.7 7.7\n",
        "[-1.01873868  0.08763363]"
       ]
      },
      {
       "output_type": "stream",
       "stream": "stdout",
       "text": [
        "\n",
        "1.7 7.8\n",
        "[-1.04887818  0.0951916 ]"
       ]
      },
      {
       "output_type": "stream",
       "stream": "stdout",
       "text": [
        "\n",
        "1.7 7.9\n",
        "[-1.08617417  0.06635018]"
       ]
      },
      {
       "output_type": "stream",
       "stream": "stdout",
       "text": [
        "\n",
        "1.7 8.0\n",
        "[-1.08976542 -0.07221822]"
       ]
      },
      {
       "output_type": "stream",
       "stream": "stdout",
       "text": [
        "\n",
        "1.7 8.1\n",
        "[-0.82560351 -0.31948144]"
       ]
      },
      {
       "output_type": "stream",
       "stream": "stdout",
       "text": [
        "\n",
        "1.7 8.2\n",
        "[ 0.16956758  0.10340598]"
       ]
      },
      {
       "output_type": "stream",
       "stream": "stdout",
       "text": [
        "\n",
        "1.7 8.3\n",
        "[ 0.98490487  0.24428118]"
       ]
      },
      {
       "output_type": "stream",
       "stream": "stdout",
       "text": [
        "\n",
        "1.7 8.4\n",
        "[ 1.09776142 -0.0295128 ]"
       ]
      },
      {
       "output_type": "stream",
       "stream": "stdout",
       "text": [
        "\n",
        "1.7 8.5\n",
        "[ 1.04860316 -0.09625873]"
       ]
      },
      {
       "output_type": "stream",
       "stream": "stdout",
       "text": [
        "\n",
        "1.7 8.6\n",
        "[ 1.0035212  -0.07804602]"
       ]
      },
      {
       "output_type": "stream",
       "stream": "stdout",
       "text": [
        "\n",
        "1.7 8.7\n",
        "[ 0.97825962 -0.04532112]"
       ]
      },
      {
       "output_type": "stream",
       "stream": "stdout",
       "text": [
        "\n",
        "1.7 8.8\n",
        "[ 0.96734524 -0.01665633]"
       ]
      },
      {
       "output_type": "stream",
       "stream": "stdout",
       "text": [
        "\n",
        "1.7 8.9\n",
        "[ 0.96509197  0.00462053]"
       ]
      },
      {
       "output_type": "stream",
       "stream": "stdout",
       "text": [
        "\n",
        "1.7 9.0\n",
        "[ 0.96769706  0.01904238]"
       ]
      },
      {
       "output_type": "stream",
       "stream": "stdout",
       "text": [
        "\n",
        "1.7 9.1\n",
        "[ 0.97281492  0.02792351]"
       ]
      },
      {
       "output_type": "stream",
       "stream": "stdout",
       "text": [
        "\n",
        "1.7 9.2\n",
        "[ 0.97903029  0.0325529 ]"
       ]
      },
      {
       "output_type": "stream",
       "stream": "stdout",
       "text": [
        "\n",
        "1.7 9.3\n",
        "[ 0.98550061  0.03401177]"
       ]
      },
      {
       "output_type": "stream",
       "stream": "stdout",
       "text": [
        "\n",
        "1.7 9.4\n",
        "[ 0.99173531  0.03316204]"
       ]
      },
      {
       "output_type": "stream",
       "stream": "stdout",
       "text": [
        "\n",
        "1.7 9.5\n",
        "[ 0.99746156  0.03067672]"
       ]
      },
      {
       "output_type": "stream",
       "stream": "stdout",
       "text": [
        "\n",
        "1.7 9.6\n",
        "[ 1.00254191  0.02707583]"
       ]
      },
      {
       "output_type": "stream",
       "stream": "stdout",
       "text": [
        "\n",
        "1.7 9.7\n",
        "[ 1.00692292  0.02275799]"
       ]
      },
      {
       "output_type": "stream",
       "stream": "stdout",
       "text": [
        "\n",
        "1.7 9.8\n",
        "[ 1.01060274  0.01802628]"
       ]
      },
      {
       "output_type": "stream",
       "stream": "stdout",
       "text": [
        "\n",
        "1.7 9.9\n",
        "[ 1.01361043  0.01310876]"
       ]
      },
      {
       "output_type": "stream",
       "stream": "stdout",
       "text": [
        "\n",
        "1.8 0.0\n",
        "[ 1.00849193  0.00392282]"
       ]
      },
      {
       "output_type": "stream",
       "stream": "stdout",
       "text": [
        "\n",
        "1.8 0.1\n",
        "[ 1.00837413  0.004568  ]"
       ]
      },
      {
       "output_type": "stream",
       "stream": "stdout",
       "text": [
        "\n",
        "1.8 0.2\n",
        "[ 1.00820044  0.00545921]"
       ]
      },
      {
       "output_type": "stream",
       "stream": "stdout",
       "text": [
        "\n",
        "1.8 0.3\n",
        "[ 1.00794121  0.00660908]"
       ]
      },
      {
       "output_type": "stream",
       "stream": "stdout",
       "text": [
        "\n",
        "1.8 0.4\n",
        "[ 1.00755559  0.00803834]"
       ]
      },
      {
       "output_type": "stream",
       "stream": "stdout",
       "text": [
        "\n",
        "1.8 0.5\n",
        "[ 1.00698842  0.00977308]"
       ]
      },
      {
       "output_type": "stream",
       "stream": "stdout",
       "text": [
        "\n",
        "1.8 0.6\n",
        "[ 1.00616574  0.01184069]"
       ]
      },
      {
       "output_type": "stream",
       "stream": "stdout",
       "text": [
        "\n",
        "1.8 0.7\n",
        "[ 1.00498841  0.01426246]"
       ]
      },
      {
       "output_type": "stream",
       "stream": "stdout",
       "text": [
        "\n",
        "1.8 0.8\n",
        "[ 1.00332379  0.01703963]"
       ]
      },
      {
       "output_type": "stream",
       "stream": "stdout",
       "text": [
        "\n",
        "1.8 0.9\n",
        "[ 1.00099574  0.02012631]"
       ]
      },
      {
       "output_type": "stream",
       "stream": "stdout",
       "text": [
        "\n",
        "1.8 1.0\n",
        "[ 0.99777544  0.02337583]"
       ]
      },
      {
       "output_type": "stream",
       "stream": "stdout",
       "text": [
        "\n",
        "1.8 1.1\n",
        "[ 0.99338188  0.02643259]"
       ]
      },
      {
       "output_type": "stream",
       "stream": "stdout",
       "text": [
        "\n",
        "1.8 1.2\n",
        "[ 0.98752223  0.02850748]"
       ]
      },
      {
       "output_type": "stream",
       "stream": "stdout",
       "text": [
        "\n",
        "1.8 1.3\n",
        "[ 0.98007175  0.02789453]"
       ]
      },
      {
       "output_type": "stream",
       "stream": "stdout",
       "text": [
        "\n",
        "1.8 1.4\n",
        "[ 0.97174604  0.02089027]"
       ]
      },
      {
       "output_type": "stream",
       "stream": "stdout",
       "text": [
        "\n",
        "1.8 1.5\n",
        "[  9.66653775e-01  -6.10227717e-04]"
       ]
      },
      {
       "output_type": "stream",
       "stream": "stdout",
       "text": [
        "\n",
        "1.8 1.6\n",
        "[ 0.98292199 -0.05197413]"
       ]
      },
      {
       "output_type": "stream",
       "stream": "stdout",
       "text": [
        "\n",
        "1.8 1.7\n",
        "[ 1.08244475 -0.07332365]"
       ]
      },
      {
       "output_type": "stream",
       "stream": "stdout",
       "text": [
        "\n",
        "1.8 1.8\n",
        "[-0.51700693 -0.27754232]"
       ]
      },
      {
       "output_type": "stream",
       "stream": "stdout",
       "text": [
        "\n",
        "1.8 1.9\n",
        "[-1.03327846  0.09446715]"
       ]
      },
      {
       "output_type": "stream",
       "stream": "stdout",
       "text": [
        "\n",
        "1.8 2.0\n",
        "[-0.96863602  0.01798455]"
       ]
      },
      {
       "output_type": "stream",
       "stream": "stdout",
       "text": [
        "\n",
        "1.8 2.1\n",
        "[-0.97104557 -0.02076259]"
       ]
      },
      {
       "output_type": "stream",
       "stream": "stdout",
       "text": [
        "\n",
        "1.8 2.2\n",
        "[-0.98416848 -0.02967723]"
       ]
      },
      {
       "output_type": "stream",
       "stream": "stdout",
       "text": [
        "\n",
        "1.8 2.3\n",
        "[-0.99568589 -0.02638973]"
       ]
      },
      {
       "output_type": "stream",
       "stream": "stdout",
       "text": [
        "\n",
        "1.8 2.4\n",
        "[-1.00364252 -0.01898291]"
       ]
      },
      {
       "output_type": "stream",
       "stream": "stdout",
       "text": [
        "\n",
        "1.8 2.5\n",
        "[-1.008415   -0.01095626]"
       ]
      },
      {
       "output_type": "stream",
       "stream": "stdout",
       "text": [
        "\n",
        "1.8 2.6\n",
        "[-1.01078636 -0.00373973]"
       ]
      },
      {
       "output_type": "stream",
       "stream": "stdout",
       "text": [
        "\n",
        "1.8 2.7\n",
        "[-1.01147189  0.00217816]"
       ]
      },
      {
       "output_type": "stream",
       "stream": "stdout",
       "text": [
        "\n",
        "1.8 2.8\n",
        "[-1.01102737  0.00673135]"
       ]
      },
      {
       "output_type": "stream",
       "stream": "stdout",
       "text": [
        "\n",
        "1.8 2.9\n",
        "[-1.0098588   0.01003217]"
       ]
      },
      {
       "output_type": "stream",
       "stream": "stdout",
       "text": [
        "\n",
        "1.8 3.0\n",
        "[-1.00825371  0.01225607]"
       ]
      },
      {
       "output_type": "stream",
       "stream": "stdout",
       "text": [
        "\n",
        "1.8 3.1\n",
        "[-1.00641171  0.01358839]"
       ]
      },
      {
       "output_type": "stream",
       "stream": "stdout",
       "text": [
        "\n",
        "1.8 3.2\n",
        "[-1.00446899  0.01420114]"
       ]
      },
      {
       "output_type": "stream",
       "stream": "stdout",
       "text": [
        "\n",
        "1.8 3.3\n",
        "[-1.0025166   0.01424451]"
       ]
      },
      {
       "output_type": "stream",
       "stream": "stdout",
       "text": [
        "\n",
        "1.8 3.4\n",
        "[-1.00061374  0.01384523]"
       ]
      },
      {
       "output_type": "stream",
       "stream": "stdout",
       "text": [
        "\n",
        "1.8 3.5\n",
        "[-0.99879727  0.01310802]"
       ]
      },
      {
       "output_type": "stream",
       "stream": "stdout",
       "text": [
        "\n",
        "1.8 3.6\n",
        "[-0.99708846  0.01211823]"
       ]
      },
      {
       "output_type": "stream",
       "stream": "stdout",
       "text": [
        "\n",
        "1.8 3.7\n",
        "[-0.99549772  0.01094477]"
       ]
      },
      {
       "output_type": "stream",
       "stream": "stdout",
       "text": [
        "\n",
        "1.8 3.8\n",
        "[-0.99402803  0.00964283]"
       ]
      },
      {
       "output_type": "stream",
       "stream": "stdout",
       "text": [
        "\n",
        "1.8 3.9\n",
        "[-0.99267733  0.0082564 ]"
       ]
      },
      {
       "output_type": "stream",
       "stream": "stdout",
       "text": [
        "\n",
        "1.8 4.0\n",
        "[-0.99144015  0.00682032]"
       ]
      },
      {
       "output_type": "stream",
       "stream": "stdout",
       "text": [
        "\n",
        "1.8 4.1\n",
        "[-0.99030885  0.00536206]"
       ]
      },
      {
       "output_type": "stream",
       "stream": "stdout",
       "text": [
        "\n",
        "1.8 4.2\n",
        "[-0.98927444  0.00390321]"
       ]
      },
      {
       "output_type": "stream",
       "stream": "stdout",
       "text": [
        "\n",
        "1.8 4.3\n",
        "[-0.98832713  0.00246065]"
       ]
      },
      {
       "output_type": "stream",
       "stream": "stdout",
       "text": [
        "\n",
        "1.8 4.4\n",
        "[-0.98745678  0.00104755]"
       ]
      },
      {
       "output_type": "stream",
       "stream": "stdout",
       "text": [
        "\n",
        "1.8 4.5\n",
        "[ -9.86653120e-01  -3.25781701e-04]"
       ]
      },
      {
       "output_type": "stream",
       "stream": "stdout",
       "text": [
        "\n",
        "1.8 4.6\n",
        "[-0.98590595 -0.00165125]"
       ]
      },
      {
       "output_type": "stream",
       "stream": "stdout",
       "text": [
        "\n",
        "1.8 4.7\n",
        "[-0.98520527 -0.00292238]"
       ]
      },
      {
       "output_type": "stream",
       "stream": "stdout",
       "text": [
        "\n",
        "1.8 4.8\n",
        "[-0.9845413  -0.00413381]"
       ]
      },
      {
       "output_type": "stream",
       "stream": "stdout",
       "text": [
        "\n",
        "1.8 4.9\n",
        "[-0.98390459 -0.00528089]"
       ]
      },
      {
       "output_type": "stream",
       "stream": "stdout",
       "text": [
        "\n",
        "1.8 5.0\n",
        "[-0.98328598 -0.00635926]"
       ]
      },
      {
       "output_type": "stream",
       "stream": "stdout",
       "text": [
        "\n",
        "1.8 5.1\n",
        "[-0.98267663 -0.00736447]"
       ]
      },
      {
       "output_type": "stream",
       "stream": "stdout",
       "text": [
        "\n",
        "1.8 5.2\n",
        "[-0.98206807 -0.00829167]"
       ]
      },
      {
       "output_type": "stream",
       "stream": "stdout",
       "text": [
        "\n",
        "1.8 5.3\n",
        "[-0.98145216 -0.00913517]"
       ]
      },
      {
       "output_type": "stream",
       "stream": "stdout",
       "text": [
        "\n",
        "1.8 5.4\n",
        "[-0.98082118 -0.00988806]"
       ]
      },
      {
       "output_type": "stream",
       "stream": "stdout",
       "text": [
        "\n",
        "1.8 5.5\n",
        "[-0.98016784 -0.01054176]"
       ]
      },
      {
       "output_type": "stream",
       "stream": "stdout",
       "text": [
        "\n",
        "1.8 5.6\n",
        "[-0.97948546 -0.01108549]"
       ]
      },
      {
       "output_type": "stream",
       "stream": "stdout",
       "text": [
        "\n",
        "1.8 5.7\n",
        "[-0.97876805 -0.01150563]"
       ]
      },
      {
       "output_type": "stream",
       "stream": "stdout",
       "text": [
        "\n",
        "1.8 5.8\n",
        "[-0.97801063 -0.01178496]"
       ]
      },
      {
       "output_type": "stream",
       "stream": "stdout",
       "text": [
        "\n",
        "1.8 5.9\n",
        "[-0.97720957 -0.01190172]"
       ]
      },
      {
       "output_type": "stream",
       "stream": "stdout",
       "text": [
        "\n",
        "1.8 6.0\n",
        "[-0.97636314 -0.01182843]"
       ]
      },
      {
       "output_type": "stream",
       "stream": "stdout",
       "text": [
        "\n",
        "1.8 6.1\n",
        "[-0.97547229 -0.0115304 ]"
       ]
      },
      {
       "output_type": "stream",
       "stream": "stdout",
       "text": [
        "\n",
        "1.8 6.2\n",
        "[-0.97454186 -0.01096382]"
       ]
      },
      {
       "output_type": "stream",
       "stream": "stdout",
       "text": [
        "\n",
        "1.8 6.3\n",
        "[-0.97358221 -0.01007337]"
       ]
      },
      {
       "output_type": "stream",
       "stream": "stdout",
       "text": [
        "\n",
        "1.8 6.4\n",
        "[-0.97261173 -0.0087891 ]"
       ]
      },
      {
       "output_type": "stream",
       "stream": "stdout",
       "text": [
        "\n",
        "1.8 6.5\n",
        "[-0.97166044 -0.0070225 ]"
       ]
      },
      {
       "output_type": "stream",
       "stream": "stdout",
       "text": [
        "\n",
        "1.8 6.6\n",
        "[-0.97077539 -0.0046614 ]"
       ]
      },
      {
       "output_type": "stream",
       "stream": "stdout",
       "text": [
        "\n",
        "1.8 6.7\n",
        "[-0.97002874 -0.00156368]"
       ]
      },
      {
       "output_type": "stream",
       "stream": "stdout",
       "text": [
        "\n",
        "1.8 6.8\n",
        "[-0.96952998  0.00245043]"
       ]
      },
      {
       "output_type": "stream",
       "stream": "stdout",
       "text": [
        "\n",
        "1.8 6.9\n",
        "[-0.96944466  0.0076071 ]"
       ]
      },
      {
       "output_type": "stream",
       "stream": "stdout",
       "text": [
        "\n",
        "1.8 7.0\n",
        "[-0.97002351  0.01418703]"
       ]
      },
      {
       "output_type": "stream",
       "stream": "stdout",
       "text": [
        "\n",
        "1.8 7.1\n",
        "[-0.9716481   0.02252802]"
       ]
      },
      {
       "output_type": "stream",
       "stream": "stdout",
       "text": [
        "\n",
        "1.8 7.2\n",
        "[-0.97490282  0.03300789]"
       ]
      },
      {
       "output_type": "stream",
       "stream": "stdout",
       "text": [
        "\n",
        "1.8 7.3\n",
        "[-0.98068727  0.04596853]"
       ]
      },
      {
       "output_type": "stream",
       "stream": "stdout",
       "text": [
        "\n",
        "1.8 7.4\n",
        "[-0.99038245  0.0614694 ]"
       ]
      },
      {
       "output_type": "stream",
       "stream": "stdout",
       "text": [
        "\n",
        "1.8 7.5\n",
        "[-1.00604751  0.0785409 ]"
       ]
      },
      {
       "output_type": "stream",
       "stream": "stdout",
       "text": [
        "\n",
        "1.8 7.6\n",
        "[-1.03039113  0.09291738]"
       ]
      },
      {
       "output_type": "stream",
       "stream": "stdout",
       "text": [
        "\n",
        "1.8 7.7\n",
        "[-1.06498034  0.09005502]"
       ]
      },
      {
       "output_type": "stream",
       "stream": "stdout",
       "text": [
        "\n",
        "1.8 7.8\n",
        "[-1.09800659  0.02541367]"
       ]
      },
      {
       "output_type": "stream",
       "stream": "stdout",
       "text": [
        "\n",
        "1.8 7.9\n",
        "[-1.0351581 -0.1884874]"
       ]
      },
      {
       "output_type": "stream",
       "stream": "stdout",
       "text": [
        "\n",
        "1.8 8.0\n",
        "[-0.4726945  -0.26033095]"
       ]
      },
      {
       "output_type": "stream",
       "stream": "stdout",
       "text": [
        "\n",
        "1.8 8.1\n",
        "[ 0.64772102  0.31479995]"
       ]
      },
      {
       "output_type": "stream",
       "stream": "stdout",
       "text": [
        "\n",
        "1.8 8.2\n",
        "[ 1.08223825  0.09764234]"
       ]
      },
      {
       "output_type": "stream",
       "stream": "stdout",
       "text": [
        "\n",
        "1.8 8.3\n",
        "[ 1.07908138 -0.07851663]"
       ]
      },
      {
       "output_type": "stream",
       "stream": "stdout",
       "text": [
        "\n",
        "1.8 8.4\n",
        "[ 1.02579141 -0.09242796]"
       ]
      },
      {
       "output_type": "stream",
       "stream": "stdout",
       "text": [
        "\n",
        "1.8 8.5\n",
        "[ 0.98994399 -0.06337598]"
       ]
      },
      {
       "output_type": "stream",
       "stream": "stdout",
       "text": [
        "\n",
        "1.8 8.6\n",
        "[ 0.97196571 -0.03154594]"
       ]
      },
      {
       "output_type": "stream",
       "stream": "stdout",
       "text": [
        "\n",
        "1.8 8.7\n",
        "[ 0.96554939 -0.00616749]"
       ]
      },
      {
       "output_type": "stream",
       "stream": "stdout",
       "text": [
        "\n",
        "1.8 8.8\n",
        "[ 0.9658565   0.01185623]"
       ]
      },
      {
       "output_type": "stream",
       "stream": "stdout",
       "text": [
        "\n",
        "1.8 8.9\n",
        "[ 0.96981383  0.02359576]"
       ]
      },
      {
       "output_type": "stream",
       "stream": "stdout",
       "text": [
        "\n",
        "1.8 9.0\n",
        "[ 0.97555147  0.03040121]"
       ]
      },
      {
       "output_type": "stream",
       "stream": "stdout",
       "text": [
        "\n",
        "1.8 9.1\n",
        "[ 0.9819486   0.03347599]"
       ]
      },
      {
       "output_type": "stream",
       "stream": "stdout",
       "text": [
        "\n",
        "1.8 9.2\n",
        "[ 0.98834383  0.0337998 ]"
       ]
      },
      {
       "output_type": "stream",
       "stream": "stdout",
       "text": [
        "\n",
        "1.8 9.3\n",
        "[ 0.99435876  0.0321443 ]"
       ]
      },
      {
       "output_type": "stream",
       "stream": "stdout",
       "text": [
        "\n",
        "1.8 9.4\n",
        "[ 0.99979037  0.0291085 ]"
       ]
      },
      {
       "output_type": "stream",
       "stream": "stdout",
       "text": [
        "\n",
        "1.8 9.5\n",
        "[ 1.00454465  0.02515332]"
       ]
      },
      {
       "output_type": "stream",
       "stream": "stdout",
       "text": [
        "\n",
        "1.8 9.6\n",
        "[ 1.00859498  0.02063068]"
       ]
      },
      {
       "output_type": "stream",
       "stream": "stdout",
       "text": [
        "\n",
        "1.8 9.7\n",
        "[ 1.01195568  0.01580689]"
       ]
      },
      {
       "output_type": "stream",
       "stream": "stdout",
       "text": [
        "\n",
        "1.8 9.8\n",
        "[ 1.01466508  0.01088113]"
       ]
      },
      {
       "output_type": "stream",
       "stream": "stdout",
       "text": [
        "\n",
        "1.8 9.9\n",
        "[ 1.01677464  0.00599998]"
       ]
      },
      {
       "output_type": "stream",
       "stream": "stdout",
       "text": [
        "\n",
        "1.9 0.0\n",
        "[ 1.00147373  0.01981919]"
       ]
      },
      {
       "output_type": "stream",
       "stream": "stdout",
       "text": [
        "\n",
        "1.9 0.1\n",
        "[ 1.00089212  0.02048052]"
       ]
      },
      {
       "output_type": "stream",
       "stream": "stdout",
       "text": [
        "\n",
        "1.9 0.2\n",
        "[ 0.9999239   0.02151915]"
       ]
      },
      {
       "output_type": "stream",
       "stream": "stdout",
       "text": [
        "\n",
        "1.9 0.3\n",
        "[ 0.99851006  0.02288546]"
       ]
      },
      {
       "output_type": "stream",
       "stream": "stdout",
       "text": [
        "\n",
        "1.9 0.4\n",
        "[ 0.99655838  0.0245016 ]"
       ]
      },
      {
       "output_type": "stream",
       "stream": "stdout",
       "text": [
        "\n",
        "1.9 0.5\n",
        "[ 0.99394346  0.02622913]"
       ]
      },
      {
       "output_type": "stream",
       "stream": "stdout",
       "text": [
        "\n",
        "1.9 0.6\n",
        "[ 0.99051137  0.02781033]"
       ]
      },
      {
       "output_type": "stream",
       "stream": "stdout",
       "text": [
        "\n",
        "1.9 0.7\n",
        "[ 0.98610218  0.02875844]"
       ]
      },
      {
       "output_type": "stream",
       "stream": "stdout",
       "text": [
        "\n",
        "1.9 0.8\n",
        "[ 0.98062617  0.02814496]"
       ]
      },
      {
       "output_type": "stream",
       "stream": "stdout",
       "text": [
        "\n",
        "1.9 0.9\n",
        "[ 0.97429923  0.02417394]"
       ]
      },
      {
       "output_type": "stream",
       "stream": "stdout",
       "text": [
        "\n",
        "1.9 1.0\n",
        "[ 0.96837229  0.01331378]"
       ]
      },
      {
       "output_type": "stream",
       "stream": "stdout",
       "text": [
        "\n",
        "1.9 1.1\n",
        "[ 0.96752728 -0.01133279]"
       ]
      },
      {
       "output_type": "stream",
       "stream": "stdout",
       "text": [
        "\n",
        "1.9 1.2\n",
        "[ 0.9883628  -0.06017635]"
       ]
      },
      {
       "output_type": "stream",
       "stream": "stdout",
       "text": [
        "\n",
        "1.9 1.3\n",
        "[ 1.07715781 -0.0803563 ]"
       ]
      },
      {
       "output_type": "stream",
       "stream": "stdout",
       "text": [
        "\n",
        "1.9 1.4\n",
        "[ 0.13944692  0.085398  ]"
       ]
      },
      {
       "output_type": "stream",
       "stream": "stdout",
       "text": [
        "\n",
        "1.9 1.5\n",
        "[-1.07964503  0.07736375]"
       ]
      },
      {
       "output_type": "stream",
       "stream": "stdout",
       "text": [
        "\n",
        "1.9 1.6\n",
        "[-0.98081666  0.04860089]"
       ]
      },
      {
       "output_type": "stream",
       "stream": "stdout",
       "text": [
        "\n",
        "1.9 1.7\n",
        "[-0.96669384 -0.00605298]"
       ]
      },
      {
       "output_type": "stream",
       "stream": "stdout",
       "text": [
        "\n",
        "1.9 1.8\n",
        "[-0.97594424 -0.02646404]"
       ]
      },
      {
       "output_type": "stream",
       "stream": "stdout",
       "text": [
        "\n",
        "1.9 1.9\n",
        "[-0.9879353 -0.0294416]"
       ]
      },
      {
       "output_type": "stream",
       "stream": "stdout",
       "text": [
        "\n",
        "1.9 2.0\n",
        "[-0.99768276 -0.02493838]"
       ]
      },
      {
       "output_type": "stream",
       "stream": "stdout",
       "text": [
        "\n",
        "1.9 2.1\n",
        "[-1.00443901 -0.01783227]"
       ]
      },
      {
       "output_type": "stream",
       "stream": "stdout",
       "text": [
        "\n",
        "1.9 2.2\n",
        "[-1.00858246 -0.01043074]"
       ]
      },
      {
       "output_type": "stream",
       "stream": "stdout",
       "text": [
        "\n",
        "1.9 2.3\n",
        "[-1.01071098 -0.00375971]"
       ]
      },
      {
       "output_type": "stream",
       "stream": "stdout",
       "text": [
        "\n",
        "1.9 2.4\n",
        "[-1.01137775  0.0017944 ]"
       ]
      },
      {
       "output_type": "stream",
       "stream": "stdout",
       "text": [
        "\n",
        "1.9 2.5\n",
        "[-1.01102846  0.00615895]"
       ]
      },
      {
       "output_type": "stream",
       "stream": "stdout",
       "text": [
        "\n",
        "1.9 2.6\n",
        "[-1.01000166  0.00940755]"
       ]
      },
      {
       "output_type": "stream",
       "stream": "stdout",
       "text": [
        "\n",
        "1.9 2.7\n",
        "[-1.00854647  0.01167387]"
       ]
      },
      {
       "output_type": "stream",
       "stream": "stdout",
       "text": [
        "\n",
        "1.9 2.8\n",
        "[-1.00684241  0.01310795]"
       ]
      },
      {
       "output_type": "stream",
       "stream": "stdout",
       "text": [
        "\n",
        "1.9 2.9\n",
        "[-1.00501656  0.01385507]"
       ]
      },
      {
       "output_type": "stream",
       "stream": "stdout",
       "text": [
        "\n",
        "1.9 3.0\n",
        "[-1.0031572   0.01404643]"
       ]
      },
      {
       "output_type": "stream",
       "stream": "stdout",
       "text": [
        "\n",
        "1.9 3.1\n",
        "[-1.00132424  0.01379593]"
       ]
      },
      {
       "output_type": "stream",
       "stream": "stdout",
       "text": [
        "\n",
        "1.9 3.2\n",
        "[-0.99955697  0.0132001 ]"
       ]
      },
      {
       "output_type": "stream",
       "stream": "stdout",
       "text": [
        "\n",
        "1.9 3.3\n",
        "[-0.9978798   0.01233942]"
       ]
      },
      {
       "output_type": "stream",
       "stream": "stdout",
       "text": [
        "\n",
        "1.9 3.4\n",
        "[-0.99630649  0.01128019]"
       ]
      },
      {
       "output_type": "stream",
       "stream": "stdout",
       "text": [
        "\n",
        "1.9 3.5\n",
        "[-0.9948432  0.0100766]"
       ]
      },
      {
       "output_type": "stream",
       "stream": "stdout",
       "text": [
        "\n",
        "1.9 3.6\n",
        "[-0.99349074  0.00877257]"
       ]
      },
      {
       "output_type": "stream",
       "stream": "stdout",
       "text": [
        "\n",
        "1.9 3.7\n",
        "[-0.99224621  0.00740353]"
       ]
      },
      {
       "output_type": "stream",
       "stream": "stdout",
       "text": [
        "\n",
        "1.9 3.8\n",
        "[-0.99110417  0.00599787]"
       ]
      },
      {
       "output_type": "stream",
       "stream": "stdout",
       "text": [
        "\n",
        "1.9 3.9\n",
        "[-0.99005748  0.00457822]"
       ]
      },
      {
       "output_type": "stream",
       "stream": "stdout",
       "text": [
        "\n",
        "1.9 4.0\n",
        "[-0.98909793  0.00316257]"
       ]
      },
      {
       "output_type": "stream",
       "stream": "stdout",
       "text": [
        "\n",
        "1.9 4.1\n",
        "[-0.9882167   0.00176513]"
       ]
      },
      {
       "output_type": "stream",
       "stream": "stdout",
       "text": [
        "\n",
        "1.9 4.2\n",
        "[ -9.87404615e-01   3.97111786e-04]"
       ]
      },
      {
       "output_type": "stream",
       "stream": "stdout",
       "text": [
        "\n",
        "1.9 4.3\n",
        "[ -9.86652388e-01  -9.32635247e-04]"
       ]
      },
      {
       "output_type": "stream",
       "stream": "stdout",
       "text": [
        "\n",
        "1.9 4.4\n",
        "[-0.98595076 -0.00221707]"
       ]
      },
      {
       "output_type": "stream",
       "stream": "stdout",
       "text": [
        "\n",
        "1.9 4.5\n",
        "[-0.98529061 -0.0034505 ]"
       ]
      },
      {
       "output_type": "stream",
       "stream": "stdout",
       "text": [
        "\n",
        "1.9 4.6\n",
        "[-0.98466297 -0.00462817]"
       ]
      },
      {
       "output_type": "stream",
       "stream": "stdout",
       "text": [
        "\n",
        "1.9 4.7\n",
        "[-0.9840591 -0.0057459]"
       ]
      },
      {
       "output_type": "stream",
       "stream": "stdout",
       "text": [
        "\n",
        "1.9 4.8\n",
        "[-0.98347051 -0.00679974]"
       ]
      },
      {
       "output_type": "stream",
       "stream": "stdout",
       "text": [
        "\n",
        "1.9 4.9\n",
        "[-0.98288895 -0.00778566]"
       ]
      },
      {
       "output_type": "stream",
       "stream": "stdout",
       "text": [
        "\n",
        "1.9 5.0\n",
        "[-0.98230642 -0.00869921]"
       ]
      },
      {
       "output_type": "stream",
       "stream": "stdout",
       "text": [
        "\n",
        "1.9 5.1\n",
        "[-0.98171521 -0.00953519]"
       ]
      },
      {
       "output_type": "stream",
       "stream": "stdout",
       "text": [
        "\n",
        "1.9 5.2\n",
        "[-0.98110792 -0.01028729]"
       ]
      },
      {
       "output_type": "stream",
       "stream": "stdout",
       "text": [
        "\n",
        "1.9 5.3\n",
        "[-0.98047752 -0.01094767]"
       ]
      },
      {
       "output_type": "stream",
       "stream": "stdout",
       "text": [
        "\n",
        "1.9 5.4\n",
        "[-0.97981744 -0.01150649]"
       ]
      },
      {
       "output_type": "stream",
       "stream": "stdout",
       "text": [
        "\n",
        "1.9 5.5\n",
        "[-0.97912168 -0.01195131]"
       ]
      },
      {
       "output_type": "stream",
       "stream": "stdout",
       "text": [
        "\n",
        "1.9 5.6\n",
        "[-0.97838508 -0.01226647]"
       ]
      },
      {
       "output_type": "stream",
       "stream": "stdout",
       "text": [
        "\n",
        "1.9 5.7\n",
        "[-0.9776036  -0.01243214]"
       ]
      },
      {
       "output_type": "stream",
       "stream": "stdout",
       "text": [
        "\n",
        "1.9 5.8\n",
        "[-0.97677479 -0.01242333]"
       ]
      },
      {
       "output_type": "stream",
       "stream": "stdout",
       "text": [
        "\n",
        "1.9 5.9\n",
        "[-0.97589846 -0.01220849]"
       ]
      },
      {
       "output_type": "stream",
       "stream": "stdout",
       "text": [
        "\n",
        "1.9 6.0\n",
        "[-0.97497769 -0.01174786]"
       ]
      },
      {
       "output_type": "stream",
       "stream": "stdout",
       "text": [
        "\n",
        "1.9 6.1\n",
        "[-0.97402026 -0.01099125]"
       ]
      },
      {
       "output_type": "stream",
       "stream": "stdout",
       "text": [
        "\n",
        "1.9 6.2\n",
        "[-0.9730407  -0.00987525]"
       ]
      },
      {
       "output_type": "stream",
       "stream": "stdout",
       "text": [
        "\n",
        "1.9 6.3\n",
        "[-0.97206344 -0.00831972]"
       ]
      },
      {
       "output_type": "stream",
       "stream": "stdout",
       "text": [
        "\n",
        "1.9 6.4\n",
        "[-0.97112724 -0.00622314]"
       ]
      },
      {
       "output_type": "stream",
       "stream": "stdout",
       "text": [
        "\n",
        "1.9 6.5\n",
        "[-0.97029204 -0.00345692]"
       ]
      },
      {
       "output_type": "stream",
       "stream": "stdout",
       "text": [
        "\n",
        "1.9 6.6\n",
        "[ -9.69649089e-01   1.41831939e-04]"
       ]
      },
      {
       "output_type": "stream",
       "stream": "stdout",
       "text": [
        "\n",
        "1.9 6.7\n",
        "[-0.96933654  0.00477868]"
       ]
      },
      {
       "output_type": "stream",
       "stream": "stdout",
       "text": [
        "\n",
        "1.9 6.8\n",
        "[-0.96956341  0.01071071]"
       ]
      },
      {
       "output_type": "stream",
       "stream": "stdout",
       "text": [
        "\n",
        "1.9 6.9\n",
        "[-0.97064718  0.01825273]"
       ]
      },
      {
       "output_type": "stream",
       "stream": "stdout",
       "text": [
        "\n",
        "1.9 7.0\n",
        "[-0.97307285  0.02777175]"
       ]
      },
      {
       "output_type": "stream",
       "stream": "stdout",
       "text": [
        "\n",
        "1.9 7.1\n",
        "[-0.97758603  0.03964499]"
       ]
      },
      {
       "output_type": "stream",
       "stream": "stdout",
       "text": [
        "\n",
        "1.9 7.2\n",
        "[-0.98533525  0.05411093]"
       ]
      },
      {
       "output_type": "stream",
       "stream": "stdout",
       "text": [
        "\n",
        "1.9 7.3\n",
        "[-0.99806582  0.07080955]"
       ]
      },
      {
       "output_type": "stream",
       "stream": "stdout",
       "text": [
        "\n",
        "1.9 7.4\n",
        "[-1.01826034  0.08739213]"
       ]
      },
      {
       "output_type": "stream",
       "stream": "stdout",
       "text": [
        "\n",
        "1.9 7.5\n",
        "[-1.04851228  0.09524957]"
       ]
      },
      {
       "output_type": "stream",
       "stream": "stdout",
       "text": [
        "\n",
        "1.9 7.6\n",
        "[-1.08605968  0.06659622]"
       ]
      },
      {
       "output_type": "stream",
       "stream": "stdout",
       "text": [
        "\n",
        "1.9 7.7\n",
        "[-1.08965162 -0.0726691 ]"
       ]
      },
      {
       "output_type": "stream",
       "stream": "stdout",
       "text": [
        "\n",
        "1.9 7.8\n",
        "[-0.8219333  -0.32011536]"
       ]
      },
      {
       "output_type": "stream",
       "stream": "stdout",
       "text": [
        "\n",
        "1.9 7.9\n",
        "[ 0.18086546  0.11008509]"
       ]
      },
      {
       "output_type": "stream",
       "stream": "stdout",
       "text": [
        "\n",
        "1.9 8.0\n",
        "[ 0.98901413  0.24060432]"
       ]
      },
      {
       "output_type": "stream",
       "stream": "stdout",
       "text": [
        "\n",
        "1.9 8.1\n",
        "[ 1.09744213 -0.03152322]"
       ]
      },
      {
       "output_type": "stream",
       "stream": "stdout",
       "text": [
        "\n",
        "1.9 8.2\n",
        "[ 1.04787427 -0.09630248]"
       ]
      },
      {
       "output_type": "stream",
       "stream": "stdout",
       "text": [
        "\n",
        "1.9 8.3\n",
        "[ 1.00307804 -0.07762063]"
       ]
      },
      {
       "output_type": "stream",
       "stream": "stdout",
       "text": [
        "\n",
        "1.9 8.4\n",
        "[ 0.97807867 -0.04492624]"
       ]
      },
      {
       "output_type": "stream",
       "stream": "stdout",
       "text": [
        "\n",
        "1.9 8.5\n",
        "[ 0.96732342 -0.01640339]"
       ]
      },
      {
       "output_type": "stream",
       "stream": "stdout",
       "text": [
        "\n",
        "1.9 8.6\n",
        "[ 0.96514801  0.00473321]"
       ]
      },
      {
       "output_type": "stream",
       "stream": "stdout",
       "text": [
        "\n",
        "1.9 8.7\n",
        "[ 0.96777782  0.01904505]"
       ]
      },
      {
       "output_type": "stream",
       "stream": "stdout",
       "text": [
        "\n",
        "1.9 8.8\n",
        "[ 0.97288816  0.02784988]"
       ]
      },
      {
       "output_type": "stream",
       "stream": "stdout",
       "text": [
        "\n",
        "1.9 8.9\n",
        "[ 0.97907781  0.03243297]"
       ]
      },
      {
       "output_type": "stream",
       "stream": "stdout",
       "text": [
        "\n",
        "1.9 9.0\n",
        "[ 0.98551329  0.03387016]"
       ]
      },
      {
       "output_type": "stream",
       "stream": "stdout",
       "text": [
        "\n",
        "1.9 9.1\n",
        "[ 0.99170982  0.03301809]"
       ]
      },
      {
       "output_type": "stream",
       "stream": "stdout",
       "text": [
        "\n",
        "1.9 9.2\n",
        "[ 0.99739816  0.03054513]"
       ]
      },
      {
       "output_type": "stream",
       "stream": "stdout",
       "text": [
        "\n",
        "1.9 9.3\n",
        "[ 1.00244299  0.02696736]"
       ]
      },
      {
       "output_type": "stream",
       "stream": "stdout",
       "text": [
        "\n",
        "1.9 9.4\n",
        "[ 1.00679206  0.02268021]"
       ]
      },
      {
       "output_type": "stream",
       "stream": "stdout",
       "text": [
        "\n",
        "1.9 9.5\n",
        "[ 1.01044408  0.01798417]"
       ]
      },
      {
       "output_type": "stream",
       "stream": "stdout",
       "text": [
        "\n",
        "1.9 9.6\n",
        "[ 1.0134282   0.01310528]"
       ]
      },
      {
       "output_type": "stream",
       "stream": "stdout",
       "text": [
        "\n",
        "1.9 9.7\n",
        "[ 1.01579088  0.00821122]"
       ]
      },
      {
       "output_type": "stream",
       "stream": "stdout",
       "text": [
        "\n",
        "1.9 9.8\n",
        "[ 1.01758732  0.00342405]"
       ]
      },
      {
       "output_type": "stream",
       "stream": "stdout",
       "text": [
        "\n",
        "1.9 9.9\n",
        "[ 1.01887607 -0.00116976]"
       ]
      },
      {
       "output_type": "stream",
       "stream": "stdout",
       "text": [
        "\n",
        "2.0 0.0\n",
        "[ 0.96671399 -0.00384679]"
       ]
      },
      {
       "output_type": "stream",
       "stream": "stdout",
       "text": [
        "\n",
        "2.0 0.1\n",
        "[ 0.96693913 -0.00679027]"
       ]
      },
      {
       "output_type": "stream",
       "stream": "stdout",
       "text": [
        "\n",
        "2.0 0.2\n",
        "[ 0.9679287  -0.01383007]"
       ]
      },
      {
       "output_type": "stream",
       "stream": "stdout",
       "text": [
        "\n",
        "2.0 0.3\n",
        "[ 0.97108378 -0.02628826]"
       ]
      },
      {
       "output_type": "stream",
       "stream": "stdout",
       "text": [
        "\n",
        "2.0 0.4\n",
        "[ 0.97962149 -0.04624294]"
       ]
      },
      {
       "output_type": "stream",
       "stream": "stdout",
       "text": [
        "\n",
        "2.0 0.5\n",
        "[ 1.00078772 -0.07468159]"
       ]
      },
      {
       "output_type": "stream",
       "stream": "stdout",
       "text": [
        "\n",
        "2.0 0.6\n",
        "[ 1.04871645 -0.09576498]"
       ]
      },
      {
       "output_type": "stream",
       "stream": "stdout",
       "text": [
        "\n",
        "2.0 0.7\n",
        "[ 1.09607826  0.04287903]"
       ]
      },
      {
       "output_type": "stream",
       "stream": "stdout",
       "text": [
        "\n",
        "2.0 0.8\n",
        "[ 0.14643914  0.08959534]"
       ]
      },
      {
       "output_type": "stream",
       "stream": "stdout",
       "text": [
        "\n",
        "2.0 0.9\n",
        "[-1.09408794 -0.05390663]"
       ]
      },
      {
       "output_type": "stream",
       "stream": "stdout",
       "text": [
        "\n",
        "2.0 1.0\n",
        "[-1.02646886  0.09220511]"
       ]
      },
      {
       "output_type": "stream",
       "stream": "stdout",
       "text": [
        "\n",
        "2.0 1.1\n",
        "[-0.97547557  0.03803006]"
       ]
      },
      {
       "output_type": "stream",
       "stream": "stdout",
       "text": [
        "\n",
        "2.0 1.2\n",
        "[-0.96649107 -0.00316045]"
       ]
      },
      {
       "output_type": "stream",
       "stream": "stdout",
       "text": [
        "\n",
        "2.0 1.3\n",
        "[-0.97262435 -0.02303824]"
       ]
      },
      {
       "output_type": "stream",
       "stream": "stdout",
       "text": [
        "\n",
        "2.0 1.4\n",
        "[-0.98248009 -0.02939026]"
       ]
      },
      {
       "output_type": "stream",
       "stream": "stdout",
       "text": [
        "\n",
        "2.0 1.5\n",
        "[-0.99184158 -0.02828015]"
       ]
      },
      {
       "output_type": "stream",
       "stream": "stdout",
       "text": [
        "\n",
        "2.0 1.6\n",
        "[-0.99935312 -0.02348577]"
       ]
      },
      {
       "output_type": "stream",
       "stream": "stdout",
       "text": [
        "\n",
        "2.0 1.7\n",
        "[-1.00479112 -0.01723646]"
       ]
      },
      {
       "output_type": "stream",
       "stream": "stdout",
       "text": [
        "\n",
        "2.0 1.8\n",
        "[-1.0083579 -0.0107956]"
       ]
      },
      {
       "output_type": "stream",
       "stream": "stdout",
       "text": [
        "\n",
        "2.0 1.9\n",
        "[-1.01038621 -0.00483718]"
       ]
      },
      {
       "output_type": "stream",
       "stream": "stdout",
       "text": [
        "\n",
        "2.0 2.0\n",
        "[ -1.01121700e+00   3.18443222e-04]"
       ]
      },
      {
       "output_type": "stream",
       "stream": "stdout",
       "text": [
        "\n",
        "2.0 2.1\n",
        "[-1.01115277  0.00455812]"
       ]
      },
      {
       "output_type": "stream",
       "stream": "stdout",
       "text": [
        "\n",
        "2.0 2.2\n",
        "[-1.01044425  0.00788551]"
       ]
      },
      {
       "output_type": "stream",
       "stream": "stdout",
       "text": [
        "\n",
        "2.0 2.3\n",
        "[-1.0092911   0.01036599]"
       ]
      },
      {
       "output_type": "stream",
       "stream": "stdout",
       "text": [
        "\n",
        "2.0 2.4\n",
        "[-1.0078481   0.01209346]"
       ]
      },
      {
       "output_type": "stream",
       "stream": "stdout",
       "text": [
        "\n",
        "2.0 2.5\n",
        "[-1.00623269  0.0131711 ]"
       ]
      },
      {
       "output_type": "stream",
       "stream": "stdout",
       "text": [
        "\n",
        "2.0 2.6\n",
        "[-1.00453232  0.01370043]"
       ]
      },
      {
       "output_type": "stream",
       "stream": "stdout",
       "text": [
        "\n",
        "2.0 2.7\n",
        "[-1.00281074  0.01377567]"
       ]
      },
      {
       "output_type": "stream",
       "stream": "stdout",
       "text": [
        "\n",
        "2.0 2.8\n",
        "[-1.00111336  0.01348115]"
       ]
      },
      {
       "output_type": "stream",
       "stream": "stdout",
       "text": [
        "\n",
        "2.0 2.9\n",
        "[-0.99947151  0.01289054]"
       ]
      },
      {
       "output_type": "stream",
       "stream": "stdout",
       "text": [
        "\n",
        "2.0 3.0\n",
        "[-0.99790578  0.01206712]"
       ]
      },
      {
       "output_type": "stream",
       "stream": "stdout",
       "text": [
        "\n",
        "2.0 3.1\n",
        "[-0.99642869  0.01106452]"
       ]
      },
      {
       "output_type": "stream",
       "stream": "stdout",
       "text": [
        "\n",
        "2.0 3.2\n",
        "[-0.99504671  0.00992775]"
       ]
      },
      {
       "output_type": "stream",
       "stream": "stdout",
       "text": [
        "\n",
        "2.0 3.3\n",
        "[-0.99376186  0.00869425]"
       ]
      },
      {
       "output_type": "stream",
       "stream": "stdout",
       "text": [
        "\n",
        "2.0 3.4\n",
        "[-0.99257289  0.00739495]"
       ]
      },
      {
       "output_type": "stream",
       "stream": "stdout",
       "text": [
        "\n",
        "2.0 3.5\n",
        "[-0.99147617  0.00605522]"
       ]
      },
      {
       "output_type": "stream",
       "stream": "stdout",
       "text": [
        "\n",
        "2.0 3.6\n",
        "[-0.99046645  0.00469576]"
       ]
      },
      {
       "output_type": "stream",
       "stream": "stdout",
       "text": [
        "\n",
        "2.0 3.7\n",
        "[-0.98953728  0.00333335]"
       ]
      },
      {
       "output_type": "stream",
       "stream": "stdout",
       "text": [
        "\n",
        "2.0 3.8\n",
        "[-0.9886815   0.00198152]"
       ]
      },
      {
       "output_type": "stream",
       "stream": "stdout",
       "text": [
        "\n",
        "2.0 3.9\n",
        "[ -9.87891425e-01   6.51167379e-04]"
       ]
      },
      {
       "output_type": "stream",
       "stream": "stdout",
       "text": [
        "\n",
        "2.0 4.0\n",
        "[ -9.87159129e-01  -6.48987677e-04]"
       ]
      },
      {
       "output_type": "stream",
       "stream": "stdout",
       "text": [
        "\n",
        "2.0 4.1\n",
        "[-0.98647655 -0.00191191]"
       ]
      },
      {
       "output_type": "stream",
       "stream": "stdout",
       "text": [
        "\n",
        "2.0 4.2\n",
        "[-0.98583562 -0.00313191]"
       ]
      },
      {
       "output_type": "stream",
       "stream": "stdout",
       "text": [
        "\n",
        "2.0 4.3\n",
        "[-0.9852283  -0.00430424]"
       ]
      },
      {
       "output_type": "stream",
       "stream": "stdout",
       "text": [
        "\n",
        "2.0 4.4\n",
        "[-0.98464667 -0.00542486]"
       ]
      },
      {
       "output_type": "stream",
       "stream": "stdout",
       "text": [
        "\n",
        "2.0 4.5\n",
        "[-0.98408294 -0.00649007]"
       ]
      },
      {
       "output_type": "stream",
       "stream": "stdout",
       "text": [
        "\n",
        "2.0 4.6\n",
        "[-0.98352944 -0.00749629]"
       ]
      },
      {
       "output_type": "stream",
       "stream": "stdout",
       "text": [
        "\n",
        "2.0 4.7\n",
        "[-0.9829787  -0.00843978]"
       ]
      },
      {
       "output_type": "stream",
       "stream": "stdout",
       "text": [
        "\n",
        "2.0 4.8\n",
        "[-0.98242339 -0.00931633]"
       ]
      },
      {
       "output_type": "stream",
       "stream": "stdout",
       "text": [
        "\n",
        "2.0 4.9\n",
        "[-0.9818564  -0.01012098]"
       ]
      },
      {
       "output_type": "stream",
       "stream": "stdout",
       "text": [
        "\n",
        "2.0 5.0\n",
        "[-0.98127083 -0.01084773]"
       ]
      },
      {
       "output_type": "stream",
       "stream": "stdout",
       "text": [
        "\n",
        "2.0 5.1\n",
        "[-0.98066006 -0.01148906]"
       ]
      },
      {
       "output_type": "stream",
       "stream": "stdout",
       "text": [
        "\n",
        "2.0 5.2\n",
        "[-0.98001785 -0.01203561]"
       ]
      },
      {
       "output_type": "stream",
       "stream": "stdout",
       "text": [
        "\n",
        "2.0 5.3\n",
        "[-0.97933844 -0.01247555]"
       ]
      },
      {
       "output_type": "stream",
       "stream": "stdout",
       "text": [
        "\n",
        "2.0 5.4\n",
        "[-0.97861676 -0.012794  ]"
       ]
      },
      {
       "output_type": "stream",
       "stream": "stdout",
       "text": [
        "\n",
        "2.0 5.5\n",
        "[-0.97784872 -0.0129722 ]"
       ]
      },
      {
       "output_type": "stream",
       "stream": "stdout",
       "text": [
        "\n",
        "2.0 5.6\n",
        "[-0.97703163 -0.01298652]"
       ]
      },
      {
       "output_type": "stream",
       "stream": "stdout",
       "text": [
        "\n",
        "2.0 5.7\n",
        "[-0.97616481 -0.01280723]"
       ]
      },
      {
       "output_type": "stream",
       "stream": "stdout",
       "text": [
        "\n",
        "2.0 5.8\n",
        "[-0.97525048 -0.01239686]"
       ]
      },
      {
       "output_type": "stream",
       "stream": "stdout",
       "text": [
        "\n",
        "2.0 5.9\n",
        "[-0.97429506 -0.01170823]"
       ]
      },
      {
       "output_type": "stream",
       "stream": "stdout",
       "text": [
        "\n",
        "2.0 6.0\n",
        "[-0.97331103 -0.01068183]"
       ]
      },
      {
       "output_type": "stream",
       "stream": "stdout",
       "text": [
        "\n",
        "2.0 6.1\n",
        "[-0.97231969 -0.0092425 ]"
       ]
      },
      {
       "output_type": "stream",
       "stream": "stdout",
       "text": [
        "\n",
        "2.0 6.2\n",
        "[-0.9713552  -0.00729516]"
       ]
      },
      {
       "output_type": "stream",
       "stream": "stdout",
       "text": [
        "\n",
        "2.0 6.3\n",
        "[-0.97047058 -0.00471946]"
       ]
      },
      {
       "output_type": "stream",
       "stream": "stdout",
       "text": [
        "\n",
        "2.0 6.4\n",
        "[-0.96974678 -0.00136296]"
       ]
      },
      {
       "output_type": "stream",
       "stream": "stdout",
       "text": [
        "\n",
        "2.0 6.5\n",
        "[-0.96930635  0.0029669 ]"
       ]
      },
      {
       "output_type": "stream",
       "stream": "stdout",
       "text": [
        "\n",
        "2.0 6.6\n",
        "[-0.96933463  0.00851175]"
       ]
      },
      {
       "output_type": "stream",
       "stream": "stdout",
       "text": [
        "\n",
        "2.0 6.7\n",
        "[-0.97011255  0.01556979]"
       ]
      },
      {
       "output_type": "stream",
       "stream": "stdout",
       "text": [
        "\n",
        "2.0 6.8\n",
        "[-0.9720684  0.0244953]"
       ]
      },
      {
       "output_type": "stream",
       "stream": "stdout",
       "text": [
        "\n",
        "2.0 6.9\n",
        "[-0.97585932  0.03567178]"
       ]
      },
      {
       "output_type": "stream",
       "stream": "stdout",
       "text": [
        "\n",
        "2.0 7.0\n",
        "[-0.98249754  0.04940699]"
       ]
      },
      {
       "output_type": "stream",
       "stream": "stdout",
       "text": [
        "\n",
        "2.0 7.1\n",
        "[-0.99353148  0.06560173]"
       ]
      },
      {
       "output_type": "stream",
       "stream": "stdout",
       "text": [
        "\n",
        "2.0 7.2\n",
        "[-1.01122971  0.08274879]"
       ]
      },
      {
       "output_type": "stream",
       "stream": "stdout",
       "text": [
        "\n",
        "2.0 7.3\n",
        "[-1.03834867  0.0948756 ]"
       ]
      },
      {
       "output_type": "stream",
       "stream": "stdout",
       "text": [
        "\n",
        "2.0 7.4\n",
        "[-1.0750479   0.08215919]"
       ]
      },
      {
       "output_type": "stream",
       "stream": "stdout",
       "text": [
        "\n",
        "2.0 7.5\n",
        "[-1.09921706 -0.01327728]"
       ]
      },
      {
       "output_type": "stream",
       "stream": "stdout",
       "text": [
        "\n",
        "2.0 7.6\n",
        "[-0.96177379 -0.2626532 ]"
       ]
      },
      {
       "output_type": "stream",
       "stream": "stdout",
       "text": [
        "\n",
        "2.0 7.7\n",
        "[-0.18071402 -0.10995911]"
       ]
      },
      {
       "output_type": "stream",
       "stream": "stdout",
       "text": [
        "\n",
        "2.0 7.8\n",
        "[ 0.84599266  0.31533834]"
       ]
      },
      {
       "output_type": "stream",
       "stream": "stdout",
       "text": [
        "\n",
        "2.0 7.9\n",
        "[ 1.09834037  0.02683049]"
       ]
      },
      {
       "output_type": "stream",
       "stream": "stdout",
       "text": [
        "\n",
        "2.0 8.0\n",
        "[ 1.06472989 -0.09114812]"
       ]
      },
      {
       "output_type": "stream",
       "stream": "stdout",
       "text": [
        "\n",
        "2.0 8.1\n",
        "[ 1.01456149 -0.08648172]"
       ]
      },
      {
       "output_type": "stream",
       "stream": "stdout",
       "text": [
        "\n",
        "2.0 8.2\n",
        "[ 0.98396593 -0.05492468]"
       ]
      },
      {
       "output_type": "stream",
       "stream": "stdout",
       "text": [
        "\n",
        "2.0 8.3\n",
        "[ 0.96954086 -0.02451555]"
       ]
      },
      {
       "output_type": "stream",
       "stream": "stdout",
       "text": [
        "\n",
        "2.0 8.4\n",
        "[ 0.96519388 -0.00113363]"
       ]
      },
      {
       "output_type": "stream",
       "stream": "stdout",
       "text": [
        "\n",
        "2.0 8.5\n",
        "[ 0.96661333  0.01513357]"
       ]
      },
      {
       "output_type": "stream",
       "stream": "stdout",
       "text": [
        "\n",
        "2.0 8.6\n",
        "[ 0.9711048   0.02549844]"
       ]
      },
      {
       "output_type": "stream",
       "stream": "stdout",
       "text": [
        "\n",
        "2.0 8.7\n",
        "[ 0.97703539  0.0312812 ]"
       ]
      },
      {
       "output_type": "stream",
       "stream": "stdout",
       "text": [
        "\n",
        "2.0 8.8\n",
        "[ 0.98342852  0.03362065]"
       ]
      },
      {
       "output_type": "stream",
       "stream": "stdout",
       "text": [
        "\n",
        "2.0 8.9\n",
        "[ 0.98971052  0.03343374]"
       ]
      },
      {
       "output_type": "stream",
       "stream": "stdout",
       "text": [
        "\n",
        "2.0 9.0\n",
        "[ 0.99555643  0.03143961]"
       ]
      },
      {
       "output_type": "stream",
       "stream": "stdout",
       "text": [
        "\n",
        "2.0 9.1\n",
        "[ 1.0007958   0.02819536]"
       ]
      },
      {
       "output_type": "stream",
       "stream": "stdout",
       "text": [
        "\n",
        "2.0 9.2\n",
        "[ 1.00535417  0.02412905]"
       ]
      },
      {
       "output_type": "stream",
       "stream": "stdout",
       "text": [
        "\n",
        "2.0 9.3\n",
        "[ 1.00921637  0.01956706]"
       ]
      },
      {
       "output_type": "stream",
       "stream": "stdout",
       "text": [
        "\n",
        "2.0 9.4\n",
        "[ 1.01240306  0.01475596]"
       ]
      },
      {
       "output_type": "stream",
       "stream": "stdout",
       "text": [
        "\n",
        "2.0 9.5\n",
        "[ 1.01495567  0.00987969]"
       ]
      },
      {
       "output_type": "stream",
       "stream": "stdout",
       "text": [
        "\n",
        "2.0 9.6\n",
        "[ 1.01692673  0.00507319]"
       ]
      },
      {
       "output_type": "stream",
       "stream": "stdout",
       "text": [
        "\n",
        "2.0 9.7\n",
        "[  1.01837359e+00   4.33112977e-04]"
       ]
      },
      {
       "output_type": "stream",
       "stream": "stdout",
       "text": [
        "\n",
        "2.0 9.8\n",
        "[ 1.01935447 -0.00397367]"
       ]
      },
      {
       "output_type": "stream",
       "stream": "stdout",
       "text": [
        "\n",
        "2.0 9.9\n",
        "[ 1.01992599 -0.00810337]"
       ]
      },
      {
       "output_type": "stream",
       "stream": "stdout",
       "text": [
        "\n",
        "2.1 0.0\n",
        "[-0.96876754 -0.01555487]"
       ]
      },
      {
       "output_type": "stream",
       "stream": "stdout",
       "text": [
        "\n",
        "2.1 0.1\n",
        "[-0.96890473 -0.01594976]"
       ]
      },
      {
       "output_type": "stream",
       "stream": "stdout",
       "text": [
        "\n",
        "2.1 0.2\n",
        "[-0.96978459 -0.01812952]"
       ]
      },
      {
       "output_type": "stream",
       "stream": "stdout",
       "text": [
        "\n",
        "2.1 0.3\n",
        "[-0.97154593 -0.02141566]"
       ]
      },
      {
       "output_type": "stream",
       "stream": "stdout",
       "text": [
        "\n",
        "2.1 0.4\n",
        "[-0.97431214 -0.0249083 ]"
       ]
      },
      {
       "output_type": "stream",
       "stream": "stdout",
       "text": [
        "\n",
        "2.1 0.5\n",
        "[-0.97805962 -0.02775582]"
       ]
      },
      {
       "output_type": "stream",
       "stream": "stdout",
       "text": [
        "\n",
        "2.1 0.6\n",
        "[-0.98258184 -0.02934901]"
       ]
      },
      {
       "output_type": "stream",
       "stream": "stdout",
       "text": [
        "\n",
        "2.1 0.7\n",
        "[-0.98754092 -0.02939857]"
       ]
      },
      {
       "output_type": "stream",
       "stream": "stdout",
       "text": [
        "\n",
        "2.1 0.8\n",
        "[-0.99255587 -0.02791101]"
       ]
      },
      {
       "output_type": "stream",
       "stream": "stdout",
       "text": [
        "\n",
        "2.1 0.9\n",
        "[-0.99728138 -0.02510679]"
       ]
      },
      {
       "output_type": "stream",
       "stream": "stdout",
       "text": [
        "\n",
        "2.1 1.0\n",
        "[-1.00145525 -0.02132412]"
       ]
      },
      {
       "output_type": "stream",
       "stream": "stdout",
       "text": [
        "\n",
        "2.1 1.1\n",
        "[-1.00491396 -0.01693596]"
       ]
      },
      {
       "output_type": "stream",
       "stream": "stdout",
       "text": [
        "\n",
        "2.1 1.2\n",
        "[-1.00758566 -0.01229192]"
       ]
      },
      {
       "output_type": "stream",
       "stream": "stdout",
       "text": [
        "\n",
        "2.1 1.3\n",
        "[-1.00947159 -0.00768515]"
       ]
      },
      {
       "output_type": "stream",
       "stream": "stdout",
       "text": [
        "\n",
        "2.1 1.4\n",
        "[-1.01062418 -0.00333921]"
       ]
      },
      {
       "output_type": "stream",
       "stream": "stdout",
       "text": [
        "\n",
        "2.1 1.5\n",
        "[ -1.01112695e+00   5.91392440e-04]"
       ]
      },
      {
       "output_type": "stream",
       "stream": "stdout",
       "text": [
        "\n",
        "2.1 1.6\n",
        "[-1.01107834  0.0040131 ]"
       ]
      },
      {
       "output_type": "stream",
       "stream": "stdout",
       "text": [
        "\n",
        "2.1 1.7\n",
        "[-1.01057997  0.00688178]"
       ]
      },
      {
       "output_type": "stream",
       "stream": "stdout",
       "text": [
        "\n",
        "2.1 1.8\n",
        "[-1.00972894  0.00919073]"
       ]
      },
      {
       "output_type": "stream",
       "stream": "stdout",
       "text": [
        "\n",
        "2.1 1.9\n",
        "[-1.00861328  0.01095973]"
       ]
      },
      {
       "output_type": "stream",
       "stream": "stdout",
       "text": [
        "\n",
        "2.1 2.0\n",
        "[-1.00730976  0.01222588]"
       ]
      },
      {
       "output_type": "stream",
       "stream": "stdout",
       "text": [
        "\n",
        "2.1 2.1\n",
        "[-1.00588324  0.01303644]"
       ]
      },
      {
       "output_type": "stream",
       "stream": "stdout",
       "text": [
        "\n",
        "2.1 2.2\n",
        "[-1.00438708  0.01344345]"
       ]
      },
      {
       "output_type": "stream",
       "stream": "stdout",
       "text": [
        "\n",
        "2.1 2.3\n",
        "[-1.00286406  0.01349992]"
       ]
      },
      {
       "output_type": "stream",
       "stream": "stdout",
       "text": [
        "\n",
        "2.1 2.4\n",
        "[-1.00134762  0.01325728]"
       ]
      },
      {
       "output_type": "stream",
       "stream": "stdout",
       "text": [
        "\n",
        "2.1 2.5\n",
        "[-0.99986316  0.01276377]"
       ]
      },
      {
       "output_type": "stream",
       "stream": "stdout",
       "text": [
        "\n",
        "2.1 2.6\n",
        "[-0.99842928  0.01206351]"
       ]
      },
      {
       "output_type": "stream",
       "stream": "stdout",
       "text": [
        "\n",
        "2.1 2.7\n",
        "[-0.99705899  0.01119608]"
       ]
      },
      {
       "output_type": "stream",
       "stream": "stdout",
       "text": [
        "\n",
        "2.1 2.8\n",
        "[-0.99576072  0.01019651]"
       ]
      },
      {
       "output_type": "stream",
       "stream": "stdout",
       "text": [
        "\n",
        "2.1 2.9\n",
        "[-0.99453921  0.00909531]"
       ]
      },
      {
       "output_type": "stream",
       "stream": "stdout",
       "text": [
        "\n",
        "2.1 3.0\n",
        "[-0.99339627  0.00791888]"
       ]
      },
      {
       "output_type": "stream",
       "stream": "stdout",
       "text": [
        "\n",
        "2.1 3.1\n",
        "[-0.99233143  0.00668977]"
       ]
      },
      {
       "output_type": "stream",
       "stream": "stdout",
       "text": [
        "\n",
        "2.1 3.2\n",
        "[-0.99134243  0.00542712]"
       ]
      },
      {
       "output_type": "stream",
       "stream": "stdout",
       "text": [
        "\n",
        "2.1 3.3\n",
        "[-0.99042568  0.00414702]"
       ]
      },
      {
       "output_type": "stream",
       "stream": "stdout",
       "text": [
        "\n",
        "2.1 3.4\n",
        "[-0.98957655  0.00286294]"
       ]
      },
      {
       "output_type": "stream",
       "stream": "stdout",
       "text": [
        "\n",
        "2.1 3.5\n",
        "[-0.98878969  0.00158606]"
       ]
      },
      {
       "output_type": "stream",
       "stream": "stdout",
       "text": [
        "\n",
        "2.1 3.6\n",
        "[ -9.88059194e-01   3.25633380e-04]"
       ]
      },
      {
       "output_type": "stream",
       "stream": "stdout",
       "text": [
        "\n",
        "2.1 3.7\n",
        "[ -9.87378805e-01  -9.10726505e-04]"
       ]
      },
      {
       "output_type": "stream",
       "stream": "stdout",
       "text": [
        "\n",
        "2.1 3.8\n",
        "[-0.98674201 -0.00211673]"
       ]
      },
      {
       "output_type": "stream",
       "stream": "stdout",
       "text": [
        "\n",
        "2.1 3.9\n",
        "[-0.98614217 -0.00328715]"
       ]
      },
      {
       "output_type": "stream",
       "stream": "stdout",
       "text": [
        "\n",
        "2.1 4.0\n",
        "[-0.98557254 -0.00441759]"
       ]
      },
      {
       "output_type": "stream",
       "stream": "stdout",
       "text": [
        "\n",
        "2.1 4.1\n",
        "[-0.98502635 -0.00550425]"
       ]
      },
      {
       "output_type": "stream",
       "stream": "stdout",
       "text": [
        "\n",
        "2.1 4.2\n",
        "[-0.98449687 -0.00654368]"
       ]
      },
      {
       "output_type": "stream",
       "stream": "stdout",
       "text": [
        "\n",
        "2.1 4.3\n",
        "[-0.98397735 -0.00753261]"
       ]
      },
      {
       "output_type": "stream",
       "stream": "stdout",
       "text": [
        "\n",
        "2.1 4.4\n",
        "[-0.98346114 -0.00846768]"
       ]
      },
      {
       "output_type": "stream",
       "stream": "stdout",
       "text": [
        "\n",
        "2.1 4.5\n",
        "[-0.98294162 -0.00934526]"
       ]
      },
      {
       "output_type": "stream",
       "stream": "stdout",
       "text": [
        "\n",
        "2.1 4.6\n",
        "[-0.98241228 -0.01016117]"
       ]
      },
      {
       "output_type": "stream",
       "stream": "stdout",
       "text": [
        "\n",
        "2.1 4.7\n",
        "[-0.98186671 -0.01091044]"
       ]
      },
      {
       "output_type": "stream",
       "stream": "stdout",
       "text": [
        "\n",
        "2.1 4.8\n",
        "[-0.98129866 -0.011587  ]"
       ]
      },
      {
       "output_type": "stream",
       "stream": "stdout",
       "text": [
        "\n",
        "2.1 4.9\n",
        "[-0.98070207 -0.01218331]"
       ]
      },
      {
       "output_type": "stream",
       "stream": "stdout",
       "text": [
        "\n",
        "2.1 5.0\n",
        "[-0.98007117 -0.01268996]"
       ]
      },
      {
       "output_type": "stream",
       "stream": "stdout",
       "text": [
        "\n",
        "2.1 5.1\n",
        "[-0.97940062 -0.01309515]"
       ]
      },
      {
       "output_type": "stream",
       "stream": "stdout",
       "text": [
        "\n",
        "2.1 5.2\n",
        "[-0.9786857  -0.01338409]"
       ]
      },
      {
       "output_type": "stream",
       "stream": "stdout",
       "text": [
        "\n",
        "2.1 5.3\n",
        "[-0.97792258 -0.01353818]"
       ]
      },
      {
       "output_type": "stream",
       "stream": "stdout",
       "text": [
        "\n",
        "2.1 5.4\n",
        "[-0.97710875 -0.0135341 ]"
       ]
      },
      {
       "output_type": "stream",
       "stream": "stdout",
       "text": [
        "\n",
        "2.1 5.5\n",
        "[-0.97624358 -0.01334258]"
       ]
      },
      {
       "output_type": "stream",
       "stream": "stdout",
       "text": [
        "\n",
        "2.1 5.6\n",
        "[-0.97532921 -0.01292684]"
       ]
      },
      {
       "output_type": "stream",
       "stream": "stdout",
       "text": [
        "\n",
        "2.1 5.7\n",
        "[-0.9743718  -0.01224064]"
       ]
      },
      {
       "output_type": "stream",
       "stream": "stdout",
       "text": [
        "\n",
        "2.1 5.8\n",
        "[-0.97338328 -0.01122578]"
       ]
      },
      {
       "output_type": "stream",
       "stream": "stdout",
       "text": [
        "\n",
        "2.1 5.9\n",
        "[-0.97238402 -0.00980889]"
       ]
      },
      {
       "output_type": "stream",
       "stream": "stdout",
       "text": [
        "\n",
        "2.1 6.0\n",
        "[-0.97140669 -0.00789728]"
       ]
      },
      {
       "output_type": "stream",
       "stream": "stdout",
       "text": [
        "\n",
        "2.1 6.1\n",
        "[-0.97050197 -0.00537377]"
       ]
      },
      {
       "output_type": "stream",
       "stream": "stdout",
       "text": [
        "\n",
        "2.1 6.2\n",
        "[-0.96974715 -0.00209007]"
       ]
      },
      {
       "output_type": "stream",
       "stream": "stdout",
       "text": [
        "\n",
        "2.1 6.3\n",
        "[-0.96925913  0.00214101]"
       ]
      },
      {
       "output_type": "stream",
       "stream": "stdout",
       "text": [
        "\n",
        "2.1 6.4\n",
        "[-0.96921441  0.00755443]"
       ]
      },
      {
       "output_type": "stream",
       "stream": "stdout",
       "text": [
        "\n",
        "2.1 6.5\n",
        "[-0.96988011  0.01444066]"
       ]
      },
      {
       "output_type": "stream",
       "stream": "stdout",
       "text": [
        "\n",
        "2.1 6.6\n",
        "[-0.97166264  0.02314664]"
       ]
      },
      {
       "output_type": "stream",
       "stream": "stdout",
       "text": [
        "\n",
        "2.1 6.7\n",
        "[-0.97518438  0.03405375]"
       ]
      },
      {
       "output_type": "stream",
       "stream": "stdout",
       "text": [
        "\n",
        "2.1 6.8\n",
        "[-0.9814027   0.04748741]"
       ]
      },
      {
       "output_type": "stream",
       "stream": "stdout",
       "text": [
        "\n",
        "2.1 6.9\n",
        "[-0.99178313  0.06342944]"
       ]
      },
      {
       "output_type": "stream",
       "stream": "stdout",
       "text": [
        "\n",
        "2.1 7.0\n",
        "[-1.00848963  0.08065012]"
       ]
      },
      {
       "output_type": "stream",
       "stream": "stdout",
       "text": [
        "\n",
        "2.1 7.1\n",
        "[-1.03426121  0.09407148]"
       ]
      },
      {
       "output_type": "stream",
       "stream": "stdout",
       "text": [
        "\n",
        "2.1 7.2\n",
        "[-1.07003656  0.08667559]"
       ]
      },
      {
       "output_type": "stream",
       "stream": "stdout",
       "text": [
        "\n",
        "2.1 7.3\n",
        "[-1.09944204  0.00760719]"
       ]
      },
      {
       "output_type": "stream",
       "stream": "stdout",
       "text": [
        "\n",
        "2.1 7.4\n",
        "[-1.00391971 -0.2259947 ]"
       ]
      },
      {
       "output_type": "stream",
       "stream": "stdout",
       "text": [
        "\n",
        "2.1 7.5\n",
        "[-0.33752328 -0.19726518]"
       ]
      },
      {
       "output_type": "stream",
       "stream": "stdout",
       "text": [
        "\n",
        "2.1 7.6\n",
        "[ 0.74986831  0.32563825]"
       ]
      },
      {
       "output_type": "stream",
       "stream": "stdout",
       "text": [
        "\n",
        "2.1 7.7\n",
        "[ 1.09214134  0.06328357]"
       ]
      },
      {
       "output_type": "stream",
       "stream": "stdout",
       "text": [
        "\n",
        "2.1 7.8\n",
        "[ 1.07295685 -0.08511657]"
       ]
      },
      {
       "output_type": "stream",
       "stream": "stdout",
       "text": [
        "\n",
        "2.1 7.9\n",
        "[ 1.02100377 -0.09019177]"
       ]
      },
      {
       "output_type": "stream",
       "stream": "stdout",
       "text": [
        "\n",
        "2.1 8.0\n",
        "[ 0.98752706 -0.06009545]"
       ]
      },
      {
       "output_type": "stream",
       "stream": "stdout",
       "text": [
        "\n",
        "2.1 8.1\n",
        "[ 0.97106158 -0.02899016]"
       ]
      },
      {
       "output_type": "stream",
       "stream": "stdout",
       "text": [
        "\n",
        "2.1 8.2\n",
        "[ 0.96544684 -0.00451536]"
       ]
      },
      {
       "output_type": "stream",
       "stream": "stdout",
       "text": [
        "\n",
        "2.1 8.3\n",
        "[ 0.96612067  0.01277701]"
       ]
      },
      {
       "output_type": "stream",
       "stream": "stdout",
       "text": [
        "\n",
        "2.1 8.4\n",
        "[ 0.97019929  0.02399679]"
       ]
      },
      {
       "output_type": "stream",
       "stream": "stdout",
       "text": [
        "\n",
        "2.1 8.5\n",
        "[ 0.97592663  0.03046178]"
       ]
      },
      {
       "output_type": "stream",
       "stream": "stdout",
       "text": [
        "\n",
        "2.1 8.6\n",
        "[ 0.98224812  0.0333334 ]"
       ]
      },
      {
       "output_type": "stream",
       "stream": "stdout",
       "text": [
        "\n",
        "2.1 8.7\n",
        "[ 0.98854045  0.03355453]"
       ]
      },
      {
       "output_type": "stream",
       "stream": "stdout",
       "text": [
        "\n",
        "2.1 8.8\n",
        "[ 0.99444672  0.03186768]"
       ]
      },
      {
       "output_type": "stream",
       "stream": "stdout",
       "text": [
        "\n",
        "2.1 8.9\n",
        "[ 0.99977561  0.0288496 ]"
       ]
      },
      {
       "output_type": "stream",
       "stream": "stdout",
       "text": [
        "\n",
        "2.1 9.0\n",
        "[ 1.00443897  0.02494451]"
       ]
      },
      {
       "output_type": "stream",
       "stream": "stdout",
       "text": [
        "\n",
        "2.1 9.1\n",
        "[ 1.0084126   0.02049201]"
       ]
      },
      {
       "output_type": "stream",
       "stream": "stdout",
       "text": [
        "\n",
        "2.1 9.2\n",
        "[ 1.01171124  0.01574941]"
       ]
      },
      {
       "output_type": "stream",
       "stream": "stdout",
       "text": [
        "\n",
        "2.1 9.3\n",
        "[ 1.01437248  0.01090948]"
       ]
      },
      {
       "output_type": "stream",
       "stream": "stdout",
       "text": [
        "\n",
        "2.1 9.4\n",
        "[ 1.01644646  0.00611433]"
       ]
      },
      {
       "output_type": "stream",
       "stream": "stdout",
       "text": [
        "\n",
        "2.1 9.5\n",
        "[ 1.0179891   0.00146651]"
       ]
      },
      {
       "output_type": "stream",
       "stream": "stdout",
       "text": [
        "\n",
        "2.1 9.6\n",
        "[ 1.01905786 -0.00296233]"
       ]
      },
      {
       "output_type": "stream",
       "stream": "stdout",
       "text": [
        "\n",
        "2.1 9.7\n",
        "[ 1.01970906 -0.0071245 ]"
       ]
      },
      {
       "output_type": "stream",
       "stream": "stdout",
       "text": [
        "\n",
        "2.1 9.8\n",
        "[ 1.01999625 -0.0109908 ]"
       ]
      },
      {
       "output_type": "stream",
       "stream": "stdout",
       "text": [
        "\n",
        "2.1 9.9\n",
        "[ 1.01996931 -0.01454621]"
       ]
      },
      {
       "output_type": "stream",
       "stream": "stdout",
       "text": [
        "\n",
        "2.2 0.0\n",
        "[-1.01047037 -0.00303764]"
       ]
      },
      {
       "output_type": "stream",
       "stream": "stdout",
       "text": [
        "\n",
        "2.2 0.1\n",
        "[-1.0104675  -0.00313372]"
       ]
      },
      {
       "output_type": "stream",
       "stream": "stdout",
       "text": [
        "\n",
        "2.2 0.2\n",
        "[-1.01052978 -0.00285513]"
       ]
      },
      {
       "output_type": "stream",
       "stream": "stdout",
       "text": [
        "\n",
        "2.2 0.3\n",
        "[-1.01064327 -0.00222718]"
       ]
      },
      {
       "output_type": "stream",
       "stream": "stdout",
       "text": [
        "\n",
        "2.2 0.4\n",
        "[-1.01078075 -0.00128972]"
       ]
      },
      {
       "output_type": "stream",
       "stream": "stdout",
       "text": [
        "\n",
        "2.2 0.5\n",
        "[ -1.01090677e+00  -9.45710056e-05]"
       ]
      },
      {
       "output_type": "stream",
       "stream": "stdout",
       "text": [
        "\n",
        "2.2 0.6\n",
        "[-1.01098302  0.00129743]"
       ]
      },
      {
       "output_type": "stream",
       "stream": "stdout",
       "text": [
        "\n",
        "2.2 0.7\n",
        "[-1.01097335  0.0028198 ]"
       ]
      },
      {
       "output_type": "stream",
       "stream": "stdout",
       "text": [
        "\n",
        "2.2 0.8\n",
        "[-1.01084761  0.00440424]"
       ]
      },
      {
       "output_type": "stream",
       "stream": "stdout",
       "text": [
        "\n",
        "2.2 0.9\n",
        "[-1.01058414  0.00598445]"
       ]
      },
      {
       "output_type": "stream",
       "stream": "stdout",
       "text": [
        "\n",
        "2.2 1.0\n",
        "[-1.01017088  0.00749964]"
       ]
      },
      {
       "output_type": "stream",
       "stream": "stdout",
       "text": [
        "\n",
        "2.2 1.1\n",
        "[-1.00960519  0.00889729]"
       ]
      },
      {
       "output_type": "stream",
       "stream": "stdout",
       "text": [
        "\n",
        "2.2 1.2\n",
        "[-1.0088928   0.01013497]"
       ]
      },
      {
       "output_type": "stream",
       "stream": "stdout",
       "text": [
        "\n",
        "2.2 1.3\n",
        "[-1.00804616  0.01118114]"
       ]
      },
      {
       "output_type": "stream",
       "stream": "stdout",
       "text": [
        "\n",
        "2.2 1.4\n",
        "[-1.00708263  0.01201506]"
       ]
      },
      {
       "output_type": "stream",
       "stream": "stdout",
       "text": [
        "\n",
        "2.2 1.5\n",
        "[-1.00602257  0.01262604]"
       ]
      },
      {
       "output_type": "stream",
       "stream": "stdout",
       "text": [
        "\n",
        "2.2 1.6\n",
        "[-1.00488775  0.01301215]"
       ]
      },
      {
       "output_type": "stream",
       "stream": "stdout",
       "text": [
        "\n",
        "2.2 1.7\n",
        "[-1.00369993  0.01317869]"
       ]
      },
      {
       "output_type": "stream",
       "stream": "stdout",
       "text": [
        "\n",
        "2.2 1.8\n",
        "[-1.00247987  0.01313663]"
       ]
      },
      {
       "output_type": "stream",
       "stream": "stdout",
       "text": [
        "\n",
        "2.2 1.9\n",
        "[-1.00124656  0.01290105]"
       ]
      },
      {
       "output_type": "stream",
       "stream": "stdout",
       "text": [
        "\n",
        "2.2 2.0\n",
        "[-1.00001677  0.01248975]"
       ]
      },
      {
       "output_type": "stream",
       "stream": "stdout",
       "text": [
        "\n",
        "2.2 2.1\n",
        "[-0.99880481  0.01192212]"
       ]
      },
      {
       "output_type": "stream",
       "stream": "stdout",
       "text": [
        "\n",
        "2.2 2.2\n",
        "[-0.9976225   0.01121813]"
       ]
      },
      {
       "output_type": "stream",
       "stream": "stdout",
       "text": [
        "\n",
        "2.2 2.3\n",
        "[-0.9964792  0.0103976]"
       ]
      },
      {
       "output_type": "stream",
       "stream": "stdout",
       "text": [
        "\n",
        "2.2 2.4\n",
        "[-0.99538197  0.00947965]"
       ]
      },
      {
       "output_type": "stream",
       "stream": "stdout",
       "text": [
        "\n",
        "2.2 2.5\n",
        "[-0.9943358   0.00848231]"
       ]
      },
      {
       "output_type": "stream",
       "stream": "stdout",
       "text": [
        "\n",
        "2.2 2.6\n",
        "[-0.99334381  0.00742227]"
       ]
      },
      {
       "output_type": "stream",
       "stream": "stdout",
       "text": [
        "\n",
        "2.2 2.7\n",
        "[-0.9924075   0.00631471]"
       ]
      },
      {
       "output_type": "stream",
       "stream": "stdout",
       "text": [
        "\n",
        "2.2 2.8\n",
        "[-0.99152696  0.0051733 ]"
       ]
      },
      {
       "output_type": "stream",
       "stream": "stdout",
       "text": [
        "\n",
        "2.2 2.9\n",
        "[-0.99070113  0.00401018]"
       ]
      },
      {
       "output_type": "stream",
       "stream": "stdout",
       "text": [
        "\n",
        "2.2 3.0\n",
        "[-0.98992795  0.00283602]"
       ]
      },
      {
       "output_type": "stream",
       "stream": "stdout",
       "text": [
        "\n",
        "2.2 3.1\n",
        "[-0.98920457  0.00166012]"
       ]
      },
      {
       "output_type": "stream",
       "stream": "stdout",
       "text": [
        "\n",
        "2.2 3.2\n",
        "[ -9.88527462e-01   4.90529319e-04]"
       ]
      },
      {
       "output_type": "stream",
       "stream": "stdout",
       "text": [
        "\n",
        "2.2 3.3\n",
        "[ -9.87892599e-01  -6.65830577e-04]"
       ]
      },
      {
       "output_type": "stream",
       "stream": "stdout",
       "text": [
        "\n",
        "2.2 3.4\n",
        "[-0.98729552 -0.00180303]"
       ]
      },
      {
       "output_type": "stream",
       "stream": "stdout",
       "text": [
        "\n",
        "2.2 3.5\n",
        "[-0.98673146 -0.00291598]"
       ]
      },
      {
       "output_type": "stream",
       "stream": "stdout",
       "text": [
        "\n",
        "2.2 3.6\n",
        "[-0.98619537 -0.00400029]"
       ]
      },
      {
       "output_type": "stream",
       "stream": "stdout",
       "text": [
        "\n",
        "2.2 3.7\n",
        "[-0.98568203 -0.00505215]"
       ]
      },
      {
       "output_type": "stream",
       "stream": "stdout",
       "text": [
        "\n",
        "2.2 3.8\n",
        "[-0.98518608 -0.00606813]"
       ]
      },
      {
       "output_type": "stream",
       "stream": "stdout",
       "text": [
        "\n",
        "2.2 3.9\n",
        "[-0.98470203 -0.00704507]"
       ]
      },
      {
       "output_type": "stream",
       "stream": "stdout",
       "text": [
        "\n",
        "2.2 4.0\n",
        "[-0.98422431 -0.00797991]"
       ]
      },
      {
       "output_type": "stream",
       "stream": "stdout",
       "text": [
        "\n",
        "2.2 4.1\n",
        "[-0.9837473  -0.00886953]"
       ]
      },
      {
       "output_type": "stream",
       "stream": "stdout",
       "text": [
        "\n",
        "2.2 4.2\n",
        "[-0.98326533 -0.0097106 ]"
       ]
      },
      {
       "output_type": "stream",
       "stream": "stdout",
       "text": [
        "\n",
        "2.2 4.3\n",
        "[-0.98277274 -0.01049931]"
       ]
      },
      {
       "output_type": "stream",
       "stream": "stdout",
       "text": [
        "\n",
        "2.2 4.4\n",
        "[-0.98226383 -0.01123126]"
       ]
      },
      {
       "output_type": "stream",
       "stream": "stdout",
       "text": [
        "\n",
        "2.2 4.5\n",
        "[-0.98173297 -0.01190111]"
       ]
      },
      {
       "output_type": "stream",
       "stream": "stdout",
       "text": [
        "\n",
        "2.2 4.6\n",
        "[-0.98117461 -0.01250237]"
       ]
      },
      {
       "output_type": "stream",
       "stream": "stdout",
       "text": [
        "\n",
        "2.2 4.7\n",
        "[-0.98058333 -0.01302701]"
       ]
      },
      {
       "output_type": "stream",
       "stream": "stdout",
       "text": [
        "\n",
        "2.2 4.8\n",
        "[-0.97995399 -0.01346506]"
       ]
      },
      {
       "output_type": "stream",
       "stream": "stdout",
       "text": [
        "\n",
        "2.2 4.9\n",
        "[-0.97928182 -0.0138041 ]"
       ]
      },
      {
       "output_type": "stream",
       "stream": "stdout",
       "text": [
        "\n",
        "2.2 5.0\n",
        "[-0.97856266 -0.01402862]"
       ]
      },
      {
       "output_type": "stream",
       "stream": "stdout",
       "text": [
        "\n",
        "2.2 5.1\n",
        "[-0.97779323 -0.01411927]"
       ]
      },
      {
       "output_type": "stream",
       "stream": "stdout",
       "text": [
        "\n",
        "2.2 5.2\n",
        "[-0.9769716  -0.01405186]"
       ]
      },
      {
       "output_type": "stream",
       "stream": "stdout",
       "text": [
        "\n",
        "2.2 5.3\n",
        "[-0.97609778 -0.01379615]"
       ]
      },
      {
       "output_type": "stream",
       "stream": "stdout",
       "text": [
        "\n",
        "2.2 5.4\n",
        "[-0.97517465 -0.01331427]"
       ]
      },
      {
       "output_type": "stream",
       "stream": "stdout",
       "text": [
        "\n",
        "2.2 5.5\n",
        "[-0.97420918 -0.01255873]"
       ]
      },
      {
       "output_type": "stream",
       "stream": "stdout",
       "text": [
        "\n",
        "2.2 5.6\n",
        "[-0.97321437 -0.01146991]"
       ]
      },
      {
       "output_type": "stream",
       "stream": "stdout",
       "text": [
        "\n",
        "2.2 5.7\n",
        "[-0.97221191 -0.00997277]"
       ]
      },
      {
       "output_type": "stream",
       "stream": "stdout",
       "text": [
        "\n",
        "2.2 5.8\n",
        "[-0.97123621 -0.00797269]"
       ]
      },
      {
       "output_type": "stream",
       "stream": "stdout",
       "text": [
        "\n",
        "2.2 5.9\n",
        "[-0.97034026 -0.00535025]"
       ]
      },
      {
       "output_type": "stream",
       "stream": "stdout",
       "text": [
        "\n",
        "2.2 6.0\n",
        "[-0.96960451 -0.00195463]"
       ]
      },
      {
       "output_type": "stream",
       "stream": "stdout",
       "text": [
        "\n",
        "2.2 6.1\n",
        "[-0.96915025  0.00240423]"
       ]
      },
      {
       "output_type": "stream",
       "stream": "stdout",
       "text": [
        "\n",
        "2.2 6.2\n",
        "[-0.96916016  0.00796422]"
       ]
      },
      {
       "output_type": "stream",
       "stream": "stdout",
       "text": [
        "\n",
        "2.2 6.3\n",
        "[-0.96991016  0.01501828]"
       ]
      },
      {
       "output_type": "stream",
       "stream": "stdout",
       "text": [
        "\n",
        "2.2 6.4\n",
        "[-0.97181936  0.02391398]"
       ]
      },
      {
       "output_type": "stream",
       "stream": "stdout",
       "text": [
        "\n",
        "2.2 6.5\n",
        "[-0.97552842  0.03502791]"
       ]
      },
      {
       "output_type": "stream",
       "stream": "stdout",
       "text": [
        "\n",
        "2.2 6.6\n",
        "[-0.98202066  0.0486662 ]"
       ]
      },
      {
       "output_type": "stream",
       "stream": "stdout",
       "text": [
        "\n",
        "2.2 6.7\n",
        "[-0.99279559  0.06475327]"
       ]
      },
      {
       "output_type": "stream",
       "stream": "stdout",
       "text": [
        "\n",
        "2.2 6.8\n",
        "[-1.01004889  0.08189886]"
       ]
      },
      {
       "output_type": "stream",
       "stream": "stdout",
       "text": [
        "\n",
        "2.2 6.9\n",
        "[-1.03648481  0.09457625]"
       ]
      },
      {
       "output_type": "stream",
       "stream": "stdout",
       "text": [
        "\n",
        "2.2 7.0\n",
        "[-1.07261183  0.08452691]"
       ]
      },
      {
       "output_type": "stream",
       "stream": "stdout",
       "text": [
        "\n",
        "2.2 7.1\n",
        "[-1.09957588 -0.00178403]"
       ]
      },
      {
       "output_type": "stream",
       "stream": "stdout",
       "text": [
        "\n",
        "2.2 7.2\n",
        "[-0.9875062  -0.24183784]"
       ]
      },
      {
       "output_type": "stream",
       "stream": "stdout",
       "text": [
        "\n",
        "2.2 7.3\n",
        "[-0.28046029 -0.16686768]"
       ]
      },
      {
       "output_type": "stream",
       "stream": "stdout",
       "text": [
        "\n",
        "2.2 7.4\n",
        "[ 0.78294404  0.32469183]"
       ]
      },
      {
       "output_type": "stream",
       "stream": "stdout",
       "text": [
        "\n",
        "2.2 7.5\n",
        "[ 1.0943696   0.05287761]"
       ]
      },
      {
       "output_type": "stream",
       "stream": "stdout",
       "text": [
        "\n",
        "2.2 7.6\n",
        "[ 1.0711628  -0.08667071]"
       ]
      },
      {
       "output_type": "stream",
       "stream": "stdout",
       "text": [
        "\n",
        "2.2 7.7\n",
        "[ 1.01987737 -0.08959319]"
       ]
      },
      {
       "output_type": "stream",
       "stream": "stdout",
       "text": [
        "\n",
        "2.2 7.8\n",
        "[ 0.98708387 -0.05945963]"
       ]
      },
      {
       "output_type": "stream",
       "stream": "stdout",
       "text": [
        "\n",
        "2.2 7.9\n",
        "[ 0.97095755 -0.02865361]"
       ]
      },
      {
       "output_type": "stream",
       "stream": "stdout",
       "text": [
        "\n",
        "2.2 8.0\n",
        "[ 0.96546102 -0.00442813]"
       ]
      },
      {
       "output_type": "stream",
       "stream": "stdout",
       "text": [
        "\n",
        "2.2 8.1\n",
        "[ 0.9661412   0.01271592]"
       ]
      },
      {
       "output_type": "stream",
       "stream": "stdout",
       "text": [
        "\n",
        "2.2 8.2\n",
        "[ 0.9701775   0.02387096]"
       ]
      },
      {
       "output_type": "stream",
       "stream": "stdout",
       "text": [
        "\n",
        "2.2 8.3\n",
        "[ 0.97584722  0.03032939]"
       ]
      },
      {
       "output_type": "stream",
       "stream": "stdout",
       "text": [
        "\n",
        "2.2 8.4\n",
        "[ 0.98211241  0.03323151]"
       ]
      },
      {
       "output_type": "stream",
       "stream": "stdout",
       "text": [
        "\n",
        "2.2 8.5\n",
        "[ 0.98835739  0.03350466]"
       ]
      },
      {
       "output_type": "stream",
       "stream": "stdout",
       "text": [
        "\n",
        "2.2 8.6\n",
        "[ 0.99422806  0.03188044]"
       ]
      },
      {
       "output_type": "stream",
       "stream": "stdout",
       "text": [
        "\n",
        "2.2 8.7\n",
        "[ 0.9995334   0.02892811]"
       ]
      },
      {
       "output_type": "stream",
       "stream": "stdout",
       "text": [
        "\n",
        "2.2 8.8\n",
        "[ 1.00418433  0.02508699]"
       ]
      },
      {
       "output_type": "stream",
       "stream": "stdout",
       "text": [
        "\n",
        "2.2 8.9\n",
        "[ 1.00815513  0.02069359]"
       ]
      },
      {
       "output_type": "stream",
       "stream": "stdout",
       "text": [
        "\n",
        "2.2 9.0\n",
        "[ 1.01145884  0.01600345]"
       ]
      },
      {
       "output_type": "stream",
       "stream": "stdout",
       "text": [
        "\n",
        "2.2 9.1\n",
        "[ 1.01413142  0.01120846]"
       ]
      },
      {
       "output_type": "stream",
       "stream": "stdout",
       "text": [
        "\n",
        "2.2 9.2\n",
        "[ 1.01622147  0.00645056]"
       ]
      },
      {
       "output_type": "stream",
       "stream": "stdout",
       "text": [
        "\n",
        "2.2 9.3\n",
        "[ 1.01778357  0.0018325 ]"
       ]
      },
      {
       "output_type": "stream",
       "stream": "stdout",
       "text": [
        "\n",
        "2.2 9.4\n",
        "[ 1.01887401 -0.00257356]"
       ]
      },
      {
       "output_type": "stream",
       "stream": "stdout",
       "text": [
        "\n",
        "2.2 9.5\n",
        "[ 1.01954817 -0.00671925]"
       ]
      },
      {
       "output_type": "stream",
       "stream": "stdout",
       "text": [
        "\n",
        "2.2 9.6\n",
        "[ 1.0198588  -0.01057459]"
       ]
      },
      {
       "output_type": "stream",
       "stream": "stdout",
       "text": [
        "\n",
        "2.2 9.7\n",
        "[ 1.01985515 -0.01412375]"
       ]
      },
      {
       "output_type": "stream",
       "stream": "stdout",
       "text": [
        "\n",
        "2.2 9.8\n",
        "[ 1.01958247 -0.0173616 ]"
       ]
      },
      {
       "output_type": "stream",
       "stream": "stdout",
       "text": [
        "\n",
        "2.2 9.9\n",
        "[ 1.01908187 -0.02029106]"
       ]
      },
      {
       "output_type": "stream",
       "stream": "stdout",
       "text": [
        "\n",
        "2.3 0.0\n",
        "[-1.00515094  0.01215196]"
       ]
      },
      {
       "output_type": "stream",
       "stream": "stdout",
       "text": [
        "\n",
        "2.3 0.1\n",
        "[-1.00522557  0.01218107]"
       ]
      },
      {
       "output_type": "stream",
       "stream": "stdout",
       "text": [
        "\n",
        "2.3 0.2\n",
        "[-1.00520479  0.01223394]"
       ]
      },
      {
       "output_type": "stream",
       "stream": "stdout",
       "text": [
        "\n",
        "2.3 0.3\n",
        "[-1.00509116  0.01230884]"
       ]
      },
      {
       "output_type": "stream",
       "stream": "stdout",
       "text": [
        "\n",
        "2.3 0.4\n",
        "[-1.00488739  0.01239947]"
       ]
      },
      {
       "output_type": "stream",
       "stream": "stdout",
       "text": [
        "\n",
        "2.3 0.5\n",
        "[-1.00459647  0.01249586]"
       ]
      },
      {
       "output_type": "stream",
       "stream": "stdout",
       "text": [
        "\n",
        "2.3 0.6\n",
        "[-1.0042219   0.01258545]"
       ]
      },
      {
       "output_type": "stream",
       "stream": "stdout",
       "text": [
        "\n",
        "2.3 0.7\n",
        "[-1.00376788  0.01265432]"
       ]
      },
      {
       "output_type": "stream",
       "stream": "stdout",
       "text": [
        "\n",
        "2.3 0.8\n",
        "[-1.00323951  0.01268824]"
       ]
      },
      {
       "output_type": "stream",
       "stream": "stdout",
       "text": [
        "\n",
        "2.3 0.9\n",
        "[-1.00264286  0.01267369]"
       ]
      },
      {
       "output_type": "stream",
       "stream": "stdout",
       "text": [
        "\n",
        "2.3 1.0\n",
        "[-1.001985    0.01259867]"
       ]
      },
      {
       "output_type": "stream",
       "stream": "stdout",
       "text": [
        "\n",
        "2.3 1.1\n",
        "[-1.00127385  0.01245326]"
       ]
      },
      {
       "output_type": "stream",
       "stream": "stdout",
       "text": [
        "\n",
        "2.3 1.2\n",
        "[-1.00051801  0.01223001]"
       ]
      },
      {
       "output_type": "stream",
       "stream": "stdout",
       "text": [
        "\n",
        "2.3 1.3\n",
        "[-0.99972651  0.01192405]"
       ]
      },
      {
       "output_type": "stream",
       "stream": "stdout",
       "text": [
        "\n",
        "2.3 1.4\n",
        "[-0.99890854  0.01153314]"
       ]
      },
      {
       "output_type": "stream",
       "stream": "stdout",
       "text": [
        "\n",
        "2.3 1.5\n",
        "[-0.99807318  0.0110574 ]"
       ]
      },
      {
       "output_type": "stream",
       "stream": "stdout",
       "text": [
        "\n",
        "2.3 1.6\n",
        "[-0.99722911  0.01049914]"
       ]
      },
      {
       "output_type": "stream",
       "stream": "stdout",
       "text": [
        "\n",
        "2.3 1.7\n",
        "[-0.99638447  0.00986245]"
       ]
      },
      {
       "output_type": "stream",
       "stream": "stdout",
       "text": [
        "\n",
        "2.3 1.8\n",
        "[-0.99554661  0.0091529 ]"
       ]
      },
      {
       "output_type": "stream",
       "stream": "stdout",
       "text": [
        "\n",
        "2.3 1.9\n",
        "[-0.99472203  0.00837714]"
       ]
      },
      {
       "output_type": "stream",
       "stream": "stdout",
       "text": [
        "\n",
        "2.3 2.0\n",
        "[-0.99391625  0.00754257]"
       ]
      },
      {
       "output_type": "stream",
       "stream": "stdout",
       "text": [
        "\n",
        "2.3 2.1\n",
        "[-0.99313382  0.00665702]"
       ]
      },
      {
       "output_type": "stream",
       "stream": "stdout",
       "text": [
        "\n",
        "2.3 2.2\n",
        "[-0.99237827  0.00572851]"
       ]
      },
      {
       "output_type": "stream",
       "stream": "stdout",
       "text": [
        "\n",
        "2.3 2.3\n",
        "[-0.9916522  0.004765 ]"
       ]
      },
      {
       "output_type": "stream",
       "stream": "stdout",
       "text": [
        "\n",
        "2.3 2.4\n",
        "[-0.99095726  0.00377424]"
       ]
      },
      {
       "output_type": "stream",
       "stream": "stdout",
       "text": [
        "\n",
        "2.3 2.5\n",
        "[-0.99029427  0.00276361]"
       ]
      },
      {
       "output_type": "stream",
       "stream": "stdout",
       "text": [
        "\n",
        "2.3 2.6\n",
        "[-0.98966325  0.00174006]"
       ]
      },
      {
       "output_type": "stream",
       "stream": "stdout",
       "text": [
        "\n",
        "2.3 2.7\n",
        "[ -9.89063520e-01   7.10007572e-04]"
       ]
      },
      {
       "output_type": "stream",
       "stream": "stdout",
       "text": [
        "\n",
        "2.3 2.8\n",
        "[ -9.88493768e-01  -3.20642354e-04]"
       ]
      },
      {
       "output_type": "stream",
       "stream": "stdout",
       "text": [
        "\n",
        "2.3 2.9\n",
        "[-0.98795213 -0.00134653]"
       ]
      },
      {
       "output_type": "stream",
       "stream": "stdout",
       "text": [
        "\n",
        "2.3 3.0\n",
        "[-0.98743624 -0.00236282]"
       ]
      },
      {
       "output_type": "stream",
       "stream": "stdout",
       "text": [
        "\n",
        "2.3 3.1\n",
        "[-0.98694333 -0.00336514]"
       ]
      },
      {
       "output_type": "stream",
       "stream": "stdout",
       "text": [
        "\n",
        "2.3 3.2\n",
        "[-0.98647025 -0.00434959]"
       ]
      },
      {
       "output_type": "stream",
       "stream": "stdout",
       "text": [
        "\n",
        "2.3 3.3\n",
        "[-0.98601354 -0.00531259]"
       ]
      },
      {
       "output_type": "stream",
       "stream": "stdout",
       "text": [
        "\n",
        "2.3 3.4\n",
        "[-0.98556947 -0.00625088]"
       ]
      },
      {
       "output_type": "stream",
       "stream": "stdout",
       "text": [
        "\n",
        "2.3 3.5\n",
        "[-0.98513405 -0.00716143]"
       ]
      },
      {
       "output_type": "stream",
       "stream": "stdout",
       "text": [
        "\n",
        "2.3 3.6\n",
        "[-0.98470312 -0.00804129]"
       ]
      },
      {
       "output_type": "stream",
       "stream": "stdout",
       "text": [
        "\n",
        "2.3 3.7\n",
        "[-0.98427232 -0.00888753]"
       ]
      },
      {
       "output_type": "stream",
       "stream": "stdout",
       "text": [
        "\n",
        "2.3 3.8\n",
        "[-0.98383716 -0.00969712]"
       ]
      },
      {
       "output_type": "stream",
       "stream": "stdout",
       "text": [
        "\n",
        "2.3 3.9\n",
        "[-0.98339298 -0.01046679]"
       ]
      },
      {
       "output_type": "stream",
       "stream": "stdout",
       "text": [
        "\n",
        "2.3 4.0\n",
        "[-0.98293507 -0.01119285]"
       ]
      },
      {
       "output_type": "stream",
       "stream": "stdout",
       "text": [
        "\n",
        "2.3 4.1\n",
        "[-0.98245857 -0.01187105]"
       ]
      },
      {
       "output_type": "stream",
       "stream": "stdout",
       "text": [
        "\n",
        "2.3 4.2\n",
        "[-0.98195863 -0.01249634]"
       ]
      },
      {
       "output_type": "stream",
       "stream": "stdout",
       "text": [
        "\n",
        "2.3 4.3\n",
        "[-0.98143036 -0.01306267]"
       ]
      },
      {
       "output_type": "stream",
       "stream": "stdout",
       "text": [
        "\n",
        "2.3 4.4\n",
        "[-0.98086891 -0.01356265]"
       ]
      },
      {
       "output_type": "stream",
       "stream": "stdout",
       "text": [
        "\n",
        "2.3 4.5\n",
        "[-0.98026959 -0.01398719]"
       ]
      },
      {
       "output_type": "stream",
       "stream": "stdout",
       "text": [
        "\n",
        "2.3 4.6\n",
        "[-0.97962796 -0.01432512]"
       ]
      },
      {
       "output_type": "stream",
       "stream": "stdout",
       "text": [
        "\n",
        "2.3 4.7\n",
        "[-0.97893997 -0.01456261]"
       ]
      },
      {
       "output_type": "stream",
       "stream": "stdout",
       "text": [
        "\n",
        "2.3 4.8\n",
        "[-0.97820227 -0.01468252]"
       ]
      },
      {
       "output_type": "stream",
       "stream": "stdout",
       "text": [
        "\n",
        "2.3 4.9\n",
        "[-0.9774125  -0.01466355]"
       ]
      },
      {
       "output_type": "stream",
       "stream": "stdout",
       "text": [
        "\n",
        "2.3 5.0\n",
        "[-0.97656984 -0.01447924]"
       ]
      },
      {
       "output_type": "stream",
       "stream": "stdout",
       "text": [
        "\n",
        "2.3 5.1\n",
        "[-0.97567565 -0.01409664]"
       ]
      },
      {
       "output_type": "stream",
       "stream": "stdout",
       "text": [
        "\n",
        "2.3 5.2\n",
        "[-0.97473453 -0.01347462]"
       ]
      },
      {
       "output_type": "stream",
       "stream": "stdout",
       "text": [
        "\n",
        "2.3 5.3\n",
        "[-0.97375578 -0.01256177]"
       ]
      },
      {
       "output_type": "stream",
       "stream": "stdout",
       "text": [
        "\n",
        "2.3 5.4\n",
        "[-0.97275548 -0.01129367]"
       ]
      },
      {
       "output_type": "stream",
       "stream": "stdout",
       "text": [
        "\n",
        "2.3 5.5\n",
        "[-0.97175956 -0.00958942]"
       ]
      },
      {
       "output_type": "stream",
       "stream": "stdout",
       "text": [
        "\n",
        "2.3 5.6\n",
        "[-0.97080833 -0.00734727]"
       ]
      },
      {
       "output_type": "stream",
       "stream": "stdout",
       "text": [
        "\n",
        "2.3 5.7\n",
        "[-0.96996313 -0.00443904]"
       ]
      },
      {
       "output_type": "stream",
       "stream": "stdout",
       "text": [
        "\n",
        "2.3 5.8\n",
        "[ -9.69316342e-01  -7.03334558e-04]"
       ]
      },
      {
       "output_type": "stream",
       "stream": "stdout",
       "text": [
        "\n",
        "2.3 5.9\n",
        "[-0.96900653  0.00406238]"
       ]
      },
      {
       "output_type": "stream",
       "stream": "stdout",
       "text": [
        "\n",
        "2.3 6.0\n",
        "[-0.96924176  0.01010992]"
       ]
      },
      {
       "output_type": "stream",
       "stream": "stdout",
       "text": [
        "\n",
        "2.3 6.1\n",
        "[-0.97033565  0.0177456 ]"
       ]
      },
      {
       "output_type": "stream",
       "stream": "stdout",
       "text": [
        "\n",
        "2.3 6.2\n",
        "[-0.97276391  0.02732398]"
       ]
      },
      {
       "output_type": "stream",
       "stream": "stdout",
       "text": [
        "\n",
        "2.3 6.3\n",
        "[-0.97725239  0.03920607]"
       ]
      },
      {
       "output_type": "stream",
       "stream": "stdout",
       "text": [
        "\n",
        "2.3 6.4\n",
        "[-0.98491052  0.05361621]"
       ]
      },
      {
       "output_type": "stream",
       "stream": "stdout",
       "text": [
        "\n",
        "2.3 6.5\n",
        "[-0.99741124  0.07020905]"
       ]
      },
      {
       "output_type": "stream",
       "stream": "stdout",
       "text": [
        "\n",
        "2.3 6.6\n",
        "[-1.0171212   0.08678485]"
       ]
      },
      {
       "output_type": "stream",
       "stream": "stdout",
       "text": [
        "\n",
        "2.3 6.7\n",
        "[-1.04655159  0.09541818]"
       ]
      },
      {
       "output_type": "stream",
       "stream": "stdout",
       "text": [
        "\n",
        "2.3 6.8\n",
        "[-1.08364502  0.07093744]"
       ]
      },
      {
       "output_type": "stream",
       "stream": "stdout",
       "text": [
        "\n",
        "2.3 6.9\n",
        "[-1.09392334 -0.05425106]"
       ]
      },
      {
       "output_type": "stream",
       "stream": "stdout",
       "text": [
        "\n",
        "2.3 7.0\n",
        "[-0.87698009 -0.30637159]"
       ]
      },
      {
       "output_type": "stream",
       "stream": "stdout",
       "text": [
        "\n",
        "2.3 7.1\n",
        "[ 0.0368187   0.02275745]"
       ]
      },
      {
       "output_type": "stream",
       "stream": "stdout",
       "text": [
        "\n",
        "2.3 7.2\n",
        "[ 0.93296989  0.28133939]"
       ]
      },
      {
       "output_type": "stream",
       "stream": "stdout",
       "text": [
        "\n",
        "2.3 7.3\n",
        "[ 1.09978519 -0.00374012]"
       ]
      },
      {
       "output_type": "stream",
       "stream": "stdout",
       "text": [
        "\n",
        "2.3 7.4\n",
        "[ 1.05784843 -0.09423426]"
       ]
      },
      {
       "output_type": "stream",
       "stream": "stdout",
       "text": [
        "\n",
        "2.3 7.5\n",
        "[ 1.01052258 -0.08366316]"
       ]
      },
      {
       "output_type": "stream",
       "stream": "stdout",
       "text": [
        "\n",
        "2.3 7.6\n",
        "[ 0.98231649 -0.05225066]"
       ]
      },
      {
       "output_type": "stream",
       "stream": "stdout",
       "text": [
        "\n",
        "2.3 7.7\n",
        "[ 0.96910699 -0.0229247 ]"
       ]
      },
      {
       "output_type": "stream",
       "stream": "stdout",
       "text": [
        "\n",
        "2.3 7.8\n",
        "[  9.65236641e-01  -4.47158509e-04]"
       ]
      },
      {
       "output_type": "stream",
       "stream": "stdout",
       "text": [
        "\n",
        "2.3 7.9\n",
        "[ 0.96674752  0.0152455 ]"
       ]
      },
      {
       "output_type": "stream",
       "stream": "stdout",
       "text": [
        "\n",
        "2.3 8.0\n",
        "[ 0.97115166  0.02531239]"
       ]
      },
      {
       "output_type": "stream",
       "stream": "stdout",
       "text": [
        "\n",
        "2.3 8.1\n",
        "[ 0.9769276   0.03099454]"
       ]
      },
      {
       "output_type": "stream",
       "stream": "stdout",
       "text": [
        "\n",
        "2.3 8.2\n",
        "[ 0.98315638  0.03336368]"
       ]
      },
      {
       "output_type": "stream",
       "stream": "stdout",
       "text": [
        "\n",
        "2.3 8.3\n",
        "[ 0.98929237  0.03328653]"
       ]
      },
      {
       "output_type": "stream",
       "stream": "stdout",
       "text": [
        "\n",
        "2.3 8.4\n",
        "[ 0.9950225   0.03144634]"
       ]
      },
      {
       "output_type": "stream",
       "stream": "stdout",
       "text": [
        "\n",
        "2.3 8.5\n",
        "[ 1.0001795   0.02837524]"
       ]
      },
      {
       "output_type": "stream",
       "stream": "stdout",
       "text": [
        "\n",
        "2.3 8.6\n",
        "[ 1.00468756  0.02448441]"
       ]
      },
      {
       "output_type": "stream",
       "stream": "stdout",
       "text": [
        "\n",
        "2.3 8.7\n",
        "[ 1.00852796  0.0200893 ]"
       ]
      },
      {
       "output_type": "stream",
       "stream": "stdout",
       "text": [
        "\n",
        "2.3 8.8\n",
        "[ 1.0117169   0.01542974]"
       ]
      },
      {
       "output_type": "stream",
       "stream": "stdout",
       "text": [
        "\n",
        "2.3 8.9\n",
        "[ 1.01429125  0.01068604]"
       ]
      },
      {
       "output_type": "stream",
       "stream": "stdout",
       "text": [
        "\n",
        "2.3 9.0\n",
        "[ 1.01629916  0.00599162]"
       ]
      },
      {
       "output_type": "stream",
       "stream": "stdout",
       "text": [
        "\n",
        "2.3 9.1\n",
        "[ 1.01779405  0.00144314]"
       ]
      },
      {
       "output_type": "stream",
       "stream": "stdout",
       "text": [
        "\n",
        "2.3 9.2\n",
        "[ 1.01883072 -0.00289155]"
       ]
      },
      {
       "output_type": "stream",
       "stream": "stdout",
       "text": [
        "\n",
        "2.3 9.3\n",
        "[ 1.01946288 -0.00696708]"
       ]
      },
      {
       "output_type": "stream",
       "stream": "stdout",
       "text": [
        "\n",
        "2.3 9.4\n",
        "[ 1.01974166 -0.01075543]"
       ]
      },
      {
       "output_type": "stream",
       "stream": "stdout",
       "text": [
        "\n",
        "2.3 9.5\n",
        "[ 1.01971474 -0.01424199]"
       ]
      },
      {
       "output_type": "stream",
       "stream": "stdout",
       "text": [
        "\n",
        "2.3 9.6\n",
        "[ 1.01942595 -0.01742228]"
       ]
      },
      {
       "output_type": "stream",
       "stream": "stdout",
       "text": [
        "\n",
        "2.3 9.7\n",
        "[ 1.01891512 -0.02029952]"
       ]
      },
      {
       "output_type": "stream",
       "stream": "stdout",
       "text": [
        "\n",
        "2.3 9.8\n",
        "[ 1.01821813 -0.02288252]"
       ]
      },
      {
       "output_type": "stream",
       "stream": "stdout",
       "text": [
        "\n",
        "2.3 9.9\n",
        "[ 1.01736707 -0.02518421]"
       ]
      },
      {
       "output_type": "stream",
       "stream": "stdout",
       "text": [
        "\n",
        "2.4 0.0\n",
        "[-0.99655136  0.00888344]"
       ]
      },
      {
       "output_type": "stream",
       "stream": "stdout",
       "text": [
        "\n",
        "2.4 0.1\n",
        "[-0.99659863  0.00899211]"
       ]
      },
      {
       "output_type": "stream",
       "stream": "stdout",
       "text": [
        "\n",
        "2.4 0.2\n",
        "[-0.99658501  0.00904373]"
       ]
      },
      {
       "output_type": "stream",
       "stream": "stdout",
       "text": [
        "\n",
        "2.4 0.3\n",
        "[-0.99651145  0.00903978]"
       ]
      },
      {
       "output_type": "stream",
       "stream": "stdout",
       "text": [
        "\n",
        "2.4 0.4\n",
        "[-0.99637981  0.00898115]"
       ]
      },
      {
       "output_type": "stream",
       "stream": "stdout",
       "text": [
        "\n",
        "2.4 0.5\n",
        "[-0.9961928   0.00886826]"
       ]
      },
      {
       "output_type": "stream",
       "stream": "stdout",
       "text": [
        "\n",
        "2.4 0.6\n",
        "[-0.99595388  0.0087012 ]"
       ]
      },
      {
       "output_type": "stream",
       "stream": "stdout",
       "text": [
        "\n",
        "2.4 0.7\n",
        "[-0.99566708  0.00847989]"
       ]
      },
      {
       "output_type": "stream",
       "stream": "stdout",
       "text": [
        "\n",
        "2.4 0.8\n",
        "[-0.99533695  0.00820426]"
       ]
      },
      {
       "output_type": "stream",
       "stream": "stdout",
       "text": [
        "\n",
        "2.4 0.9\n",
        "[-0.9949684   0.00787441]"
       ]
      },
      {
       "output_type": "stream",
       "stream": "stdout",
       "text": [
        "\n",
        "2.4 1.0\n",
        "[-0.99456656  0.0074908 ]"
       ]
      },
      {
       "output_type": "stream",
       "stream": "stdout",
       "text": [
        "\n",
        "2.4 1.1\n",
        "[-0.99413673  0.00705428]"
       ]
      },
      {
       "output_type": "stream",
       "stream": "stdout",
       "text": [
        "\n",
        "2.4 1.2\n",
        "[-0.99368417  0.00656626]"
       ]
      },
      {
       "output_type": "stream",
       "stream": "stdout",
       "text": [
        "\n",
        "2.4 1.3\n",
        "[-0.99321406  0.00602865]"
       ]
      },
      {
       "output_type": "stream",
       "stream": "stdout",
       "text": [
        "\n",
        "2.4 1.4\n",
        "[-0.99273136  0.00544392]"
       ]
      },
      {
       "output_type": "stream",
       "stream": "stdout",
       "text": [
        "\n",
        "2.4 1.5\n",
        "[-0.9922407   0.00481503]"
       ]
      },
      {
       "output_type": "stream",
       "stream": "stdout",
       "text": [
        "\n",
        "2.4 1.6\n",
        "[-0.99174637  0.00414539]"
       ]
      },
      {
       "output_type": "stream",
       "stream": "stdout",
       "text": [
        "\n",
        "2.4 1.7\n",
        "[-0.99125219  0.00343881]"
       ]
      },
      {
       "output_type": "stream",
       "stream": "stdout",
       "text": [
        "\n",
        "2.4 1.8\n",
        "[-0.9907615   0.00269933]"
       ]
      },
      {
       "output_type": "stream",
       "stream": "stdout",
       "text": [
        "\n",
        "2.4 1.9\n",
        "[-0.99027712  0.00193123]"
       ]
      },
      {
       "output_type": "stream",
       "stream": "stdout",
       "text": [
        "\n",
        "2.4 2.0\n",
        "[-0.98980132  0.0011389 ]"
       ]
      },
      {
       "output_type": "stream",
       "stream": "stdout",
       "text": [
        "\n",
        "2.4 2.1\n",
        "[ -9.89335851e-01   3.26728042e-04]"
       ]
      },
      {
       "output_type": "stream",
       "stream": "stdout",
       "text": [
        "\n",
        "2.4 2.2\n",
        "[ -9.88881899e-01  -5.00898403e-04]"
       ]
      },
      {
       "output_type": "stream",
       "stream": "stdout",
       "text": [
        "\n",
        "2.4 2.3\n",
        "[-0.98844014 -0.00133971]"
       ]
      },
      {
       "output_type": "stream",
       "stream": "stdout",
       "text": [
        "\n",
        "2.4 2.4\n",
        "[-0.98801075 -0.00218558]"
       ]
      },
      {
       "output_type": "stream",
       "stream": "stdout",
       "text": [
        "\n",
        "2.4 2.5\n",
        "[-0.98759343 -0.00303455]"
       ]
      },
      {
       "output_type": "stream",
       "stream": "stdout",
       "text": [
        "\n",
        "2.4 2.6\n",
        "[-0.98718741 -0.00388288]"
       ]
      },
      {
       "output_type": "stream",
       "stream": "stdout",
       "text": [
        "\n",
        "2.4 2.7\n",
        "[-0.98679154 -0.004727  ]"
       ]
      },
      {
       "output_type": "stream",
       "stream": "stdout",
       "text": [
        "\n",
        "2.4 2.8\n",
        "[-0.98640426 -0.00556357]"
       ]
      },
      {
       "output_type": "stream",
       "stream": "stdout",
       "text": [
        "\n",
        "2.4 2.9\n",
        "[-0.98602365 -0.00638941]"
       ]
      },
      {
       "output_type": "stream",
       "stream": "stdout",
       "text": [
        "\n",
        "2.4 3.0\n",
        "[-0.98564749 -0.00720151]"
       ]
      },
      {
       "output_type": "stream",
       "stream": "stdout",
       "text": [
        "\n",
        "2.4 3.1\n",
        "[-0.98527324 -0.00799694]"
       ]
      },
      {
       "output_type": "stream",
       "stream": "stdout",
       "text": [
        "\n",
        "2.4 3.2\n",
        "[-0.98489807 -0.00877286]"
       ]
      },
      {
       "output_type": "stream",
       "stream": "stdout",
       "text": [
        "\n",
        "2.4 3.3\n",
        "[-0.98451894 -0.0095264 ]"
       ]
      },
      {
       "output_type": "stream",
       "stream": "stdout",
       "text": [
        "\n",
        "2.4 3.4\n",
        "[-0.98413254 -0.01025461]"
       ]
      },
      {
       "output_type": "stream",
       "stream": "stdout",
       "text": [
        "\n",
        "2.4 3.5\n",
        "[-0.98373538 -0.01095438]"
       ]
      },
      {
       "output_type": "stream",
       "stream": "stdout",
       "text": [
        "\n",
        "2.4 3.6\n",
        "[-0.98332376 -0.01162229]"
       ]
      },
      {
       "output_type": "stream",
       "stream": "stdout",
       "text": [
        "\n",
        "2.4 3.7\n",
        "[-0.98289383 -0.01225453]"
       ]
      },
      {
       "output_type": "stream",
       "stream": "stdout",
       "text": [
        "\n",
        "2.4 3.8\n",
        "[-0.98244158 -0.01284669]"
       ]
      },
      {
       "output_type": "stream",
       "stream": "stdout",
       "text": [
        "\n",
        "2.4 3.9\n",
        "[-0.98196291 -0.01339364]"
       ]
      },
      {
       "output_type": "stream",
       "stream": "stdout",
       "text": [
        "\n",
        "2.4 4.0\n",
        "[-0.98145364 -0.01388927]"
       ]
      },
      {
       "output_type": "stream",
       "stream": "stdout",
       "text": [
        "\n",
        "2.4 4.1\n",
        "[-0.98090959 -0.01432624]"
       ]
      },
      {
       "output_type": "stream",
       "stream": "stdout",
       "text": [
        "\n",
        "2.4 4.2\n",
        "[-0.98032665 -0.01469565]"
       ]
      },
      {
       "output_type": "stream",
       "stream": "stdout",
       "text": [
        "\n",
        "2.4 4.3\n",
        "[-0.97970087 -0.01498665]"
       ]
      },
      {
       "output_type": "stream",
       "stream": "stdout",
       "text": [
        "\n",
        "2.4 4.4\n",
        "[-0.97902866 -0.01518597]"
       ]
      },
      {
       "output_type": "stream",
       "stream": "stdout",
       "text": [
        "\n",
        "2.4 4.5\n",
        "[-0.97830698 -0.0152773 ]"
       ]
      },
      {
       "output_type": "stream",
       "stream": "stdout",
       "text": [
        "\n",
        "2.4 4.6\n",
        "[-0.97753366 -0.01524055]"
       ]
      },
      {
       "output_type": "stream",
       "stream": "stdout",
       "text": [
        "\n",
        "2.4 4.7\n",
        "[-0.97670783 -0.0150509 ]"
       ]
      },
      {
       "output_type": "stream",
       "stream": "stdout",
       "text": [
        "\n",
        "2.4 4.8\n",
        "[-0.97583056 -0.01467766]"
       ]
      },
      {
       "output_type": "stream",
       "stream": "stdout",
       "text": [
        "\n",
        "2.4 4.9\n",
        "[-0.97490575 -0.01408271]"
       ]
      },
      {
       "output_type": "stream",
       "stream": "stdout",
       "text": [
        "\n",
        "2.4 5.0\n",
        "[-0.97394139 -0.01321868]"
       ]
      },
      {
       "output_type": "stream",
       "stream": "stdout",
       "text": [
        "\n",
        "2.4 5.1\n",
        "[-0.97295139 -0.01202647]"
       ]
      },
      {
       "output_type": "stream",
       "stream": "stdout",
       "text": [
        "\n",
        "2.4 5.2\n",
        "[-0.97195821 -0.01043223]"
       ]
      },
      {
       "output_type": "stream",
       "stream": "stdout",
       "text": [
        "\n",
        "2.4 5.3\n",
        "[-0.97099671 -0.00834342]"
       ]
      },
      {
       "output_type": "stream",
       "stream": "stdout",
       "text": [
        "\n",
        "2.4 5.4\n",
        "[-0.9701198  -0.00564394]"
       ]
      },
      {
       "output_type": "stream",
       "stream": "stdout",
       "text": [
        "\n",
        "2.4 5.5\n",
        "[-0.96940683 -0.00218806]"
       ]
      },
      {
       "output_type": "stream",
       "stream": "stdout",
       "text": [
        "\n",
        "2.4 5.6\n",
        "[-0.9689762   0.00220678]"
       ]
      },
      {
       "output_type": "stream",
       "stream": "stdout",
       "text": [
        "\n",
        "2.4 5.7\n",
        "[-0.96900458  0.00776769]"
       ]
      },
      {
       "output_type": "stream",
       "stream": "stdout",
       "text": [
        "\n",
        "2.4 5.8\n",
        "[-0.9697564   0.01477265]"
       ]
      },
      {
       "output_type": "stream",
       "stream": "stdout",
       "text": [
        "\n",
        "2.4 5.9\n",
        "[-0.97162969  0.02354963]"
       ]
      },
      {
       "output_type": "stream",
       "stream": "stdout",
       "text": [
        "\n",
        "2.4 6.0\n",
        "[-0.97522734  0.03445286]"
       ]
      },
      {
       "output_type": "stream",
       "stream": "stdout",
       "text": [
        "\n",
        "2.4 6.1\n",
        "[-0.98146608  0.04777365]"
       ]
      },
      {
       "output_type": "stream",
       "stream": "stdout",
       "text": [
        "\n",
        "2.4 6.2\n",
        "[-0.99173207  0.06346781]"
       ]
      },
      {
       "output_type": "stream",
       "stream": "stdout",
       "text": [
        "\n",
        "2.4 6.3\n",
        "[-1.00804678  0.08035757]"
       ]
      },
      {
       "output_type": "stream",
       "stream": "stdout",
       "text": [
        "\n",
        "2.4 6.4\n",
        "[-1.03295223  0.09377745]"
       ]
      },
      {
       "output_type": "stream",
       "stream": "stdout",
       "text": [
        "\n",
        "2.4 6.5\n",
        "[-1.06749429  0.08855631]"
       ]
      },
      {
       "output_type": "stream",
       "stream": "stdout",
       "text": [
        "\n",
        "2.4 6.6\n",
        "[-1.09861715  0.02021366]"
       ]
      },
      {
       "output_type": "stream",
       "stream": "stdout",
       "text": [
        "\n",
        "2.4 6.7\n",
        "[-1.03220776 -0.19254998]"
       ]
      },
      {
       "output_type": "stream",
       "stream": "stdout",
       "text": [
        "\n",
        "2.4 6.8\n",
        "[-0.48766113 -0.26636013]"
       ]
      },
      {
       "output_type": "stream",
       "stream": "stdout",
       "text": [
        "\n",
        "2.4 6.9\n",
        "[ 0.60584442  0.30533955]"
       ]
      },
      {
       "output_type": "stream",
       "stream": "stdout",
       "text": [
        "\n",
        "2.4 7.0\n",
        "[ 1.07272004  0.12217308]"
       ]
      },
      {
       "output_type": "stream",
       "stream": "stdout",
       "text": [
        "\n",
        "2.4 7.1\n",
        "[ 1.08485619 -0.06982471]"
       ]
      },
      {
       "output_type": "stream",
       "stream": "stdout",
       "text": [
        "\n",
        "2.4 7.2\n",
        "[ 1.03294107 -0.09478273]"
       ]
      },
      {
       "output_type": "stream",
       "stream": "stdout",
       "text": [
        "\n",
        "2.4 7.3\n",
        "[ 0.99512053 -0.06950476]"
       ]
      },
      {
       "output_type": "stream",
       "stream": "stdout",
       "text": [
        "\n",
        "2.4 7.4\n",
        "[ 0.97486662 -0.038234  ]"
       ]
      },
      {
       "output_type": "stream",
       "stream": "stdout",
       "text": [
        "\n",
        "2.4 7.5\n",
        "[ 0.96655143 -0.0121671 ]"
       ]
      },
      {
       "output_type": "stream",
       "stream": "stdout",
       "text": [
        "\n",
        "2.4 7.6\n",
        "[ 0.96542145  0.00699082]"
       ]
      },
      {
       "output_type": "stream",
       "stream": "stdout",
       "text": [
        "\n",
        "2.4 7.7\n",
        "[ 0.96834935  0.01997721]"
       ]
      },
      {
       "output_type": "stream",
       "stream": "stdout",
       "text": [
        "\n",
        "2.4 7.8\n",
        "[ 0.97338827  0.02799732]"
       ]
      },
      {
       "output_type": "stream",
       "stream": "stdout",
       "text": [
        "\n",
        "2.4 7.9\n",
        "[ 0.97934642  0.03219002]"
       ]
      },
      {
       "output_type": "stream",
       "stream": "stdout",
       "text": [
        "\n",
        "2.4 8.0\n",
        "[ 0.98550319  0.03350747]"
       ]
      },
      {
       "output_type": "stream",
       "stream": "stdout",
       "text": [
        "\n",
        "2.4 8.1\n",
        "[ 0.99143225  0.03271229]"
       ]
      },
      {
       "output_type": "stream",
       "stream": "stdout",
       "text": [
        "\n",
        "2.4 8.2\n",
        "[ 0.99689223  0.03040436]"
       ]
      },
      {
       "output_type": "stream",
       "stream": "stdout",
       "text": [
        "\n",
        "2.4 8.3\n",
        "[ 1.00175858  0.02705101]"
       ]
      },
      {
       "output_type": "stream",
       "stream": "stdout",
       "text": [
        "\n",
        "2.4 8.4\n",
        "[ 1.00598044  0.02301371]"
       ]
      },
      {
       "output_type": "stream",
       "stream": "stdout",
       "text": [
        "\n",
        "2.4 8.5\n",
        "[ 1.00955297  0.01856995]"
       ]
      },
      {
       "output_type": "stream",
       "stream": "stdout",
       "text": [
        "\n",
        "2.4 8.6\n",
        "[ 1.01249946  0.01393076]"
       ]
      },
      {
       "output_type": "stream",
       "stream": "stdout",
       "text": [
        "\n",
        "2.4 8.7\n",
        "[ 1.01485958  0.00925468]"
       ]
      },
      {
       "output_type": "stream",
       "stream": "stdout",
       "text": [
        "\n",
        "2.4 8.8\n",
        "[ 1.01668181  0.0046588 ]"
       ]
      },
      {
       "output_type": "stream",
       "stream": "stdout",
       "text": [
        "\n",
        "2.4 8.9\n",
        "[  1.01801833e+00   2.27594654e-04]"
       ]
      },
      {
       "output_type": "stream",
       "stream": "stdout",
       "text": [
        "\n",
        "2.4 9.0\n",
        "[ 1.01892193 -0.00398006]"
       ]
      },
      {
       "output_type": "stream",
       "stream": "stdout",
       "text": [
        "\n",
        "2.4 9.1\n",
        "[ 1.01944385 -0.00792526]"
       ]
      },
      {
       "output_type": "stream",
       "stream": "stdout",
       "text": [
        "\n",
        "2.4 9.2\n",
        "[ 1.01963267 -0.01158462]"
       ]
      },
      {
       "output_type": "stream",
       "stream": "stdout",
       "text": [
        "\n",
        "2.4 9.3\n",
        "[ 1.01953355 -0.01494668]"
       ]
      },
      {
       "output_type": "stream",
       "stream": "stdout",
       "text": [
        "\n",
        "2.4 9.4\n",
        "[ 1.01918791 -0.01800908]"
       ]
      },
      {
       "output_type": "stream",
       "stream": "stdout",
       "text": [
        "\n",
        "2.4 9.5\n",
        "[ 1.01863339 -0.02077627]"
       ]
      },
      {
       "output_type": "stream",
       "stream": "stdout",
       "text": [
        "\n",
        "2.4 9.6\n",
        "[ 1.01790384 -0.02325777]"
       ]
      },
      {
       "output_type": "stream",
       "stream": "stdout",
       "text": [
        "\n",
        "2.4 9.7\n",
        "[ 1.01702957 -0.0254667 ]"
       ]
      },
      {
       "output_type": "stream",
       "stream": "stdout",
       "text": [
        "\n",
        "2.4 9.8\n",
        "[ 1.01603752 -0.02741874]"
       ]
      },
      {
       "output_type": "stream",
       "stream": "stdout",
       "text": [
        "\n",
        "2.4 9.9\n",
        "[ 1.01495152 -0.02913122]"
       ]
      },
      {
       "output_type": "stream",
       "stream": "stdout",
       "text": [
        "\n",
        "2.5 0.0\n",
        "[-0.99124837  0.00149999]"
       ]
      },
      {
       "output_type": "stream",
       "stream": "stdout",
       "text": [
        "\n",
        "2.5 0.1\n",
        "[-0.99124579  0.00161431]"
       ]
      },
      {
       "output_type": "stream",
       "stream": "stdout",
       "text": [
        "\n",
        "2.5 0.2\n",
        "[-0.99121484  0.00167169]"
       ]
      },
      {
       "output_type": "stream",
       "stream": "stdout",
       "text": [
        "\n",
        "2.5 0.3\n",
        "[-0.99115546  0.00167306]"
       ]
      },
      {
       "output_type": "stream",
       "stream": "stdout",
       "text": [
        "\n",
        "2.5 0.4\n",
        "[-0.99106807  0.00161959]"
       ]
      },
      {
       "output_type": "stream",
       "stream": "stdout",
       "text": [
        "\n",
        "2.5 0.5\n",
        "[-0.99095356  0.00151264]"
       ]
      },
      {
       "output_type": "stream",
       "stream": "stdout",
       "text": [
        "\n",
        "2.5 0.6\n",
        "[-0.99081326  0.0013538 ]"
       ]
      },
      {
       "output_type": "stream",
       "stream": "stdout",
       "text": [
        "\n",
        "2.5 0.7\n",
        "[-0.99064881  0.00114482]"
       ]
      },
      {
       "output_type": "stream",
       "stream": "stdout",
       "text": [
        "\n",
        "2.5 0.8\n",
        "[ -9.90462130e-01   8.87636726e-04]"
       ]
      },
      {
       "output_type": "stream",
       "stream": "stdout",
       "text": [
        "\n",
        "2.5 0.9\n",
        "[ -9.90255353e-01   5.84389669e-04]"
       ]
      },
      {
       "output_type": "stream",
       "stream": "stdout",
       "text": [
        "\n",
        "2.5 1.0\n",
        "[ -9.90030729e-01   2.37383326e-04]"
       ]
      },
      {
       "output_type": "stream",
       "stream": "stdout",
       "text": [
        "\n",
        "2.5 1.1\n",
        "[ -9.89790566e-01  -1.50900364e-04]"
       ]
      },
      {
       "output_type": "stream",
       "stream": "stdout",
       "text": [
        "\n",
        "2.5 1.2\n",
        "[ -9.89537166e-01  -5.77816738e-04]"
       ]
      },
      {
       "output_type": "stream",
       "stream": "stdout",
       "text": [
        "\n",
        "2.5 1.3\n",
        "[-0.98927276 -0.00104057]"
       ]
      },
      {
       "output_type": "stream",
       "stream": "stdout",
       "text": [
        "\n",
        "2.5 1.4\n",
        "[-0.98899944 -0.00153625]"
       ]
      },
      {
       "output_type": "stream",
       "stream": "stdout",
       "text": [
        "\n",
        "2.5 1.5\n",
        "[-0.98871915 -0.00206183]"
       ]
      },
      {
       "output_type": "stream",
       "stream": "stdout",
       "text": [
        "\n",
        "2.5 1.6\n",
        "[-0.98843359 -0.0026142 ]"
       ]
      },
      {
       "output_type": "stream",
       "stream": "stdout",
       "text": [
        "\n",
        "2.5 1.7\n",
        "[-0.98814424 -0.00319021]"
       ]
      },
      {
       "output_type": "stream",
       "stream": "stdout",
       "text": [
        "\n",
        "2.5 1.8\n",
        "[-0.98785229 -0.00378669]"
       ]
      },
      {
       "output_type": "stream",
       "stream": "stdout",
       "text": [
        "\n",
        "2.5 1.9\n",
        "[-0.98755862 -0.00440046]"
       ]
      },
      {
       "output_type": "stream",
       "stream": "stdout",
       "text": [
        "\n",
        "2.5 2.0\n",
        "[-0.98726384 -0.00502837]"
       ]
      },
      {
       "output_type": "stream",
       "stream": "stdout",
       "text": [
        "\n",
        "2.5 2.1\n",
        "[-0.98696823 -0.00566732]"
       ]
      },
      {
       "output_type": "stream",
       "stream": "stdout",
       "text": [
        "\n",
        "2.5 2.2\n",
        "[-0.98667175 -0.00631425]"
       ]
      },
      {
       "output_type": "stream",
       "stream": "stdout",
       "text": [
        "\n",
        "2.5 2.3\n",
        "[-0.98637405 -0.00696618]"
       ]
      },
      {
       "output_type": "stream",
       "stream": "stdout",
       "text": [
        "\n",
        "2.5 2.4\n",
        "[-0.98607447 -0.00762019]"
       ]
      },
      {
       "output_type": "stream",
       "stream": "stdout",
       "text": [
        "\n",
        "2.5 2.5\n",
        "[-0.98577204 -0.00827342]"
       ]
      },
      {
       "output_type": "stream",
       "stream": "stdout",
       "text": [
        "\n",
        "2.5 2.6\n",
        "[-0.98546552 -0.00892307]"
       ]
      },
      {
       "output_type": "stream",
       "stream": "stdout",
       "text": [
        "\n",
        "2.5 2.7\n",
        "[-0.98515335 -0.00956633]"
       ]
      },
      {
       "output_type": "stream",
       "stream": "stdout",
       "text": [
        "\n",
        "2.5 2.8\n",
        "[-0.98483374 -0.01020041]"
       ]
      },
      {
       "output_type": "stream",
       "stream": "stdout",
       "text": [
        "\n",
        "2.5 2.9\n",
        "[-0.9845046  -0.01082246]"
       ]
      },
      {
       "output_type": "stream",
       "stream": "stdout",
       "text": [
        "\n",
        "2.5 3.0\n",
        "[-0.98416362 -0.01142952]"
       ]
      },
      {
       "output_type": "stream",
       "stream": "stdout",
       "text": [
        "\n",
        "2.5 3.1\n",
        "[-0.98380825 -0.01201847]"
       ]
      },
      {
       "output_type": "stream",
       "stream": "stdout",
       "text": [
        "\n",
        "2.5 3.2\n",
        "[-0.98343571 -0.01258592]"
       ]
      },
      {
       "output_type": "stream",
       "stream": "stdout",
       "text": [
        "\n",
        "2.5 3.3\n",
        "[-0.98304303 -0.01312815]"
       ]
      },
      {
       "output_type": "stream",
       "stream": "stdout",
       "text": [
        "\n",
        "2.5 3.4\n",
        "[-0.98262705 -0.01364097]"
       ]
      },
      {
       "output_type": "stream",
       "stream": "stdout",
       "text": [
        "\n",
        "2.5 3.5\n",
        "[-0.98218444 -0.01411956]"
       ]
      },
      {
       "output_type": "stream",
       "stream": "stdout",
       "text": [
        "\n",
        "2.5 3.6\n",
        "[-0.98171177 -0.01455833]"
       ]
      },
      {
       "output_type": "stream",
       "stream": "stdout",
       "text": [
        "\n",
        "2.5 3.7\n",
        "[-0.98120552 -0.01495071]"
       ]
      },
      {
       "output_type": "stream",
       "stream": "stdout",
       "text": [
        "\n",
        "2.5 3.8\n",
        "[-0.98066213 -0.01528887]"
       ]
      },
      {
       "output_type": "stream",
       "stream": "stdout",
       "text": [
        "\n",
        "2.5 3.9\n",
        "[-0.98007813 -0.01556342]"
       ]
      },
      {
       "output_type": "stream",
       "stream": "stdout",
       "text": [
        "\n",
        "2.5 4.0\n",
        "[-0.97945021 -0.01576302]"
       ]
      },
      {
       "output_type": "stream",
       "stream": "stdout",
       "text": [
        "\n",
        "2.5 4.1\n",
        "[-0.97877541 -0.01587396]"
       ]
      },
      {
       "output_type": "stream",
       "stream": "stdout",
       "text": [
        "\n",
        "2.5 4.2\n",
        "[-0.97805132 -0.01587951]"
       ]
      },
      {
       "output_type": "stream",
       "stream": "stdout",
       "text": [
        "\n",
        "2.5 4.3\n",
        "[-0.97727644 -0.01575921]"
       ]
      },
      {
       "output_type": "stream",
       "stream": "stdout",
       "text": [
        "\n",
        "2.5 4.4\n",
        "[-0.97645057 -0.01548802]"
       ]
      },
      {
       "output_type": "stream",
       "stream": "stdout",
       "text": [
        "\n",
        "2.5 4.5\n",
        "[-0.97557547 -0.01503509]"
       ]
      },
      {
       "output_type": "stream",
       "stream": "stdout",
       "text": [
        "\n",
        "2.5 4.6\n",
        "[-0.97465573 -0.0143624 ]"
       ]
      },
      {
       "output_type": "stream",
       "stream": "stdout",
       "text": [
        "\n",
        "2.5 4.7\n",
        "[-0.97370001 -0.0134229 ]"
       ]
      },
      {
       "output_type": "stream",
       "stream": "stdout",
       "text": [
        "\n",
        "2.5 4.8\n",
        "[-0.97272288 -0.01215822]"
       ]
      },
      {
       "output_type": "stream",
       "stream": "stdout",
       "text": [
        "\n",
        "2.5 4.9\n",
        "[-0.9717473  -0.01049574]"
       ]
      },
      {
       "output_type": "stream",
       "stream": "stdout",
       "text": [
        "\n",
        "2.5 5.0\n",
        "[-0.97080841 -0.00834492]"
       ]
      },
      {
       "output_type": "stream",
       "stream": "stdout",
       "text": [
        "\n",
        "2.5 5.1\n",
        "[-0.96995896 -0.00559266]"
       ]
      },
      {
       "output_type": "stream",
       "stream": "stdout",
       "text": [
        "\n",
        "2.5 5.2\n",
        "[-0.96927731 -0.00209767]"
       ]
      },
      {
       "output_type": "stream",
       "stream": "stdout",
       "text": [
        "\n",
        "2.5 5.3\n",
        "[-0.96887947  0.00231621]"
       ]
      },
      {
       "output_type": "stream",
       "stream": "stdout",
       "text": [
        "\n",
        "2.5 5.4\n",
        "[-0.9689372   0.00786703]"
       ]
      },
      {
       "output_type": "stream",
       "stream": "stdout",
       "text": [
        "\n",
        "2.5 5.5\n",
        "[-0.96970575  0.01482035]"
       ]
      },
      {
       "output_type": "stream",
       "stream": "stdout",
       "text": [
        "\n",
        "2.5 5.6\n",
        "[-0.97156647  0.02348794]"
       ]
      },
      {
       "output_type": "stream",
       "stream": "stdout",
       "text": [
        "\n",
        "2.5 5.7\n",
        "[-0.97509269  0.03420532]"
       ]
      },
      {
       "output_type": "stream",
       "stream": "stdout",
       "text": [
        "\n",
        "2.5 5.8\n",
        "[-0.98114956  0.04724995]"
       ]
      },
      {
       "output_type": "stream",
       "stream": "stdout",
       "text": [
        "\n",
        "2.5 5.9\n",
        "[-0.99103604  0.06259586]"
       ]
      },
      {
       "output_type": "stream",
       "stream": "stdout",
       "text": [
        "\n",
        "2.5 6.0\n",
        "[-1.00663884  0.07920961]"
       ]
      },
      {
       "output_type": "stream",
       "stream": "stdout",
       "text": [
        "\n",
        "2.5 6.1\n",
        "[-1.03036026  0.09301518]"
       ]
      },
      {
       "output_type": "stream",
       "stream": "stdout",
       "text": [
        "\n",
        "2.5 6.2\n",
        "[-1.06352666  0.0909386 ]"
       ]
      },
      {
       "output_type": "stream",
       "stream": "stdout",
       "text": [
        "\n",
        "2.5 6.3\n",
        "[-1.09655353  0.03483306]"
       ]
      },
      {
       "output_type": "stream",
       "stream": "stdout",
       "text": [
        "\n",
        "2.5 6.4\n",
        "[-1.05727526 -0.15344947]"
       ]
      },
      {
       "output_type": "stream",
       "stream": "stdout",
       "text": [
        "\n",
        "2.5 6.5\n",
        "[-0.62960703 -0.31097835]"
       ]
      },
      {
       "output_type": "stream",
       "stream": "stdout",
       "text": [
        "\n",
        "2.5 6.6\n",
        "[ 0.43272292  0.24325303]"
       ]
      },
      {
       "output_type": "stream",
       "stream": "stdout",
       "text": [
        "\n",
        "2.5 6.7\n",
        "[ 1.03805283  0.18458389]"
       ]
      },
      {
       "output_type": "stream",
       "stream": "stdout",
       "text": [
        "\n",
        "2.5 6.8\n",
        "[ 1.09377498 -0.04803512]"
       ]
      },
      {
       "output_type": "stream",
       "stream": "stdout",
       "text": [
        "\n",
        "2.5 6.9\n",
        "[ 1.0443658  -0.09636086]"
       ]
      },
      {
       "output_type": "stream",
       "stream": "stdout",
       "text": [
        "\n",
        "2.5 7.0\n",
        "[ 1.00269204 -0.07718757]"
       ]
      },
      {
       "output_type": "stream",
       "stream": "stdout",
       "text": [
        "\n",
        "2.5 7.1\n",
        "[ 0.9788625  -0.04622767]"
       ]
      },
      {
       "output_type": "stream",
       "stream": "stdout",
       "text": [
        "\n",
        "2.5 7.2\n",
        "[ 0.96802408 -0.01885448]"
       ]
      },
      {
       "output_type": "stream",
       "stream": "stdout",
       "text": [
        "\n",
        "2.5 7.3\n",
        "[ 0.96524511  0.00191442]"
       ]
      },
      {
       "output_type": "stream",
       "stream": "stdout",
       "text": [
        "\n",
        "2.5 7.4\n",
        "[ 0.96714509  0.01641599]"
       ]
      },
      {
       "output_type": "stream",
       "stream": "stdout",
       "text": [
        "\n",
        "2.5 7.5\n",
        "[ 0.97158186  0.02574622]"
       ]
      },
      {
       "output_type": "stream",
       "stream": "stdout",
       "text": [
        "\n",
        "2.5 7.6\n",
        "[ 0.97722745  0.03102958]"
       ]
      },
      {
       "output_type": "stream",
       "stream": "stdout",
       "text": [
        "\n",
        "2.5 7.7\n",
        "[ 0.98326799  0.03323401]"
       ]
      },
      {
       "output_type": "stream",
       "stream": "stdout",
       "text": [
        "\n",
        "2.5 7.8\n",
        "[ 0.98921295  0.03314626]"
       ]
      },
      {
       "output_type": "stream",
       "stream": "stdout",
       "text": [
        "\n",
        "2.5 7.9\n",
        "[ 0.99477629  0.03139105]"
       ]
      },
      {
       "output_type": "stream",
       "stream": "stdout",
       "text": [
        "\n",
        "2.5 8.0\n",
        "[ 0.99980204  0.02845885]"
       ]
      },
      {
       "output_type": "stream",
       "stream": "stdout",
       "text": [
        "\n",
        "2.5 8.1\n",
        "[ 1.00421707  0.02473187]"
       ]
      },
      {
       "output_type": "stream",
       "stream": "stdout",
       "text": [
        "\n",
        "2.5 8.2\n",
        "[ 1.00800074  0.02050585]"
       ]
      },
      {
       "output_type": "stream",
       "stream": "stdout",
       "text": [
        "\n",
        "2.5 8.3\n",
        "[ 1.0111651   0.01600779]"
       ]
      },
      {
       "output_type": "stream",
       "stream": "stdout",
       "text": [
        "\n",
        "2.5 8.4\n",
        "[ 1.01374194  0.01141005]"
       ]
      },
      {
       "output_type": "stream",
       "stream": "stdout",
       "text": [
        "\n",
        "2.5 8.5\n",
        "[ 1.01577425  0.00684165]"
       ]
      },
      {
       "output_type": "stream",
       "stream": "stdout",
       "text": [
        "\n",
        "2.5 8.6\n",
        "[ 1.01731054  0.00239733]"
       ]
      },
      {
       "output_type": "stream",
       "stream": "stdout",
       "text": [
        "\n",
        "2.5 8.7\n",
        "[ 1.01840119 -0.00185526]"
       ]
      },
      {
       "output_type": "stream",
       "stream": "stdout",
       "text": [
        "\n",
        "2.5 8.8\n",
        "[ 1.01909606 -0.00586977]"
       ]
      },
      {
       "output_type": "stream",
       "stream": "stdout",
       "text": [
        "\n",
        "2.5 8.9\n",
        "[ 1.01944302 -0.00961653]"
       ]
      },
      {
       "output_type": "stream",
       "stream": "stdout",
       "text": [
        "\n",
        "2.5 9.0\n",
        "[ 1.01948703 -0.01307878]"
       ]
      },
      {
       "output_type": "stream",
       "stream": "stdout",
       "text": [
        "\n",
        "2.5 9.1\n",
        "[ 1.01926972 -0.01624973]"
       ]
      },
      {
       "output_type": "stream",
       "stream": "stdout",
       "text": [
        "\n",
        "2.5 9.2\n",
        "[ 1.01882915 -0.0191302 ]"
       ]
      },
      {
       "output_type": "stream",
       "stream": "stdout",
       "text": [
        "\n",
        "2.5 9.3\n",
        "[ 1.01819981 -0.02172666]"
       ]
      },
      {
       "output_type": "stream",
       "stream": "stdout",
       "text": [
        "\n",
        "2.5 9.4\n",
        "[ 1.01741273 -0.02404977]"
       ]
      },
      {
       "output_type": "stream",
       "stream": "stdout",
       "text": [
        "\n",
        "2.5 9.5\n",
        "[ 1.01649563 -0.02611321]"
       ]
      },
      {
       "output_type": "stream",
       "stream": "stdout",
       "text": [
        "\n",
        "2.5 9.6\n",
        "[ 1.01547318 -0.02793269]"
       ]
      },
      {
       "output_type": "stream",
       "stream": "stdout",
       "text": [
        "\n",
        "2.5 9.7\n",
        "[ 1.0143672  -0.02952526]"
       ]
      },
      {
       "output_type": "stream",
       "stream": "stdout",
       "text": [
        "\n",
        "2.5 9.8\n",
        "[ 1.01319693 -0.03090875]"
       ]
      },
      {
       "output_type": "stream",
       "stream": "stdout",
       "text": [
        "\n",
        "2.5 9.9\n",
        "[ 1.01197928 -0.03210132]"
       ]
      },
      {
       "output_type": "stream",
       "stream": "stdout",
       "text": [
        "\n",
        "2.6 0.0\n",
        "[-0.98853686 -0.00557195]"
       ]
      },
      {
       "output_type": "stream",
       "stream": "stdout",
       "text": [
        "\n",
        "2.6 0.1\n",
        "[-0.98849378 -0.00548008]"
       ]
      },
      {
       "output_type": "stream",
       "stream": "stdout",
       "text": [
        "\n",
        "2.6 0.2\n",
        "[-0.98843863 -0.00543084]"
       ]
      },
      {
       "output_type": "stream",
       "stream": "stdout",
       "text": [
        "\n",
        "2.6 0.3\n",
        "[-0.98837107 -0.00542381]"
       ]
      },
      {
       "output_type": "stream",
       "stream": "stdout",
       "text": [
        "\n",
        "2.6 0.4\n",
        "[-0.98829097 -0.0054583 ]"
       ]
      },
      {
       "output_type": "stream",
       "stream": "stdout",
       "text": [
        "\n",
        "2.6 0.5\n",
        "[-0.98819835 -0.00553336]"
       ]
      },
      {
       "output_type": "stream",
       "stream": "stdout",
       "text": [
        "\n",
        "2.6 0.6\n",
        "[-0.98809343 -0.00564783]"
       ]
      },
      {
       "output_type": "stream",
       "stream": "stdout",
       "text": [
        "\n",
        "2.6 0.7\n",
        "[-0.98797655 -0.00580032]"
       ]
      },
      {
       "output_type": "stream",
       "stream": "stdout",
       "text": [
        "\n",
        "2.6 0.8\n",
        "[-0.98784815 -0.00598925]"
       ]
      },
      {
       "output_type": "stream",
       "stream": "stdout",
       "text": [
        "\n",
        "2.6 0.9\n",
        "[-0.98770876 -0.00621287]"
       ]
      },
      {
       "output_type": "stream",
       "stream": "stdout",
       "text": [
        "\n",
        "2.6 1.0\n",
        "[-0.98755895 -0.00646929]"
       ]
      },
      {
       "output_type": "stream",
       "stream": "stdout",
       "text": [
        "\n",
        "2.6 1.1\n",
        "[-0.98739928 -0.00675648]"
       ]
      },
      {
       "output_type": "stream",
       "stream": "stdout",
       "text": [
        "\n",
        "2.6 1.2\n",
        "[-0.98723033 -0.00707231]"
       ]
      },
      {
       "output_type": "stream",
       "stream": "stdout",
       "text": [
        "\n",
        "2.6 1.3\n",
        "[-0.98705257 -0.00741454]"
       ]
      },
      {
       "output_type": "stream",
       "stream": "stdout",
       "text": [
        "\n",
        "2.6 1.4\n",
        "[-0.98686645 -0.00778087]"
       ]
      },
      {
       "output_type": "stream",
       "stream": "stdout",
       "text": [
        "\n",
        "2.6 1.5\n",
        "[-0.98667227 -0.00816893]"
       ]
      },
      {
       "output_type": "stream",
       "stream": "stdout",
       "text": [
        "\n",
        "2.6 1.6\n",
        "[-0.98647021 -0.00857631]"
       ]
      },
      {
       "output_type": "stream",
       "stream": "stdout",
       "text": [
        "\n",
        "2.6 1.7\n",
        "[-0.98626032 -0.00900056]"
       ]
      },
      {
       "output_type": "stream",
       "stream": "stdout",
       "text": [
        "\n",
        "2.6 1.8\n",
        "[-0.98604246 -0.00943922]"
       ]
      },
      {
       "output_type": "stream",
       "stream": "stdout",
       "text": [
        "\n",
        "2.6 1.9\n",
        "[-0.98581632 -0.00988978]"
       ]
      },
      {
       "output_type": "stream",
       "stream": "stdout",
       "text": [
        "\n",
        "2.6 2.0\n",
        "[-0.9855814  -0.01034973]"
       ]
      },
      {
       "output_type": "stream",
       "stream": "stdout",
       "text": [
        "\n",
        "2.6 2.1\n",
        "[-0.98533698 -0.01081653]"
       ]
      },
      {
       "output_type": "stream",
       "stream": "stdout",
       "text": [
        "\n",
        "2.6 2.2\n",
        "[-0.98508217 -0.01128761]"
       ]
      },
      {
       "output_type": "stream",
       "stream": "stdout",
       "text": [
        "\n",
        "2.6 2.3\n",
        "[-0.98481583 -0.01176032]"
       ]
      },
      {
       "output_type": "stream",
       "stream": "stdout",
       "text": [
        "\n",
        "2.6 2.4\n",
        "[-0.98453664 -0.01223196]"
       ]
      },
      {
       "output_type": "stream",
       "stream": "stdout",
       "text": [
        "\n",
        "2.6 2.5\n",
        "[-0.98424304 -0.01269972]"
       ]
      },
      {
       "output_type": "stream",
       "stream": "stdout",
       "text": [
        "\n",
        "2.6 2.6\n",
        "[-0.98393328 -0.01316062]"
       ]
      },
      {
       "output_type": "stream",
       "stream": "stdout",
       "text": [
        "\n",
        "2.6 2.7\n",
        "[-0.9836054  -0.01361148]"
       ]
      },
      {
       "output_type": "stream",
       "stream": "stdout",
       "text": [
        "\n",
        "2.6 2.8\n",
        "[-0.98325723 -0.01404887]"
       ]
      },
      {
       "output_type": "stream",
       "stream": "stdout",
       "text": [
        "\n",
        "2.6 2.9\n",
        "[-0.98288641 -0.01446898]"
       ]
      },
      {
       "output_type": "stream",
       "stream": "stdout",
       "text": [
        "\n",
        "2.6 3.0\n",
        "[-0.98249042 -0.01486758]"
       ]
      },
      {
       "output_type": "stream",
       "stream": "stdout",
       "text": [
        "\n",
        "2.6 3.1\n",
        "[-0.98206658 -0.01523984]"
       ]
      },
      {
       "output_type": "stream",
       "stream": "stdout",
       "text": [
        "\n",
        "2.6 3.2\n",
        "[-0.98161205 -0.01558024]"
       ]
      },
      {
       "output_type": "stream",
       "stream": "stdout",
       "text": [
        "\n",
        "2.6 3.3\n",
        "[-0.98112393 -0.01588233]"
       ]
      },
      {
       "output_type": "stream",
       "stream": "stdout",
       "text": [
        "\n",
        "2.6 3.4\n",
        "[-0.98059928 -0.01613859]"
       ]
      },
      {
       "output_type": "stream",
       "stream": "stdout",
       "text": [
        "\n",
        "2.6 3.5\n",
        "[-0.98003517 -0.01634007]"
       ]
      },
      {
       "output_type": "stream",
       "stream": "stdout",
       "text": [
        "\n",
        "2.6 3.6\n",
        "[-0.9794288  -0.01647616]"
       ]
      },
      {
       "output_type": "stream",
       "stream": "stdout",
       "text": [
        "\n",
        "2.6 3.7\n",
        "[-0.97877766 -0.01653413]"
       ]
      },
      {
       "output_type": "stream",
       "stream": "stdout",
       "text": [
        "\n",
        "2.6 3.8\n",
        "[-0.97807968 -0.01649862]"
       ]
      },
      {
       "output_type": "stream",
       "stream": "stdout",
       "text": [
        "\n",
        "2.6 3.9\n",
        "[-0.97733352 -0.0163511 ]"
       ]
      },
      {
       "output_type": "stream",
       "stream": "stdout",
       "text": [
        "\n",
        "2.6 4.0\n",
        "[-0.97653892 -0.01606904]"
       ]
      },
      {
       "output_type": "stream",
       "stream": "stdout",
       "text": [
        "\n",
        "2.6 4.1\n",
        "[-0.97569725 -0.01562497]"
       ]
      },
      {
       "output_type": "stream",
       "stream": "stdout",
       "text": [
        "\n",
        "2.6 4.2\n",
        "[-0.97481215 -0.01498532]"
       ]
      },
      {
       "output_type": "stream",
       "stream": "stdout",
       "text": [
        "\n",
        "2.6 4.3\n",
        "[-0.97389064 -0.01410887]"
       ]
      },
      {
       "output_type": "stream",
       "stream": "stdout",
       "text": [
        "\n",
        "2.6 4.4\n",
        "[-0.97294444 -0.0129449 ]"
       ]
      },
      {
       "output_type": "stream",
       "stream": "stdout",
       "text": [
        "\n",
        "2.6 4.5\n",
        "[-0.97199205 -0.01143078]"
       ]
      },
      {
       "output_type": "stream",
       "stream": "stdout",
       "text": [
        "\n",
        "2.6 4.6\n",
        "[-0.97106162 -0.00948897]"
       ]
      },
      {
       "output_type": "stream",
       "stream": "stdout",
       "text": [
        "\n",
        "2.6 4.7\n",
        "[-0.97019507 -0.00702329]"
       ]
      },
      {
       "output_type": "stream",
       "stream": "stdout",
       "text": [
        "\n",
        "2.6 4.8\n",
        "[-0.96945426 -0.00391429]"
       ]
      },
      {
       "output_type": "stream",
       "stream": "stdout",
       "text": [
        "\n",
        "2.6 4.9\n",
        "[ -9.68929796e-01  -1.37270559e-05]"
       ]
      },
      {
       "output_type": "stream",
       "stream": "stdout",
       "text": [
        "\n",
        "2.6 5.0\n",
        "[-0.96875444  0.00486159]"
       ]
      },
      {
       "output_type": "stream",
       "stream": "stdout",
       "text": [
        "\n",
        "2.6 5.1\n",
        "[-0.96912302  0.01093569]"
       ]
      },
      {
       "output_type": "stream",
       "stream": "stdout",
       "text": [
        "\n",
        "2.6 5.2\n",
        "[-0.97032287  0.01847623]"
       ]
      },
      {
       "output_type": "stream",
       "stream": "stdout",
       "text": [
        "\n",
        "2.6 5.3\n",
        "[-0.97278016  0.0277868 ]"
       ]
      },
      {
       "output_type": "stream",
       "stream": "stdout",
       "text": [
        "\n",
        "2.6 5.4\n",
        "[-0.9771305   0.03916977]"
       ]
      },
      {
       "output_type": "stream",
       "stream": "stdout",
       "text": [
        "\n",
        "2.6 5.5\n",
        "[-0.98432297  0.05280938]"
       ]
      },
      {
       "output_type": "stream",
       "stream": "stdout",
       "text": [
        "\n",
        "2.6 5.6\n",
        "[-0.99575779  0.06844045]"
       ]
      },
      {
       "output_type": "stream",
       "stream": "stdout",
       "text": [
        "\n",
        "2.6 5.7\n",
        "[-1.01339478  0.08442269]"
       ]
      },
      {
       "output_type": "stream",
       "stream": "stdout",
       "text": [
        "\n",
        "2.6 5.8\n",
        "[-1.03945549  0.09511819]"
       ]
      },
      {
       "output_type": "stream",
       "stream": "stdout",
       "text": [
        "\n",
        "2.6 5.9\n",
        "[-1.07381419  0.0834571 ]"
       ]
      },
      {
       "output_type": "stream",
       "stream": "stdout",
       "text": [
        "\n",
        "2.6 6.0\n",
        "[-1.09957116  0.00298559]"
       ]
      },
      {
       "output_type": "stream",
       "stream": "stdout",
       "text": [
        "\n",
        "2.6 6.1\n",
        "[-1.01344085 -0.21571489]"
       ]
      },
      {
       "output_type": "stream",
       "stream": "stdout",
       "text": [
        "\n",
        "2.6 6.2\n",
        "[-0.44785572 -0.24986596]"
       ]
      },
      {
       "output_type": "stream",
       "stream": "stdout",
       "text": [
        "\n",
        "2.6 6.3\n",
        "[ 0.60490781  0.30509815]"
       ]
      },
      {
       "output_type": "stream",
       "stream": "stdout",
       "text": [
        "\n",
        "2.6 6.4\n",
        "[ 1.06668984  0.13541799]"
       ]
      },
      {
       "output_type": "stream",
       "stream": "stdout",
       "text": [
        "\n",
        "2.6 6.5\n",
        "[ 1.08865866 -0.06224644]"
       ]
      },
      {
       "output_type": "stream",
       "stream": "stdout",
       "text": [
        "\n",
        "2.6 6.6\n",
        "[ 1.0390075  -0.09596563]"
       ]
      },
      {
       "output_type": "stream",
       "stream": "stdout",
       "text": [
        "\n",
        "2.6 6.7\n",
        "[ 1.00003766 -0.07464873]"
       ]
      },
      {
       "output_type": "stream",
       "stream": "stdout",
       "text": [
        "\n",
        "2.6 6.8\n",
        "[ 0.97789078 -0.04437212]"
       ]
      },
      {
       "output_type": "stream",
       "stream": "stdout",
       "text": [
        "\n",
        "2.6 6.9\n",
        "[ 0.96781293 -0.01792703]"
       ]
      },
      {
       "output_type": "stream",
       "stream": "stdout",
       "text": [
        "\n",
        "2.6 7.0\n",
        "[ 0.96527215  0.00218238]"
       ]
      },
      {
       "output_type": "stream",
       "stream": "stdout",
       "text": [
        "\n",
        "2.6 7.1\n",
        "[ 0.9671552   0.01631703]"
       ]
      },
      {
       "output_type": "stream",
       "stream": "stdout",
       "text": [
        "\n",
        "2.6 7.2\n",
        "[ 0.97146927  0.02550233]"
       ]
      },
      {
       "output_type": "stream",
       "stream": "stdout",
       "text": [
        "\n",
        "2.6 7.3\n",
        "[ 0.97696468  0.03078997]"
       ]
      },
      {
       "output_type": "stream",
       "stream": "stdout",
       "text": [
        "\n",
        "2.6 7.4\n",
        "[ 0.98286625  0.03309081]"
       ]
      },
      {
       "output_type": "stream",
       "stream": "stdout",
       "text": [
        "\n",
        "2.6 7.5\n",
        "[ 0.98870061  0.03315037]"
       ]
      },
      {
       "output_type": "stream",
       "stream": "stdout",
       "text": [
        "\n",
        "2.6 7.6\n",
        "[ 0.99418731  0.03156474]"
       ]
      },
      {
       "output_type": "stream",
       "stream": "stdout",
       "text": [
        "\n",
        "2.6 7.7\n",
        "[ 0.99916996  0.02880512]"
       ]
      },
      {
       "output_type": "stream",
       "stream": "stdout",
       "text": [
        "\n",
        "2.6 7.8\n",
        "[ 1.00357209  0.02524124]"
       ]
      },
      {
       "output_type": "stream",
       "stream": "stdout",
       "text": [
        "\n",
        "2.6 7.9\n",
        "[ 1.00736843  0.02116124]"
       ]
      },
      {
       "output_type": "stream",
       "stream": "stdout",
       "text": [
        "\n",
        "2.6 8.0\n",
        "[ 1.01056614  0.01678796]"
       ]
      },
      {
       "output_type": "stream",
       "stream": "stdout",
       "text": [
        "\n",
        "2.6 8.1\n",
        "[ 1.0131923   0.01229205]"
       ]
      },
      {
       "output_type": "stream",
       "stream": "stdout",
       "text": [
        "\n",
        "2.6 8.2\n",
        "[ 1.01528564  0.00780248]"
       ]
      },
      {
       "output_type": "stream",
       "stream": "stdout",
       "text": [
        "\n",
        "2.6 8.3\n",
        "[ 1.01689096  0.00341503]"
       ]
      },
      {
       "output_type": "stream",
       "stream": "stdout",
       "text": [
        "\n",
        "2.6 8.4\n",
        "[  1.01805551e+00  -8.00909321e-04]"
       ]
      },
      {
       "output_type": "stream",
       "stream": "stdout",
       "text": [
        "\n",
        "2.6 8.5\n",
        "[ 1.01882654 -0.00479685]"
       ]
      },
      {
       "output_type": "stream",
       "stream": "stdout",
       "text": [
        "\n",
        "2.6 8.6\n",
        "[ 1.01924982 -0.00854076]"
       ]
      },
      {
       "output_type": "stream",
       "stream": "stdout",
       "text": [
        "\n",
        "2.6 8.7\n",
        "[ 1.01936864 -0.01201353]"
       ]
      },
      {
       "output_type": "stream",
       "stream": "stdout",
       "text": [
        "\n",
        "2.6 8.8\n",
        "[ 1.01922335 -0.01520604]"
       ]
      },
      {
       "output_type": "stream",
       "stream": "stdout",
       "text": [
        "\n",
        "2.6 8.9\n",
        "[ 1.01885103 -0.0181169 ]"
       ]
      },
      {
       "output_type": "stream",
       "stream": "stdout",
       "text": [
        "\n",
        "2.6 9.0\n",
        "[ 1.01828549 -0.02075054]"
       ]
      },
      {
       "output_type": "stream",
       "stream": "stdout",
       "text": [
        "\n",
        "2.6 9.1\n",
        "[ 1.01755727 -0.02311577]"
       ]
      },
      {
       "output_type": "stream",
       "stream": "stdout",
       "text": [
        "\n",
        "2.6 9.2\n",
        "[ 1.01669379 -0.02522458]"
       ]
      },
      {
       "output_type": "stream",
       "stream": "stdout",
       "text": [
        "\n",
        "2.6 9.3\n",
        "[ 1.01571956 -0.02709119]"
       ]
      },
      {
       "output_type": "stream",
       "stream": "stdout",
       "text": [
        "\n",
        "2.6 9.4\n",
        "[ 1.01465636 -0.02873136]"
       ]
      },
      {
       "output_type": "stream",
       "stream": "stdout",
       "text": [
        "\n",
        "2.6 9.5\n",
        "[ 1.01352346 -0.03016174]"
       ]
      },
      {
       "output_type": "stream",
       "stream": "stdout",
       "text": [
        "\n",
        "2.6 9.6\n",
        "[ 1.01233788 -0.03139952]"
       ]
      },
      {
       "output_type": "stream",
       "stream": "stdout",
       "text": [
        "\n",
        "2.6 9.7\n",
        "[ 1.01111455 -0.03246202]"
       ]
      },
      {
       "output_type": "stream",
       "stream": "stdout",
       "text": [
        "\n",
        "2.6 9.8\n",
        "[ 1.00986659 -0.03336649]"
       ]
      },
      {
       "output_type": "stream",
       "stream": "stdout",
       "text": [
        "\n",
        "2.6 9.9\n",
        "[ 1.00860546 -0.03412989]"
       ]
      },
      {
       "output_type": "stream",
       "stream": "stdout",
       "text": [
        "\n",
        "2.7 0.0\n",
        "[-0.9870577  -0.01140066]"
       ]
      },
      {
       "output_type": "stream",
       "stream": "stdout",
       "text": [
        "\n",
        "2.7 0.1\n",
        "[-0.98698719 -0.01133325]"
       ]
      },
      {
       "output_type": "stream",
       "stream": "stdout",
       "text": [
        "\n",
        "2.7 0.2\n",
        "[-0.9869097  -0.01129561]"
       ]
      },
      {
       "output_type": "stream",
       "stream": "stdout",
       "text": [
        "\n",
        "2.7 0.3\n",
        "[-0.98682489 -0.01128751]"
       ]
      },
      {
       "output_type": "stream",
       "stream": "stdout",
       "text": [
        "\n",
        "2.7 0.4\n",
        "[-0.98673248 -0.01130853]"
       ]
      },
      {
       "output_type": "stream",
       "stream": "stdout",
       "text": [
        "\n",
        "2.7 0.5\n",
        "[-0.98663219 -0.01135806]"
       ]
      },
      {
       "output_type": "stream",
       "stream": "stdout",
       "text": [
        "\n",
        "2.7 0.6\n",
        "[-0.98652377 -0.01143531]"
       ]
      },
      {
       "output_type": "stream",
       "stream": "stdout",
       "text": [
        "\n",
        "2.7 0.7\n",
        "[-0.98640699 -0.01153933]"
       ]
      },
      {
       "output_type": "stream",
       "stream": "stdout",
       "text": [
        "\n",
        "2.7 0.8\n",
        "[-0.98628159 -0.01166903]"
       ]
      },
      {
       "output_type": "stream",
       "stream": "stdout",
       "text": [
        "\n",
        "2.7 0.9\n",
        "[-0.98614734 -0.01182317]"
       ]
      },
      {
       "output_type": "stream",
       "stream": "stdout",
       "text": [
        "\n",
        "2.7 1.0\n",
        "[-0.98600395 -0.01200036]"
       ]
      },
      {
       "output_type": "stream",
       "stream": "stdout",
       "text": [
        "\n",
        "2.7 1.1\n",
        "[-0.9858511  -0.01219911]"
       ]
      },
      {
       "output_type": "stream",
       "stream": "stdout",
       "text": [
        "\n",
        "2.7 1.2\n",
        "[-0.98568843 -0.0124178 ]"
       ]
      },
      {
       "output_type": "stream",
       "stream": "stdout",
       "text": [
        "\n",
        "2.7 1.3\n",
        "[-0.9855155  -0.01265473]"
       ]
      },
      {
       "output_type": "stream",
       "stream": "stdout",
       "text": [
        "\n",
        "2.7 1.4\n",
        "[-0.98533179 -0.01290806]"
       ]
      },
      {
       "output_type": "stream",
       "stream": "stdout",
       "text": [
        "\n",
        "2.7 1.5\n",
        "[-0.98513669 -0.01317588]"
       ]
      },
      {
       "output_type": "stream",
       "stream": "stdout",
       "text": [
        "\n",
        "2.7 1.6\n",
        "[-0.98492947 -0.01345616]"
       ]
      },
      {
       "output_type": "stream",
       "stream": "stdout",
       "text": [
        "\n",
        "2.7 1.7\n",
        "[-0.9847093  -0.01374676]"
       ]
      },
      {
       "output_type": "stream",
       "stream": "stdout",
       "text": [
        "\n",
        "2.7 1.8\n",
        "[-0.98447521 -0.01404543]"
       ]
      },
      {
       "output_type": "stream",
       "stream": "stdout",
       "text": [
        "\n",
        "2.7 1.9\n",
        "[-0.98422608 -0.01434978]"
       ]
      },
      {
       "output_type": "stream",
       "stream": "stdout",
       "text": [
        "\n",
        "2.7 2.0\n",
        "[-0.98396068 -0.01465727]"
       ]
      },
      {
       "output_type": "stream",
       "stream": "stdout",
       "text": [
        "\n",
        "2.7 2.1\n",
        "[-0.9836776  -0.01496517]"
       ]
      },
      {
       "output_type": "stream",
       "stream": "stdout",
       "text": [
        "\n",
        "2.7 2.2\n",
        "[-0.98337528 -0.01527052]"
       ]
      },
      {
       "output_type": "stream",
       "stream": "stdout",
       "text": [
        "\n",
        "2.7 2.3\n",
        "[-0.98305202 -0.0155701 ]"
       ]
      },
      {
       "output_type": "stream",
       "stream": "stdout",
       "text": [
        "\n",
        "2.7 2.4\n",
        "[-0.98270596 -0.01586033]"
       ]
      },
      {
       "output_type": "stream",
       "stream": "stdout",
       "text": [
        "\n",
        "2.7 2.5\n",
        "[-0.9823351  -0.01613726]"
       ]
      },
      {
       "output_type": "stream",
       "stream": "stdout",
       "text": [
        "\n",
        "2.7 2.6\n",
        "[-0.9819373 -0.0163964]"
       ]
      },
      {
       "output_type": "stream",
       "stream": "stdout",
       "text": [
        "\n",
        "2.7 2.7\n",
        "[-0.98151032 -0.01663267]"
       ]
      },
      {
       "output_type": "stream",
       "stream": "stdout",
       "text": [
        "\n",
        "2.7 2.8\n",
        "[-0.98105181 -0.01684024]"
       ]
      },
      {
       "output_type": "stream",
       "stream": "stdout",
       "text": [
        "\n",
        "2.7 2.9\n",
        "[-0.98055938 -0.01701235]"
       ]
      },
      {
       "output_type": "stream",
       "stream": "stdout",
       "text": [
        "\n",
        "2.7 3.0\n",
        "[-0.98003064 -0.01714111]"
       ]
      },
      {
       "output_type": "stream",
       "stream": "stdout",
       "text": [
        "\n",
        "2.7 3.1\n",
        "[-0.97946326 -0.01721727]"
       ]
      },
      {
       "output_type": "stream",
       "stream": "stdout",
       "text": [
        "\n",
        "2.7 3.2\n",
        "[-0.97885511 -0.01722989]"
       ]
      },
      {
       "output_type": "stream",
       "stream": "stdout",
       "text": [
        "\n",
        "2.7 3.3\n",
        "[-0.97820435 -0.01716596]"
       ]
      },
      {
       "output_type": "stream",
       "stream": "stdout",
       "text": [
        "\n",
        "2.7 3.4\n",
        "[-0.97750966 -0.01700998]"
       ]
      },
      {
       "output_type": "stream",
       "stream": "stdout",
       "text": [
        "\n",
        "2.7 3.5\n",
        "[-0.9767705  -0.01674331]"
       ]
      },
      {
       "output_type": "stream",
       "stream": "stdout",
       "text": [
        "\n",
        "2.7 3.6\n",
        "[-0.97598743 -0.01634354]"
       ]
      },
      {
       "output_type": "stream",
       "stream": "stdout",
       "text": [
        "\n",
        "2.7 3.7\n",
        "[-0.97516268 -0.01578356]"
       ]
      },
      {
       "output_type": "stream",
       "stream": "stdout",
       "text": [
        "\n",
        "2.7 3.8\n",
        "[-0.97430078 -0.01503047]"
       ]
      },
      {
       "output_type": "stream",
       "stream": "stdout",
       "text": [
        "\n",
        "2.7 3.9\n",
        "[-0.97340956 -0.01404421]"
       ]
      },
      {
       "output_type": "stream",
       "stream": "stdout",
       "text": [
        "\n",
        "2.7 4.0\n",
        "[-0.9725015  -0.01277585]"
       ]
      },
      {
       "output_type": "stream",
       "stream": "stdout",
       "text": [
        "\n",
        "2.7 4.1\n",
        "[-0.97159558 -0.0111654 ]"
       ]
      },
      {
       "output_type": "stream",
       "stream": "stdout",
       "text": [
        "\n",
        "2.7 4.2\n",
        "[-0.97072002 -0.00913921]"
       ]
      },
      {
       "output_type": "stream",
       "stream": "stdout",
       "text": [
        "\n",
        "2.7 4.3\n",
        "[-0.96991607 -0.00660656]"
       ]
      },
      {
       "output_type": "stream",
       "stream": "stdout",
       "text": [
        "\n",
        "2.7 4.4\n",
        "[-0.96924356 -0.0034557 ]"
       ]
      },
      {
       "output_type": "stream",
       "stream": "stdout",
       "text": [
        "\n",
        "2.7 4.5\n",
        "[ -9.68788949e-01   4.50964038e-04]"
       ]
      },
      {
       "output_type": "stream",
       "stream": "stdout",
       "text": [
        "\n",
        "2.7 4.6\n",
        "[-0.96867714  0.00528203]"
       ]
      },
      {
       "output_type": "stream",
       "stream": "stdout",
       "text": [
        "\n",
        "2.7 4.7\n",
        "[-0.96908908  0.01124197]"
       ]
      },
      {
       "output_type": "stream",
       "stream": "stdout",
       "text": [
        "\n",
        "2.7 4.8\n",
        "[-0.97028812  0.01857309]"
       ]
      },
      {
       "output_type": "stream",
       "stream": "stdout",
       "text": [
        "\n",
        "2.7 4.9\n",
        "[-0.97265967  0.02754851]"
       ]
      },
      {
       "output_type": "stream",
       "stream": "stdout",
       "text": [
        "\n",
        "2.7 5.0\n",
        "[-0.97677077  0.03844079]"
       ]
      },
      {
       "output_type": "stream",
       "stream": "stdout",
       "text": [
        "\n",
        "2.7 5.1\n",
        "[-0.98345692  0.05142696]"
       ]
      },
      {
       "output_type": "stream",
       "stream": "stdout",
       "text": [
        "\n",
        "2.7 5.2\n",
        "[-0.99393723  0.06632799]"
       ]
      },
      {
       "output_type": "stream",
       "stream": "stdout",
       "text": [
        "\n",
        "2.7 5.3\n",
        "[-1.00991645  0.08190676]"
       ]
      },
      {
       "output_type": "stream",
       "stream": "stdout",
       "text": [
        "\n",
        "2.7 5.4\n",
        "[-1.03342966  0.09395181]"
       ]
      },
      {
       "output_type": "stream",
       "stream": "stdout",
       "text": [
        "\n",
        "2.7 5.5\n",
        "[-1.06525337  0.09000456]"
       ]
      },
      {
       "output_type": "stream",
       "stream": "stdout",
       "text": [
        "\n",
        "2.7 5.6\n",
        "[-1.09631778  0.03610709]"
       ]
      },
      {
       "output_type": "stream",
       "stream": "stdout",
       "text": [
        "\n",
        "2.7 5.7\n",
        "[-1.06671517 -0.13510445]"
       ]
      },
      {
       "output_type": "stream",
       "stream": "stdout",
       "text": [
        "\n",
        "2.7 5.8\n",
        "[-0.72496387 -0.32474164]"
       ]
      },
      {
       "output_type": "stream",
       "stream": "stdout",
       "text": [
        "\n",
        "2.7 5.9\n",
        "[ 0.23381413  0.14080149]"
       ]
      },
      {
       "output_type": "stream",
       "stream": "stdout",
       "text": [
        "\n",
        "2.7 6.0\n",
        "[ 0.96716365  0.25876134]"
       ]
      },
      {
       "output_type": "stream",
       "stream": "stdout",
       "text": [
        "\n",
        "2.7 6.1\n",
        "[ 1.09978328 -0.00319593]"
       ]
      },
      {
       "output_type": "stream",
       "stream": "stdout",
       "text": [
        "\n",
        "2.7 6.2\n",
        "[ 1.06256511 -0.0922369 ]"
       ]
      },
      {
       "output_type": "stream",
       "stream": "stdout",
       "text": [
        "\n",
        "2.7 6.3\n",
        "[ 1.01718744 -0.08802502]"
       ]
      },
      {
       "output_type": "stream",
       "stream": "stdout",
       "text": [
        "\n",
        "2.7 6.4\n",
        "[ 0.98776294 -0.06030263]"
       ]
      },
      {
       "output_type": "stream",
       "stream": "stdout",
       "text": [
        "\n",
        "2.7 6.5\n",
        "[ 0.97226984 -0.03195691]"
       ]
      },
      {
       "output_type": "stream",
       "stream": "stdout",
       "text": [
        "\n",
        "2.7 6.6\n",
        "[ 0.96608363 -0.00886861]"
       ]
      },
      {
       "output_type": "stream",
       "stream": "stdout",
       "text": [
        "\n",
        "2.7 6.7\n",
        "[ 0.96562914  0.00823563]"
       ]
      },
      {
       "output_type": "stream",
       "stream": "stdout",
       "text": [
        "\n",
        "2.7 6.8\n",
        "[ 0.96851804  0.02005315]"
       ]
      },
      {
       "output_type": "stream",
       "stream": "stdout",
       "text": [
        "\n",
        "2.7 6.9\n",
        "[ 0.97321543  0.02756376]"
       ]
      },
      {
       "output_type": "stream",
       "stream": "stdout",
       "text": [
        "\n",
        "2.7 7.0\n",
        "[ 0.97874805  0.03169255]"
       ]
      },
      {
       "output_type": "stream",
       "stream": "stdout",
       "text": [
        "\n",
        "2.7 7.1\n",
        "[ 0.9845054   0.03322581]"
       ]
      },
      {
       "output_type": "stream",
       "stream": "stdout",
       "text": [
        "\n",
        "2.7 7.2\n",
        "[ 0.99011138  0.03280597]"
       ]
      },
      {
       "output_type": "stream",
       "stream": "stdout",
       "text": [
        "\n",
        "2.7 7.3\n",
        "[ 0.99534223  0.03094872]"
       ]
      },
      {
       "output_type": "stream",
       "stream": "stdout",
       "text": [
        "\n",
        "2.7 7.4\n",
        "[ 1.00007361  0.02806413]"
       ]
      },
      {
       "output_type": "stream",
       "stream": "stdout",
       "text": [
        "\n",
        "2.7 7.5\n",
        "[ 1.00424614  0.02447605]"
       ]
      },
      {
       "output_type": "stream",
       "stream": "stdout",
       "text": [
        "\n",
        "2.7 7.6\n",
        "[ 1.00784263  0.0204386 ]"
       ]
      },
      {
       "output_type": "stream",
       "stream": "stdout",
       "text": [
        "\n",
        "2.7 7.7\n",
        "[ 1.01087288  0.01614959]"
       ]
      },
      {
       "output_type": "stream",
       "stream": "stdout",
       "text": [
        "\n",
        "2.7 7.8\n",
        "[ 1.01336343  0.0117615 ]"
       ]
      },
      {
       "output_type": "stream",
       "stream": "stdout",
       "text": [
        "\n",
        "2.7 7.9\n",
        "[ 1.01535075  0.00739035]"
       ]
      },
      {
       "output_type": "stream",
       "stream": "stdout",
       "text": [
        "\n",
        "2.7 8.0\n",
        "[ 1.0168765   0.00312289]"
       ]
      },
      {
       "output_type": "stream",
       "stream": "stdout",
       "text": [
        "\n",
        "2.7 8.1\n",
        "[  1.01798443e+00  -9.77592330e-04]"
       ]
      },
      {
       "output_type": "stream",
       "stream": "stdout",
       "text": [
        "\n",
        "2.7 8.2\n",
        "[ 1.01871831 -0.0048665 ]"
       ]
      },
      {
       "output_type": "stream",
       "stream": "stdout",
       "text": [
        "\n",
        "2.7 8.3\n",
        "[ 1.01912059 -0.00851409]"
       ]
      },
      {
       "output_type": "stream",
       "stream": "stdout",
       "text": [
        "\n",
        "2.7 8.4\n",
        "[ 1.01923157 -0.01190235]"
       ]
      },
      {
       "output_type": "stream",
       "stream": "stdout",
       "text": [
        "\n",
        "2.7 8.5\n",
        "[ 1.01908886 -0.01502245]"
       ]
      },
      {
       "output_type": "stream",
       "stream": "stdout",
       "text": [
        "\n",
        "2.7 8.6\n",
        "[ 1.0187272  -0.01787267]"
       ]
      },
      {
       "output_type": "stream",
       "stream": "stdout",
       "text": [
        "\n",
        "2.7 8.7\n",
        "[ 1.01817836 -0.02045674]"
       ]
      },
      {
       "output_type": "stream",
       "stream": "stdout",
       "text": [
        "\n",
        "2.7 8.8\n",
        "[ 1.01747114 -0.02278251]"
       ]
      },
      {
       "output_type": "stream",
       "stream": "stdout",
       "text": [
        "\n",
        "2.7 8.9\n",
        "[ 1.01663152 -0.02486087]"
       ]
      },
      {
       "output_type": "stream",
       "stream": "stdout",
       "text": [
        "\n",
        "2.7 9.0\n",
        "[ 1.01568279 -0.02670487]"
       ]
      },
      {
       "output_type": "stream",
       "stream": "stdout",
       "text": [
        "\n",
        "2.7 9.1\n",
        "[ 1.01464574 -0.02832907]"
       ]
      },
      {
       "output_type": "stream",
       "stream": "stdout",
       "text": [
        "\n",
        "2.7 9.2\n",
        "[ 1.01353884 -0.02974897]"
       ]
      },
      {
       "output_type": "stream",
       "stream": "stdout",
       "text": [
        "\n",
        "2.7 9.3\n",
        "[ 1.01237845 -0.03098065]"
       ]
      },
      {
       "output_type": "stream",
       "stream": "stdout",
       "text": [
        "\n",
        "2.7 9.4\n",
        "[ 1.011179   -0.03204036]"
       ]
      },
      {
       "output_type": "stream",
       "stream": "stdout",
       "text": [
        "\n",
        "2.7 9.5\n",
        "[ 1.00995318 -0.03294436]"
       ]
      },
      {
       "output_type": "stream",
       "stream": "stdout",
       "text": [
        "\n",
        "2.7 9.6\n",
        "[ 1.00871216 -0.03370873]"
       ]
      },
      {
       "output_type": "stream",
       "stream": "stdout",
       "text": [
        "\n",
        "2.7 9.7\n",
        "[ 1.0074657  -0.03434918]"
       ]
      },
      {
       "output_type": "stream",
       "stream": "stdout",
       "text": [
        "\n",
        "2.7 9.8\n",
        "[ 1.00622236 -0.03488105]"
       ]
      },
      {
       "output_type": "stream",
       "stream": "stdout",
       "text": [
        "\n",
        "2.7 9.9\n",
        "[ 1.00498961 -0.03531921]"
       ]
      },
      {
       "output_type": "stream",
       "stream": "stdout",
       "text": [
        "\n",
        "2.8 0.0\n",
        "[-0.98560131 -0.01601614]"
       ]
      },
      {
       "output_type": "stream",
       "stream": "stdout",
       "text": [
        "\n",
        "2.8 0.1\n",
        "[-0.98551328 -0.01596275]"
       ]
      },
      {
       "output_type": "stream",
       "stream": "stdout",
       "text": [
        "\n",
        "2.8 0.2\n",
        "[-0.98541631 -0.01592947]"
       ]
      },
      {
       "output_type": "stream",
       "stream": "stdout",
       "text": [
        "\n",
        "2.8 0.3\n",
        "[-0.98531016 -0.01591601]"
       ]
      },
      {
       "output_type": "stream",
       "stream": "stdout",
       "text": [
        "\n",
        "2.8 0.4\n",
        "[-0.98519454 -0.01592192]"
       ]
      },
      {
       "output_type": "stream",
       "stream": "stdout",
       "text": [
        "\n",
        "2.8 0.5\n",
        "[-0.98506909 -0.01594665]"
       ]
      },
      {
       "output_type": "stream",
       "stream": "stdout",
       "text": [
        "\n",
        "2.8 0.6\n",
        "[-0.98493337 -0.01598949]"
       ]
      },
      {
       "output_type": "stream",
       "stream": "stdout",
       "text": [
        "\n",
        "2.8 0.7\n",
        "[-0.9847869  -0.01604956]"
       ]
      },
      {
       "output_type": "stream",
       "stream": "stdout",
       "text": [
        "\n",
        "2.8 0.8\n",
        "[-0.98462913 -0.01612589]"
       ]
      },
      {
       "output_type": "stream",
       "stream": "stdout",
       "text": [
        "\n",
        "2.8 0.9\n",
        "[-0.98445943 -0.01621731]"
       ]
      },
      {
       "output_type": "stream",
       "stream": "stdout",
       "text": [
        "\n",
        "2.8 1.0\n",
        "[-0.9842771  -0.01632254]"
       ]
      },
      {
       "output_type": "stream",
       "stream": "stdout",
       "text": [
        "\n",
        "2.8 1.1\n",
        "[-0.98408136 -0.01644012]"
       ]
      },
      {
       "output_type": "stream",
       "stream": "stdout",
       "text": [
        "\n",
        "2.8 1.2\n",
        "[-0.98387135 -0.01656843]"
       ]
      },
      {
       "output_type": "stream",
       "stream": "stdout",
       "text": [
        "\n",
        "2.8 1.3\n",
        "[-0.98364611 -0.01670567]"
       ]
      },
      {
       "output_type": "stream",
       "stream": "stdout",
       "text": [
        "\n",
        "2.8 1.4\n",
        "[-0.98340459 -0.01684985]"
       ]
      },
      {
       "output_type": "stream",
       "stream": "stdout",
       "text": [
        "\n",
        "2.8 1.5\n",
        "[-0.98314566 -0.01699876]"
       ]
      },
      {
       "output_type": "stream",
       "stream": "stdout",
       "text": [
        "\n",
        "2.8 1.6\n",
        "[-0.98286804 -0.01714994]"
       ]
      },
      {
       "output_type": "stream",
       "stream": "stdout",
       "text": [
        "\n",
        "2.8 1.7\n",
        "[-0.9825704  -0.01730068]"
       ]
      },
      {
       "output_type": "stream",
       "stream": "stdout",
       "text": [
        "\n",
        "2.8 1.8\n",
        "[-0.98225126 -0.0174479 ]"
       ]
      },
      {
       "output_type": "stream",
       "stream": "stdout",
       "text": [
        "\n",
        "2.8 1.9\n",
        "[-0.98190907 -0.01758819]"
       ]
      },
      {
       "output_type": "stream",
       "stream": "stdout",
       "text": [
        "\n",
        "2.8 2.0\n",
        "[-0.98154216 -0.01771768]"
       ]
      },
      {
       "output_type": "stream",
       "stream": "stdout",
       "text": [
        "\n",
        "2.8 2.1\n",
        "[-0.98114878 -0.01783198]"
       ]
      },
      {
       "output_type": "stream",
       "stream": "stdout",
       "text": [
        "\n",
        "2.8 2.2\n",
        "[-0.98072712 -0.01792607]"
       ]
      },
      {
       "output_type": "stream",
       "stream": "stdout",
       "text": [
        "\n",
        "2.8 2.3\n",
        "[-0.98027532 -0.0179942 ]"
       ]
      },
      {
       "output_type": "stream",
       "stream": "stdout",
       "text": [
        "\n",
        "2.8 2.4\n",
        "[-0.97979152 -0.01802972]"
       ]
      },
      {
       "output_type": "stream",
       "stream": "stdout",
       "text": [
        "\n",
        "2.8 2.5\n",
        "[-0.97927389 -0.01802493]"
       ]
      },
      {
       "output_type": "stream",
       "stream": "stdout",
       "text": [
        "\n",
        "2.8 2.6\n",
        "[-0.97872072 -0.01797081]"
       ]
      },
      {
       "output_type": "stream",
       "stream": "stdout",
       "text": [
        "\n",
        "2.8 2.7\n",
        "[-0.9781305  -0.01785683]"
       ]
      },
      {
       "output_type": "stream",
       "stream": "stdout",
       "text": [
        "\n",
        "2.8 2.8\n",
        "[-0.97750207 -0.01767054]"
       ]
      },
      {
       "output_type": "stream",
       "stream": "stdout",
       "text": [
        "\n",
        "2.8 2.9\n",
        "[-0.97683477 -0.01739725]"
       ]
      },
      {
       "output_type": "stream",
       "stream": "stdout",
       "text": [
        "\n",
        "2.8 3.0\n",
        "[-0.97612867 -0.01701949]"
       ]
      },
      {
       "output_type": "stream",
       "stream": "stdout",
       "text": [
        "\n",
        "2.8 3.1\n",
        "[-0.97538493 -0.01651643]"
       ]
      },
      {
       "output_type": "stream",
       "stream": "stdout",
       "text": [
        "\n",
        "2.8 3.2\n",
        "[-0.97460622 -0.01586312]"
       ]
      },
      {
       "output_type": "stream",
       "stream": "stdout",
       "text": [
        "\n",
        "2.8 3.3\n",
        "[-0.9737973  -0.01502961]"
       ]
      },
      {
       "output_type": "stream",
       "stream": "stdout",
       "text": [
        "\n",
        "2.8 3.4\n",
        "[-0.97296588 -0.01397979]"
       ]
      },
      {
       "output_type": "stream",
       "stream": "stdout",
       "text": [
        "\n",
        "2.8 3.5\n",
        "[-0.97212369 -0.01266998]"
       ]
      },
      {
       "output_type": "stream",
       "stream": "stdout",
       "text": [
        "\n",
        "2.8 3.6\n",
        "[-0.97128811 -0.01104721]"
       ]
      },
      {
       "output_type": "stream",
       "stream": "stdout",
       "text": [
        "\n",
        "2.8 3.7\n",
        "[-0.97048433 -0.00904705]"
       ]
      },
      {
       "output_type": "stream",
       "stream": "stdout",
       "text": [
        "\n",
        "2.8 3.8\n",
        "[-0.9697484  -0.00659101]"
       ]
      },
      {
       "output_type": "stream",
       "stream": "stdout",
       "text": [
        "\n",
        "2.8 3.9\n",
        "[-0.96913164 -0.00358335]"
       ]
      },
      {
       "output_type": "stream",
       "stream": "stdout",
       "text": [
        "\n",
        "2.8 4.0\n",
        "[ -9.68706818e-01   9.26240076e-05]"
       ]
      },
      {
       "output_type": "stream",
       "stream": "stdout",
       "text": [
        "\n",
        "2.8 4.1\n",
        "[-0.9685772   0.00457864]"
       ]
      },
      {
       "output_type": "stream",
       "stream": "stdout",
       "text": [
        "\n",
        "2.8 4.2\n",
        "[-0.96888966  0.01004536]"
       ]
      },
      {
       "output_type": "stream",
       "stream": "stdout",
       "text": [
        "\n",
        "2.8 4.3\n",
        "[-0.96985394  0.01669454]"
       ]
      },
      {
       "output_type": "stream",
       "stream": "stdout",
       "text": [
        "\n",
        "2.8 4.4\n",
        "[-0.97177118  0.02475582]"
       ]
      },
      {
       "output_type": "stream",
       "stream": "stdout",
       "text": [
        "\n",
        "2.8 4.5\n",
        "[-0.97507603  0.0344692 ]"
       ]
      },
      {
       "output_type": "stream",
       "stream": "stdout",
       "text": [
        "\n",
        "2.8 4.6\n",
        "[-0.98039767  0.04603169]"
       ]
      },
      {
       "output_type": "stream",
       "stream": "stdout",
       "text": [
        "\n",
        "2.8 4.7\n",
        "[-0.98864374  0.05945511]"
       ]
      },
      {
       "output_type": "stream",
       "stream": "stdout",
       "text": [
        "\n",
        "2.8 4.8\n",
        "[-1.00109515  0.07419984]"
       ]
      },
      {
       "output_type": "stream",
       "stream": "stdout",
       "text": [
        "\n",
        "2.8 4.9\n",
        "[-1.01942721  0.08822771]"
       ]
      },
      {
       "output_type": "stream",
       "stream": "stdout",
       "text": [
        "\n",
        "2.8 5.0\n",
        "[-1.04525901  0.09551388]"
       ]
      },
      {
       "output_type": "stream",
       "stream": "stdout",
       "text": [
        "\n",
        "2.8 5.1\n",
        "[-1.07747791  0.07959256]"
       ]
      },
      {
       "output_type": "stream",
       "stream": "stdout",
       "text": [
        "\n",
        "2.8 5.2\n",
        "[ -1.09959976e+00  -1.89781031e-04]"
       ]
      },
      {
       "output_type": "stream",
       "stream": "stdout",
       "text": [
        "\n",
        "2.8 5.3\n",
        "[-1.02607975 -0.20059002]"
       ]
      },
      {
       "output_type": "stream",
       "stream": "stdout",
       "text": [
        "\n",
        "2.8 5.4\n",
        "[-0.56830714 -0.29474827]"
       ]
      },
      {
       "output_type": "stream",
       "stream": "stdout",
       "text": [
        "\n",
        "2.8 5.5\n",
        "[ 0.40662635  0.23133292]"
       ]
      },
      {
       "output_type": "stream",
       "stream": "stdout",
       "text": [
        "\n",
        "2.8 5.6\n",
        "[ 1.00652649  0.2233999 ]"
       ]
      },
      {
       "output_type": "stream",
       "stream": "stdout",
       "text": [
        "\n",
        "2.8 5.7\n",
        "[ 1.09916158 -0.01686604]"
       ]
      },
      {
       "output_type": "stream",
       "stream": "stdout",
       "text": [
        "\n",
        "2.8 5.8\n",
        "[ 1.06054004 -0.09315724]"
       ]
      },
      {
       "output_type": "stream",
       "stream": "stdout",
       "text": [
        "\n",
        "2.8 5.9\n",
        "[ 1.01721213 -0.08802736]"
       ]
      },
      {
       "output_type": "stream",
       "stream": "stdout",
       "text": [
        "\n",
        "2.8 6.0\n",
        "[ 0.98866071 -0.06150148]"
       ]
      },
      {
       "output_type": "stream",
       "stream": "stdout",
       "text": [
        "\n",
        "2.8 6.1\n",
        "[ 0.97312225 -0.03404696]"
       ]
      },
      {
       "output_type": "stream",
       "stream": "stdout",
       "text": [
        "\n",
        "2.8 6.2\n",
        "[ 0.96648112 -0.01128045]"
       ]
      },
      {
       "output_type": "stream",
       "stream": "stdout",
       "text": [
        "\n",
        "2.8 6.3\n",
        "[ 0.96546091  0.00592877]"
       ]
      },
      {
       "output_type": "stream",
       "stream": "stdout",
       "text": [
        "\n",
        "2.8 6.4\n",
        "[ 0.96781754  0.01811374]"
       ]
      },
      {
       "output_type": "stream",
       "stream": "stdout",
       "text": [
        "\n",
        "2.8 6.5\n",
        "[ 0.97207631  0.02613156]"
       ]
      },
      {
       "output_type": "stream",
       "stream": "stdout",
       "text": [
        "\n",
        "2.8 6.6\n",
        "[ 0.97728191  0.03082445]"
       ]
      },
      {
       "output_type": "stream",
       "stream": "stdout",
       "text": [
        "\n",
        "2.8 6.7\n",
        "[ 0.98282144  0.03292493]"
       ]
      },
      {
       "output_type": "stream",
       "stream": "stdout",
       "text": [
        "\n",
        "2.8 6.8\n",
        "[ 0.98830728  0.03304165]"
       ]
      },
      {
       "output_type": "stream",
       "stream": "stdout",
       "text": [
        "\n",
        "2.8 6.9\n",
        "[ 0.99350079  0.03167016]"
       ]
      },
      {
       "output_type": "stream",
       "stream": "stdout",
       "text": [
        "\n",
        "2.8 7.0\n",
        "[ 0.9982623   0.02920965]"
       ]
      },
      {
       "output_type": "stream",
       "stream": "stdout",
       "text": [
        "\n",
        "2.8 7.1\n",
        "[ 1.00251799  0.02597948]"
       ]
      },
      {
       "output_type": "stream",
       "stream": "stdout",
       "text": [
        "\n",
        "2.8 7.2\n",
        "[ 1.0062378  0.0222335]"
       ]
      },
      {
       "output_type": "stream",
       "stream": "stdout",
       "text": [
        "\n",
        "2.8 7.3\n",
        "[ 1.00942037  0.01817213]"
       ]
      },
      {
       "output_type": "stream",
       "stream": "stdout",
       "text": [
        "\n",
        "2.8 7.4\n",
        "[ 1.01208289  0.01395227]"
       ]
      },
      {
       "output_type": "stream",
       "stream": "stdout",
       "text": [
        "\n",
        "2.8 7.5\n",
        "[ 1.01425403  0.00969544]"
       ]
      },
      {
       "output_type": "stream",
       "stream": "stdout",
       "text": [
        "\n",
        "2.8 7.6\n",
        "[ 1.01596913  0.00549439]"
       ]
      },
      {
       "output_type": "stream",
       "stream": "stdout",
       "text": [
        "\n",
        "2.8 7.7\n",
        "[ 1.01726691  0.00141862]"
       ]
      },
      {
       "output_type": "stream",
       "stream": "stdout",
       "text": [
        "\n",
        "2.8 7.8\n",
        "[ 1.01818719 -0.00248119]"
       ]
      },
      {
       "output_type": "stream",
       "stream": "stdout",
       "text": [
        "\n",
        "2.8 7.9\n",
        "[ 1.01876941 -0.0061695 ]"
       ]
      },
      {
       "output_type": "stream",
       "stream": "stdout",
       "text": [
        "\n",
        "2.8 8.0\n",
        "[ 1.01905161 -0.00962285]"
       ]
      },
      {
       "output_type": "stream",
       "stream": "stdout",
       "text": [
        "\n",
        "2.8 8.1\n",
        "[ 1.01906981 -0.01282744]"
       ]
      },
      {
       "output_type": "stream",
       "stream": "stdout",
       "text": [
        "\n",
        "2.8 8.2\n",
        "[ 1.01885767 -0.01577704]"
       ]
      },
      {
       "output_type": "stream",
       "stream": "stdout",
       "text": [
        "\n",
        "2.8 8.3\n",
        "[ 1.01844629 -0.01847137]"
       ]
      },
      {
       "output_type": "stream",
       "stream": "stdout",
       "text": [
        "\n",
        "2.8 8.4\n",
        "[ 1.01786418 -0.02091474]"
       ]
      },
      {
       "output_type": "stream",
       "stream": "stdout",
       "text": [
        "\n",
        "2.8 8.5\n",
        "[ 1.01713724 -0.02311491]"
       ]
      },
      {
       "output_type": "stream",
       "stream": "stdout",
       "text": [
        "\n",
        "2.8 8.6\n",
        "[ 1.01628894 -0.02508226]"
       ]
      },
      {
       "output_type": "stream",
       "stream": "stdout",
       "text": [
        "\n",
        "2.8 8.7\n",
        "[ 1.01534034 -0.02682903]"
       ]
      },
      {
       "output_type": "stream",
       "stream": "stdout",
       "text": [
        "\n",
        "2.8 8.8\n",
        "[ 1.01431036 -0.02836875]"
       ]
      },
      {
       "output_type": "stream",
       "stream": "stdout",
       "text": [
        "\n",
        "2.8 8.9\n",
        "[ 1.01321582 -0.0297158 ]"
       ]
      },
      {
       "output_type": "stream",
       "stream": "stdout",
       "text": [
        "\n",
        "2.8 9.0\n",
        "[ 1.0120717  -0.03088505]"
       ]
      },
      {
       "output_type": "stream",
       "stream": "stdout",
       "text": [
        "\n",
        "2.8 9.1\n",
        "[ 1.01089127 -0.03189156]"
       ]
      },
      {
       "output_type": "stream",
       "stream": "stdout",
       "text": [
        "\n",
        "2.8 9.2\n",
        "[ 1.00968625 -0.03275041]"
       ]
      },
      {
       "output_type": "stream",
       "stream": "stdout",
       "text": [
        "\n",
        "2.8 9.3\n",
        "[ 1.00846697 -0.0334765 ]"
       ]
      },
      {
       "output_type": "stream",
       "stream": "stdout",
       "text": [
        "\n",
        "2.8 9.4\n",
        "[ 1.0072425  -0.03408448]"
       ]
      },
      {
       "output_type": "stream",
       "stream": "stdout",
       "text": [
        "\n",
        "2.8 9.5\n",
        "[ 1.00602084 -0.03458864]"
       ]
      },
      {
       "output_type": "stream",
       "stream": "stdout",
       "text": [
        "\n",
        "2.8 9.6\n",
        "[ 1.00480899 -0.03500286]"
       ]
      },
      {
       "output_type": "stream",
       "stream": "stdout",
       "text": [
        "\n",
        "2.8 9.7\n",
        "[ 1.00361311 -0.03534062]"
       ]
      },
      {
       "output_type": "stream",
       "stream": "stdout",
       "text": [
        "\n",
        "2.8 9.8\n",
        "[ 1.00243864 -0.03561495]"
       ]
      },
      {
       "output_type": "stream",
       "stream": "stdout",
       "text": [
        "\n",
        "2.8 9.9\n",
        "[ 1.00129039 -0.03583848]"
       ]
      },
      {
       "output_type": "stream",
       "stream": "stdout",
       "text": [
        "\n",
        "2.9 0.0\n",
        "[-0.98300174 -0.01936805]"
       ]
      },
      {
       "output_type": "stream",
       "stream": "stdout",
       "text": [
        "\n",
        "2.9 0.1\n",
        "[-0.98290362 -0.01930931]"
       ]
      },
      {
       "output_type": "stream",
       "stream": "stdout",
       "text": [
        "\n",
        "2.9 0.2\n",
        "[-0.9827895  -0.01926092]"
       ]
      },
      {
       "output_type": "stream",
       "stream": "stdout",
       "text": [
        "\n",
        "2.9 0.3\n",
        "[-0.9826593  -0.01922232]"
       ]
      },
      {
       "output_type": "stream",
       "stream": "stdout",
       "text": [
        "\n",
        "2.9 0.4\n",
        "[-0.98251277 -0.01919278]"
       ]
      },
      {
       "output_type": "stream",
       "stream": "stdout",
       "text": [
        "\n",
        "2.9 0.5\n",
        "[-0.9823496  -0.01917138]"
       ]
      },
      {
       "output_type": "stream",
       "stream": "stdout",
       "text": [
        "\n",
        "2.9 0.6\n",
        "[-0.98216932 -0.01915701]"
       ]
      },
      {
       "output_type": "stream",
       "stream": "stdout",
       "text": [
        "\n",
        "2.9 0.7\n",
        "[-0.98197139 -0.01914833]"
       ]
      },
      {
       "output_type": "stream",
       "stream": "stdout",
       "text": [
        "\n",
        "2.9 0.8\n",
        "[-0.98175515 -0.01914381]"
       ]
      },
      {
       "output_type": "stream",
       "stream": "stdout",
       "text": [
        "\n",
        "2.9 0.9\n",
        "[-0.98151985 -0.01914164]"
       ]
      },
      {
       "output_type": "stream",
       "stream": "stdout",
       "text": [
        "\n",
        "2.9 1.0\n",
        "[-0.98126464 -0.01913974]"
       ]
      },
      {
       "output_type": "stream",
       "stream": "stdout",
       "text": [
        "\n",
        "2.9 1.1\n",
        "[-0.98098858 -0.01913571]"
       ]
      },
      {
       "output_type": "stream",
       "stream": "stdout",
       "text": [
        "\n",
        "2.9 1.2\n",
        "[-0.98069065 -0.01912683]"
       ]
      },
      {
       "output_type": "stream",
       "stream": "stdout",
       "text": [
        "\n",
        "2.9 1.3\n",
        "[-0.98036975 -0.01910994]"
       ]
      },
      {
       "output_type": "stream",
       "stream": "stdout",
       "text": [
        "\n",
        "2.9 1.4\n",
        "[-0.98002471 -0.01908145]"
       ]
      },
      {
       "output_type": "stream",
       "stream": "stdout",
       "text": [
        "\n",
        "2.9 1.5\n",
        "[-0.97965433 -0.01903723]"
       ]
      },
      {
       "output_type": "stream",
       "stream": "stdout",
       "text": [
        "\n",
        "2.9 1.6\n",
        "[-0.97925736 -0.01897253]"
       ]
      },
      {
       "output_type": "stream",
       "stream": "stdout",
       "text": [
        "\n",
        "2.9 1.7\n",
        "[-0.97883256 -0.01888188]"
       ]
      },
      {
       "output_type": "stream",
       "stream": "stdout",
       "text": [
        "\n",
        "2.9 1.8\n",
        "[-0.97837871 -0.01875897]"
       ]
      },
      {
       "output_type": "stream",
       "stream": "stdout",
       "text": [
        "\n",
        "2.9 1.9\n",
        "[-0.9778947 -0.0185965]"
       ]
      },
      {
       "output_type": "stream",
       "stream": "stdout",
       "text": [
        "\n",
        "2.9 2.0\n",
        "[-0.97737955 -0.01838598]"
       ]
      },
      {
       "output_type": "stream",
       "stream": "stdout",
       "text": [
        "\n",
        "2.9 2.1\n",
        "[-0.97683254 -0.01811753]"
       ]
      },
      {
       "output_type": "stream",
       "stream": "stdout",
       "text": [
        "\n",
        "2.9 2.2\n",
        "[-0.9762533  -0.01777959]"
       ]
      },
      {
       "output_type": "stream",
       "stream": "stdout",
       "text": [
        "\n",
        "2.9 2.3\n",
        "[-0.97564198 -0.01735861]"
       ]
      },
      {
       "output_type": "stream",
       "stream": "stdout",
       "text": [
        "\n",
        "2.9 2.4\n",
        "[-0.97499944 -0.01683868]"
       ]
      },
      {
       "output_type": "stream",
       "stream": "stdout",
       "text": [
        "\n",
        "2.9 2.5\n",
        "[-0.97432758 -0.01620098]"
       ]
      },
      {
       "output_type": "stream",
       "stream": "stdout",
       "text": [
        "\n",
        "2.9 2.6\n",
        "[-0.97362963 -0.01542327]"
       ]
      },
      {
       "output_type": "stream",
       "stream": "stdout",
       "text": [
        "\n",
        "2.9 2.7\n",
        "[-0.97291072 -0.01447911]"
       ]
      },
      {
       "output_type": "stream",
       "stream": "stdout",
       "text": [
        "\n",
        "2.9 2.8\n",
        "[-0.97217852 -0.01333703]"
       ]
      },
      {
       "output_type": "stream",
       "stream": "stdout",
       "text": [
        "\n",
        "2.9 2.9\n",
        "[-0.97144414 -0.01195943]"
       ]
      },
      {
       "output_type": "stream",
       "stream": "stdout",
       "text": [
        "\n",
        "2.9 3.0\n",
        "[-0.97072338 -0.01030125]"
       ]
      },
      {
       "output_type": "stream",
       "stream": "stdout",
       "text": [
        "\n",
        "2.9 3.1\n",
        "[-0.97003839 -0.00830845]"
       ]
      },
      {
       "output_type": "stream",
       "stream": "stdout",
       "text": [
        "\n",
        "2.9 3.2\n",
        "[-0.96942002 -0.00591598]"
       ]
      },
      {
       "output_type": "stream",
       "stream": "stdout",
       "text": [
        "\n",
        "2.9 3.3\n",
        "[-0.96891103 -0.0030456 ]"
       ]
      },
      {
       "output_type": "stream",
       "stream": "stdout",
       "text": [
        "\n",
        "2.9 3.4\n",
        "[ -9.68570605e-01   3.96869410e-04]"
       ]
      },
      {
       "output_type": "stream",
       "stream": "stdout",
       "text": [
        "\n",
        "2.9 3.5\n",
        "[-0.9684807   0.00452433]"
       ]
      },
      {
       "output_type": "stream",
       "stream": "stdout",
       "text": [
        "\n",
        "2.9 3.6\n",
        "[-0.96875513  0.00947126]"
       ]
      },
      {
       "output_type": "stream",
       "stream": "stdout",
       "text": [
        "\n",
        "2.9 3.7\n",
        "[-0.96955248  0.01539552]"
       ]
      },
      {
       "output_type": "stream",
       "stream": "stdout",
       "text": [
        "\n",
        "2.9 3.8\n",
        "[-0.97109488  0.02247722]"
       ]
      },
      {
       "output_type": "stream",
       "stream": "stdout",
       "text": [
        "\n",
        "2.9 3.9\n",
        "[-0.9736949   0.03091002]"
       ]
      },
      {
       "output_type": "stream",
       "stream": "stdout",
       "text": [
        "\n",
        "2.9 4.0\n",
        "[-0.97779413  0.04087461]"
       ]
      },
      {
       "output_type": "stream",
       "stream": "stdout",
       "text": [
        "\n",
        "2.9 4.1\n",
        "[-0.98401663  0.0524703 ]"
       ]
      },
      {
       "output_type": "stream",
       "stream": "stdout",
       "text": [
        "\n",
        "2.9 4.2\n",
        "[-0.99323619  0.06554832]"
       ]
      },
      {
       "output_type": "stream",
       "stream": "stdout",
       "text": [
        "\n",
        "2.9 4.3\n",
        "[-1.00663576  0.07930846]"
       ]
      },
      {
       "output_type": "stream",
       "stream": "stdout",
       "text": [
        "\n",
        "2.9 4.4\n",
        "[-1.02565418  0.09131181]"
       ]
      },
      {
       "output_type": "stream",
       "stream": "stdout",
       "text": [
        "\n",
        "2.9 4.5\n",
        "[-1.05139115  0.09503415]"
       ]
      },
      {
       "output_type": "stream",
       "stream": "stdout",
       "text": [
        "\n",
        "2.9 4.6\n",
        "[-1.08175281  0.07397546]"
       ]
      },
      {
       "output_type": "stream",
       "stream": "stdout",
       "text": [
        "\n",
        "2.9 4.7\n",
        "[-1.09942505 -0.00933641]"
       ]
      },
      {
       "output_type": "stream",
       "stream": "stdout",
       "text": [
        "\n",
        "2.9 4.8\n",
        "[-1.02581238 -0.20093178]"
       ]
      },
      {
       "output_type": "stream",
       "stream": "stdout",
       "text": [
        "\n",
        "2.9 4.9\n",
        "[-0.61528476 -0.30765248]"
       ]
      },
      {
       "output_type": "stream",
       "stream": "stdout",
       "text": [
        "\n",
        "2.9 5.0\n",
        "[ 0.28683445  0.17038568]"
       ]
      },
      {
       "output_type": "stream",
       "stream": "stdout",
       "text": [
        "\n",
        "2.9 5.1\n",
        "[ 0.94835859  0.27196435]"
       ]
      },
      {
       "output_type": "stream",
       "stream": "stdout",
       "text": [
        "\n",
        "2.9 5.2\n",
        "[ 1.09846953  0.02540652]"
       ]
      },
      {
       "output_type": "stream",
       "stream": "stdout",
       "text": [
        "\n",
        "2.9 5.3\n",
        "[ 1.07479599 -0.08327797]"
       ]
      },
      {
       "output_type": "stream",
       "stream": "stdout",
       "text": [
        "\n",
        "2.9 5.4\n",
        "[ 1.03097529 -0.09417333]"
       ]
      },
      {
       "output_type": "stream",
       "stream": "stdout",
       "text": [
        "\n",
        "2.9 5.5\n",
        "[ 0.99846827 -0.07301988]"
       ]
      },
      {
       "output_type": "stream",
       "stream": "stdout",
       "text": [
        "\n",
        "2.9 5.6\n",
        "[ 0.97891977 -0.04621542]"
       ]
      },
      {
       "output_type": "stream",
       "stream": "stdout",
       "text": [
        "\n",
        "2.9 5.7\n",
        "[ 0.96900617 -0.02219543]"
       ]
      },
      {
       "output_type": "stream",
       "stream": "stdout",
       "text": [
        "\n",
        "2.9 5.8\n",
        "[ 0.96552077 -0.00304937]"
       ]
      },
      {
       "output_type": "stream",
       "stream": "stdout",
       "text": [
        "\n",
        "2.9 5.9\n",
        "[ 0.96610934  0.01122666]"
       ]
      },
      {
       "output_type": "stream",
       "stream": "stdout",
       "text": [
        "\n",
        "2.9 6.0\n",
        "[ 0.96916024  0.0212577 ]"
       ]
      },
      {
       "output_type": "stream",
       "stream": "stdout",
       "text": [
        "\n",
        "2.9 6.1\n",
        "[ 0.97359519  0.02778585]"
       ]
      },
      {
       "output_type": "stream",
       "stream": "stdout",
       "text": [
        "\n",
        "2.9 6.2\n",
        "[ 0.97869997  0.03150482]"
       ]
      },
      {
       "output_type": "stream",
       "stream": "stdout",
       "text": [
        "\n",
        "2.9 6.3\n",
        "[ 0.98400598  0.03301411]"
       ]
      },
      {
       "output_type": "stream",
       "stream": "stdout",
       "text": [
        "\n",
        "2.9 6.4\n",
        "[ 0.98921055  0.03281504]"
       ]
      },
      {
       "output_type": "stream",
       "stream": "stdout",
       "text": [
        "\n",
        "2.9 6.5\n",
        "[ 0.99412351  0.03132019]"
       ]
      },
      {
       "output_type": "stream",
       "stream": "stdout",
       "text": [
        "\n",
        "2.9 6.6\n",
        "[ 0.99863133  0.02886601]"
       ]
      },
      {
       "output_type": "stream",
       "stream": "stdout",
       "text": [
        "\n",
        "2.9 6.7\n",
        "[ 1.00267274  0.02572515]"
       ]
      },
      {
       "output_type": "stream",
       "stream": "stdout",
       "text": [
        "\n",
        "2.9 6.8\n",
        "[ 1.00622196  0.02211715]"
       ]
      },
      {
       "output_type": "stream",
       "stream": "stdout",
       "text": [
        "\n",
        "2.9 6.9\n",
        "[ 1.00927714  0.0182177 ]"
       ]
      },
      {
       "output_type": "stream",
       "stream": "stdout",
       "text": [
        "\n",
        "2.9 7.0\n",
        "[ 1.01185225  0.01416621]"
       ]
      },
      {
       "output_type": "stream",
       "stream": "stdout",
       "text": [
        "\n",
        "2.9 7.1\n",
        "[ 1.01397139  0.0100722 ]"
       ]
      },
      {
       "output_type": "stream",
       "stream": "stdout",
       "text": [
        "\n",
        "2.9 7.2\n",
        "[ 1.01566481  0.0060206 ]"
       ]
      },
      {
       "output_type": "stream",
       "stream": "stdout",
       "text": [
        "\n",
        "2.9 7.3\n",
        "[ 1.01696607  0.00207616]"
       ]
      },
      {
       "output_type": "stream",
       "stream": "stdout",
       "text": [
        "\n",
        "2.9 7.4\n",
        "[ 1.01791015 -0.00171292]"
       ]
      },
      {
       "output_type": "stream",
       "stream": "stdout",
       "text": [
        "\n",
        "2.9 7.5\n",
        "[ 1.018532   -0.00531193]"
       ]
      },
      {
       "output_type": "stream",
       "stream": "stdout",
       "text": [
        "\n",
        "2.9 7.6\n",
        "[ 1.01886573 -0.00869708]"
       ]
      },
      {
       "output_type": "stream",
       "stream": "stdout",
       "text": [
        "\n",
        "2.9 7.7\n",
        "[ 1.0189439  -0.01185344]"
       ]
      },
      {
       "output_type": "stream",
       "stream": "stdout",
       "text": [
        "\n",
        "2.9 7.8\n",
        "[ 1.01879725 -0.01477315]"
       ]
      },
      {
       "output_type": "stream",
       "stream": "stdout",
       "text": [
        "\n",
        "2.9 7.9\n",
        "[ 1.0184544  -0.01745398]"
       ]
      },
      {
       "output_type": "stream",
       "stream": "stdout",
       "text": [
        "\n",
        "2.9 8.0\n",
        "[ 1.01794179 -0.01989811]"
       ]
      },
      {
       "output_type": "stream",
       "stream": "stdout",
       "text": [
        "\n",
        "2.9 8.1\n",
        "[ 1.0172837  -0.02211117]"
       ]
      },
      {
       "output_type": "stream",
       "stream": "stdout",
       "text": [
        "\n",
        "2.9 8.2\n",
        "[ 1.01650224 -0.02410139]"
       ]
      },
      {
       "output_type": "stream",
       "stream": "stdout",
       "text": [
        "\n",
        "2.9 8.3\n",
        "[ 1.01561744 -0.02587899]"
       ]
      },
      {
       "output_type": "stream",
       "stream": "stdout",
       "text": [
        "\n",
        "2.9 8.4\n",
        "[ 1.0146474  -0.02745556]"
       ]
      },
      {
       "output_type": "stream",
       "stream": "stdout",
       "text": [
        "\n",
        "2.9 8.5\n",
        "[ 1.01360837 -0.0288437 ]"
       ]
      },
      {
       "output_type": "stream",
       "stream": "stdout",
       "text": [
        "\n",
        "2.9 8.6\n",
        "[ 1.01251491 -0.03005664]"
       ]
      },
      {
       "output_type": "stream",
       "stream": "stdout",
       "text": [
        "\n",
        "2.9 8.7\n",
        "[ 1.01137999 -0.03110797]"
       ]
      },
      {
       "output_type": "stream",
       "stream": "stdout",
       "text": [
        "\n",
        "2.9 8.8\n",
        "[ 1.01021516 -0.03201139]"
       ]
      },
      {
       "output_type": "stream",
       "stream": "stdout",
       "text": [
        "\n",
        "2.9 8.9\n",
        "[ 1.00903068 -0.03278061]"
       ]
      },
      {
       "output_type": "stream",
       "stream": "stdout",
       "text": [
        "\n",
        "2.9 9.0\n",
        "[ 1.00783561 -0.03342919]"
       ]
      },
      {
       "output_type": "stream",
       "stream": "stdout",
       "text": [
        "\n",
        "2.9 9.1\n",
        "[ 1.00663796 -0.03397043]"
       ]
      },
      {
       "output_type": "stream",
       "stream": "stdout",
       "text": [
        "\n",
        "2.9 9.2\n",
        "[ 1.0054448  -0.03441734]"
       ]
      },
      {
       "output_type": "stream",
       "stream": "stdout",
       "text": [
        "\n",
        "2.9 9.3\n",
        "[ 1.00426239 -0.03478262]"
       ]
      },
      {
       "output_type": "stream",
       "stream": "stdout",
       "text": [
        "\n",
        "2.9 9.4\n",
        "[ 1.00309623 -0.03507857]"
       ]
      },
      {
       "output_type": "stream",
       "stream": "stdout",
       "text": [
        "\n",
        "2.9 9.5\n",
        "[ 1.00195121 -0.03531716]"
       ]
      },
      {
       "output_type": "stream",
       "stream": "stdout",
       "text": [
        "\n",
        "2.9 9.6\n",
        "[ 1.00083168 -0.03551001]"
       ]
      },
      {
       "output_type": "stream",
       "stream": "stdout",
       "text": [
        "\n",
        "2.9 9.7\n",
        "[ 0.99974155 -0.03566841]"
       ]
      },
      {
       "output_type": "stream",
       "stream": "stdout",
       "text": [
        "\n",
        "2.9 9.8\n",
        "[ 0.99868437 -0.03580336]"
       ]
      },
      {
       "output_type": "stream",
       "stream": "stdout",
       "text": [
        "\n",
        "2.9 9.9\n",
        "[ 0.99766339 -0.03592558]"
       ]
      },
      {
       "output_type": "stream",
       "stream": "stdout",
       "text": [
        "\n",
        "3.0 0.0\n",
        "[-0.97797364 -0.02007238]"
       ]
      },
      {
       "output_type": "stream",
       "stream": "stdout",
       "text": [
        "\n",
        "3.0 0.1\n",
        "[-0.97787662 -0.01997383]"
       ]
      },
      {
       "output_type": "stream",
       "stream": "stdout",
       "text": [
        "\n",
        "3.0 0.2\n",
        "[-0.97775302 -0.0198654 ]"
       ]
      },
      {
       "output_type": "stream",
       "stream": "stdout",
       "text": [
        "\n",
        "3.0 0.3\n",
        "[-0.97760307 -0.01974587]"
       ]
      },
      {
       "output_type": "stream",
       "stream": "stdout",
       "text": [
        "\n",
        "3.0 0.4\n",
        "[-0.97742685 -0.01961364]"
       ]
      },
      {
       "output_type": "stream",
       "stream": "stdout",
       "text": [
        "\n",
        "3.0 0.5\n",
        "[-0.97722437 -0.01946661]"
       ]
      },
      {
       "output_type": "stream",
       "stream": "stdout",
       "text": [
        "\n",
        "3.0 0.6\n",
        "[-0.97699554 -0.01930225]"
       ]
      },
      {
       "output_type": "stream",
       "stream": "stdout",
       "text": [
        "\n",
        "3.0 0.7\n",
        "[-0.97674022 -0.01911745]"
       ]
      },
      {
       "output_type": "stream",
       "stream": "stdout",
       "text": [
        "\n",
        "3.0 0.8\n",
        "[-0.97645822 -0.01890856]"
       ]
      },
      {
       "output_type": "stream",
       "stream": "stdout",
       "text": [
        "\n",
        "3.0 0.9\n",
        "[-0.97614935 -0.01867125]"
       ]
      },
      {
       "output_type": "stream",
       "stream": "stdout",
       "text": [
        "\n",
        "3.0 1.0\n",
        "[-0.97581345 -0.01840046]"
       ]
      },
      {
       "output_type": "stream",
       "stream": "stdout",
       "text": [
        "\n",
        "3.0 1.1\n",
        "[-0.97545044 -0.01809028]"
       ]
      },
      {
       "output_type": "stream",
       "stream": "stdout",
       "text": [
        "\n",
        "3.0 1.2\n",
        "[-0.97506037 -0.01773383]"
       ]
      },
      {
       "output_type": "stream",
       "stream": "stdout",
       "text": [
        "\n",
        "3.0 1.3\n",
        "[-0.9746435 -0.0173231]"
       ]
      },
      {
       "output_type": "stream",
       "stream": "stdout",
       "text": [
        "\n",
        "3.0 1.4\n",
        "[-0.97420039 -0.01684878]"
       ]
      },
      {
       "output_type": "stream",
       "stream": "stdout",
       "text": [
        "\n",
        "3.0 1.5\n",
        "[-0.97373201 -0.01630005]"
       ]
      },
      {
       "output_type": "stream",
       "stream": "stdout",
       "text": [
        "\n",
        "3.0 1.6\n",
        "[-0.97323994 -0.01566427]"
       ]
      },
      {
       "output_type": "stream",
       "stream": "stdout",
       "text": [
        "\n",
        "3.0 1.7\n",
        "[-0.97272649 -0.01492671]"
       ]
      },
      {
       "output_type": "stream",
       "stream": "stdout",
       "text": [
        "\n",
        "3.0 1.8\n",
        "[-0.97219504 -0.01407017]"
       ]
      },
      {
       "output_type": "stream",
       "stream": "stdout",
       "text": [
        "\n",
        "3.0 1.9\n",
        "[-0.97165033 -0.01307447]"
       ]
      },
      {
       "output_type": "stream",
       "stream": "stdout",
       "text": [
        "\n",
        "3.0 2.0\n",
        "[-0.97109891 -0.01191597]"
       ]
      },
      {
       "output_type": "stream",
       "stream": "stdout",
       "text": [
        "\n",
        "3.0 2.1\n",
        "[-0.97054972 -0.01056685]"
       ]
      },
      {
       "output_type": "stream",
       "stream": "stdout",
       "text": [
        "\n",
        "3.0 2.2\n",
        "[-0.97001488 -0.00899433]"
       ]
      },
      {
       "output_type": "stream",
       "stream": "stdout",
       "text": [
        "\n",
        "3.0 2.3\n",
        "[-0.96951065 -0.00715975]"
       ]
      },
      {
       "output_type": "stream",
       "stream": "stdout",
       "text": [
        "\n",
        "3.0 2.4\n",
        "[-0.96905886 -0.00501737]"
       ]
      },
      {
       "output_type": "stream",
       "stream": "stdout",
       "text": [
        "\n",
        "3.0 2.5\n",
        "[-0.9686887  -0.00251314]"
       ]
      },
      {
       "output_type": "stream",
       "stream": "stdout",
       "text": [
        "\n",
        "3.0 2.6\n",
        "[ -9.68439208e-01   4.16908585e-04]"
       ]
      },
      {
       "output_type": "stream",
       "stream": "stdout",
       "text": [
        "\n",
        "3.0 2.7\n",
        "[-0.96836264  0.00384829]"
       ]
      },
      {
       "output_type": "stream",
       "stream": "stdout",
       "text": [
        "\n",
        "3.0 2.8\n",
        "[-0.96852914  0.00786982]"
       ]
      },
      {
       "output_type": "stream",
       "stream": "stdout",
       "text": [
        "\n",
        "3.0 2.9\n",
        "[-0.96903311  0.01258508]"
       ]
      },
      {
       "output_type": "stream",
       "stream": "stdout",
       "text": [
        "\n",
        "3.0 3.0\n",
        "[-0.97000215  0.01811307]"
       ]
      },
      {
       "output_type": "stream",
       "stream": "stdout",
       "text": [
        "\n",
        "3.0 3.1\n",
        "[-0.97160952  0.02458663]"
       ]
      },
      {
       "output_type": "stream",
       "stream": "stdout",
       "text": [
        "\n",
        "3.0 3.2\n",
        "[-0.97409144  0.03214597]"
       ]
      },
      {
       "output_type": "stream",
       "stream": "stdout",
       "text": [
        "\n",
        "3.0 3.3\n",
        "[-0.97777116  0.0409213 ]"
       ]
      },
      {
       "output_type": "stream",
       "stream": "stdout",
       "text": [
        "\n",
        "3.0 3.4\n",
        "[-0.98309125  0.05099238]"
       ]
      },
      {
       "output_type": "stream",
       "stream": "stdout",
       "text": [
        "\n",
        "3.0 3.5\n",
        "[-0.99065418  0.06229746]"
       ]
      },
      {
       "output_type": "stream",
       "stream": "stdout",
       "text": [
        "\n",
        "3.0 3.6\n",
        "[-1.00126315  0.074431  ]"
       ]
      },
      {
       "output_type": "stream",
       "stream": "stdout",
       "text": [
        "\n",
        "3.0 3.7\n",
        "[-1.01592731  0.08619001]"
       ]
      },
      {
       "output_type": "stream",
       "stream": "stdout",
       "text": [
        "\n",
        "3.0 3.8\n",
        "[-1.03569894  0.09454251]"
       ]
      },
      {
       "output_type": "stream",
       "stream": "stdout",
       "text": [
        "\n",
        "3.0 3.9\n",
        "[-1.06087673  0.09227785]"
       ]
      },
      {
       "output_type": "stream",
       "stream": "stdout",
       "text": [
        "\n",
        "3.0 4.0\n",
        "[-1.08791989  0.06297404]"
       ]
      },
      {
       "output_type": "stream",
       "stream": "stdout",
       "text": [
        "\n",
        "3.0 4.1\n",
        "[-1.09821352 -0.026314  ]"
       ]
      },
      {
       "output_type": "stream",
       "stream": "stdout",
       "text": [
        "\n",
        "3.0 4.2\n",
        "[-1.0208198  -0.20711181]"
       ]
      },
      {
       "output_type": "stream",
       "stream": "stdout",
       "text": [
        "\n",
        "3.0 4.3\n",
        "[-0.65854857 -0.31676675]"
       ]
      },
      {
       "output_type": "stream",
       "stream": "stdout",
       "text": [
        "\n",
        "3.0 4.4\n",
        "[ 0.14074008  0.08619017]"
       ]
      },
      {
       "output_type": "stream",
       "stream": "stdout",
       "text": [
        "\n",
        "3.0 4.5\n",
        "[ 0.84864855  0.3146897 ]"
       ]
      },
      {
       "output_type": "stream",
       "stream": "stdout",
       "text": [
        "\n",
        "3.0 4.6\n",
        "[ 1.08327482  0.09453885]"
       ]
      },
      {
       "output_type": "stream",
       "stream": "stdout",
       "text": [
        "\n",
        "3.0 4.7\n",
        "[ 1.09084536 -0.05685589]"
       ]
      },
      {
       "output_type": "stream",
       "stream": "stdout",
       "text": [
        "\n",
        "3.0 4.8\n",
        "[ 1.05112001 -0.09583238]"
       ]
      },
      {
       "output_type": "stream",
       "stream": "stdout",
       "text": [
        "\n",
        "3.0 4.9\n",
        "[ 1.01466786 -0.08642933]"
       ]
      },
      {
       "output_type": "stream",
       "stream": "stdout",
       "text": [
        "\n",
        "3.0 5.0\n",
        "[ 0.98977954 -0.06293539]"
       ]
      },
      {
       "output_type": "stream",
       "stream": "stdout",
       "text": [
        "\n",
        "3.0 5.1\n",
        "[ 0.97505956 -0.03843518]"
       ]
      },
      {
       "output_type": "stream",
       "stream": "stdout",
       "text": [
        "\n",
        "3.0 5.2\n",
        "[ 0.96773013 -0.01722629]"
       ]
      },
      {
       "output_type": "stream",
       "stream": "stdout",
       "text": [
        "\n",
        "3.0 5.3\n",
        "[  9.65416496e-01  -3.22562932e-04]"
       ]
      },
      {
       "output_type": "stream",
       "stream": "stdout",
       "text": [
        "\n",
        "3.0 5.4\n",
        "[ 0.96636918  0.01242802]"
       ]
      },
      {
       "output_type": "stream",
       "stream": "stdout",
       "text": [
        "\n",
        "3.0 5.5\n",
        "[ 0.96935821  0.02154653]"
       ]
      },
      {
       "output_type": "stream",
       "stream": "stdout",
       "text": [
        "\n",
        "3.0 5.6\n",
        "[ 0.97353381  0.02762594]"
       ]
      },
      {
       "output_type": "stream",
       "stream": "stdout",
       "text": [
        "\n",
        "3.0 5.7\n",
        "[ 0.97831411  0.0312248 ]"
       ]
      },
      {
       "output_type": "stream",
       "stream": "stdout",
       "text": [
        "\n",
        "3.0 5.8\n",
        "[ 0.98330409  0.03283428]"
       ]
      },
      {
       "output_type": "stream",
       "stream": "stdout",
       "text": [
        "\n",
        "3.0 5.9\n",
        "[ 0.98823916  0.03287319]"
       ]
      },
      {
       "output_type": "stream",
       "stream": "stdout",
       "text": [
        "\n",
        "3.0 6.0\n",
        "[ 0.99294606  0.03169305]"
       ]
      },
      {
       "output_type": "stream",
       "stream": "stdout",
       "text": [
        "\n",
        "3.0 6.1\n",
        "[ 0.9973157   0.02958622]"
       ]
      },
      {
       "output_type": "stream",
       "stream": "stdout",
       "text": [
        "\n",
        "3.0 6.2\n",
        "[ 1.00128416  0.02679428]"
       ]
      },
      {
       "output_type": "stream",
       "stream": "stdout",
       "text": [
        "\n",
        "3.0 6.3\n",
        "[ 1.00481923  0.02351564]"
       ]
      },
      {
       "output_type": "stream",
       "stream": "stdout",
       "text": [
        "\n",
        "3.0 6.4\n",
        "[ 1.00791088  0.01991231]"
       ]
      },
      {
       "output_type": "stream",
       "stream": "stdout",
       "text": [
        "\n",
        "3.0 6.5\n",
        "[ 1.01056436  0.01611562]"
       ]
      },
      {
       "output_type": "stream",
       "stream": "stdout",
       "text": [
        "\n",
        "3.0 6.6\n",
        "[ 1.01279526  0.01223114]"
       ]
      },
      {
       "output_type": "stream",
       "stream": "stdout",
       "text": [
        "\n",
        "3.0 6.7\n",
        "[ 1.01462591  0.00834285]"
       ]
      },
      {
       "output_type": "stream",
       "stream": "stdout",
       "text": [
        "\n",
        "3.0 6.8\n",
        "[ 1.01608279  0.00451663]"
       ]
      },
      {
       "output_type": "stream",
       "stream": "stdout",
       "text": [
        "\n",
        "3.0 6.9\n",
        "[  1.01719466e+00   8.03268315e-04]"
       ]
      },
      {
       "output_type": "stream",
       "stream": "stdout",
       "text": [
        "\n",
        "3.0 7.0\n",
        "[ 1.01799118 -0.00275897]"
       ]
      },
      {
       "output_type": "stream",
       "stream": "stdout",
       "text": [
        "\n",
        "3.0 7.1\n",
        "[ 1.01850199 -0.00614223]"
       ]
      },
      {
       "output_type": "stream",
       "stream": "stdout",
       "text": [
        "\n",
        "3.0 7.2\n",
        "[ 1.01875602 -0.00932723]"
       ]
      },
      {
       "output_type": "stream",
       "stream": "stdout",
       "text": [
        "\n",
        "3.0 7.3\n",
        "[ 1.01878102 -0.01230169]"
       ]
      },
      {
       "output_type": "stream",
       "stream": "stdout",
       "text": [
        "\n",
        "3.0 7.4\n",
        "[ 1.0186033  -0.01505908]"
       ]
      },
      {
       "output_type": "stream",
       "stream": "stdout",
       "text": [
        "\n",
        "3.0 7.5\n",
        "[ 1.01824753 -0.01759745]"
       ]
      },
      {
       "output_type": "stream",
       "stream": "stdout",
       "text": [
        "\n",
        "3.0 7.6\n",
        "[ 1.01773664 -0.01991858]"
       ]
      },
      {
       "output_type": "stream",
       "stream": "stdout",
       "text": [
        "\n",
        "3.0 7.7\n",
        "[ 1.01709181 -0.02202714]"
       ]
      },
      {
       "output_type": "stream",
       "stream": "stdout",
       "text": [
        "\n",
        "3.0 7.8\n",
        "[ 1.01633249 -0.02393008]"
       ]
      },
      {
       "output_type": "stream",
       "stream": "stdout",
       "text": [
        "\n",
        "3.0 7.9\n",
        "[ 1.01547643 -0.0256361 ]"
       ]
      },
      {
       "output_type": "stream",
       "stream": "stdout",
       "text": [
        "\n",
        "3.0 8.0\n",
        "[ 1.01453977 -0.02715518]"
       ]
      },
      {
       "output_type": "stream",
       "stream": "stdout",
       "text": [
        "\n",
        "3.0 8.1\n",
        "[ 1.0135371  -0.02849823]"
       ]
      },
      {
       "output_type": "stream",
       "stream": "stdout",
       "text": [
        "\n",
        "3.0 8.2\n",
        "[ 1.01248162 -0.02967681]"
       ]
      },
      {
       "output_type": "stream",
       "stream": "stdout",
       "text": [
        "\n",
        "3.0 8.3\n",
        "[ 1.01138515 -0.03070285]"
       ]
      },
      {
       "output_type": "stream",
       "stream": "stdout",
       "text": [
        "\n",
        "3.0 8.4\n",
        "[ 1.01025831 -0.03158852]"
       ]
      },
      {
       "output_type": "stream",
       "stream": "stdout",
       "text": [
        "\n",
        "3.0 8.5\n",
        "[ 1.00911057 -0.03234601]"
       ]
      },
      {
       "output_type": "stream",
       "stream": "stdout",
       "text": [
        "\n",
        "3.0 8.6\n",
        "[ 1.00795039 -0.03298748]"
       ]
      },
      {
       "output_type": "stream",
       "stream": "stdout",
       "text": [
        "\n",
        "3.0 8.7\n",
        "[ 1.00678529 -0.03352493]"
       ]
      },
      {
       "output_type": "stream",
       "stream": "stdout",
       "text": [
        "\n",
        "3.0 8.8\n",
        "[ 1.00562194 -0.03397017]"
       ]
      },
      {
       "output_type": "stream",
       "stream": "stdout",
       "text": [
        "\n",
        "3.0 8.9\n",
        "[ 1.00446628 -0.03433473]"
       ]
      },
      {
       "output_type": "stream",
       "stream": "stdout",
       "text": [
        "\n",
        "3.0 9.0\n",
        "[ 1.00332358 -0.0346299 ]"
       ]
      },
      {
       "output_type": "stream",
       "stream": "stdout",
       "text": [
        "\n",
        "3.0 9.1\n",
        "[ 1.00219853 -0.03486668]"
       ]
      },
      {
       "output_type": "stream",
       "stream": "stdout",
       "text": [
        "\n",
        "3.0 9.2\n",
        "[ 1.00109532 -0.03505577]"
       ]
      },
      {
       "output_type": "stream",
       "stream": "stdout",
       "text": [
        "\n",
        "3.0 9.3\n",
        "[ 1.00001771 -0.03520762]"
       ]
      },
      {
       "output_type": "stream",
       "stream": "stdout",
       "text": [
        "\n",
        "3.0 9.4\n",
        "[ 0.99896911 -0.03533243]"
       ]
      },
      {
       "output_type": "stream",
       "stream": "stdout",
       "text": [
        "\n",
        "3.0 9.5\n",
        "[ 0.99795265 -0.03544016]"
       ]
      },
      {
       "output_type": "stream",
       "stream": "stdout",
       "text": [
        "\n",
        "3.0 9.6\n",
        "[ 0.99697127 -0.0355406 ]"
       ]
      },
      {
       "output_type": "stream",
       "stream": "stdout",
       "text": [
        "\n",
        "3.0 9.7\n",
        "[ 0.99602774 -0.0356434 ]"
       ]
      },
      {
       "output_type": "stream",
       "stream": "stdout",
       "text": [
        "\n",
        "3.0 9.8\n",
        "[ 0.99512478 -0.03575809]"
       ]
      },
      {
       "output_type": "stream",
       "stream": "stdout",
       "text": [
        "\n",
        "3.0 9.9\n",
        "[ 0.99426512 -0.03589415]"
       ]
      },
      {
       "output_type": "stream",
       "stream": "stdout",
       "text": [
        "\n",
        "3.1 0.0\n",
        "[-0.97018979 -0.01098557]"
       ]
      },
      {
       "output_type": "stream",
       "stream": "stdout",
       "text": [
        "\n",
        "3.1 0.1\n",
        "[-0.97013506 -0.01077426]"
       ]
      },
      {
       "output_type": "stream",
       "stream": "stdout",
       "text": [
        "\n",
        "3.1 0.2\n",
        "[-0.97005407 -0.01048382]"
       ]
      },
      {
       "output_type": "stream",
       "stream": "stdout",
       "text": [
        "\n",
        "3.1 0.3\n",
        "[-0.96994838 -0.01011138]"
       ]
      },
      {
       "output_type": "stream",
       "stream": "stdout",
       "text": [
        "\n",
        "3.1 0.4\n",
        "[-0.96981991 -0.00965265]"
       ]
      },
      {
       "output_type": "stream",
       "stream": "stdout",
       "text": [
        "\n",
        "3.1 0.5\n",
        "[-0.96967101 -0.0091018 ]"
       ]
      },
      {
       "output_type": "stream",
       "stream": "stdout",
       "text": [
        "\n",
        "3.1 0.6\n",
        "[-0.96950457 -0.00845141]"
       ]
      },
      {
       "output_type": "stream",
       "stream": "stdout",
       "text": [
        "\n",
        "3.1 0.7\n",
        "[-0.96932414 -0.00769229]"
       ]
      },
      {
       "output_type": "stream",
       "stream": "stdout",
       "text": [
        "\n",
        "3.1 0.8\n",
        "[-0.96913412 -0.00681329]"
       ]
      },
      {
       "output_type": "stream",
       "stream": "stdout",
       "text": [
        "\n",
        "3.1 0.9\n",
        "[-0.96893999 -0.00580114]"
       ]
      },
      {
       "output_type": "stream",
       "stream": "stdout",
       "text": [
        "\n",
        "3.1 1.0\n",
        "[-0.96874855 -0.00464008]"
       ]
      },
      {
       "output_type": "stream",
       "stream": "stdout",
       "text": [
        "\n",
        "3.1 1.1\n",
        "[-0.96856835 -0.00331159]"
       ]
      },
      {
       "output_type": "stream",
       "stream": "stdout",
       "text": [
        "\n",
        "3.1 1.2\n",
        "[-0.96841013 -0.00179398]"
       ]
      },
      {
       "output_type": "stream",
       "stream": "stdout",
       "text": [
        "\n",
        "3.1 1.3\n",
        "[ -9.68287389e-01  -6.19004655e-05]"
       ]
      },
      {
       "output_type": "stream",
       "stream": "stdout",
       "text": [
        "\n",
        "3.1 1.4\n",
        "[-0.96821722  0.00191417]"
       ]
      },
      {
       "output_type": "stream",
       "stream": "stdout",
       "text": [
        "\n",
        "3.1 1.5\n",
        "[-0.96822126  0.00416857]"
       ]
      },
      {
       "output_type": "stream",
       "stream": "stdout",
       "text": [
        "\n",
        "3.1 1.6\n",
        "[-0.96832705  0.0067411 ]"
       ]
      },
      {
       "output_type": "stream",
       "stream": "stdout",
       "text": [
        "\n",
        "3.1 1.7\n",
        "[-0.9685697   0.00967779]"
       ]
      },
      {
       "output_type": "stream",
       "stream": "stdout",
       "text": [
        "\n",
        "3.1 1.8\n",
        "[-0.96899417  0.01303158]"
       ]
      },
      {
       "output_type": "stream",
       "stream": "stdout",
       "text": [
        "\n",
        "3.1 1.9\n",
        "[-0.96965823  0.01686288]"
       ]
      },
      {
       "output_type": "stream",
       "stream": "stdout",
       "text": [
        "\n",
        "3.1 2.0\n",
        "[-0.97063644  0.02123982]"
       ]
      },
      {
       "output_type": "stream",
       "stream": "stdout",
       "text": [
        "\n",
        "3.1 2.1\n",
        "[-0.97202535  0.02623763]"
       ]
      },
      {
       "output_type": "stream",
       "stream": "stdout",
       "text": [
        "\n",
        "3.1 2.2\n",
        "[-0.9739506  0.0319365]"
       ]
      },
      {
       "output_type": "stream",
       "stream": "stdout",
       "text": [
        "\n",
        "3.1 2.3\n",
        "[-0.97657615  0.03841623]"
       ]
      },
      {
       "output_type": "stream",
       "stream": "stdout",
       "text": [
        "\n",
        "3.1 2.4\n",
        "[-0.98011654  0.045745  ]"
       ]
      },
      {
       "output_type": "stream",
       "stream": "stdout",
       "text": [
        "\n",
        "3.1 2.5\n",
        "[-0.98485251  0.05395642]"
       ]
      },
      {
       "output_type": "stream",
       "stream": "stdout",
       "text": [
        "\n",
        "3.1 2.6\n",
        "[-0.99114969  0.06300425]"
       ]
      },
      {
       "output_type": "stream",
       "stream": "stdout",
       "text": [
        "\n",
        "3.1 2.7\n",
        "[-0.99947748  0.07267281]"
       ]
      },
      {
       "output_type": "stream",
       "stream": "stdout",
       "text": [
        "\n",
        "3.1 2.8\n",
        "[-1.01041757  0.08239858]"
       ]
      },
      {
       "output_type": "stream",
       "stream": "stdout",
       "text": [
        "\n",
        "3.1 2.9\n",
        "[-1.02462892  0.09091101]"
       ]
      },
      {
       "output_type": "stream",
       "stream": "stdout",
       "text": [
        "\n",
        "3.1 3.0\n",
        "[-1.04267192  0.09550179]"
       ]
      },
      {
       "output_type": "stream",
       "stream": "stdout",
       "text": [
        "\n",
        "3.1 3.1\n",
        "[-1.06440362  0.09055106]"
       ]
      },
      {
       "output_type": "stream",
       "stream": "stdout",
       "text": [
        "\n",
        "3.1 3.2\n",
        "[-1.08708156  0.06475374]"
       ]
      },
      {
       "output_type": "stream",
       "stream": "stdout",
       "text": [
        "\n",
        "3.1 3.3\n",
        "[-1.09959847 -0.00260452]"
       ]
      },
      {
       "output_type": "stream",
       "stream": "stdout",
       "text": [
        "\n",
        "3.1 3.4\n",
        "[-1.0658657  -0.13688527]"
       ]
      },
      {
       "output_type": "stream",
       "stream": "stdout",
       "text": [
        "\n",
        "3.1 3.5\n",
        "[-0.88735438 -0.30266721]"
       ]
      },
      {
       "output_type": "stream",
       "stream": "stdout",
       "text": [
        "\n",
        "3.1 3.6\n",
        "[-0.39707093 -0.22680161]"
       ]
      },
      {
       "output_type": "stream",
       "stream": "stdout",
       "text": [
        "\n",
        "3.1 3.7\n",
        "[ 0.35394275  0.20568385]"
       ]
      },
      {
       "output_type": "stream",
       "stream": "stdout",
       "text": [
        "\n",
        "3.1 3.8\n",
        "[ 0.89833957  0.29836251]"
       ]
      },
      {
       "output_type": "stream",
       "stream": "stdout",
       "text": [
        "\n",
        "3.1 3.9\n",
        "[ 1.08290712  0.09562409]"
       ]
      },
      {
       "output_type": "stream",
       "stream": "stdout",
       "text": [
        "\n",
        "3.1 4.0\n",
        "[ 1.09439628 -0.04569633]"
       ]
      },
      {
       "output_type": "stream",
       "stream": "stdout",
       "text": [
        "\n",
        "3.1 4.1\n",
        "[ 1.06102211 -0.09291674]"
       ]
      },
      {
       "output_type": "stream",
       "stream": "stdout",
       "text": [
        "\n",
        "3.1 4.2\n",
        "[ 1.0260841  -0.09240783]"
       ]
      },
      {
       "output_type": "stream",
       "stream": "stdout",
       "text": [
        "\n",
        "3.1 4.3\n",
        "[ 0.99965726 -0.07418589]"
       ]
      },
      {
       "output_type": "stream",
       "stream": "stdout",
       "text": [
        "\n",
        "3.1 4.4\n",
        "[ 0.98217173 -0.05180488]"
       ]
      },
      {
       "output_type": "stream",
       "stream": "stdout",
       "text": [
        "\n",
        "3.1 4.5\n",
        "[ 0.97185348 -0.03066147]"
       ]
      },
      {
       "output_type": "stream",
       "stream": "stdout",
       "text": [
        "\n",
        "3.1 4.6\n",
        "[ 0.96679206 -0.01262184]"
       ]
      },
      {
       "output_type": "stream",
       "stream": "stdout",
       "text": [
        "\n",
        "3.1 4.7\n",
        "[ 0.96542023  0.00190904]"
       ]
      },
      {
       "output_type": "stream",
       "stream": "stdout",
       "text": [
        "\n",
        "3.1 4.8\n",
        "[ 0.96655294  0.01310466]"
       ]
      },
      {
       "output_type": "stream",
       "stream": "stdout",
       "text": [
        "\n",
        "3.1 4.9\n",
        "[ 0.96932173  0.02134362]"
       ]
      },
      {
       "output_type": "stream",
       "stream": "stdout",
       "text": [
        "\n",
        "3.1 5.0\n",
        "[ 0.97309892  0.02705289]"
       ]
      },
      {
       "output_type": "stream",
       "stream": "stdout",
       "text": [
        "\n",
        "3.1 5.1\n",
        "[ 0.97743451  0.03064403]"
       ]
      },
      {
       "output_type": "stream",
       "stream": "stdout",
       "text": [
        "\n",
        "3.1 5.2\n",
        "[ 0.98200837  0.03248952]"
       ]
      },
      {
       "output_type": "stream",
       "stream": "stdout",
       "text": [
        "\n",
        "3.1 5.3\n",
        "[ 0.98659521  0.03291646]"
       ]
      },
      {
       "output_type": "stream",
       "stream": "stdout",
       "text": [
        "\n",
        "3.1 5.4\n",
        "[ 0.9910391   0.03220734]"
       ]
      },
      {
       "output_type": "stream",
       "stream": "stdout",
       "text": [
        "\n",
        "3.1 5.5\n",
        "[ 0.99523495  0.03060377]"
       ]
      },
      {
       "output_type": "stream",
       "stream": "stdout",
       "text": [
        "\n",
        "3.1 5.6\n",
        "[ 0.99911502  0.02831087]"
       ]
      },
      {
       "output_type": "stream",
       "stream": "stdout",
       "text": [
        "\n",
        "3.1 5.7\n",
        "[ 1.002639    0.02550179]"
       ]
      },
      {
       "output_type": "stream",
       "stream": "stdout",
       "text": [
        "\n",
        "3.1 5.8\n",
        "[ 1.00578663  0.02232184]"
       ]
      },
      {
       "output_type": "stream",
       "stream": "stdout",
       "text": [
        "\n",
        "3.1 5.9\n",
        "[ 1.00855222  0.01889222]"
       ]
      },
      {
       "output_type": "stream",
       "stream": "stdout",
       "text": [
        "\n",
        "3.1 6.0\n",
        "[ 1.0109406   0.01531331]"
       ]
      },
      {
       "output_type": "stream",
       "stream": "stdout",
       "text": [
        "\n",
        "3.1 6.1\n",
        "[ 1.01296396  0.01166753]"
       ]
      },
      {
       "output_type": "stream",
       "stream": "stdout",
       "text": [
        "\n",
        "3.1 6.2\n",
        "[ 1.01463959  0.00802192]"
       ]
      },
      {
       "output_type": "stream",
       "stream": "stdout",
       "text": [
        "\n",
        "3.1 6.3\n",
        "[ 1.01598807  0.0044303 ]"
       ]
      },
      {
       "output_type": "stream",
       "stream": "stdout",
       "text": [
        "\n",
        "3.1 6.4\n",
        "[  1.01703200e+00   9.35236021e-04]"
       ]
      },
      {
       "output_type": "stream",
       "stream": "stdout",
       "text": [
        "\n",
        "3.1 6.5\n",
        "[ 1.017795   -0.00243033]"
       ]
      },
      {
       "output_type": "stream",
       "stream": "stdout",
       "text": [
        "\n",
        "3.1 6.6\n",
        "[ 1.01830094 -0.00564156]"
       ]
      },
      {
       "output_type": "stream",
       "stream": "stdout",
       "text": [
        "\n",
        "3.1 6.7\n",
        "[ 1.01857345 -0.00868051]"
       ]
      },
      {
       "output_type": "stream",
       "stream": "stdout",
       "text": [
        "\n",
        "3.1 6.8\n",
        "[ 1.01863551 -0.01153494]"
       ]
      },
      {
       "output_type": "stream",
       "stream": "stdout",
       "text": [
        "\n",
        "3.1 6.9\n",
        "[ 1.01850916 -0.01419747]"
       ]
      },
      {
       "output_type": "stream",
       "stream": "stdout",
       "text": [
        "\n",
        "3.1 7.0\n",
        "[ 1.01821535 -0.01666464]"
       ]
      },
      {
       "output_type": "stream",
       "stream": "stdout",
       "text": [
        "\n",
        "3.1 7.1\n",
        "[ 1.0177738  -0.01893628]"
       ]
      },
      {
       "output_type": "stream",
       "stream": "stdout",
       "text": [
        "\n",
        "3.1 7.2\n",
        "[ 1.01720294 -0.02101489]"
       ]
      },
      {
       "output_type": "stream",
       "stream": "stdout",
       "text": [
        "\n",
        "3.1 7.3\n",
        "[ 1.01651991 -0.02290507]"
       ]
      },
      {
       "output_type": "stream",
       "stream": "stdout",
       "text": [
        "\n",
        "3.1 7.4\n",
        "[ 1.01574053 -0.02461314]"
       ]
      },
      {
       "output_type": "stream",
       "stream": "stdout",
       "text": [
        "\n",
        "3.1 7.5\n",
        "[ 1.01487935 -0.02614674]"
       ]
      },
      {
       "output_type": "stream",
       "stream": "stdout",
       "text": [
        "\n",
        "3.1 7.6\n",
        "[ 1.0139497  -0.02751449]"
       ]
      },
      {
       "output_type": "stream",
       "stream": "stdout",
       "text": [
        "\n",
        "3.1 7.7\n",
        "[ 1.01296373 -0.02872579]"
       ]
      },
      {
       "output_type": "stream",
       "stream": "stdout",
       "text": [
        "\n",
        "3.1 7.8\n",
        "[ 1.01193248 -0.02979054]"
       ]
      },
      {
       "output_type": "stream",
       "stream": "stdout",
       "text": [
        "\n",
        "3.1 7.9\n",
        "[ 1.01086596 -0.03071899]"
       ]
      },
      {
       "output_type": "stream",
       "stream": "stdout",
       "text": [
        "\n",
        "3.1 8.0\n",
        "[ 1.0097732  -0.03152161]"
       ]
      },
      {
       "output_type": "stream",
       "stream": "stdout",
       "text": [
        "\n",
        "3.1 8.1\n",
        "[ 1.00866233 -0.03220893]"
       ]
      },
      {
       "output_type": "stream",
       "stream": "stdout",
       "text": [
        "\n",
        "3.1 8.2\n",
        "[ 1.00754068 -0.03279149]"
       ]
      },
      {
       "output_type": "stream",
       "stream": "stdout",
       "text": [
        "\n",
        "3.1 8.3\n",
        "[ 1.00641479 -0.03327974]"
       ]
      },
      {
       "output_type": "stream",
       "stream": "stdout",
       "text": [
        "\n",
        "3.1 8.4\n",
        "[ 1.00529053 -0.033684  ]"
       ]
      },
      {
       "output_type": "stream",
       "stream": "stdout",
       "text": [
        "\n",
        "3.1 8.5\n",
        "[ 1.00417318 -0.03401444]"
       ]
      },
      {
       "output_type": "stream",
       "stream": "stdout",
       "text": [
        "\n",
        "3.1 8.6\n",
        "[ 1.00306742 -0.03428102]"
       ]
      },
      {
       "output_type": "stream",
       "stream": "stdout",
       "text": [
        "\n",
        "3.1 8.7\n",
        "[ 1.00197749 -0.0344935 ]"
       ]
      },
      {
       "output_type": "stream",
       "stream": "stdout",
       "text": [
        "\n",
        "3.1 8.8\n",
        "[ 1.00090717 -0.03466145]"
       ]
      },
      {
       "output_type": "stream",
       "stream": "stdout",
       "text": [
        "\n",
        "3.1 8.9\n",
        "[ 0.9998599  -0.03479423]"
       ]
      },
      {
       "output_type": "stream",
       "stream": "stdout",
       "text": [
        "\n",
        "3.1 9.0\n",
        "[ 0.9988388  -0.03490102]"
       ]
      },
      {
       "output_type": "stream",
       "stream": "stdout",
       "text": [
        "\n",
        "3.1 9.1\n",
        "[ 0.99784677 -0.03499084]"
       ]
      },
      {
       "output_type": "stream",
       "stream": "stdout",
       "text": [
        "\n",
        "3.1 9.2\n",
        "[ 0.99688648 -0.03507257]"
       ]
      },
      {
       "output_type": "stream",
       "stream": "stdout",
       "text": [
        "\n",
        "3.1 9.3\n",
        "[ 0.99596052 -0.03515498]"
       ]
      },
      {
       "output_type": "stream",
       "stream": "stdout",
       "text": [
        "\n",
        "3.1 9.4\n",
        "[ 0.99507138 -0.03524678]"
       ]
      },
      {
       "output_type": "stream",
       "stream": "stdout",
       "text": [
        "\n",
        "3.1 9.5\n",
        "[ 0.99422156 -0.03535666]"
       ]
      },
      {
       "output_type": "stream",
       "stream": "stdout",
       "text": [
        "\n",
        "3.1 9.6\n",
        "[ 0.99341361 -0.03549329]"
       ]
      },
      {
       "output_type": "stream",
       "stream": "stdout",
       "text": [
        "\n",
        "3.1 9.7\n",
        "[ 0.99265021 -0.03566544]"
       ]
      },
      {
       "output_type": "stream",
       "stream": "stdout",
       "text": [
        "\n",
        "3.1 9.8\n",
        "[ 0.99193424 -0.03588198]"
       ]
      },
      {
       "output_type": "stream",
       "stream": "stdout",
       "text": [
        "\n",
        "3.1 9.9\n",
        "[ 0.99126888 -0.03615195]"
       ]
      },
      {
       "output_type": "stream",
       "stream": "stdout",
       "text": [
        "\n",
        "3.2 0.0\n",
        "[-0.97809179  0.04194303]"
       ]
      },
      {
       "output_type": "stream",
       "stream": "stdout",
       "text": [
        "\n",
        "3.2 0.1\n",
        "[-0.97831889  0.04240263]"
       ]
      },
      {
       "output_type": "stream",
       "stream": "stdout",
       "text": [
        "\n",
        "3.2 0.2\n",
        "[-0.97872115  0.04321159]"
       ]
      },
      {
       "output_type": "stream",
       "stream": "stdout",
       "text": [
        "\n",
        "3.2 0.3\n",
        "[-0.97931032  0.0443737 ]"
       ]
      },
      {
       "output_type": "stream",
       "stream": "stdout",
       "text": [
        "\n",
        "3.2 0.4\n",
        "[-0.98010488  0.04589638]"
       ]
      },
      {
       "output_type": "stream",
       "stream": "stdout",
       "text": [
        "\n",
        "3.2 0.5\n",
        "[-0.98113064  0.04779022]"
       ]
      },
      {
       "output_type": "stream",
       "stream": "stdout",
       "text": [
        "\n",
        "3.2 0.6\n",
        "[-0.98242182  0.05006835]"
       ]
      },
      {
       "output_type": "stream",
       "stream": "stdout",
       "text": [
        "\n",
        "3.2 0.7\n",
        "[-0.98402239  0.05274532]"
       ]
      },
      {
       "output_type": "stream",
       "stream": "stdout",
       "text": [
        "\n",
        "3.2 0.8\n",
        "[-0.98598785  0.0558355 ]"
       ]
      },
      {
       "output_type": "stream",
       "stream": "stdout",
       "text": [
        "\n",
        "3.2 0.9\n",
        "[-0.98838758  0.05935037]"
       ]
      },
      {
       "output_type": "stream",
       "stream": "stdout",
       "text": [
        "\n",
        "3.2 1.0\n",
        "[-0.99130761  0.06329418]"
       ]
      },
      {
       "output_type": "stream",
       "stream": "stdout",
       "text": [
        "\n",
        "3.2 1.1\n",
        "[-0.99485398  0.06765694]"
       ]
      },
      {
       "output_type": "stream",
       "stream": "stdout",
       "text": [
        "\n",
        "3.2 1.2\n",
        "[-0.99915658  0.07240302]"
       ]
      },
      {
       "output_type": "stream",
       "stream": "stdout",
       "text": [
        "\n",
        "3.2 1.3\n",
        "[-1.00437283  0.07745239]"
       ]
      },
      {
       "output_type": "stream",
       "stream": "stdout",
       "text": [
        "\n",
        "3.2 1.4\n",
        "[-1.01069041  0.08264978]"
       ]
      },
      {
       "output_type": "stream",
       "stream": "stdout",
       "text": [
        "\n",
        "3.2 1.5\n",
        "[-1.01832629  0.0877132 ]"
       ]
      },
      {
       "output_type": "stream",
       "stream": "stdout",
       "text": [
        "\n",
        "3.2 1.6\n",
        "[-1.02751642  0.09214751]"
       ]
      },
      {
       "output_type": "stream",
       "stream": "stdout",
       "text": [
        "\n",
        "3.2 1.7\n",
        "[-1.03848324  0.09509789]"
       ]
      },
      {
       "output_type": "stream",
       "stream": "stdout",
       "text": [
        "\n",
        "3.2 1.8\n",
        "[-1.05135228  0.09510124]"
       ]
      },
      {
       "output_type": "stream",
       "stream": "stdout",
       "text": [
        "\n",
        "3.2 1.9\n",
        "[-1.06595281  0.08966896]"
       ]
      },
      {
       "output_type": "stream",
       "stream": "stdout",
       "text": [
        "\n",
        "3.2 2.0\n",
        "[-1.08135296  0.07461889]"
       ]
      },
      {
       "output_type": "stream",
       "stream": "stdout",
       "text": [
        "\n",
        "3.2 2.1\n",
        "[-1.09478369  0.04315385]"
       ]
      },
      {
       "output_type": "stream",
       "stream": "stdout",
       "text": [
        "\n",
        "3.2 2.2\n",
        "[-1.09917035 -0.01475768]"
       ]
      },
      {
       "output_type": "stream",
       "stream": "stdout",
       "text": [
        "\n",
        "3.2 2.3\n",
        "[-1.07768126 -0.10973327]"
       ]
      },
      {
       "output_type": "stream",
       "stream": "stdout",
       "text": [
        "\n",
        "3.2 2.4\n",
        "[-0.99326276 -0.2365528 ]"
       ]
      },
      {
       "output_type": "stream",
       "stream": "stdout",
       "text": [
        "\n",
        "3.2 2.5\n",
        "[-0.77746992 -0.32496926]"
       ]
      },
      {
       "output_type": "stream",
       "stream": "stdout",
       "text": [
        "\n",
        "3.2 2.6\n",
        "[-0.35619138 -0.20679035]"
       ]
      },
      {
       "output_type": "stream",
       "stream": "stdout",
       "text": [
        "\n",
        "3.2 2.7\n",
        "[ 0.22366736  0.13499414]"
       ]
      },
      {
       "output_type": "stream",
       "stream": "stdout",
       "text": [
        "\n",
        "3.2 2.8\n",
        "[ 0.72987474  0.32505233]"
       ]
      },
      {
       "output_type": "stream",
       "stream": "stdout",
       "text": [
        "\n",
        "3.2 2.9\n",
        "[ 1.00358873  0.22646163]"
       ]
      },
      {
       "output_type": "stream",
       "stream": "stdout",
       "text": [
        "\n",
        "3.2 3.0\n",
        "[ 1.09259593  0.06119549]"
       ]
      },
      {
       "output_type": "stream",
       "stream": "stdout",
       "text": [
        "\n",
        "3.2 3.1\n",
        "[ 1.09465821 -0.04467573]"
       ]
      },
      {
       "output_type": "stream",
       "stream": "stdout",
       "text": [
        "\n",
        "3.2 3.2\n",
        "[ 1.06843435 -0.08867138]"
       ]
      },
      {
       "output_type": "stream",
       "stream": "stdout",
       "text": [
        "\n",
        "3.2 3.3\n",
        "[ 1.03847781 -0.09582402]"
       ]
      },
      {
       "output_type": "stream",
       "stream": "stdout",
       "text": [
        "\n",
        "3.2 3.4\n",
        "[ 1.01300581 -0.08529382]"
       ]
      },
      {
       "output_type": "stream",
       "stream": "stdout",
       "text": [
        "\n",
        "3.2 3.5\n",
        "[ 0.99382261 -0.06786533]"
       ]
      },
      {
       "output_type": "stream",
       "stream": "stdout",
       "text": [
        "\n",
        "3.2 3.6\n",
        "[ 0.98051563 -0.04896789]"
       ]
      },
      {
       "output_type": "stream",
       "stream": "stdout",
       "text": [
        "\n",
        "3.2 3.7\n",
        "[ 0.97205936 -0.03114188]"
       ]
      },
      {
       "output_type": "stream",
       "stream": "stdout",
       "text": [
        "\n",
        "3.2 3.8\n",
        "[ 0.9673864  -0.01545756]"
       ]
      },
      {
       "output_type": "stream",
       "stream": "stdout",
       "text": [
        "\n",
        "3.2 3.9\n",
        "[ 0.96556619 -0.00225739]"
       ]
      },
      {
       "output_type": "stream",
       "stream": "stdout",
       "text": [
        "\n",
        "3.2 4.0\n",
        "[ 0.9658404   0.00846704]"
       ]
      },
      {
       "output_type": "stream",
       "stream": "stdout",
       "text": [
        "\n",
        "3.2 4.1\n",
        "[ 0.9676099   0.01688509]"
       ]
      },
      {
       "output_type": "stream",
       "stream": "stdout",
       "text": [
        "\n",
        "3.2 4.2\n",
        "[ 0.97040891  0.02323165]"
       ]
      },
      {
       "output_type": "stream",
       "stream": "stdout",
       "text": [
        "\n",
        "3.2 4.3\n",
        "[ 0.9738788   0.02775966]"
       ]
      },
      {
       "output_type": "stream",
       "stream": "stdout",
       "text": [
        "\n",
        "3.2 4.4\n",
        "[ 0.97774553  0.03071689]"
       ]
      },
      {
       "output_type": "stream",
       "stream": "stdout",
       "text": [
        "\n",
        "3.2 4.5\n",
        "[ 0.98180127  0.03233521]"
       ]
      },
      {
       "output_type": "stream",
       "stream": "stdout",
       "text": [
        "\n",
        "3.2 4.6\n",
        "[ 0.98588996  0.03282615]"
       ]
      },
      {
       "output_type": "stream",
       "stream": "stdout",
       "text": [
        "\n",
        "3.2 4.7\n",
        "[ 0.98989592  0.03237978]"
       ]
      },
      {
       "output_type": "stream",
       "stream": "stdout",
       "text": [
        "\n",
        "3.2 4.8\n",
        "[ 0.99373503  0.03116505]"
       ]
      },
      {
       "output_type": "stream",
       "stream": "stdout",
       "text": [
        "\n",
        "3.2 4.9\n",
        "[ 0.9973478   0.02933103]"
       ]
      },
      {
       "output_type": "stream",
       "stream": "stdout",
       "text": [
        "\n",
        "3.2 5.0\n",
        "[ 1.00069401  0.02700834]"
       ]
      },
      {
       "output_type": "stream",
       "stream": "stdout",
       "text": [
        "\n",
        "3.2 5.1\n",
        "[ 1.0037484   0.02431078]"
       ]
      },
      {
       "output_type": "stream",
       "stream": "stdout",
       "text": [
        "\n",
        "3.2 5.2\n",
        "[ 1.00649732  0.02133685]"
       ]
      },
      {
       "output_type": "stream",
       "stream": "stdout",
       "text": [
        "\n",
        "3.2 5.3\n",
        "[ 1.00893608  0.01817131]"
       ]
      },
      {
       "output_type": "stream",
       "stream": "stdout",
       "text": [
        "\n",
        "3.2 5.4\n",
        "[ 1.01106682  0.01488654]"
       ]
      },
      {
       "output_type": "stream",
       "stream": "stdout",
       "text": [
        "\n",
        "3.2 5.5\n",
        "[ 1.01289682  0.01154385]"
       ]
      },
      {
       "output_type": "stream",
       "stream": "stdout",
       "text": [
        "\n",
        "3.2 5.6\n",
        "[ 1.01443716  0.00819473]"
       ]
      },
      {
       "output_type": "stream",
       "stream": "stdout",
       "text": [
        "\n",
        "3.2 5.7\n",
        "[ 1.01570161  0.00488193]"
       ]
      },
      {
       "output_type": "stream",
       "stream": "stdout",
       "text": [
        "\n",
        "3.2 5.8\n",
        "[ 1.01670584  0.0016405 ]"
       ]
      },
      {
       "output_type": "stream",
       "stream": "stdout",
       "text": [
        "\n",
        "3.2 5.9\n",
        "[ 1.01746669 -0.00150133]"
       ]
      },
      {
       "output_type": "stream",
       "stream": "stdout",
       "text": [
        "\n",
        "3.2 6.0\n",
        "[ 1.01800163 -0.00452124]"
       ]
      },
      {
       "output_type": "stream",
       "stream": "stdout",
       "text": [
        "\n",
        "3.2 6.1\n",
        "[ 1.01832838 -0.0074021 ]"
       ]
      },
      {
       "output_type": "stream",
       "stream": "stdout",
       "text": [
        "\n",
        "3.2 6.2\n",
        "[ 1.01846456 -0.01013127]"
       ]
      },
      {
       "output_type": "stream",
       "stream": "stdout",
       "text": [
        "\n",
        "3.2 6.3\n",
        "[ 1.01842742 -0.01269997]"
       ]
      },
      {
       "output_type": "stream",
       "stream": "stdout",
       "text": [
        "\n",
        "3.2 6.4\n",
        "[ 1.01823371 -0.01510275]"
       ]
      },
      {
       "output_type": "stream",
       "stream": "stdout",
       "text": [
        "\n",
        "3.2 6.5\n",
        "[ 1.01789949 -0.01733694]"
       ]
      },
      {
       "output_type": "stream",
       "stream": "stdout",
       "text": [
        "\n",
        "3.2 6.6\n",
        "[ 1.01744004 -0.0194023 ]"
       ]
      },
      {
       "output_type": "stream",
       "stream": "stdout",
       "text": [
        "\n",
        "3.2 6.7\n",
        "[ 1.01686984 -0.02130056]"
       ]
      },
      {
       "output_type": "stream",
       "stream": "stdout",
       "text": [
        "\n",
        "3.2 6.8\n",
        "[ 1.01620247 -0.02303509]"
       ]
      },
      {
       "output_type": "stream",
       "stream": "stdout",
       "text": [
        "\n",
        "3.2 6.9\n",
        "[ 1.01545066 -0.02461062]"
       ]
      },
      {
       "output_type": "stream",
       "stream": "stdout",
       "text": [
        "\n",
        "3.2 7.0\n",
        "[ 1.01462622 -0.026033  ]"
       ]
      },
      {
       "output_type": "stream",
       "stream": "stdout",
       "text": [
        "\n",
        "3.2 7.1\n",
        "[ 1.01374014 -0.02730893]"
       ]
      },
      {
       "output_type": "stream",
       "stream": "stdout",
       "text": [
        "\n",
        "3.2 7.2\n",
        "[ 1.01280251 -0.02844578]"
       ]
      },
      {
       "output_type": "stream",
       "stream": "stdout",
       "text": [
        "\n",
        "3.2 7.3\n",
        "[ 1.01182265 -0.02945145]"
       ]
      },
      {
       "output_type": "stream",
       "stream": "stdout",
       "text": [
        "\n",
        "3.2 7.4\n",
        "[ 1.01080909 -0.03033421]"
       ]
      },
      {
       "output_type": "stream",
       "stream": "stdout",
       "text": [
        "\n",
        "3.2 7.5\n",
        "[ 1.0097696  -0.03110259]"
       ]
      },
      {
       "output_type": "stream",
       "stream": "stdout",
       "text": [
        "\n",
        "3.2 7.6\n",
        "[ 1.0087113  -0.03176529]"
       ]
      },
      {
       "output_type": "stream",
       "stream": "stdout",
       "text": [
        "\n",
        "3.2 7.7\n",
        "[ 1.00764063 -0.03233107]"
       ]
      },
      {
       "output_type": "stream",
       "stream": "stdout",
       "text": [
        "\n",
        "3.2 7.8\n",
        "[ 1.00656344 -0.03280874]"
       ]
      },
      {
       "output_type": "stream",
       "stream": "stdout",
       "text": [
        "\n",
        "3.2 7.9\n",
        "[ 1.00548504 -0.03320705]"
       ]
      },
      {
       "output_type": "stream",
       "stream": "stdout",
       "text": [
        "\n",
        "3.2 8.0\n",
        "[ 1.0044102 -0.0335347]"
       ]
      },
      {
       "output_type": "stream",
       "stream": "stdout",
       "text": [
        "\n",
        "3.2 8.1\n",
        "[ 1.00334327 -0.0338003 ]"
       ]
      },
      {
       "output_type": "stream",
       "stream": "stdout",
       "text": [
        "\n",
        "3.2 8.2\n",
        "[ 1.00228817 -0.03401233]"
       ]
      },
      {
       "output_type": "stream",
       "stream": "stdout",
       "text": [
        "\n",
        "3.2 8.3\n",
        "[ 1.00124843 -0.03417917]"
       ]
      },
      {
       "output_type": "stream",
       "stream": "stdout",
       "text": [
        "\n",
        "3.2 8.4\n",
        "[ 1.0002273  -0.03430904]"
       ]
      },
      {
       "output_type": "stream",
       "stream": "stdout",
       "text": [
        "\n",
        "3.2 8.5\n",
        "[ 0.99922772 -0.03441009]"
       ]
      },
      {
       "output_type": "stream",
       "stream": "stdout",
       "text": [
        "\n",
        "3.2 8.6\n",
        "[ 0.99825243 -0.03449031]"
       ]
      },
      {
       "output_type": "stream",
       "stream": "stdout",
       "text": [
        "\n",
        "3.2 8.7\n",
        "[ 0.99730395 -0.03455765]"
       ]
      },
      {
       "output_type": "stream",
       "stream": "stdout",
       "text": [
        "\n",
        "3.2 8.8\n",
        "[ 0.99638469 -0.03461995]"
       ]
      },
      {
       "output_type": "stream",
       "stream": "stdout",
       "text": [
        "\n",
        "3.2 8.9\n",
        "[ 0.99549695 -0.034685  ]"
       ]
      },
      {
       "output_type": "stream",
       "stream": "stdout",
       "text": [
        "\n",
        "3.2 9.0\n",
        "[ 0.99464301 -0.03476061]"
       ]
      },
      {
       "output_type": "stream",
       "stream": "stdout",
       "text": [
        "\n",
        "3.2 9.1\n",
        "[ 0.99382513 -0.03485456]"
       ]
      },
      {
       "output_type": "stream",
       "stream": "stdout",
       "text": [
        "\n",
        "3.2 9.2\n",
        "[ 0.99304566 -0.03497471]"
       ]
      },
      {
       "output_type": "stream",
       "stream": "stdout",
       "text": [
        "\n",
        "3.2 9.3\n",
        "[ 0.99230705 -0.035129  ]"
       ]
      },
      {
       "output_type": "stream",
       "stream": "stdout",
       "text": [
        "\n",
        "3.2 9.4\n",
        "[ 0.99161195 -0.03532551]"
       ]
      },
      {
       "output_type": "stream",
       "stream": "stdout",
       "text": [
        "\n",
        "3.2 9.5\n",
        "[ 0.99096326 -0.0355725 ]"
       ]
      },
      {
       "output_type": "stream",
       "stream": "stdout",
       "text": [
        "\n",
        "3.2 9.6\n",
        "[ 0.99036421 -0.03587847]"
       ]
      },
      {
       "output_type": "stream",
       "stream": "stdout",
       "text": [
        "\n",
        "3.2 9.7\n",
        "[ 0.98981847 -0.0362522 ]"
       ]
      },
      {
       "output_type": "stream",
       "stream": "stdout",
       "text": [
        "\n",
        "3.2 9.8\n",
        "[ 0.98933019 -0.0367028 ]"
       ]
      },
      {
       "output_type": "stream",
       "stream": "stdout",
       "text": [
        "\n",
        "3.2 9.9\n",
        "[ 0.98890419 -0.03723981]"
       ]
      },
      {
       "output_type": "stream",
       "stream": "stdout",
       "text": [
        "\n",
        "3.3 0.0\n",
        "[-0.56851515 -0.29481655]"
       ]
      },
      {
       "output_type": "stream",
       "stream": "stdout",
       "text": [
        "\n",
        "3.3 0.1\n",
        "[-0.55792365 -0.29151655]"
       ]
      },
      {
       "output_type": "stream",
       "stream": "stdout",
       "text": [
        "\n",
        "3.3 0.2\n",
        "[-0.52747186 -0.28128558]"
       ]
      },
      {
       "output_type": "stream",
       "stream": "stdout",
       "text": [
        "\n",
        "3.3 0.3\n",
        "[-0.47561413 -0.26153253]"
       ]
      },
      {
       "output_type": "stream",
       "stream": "stdout",
       "text": [
        "\n",
        "3.3 0.4\n",
        "[-0.39993334 -0.2281592 ]"
       ]
      },
      {
       "output_type": "stream",
       "stream": "stdout",
       "text": [
        "\n",
        "3.3 0.5\n",
        "[-0.29766638 -0.17623178]"
       ]
      },
      {
       "output_type": "stream",
       "stream": "stdout",
       "text": [
        "\n",
        "3.3 0.6\n",
        "[-0.16669432 -0.10167028]"
       ]
      },
      {
       "output_type": "stream",
       "stream": "stdout",
       "text": [
        "\n",
        "3.3 0.7\n",
        "[-0.00712905 -0.00439453]"
       ]
      },
      {
       "output_type": "stream",
       "stream": "stdout",
       "text": [
        "\n",
        "3.3 0.8\n",
        "[ 0.17669285  0.10761583]"
       ]
      },
      {
       "output_type": "stream",
       "stream": "stdout",
       "text": [
        "\n",
        "3.3 0.9\n",
        "[ 0.37465781  0.21600454]"
       ]
      },
      {
       "output_type": "stream",
       "stream": "stdout",
       "text": [
        "\n",
        "3.3 1.0\n",
        "[ 0.57123024  0.29566937]"
       ]
      },
      {
       "output_type": "stream",
       "stream": "stdout",
       "text": [
        "\n",
        "3.3 1.1\n",
        "[ 0.74875687  0.32561856]"
       ]
      },
      {
       "output_type": "stream",
       "stream": "stdout",
       "text": [
        "\n",
        "3.3 1.2\n",
        "[ 0.89275236  0.30063758]"
       ]
      },
      {
       "output_type": "stream",
       "stream": "stdout",
       "text": [
        "\n",
        "3.3 1.3\n",
        "[ 0.99617483  0.2338636 ]"
       ]
      },
      {
       "output_type": "stream",
       "stream": "stdout",
       "text": [
        "\n",
        "3.3 1.4\n",
        "[ 1.06019514  0.14825666]"
       ]
      },
      {
       "output_type": "stream",
       "stream": "stdout",
       "text": [
        "\n",
        "3.3 1.5\n",
        "[ 1.09170405  0.06503959]"
       ]
      },
      {
       "output_type": "stream",
       "stream": "stdout",
       "text": [
        "\n",
        "3.3 1.6\n",
        "[ 1.09976721 -0.00279733]"
       ]
      },
      {
       "output_type": "stream",
       "stream": "stdout",
       "text": [
        "\n",
        "3.3 1.7\n",
        "[ 1.09293119 -0.05071917]"
       ]
      },
      {
       "output_type": "stream",
       "stream": "stdout",
       "text": [
        "\n",
        "3.3 1.8\n",
        "[ 1.07794089 -0.07976488]"
       ]
      },
      {
       "output_type": "stream",
       "stream": "stdout",
       "text": [
        "\n",
        "3.3 1.9\n",
        "[ 1.05952077 -0.09351208]"
       ]
      },
      {
       "output_type": "stream",
       "stream": "stdout",
       "text": [
        "\n",
        "3.3 2.0\n",
        "[ 1.04068054 -0.09606935]"
       ]
      },
      {
       "output_type": "stream",
       "stream": "stdout",
       "text": [
        "\n",
        "3.3 2.1\n",
        "[ 1.02316489 -0.09109493]"
       ]
      },
      {
       "output_type": "stream",
       "stream": "stdout",
       "text": [
        "\n",
        "3.3 2.2\n",
        "[ 1.00786382 -0.08147456]"
       ]
      },
      {
       "output_type": "stream",
       "stream": "stdout",
       "text": [
        "\n",
        "3.3 2.3\n",
        "[ 0.99512611 -0.06932646]"
       ]
      },
      {
       "output_type": "stream",
       "stream": "stdout",
       "text": [
        "\n",
        "3.3 2.4\n",
        "[ 0.98497748 -0.05613   ]"
       ]
      },
      {
       "output_type": "stream",
       "stream": "stdout",
       "text": [
        "\n",
        "3.3 2.5\n",
        "[ 0.97726356 -0.04287706]"
       ]
      },
      {
       "output_type": "stream",
       "stream": "stdout",
       "text": [
        "\n",
        "3.3 2.6\n",
        "[ 0.97173982 -0.0302056 ]"
       ]
      },
      {
       "output_type": "stream",
       "stream": "stdout",
       "text": [
        "\n",
        "3.3 2.7\n",
        "[ 0.96812597 -0.01850471]"
       ]
      },
      {
       "output_type": "stream",
       "stream": "stdout",
       "text": [
        "\n",
        "3.3 2.8\n",
        "[ 0.96613773 -0.0079921 ]"
       ]
      },
      {
       "output_type": "stream",
       "stream": "stdout",
       "text": [
        "\n",
        "3.3 2.9\n",
        "[ 0.96550432  0.00123048]"
       ]
      },
      {
       "output_type": "stream",
       "stream": "stdout",
       "text": [
        "\n",
        "3.3 3.0\n",
        "[ 0.96597733  0.00913855]"
       ]
      },
      {
       "output_type": "stream",
       "stream": "stdout",
       "text": [
        "\n",
        "3.3 3.1\n",
        "[ 0.96733443  0.01575825]"
       ]
      },
      {
       "output_type": "stream",
       "stream": "stdout",
       "text": [
        "\n",
        "3.3 3.2\n",
        "[ 0.96938008  0.02114798]"
       ]
      },
      {
       "output_type": "stream",
       "stream": "stdout",
       "text": [
        "\n",
        "3.3 3.3\n",
        "[ 0.97194458  0.02538599]"
       ]
      },
      {
       "output_type": "stream",
       "stream": "stdout",
       "text": [
        "\n",
        "3.3 3.4\n",
        "[ 0.97488234  0.02856184]"
       ]
      },
      {
       "output_type": "stream",
       "stream": "stdout",
       "text": [
        "\n",
        "3.3 3.5\n",
        "[ 0.97806961  0.03077062]"
       ]
      },
      {
       "output_type": "stream",
       "stream": "stdout",
       "text": [
        "\n",
        "3.3 3.6\n",
        "[ 0.98140233  0.03210902]"
       ]
      },
      {
       "output_type": "stream",
       "stream": "stdout",
       "text": [
        "\n",
        "3.3 3.7\n",
        "[ 0.98479381  0.03267266]"
       ]
      },
      {
       "output_type": "stream",
       "stream": "stdout",
       "text": [
        "\n",
        "3.3 3.8\n",
        "[ 0.98817268  0.03255424]"
       ]
      },
      {
       "output_type": "stream",
       "stream": "stdout",
       "text": [
        "\n",
        "3.3 3.9\n",
        "[ 0.99148095  0.03184238]"
       ]
      },
      {
       "output_type": "stream",
       "stream": "stdout",
       "text": [
        "\n",
        "3.3 4.0\n",
        "[ 0.9946723   0.03062078]"
       ]
      },
      {
       "output_type": "stream",
       "stream": "stdout",
       "text": [
        "\n",
        "3.3 4.1\n",
        "[ 0.99771043  0.02896772]"
       ]
      },
      {
       "output_type": "stream",
       "stream": "stdout",
       "text": [
        "\n",
        "3.3 4.2\n",
        "[ 1.00056773  0.02695583]"
       ]
      },
      {
       "output_type": "stream",
       "stream": "stdout",
       "text": [
        "\n",
        "3.3 4.3\n",
        "[ 1.00322399  0.02465192]"
       ]
      },
      {
       "output_type": "stream",
       "stream": "stdout",
       "text": [
        "\n",
        "3.3 4.4\n",
        "[ 1.00566531  0.02211699]"
       ]
      },
      {
       "output_type": "stream",
       "stream": "stdout",
       "text": [
        "\n",
        "3.3 4.5\n",
        "[ 1.00788311  0.01940634]"
       ]
      },
      {
       "output_type": "stream",
       "stream": "stdout",
       "text": [
        "\n",
        "3.3 4.6\n",
        "[ 1.00987329  0.01656968]"
       ]
      },
      {
       "output_type": "stream",
       "stream": "stdout",
       "text": [
        "\n",
        "3.3 4.7\n",
        "[ 1.01163545  0.01365138]"
       ]
      },
      {
       "output_type": "stream",
       "stream": "stdout",
       "text": [
        "\n",
        "3.3 4.8\n",
        "[ 1.01317222  0.0106907 ]"
       ]
      },
      {
       "output_type": "stream",
       "stream": "stdout",
       "text": [
        "\n",
        "3.3 4.9\n",
        "[ 1.01448875  0.00772208]"
       ]
      },
      {
       "output_type": "stream",
       "stream": "stdout",
       "text": [
        "\n",
        "3.3 5.0\n",
        "[ 1.01559212  0.00477539]"
       ]
      },
      {
       "output_type": "stream",
       "stream": "stdout",
       "text": [
        "\n",
        "3.3 5.1\n",
        "[ 1.01649097  0.0018763 ]"
       ]
      },
      {
       "output_type": "stream",
       "stream": "stdout",
       "text": [
        "\n",
        "3.3 5.2\n",
        "[  1.01719509e+00  -9.53450275e-04]"
       ]
      },
      {
       "output_type": "stream",
       "stream": "stdout",
       "text": [
        "\n",
        "3.3 5.3\n",
        "[ 1.01771512 -0.00369572]"
       ]
      },
      {
       "output_type": "stream",
       "stream": "stdout",
       "text": [
        "\n",
        "3.3 5.4\n",
        "[ 1.01806227 -0.00633565]"
       ]
      },
      {
       "output_type": "stream",
       "stream": "stdout",
       "text": [
        "\n",
        "3.3 5.5\n",
        "[ 1.0182481  -0.00886137]"
       ]
      },
      {
       "output_type": "stream",
       "stream": "stdout",
       "text": [
        "\n",
        "3.3 5.6\n",
        "[ 1.0182843  -0.01126373]"
       ]
      },
      {
       "output_type": "stream",
       "stream": "stdout",
       "text": [
        "\n",
        "3.3 5.7\n",
        "[ 1.01818256 -0.01353597]"
       ]
      },
      {
       "output_type": "stream",
       "stream": "stdout",
       "text": [
        "\n",
        "3.3 5.8\n",
        "[ 1.01795443 -0.01567349]"
       ]
      },
      {
       "output_type": "stream",
       "stream": "stdout",
       "text": [
        "\n",
        "3.3 5.9\n",
        "[ 1.0176112  -0.01767359]"
       ]
      },
      {
       "output_type": "stream",
       "stream": "stdout",
       "text": [
        "\n",
        "3.3 6.0\n",
        "[ 1.01716382 -0.01953524]"
       ]
      },
      {
       "output_type": "stream",
       "stream": "stdout",
       "text": [
        "\n",
        "3.3 6.1\n",
        "[ 1.01662287 -0.02125887]"
       ]
      },
      {
       "output_type": "stream",
       "stream": "stdout",
       "text": [
        "\n",
        "3.3 6.2\n",
        "[ 1.01599844 -0.02284618]"
       ]
      },
      {
       "output_type": "stream",
       "stream": "stdout",
       "text": [
        "\n",
        "3.3 6.3\n",
        "[ 1.01530017 -0.02429992]"
       ]
      },
      {
       "output_type": "stream",
       "stream": "stdout",
       "text": [
        "\n",
        "3.3 6.4\n",
        "[ 1.01453718 -0.02562379]"
       ]
      },
      {
       "output_type": "stream",
       "stream": "stdout",
       "text": [
        "\n",
        "3.3 6.5\n",
        "[ 1.01371806 -0.02682224]"
       ]
      },
      {
       "output_type": "stream",
       "stream": "stdout",
       "text": [
        "\n",
        "3.3 6.6\n",
        "[ 1.01285089 -0.02790036]"
       ]
      },
      {
       "output_type": "stream",
       "stream": "stdout",
       "text": [
        "\n",
        "3.3 6.7\n",
        "[ 1.01194321 -0.02886376]"
       ]
      },
      {
       "output_type": "stream",
       "stream": "stdout",
       "text": [
        "\n",
        "3.3 6.8\n",
        "[ 1.01100206 -0.02971847]"
       ]
      },
      {
       "output_type": "stream",
       "stream": "stdout",
       "text": [
        "\n",
        "3.3 6.9\n",
        "[ 1.01003398 -0.03047085]"
       ]
      },
      {
       "output_type": "stream",
       "stream": "stdout",
       "text": [
        "\n",
        "3.3 7.0\n",
        "[ 1.00904501 -0.0311275 ]"
       ]
      },
      {
       "output_type": "stream",
       "stream": "stdout",
       "text": [
        "\n",
        "3.3 7.1\n",
        "[ 1.00804073 -0.03169523]"
       ]
      },
      {
       "output_type": "stream",
       "stream": "stdout",
       "text": [
        "\n",
        "3.3 7.2\n",
        "[ 1.0070263  -0.03218095]"
       ]
      },
      {
       "output_type": "stream",
       "stream": "stdout",
       "text": [
        "\n",
        "3.3 7.3\n",
        "[ 1.00600643 -0.03259165]"
       ]
      },
      {
       "output_type": "stream",
       "stream": "stdout",
       "text": [
        "\n",
        "3.3 7.4\n",
        "[ 1.00498545 -0.03293437]"
       ]
      },
      {
       "output_type": "stream",
       "stream": "stdout",
       "text": [
        "\n",
        "3.3 7.5\n",
        "[ 1.00396735 -0.03321617]"
       ]
      },
      {
       "output_type": "stream",
       "stream": "stdout",
       "text": [
        "\n",
        "3.3 7.6\n",
        "[ 1.00295575 -0.03344408]"
       ]
      },
      {
       "output_type": "stream",
       "stream": "stdout",
       "text": [
        "\n",
        "3.3 7.7\n",
        "[ 1.00195399 -0.03362511]"
       ]
      },
      {
       "output_type": "stream",
       "stream": "stdout",
       "text": [
        "\n",
        "3.3 7.8\n",
        "[ 1.00096513 -0.03376622]"
       ]
      },
      {
       "output_type": "stream",
       "stream": "stdout",
       "text": [
        "\n",
        "3.3 7.9\n",
        "[ 0.99999198 -0.03387435]"
       ]
      },
      {
       "output_type": "stream",
       "stream": "stdout",
       "text": [
        "\n",
        "3.3 8.0\n",
        "[ 0.99903714 -0.03395635]"
       ]
      },
      {
       "output_type": "stream",
       "stream": "stdout",
       "text": [
        "\n",
        "3.3 8.1\n",
        "[ 0.99810302 -0.03401908]"
       ]
      },
      {
       "output_type": "stream",
       "stream": "stdout",
       "text": [
        "\n",
        "3.3 8.2\n",
        "[ 0.99719191 -0.03406933]"
       ]
      },
      {
       "output_type": "stream",
       "stream": "stdout",
       "text": [
        "\n",
        "3.3 8.3\n",
        "[ 0.99630595 -0.03411388]"
       ]
      },
      {
       "output_type": "stream",
       "stream": "stdout",
       "text": [
        "\n",
        "3.3 8.4\n",
        "[ 0.99544724 -0.03415951]"
       ]
      },
      {
       "output_type": "stream",
       "stream": "stdout",
       "text": [
        "\n",
        "3.3 8.5\n",
        "[ 0.9946178  -0.03421303]"
       ]
      },
      {
       "output_type": "stream",
       "stream": "stdout",
       "text": [
        "\n",
        "3.3 8.6\n",
        "[ 0.99381969 -0.03428127]"
       ]
      },
      {
       "output_type": "stream",
       "stream": "stdout",
       "text": [
        "\n",
        "3.3 8.7\n",
        "[ 0.99305498 -0.03437115]"
       ]
      },
      {
       "output_type": "stream",
       "stream": "stdout",
       "text": [
        "\n",
        "3.3 8.8\n",
        "[ 0.99232585 -0.03448966]"
       ]
      },
      {
       "output_type": "stream",
       "stream": "stdout",
       "text": [
        "\n",
        "3.3 8.9\n",
        "[ 0.9916346  -0.03464395]"
       ]
      },
      {
       "output_type": "stream",
       "stream": "stdout",
       "text": [
        "\n",
        "3.3 9.0\n",
        "[ 0.99098374 -0.03484133]"
       ]
      },
      {
       "output_type": "stream",
       "stream": "stdout",
       "text": [
        "\n",
        "3.3 9.1\n",
        "[ 0.99037603 -0.03508934]"
       ]
      },
      {
       "output_type": "stream",
       "stream": "stdout",
       "text": [
        "\n",
        "3.3 9.2\n",
        "[ 0.98981453 -0.03539574]"
       ]
      },
      {
       "output_type": "stream",
       "stream": "stdout",
       "text": [
        "\n",
        "3.3 9.3\n",
        "[ 0.98930274 -0.03576863]"
       ]
      },
      {
       "output_type": "stream",
       "stream": "stdout",
       "text": [
        "\n",
        "3.3 9.4\n",
        "[ 0.98884462 -0.03621643]"
       ]
      },
      {
       "output_type": "stream",
       "stream": "stdout",
       "text": [
        "\n",
        "3.3 9.5\n",
        "[ 0.98844473 -0.03674798]"
       ]
      },
      {
       "output_type": "stream",
       "stream": "stdout",
       "text": [
        "\n",
        "3.3 9.6\n",
        "[ 0.98810835 -0.03737257]"
       ]
      },
      {
       "output_type": "stream",
       "stream": "stdout",
       "text": [
        "\n",
        "3.3 9.7\n",
        "[ 0.98784158 -0.03809999]"
       ]
      },
      {
       "output_type": "stream",
       "stream": "stdout",
       "text": [
        "\n",
        "3.3 9.8\n",
        "[ 0.98765154 -0.0389406 ]"
       ]
      },
      {
       "output_type": "stream",
       "stream": "stdout",
       "text": [
        "\n",
        "3.3 9.9\n",
        "[ 0.98754656 -0.03990534]"
       ]
      },
      {
       "output_type": "stream",
       "stream": "stdout",
       "text": [
        "\n",
        "3.4 0.0\n",
        "[ 0.96727368 -0.01435068]"
       ]
      },
      {
       "output_type": "stream",
       "stream": "stdout",
       "text": [
        "\n",
        "3.4 0.1\n",
        "[ 0.96726937 -0.01434345]"
       ]
      },
      {
       "output_type": "stream",
       "stream": "stdout",
       "text": [
        "\n",
        "3.4 0.2\n",
        "[ 0.96717842 -0.01389904]"
       ]
      },
      {
       "output_type": "stream",
       "stream": "stdout",
       "text": [
        "\n",
        "3.4 0.3\n",
        "[ 0.96700961 -0.01302962]"
       ]
      },
      {
       "output_type": "stream",
       "stream": "stdout",
       "text": [
        "\n",
        "3.4 0.4\n",
        "[ 0.96677894 -0.01175512]"
       ]
      },
      {
       "output_type": "stream",
       "stream": "stdout",
       "text": [
        "\n",
        "3.4 0.5\n",
        "[ 0.96650861 -0.0101028 ]"
       ]
      },
      {
       "output_type": "stream",
       "stream": "stdout",
       "text": [
        "\n",
        "3.4 0.6\n",
        "[ 0.96622562 -0.00810676]"
       ]
      },
      {
       "output_type": "stream",
       "stream": "stdout",
       "text": [
        "\n",
        "3.4 0.7\n",
        "[ 0.96596027 -0.00580728]"
       ]
      },
      {
       "output_type": "stream",
       "stream": "stdout",
       "text": [
        "\n",
        "3.4 0.8\n",
        "[ 0.96574449 -0.00324998]"
       ]
      },
      {
       "output_type": "stream",
       "stream": "stdout",
       "text": [
        "\n",
        "3.4 0.9\n",
        "[  9.65610222e-01  -4.84867344e-04]"
       ]
      },
      {
       "output_type": "stream",
       "stream": "stdout",
       "text": [
        "\n",
        "3.4 1.0\n",
        "[ 0.96558791  0.00243485]"
       ]
      },
      {
       "output_type": "stream",
       "stream": "stdout",
       "text": [
        "\n",
        "3.4 1.1\n",
        "[ 0.9657051   0.00545402]"
       ]
      },
      {
       "output_type": "stream",
       "stream": "stdout",
       "text": [
        "\n",
        "3.4 1.2\n",
        "[ 0.96598539  0.00851691]"
       ]
      },
      {
       "output_type": "stream",
       "stream": "stdout",
       "text": [
        "\n",
        "3.4 1.3\n",
        "[ 0.96644755  0.0115685 ]"
       ]
      },
      {
       "output_type": "stream",
       "stream": "stdout",
       "text": [
        "\n",
        "3.4 1.4\n",
        "[ 0.96710502  0.0145558 ]"
       ]
      },
      {
       "output_type": "stream",
       "stream": "stdout",
       "text": [
        "\n",
        "3.4 1.5\n",
        "[ 0.96796566  0.01742897]"
       ]
      },
      {
       "output_type": "stream",
       "stream": "stdout",
       "text": [
        "\n",
        "3.4 1.6\n",
        "[ 0.96903171  0.02014229]"
       ]
      },
      {
       "output_type": "stream",
       "stream": "stdout",
       "text": [
        "\n",
        "3.4 1.7\n",
        "[ 0.97030009  0.022655  ]"
       ]
      },
      {
       "output_type": "stream",
       "stream": "stdout",
       "text": [
        "\n",
        "3.4 1.8\n",
        "[ 0.97176281  0.02493182]"
       ]
      },
      {
       "output_type": "stream",
       "stream": "stdout",
       "text": [
        "\n",
        "3.4 1.9\n",
        "[ 0.9734075   0.02694336]"
       ]
      },
      {
       "output_type": "stream",
       "stream": "stdout",
       "text": [
        "\n",
        "3.4 2.0\n",
        "[ 0.9752181   0.02866629]"
       ]
      },
      {
       "output_type": "stream",
       "stream": "stdout",
       "text": [
        "\n",
        "3.4 2.1\n",
        "[ 0.97717556  0.03008331]"
       ]
      },
      {
       "output_type": "stream",
       "stream": "stdout",
       "text": [
        "\n",
        "3.4 2.2\n",
        "[ 0.97925854  0.03118302]"
       ]
      },
      {
       "output_type": "stream",
       "stream": "stdout",
       "text": [
        "\n",
        "3.4 2.3\n",
        "[ 0.98144414  0.03195963]"
       ]
      },
      {
       "output_type": "stream",
       "stream": "stdout",
       "text": [
        "\n",
        "3.4 2.4\n",
        "[ 0.98370853  0.03241258]"
       ]
      },
      {
       "output_type": "stream",
       "stream": "stdout",
       "text": [
        "\n",
        "3.4 2.5\n",
        "[ 0.98602758  0.03254607]"
       ]
      },
      {
       "output_type": "stream",
       "stream": "stdout",
       "text": [
        "\n",
        "3.4 2.6\n",
        "[ 0.9883774   0.03236859]"
       ]
      },
      {
       "output_type": "stream",
       "stream": "stdout",
       "text": [
        "\n",
        "3.4 2.7\n",
        "[ 0.99073478  0.03189235]"
       ]
      },
      {
       "output_type": "stream",
       "stream": "stdout",
       "text": [
        "\n",
        "3.4 2.8\n",
        "[ 0.9930776   0.03113277]"
       ]
      },
      {
       "output_type": "stream",
       "stream": "stdout",
       "text": [
        "\n",
        "3.4 2.9\n",
        "[ 0.99538513  0.03010791]"
       ]
      },
      {
       "output_type": "stream",
       "stream": "stdout",
       "text": [
        "\n",
        "3.4 3.0\n",
        "[ 0.99763828  0.02883792]"
       ]
      },
      {
       "output_type": "stream",
       "stream": "stdout",
       "text": [
        "\n",
        "3.4 3.1\n",
        "[ 0.99981974  0.02734459]"
       ]
      },
      {
       "output_type": "stream",
       "stream": "stdout",
       "text": [
        "\n",
        "3.4 3.2\n",
        "[ 1.00191414  0.02565084]"
       ]
      },
      {
       "output_type": "stream",
       "stream": "stdout",
       "text": [
        "\n",
        "3.4 3.3\n",
        "[ 1.00390807  0.02378028]"
       ]
      },
      {
       "output_type": "stream",
       "stream": "stdout",
       "text": [
        "\n",
        "3.4 3.4\n",
        "[ 1.00579013  0.02175679]"
       ]
      },
      {
       "output_type": "stream",
       "stream": "stdout",
       "text": [
        "\n",
        "3.4 3.5\n",
        "[ 1.00755086  0.01960422]"
       ]
      },
      {
       "output_type": "stream",
       "stream": "stdout",
       "text": [
        "\n",
        "3.4 3.6\n",
        "[ 1.00918271  0.017346  ]"
       ]
      },
      {
       "output_type": "stream",
       "stream": "stdout",
       "text": [
        "\n",
        "3.4 3.7\n",
        "[ 1.01067996  0.01500493]"
       ]
      },
      {
       "output_type": "stream",
       "stream": "stdout",
       "text": [
        "\n",
        "3.4 3.8\n",
        "[ 1.01203858  0.0126029 ]"
       ]
      },
      {
       "output_type": "stream",
       "stream": "stdout",
       "text": [
        "\n",
        "3.4 3.9\n",
        "[ 1.01325615  0.01016071]"
       ]
      },
      {
       "output_type": "stream",
       "stream": "stdout",
       "text": [
        "\n",
        "3.4 4.0\n",
        "[ 1.01433171  0.00769796]"
       ]
      },
      {
       "output_type": "stream",
       "stream": "stdout",
       "text": [
        "\n",
        "3.4 4.1\n",
        "[ 1.01526563  0.00523286]"
       ]
      },
      {
       "output_type": "stream",
       "stream": "stdout",
       "text": [
        "\n",
        "3.4 4.2\n",
        "[ 1.01605945  0.00278218]"
       ]
      },
      {
       "output_type": "stream",
       "stream": "stdout",
       "text": [
        "\n",
        "3.4 4.3\n",
        "[  1.01671578e+00   3.61237468e-04]"
       ]
      },
      {
       "output_type": "stream",
       "stream": "stdout",
       "text": [
        "\n",
        "3.4 4.4\n",
        "[ 1.01723812 -0.00201621]"
       ]
      },
      {
       "output_type": "stream",
       "stream": "stdout",
       "text": [
        "\n",
        "3.4 4.5\n",
        "[ 1.01763078 -0.00433792]"
       ]
      },
      {
       "output_type": "stream",
       "stream": "stdout",
       "text": [
        "\n",
        "3.4 4.6\n",
        "[ 1.01789869 -0.00659314]"
       ]
      },
      {
       "output_type": "stream",
       "stream": "stdout",
       "text": [
        "\n",
        "3.4 4.7\n",
        "[ 1.01804734 -0.0087726 ]"
       ]
      },
      {
       "output_type": "stream",
       "stream": "stdout",
       "text": [
        "\n",
        "3.4 4.8\n",
        "[ 1.01808264 -0.01086846]"
       ]
      },
      {
       "output_type": "stream",
       "stream": "stdout",
       "text": [
        "\n",
        "3.4 4.9\n",
        "[ 1.01801083 -0.01287422]"
       ]
      },
      {
       "output_type": "stream",
       "stream": "stdout",
       "text": [
        "\n",
        "3.4 5.0\n",
        "[ 1.01783837 -0.01478469]"
       ]
      },
      {
       "output_type": "stream",
       "stream": "stdout",
       "text": [
        "\n",
        "3.4 5.1\n",
        "[ 1.01757189 -0.01659589]"
       ]
      },
      {
       "output_type": "stream",
       "stream": "stdout",
       "text": [
        "\n",
        "3.4 5.2\n",
        "[ 1.01721806 -0.01830497]"
       ]
      },
      {
       "output_type": "stream",
       "stream": "stdout",
       "text": [
        "\n",
        "3.4 5.3\n",
        "[ 1.01678361 -0.01991012]"
       ]
      },
      {
       "output_type": "stream",
       "stream": "stdout",
       "text": [
        "\n",
        "3.4 5.4\n",
        "[ 1.01627517 -0.02141051]"
       ]
      },
      {
       "output_type": "stream",
       "stream": "stdout",
       "text": [
        "\n",
        "3.4 5.5\n",
        "[ 1.01569931 -0.02280618]"
       ]
      },
      {
       "output_type": "stream",
       "stream": "stdout",
       "text": [
        "\n",
        "3.4 5.6\n",
        "[ 1.01506243 -0.02409797]"
       ]
      },
      {
       "output_type": "stream",
       "stream": "stdout",
       "text": [
        "\n",
        "3.4 5.7\n",
        "[ 1.01437079 -0.02528741]"
       ]
      },
      {
       "output_type": "stream",
       "stream": "stdout",
       "text": [
        "\n",
        "3.4 5.8\n",
        "[ 1.01363041 -0.02637668]"
       ]
      },
      {
       "output_type": "stream",
       "stream": "stdout",
       "text": [
        "\n",
        "3.4 5.9\n",
        "[ 1.0128471  -0.02736853]"
       ]
      },
      {
       "output_type": "stream",
       "stream": "stdout",
       "text": [
        "\n",
        "3.4 6.0\n",
        "[ 1.01202642 -0.0282662 ]"
       ]
      },
      {
       "output_type": "stream",
       "stream": "stdout",
       "text": [
        "\n",
        "3.4 6.1\n",
        "[ 1.01117369 -0.02907333]"
       ]
      },
      {
       "output_type": "stream",
       "stream": "stdout",
       "text": [
        "\n",
        "3.4 6.2\n",
        "[ 1.01029393 -0.02979395]"
       ]
      },
      {
       "output_type": "stream",
       "stream": "stdout",
       "text": [
        "\n",
        "3.4 6.3\n",
        "[ 1.00939194 -0.0304324 ]"
       ]
      },
      {
       "output_type": "stream",
       "stream": "stdout",
       "text": [
        "\n",
        "3.4 6.4\n",
        "[ 1.00847219 -0.03099327]"
       ]
      },
      {
       "output_type": "stream",
       "stream": "stdout",
       "text": [
        "\n",
        "3.4 6.5\n",
        "[ 1.00753893 -0.03148137]"
       ]
      },
      {
       "output_type": "stream",
       "stream": "stdout",
       "text": [
        "\n",
        "3.4 6.6\n",
        "[ 1.00659612 -0.03190171]"
       ]
      },
      {
       "output_type": "stream",
       "stream": "stdout",
       "text": [
        "\n",
        "3.4 6.7\n",
        "[ 1.00564748 -0.0322594 ]"
       ]
      },
      {
       "output_type": "stream",
       "stream": "stdout",
       "text": [
        "\n",
        "3.4 6.8\n",
        "[ 1.00469647 -0.0325597 ]"
       ]
      },
      {
       "output_type": "stream",
       "stream": "stdout",
       "text": [
        "\n",
        "3.4 6.9\n",
        "[ 1.00374632 -0.03280795]"
       ]
      },
      {
       "output_type": "stream",
       "stream": "stdout",
       "text": [
        "\n",
        "3.4 7.0\n",
        "[ 1.00280004 -0.03300953]"
       ]
      },
      {
       "output_type": "stream",
       "stream": "stdout",
       "text": [
        "\n",
        "3.4 7.1\n",
        "[ 1.00186043 -0.03316992]"
       ]
      },
      {
       "output_type": "stream",
       "stream": "stdout",
       "text": [
        "\n",
        "3.4 7.2\n",
        "[ 1.00093009 -0.03329459]"
       ]
      },
      {
       "output_type": "stream",
       "stream": "stdout",
       "text": [
        "\n",
        "3.4 7.3\n",
        "[ 1.00001147 -0.03338907]"
       ]
      },
      {
       "output_type": "stream",
       "stream": "stdout",
       "text": [
        "\n",
        "3.4 7.4\n",
        "[ 0.99910683 -0.03345889]"
       ]
      },
      {
       "output_type": "stream",
       "stream": "stdout",
       "text": [
        "\n",
        "3.4 7.5\n",
        "[ 0.99821832 -0.03350964]"
       ]
      },
      {
       "output_type": "stream",
       "stream": "stdout",
       "text": [
        "\n",
        "3.4 7.6\n",
        "[ 0.99734797 -0.03354689]"
       ]
      },
      {
       "output_type": "stream",
       "stream": "stdout",
       "text": [
        "\n",
        "3.4 7.7\n",
        "[ 0.99649771 -0.03357627]"
       ]
      },
      {
       "output_type": "stream",
       "stream": "stdout",
       "text": [
        "\n",
        "3.4 7.8\n",
        "[ 0.99566941 -0.03360344]"
       ]
      },
      {
       "output_type": "stream",
       "stream": "stdout",
       "text": [
        "\n",
        "3.4 7.9\n",
        "[ 0.99486489 -0.03363411]"
       ]
      },
      {
       "output_type": "stream",
       "stream": "stdout",
       "text": [
        "\n",
        "3.4 8.0\n",
        "[ 0.99408595 -0.03367406]"
       ]
      },
      {
       "output_type": "stream",
       "stream": "stdout",
       "text": [
        "\n",
        "3.4 8.1\n",
        "[ 0.99333443 -0.03372913]"
       ]
      },
      {
       "output_type": "stream",
       "stream": "stdout",
       "text": [
        "\n",
        "3.4 8.2\n",
        "[ 0.9926122 -0.0338053]"
       ]
      },
      {
       "output_type": "stream",
       "stream": "stdout",
       "text": [
        "\n",
        "3.4 8.3\n",
        "[ 0.99192121 -0.03390863]"
       ]
      },
      {
       "output_type": "stream",
       "stream": "stdout",
       "text": [
        "\n",
        "3.4 8.4\n",
        "[ 0.99126355 -0.03404538]"
       ]
      },
      {
       "output_type": "stream",
       "stream": "stdout",
       "text": [
        "\n",
        "3.4 8.5\n",
        "[ 0.99064147 -0.03422197]"
       ]
      },
      {
       "output_type": "stream",
       "stream": "stdout",
       "text": [
        "\n",
        "3.4 8.6\n",
        "[ 0.99005742 -0.03444501]"
       ]
      },
      {
       "output_type": "stream",
       "stream": "stdout",
       "text": [
        "\n",
        "3.4 8.7\n",
        "[ 0.98951417 -0.03472141]"
       ]
      },
      {
       "output_type": "stream",
       "stream": "stdout",
       "text": [
        "\n",
        "3.4 8.8\n",
        "[ 0.98901479 -0.03505834]"
       ]
      },
      {
       "output_type": "stream",
       "stream": "stdout",
       "text": [
        "\n",
        "3.4 8.9\n",
        "[ 0.98856276 -0.03546328]"
       ]
      },
      {
       "output_type": "stream",
       "stream": "stdout",
       "text": [
        "\n",
        "3.4 9.0\n",
        "[ 0.98816208 -0.03594413]"
       ]
      },
      {
       "output_type": "stream",
       "stream": "stdout",
       "text": [
        "\n",
        "3.4 9.1\n",
        "[ 0.98781731 -0.03650917]"
       ]
      },
      {
       "output_type": "stream",
       "stream": "stdout",
       "text": [
        "\n",
        "3.4 9.2\n",
        "[ 0.98753373 -0.03716716]"
       ]
      },
      {
       "output_type": "stream",
       "stream": "stdout",
       "text": [
        "\n",
        "3.4 9.3\n",
        "[ 0.98731744 -0.03792735]"
       ]
      },
      {
       "output_type": "stream",
       "stream": "stdout",
       "text": [
        "\n",
        "3.4 9.4\n",
        "[ 0.98717553 -0.03879956]"
       ]
      },
      {
       "output_type": "stream",
       "stream": "stdout",
       "text": [
        "\n",
        "3.4 9.5\n",
        "[ 0.98711624 -0.03979419]"
       ]
      },
      {
       "output_type": "stream",
       "stream": "stdout",
       "text": [
        "\n",
        "3.4 9.6\n",
        "[ 0.98714918 -0.04092226]"
       ]
      },
      {
       "output_type": "stream",
       "stream": "stdout",
       "text": [
        "\n",
        "3.4 9.7\n",
        "[ 0.98728559 -0.0421954 ]"
       ]
      },
      {
       "output_type": "stream",
       "stream": "stdout",
       "text": [
        "\n",
        "3.4 9.8\n",
        "[ 0.98753859 -0.04362587]"
       ]
      },
      {
       "output_type": "stream",
       "stream": "stdout",
       "text": [
        "\n",
        "3.4 9.9\n",
        "[ 0.98792358 -0.04522649]"
       ]
      },
      {
       "output_type": "stream",
       "stream": "stdout",
       "text": [
        "\n",
        "3.5 0.0\n",
        "[ 0.99548231  0.02966644]"
       ]
      },
      {
       "output_type": "stream",
       "stream": "stdout",
       "text": [
        "\n",
        "3.5 0.1\n",
        "[ 0.99545115  0.02969579]"
       ]
      },
      {
       "output_type": "stream",
       "stream": "stdout",
       "text": [
        "\n",
        "3.5 0.2\n",
        "[ 0.99550802  0.02967906]"
       ]
      },
      {
       "output_type": "stream",
       "stream": "stdout",
       "text": [
        "\n",
        "3.5 0.3\n",
        "[ 0.99565196  0.02961603]"
       ]
      },
      {
       "output_type": "stream",
       "stream": "stdout",
       "text": [
        "\n",
        "3.5 0.4\n",
        "[ 0.99588143  0.02950561]"
       ]
      },
      {
       "output_type": "stream",
       "stream": "stdout",
       "text": [
        "\n",
        "3.5 0.5\n",
        "[ 0.99619433  0.0293459 ]"
       ]
      },
      {
       "output_type": "stream",
       "stream": "stdout",
       "text": [
        "\n",
        "3.5 0.6\n",
        "[ 0.99658797  0.02913428]"
       ]
      },
      {
       "output_type": "stream",
       "stream": "stdout",
       "text": [
        "\n",
        "3.5 0.7\n",
        "[ 0.99705914  0.02886757]"
       ]
      },
      {
       "output_type": "stream",
       "stream": "stdout",
       "text": [
        "\n",
        "3.5 0.8\n",
        "[ 0.99760406  0.02854215]"
       ]
      },
      {
       "output_type": "stream",
       "stream": "stdout",
       "text": [
        "\n",
        "3.5 0.9\n",
        "[ 0.99821839  0.02815415]"
       ]
      },
      {
       "output_type": "stream",
       "stream": "stdout",
       "text": [
        "\n",
        "3.5 1.0\n",
        "[ 0.9988973   0.02769959]"
       ]
      },
      {
       "output_type": "stream",
       "stream": "stdout",
       "text": [
        "\n",
        "3.5 1.1\n",
        "[ 0.99963542  0.02717457]"
       ]
      },
      {
       "output_type": "stream",
       "stream": "stdout",
       "text": [
        "\n",
        "3.5 1.2\n",
        "[ 1.00042691  0.02657541]"
       ]
      },
      {
       "output_type": "stream",
       "stream": "stdout",
       "text": [
        "\n",
        "3.5 1.3\n",
        "[ 1.0012655   0.02589884]"
       ]
      },
      {
       "output_type": "stream",
       "stream": "stdout",
       "text": [
        "\n",
        "3.5 1.4\n",
        "[ 1.00214452  0.02514208]"
       ]
      },
      {
       "output_type": "stream",
       "stream": "stdout",
       "text": [
        "\n",
        "3.5 1.5\n",
        "[ 1.00305695  0.02430302]"
       ]
      },
      {
       "output_type": "stream",
       "stream": "stdout",
       "text": [
        "\n",
        "3.5 1.6\n",
        "[ 1.00399551  0.02338031]"
       ]
      },
      {
       "output_type": "stream",
       "stream": "stdout",
       "text": [
        "\n",
        "3.5 1.7\n",
        "[ 1.0049527   0.02237339]"
       ]
      },
      {
       "output_type": "stream",
       "stream": "stdout",
       "text": [
        "\n",
        "3.5 1.8\n",
        "[ 1.00592093  0.0212826 ]"
       ]
      },
      {
       "output_type": "stream",
       "stream": "stdout",
       "text": [
        "\n",
        "3.5 1.9\n",
        "[ 1.00689251  0.02010917]"
       ]
      },
      {
       "output_type": "stream",
       "stream": "stdout",
       "text": [
        "\n",
        "3.5 2.0\n",
        "[ 1.00785984  0.01885528]"
       ]
      },
      {
       "output_type": "stream",
       "stream": "stdout",
       "text": [
        "\n",
        "3.5 2.1\n",
        "[ 1.00881539  0.01752396]"
       ]
      },
      {
       "output_type": "stream",
       "stream": "stdout",
       "text": [
        "\n",
        "3.5 2.2\n",
        "[ 1.00975187  0.01611915]"
       ]
      },
      {
       "output_type": "stream",
       "stream": "stdout",
       "text": [
        "\n",
        "3.5 2.3\n",
        "[ 1.01066223  0.01464557]"
       ]
      },
      {
       "output_type": "stream",
       "stream": "stdout",
       "text": [
        "\n",
        "3.5 2.4\n",
        "[ 1.01153979  0.01310869]"
       ]
      },
      {
       "output_type": "stream",
       "stream": "stdout",
       "text": [
        "\n",
        "3.5 2.5\n",
        "[ 1.01237826  0.01151465]"
       ]
      },
      {
       "output_type": "stream",
       "stream": "stdout",
       "text": [
        "\n",
        "3.5 2.6\n",
        "[ 1.01317183  0.00987016]"
       ]
      },
      {
       "output_type": "stream",
       "stream": "stdout",
       "text": [
        "\n",
        "3.5 2.7\n",
        "[ 1.01391517  0.00818238]"
       ]
      },
      {
       "output_type": "stream",
       "stream": "stdout",
       "text": [
        "\n",
        "3.5 2.8\n",
        "[ 1.01460352  0.00645886]"
       ]
      },
      {
       "output_type": "stream",
       "stream": "stdout",
       "text": [
        "\n",
        "3.5 2.9\n",
        "[ 1.0152327   0.00470742]"
       ]
      },
      {
       "output_type": "stream",
       "stream": "stdout",
       "text": [
        "\n",
        "3.5 3.0\n",
        "[ 1.01579911  0.00293601]"
       ]
      },
      {
       "output_type": "stream",
       "stream": "stdout",
       "text": [
        "\n",
        "3.5 3.1\n",
        "[ 1.01629975  0.00115268]"
       ]
      },
      {
       "output_type": "stream",
       "stream": "stdout",
       "text": [
        "\n",
        "3.5 3.2\n",
        "[  1.01673223e+00  -6.34598448e-04]"
       ]
      },
      {
       "output_type": "stream",
       "stream": "stdout",
       "text": [
        "\n",
        "3.5 3.3\n",
        "[ 1.01709476 -0.00241795]"
       ]
      },
      {
       "output_type": "stream",
       "stream": "stdout",
       "text": [
        "\n",
        "3.5 3.4\n",
        "[ 1.01738612 -0.00418972]"
       ]
      },
      {
       "output_type": "stream",
       "stream": "stdout",
       "text": [
        "\n",
        "3.5 3.5\n",
        "[ 1.01760567 -0.00594256]"
       ]
      },
      {
       "output_type": "stream",
       "stream": "stdout",
       "text": [
        "\n",
        "3.5 3.6\n",
        "[ 1.01775327 -0.00766944]"
       ]
      },
      {
       "output_type": "stream",
       "stream": "stdout",
       "text": [
        "\n",
        "3.5 3.7\n",
        "[ 1.01782933 -0.00936378]"
       ]
      },
      {
       "output_type": "stream",
       "stream": "stdout",
       "text": [
        "\n",
        "3.5 3.8\n",
        "[ 1.01783469 -0.01101942]"
       ]
      },
      {
       "output_type": "stream",
       "stream": "stdout",
       "text": [
        "\n",
        "3.5 3.9\n",
        "[ 1.01777063 -0.01263074]"
       ]
      },
      {
       "output_type": "stream",
       "stream": "stdout",
       "text": [
        "\n",
        "3.5 4.0\n",
        "[ 1.01763885 -0.01419262]"
       ]
      },
      {
       "output_type": "stream",
       "stream": "stdout",
       "text": [
        "\n",
        "3.5 4.1\n",
        "[ 1.01744135 -0.01570049]"
       ]
      },
      {
       "output_type": "stream",
       "stream": "stdout",
       "text": [
        "\n",
        "3.5 4.2\n",
        "[ 1.0171805  -0.01715036]"
       ]
      },
      {
       "output_type": "stream",
       "stream": "stdout",
       "text": [
        "\n",
        "3.5 4.3\n",
        "[ 1.01685889 -0.01853879]"
       ]
      },
      {
       "output_type": "stream",
       "stream": "stdout",
       "text": [
        "\n",
        "3.5 4.4\n",
        "[ 1.01647936 -0.01986291]"
       ]
      },
      {
       "output_type": "stream",
       "stream": "stdout",
       "text": [
        "\n",
        "3.5 4.5\n",
        "[ 1.01604494 -0.02112043]"
       ]
      },
      {
       "output_type": "stream",
       "stream": "stdout",
       "text": [
        "\n",
        "3.5 4.6\n",
        "[ 1.01555881 -0.02230959]"
       ]
      },
      {
       "output_type": "stream",
       "stream": "stdout",
       "text": [
        "\n",
        "3.5 4.7\n",
        "[ 1.01502428 -0.02342915]"
       ]
      },
      {
       "output_type": "stream",
       "stream": "stdout",
       "text": [
        "\n",
        "3.5 4.8\n",
        "[ 1.01444471 -0.0244784 ]"
       ]
      },
      {
       "output_type": "stream",
       "stream": "stdout",
       "text": [
        "\n",
        "3.5 4.9\n",
        "[ 1.01382355 -0.02545712]"
       ]
      },
      {
       "output_type": "stream",
       "stream": "stdout",
       "text": [
        "\n",
        "3.5 5.0\n",
        "[ 1.01316426 -0.02636552]"
       ]
      },
      {
       "output_type": "stream",
       "stream": "stdout",
       "text": [
        "\n",
        "3.5 5.1\n",
        "[ 1.0124703  -0.02720427]"
       ]
      },
      {
       "output_type": "stream",
       "stream": "stdout",
       "text": [
        "\n",
        "3.5 5.2\n",
        "[ 1.01174509 -0.02797444]"
       ]
      },
      {
       "output_type": "stream",
       "stream": "stdout",
       "text": [
        "\n",
        "3.5 5.3\n",
        "[ 1.01099204 -0.02867747]"
       ]
      },
      {
       "output_type": "stream",
       "stream": "stdout",
       "text": [
        "\n",
        "3.5 5.4\n",
        "[ 1.01021447 -0.02931512]"
       ]
      },
      {
       "output_type": "stream",
       "stream": "stdout",
       "text": [
        "\n",
        "3.5 5.5\n",
        "[ 1.00941563 -0.02988952]"
       ]
      },
      {
       "output_type": "stream",
       "stream": "stdout",
       "text": [
        "\n",
        "3.5 5.6\n",
        "[ 1.00859868 -0.03040303]"
       ]
      },
      {
       "output_type": "stream",
       "stream": "stdout",
       "text": [
        "\n",
        "3.5 5.7\n",
        "[ 1.00776668 -0.03085831]"
       ]
      },
      {
       "output_type": "stream",
       "stream": "stdout",
       "text": [
        "\n",
        "3.5 5.8\n",
        "[ 1.00692258 -0.03125823]"
       ]
      },
      {
       "output_type": "stream",
       "stream": "stdout",
       "text": [
        "\n",
        "3.5 5.9\n",
        "[ 1.00606922 -0.03160588]"
       ]
      },
      {
       "output_type": "stream",
       "stream": "stdout",
       "text": [
        "\n",
        "3.5 6.0\n",
        "[ 1.00520932 -0.03190454]"
       ]
      },
      {
       "output_type": "stream",
       "stream": "stdout",
       "text": [
        "\n",
        "3.5 6.1\n",
        "[ 1.00434546 -0.03215763]"
       ]
      },
      {
       "output_type": "stream",
       "stream": "stdout",
       "text": [
        "\n",
        "3.5 6.2\n",
        "[ 1.00348013 -0.03236875]"
       ]
      },
      {
       "output_type": "stream",
       "stream": "stdout",
       "text": [
        "\n",
        "3.5 6.3\n",
        "[ 1.00261568 -0.03254162]"
       ]
      },
      {
       "output_type": "stream",
       "stream": "stdout",
       "text": [
        "\n",
        "3.5 6.4\n",
        "[ 1.00175436 -0.03268006]"
       ]
      },
      {
       "output_type": "stream",
       "stream": "stdout",
       "text": [
        "\n",
        "3.5 6.5\n",
        "[ 1.00089828 -0.03278801]"
       ]
      },
      {
       "output_type": "stream",
       "stream": "stdout",
       "text": [
        "\n",
        "3.5 6.6\n",
        "[ 1.00004948 -0.0328695 ]"
       ]
      },
      {
       "output_type": "stream",
       "stream": "stdout",
       "text": [
        "\n",
        "3.5 6.7\n",
        "[ 0.99920988 -0.03292866]"
       ]
      },
      {
       "output_type": "stream",
       "stream": "stdout",
       "text": [
        "\n",
        "3.5 6.8\n",
        "[ 0.99838131 -0.03296967]"
       ]
      },
      {
       "output_type": "stream",
       "stream": "stdout",
       "text": [
        "\n",
        "3.5 6.9\n",
        "[ 0.99756555 -0.03299681]"
       ]
      },
      {
       "output_type": "stream",
       "stream": "stdout",
       "text": [
        "\n",
        "3.5 7.0\n",
        "[ 0.99676427 -0.03301444]"
       ]
      },
      {
       "output_type": "stream",
       "stream": "stdout",
       "text": [
        "\n",
        "3.5 7.1\n",
        "[ 0.99597912 -0.03302699]"
       ]
      },
      {
       "output_type": "stream",
       "stream": "stdout",
       "text": [
        "\n",
        "3.5 7.2\n",
        "[ 0.99521172 -0.03303897]"
       ]
      },
      {
       "output_type": "stream",
       "stream": "stdout",
       "text": [
        "\n",
        "3.5 7.3\n",
        "[ 0.99446364 -0.033055  ]"
       ]
      },
      {
       "output_type": "stream",
       "stream": "stdout",
       "text": [
        "\n",
        "3.5 7.4\n",
        "[ 0.99373646 -0.03307978]"
       ]
      },
      {
       "output_type": "stream",
       "stream": "stdout",
       "text": [
        "\n",
        "3.5 7.5\n",
        "[ 0.9930318  -0.03311812]"
       ]
      },
      {
       "output_type": "stream",
       "stream": "stdout",
       "text": [
        "\n",
        "3.5 7.6\n",
        "[ 0.9923513  -0.03317496]"
       ]
      },
      {
       "output_type": "stream",
       "stream": "stdout",
       "text": [
        "\n",
        "3.5 7.7\n",
        "[ 0.99169668 -0.03325538]"
       ]
      },
      {
       "output_type": "stream",
       "stream": "stdout",
       "text": [
        "\n",
        "3.5 7.8\n",
        "[ 0.99106975 -0.03336462]"
       ]
      },
      {
       "output_type": "stream",
       "stream": "stdout",
       "text": [
        "\n",
        "3.5 7.9\n",
        "[ 0.99047246 -0.03350811]"
       ]
      },
      {
       "output_type": "stream",
       "stream": "stdout",
       "text": [
        "\n",
        "3.5 8.0\n",
        "[ 0.98990692 -0.03369145]"
       ]
      },
      {
       "output_type": "stream",
       "stream": "stdout",
       "text": [
        "\n",
        "3.5 8.1\n",
        "[ 0.98937547 -0.0339205 ]"
       ]
      },
      {
       "output_type": "stream",
       "stream": "stdout",
       "text": [
        "\n",
        "3.5 8.2\n",
        "[ 0.98888067 -0.03420137]"
       ]
      },
      {
       "output_type": "stream",
       "stream": "stdout",
       "text": [
        "\n",
        "3.5 8.3\n",
        "[ 0.98842543 -0.03454048]"
       ]
      },
      {
       "output_type": "stream",
       "stream": "stdout",
       "text": [
        "\n",
        "3.5 8.4\n",
        "[ 0.98801301 -0.03494454]"
       ]
      },
      {
       "output_type": "stream",
       "stream": "stdout",
       "text": [
        "\n",
        "3.5 8.5\n",
        "[ 0.98764713 -0.03542065]"
       ]
      },
      {
       "output_type": "stream",
       "stream": "stdout",
       "text": [
        "\n",
        "3.5 8.6\n",
        "[ 0.98733202 -0.03597631]"
       ]
      },
      {
       "output_type": "stream",
       "stream": "stdout",
       "text": [
        "\n",
        "3.5 8.7\n",
        "[ 0.98707256 -0.03661944]"
       ]
      },
      {
       "output_type": "stream",
       "stream": "stdout",
       "text": [
        "\n",
        "3.5 8.8\n",
        "[ 0.98687435 -0.03735845]"
       ]
      },
      {
       "output_type": "stream",
       "stream": "stdout",
       "text": [
        "\n",
        "3.5 8.9\n",
        "[ 0.98674386 -0.03820228]"
       ]
      },
      {
       "output_type": "stream",
       "stream": "stdout",
       "text": [
        "\n",
        "3.5 9.0\n",
        "[ 0.98668857 -0.0391604 ]"
       ]
      },
      {
       "output_type": "stream",
       "stream": "stdout",
       "text": [
        "\n",
        "3.5 9.1\n",
        "[ 0.98671716 -0.04024286]"
       ]
      },
      {
       "output_type": "stream",
       "stream": "stdout",
       "text": [
        "\n",
        "3.5 9.2\n",
        "[ 0.98683974 -0.0414603 ]"
       ]
      },
      {
       "output_type": "stream",
       "stream": "stdout",
       "text": [
        "\n",
        "3.5 9.3\n",
        "[ 0.98706806 -0.04282396]"
       ]
      },
      {
       "output_type": "stream",
       "stream": "stdout",
       "text": [
        "\n",
        "3.5 9.4\n",
        "[ 0.98741581 -0.04434562]"
       ]
      },
      {
       "output_type": "stream",
       "stream": "stdout",
       "text": [
        "\n",
        "3.5 9.5\n",
        "[ 0.98789899 -0.04603751]"
       ]
      },
      {
       "output_type": "stream",
       "stream": "stdout",
       "text": [
        "\n",
        "3.5 9.6\n",
        "[ 0.98853632 -0.04791224]"
       ]
      },
      {
       "output_type": "stream",
       "stream": "stdout",
       "text": [
        "\n",
        "3.5 9.7\n",
        "[ 0.98934969 -0.04998246]"
       ]
      },
      {
       "output_type": "stream",
       "stream": "stdout",
       "text": [
        "\n",
        "3.5 9.8\n",
        "[ 0.99036479 -0.05226057]"
       ]
      },
      {
       "output_type": "stream",
       "stream": "stdout",
       "text": [
        "\n",
        "3.5 9.9\n",
        "[ 0.99161173 -0.0547581 ]"
       ]
      },
      {
       "output_type": "stream",
       "stream": "stdout",
       "text": [
        "\n",
        "3.6 0.0\n",
        "[ 1.0156492   0.00167872]"
       ]
      },
      {
       "output_type": "stream",
       "stream": "stdout",
       "text": [
        "\n",
        "3.6 0.1\n",
        "[ 1.01565362  0.00172442]"
       ]
      },
      {
       "output_type": "stream",
       "stream": "stdout",
       "text": [
        "\n",
        "3.6 0.2\n",
        "[ 1.01567476  0.00170504]"
       ]
      },
      {
       "output_type": "stream",
       "stream": "stdout",
       "text": [
        "\n",
        "3.6 0.3\n",
        "[ 1.01571249  0.00162097]"
       ]
      },
      {
       "output_type": "stream",
       "stream": "stdout",
       "text": [
        "\n",
        "3.6 0.4\n",
        "[ 1.01576632  0.00147279]"
       ]
      },
      {
       "output_type": "stream",
       "stream": "stdout",
       "text": [
        "\n",
        "3.6 0.5\n",
        "[ 1.01583547  0.0012613 ]"
       ]
      },
      {
       "output_type": "stream",
       "stream": "stdout",
       "text": [
        "\n",
        "3.6 0.6\n",
        "[  1.01591885e+00   9.87504696e-04]"
       ]
      },
      {
       "output_type": "stream",
       "stream": "stdout",
       "text": [
        "\n",
        "3.6 0.7\n",
        "[  1.01601507e+00   6.52594184e-04]"
       ]
      },
      {
       "output_type": "stream",
       "stream": "stdout",
       "text": [
        "\n",
        "3.6 0.8\n",
        "[  1.01612248e+00   2.57982661e-04]"
       ]
      },
      {
       "output_type": "stream",
       "stream": "stdout",
       "text": [
        "\n",
        "3.6 0.9\n",
        "[  1.01623920e+00  -1.94710181e-04]"
       ]
      },
      {
       "output_type": "stream",
       "stream": "stdout",
       "text": [
        "\n",
        "3.6 1.0\n",
        "[  1.01636313e+00  -7.03651737e-04]"
       ]
      },
      {
       "output_type": "stream",
       "stream": "stdout",
       "text": [
        "\n",
        "3.6 1.1\n",
        "[ 1.01649199 -0.00126679]"
       ]
      },
      {
       "output_type": "stream",
       "stream": "stdout",
       "text": [
        "\n",
        "3.6 1.2\n",
        "[ 1.01662336 -0.00188187]"
       ]
      },
      {
       "output_type": "stream",
       "stream": "stdout",
       "text": [
        "\n",
        "3.6 1.3\n",
        "[ 1.01675469 -0.00254641]"
       ]
      },
      {
       "output_type": "stream",
       "stream": "stdout",
       "text": [
        "\n",
        "3.6 1.4\n",
        "[ 1.01688334 -0.0032577 ]"
       ]
      },
      {
       "output_type": "stream",
       "stream": "stdout",
       "text": [
        "\n",
        "3.6 1.5\n",
        "[ 1.01700663 -0.00401286]"
       ]
      },
      {
       "output_type": "stream",
       "stream": "stdout",
       "text": [
        "\n",
        "3.6 1.6\n",
        "[ 1.01712185 -0.00480877]"
       ]
      },
      {
       "output_type": "stream",
       "stream": "stdout",
       "text": [
        "\n",
        "3.6 1.7\n",
        "[ 1.01722631 -0.00564214]"
       ]
      },
      {
       "output_type": "stream",
       "stream": "stdout",
       "text": [
        "\n",
        "3.6 1.8\n",
        "[ 1.01731735 -0.00650951]"
       ]
      },
      {
       "output_type": "stream",
       "stream": "stdout",
       "text": [
        "\n",
        "3.6 1.9\n",
        "[ 1.0173924  -0.00740724]"
       ]
      },
      {
       "output_type": "stream",
       "stream": "stdout",
       "text": [
        "\n",
        "3.6 2.0\n",
        "[ 1.01744896 -0.00833157]"
       ]
      },
      {
       "output_type": "stream",
       "stream": "stdout",
       "text": [
        "\n",
        "3.6 2.1\n",
        "[ 1.01748469 -0.00927862]"
       ]
      },
      {
       "output_type": "stream",
       "stream": "stdout",
       "text": [
        "\n",
        "3.6 2.2\n",
        "[ 1.01749737 -0.01024441]"
       ]
      },
      {
       "output_type": "stream",
       "stream": "stdout",
       "text": [
        "\n",
        "3.6 2.3\n",
        "[ 1.01748496 -0.0112249 ]"
       ]
      },
      {
       "output_type": "stream",
       "stream": "stdout",
       "text": [
        "\n",
        "3.6 2.4\n",
        "[ 1.01744561 -0.012216  ]"
       ]
      },
      {
       "output_type": "stream",
       "stream": "stdout",
       "text": [
        "\n",
        "3.6 2.5\n",
        "[ 1.01737767 -0.01321364]"
       ]
      },
      {
       "output_type": "stream",
       "stream": "stdout",
       "text": [
        "\n",
        "3.6 2.6\n",
        "[ 1.01727969 -0.01421376]"
       ]
      },
      {
       "output_type": "stream",
       "stream": "stdout",
       "text": [
        "\n",
        "3.6 2.7\n",
        "[ 1.01715046 -0.01521232]"
       ]
      },
      {
       "output_type": "stream",
       "stream": "stdout",
       "text": [
        "\n",
        "3.6 2.8\n",
        "[ 1.01698898 -0.01620541]"
       ]
      },
      {
       "output_type": "stream",
       "stream": "stdout",
       "text": [
        "\n",
        "3.6 2.9\n",
        "[ 1.01679449 -0.01718919]"
       ]
      },
      {
       "output_type": "stream",
       "stream": "stdout",
       "text": [
        "\n",
        "3.6 3.0\n",
        "[ 1.01656647 -0.01815997]"
       ]
      },
      {
       "output_type": "stream",
       "stream": "stdout",
       "text": [
        "\n",
        "3.6 3.1\n",
        "[ 1.01630461 -0.01911423]"
       ]
      },
      {
       "output_type": "stream",
       "stream": "stdout",
       "text": [
        "\n",
        "3.6 3.2\n",
        "[ 1.01600882 -0.02004862]"
       ]
      },
      {
       "output_type": "stream",
       "stream": "stdout",
       "text": [
        "\n",
        "3.6 3.3\n",
        "[ 1.01567925 -0.02096   ]"
       ]
      },
      {
       "output_type": "stream",
       "stream": "stdout",
       "text": [
        "\n",
        "3.6 3.4\n",
        "[ 1.01531623 -0.02184544]"
       ]
      },
      {
       "output_type": "stream",
       "stream": "stdout",
       "text": [
        "\n",
        "3.6 3.5\n",
        "[ 1.01492032 -0.02270228]"
       ]
      },
      {
       "output_type": "stream",
       "stream": "stdout",
       "text": [
        "\n",
        "3.6 3.6\n",
        "[ 1.01449222 -0.02352809]"
       ]
      },
      {
       "output_type": "stream",
       "stream": "stdout",
       "text": [
        "\n",
        "3.6 3.7\n",
        "[ 1.01403284 -0.0243207 ]"
       ]
      },
      {
       "output_type": "stream",
       "stream": "stdout",
       "text": [
        "\n",
        "3.6 3.8\n",
        "[ 1.01354324 -0.02507823]"
       ]
      },
      {
       "output_type": "stream",
       "stream": "stdout",
       "text": [
        "\n",
        "3.6 3.9\n",
        "[ 1.0130246  -0.02579906]"
       ]
      },
      {
       "output_type": "stream",
       "stream": "stdout",
       "text": [
        "\n",
        "3.6 4.0\n",
        "[ 1.01247825 -0.02648188]"
       ]
      },
      {
       "output_type": "stream",
       "stream": "stdout",
       "text": [
        "\n",
        "3.6 4.1\n",
        "[ 1.01190563 -0.02712561]"
       ]
      },
      {
       "output_type": "stream",
       "stream": "stdout",
       "text": [
        "\n",
        "3.6 4.2\n",
        "[ 1.01130828 -0.0277295 ]"
       ]
      },
      {
       "output_type": "stream",
       "stream": "stdout",
       "text": [
        "\n",
        "3.6 4.3\n",
        "[ 1.0106878  -0.02829304]"
       ]
      },
      {
       "output_type": "stream",
       "stream": "stdout",
       "text": [
        "\n",
        "3.6 4.4\n",
        "[ 1.01004588 -0.02881602]"
       ]
      },
      {
       "output_type": "stream",
       "stream": "stdout",
       "text": [
        "\n",
        "3.6 4.5\n",
        "[ 1.00938426 -0.02929846]"
       ]
      },
      {
       "output_type": "stream",
       "stream": "stdout",
       "text": [
        "\n",
        "3.6 4.6\n",
        "[ 1.00870472 -0.02974067]"
       ]
      },
      {
       "output_type": "stream",
       "stream": "stdout",
       "text": [
        "\n",
        "3.6 4.7\n",
        "[ 1.00800906 -0.03014319]"
       ]
      },
      {
       "output_type": "stream",
       "stream": "stdout",
       "text": [
        "\n",
        "3.6 4.8\n",
        "[ 1.00729909 -0.03050678]"
       ]
      },
      {
       "output_type": "stream",
       "stream": "stdout",
       "text": [
        "\n",
        "3.6 4.9\n",
        "[ 1.00657666 -0.03083247]"
       ]
      },
      {
       "output_type": "stream",
       "stream": "stdout",
       "text": [
        "\n",
        "3.6 5.0\n",
        "[ 1.00584357 -0.03112145]"
       ]
      },
      {
       "output_type": "stream",
       "stream": "stdout",
       "text": [
        "\n",
        "3.6 5.1\n",
        "[ 1.00510164 -0.03137516]"
       ]
      },
      {
       "output_type": "stream",
       "stream": "stdout",
       "text": [
        "\n",
        "3.6 5.2\n",
        "[ 1.00435265 -0.03159521]"
       ]
      },
      {
       "output_type": "stream",
       "stream": "stdout",
       "text": [
        "\n",
        "3.6 5.3\n",
        "[ 1.00359835 -0.03178339]"
       ]
      },
      {
       "output_type": "stream",
       "stream": "stdout",
       "text": [
        "\n",
        "3.6 5.4\n",
        "[ 1.00284049 -0.03194167]"
       ]
      },
      {
       "output_type": "stream",
       "stream": "stdout",
       "text": [
        "\n",
        "3.6 5.5\n",
        "[ 1.00208074 -0.03207217]"
       ]
      },
      {
       "output_type": "stream",
       "stream": "stdout",
       "text": [
        "\n",
        "3.6 5.6\n",
        "[ 1.00132076 -0.03217717]"
       ]
      },
      {
       "output_type": "stream",
       "stream": "stdout",
       "text": [
        "\n",
        "3.6 5.7\n",
        "[ 1.00056216 -0.03225909]"
       ]
      },
      {
       "output_type": "stream",
       "stream": "stdout",
       "text": [
        "\n",
        "3.6 5.8\n",
        "[ 0.9998065  -0.03232048]"
       ]
      },
      {
       "output_type": "stream",
       "stream": "stdout",
       "text": [
        "\n",
        "3.6 5.9\n",
        "[ 0.99905531 -0.03236403]"
       ]
      },
      {
       "output_type": "stream",
       "stream": "stdout",
       "text": [
        "\n",
        "3.6 6.0\n",
        "[ 0.99831007 -0.03239254]"
       ]
      },
      {
       "output_type": "stream",
       "stream": "stdout",
       "text": [
        "\n",
        "3.6 6.1\n",
        "[ 0.99757223 -0.03240894]"
       ]
      },
      {
       "output_type": "stream",
       "stream": "stdout",
       "text": [
        "\n",
        "3.6 6.2\n",
        "[ 0.99684321 -0.03241625]"
       ]
      },
      {
       "output_type": "stream",
       "stream": "stdout",
       "text": [
        "\n",
        "3.6 6.3\n",
        "[ 0.9961244  -0.03241763]"
       ]
      },
      {
       "output_type": "stream",
       "stream": "stdout",
       "text": [
        "\n",
        "3.6 6.4\n",
        "[ 0.99541717 -0.03241635]"
       ]
      },
      {
       "output_type": "stream",
       "stream": "stdout",
       "text": [
        "\n",
        "3.6 6.5\n",
        "[ 0.99472287 -0.03241577]"
       ]
      },
      {
       "output_type": "stream",
       "stream": "stdout",
       "text": [
        "\n",
        "3.6 6.6\n",
        "[ 0.99404285 -0.03241941]"
       ]
      },
      {
       "output_type": "stream",
       "stream": "stdout",
       "text": [
        "\n",
        "3.6 6.7\n",
        "[ 0.99337849 -0.03243087]"
       ]
      },
      {
       "output_type": "stream",
       "stream": "stdout",
       "text": [
        "\n",
        "3.6 6.8\n",
        "[ 0.99273117 -0.03245389]"
       ]
      },
      {
       "output_type": "stream",
       "stream": "stdout",
       "text": [
        "\n",
        "3.6 6.9\n",
        "[ 0.99210231 -0.03249237]"
       ]
      },
      {
       "output_type": "stream",
       "stream": "stdout",
       "text": [
        "\n",
        "3.6 7.0\n",
        "[ 0.99149339 -0.03255033]"
       ]
      },
      {
       "output_type": "stream",
       "stream": "stdout",
       "text": [
        "\n",
        "3.6 7.1\n",
        "[ 0.99090596 -0.03263195]"
       ]
      },
      {
       "output_type": "stream",
       "stream": "stdout",
       "text": [
        "\n",
        "3.6 7.2\n",
        "[ 0.99034166 -0.0327416 ]"
       ]
      },
      {
       "output_type": "stream",
       "stream": "stdout",
       "text": [
        "\n",
        "3.6 7.3\n",
        "[ 0.98980227 -0.03288383]"
       ]
      },
      {
       "output_type": "stream",
       "stream": "stdout",
       "text": [
        "\n",
        "3.6 7.4\n",
        "[ 0.98928971 -0.03306339]"
       ]
      },
      {
       "output_type": "stream",
       "stream": "stdout",
       "text": [
        "\n",
        "3.6 7.5\n",
        "[ 0.98880606 -0.03328526]"
       ]
      },
      {
       "output_type": "stream",
       "stream": "stdout",
       "text": [
        "\n",
        "3.6 7.6\n",
        "[ 0.98835367 -0.03355468]"
       ]
      },
      {
       "output_type": "stream",
       "stream": "stdout",
       "text": [
        "\n",
        "3.6 7.7\n",
        "[ 0.9879351  -0.03387716]"
       ]
      },
      {
       "output_type": "stream",
       "stream": "stdout",
       "text": [
        "\n",
        "3.6 7.8\n",
        "[ 0.98755327 -0.03425851]"
       ]
      },
      {
       "output_type": "stream",
       "stream": "stdout",
       "text": [
        "\n",
        "3.6 7.9\n",
        "[ 0.98721143 -0.03470488]"
       ]
      },
      {
       "output_type": "stream",
       "stream": "stdout",
       "text": [
        "\n",
        "3.6 8.0\n",
        "[ 0.9869133  -0.03522278]"
       ]
      },
      {
       "output_type": "stream",
       "stream": "stdout",
       "text": [
        "\n",
        "3.6 8.1\n",
        "[ 0.98666309 -0.03581912]"
       ]
      },
      {
       "output_type": "stream",
       "stream": "stdout",
       "text": [
        "\n",
        "3.6 8.2\n",
        "[ 0.98646561 -0.03650121]"
       ]
      },
      {
       "output_type": "stream",
       "stream": "stdout",
       "text": [
        "\n",
        "3.6 8.3\n",
        "[ 0.98632639 -0.03727688]"
       ]
      },
      {
       "output_type": "stream",
       "stream": "stdout",
       "text": [
        "\n",
        "3.6 8.4\n",
        "[ 0.98625177 -0.03815439]"
       ]
      },
      {
       "output_type": "stream",
       "stream": "stdout",
       "text": [
        "\n",
        "3.6 8.5\n",
        "[ 0.98624906 -0.03914256]"
       ]
      },
      {
       "output_type": "stream",
       "stream": "stdout",
       "text": [
        "\n",
        "3.6 8.6\n",
        "[ 0.98632669 -0.04025073]"
       ]
      },
      {
       "output_type": "stream",
       "stream": "stdout",
       "text": [
        "\n",
        "3.6 8.7\n",
        "[ 0.98649441 -0.0414888 ]"
       ]
      },
      {
       "output_type": "stream",
       "stream": "stdout",
       "text": [
        "\n",
        "3.6 8.8\n",
        "[ 0.98676353 -0.0428672 ]"
       ]
      },
      {
       "output_type": "stream",
       "stream": "stdout",
       "text": [
        "\n",
        "3.6 8.9\n",
        "[ 0.98714716 -0.04439685]"
       ]
      },
      {
       "output_type": "stream",
       "stream": "stdout",
       "text": [
        "\n",
        "3.6 9.0\n",
        "[ 0.98766055 -0.04608911]"
       ]
      },
      {
       "output_type": "stream",
       "stream": "stdout",
       "text": [
        "\n",
        "3.6 9.1\n",
        "[ 0.98832145 -0.0479556 ]"
       ]
      },
      {
       "output_type": "stream",
       "stream": "stdout",
       "text": [
        "\n",
        "3.6 9.2\n",
        "[ 0.98915053 -0.05000803]"
       ]
      },
      {
       "output_type": "stream",
       "stream": "stdout",
       "text": [
        "\n",
        "3.6 9.3\n",
        "[ 0.99017194 -0.0522578 ]"
       ]
      },
      {
       "output_type": "stream",
       "stream": "stdout",
       "text": [
        "\n",
        "3.6 9.4\n",
        "[ 0.99141388 -0.05471553]"
       ]
      },
      {
       "output_type": "stream",
       "stream": "stdout",
       "text": [
        "\n",
        "3.6 9.5\n",
        "[ 0.99290929 -0.05739025]"
       ]
      },
      {
       "output_type": "stream",
       "stream": "stdout",
       "text": [
        "\n",
        "3.6 9.6\n",
        "[ 0.99469671 -0.06028825]"
       ]
      },
      {
       "output_type": "stream",
       "stream": "stdout",
       "text": [
        "\n",
        "3.6 9.7\n",
        "[ 0.99682117 -0.0634114 ]"
       ]
      },
      {
       "output_type": "stream",
       "stream": "stdout",
       "text": [
        "\n",
        "3.6 9.8\n",
        "[ 0.99933525 -0.06675469]"
       ]
      },
      {
       "output_type": "stream",
       "stream": "stdout",
       "text": [
        "\n",
        "3.6 9.9\n",
        "[ 1.00230011 -0.07030257]"
       ]
      },
      {
       "output_type": "stream",
       "stream": "stdout",
       "text": [
        "\n",
        "3.7 0.0\n",
        "[ 1.01514316 -0.01965126]"
       ]
      },
      {
       "output_type": "stream",
       "stream": "stdout",
       "text": [
        "\n",
        "3.7 0.1\n",
        "[ 1.01517868 -0.01964226]"
       ]
      },
      {
       "output_type": "stream",
       "stream": "stdout",
       "text": [
        "\n",
        "3.7 0.2\n",
        "[ 1.01520163 -0.01966356]"
       ]
      },
      {
       "output_type": "stream",
       "stream": "stdout",
       "text": [
        "\n",
        "3.7 0.3\n",
        "[ 1.01521212 -0.01971512]"
       ]
      },
      {
       "output_type": "stream",
       "stream": "stdout",
       "text": [
        "\n",
        "3.7 0.4\n",
        "[ 1.01521017 -0.01979667]"
       ]
      },
      {
       "output_type": "stream",
       "stream": "stdout",
       "text": [
        "\n",
        "3.7 0.5\n",
        "[ 1.01519569 -0.01990778]"
       ]
      },
      {
       "output_type": "stream",
       "stream": "stdout",
       "text": [
        "\n",
        "3.7 0.6\n",
        "[ 1.01516855 -0.02004782]"
       ]
      },
      {
       "output_type": "stream",
       "stream": "stdout",
       "text": [
        "\n",
        "3.7 0.7\n",
        "[ 1.01512851 -0.02021599]"
       ]
      },
      {
       "output_type": "stream",
       "stream": "stdout",
       "text": [
        "\n",
        "3.7 0.8\n",
        "[ 1.01507528 -0.02041133]"
       ]
      },
      {
       "output_type": "stream",
       "stream": "stdout",
       "text": [
        "\n",
        "3.7 0.9\n",
        "[ 1.01500851 -0.02063269]"
       ]
      },
      {
       "output_type": "stream",
       "stream": "stdout",
       "text": [
        "\n",
        "3.7 1.0\n",
        "[ 1.0149278  -0.02087881]"
       ]
      },
      {
       "output_type": "stream",
       "stream": "stdout",
       "text": [
        "\n",
        "3.7 1.1\n",
        "[ 1.0148327  -0.02114826]"
       ]
      },
      {
       "output_type": "stream",
       "stream": "stdout",
       "text": [
        "\n",
        "3.7 1.2\n",
        "[ 1.01472273 -0.02143951]"
       ]
      },
      {
       "output_type": "stream",
       "stream": "stdout",
       "text": [
        "\n",
        "3.7 1.3\n",
        "[ 1.01459741 -0.02175088]"
       ]
      },
      {
       "output_type": "stream",
       "stream": "stdout",
       "text": [
        "\n",
        "3.7 1.4\n",
        "[ 1.01445622 -0.02208061]"
       ]
      },
      {
       "output_type": "stream",
       "stream": "stdout",
       "text": [
        "\n",
        "3.7 1.5\n",
        "[ 1.01429865 -0.02242686]"
       ]
      },
      {
       "output_type": "stream",
       "stream": "stdout",
       "text": [
        "\n",
        "3.7 1.6\n",
        "[ 1.01412422 -0.02278768]"
       ]
      },
      {
       "output_type": "stream",
       "stream": "stdout",
       "text": [
        "\n",
        "3.7 1.7\n",
        "[ 1.01393243 -0.0231611 ]"
       ]
      },
      {
       "output_type": "stream",
       "stream": "stdout",
       "text": [
        "\n",
        "3.7 1.8\n",
        "[ 1.01372285 -0.02354508]"
       ]
      },
      {
       "output_type": "stream",
       "stream": "stdout",
       "text": [
        "\n",
        "3.7 1.9\n",
        "[ 1.01349507 -0.02393754]"
       ]
      },
      {
       "output_type": "stream",
       "stream": "stdout",
       "text": [
        "\n",
        "3.7 2.0\n",
        "[ 1.01324874 -0.0243364 ]"
       ]
      },
      {
       "output_type": "stream",
       "stream": "stdout",
       "text": [
        "\n",
        "3.7 2.1\n",
        "[ 1.01298354 -0.02473958]"
       ]
      },
      {
       "output_type": "stream",
       "stream": "stdout",
       "text": [
        "\n",
        "3.7 2.2\n",
        "[ 1.01269924 -0.025145  ]"
       ]
      },
      {
       "output_type": "stream",
       "stream": "stdout",
       "text": [
        "\n",
        "3.7 2.3\n",
        "[ 1.01239565 -0.02555062]"
       ]
      },
      {
       "output_type": "stream",
       "stream": "stdout",
       "text": [
        "\n",
        "3.7 2.4\n",
        "[ 1.01207269 -0.02595443]"
       ]
      },
      {
       "output_type": "stream",
       "stream": "stdout",
       "text": [
        "\n",
        "3.7 2.5\n",
        "[ 1.01173033 -0.02635449]"
       ]
      },
      {
       "output_type": "stream",
       "stream": "stdout",
       "text": [
        "\n",
        "3.7 2.6\n",
        "[ 1.01136861 -0.02674891]"
       ]
      },
      {
       "output_type": "stream",
       "stream": "stdout",
       "text": [
        "\n",
        "3.7 2.7\n",
        "[ 1.01098768 -0.0271359 ]"
       ]
      },
      {
       "output_type": "stream",
       "stream": "stdout",
       "text": [
        "\n",
        "3.7 2.8\n",
        "[ 1.01058775 -0.02751375]"
       ]
      },
      {
       "output_type": "stream",
       "stream": "stdout",
       "text": [
        "\n",
        "3.7 2.9\n",
        "[ 1.01016911 -0.02788087]"
       ]
      },
      {
       "output_type": "stream",
       "stream": "stdout",
       "text": [
        "\n",
        "3.7 3.0\n",
        "[ 1.00973215 -0.02823577]"
       ]
      },
      {
       "output_type": "stream",
       "stream": "stdout",
       "text": [
        "\n",
        "3.7 3.1\n",
        "[ 1.00927732 -0.02857709]"
       ]
      },
      {
       "output_type": "stream",
       "stream": "stdout",
       "text": [
        "\n",
        "3.7 3.2\n",
        "[ 1.00880516 -0.0289036 ]"
       ]
      },
      {
       "output_type": "stream",
       "stream": "stdout",
       "text": [
        "\n",
        "3.7 3.3\n",
        "[ 1.00831627 -0.02921419]"
       ]
      },
      {
       "output_type": "stream",
       "stream": "stdout",
       "text": [
        "\n",
        "3.7 3.4\n",
        "[ 1.00781131 -0.02950793]"
       ]
      },
      {
       "output_type": "stream",
       "stream": "stdout",
       "text": [
        "\n",
        "3.7 3.5\n",
        "[ 1.00729104 -0.029784  ]"
       ]
      },
      {
       "output_type": "stream",
       "stream": "stdout",
       "text": [
        "\n",
        "3.7 3.6\n",
        "[ 1.00675625 -0.03004177]"
       ]
      },
      {
       "output_type": "stream",
       "stream": "stdout",
       "text": [
        "\n",
        "3.7 3.7\n",
        "[ 1.0062078  -0.03028072]"
       ]
      },
      {
       "output_type": "stream",
       "stream": "stdout",
       "text": [
        "\n",
        "3.7 3.8\n",
        "[ 1.00564658 -0.03050054]"
       ]
      },
      {
       "output_type": "stream",
       "stream": "stdout",
       "text": [
        "\n",
        "3.7 3.9\n",
        "[ 1.00507355 -0.03070102]"
       ]
      },
      {
       "output_type": "stream",
       "stream": "stdout",
       "text": [
        "\n",
        "3.7 4.0\n",
        "[ 1.00448968 -0.03088216]"
       ]
      },
      {
       "output_type": "stream",
       "stream": "stdout",
       "text": [
        "\n",
        "3.7 4.1\n",
        "[ 1.00389601 -0.03104409]"
       ]
      },
      {
       "output_type": "stream",
       "stream": "stdout",
       "text": [
        "\n",
        "3.7 4.2\n",
        "[ 1.00329357 -0.03118708]"
       ]
      },
      {
       "output_type": "stream",
       "stream": "stdout",
       "text": [
        "\n",
        "3.7 4.3\n",
        "[ 1.00268343 -0.03131159]"
       ]
      },
      {
       "output_type": "stream",
       "stream": "stdout",
       "text": [
        "\n",
        "3.7 4.4\n",
        "[ 1.0020667  -0.03141822]"
       ]
      },
      {
       "output_type": "stream",
       "stream": "stdout",
       "text": [
        "\n",
        "3.7 4.5\n",
        "[ 1.00144446 -0.0315077 ]"
       ]
      },
      {
       "output_type": "stream",
       "stream": "stdout",
       "text": [
        "\n",
        "3.7 4.6\n",
        "[ 1.00081784 -0.03158092]"
       ]
      },
      {
       "output_type": "stream",
       "stream": "stdout",
       "text": [
        "\n",
        "3.7 4.7\n",
        "[ 1.00018794 -0.03163892]"
       ]
      },
      {
       "output_type": "stream",
       "stream": "stdout",
       "text": [
        "\n",
        "3.7 4.8\n",
        "[ 0.9995559  -0.03168287]"
       ]
      },
      {
       "output_type": "stream",
       "stream": "stdout",
       "text": [
        "\n",
        "3.7 4.9\n",
        "[ 0.99892284 -0.03171408]"
       ]
      },
      {
       "output_type": "stream",
       "stream": "stdout",
       "text": [
        "\n",
        "3.7 5.0\n",
        "[ 0.99828988 -0.03173399]"
       ]
      },
      {
       "output_type": "stream",
       "stream": "stdout",
       "text": [
        "\n",
        "3.7 5.1\n",
        "[ 0.99765813 -0.03174418]"
       ]
      },
      {
       "output_type": "stream",
       "stream": "stdout",
       "text": [
        "\n",
        "3.7 5.2\n",
        "[ 0.99702871 -0.03174635]"
       ]
      },
      {
       "output_type": "stream",
       "stream": "stdout",
       "text": [
        "\n",
        "3.7 5.3\n",
        "[ 0.99640275 -0.03174233]"
       ]
      },
      {
       "output_type": "stream",
       "stream": "stdout",
       "text": [
        "\n",
        "3.7 5.4\n",
        "[ 0.99578134 -0.03173408]"
       ]
      },
      {
       "output_type": "stream",
       "stream": "stdout",
       "text": [
        "\n",
        "3.7 5.5\n",
        "[ 0.99516561 -0.03172368]"
       ]
      },
      {
       "output_type": "stream",
       "stream": "stdout",
       "text": [
        "\n",
        "3.7 5.6\n",
        "[ 0.99455667 -0.03171334]"
       ]
      },
      {
       "output_type": "stream",
       "stream": "stdout",
       "text": [
        "\n",
        "3.7 5.7\n",
        "[ 0.99395564 -0.03170538]"
       ]
      },
      {
       "output_type": "stream",
       "stream": "stdout",
       "text": [
        "\n",
        "3.7 5.8\n",
        "[ 0.99336365 -0.03170228]"
       ]
      },
      {
       "output_type": "stream",
       "stream": "stdout",
       "text": [
        "\n",
        "3.7 5.9\n",
        "[ 0.99278186 -0.03170661]"
       ]
      },
      {
       "output_type": "stream",
       "stream": "stdout",
       "text": [
        "\n",
        "3.7 6.0\n",
        "[ 0.99221145 -0.0317211 ]"
       ]
      },
      {
       "output_type": "stream",
       "stream": "stdout",
       "text": [
        "\n",
        "3.7 6.1\n",
        "[ 0.99165362 -0.03174862]"
       ]
      },
      {
       "output_type": "stream",
       "stream": "stdout",
       "text": [
        "\n",
        "3.7 6.2\n",
        "[ 0.99110964 -0.03179217]"
       ]
      },
      {
       "output_type": "stream",
       "stream": "stdout",
       "text": [
        "\n",
        "3.7 6.3\n",
        "[ 0.99058081 -0.03185491]"
       ]
      },
      {
       "output_type": "stream",
       "stream": "stdout",
       "text": [
        "\n",
        "3.7 6.4\n",
        "[ 0.99006852 -0.03194017]"
       ]
      },
      {
       "output_type": "stream",
       "stream": "stdout",
       "text": [
        "\n",
        "3.7 6.5\n",
        "[ 0.98957424 -0.03205144]"
       ]
      },
      {
       "output_type": "stream",
       "stream": "stdout",
       "text": [
        "\n",
        "3.7 6.6\n",
        "[ 0.98909953 -0.0321924 ]"
       ]
      },
      {
       "output_type": "stream",
       "stream": "stdout",
       "text": [
        "\n",
        "3.7 6.7\n",
        "[ 0.98864611 -0.03236692]"
       ]
      },
      {
       "output_type": "stream",
       "stream": "stdout",
       "text": [
        "\n",
        "3.7 6.8\n",
        "[ 0.98821581 -0.03257909]"
       ]
      },
      {
       "output_type": "stream",
       "stream": "stdout",
       "text": [
        "\n",
        "3.7 6.9\n",
        "[ 0.98781067 -0.03283322]"
       ]
      },
      {
       "output_type": "stream",
       "stream": "stdout",
       "text": [
        "\n",
        "3.7 7.0\n",
        "[ 0.98743293 -0.03313389]"
       ]
      },
      {
       "output_type": "stream",
       "stream": "stdout",
       "text": [
        "\n",
        "3.7 7.1\n",
        "[ 0.98708506 -0.03348592]"
       ]
      },
      {
       "output_type": "stream",
       "stream": "stdout",
       "text": [
        "\n",
        "3.7 7.2\n",
        "[ 0.98676984 -0.03389446]"
       ]
      },
      {
       "output_type": "stream",
       "stream": "stdout",
       "text": [
        "\n",
        "3.7 7.3\n",
        "[ 0.98649039 -0.03436493]"
       ]
      },
      {
       "output_type": "stream",
       "stream": "stdout",
       "text": [
        "\n",
        "3.7 7.4\n",
        "[ 0.98625021 -0.03490313]"
       ]
      },
      {
       "output_type": "stream",
       "stream": "stdout",
       "text": [
        "\n",
        "3.7 7.5\n",
        "[ 0.98605328 -0.03551522]"
       ]
      },
      {
       "output_type": "stream",
       "stream": "stdout",
       "text": [
        "\n",
        "3.7 7.6\n",
        "[ 0.98590409 -0.03620774]"
       ]
      },
      {
       "output_type": "stream",
       "stream": "stdout",
       "text": [
        "\n",
        "3.7 7.7\n",
        "[ 0.98580778 -0.03698766]"
       ]
      },
      {
       "output_type": "stream",
       "stream": "stdout",
       "text": [
        "\n",
        "3.7 7.8\n",
        "[ 0.9857702  -0.03786242]"
       ]
      },
      {
       "output_type": "stream",
       "stream": "stdout",
       "text": [
        "\n",
        "3.7 7.9\n",
        "[ 0.98579804 -0.03883989]"
       ]
      },
      {
       "output_type": "stream",
       "stream": "stdout",
       "text": [
        "\n",
        "3.7 8.0\n",
        "[ 0.98589901 -0.03992846]"
       ]
      },
      {
       "output_type": "stream",
       "stream": "stdout",
       "text": [
        "\n",
        "3.7 8.1\n",
        "[ 0.98608192 -0.041137  ]"
       ]
      },
      {
       "output_type": "stream",
       "stream": "stdout",
       "text": [
        "\n",
        "3.7 8.2\n",
        "[ 0.98635694 -0.04247486]"
       ]
      },
      {
       "output_type": "stream",
       "stream": "stdout",
       "text": [
        "\n",
        "3.7 8.3\n",
        "[ 0.98673582 -0.04395186]"
       ]
      },
      {
       "output_type": "stream",
       "stream": "stdout",
       "text": [
        "\n",
        "3.7 8.4\n",
        "[ 0.98723209 -0.0455782 ]"
       ]
      },
      {
       "output_type": "stream",
       "stream": "stdout",
       "text": [
        "\n",
        "3.7 8.5\n",
        "[ 0.98786145 -0.04736438]"
       ]
      },
      {
       "output_type": "stream",
       "stream": "stdout",
       "text": [
        "\n",
        "3.7 8.6\n",
        "[ 0.98864207 -0.04932101]"
       ]
      },
      {
       "output_type": "stream",
       "stream": "stdout",
       "text": [
        "\n",
        "3.7 8.7\n",
        "[ 0.98959505 -0.05145857]"
       ]
      },
      {
       "output_type": "stream",
       "stream": "stdout",
       "text": [
        "\n",
        "3.7 8.8\n",
        "[ 0.99074487 -0.05378697]"
       ]
      },
      {
       "output_type": "stream",
       "stream": "stdout",
       "text": [
        "\n",
        "3.7 8.9\n",
        "[ 0.99212005 -0.05631503]"
       ]
      },
      {
       "output_type": "stream",
       "stream": "stdout",
       "text": [
        "\n",
        "3.7 9.0\n",
        "[ 0.9937537  -0.05904954]"
       ]
      },
      {
       "output_type": "stream",
       "stream": "stdout",
       "text": [
        "\n",
        "3.7 9.1\n",
        "[ 0.99568439 -0.06199407]"
       ]
      },
      {
       "output_type": "stream",
       "stream": "stdout",
       "text": [
        "\n",
        "3.7 9.2\n",
        "[ 0.99795691 -0.06514715]"
       ]
      },
      {
       "output_type": "stream",
       "stream": "stdout",
       "text": [
        "\n",
        "3.7 9.3\n",
        "[ 1.00062327 -0.0684996 ]"
       ]
      },
      {
       "output_type": "stream",
       "stream": "stdout",
       "text": [
        "\n",
        "3.7 9.4\n",
        "[ 1.00374357 -0.0720308 ]"
       ]
      },
      {
       "output_type": "stream",
       "stream": "stdout",
       "text": [
        "\n",
        "3.7 9.5\n",
        "[ 1.00738691 -0.07570306]"
       ]
      },
      {
       "output_type": "stream",
       "stream": "stdout",
       "text": [
        "\n",
        "3.7 9.6\n",
        "[ 1.01163194 -0.07945356]"
       ]
      },
      {
       "output_type": "stream",
       "stream": "stdout",
       "text": [
        "\n",
        "3.7 9.7\n",
        "[ 1.01656676 -0.08318241]"
       ]
      },
      {
       "output_type": "stream",
       "stream": "stdout",
       "text": [
        "\n",
        "3.7 9.8\n",
        "[ 1.02228744 -0.08673503]"
       ]
      },
      {
       "output_type": "stream",
       "stream": "stdout",
       "text": [
        "\n",
        "3.7 9.9\n",
        "[ 1.02889387 -0.08987604]"
       ]
      },
      {
       "output_type": "stream",
       "stream": "stdout",
       "text": [
        "\n",
        "3.8 0.0\n",
        "[ 1.007037   -0.02811811]"
       ]
      },
      {
       "output_type": "stream",
       "stream": "stdout",
       "text": [
        "\n",
        "3.8 0.1\n",
        "[ 1.00708297 -0.02814884]"
       ]
      },
      {
       "output_type": "stream",
       "stream": "stdout",
       "text": [
        "\n",
        "3.8 0.2\n",
        "[ 1.00711084 -0.02818669]"
       ]
      },
      {
       "output_type": "stream",
       "stream": "stdout",
       "text": [
        "\n",
        "3.8 0.3\n",
        "[ 1.0071207  -0.02823175]"
       ]
      },
      {
       "output_type": "stream",
       "stream": "stdout",
       "text": [
        "\n",
        "3.8 0.4\n",
        "[ 1.00711265 -0.02828403]"
       ]
      },
      {
       "output_type": "stream",
       "stream": "stdout",
       "text": [
        "\n",
        "3.8 0.5\n",
        "[ 1.00708679 -0.02834343]"
       ]
      },
      {
       "output_type": "stream",
       "stream": "stdout",
       "text": [
        "\n",
        "3.8 0.6\n",
        "[ 1.0070432  -0.02840977]"
       ]
      },
      {
       "output_type": "stream",
       "stream": "stdout",
       "text": [
        "\n",
        "3.8 0.7\n",
        "[ 1.00698199 -0.02848279]"
       ]
      },
      {
       "output_type": "stream",
       "stream": "stdout",
       "text": [
        "\n",
        "3.8 0.8\n",
        "[ 1.00690327 -0.02856217]"
       ]
      },
      {
       "output_type": "stream",
       "stream": "stdout",
       "text": [
        "\n",
        "3.8 0.9\n",
        "[ 1.00680712 -0.02864748]"
       ]
      },
      {
       "output_type": "stream",
       "stream": "stdout",
       "text": [
        "\n",
        "3.8 1.0\n",
        "[ 1.00669366 -0.02873827]"
       ]
      },
      {
       "output_type": "stream",
       "stream": "stdout",
       "text": [
        "\n",
        "3.8 1.1\n",
        "[ 1.00656302 -0.02883398]"
       ]
      },
      {
       "output_type": "stream",
       "stream": "stdout",
       "text": [
        "\n",
        "3.8 1.2\n",
        "[ 1.0064153  -0.02893404]"
       ]
      },
      {
       "output_type": "stream",
       "stream": "stdout",
       "text": [
        "\n",
        "3.8 1.3\n",
        "[ 1.00625067 -0.02903781]"
       ]
      },
      {
       "output_type": "stream",
       "stream": "stdout",
       "text": [
        "\n",
        "3.8 1.4\n",
        "[ 1.00606926 -0.02914462]"
       ]
      },
      {
       "output_type": "stream",
       "stream": "stdout",
       "text": [
        "\n",
        "3.8 1.5\n",
        "[ 1.00587125 -0.02925376]"
       ]
      },
      {
       "output_type": "stream",
       "stream": "stdout",
       "text": [
        "\n",
        "3.8 1.6\n",
        "[ 1.00565683 -0.0293645 ]"
       ]
      },
      {
       "output_type": "stream",
       "stream": "stdout",
       "text": [
        "\n",
        "3.8 1.7\n",
        "[ 1.00542621 -0.02947609]"
       ]
      },
      {
       "output_type": "stream",
       "stream": "stdout",
       "text": [
        "\n",
        "3.8 1.8\n",
        "[ 1.00517961 -0.02958779]"
       ]
      },
      {
       "output_type": "stream",
       "stream": "stdout",
       "text": [
        "\n",
        "3.8 1.9\n",
        "[ 1.0049173  -0.02969883]"
       ]
      },
      {
       "output_type": "stream",
       "stream": "stdout",
       "text": [
        "\n",
        "3.8 2.0\n",
        "[ 1.00463956 -0.02980847]"
       ]
      },
      {
       "output_type": "stream",
       "stream": "stdout",
       "text": [
        "\n",
        "3.8 2.1\n",
        "[ 1.00434669 -0.02991599]"
       ]
      },
      {
       "output_type": "stream",
       "stream": "stdout",
       "text": [
        "\n",
        "3.8 2.2\n",
        "[ 1.00403905 -0.03002068]"
       ]
      },
      {
       "output_type": "stream",
       "stream": "stdout",
       "text": [
        "\n",
        "3.8 2.3\n",
        "[ 1.00371699 -0.03012185]"
       ]
      },
      {
       "output_type": "stream",
       "stream": "stdout",
       "text": [
        "\n",
        "3.8 2.4\n",
        "[ 1.00338092 -0.03021888]"
       ]
      },
      {
       "output_type": "stream",
       "stream": "stdout",
       "text": [
        "\n",
        "3.8 2.5\n",
        "[ 1.00303127 -0.03031118]"
       ]
      },
      {
       "output_type": "stream",
       "stream": "stdout",
       "text": [
        "\n",
        "3.8 2.6\n",
        "[ 1.00266849 -0.0303982 ]"
       ]
      },
      {
       "output_type": "stream",
       "stream": "stdout",
       "text": [
        "\n",
        "3.8 2.7\n",
        "[ 1.0022931  -0.03047946]"
       ]
      },
      {
       "output_type": "stream",
       "stream": "stdout",
       "text": [
        "\n",
        "3.8 2.8\n",
        "[ 1.00190559 -0.03055455]"
       ]
      },
      {
       "output_type": "stream",
       "stream": "stdout",
       "text": [
        "\n",
        "3.8 2.9\n",
        "[ 1.00150654 -0.03062311]"
       ]
      },
      {
       "output_type": "stream",
       "stream": "stdout",
       "text": [
        "\n",
        "3.8 3.0\n",
        "[ 1.00109651 -0.03068487]"
       ]
      },
      {
       "output_type": "stream",
       "stream": "stdout",
       "text": [
        "\n",
        "3.8 3.1\n",
        "[ 1.00067612 -0.03073963]"
       ]
      },
      {
       "output_type": "stream",
       "stream": "stdout",
       "text": [
        "\n",
        "3.8 3.2\n",
        "[ 1.00024601 -0.03078728]"
       ]
      },
      {
       "output_type": "stream",
       "stream": "stdout",
       "text": [
        "\n",
        "3.8 3.3\n",
        "[ 0.99980683 -0.03082778]"
       ]
      },
      {
       "output_type": "stream",
       "stream": "stdout",
       "text": [
        "\n",
        "3.8 3.4\n",
        "[ 0.99935927 -0.03086121]"
       ]
      },
      {
       "output_type": "stream",
       "stream": "stdout",
       "text": [
        "\n",
        "3.8 3.5\n",
        "[ 0.99890403 -0.0308877 ]"
       ]
      },
      {
       "output_type": "stream",
       "stream": "stdout",
       "text": [
        "\n",
        "3.8 3.6\n",
        "[ 0.99844185 -0.03090751]"
       ]
      },
      {
       "output_type": "stream",
       "stream": "stdout",
       "text": [
        "\n",
        "3.8 3.7\n",
        "[ 0.99797347 -0.03092099]"
       ]
      },
      {
       "output_type": "stream",
       "stream": "stdout",
       "text": [
        "\n",
        "3.8 3.8\n",
        "[ 0.99749965 -0.03092857]"
       ]
      },
      {
       "output_type": "stream",
       "stream": "stdout",
       "text": [
        "\n",
        "3.8 3.9\n",
        "[ 0.99702117 -0.03093079]"
       ]
      },
      {
       "output_type": "stream",
       "stream": "stdout",
       "text": [
        "\n",
        "3.8 4.0\n",
        "[ 0.99653884 -0.03092832]"
       ]
      },
      {
       "output_type": "stream",
       "stream": "stdout",
       "text": [
        "\n",
        "3.8 4.1\n",
        "[ 0.99605347 -0.03092188]"
       ]
      },
      {
       "output_type": "stream",
       "stream": "stdout",
       "text": [
        "\n",
        "3.8 4.2\n",
        "[ 0.99556587 -0.03091234]"
       ]
      },
      {
       "output_type": "stream",
       "stream": "stdout",
       "text": [
        "\n",
        "3.8 4.3\n",
        "[ 0.99507689 -0.03090065]"
       ]
      },
      {
       "output_type": "stream",
       "stream": "stdout",
       "text": [
        "\n",
        "3.8 4.4\n",
        "[ 0.99458738 -0.03088789]"
       ]
      },
      {
       "output_type": "stream",
       "stream": "stdout",
       "text": [
        "\n",
        "3.8 4.5\n",
        "[ 0.9940982  -0.03087522]"
       ]
      },
      {
       "output_type": "stream",
       "stream": "stdout",
       "text": [
        "\n",
        "3.8 4.6\n",
        "[ 0.99361025 -0.03086393]"
       ]
      },
      {
       "output_type": "stream",
       "stream": "stdout",
       "text": [
        "\n",
        "3.8 4.7\n",
        "[ 0.9931244  -0.03085541]"
       ]
      },
      {
       "output_type": "stream",
       "stream": "stdout",
       "text": [
        "\n",
        "3.8 4.8\n",
        "[ 0.99264159 -0.03085118]"
       ]
      },
      {
       "output_type": "stream",
       "stream": "stdout",
       "text": [
        "\n",
        "3.8 4.9\n",
        "[ 0.99216274 -0.03085287]"
       ]
      },
      {
       "output_type": "stream",
       "stream": "stdout",
       "text": [
        "\n",
        "3.8 5.0\n",
        "[ 0.99168881 -0.03086221]"
       ]
      },
      {
       "output_type": "stream",
       "stream": "stdout",
       "text": [
        "\n",
        "3.8 5.1\n",
        "[ 0.99122079 -0.03088108]"
       ]
      },
      {
       "output_type": "stream",
       "stream": "stdout",
       "text": [
        "\n",
        "3.8 5.2\n",
        "[ 0.9907597  -0.03091147]"
       ]
      },
      {
       "output_type": "stream",
       "stream": "stdout",
       "text": [
        "\n",
        "3.8 5.3\n",
        "[ 0.9903066  -0.03095551]"
       ]
      },
      {
       "output_type": "stream",
       "stream": "stdout",
       "text": [
        "\n",
        "3.8 5.4\n",
        "[ 0.98986259 -0.03101545]"
       ]
      },
      {
       "output_type": "stream",
       "stream": "stdout",
       "text": [
        "\n",
        "3.8 5.5\n",
        "[ 0.98942884 -0.0310937 ]"
       ]
      },
      {
       "output_type": "stream",
       "stream": "stdout",
       "text": [
        "\n",
        "3.8 5.6\n",
        "[ 0.98900655 -0.03119282]"
       ]
      },
      {
       "output_type": "stream",
       "stream": "stdout",
       "text": [
        "\n",
        "3.8 5.7\n",
        "[ 0.98859704 -0.03131552]"
       ]
      },
      {
       "output_type": "stream",
       "stream": "stdout",
       "text": [
        "\n",
        "3.8 5.8\n",
        "[ 0.98820168 -0.03146467]"
       ]
      },
      {
       "output_type": "stream",
       "stream": "stdout",
       "text": [
        "\n",
        "3.8 5.9\n",
        "[ 0.98782197 -0.03164334]"
       ]
      },
      {
       "output_type": "stream",
       "stream": "stdout",
       "text": [
        "\n",
        "3.8 6.0\n",
        "[ 0.98745951 -0.03185476]"
       ]
      },
      {
       "output_type": "stream",
       "stream": "stdout",
       "text": [
        "\n",
        "3.8 6.1\n",
        "[ 0.98711605 -0.03210239]"
       ]
      },
      {
       "output_type": "stream",
       "stream": "stdout",
       "text": [
        "\n",
        "3.8 6.2\n",
        "[ 0.9867935  -0.03238988]"
       ]
      },
      {
       "output_type": "stream",
       "stream": "stdout",
       "text": [
        "\n",
        "3.8 6.3\n",
        "[ 0.98649398 -0.03272113]"
       ]
      },
      {
       "output_type": "stream",
       "stream": "stdout",
       "text": [
        "\n",
        "3.8 6.4\n",
        "[ 0.98621979 -0.03310028]"
       ]
      },
      {
       "output_type": "stream",
       "stream": "stdout",
       "text": [
        "\n",
        "3.8 6.5\n",
        "[ 0.98597351 -0.03353173]"
       ]
      },
      {
       "output_type": "stream",
       "stream": "stdout",
       "text": [
        "\n",
        "3.8 6.6\n",
        "[ 0.98575802 -0.03402018]"
       ]
      },
      {
       "output_type": "stream",
       "stream": "stdout",
       "text": [
        "\n",
        "3.8 6.7\n",
        "[ 0.98557653 -0.03457062]"
       ]
      },
      {
       "output_type": "stream",
       "stream": "stdout",
       "text": [
        "\n",
        "3.8 6.8\n",
        "[ 0.98543263 -0.03518839]"
       ]
      },
      {
       "output_type": "stream",
       "stream": "stdout",
       "text": [
        "\n",
        "3.8 6.9\n",
        "[ 0.98533039 -0.03587915]"
       ]
      },
      {
       "output_type": "stream",
       "stream": "stdout",
       "text": [
        "\n",
        "3.8 7.0\n",
        "[ 0.98527439 -0.03664894]"
       ]
      },
      {
       "output_type": "stream",
       "stream": "stdout",
       "text": [
        "\n",
        "3.8 7.1\n",
        "[ 0.98526983 -0.03750421]"
       ]
      },
      {
       "output_type": "stream",
       "stream": "stdout",
       "text": [
        "\n",
        "3.8 7.2\n",
        "[ 0.98532261 -0.0384518 ]"
       ]
      },
      {
       "output_type": "stream",
       "stream": "stdout",
       "text": [
        "\n",
        "3.8 7.3\n",
        "[ 0.98543942 -0.03949896]"
       ]
      },
      {
       "output_type": "stream",
       "stream": "stdout",
       "text": [
        "\n",
        "3.8 7.4\n",
        "[ 0.98562794 -0.04065341]"
       ]
      },
      {
       "output_type": "stream",
       "stream": "stdout",
       "text": [
        "\n",
        "3.8 7.5\n",
        "[ 0.98589689 -0.04192326]"
       ]
      },
      {
       "output_type": "stream",
       "stream": "stdout",
       "text": [
        "\n",
        "3.8 7.6\n",
        "[ 0.98625631 -0.04331704]"
       ]
      },
      {
       "output_type": "stream",
       "stream": "stdout",
       "text": [
        "\n",
        "3.8 7.7\n",
        "[ 0.98671767 -0.04484365]"
       ]
      },
      {
       "output_type": "stream",
       "stream": "stdout",
       "text": [
        "\n",
        "3.8 7.8\n",
        "[ 0.98729417 -0.04651228]"
       ]
      },
      {
       "output_type": "stream",
       "stream": "stdout",
       "text": [
        "\n",
        "3.8 7.9\n",
        "[ 0.98800101 -0.04833232]"
       ]
      },
      {
       "output_type": "stream",
       "stream": "stdout",
       "text": [
        "\n",
        "3.8 8.0\n",
        "[ 0.98885567 -0.05031313]"
       ]
      },
      {
       "output_type": "stream",
       "stream": "stdout",
       "text": [
        "\n",
        "3.8 8.1\n",
        "[ 0.98987836 -0.05246383]"
       ]
      },
      {
       "output_type": "stream",
       "stream": "stdout",
       "text": [
        "\n",
        "3.8 8.2\n",
        "[ 0.9910924  -0.05479287]"
       ]
      },
      {
       "output_type": "stream",
       "stream": "stdout",
       "text": [
        "\n",
        "3.8 8.3\n",
        "[ 0.99252476 -0.05730745]"
       ]
      },
      {
       "output_type": "stream",
       "stream": "stdout",
       "text": [
        "\n",
        "3.8 8.4\n",
        "[ 0.99420662 -0.06001276]"
       ]
      },
      {
       "output_type": "stream",
       "stream": "stdout",
       "text": [
        "\n",
        "3.8 8.5\n",
        "[ 0.99617404 -0.06291072]"
       ]
      },
      {
       "output_type": "stream",
       "stream": "stdout",
       "text": [
        "\n",
        "3.8 8.6\n",
        "[ 0.99846869 -0.06599836]"
       ]
      },
      {
       "output_type": "stream",
       "stream": "stdout",
       "text": [
        "\n",
        "3.8 8.7\n",
        "[ 1.00113861 -0.06926542]"
       ]
      },
      {
       "output_type": "stream",
       "stream": "stdout",
       "text": [
        "\n",
        "3.8 8.8\n",
        "[ 1.00423899 -0.07269086]"
       ]
      },
      {
       "output_type": "stream",
       "stream": "stdout",
       "text": [
        "\n",
        "3.8 8.9\n",
        "[ 1.00783288 -0.07623795]"
       ]
      },
      {
       "output_type": "stream",
       "stream": "stdout",
       "text": [
        "\n",
        "3.8 9.0\n",
        "[ 1.01199158 -0.07984714]"
       ]
      },
      {
       "output_type": "stream",
       "stream": "stdout",
       "text": [
        "\n",
        "3.8 9.1\n",
        "[ 1.0167945  -0.08342565]"
       ]
      },
      {
       "output_type": "stream",
       "stream": "stdout",
       "text": [
        "\n",
        "3.8 9.2\n",
        "[ 1.02232779 -0.08683241]"
       ]
      },
      {
       "output_type": "stream",
       "stream": "stdout",
       "text": [
        "\n",
        "3.8 9.3\n",
        "[ 1.02868077 -0.08985593]"
       ]
      },
      {
       "output_type": "stream",
       "stream": "stdout",
       "text": [
        "\n",
        "3.8 9.4\n",
        "[ 1.03593822 -0.09218181]"
       ]
      },
      {
       "output_type": "stream",
       "stream": "stdout",
       "text": [
        "\n",
        "3.8 9.5\n",
        "[ 1.04416519 -0.09334485]"
       ]
      },
      {
       "output_type": "stream",
       "stream": "stdout",
       "text": [
        "\n",
        "3.8 9.6\n",
        "[ 1.05337805 -0.09265884]"
       ]
      },
      {
       "output_type": "stream",
       "stream": "stdout",
       "text": [
        "\n",
        "3.8 9.7\n",
        "[ 1.06349062 -0.08911483]"
       ]
      },
      {
       "output_type": "stream",
       "stream": "stdout",
       "text": [
        "\n",
        "3.8 9.8\n",
        "[ 1.07421437 -0.08123802]"
       ]
      },
      {
       "output_type": "stream",
       "stream": "stdout",
       "text": [
        "\n",
        "3.8 9.9\n",
        "[ 1.08487431 -0.06690007]"
       ]
      },
      {
       "output_type": "stream",
       "stream": "stdout",
       "text": [
        "\n",
        "3.9 0.0\n",
        "[ 0.99788346 -0.02890262]"
       ]
      },
      {
       "output_type": "stream",
       "stream": "stdout",
       "text": [
        "\n",
        "3.9 0.1\n",
        "[ 0.99792779 -0.02896119]"
       ]
      },
      {
       "output_type": "stream",
       "stream": "stdout",
       "text": [
        "\n",
        "3.9 0.2\n",
        "[ 0.9979565  -0.02901745]"
       ]
      },
      {
       "output_type": "stream",
       "stream": "stdout",
       "text": [
        "\n",
        "3.9 0.3\n",
        "[ 0.99796965 -0.02907152]"
       ]
      },
      {
       "output_type": "stream",
       "stream": "stdout",
       "text": [
        "\n",
        "3.9 0.4\n",
        "[ 0.99796733 -0.02912347]"
       ]
      },
      {
       "output_type": "stream",
       "stream": "stdout",
       "text": [
        "\n",
        "3.9 0.5\n",
        "[ 0.99794962 -0.02917338]"
       ]
      },
      {
       "output_type": "stream",
       "stream": "stdout",
       "text": [
        "\n",
        "3.9 0.6\n",
        "[ 0.99791666 -0.02922129]"
       ]
      },
      {
       "output_type": "stream",
       "stream": "stdout",
       "text": [
        "\n",
        "3.9 0.7\n",
        "[ 0.99786859 -0.02926722]"
       ]
      },
      {
       "output_type": "stream",
       "stream": "stdout",
       "text": [
        "\n",
        "3.9 0.8\n",
        "[ 0.99780557 -0.02931117]"
       ]
      },
      {
       "output_type": "stream",
       "stream": "stdout",
       "text": [
        "\n",
        "3.9 0.9\n",
        "[ 0.99772777 -0.02935312]"
       ]
      },
      {
       "output_type": "stream",
       "stream": "stdout",
       "text": [
        "\n",
        "3.9 1.0\n",
        "[ 0.99763539 -0.02939305]"
       ]
      },
      {
       "output_type": "stream",
       "stream": "stdout",
       "text": [
        "\n",
        "3.9 1.1\n",
        "[ 0.99752867 -0.02943091]"
       ]
      },
      {
       "output_type": "stream",
       "stream": "stdout",
       "text": [
        "\n",
        "3.9 1.2\n",
        "[ 0.99740783 -0.02946666]"
       ]
      },
      {
       "output_type": "stream",
       "stream": "stdout",
       "text": [
        "\n",
        "3.9 1.3\n",
        "[ 0.99727313 -0.02950024]"
       ]
      },
      {
       "output_type": "stream",
       "stream": "stdout",
       "text": [
        "\n",
        "3.9 1.4\n",
        "[ 0.99712485 -0.02953158]"
       ]
      },
      {
       "output_type": "stream",
       "stream": "stdout",
       "text": [
        "\n",
        "3.9 1.5\n",
        "[ 0.99696329 -0.02956064]"
       ]
      },
      {
       "output_type": "stream",
       "stream": "stdout",
       "text": [
        "\n",
        "3.9 1.6\n",
        "[ 0.99678876 -0.02958736]"
       ]
      },
      {
       "output_type": "stream",
       "stream": "stdout",
       "text": [
        "\n",
        "3.9 1.7\n",
        "[ 0.99660161 -0.0296117 ]"
       ]
      },
      {
       "output_type": "stream",
       "stream": "stdout",
       "text": [
        "\n",
        "3.9 1.8\n",
        "[ 0.99640218 -0.02963362]"
       ]
      },
      {
       "output_type": "stream",
       "stream": "stdout",
       "text": [
        "\n",
        "3.9 1.9\n",
        "[ 0.99619086 -0.02965312]"
       ]
      },
      {
       "output_type": "stream",
       "stream": "stdout",
       "text": [
        "\n",
        "3.9 2.0\n",
        "[ 0.99596803 -0.02967019]"
       ]
      },
      {
       "output_type": "stream",
       "stream": "stdout",
       "text": [
        "\n",
        "3.9 2.1\n",
        "[ 0.99573411 -0.02968488]"
       ]
      },
      {
       "output_type": "stream",
       "stream": "stdout",
       "text": [
        "\n",
        "3.9 2.2\n",
        "[ 0.99548954 -0.02969724]"
       ]
      },
      {
       "output_type": "stream",
       "stream": "stdout",
       "text": [
        "\n",
        "3.9 2.3\n",
        "[ 0.99523476 -0.02970736]"
       ]
      },
      {
       "output_type": "stream",
       "stream": "stdout",
       "text": [
        "\n",
        "3.9 2.4\n",
        "[ 0.99497025 -0.02971537]"
       ]
      },
      {
       "output_type": "stream",
       "stream": "stdout",
       "text": [
        "\n",
        "3.9 2.5\n",
        "[ 0.9946965  -0.02972145]"
       ]
      },
      {
       "output_type": "stream",
       "stream": "stdout",
       "text": [
        "\n",
        "3.9 2.6\n",
        "[ 0.99441401 -0.0297258 ]"
       ]
      },
      {
       "output_type": "stream",
       "stream": "stdout",
       "text": [
        "\n",
        "3.9 2.7\n",
        "[ 0.99412331 -0.02972868]"
       ]
      },
      {
       "output_type": "stream",
       "stream": "stdout",
       "text": [
        "\n",
        "3.9 2.8\n",
        "[ 0.99382494 -0.0297304 ]"
       ]
      },
      {
       "output_type": "stream",
       "stream": "stdout",
       "text": [
        "\n",
        "3.9 2.9\n",
        "[ 0.99351947 -0.02973134]"
       ]
      },
      {
       "output_type": "stream",
       "stream": "stdout",
       "text": [
        "\n",
        "3.9 3.0\n",
        "[ 0.99320748 -0.02973191]"
       ]
      },
      {
       "output_type": "stream",
       "stream": "stdout",
       "text": [
        "\n",
        "3.9 3.1\n",
        "[ 0.99288956 -0.0297326 ]"
       ]
      },
      {
       "output_type": "stream",
       "stream": "stdout",
       "text": [
        "\n",
        "3.9 3.2\n",
        "[ 0.99256633 -0.02973396]"
       ]
      },
      {
       "output_type": "stream",
       "stream": "stdout",
       "text": [
        "\n",
        "3.9 3.3\n",
        "[ 0.99223843 -0.02973661]"
       ]
      },
      {
       "output_type": "stream",
       "stream": "stdout",
       "text": [
        "\n",
        "3.9 3.4\n",
        "[ 0.9919065  -0.02974123]"
       ]
      },
      {
       "output_type": "stream",
       "stream": "stdout",
       "text": [
        "\n",
        "3.9 3.5\n",
        "[ 0.99157121 -0.02974859]"
       ]
      },
      {
       "output_type": "stream",
       "stream": "stdout",
       "text": [
        "\n",
        "3.9 3.6\n",
        "[ 0.99123327 -0.02975953]"
       ]
      },
      {
       "output_type": "stream",
       "stream": "stdout",
       "text": [
        "\n",
        "3.9 3.7\n",
        "[ 0.99089337 -0.02977496]"
       ]
      },
      {
       "output_type": "stream",
       "stream": "stdout",
       "text": [
        "\n",
        "3.9 3.8\n",
        "[ 0.99055226 -0.0297959 ]"
       ]
      },
      {
       "output_type": "stream",
       "stream": "stdout",
       "text": [
        "\n",
        "3.9 3.9\n",
        "[ 0.99021069 -0.02982344]"
       ]
      },
      {
       "output_type": "stream",
       "stream": "stdout",
       "text": [
        "\n",
        "3.9 4.0\n",
        "[ 0.98986945 -0.02985875]"
       ]
      },
      {
       "output_type": "stream",
       "stream": "stdout",
       "text": [
        "\n",
        "3.9 4.1\n",
        "[ 0.98952935 -0.02990313]"
       ]
      },
      {
       "output_type": "stream",
       "stream": "stdout",
       "text": [
        "\n",
        "3.9 4.2\n",
        "[ 0.98919123 -0.02995795]"
       ]
      },
      {
       "output_type": "stream",
       "stream": "stdout",
       "text": [
        "\n",
        "3.9 4.3\n",
        "[ 0.98885597 -0.03002469]"
       ]
      },
      {
       "output_type": "stream",
       "stream": "stdout",
       "text": [
        "\n",
        "3.9 4.4\n",
        "[ 0.9885245  -0.03010494]"
       ]
      },
      {
       "output_type": "stream",
       "stream": "stdout",
       "text": [
        "\n",
        "3.9 4.5\n",
        "[ 0.98819778 -0.03020042]"
       ]
      },
      {
       "output_type": "stream",
       "stream": "stdout",
       "text": [
        "\n",
        "3.9 4.6\n",
        "[ 0.98787683 -0.03031295]"
       ]
      },
      {
       "output_type": "stream",
       "stream": "stdout",
       "text": [
        "\n",
        "3.9 4.7\n",
        "[ 0.98756271 -0.03044448]"
       ]
      },
      {
       "output_type": "stream",
       "stream": "stdout",
       "text": [
        "\n",
        "3.9 4.8\n",
        "[ 0.98725656 -0.03059709]"
       ]
      },
      {
       "output_type": "stream",
       "stream": "stdout",
       "text": [
        "\n",
        "3.9 4.9\n",
        "[ 0.98695961 -0.03077302]"
       ]
      },
      {
       "output_type": "stream",
       "stream": "stdout",
       "text": [
        "\n",
        "3.9 5.0\n",
        "[ 0.98667314 -0.03097464]"
       ]
      },
      {
       "output_type": "stream",
       "stream": "stdout",
       "text": [
        "\n",
        "3.9 5.1\n",
        "[ 0.98639856 -0.03120449]"
       ]
      },
      {
       "output_type": "stream",
       "stream": "stdout",
       "text": [
        "\n",
        "3.9 5.2\n",
        "[ 0.98613736 -0.03146526]"
       ]
      },
      {
       "output_type": "stream",
       "stream": "stdout",
       "text": [
        "\n",
        "3.9 5.3\n",
        "[ 0.9858912  -0.03175983]"
       ]
      },
      {
       "output_type": "stream",
       "stream": "stdout",
       "text": [
        "\n",
        "3.9 5.4\n",
        "[ 0.98566184 -0.03209128]"
       ]
      },
      {
       "output_type": "stream",
       "stream": "stdout",
       "text": [
        "\n",
        "3.9 5.5\n",
        "[ 0.98545123 -0.03246288]"
       ]
      },
      {
       "output_type": "stream",
       "stream": "stdout",
       "text": [
        "\n",
        "3.9 5.6\n",
        "[ 0.98526152 -0.03287811]"
       ]
      },
      {
       "output_type": "stream",
       "stream": "stdout",
       "text": [
        "\n",
        "3.9 5.7\n",
        "[ 0.98509506 -0.0333407 ]"
       ]
      },
      {
       "output_type": "stream",
       "stream": "stdout",
       "text": [
        "\n",
        "3.9 5.8\n",
        "[ 0.98495447 -0.03385461]"
       ]
      },
      {
       "output_type": "stream",
       "stream": "stdout",
       "text": [
        "\n",
        "3.9 5.9\n",
        "[ 0.98484262 -0.03442406]"
       ]
      },
      {
       "output_type": "stream",
       "stream": "stdout",
       "text": [
        "\n",
        "3.9 6.0\n",
        "[ 0.98476276 -0.03505357]"
       ]
      },
      {
       "output_type": "stream",
       "stream": "stdout",
       "text": [
        "\n",
        "3.9 6.1\n",
        "[ 0.98471847 -0.03574793]"
       ]
      },
      {
       "output_type": "stream",
       "stream": "stdout",
       "text": [
        "\n",
        "3.9 6.2\n",
        "[ 0.9847138  -0.03651225]"
       ]
      },
      {
       "output_type": "stream",
       "stream": "stdout",
       "text": [
        "\n",
        "3.9 6.3\n",
        "[ 0.98475326 -0.03735198]"
       ]
      },
      {
       "output_type": "stream",
       "stream": "stdout",
       "text": [
        "\n",
        "3.9 6.4\n",
        "[ 0.98484196 -0.03827288]"
       ]
      },
      {
       "output_type": "stream",
       "stream": "stdout",
       "text": [
        "\n",
        "3.9 6.5\n",
        "[ 0.98498563 -0.0392811 ]"
       ]
      },
      {
       "output_type": "stream",
       "stream": "stdout",
       "text": [
        "\n",
        "3.9 6.6\n",
        "[ 0.9851908  -0.04038313]"
       ]
      },
      {
       "output_type": "stream",
       "stream": "stdout",
       "text": [
        "\n",
        "3.9 6.7\n",
        "[ 0.98546481 -0.0415858 ]"
       ]
      },
      {
       "output_type": "stream",
       "stream": "stdout",
       "text": [
        "\n",
        "3.9 6.8\n",
        "[ 0.98581604 -0.04289632]"
       ]
      },
      {
       "output_type": "stream",
       "stream": "stdout",
       "text": [
        "\n",
        "3.9 6.9\n",
        "[ 0.986254  -0.0443222]"
       ]
      },
      {
       "output_type": "stream",
       "stream": "stdout",
       "text": [
        "\n",
        "3.9 7.0\n",
        "[ 0.98678952 -0.04587123]"
       ]
      },
      {
       "output_type": "stream",
       "stream": "stdout",
       "text": [
        "\n",
        "3.9 7.1\n",
        "[ 0.98743498 -0.0475514 ]"
       ]
      },
      {
       "output_type": "stream",
       "stream": "stdout",
       "text": [
        "\n",
        "3.9 7.2\n",
        "[ 0.98820451 -0.04937078]"
       ]
      },
      {
       "output_type": "stream",
       "stream": "stdout",
       "text": [
        "\n",
        "3.9 7.3\n",
        "[ 0.98911431 -0.05133736]"
       ]
      },
      {
       "output_type": "stream",
       "stream": "stdout",
       "text": [
        "\n",
        "3.9 7.4\n",
        "[ 0.99018291 -0.05345877]"
       ]
      },
      {
       "output_type": "stream",
       "stream": "stdout",
       "text": [
        "\n",
        "3.9 7.5\n",
        "[ 0.9914316  -0.05574196]"
       ]
      },
      {
       "output_type": "stream",
       "stream": "stdout",
       "text": [
        "\n",
        "3.9 7.6\n",
        "[ 0.99288481 -0.05819266]"
       ]
      },
      {
       "output_type": "stream",
       "stream": "stdout",
       "text": [
        "\n",
        "3.9 7.7\n",
        "[ 0.9945706  -0.06081466]"
       ]
      },
      {
       "output_type": "stream",
       "stream": "stdout",
       "text": [
        "\n",
        "3.9 7.8\n",
        "[ 0.99652118 -0.06360883]"
       ]
      },
      {
       "output_type": "stream",
       "stream": "stdout",
       "text": [
        "\n",
        "3.9 7.9\n",
        "[ 0.99877352 -0.06657165]"
       ]
      },
      {
       "output_type": "stream",
       "stream": "stdout",
       "text": [
        "\n",
        "3.9 8.0\n",
        "[ 1.00136995 -0.06969322]"
       ]
      },
      {
       "output_type": "stream",
       "stream": "stdout",
       "text": [
        "\n",
        "3.9 8.1\n",
        "[ 1.00435879 -0.07295443]"
       ]
      },
      {
       "output_type": "stream",
       "stream": "stdout",
       "text": [
        "\n",
        "3.9 8.2\n",
        "[ 1.00779487 -0.07632296]"
       ]
      },
      {
       "output_type": "stream",
       "stream": "stdout",
       "text": [
        "\n",
        "3.9 8.3\n",
        "[ 1.01173988 -0.07974755]"
       ]
      },
      {
       "output_type": "stream",
       "stream": "stdout",
       "text": [
        "\n",
        "3.9 8.4\n",
        "[ 1.01626227 -0.08314995]"
       ]
      },
      {
       "output_type": "stream",
       "stream": "stdout",
       "text": [
        "\n",
        "3.9 8.5\n",
        "[ 1.02143628 -0.08641323]"
       ]
      },
      {
       "output_type": "stream",
       "stream": "stdout",
       "text": [
        "\n",
        "3.9 8.6\n",
        "[ 1.02733938 -0.08936504]"
       ]
      },
      {
       "output_type": "stream",
       "stream": "stdout",
       "text": [
        "\n",
        "3.9 8.7\n",
        "[ 1.03404692 -0.09175344]"
       ]
      },
      {
       "output_type": "stream",
       "stream": "stdout",
       "text": [
        "\n",
        "3.9 8.8\n",
        "[ 1.04162164 -0.09321184]"
       ]
      },
      {
       "output_type": "stream",
       "stream": "stdout",
       "text": [
        "\n",
        "3.9 8.9\n",
        "[ 1.05009424 -0.0932084 ]"
       ]
      },
      {
       "output_type": "stream",
       "stream": "stdout",
       "text": [
        "\n",
        "3.9 9.0\n",
        "[ 1.05942794 -0.09097343]"
       ]
      },
      {
       "output_type": "stream",
       "stream": "stdout",
       "text": [
        "\n",
        "3.9 9.1\n",
        "[ 1.06945458 -0.08539754]"
       ]
      },
      {
       "output_type": "stream",
       "stream": "stdout",
       "text": [
        "\n",
        "3.9 9.2\n",
        "[ 1.07975961 -0.074895  ]"
       ]
      },
      {
       "output_type": "stream",
       "stream": "stdout",
       "text": [
        "\n",
        "3.9 9.3\n",
        "[ 1.0894754  -0.05723906]"
       ]
      },
      {
       "output_type": "stream",
       "stream": "stdout",
       "text": [
        "\n",
        "3.9 9.4\n",
        "[ 1.09691032 -0.02941811]"
       ]
      },
      {
       "output_type": "stream",
       "stream": "stdout",
       "text": [
        "\n",
        "3.9 9.5\n",
        "[ 1.09888944  0.01231854]"
       ]
      },
      {
       "output_type": "stream",
       "stream": "stdout",
       "text": [
        "\n",
        "3.9 9.6\n",
        "[ 1.08961461  0.07175007]"
       ]
      },
      {
       "output_type": "stream",
       "stream": "stdout",
       "text": [
        "\n",
        "3.9 9.7\n",
        "[ 1.05882675  0.15017087]"
       ]
      },
      {
       "output_type": "stream",
       "stream": "stdout",
       "text": [
        "\n",
        "3.9 9.8\n",
        "[ 0.98933671  0.23997067]"
       ]
      },
      {
       "output_type": "stream",
       "stream": "stdout",
       "text": [
        "\n",
        "3.9 9.9\n",
        "[ 0.85538022  0.31278509]"
       ]
      },
      {
       "output_type": "stream",
       "stream": "stdout",
       "text": [
        "\n",
        "4.0 0.0\n",
        "[ 0.99005622 -0.02707295]"
       ]
      },
      {
       "output_type": "stream",
       "stream": "stdout",
       "text": [
        "\n",
        "4.0 0.1\n",
        "[ 0.99009565 -0.02714918]"
       ]
      },
      {
       "output_type": "stream",
       "stream": "stdout",
       "text": [
        "\n",
        "4.0 0.2\n",
        "[ 0.99012371 -0.0272224 ]"
       ]
      },
      {
       "output_type": "stream",
       "stream": "stdout",
       "text": [
        "\n",
        "4.0 0.3\n",
        "[ 0.99014044 -0.02729271]"
       ]
      },
      {
       "output_type": "stream",
       "stream": "stdout",
       "text": [
        "\n",
        "4.0 0.4\n",
        "[ 0.99014591 -0.02736022]"
       ]
      },
      {
       "output_type": "stream",
       "stream": "stdout",
       "text": [
        "\n",
        "4.0 0.5\n",
        "[ 0.99014022 -0.02742506]"
       ]
      },
      {
       "output_type": "stream",
       "stream": "stdout",
       "text": [
        "\n",
        "4.0 0.6\n",
        "[ 0.99012345 -0.02748737]"
       ]
      },
      {
       "output_type": "stream",
       "stream": "stdout",
       "text": [
        "\n",
        "4.0 0.7\n",
        "[ 0.99009576 -0.02754729]"
       ]
      },
      {
       "output_type": "stream",
       "stream": "stdout",
       "text": [
        "\n",
        "4.0 0.8\n",
        "[ 0.99005727 -0.027605  ]"
       ]
      },
      {
       "output_type": "stream",
       "stream": "stdout",
       "text": [
        "\n",
        "4.0 0.9\n",
        "[ 0.99000818 -0.02766067]"
       ]
      },
      {
       "output_type": "stream",
       "stream": "stdout",
       "text": [
        "\n",
        "4.0 1.0\n",
        "[ 0.98994867 -0.0277145 ]"
       ]
      },
      {
       "output_type": "stream",
       "stream": "stdout",
       "text": [
        "\n",
        "4.0 1.1\n",
        "[ 0.98987895 -0.02776669]"
       ]
      },
      {
       "output_type": "stream",
       "stream": "stdout",
       "text": [
        "\n",
        "4.0 1.2\n",
        "[ 0.98979926 -0.02781747]"
       ]
      },
      {
       "output_type": "stream",
       "stream": "stdout",
       "text": [
        "\n",
        "4.0 1.3\n",
        "[ 0.98970985 -0.02786709]"
       ]
      },
      {
       "output_type": "stream",
       "stream": "stdout",
       "text": [
        "\n",
        "4.0 1.4\n",
        "[ 0.989611   -0.02791581]"
       ]
      },
      {
       "output_type": "stream",
       "stream": "stdout",
       "text": [
        "\n",
        "4.0 1.5\n",
        "[ 0.98950299 -0.02796394]"
       ]
      },
      {
       "output_type": "stream",
       "stream": "stdout",
       "text": [
        "\n",
        "4.0 1.6\n",
        "[ 0.98938615 -0.02801179]"
       ]
      },
      {
       "output_type": "stream",
       "stream": "stdout",
       "text": [
        "\n",
        "4.0 1.7\n",
        "[ 0.9892608  -0.02805969]"
       ]
      },
      {
       "output_type": "stream",
       "stream": "stdout",
       "text": [
        "\n",
        "4.0 1.8\n",
        "[ 0.98912731 -0.02810803]"
       ]
      },
      {
       "output_type": "stream",
       "stream": "stdout",
       "text": [
        "\n",
        "4.0 1.9\n",
        "[ 0.98898605 -0.02815722]"
       ]
      },
      {
       "output_type": "stream",
       "stream": "stdout",
       "text": [
        "\n",
        "4.0 2.0\n",
        "[ 0.98883741 -0.02820768]"
       ]
      },
      {
       "output_type": "stream",
       "stream": "stdout",
       "text": [
        "\n",
        "4.0 2.1\n",
        "[ 0.98868181 -0.02825991]"
       ]
      },
      {
       "output_type": "stream",
       "stream": "stdout",
       "text": [
        "\n",
        "4.0 2.2\n",
        "[ 0.98851969 -0.02831442]"
       ]
      },
      {
       "output_type": "stream",
       "stream": "stdout",
       "text": [
        "\n",
        "4.0 2.3\n",
        "[ 0.9883515  -0.02837177]"
       ]
      },
      {
       "output_type": "stream",
       "stream": "stdout",
       "text": [
        "\n",
        "4.0 2.4\n",
        "[ 0.98817774 -0.02843256]"
       ]
      },
      {
       "output_type": "stream",
       "stream": "stdout",
       "text": [
        "\n",
        "4.0 2.5\n",
        "[ 0.98799889 -0.02849746]"
       ]
      },
      {
       "output_type": "stream",
       "stream": "stdout",
       "text": [
        "\n",
        "4.0 2.6\n",
        "[ 0.9878155  -0.02856718]"
       ]
      },
      {
       "output_type": "stream",
       "stream": "stdout",
       "text": [
        "\n",
        "4.0 2.7\n",
        "[ 0.98762811 -0.02864247]"
       ]
      },
      {
       "output_type": "stream",
       "stream": "stdout",
       "text": [
        "\n",
        "4.0 2.8\n",
        "[ 0.98743731 -0.02872415]"
       ]
      },
      {
       "output_type": "stream",
       "stream": "stdout",
       "text": [
        "\n",
        "4.0 2.9\n",
        "[ 0.98724369 -0.02881312]"
       ]
      },
      {
       "output_type": "stream",
       "stream": "stdout",
       "text": [
        "\n",
        "4.0 3.0\n",
        "[ 0.9870479  -0.02891032]"
       ]
      },
      {
       "output_type": "stream",
       "stream": "stdout",
       "text": [
        "\n",
        "4.0 3.1\n",
        "[ 0.9868506  -0.02901677]"
       ]
      },
      {
       "output_type": "stream",
       "stream": "stdout",
       "text": [
        "\n",
        "4.0 3.2\n",
        "[ 0.9866525  -0.02913358]"
       ]
      },
      {
       "output_type": "stream",
       "stream": "stdout",
       "text": [
        "\n",
        "4.0 3.3\n",
        "[ 0.98645433 -0.0292619 ]"
       ]
      },
      {
       "output_type": "stream",
       "stream": "stdout",
       "text": [
        "\n",
        "4.0 3.4\n",
        "[ 0.98625687 -0.029403  ]"
       ]
      },
      {
       "output_type": "stream",
       "stream": "stdout",
       "text": [
        "\n",
        "4.0 3.5\n",
        "[ 0.98606095 -0.02955822]"
       ]
      },
      {
       "output_type": "stream",
       "stream": "stdout",
       "text": [
        "\n",
        "4.0 3.6\n",
        "[ 0.98586744 -0.029729  ]"
       ]
      },
      {
       "output_type": "stream",
       "stream": "stdout",
       "text": [
        "\n",
        "4.0 3.7\n",
        "[ 0.98567726 -0.02991687]"
       ]
      },
      {
       "output_type": "stream",
       "stream": "stdout",
       "text": [
        "\n",
        "4.0 3.8\n",
        "[ 0.9854914  -0.03012348]"
       ]
      },
      {
       "output_type": "stream",
       "stream": "stdout",
       "text": [
        "\n",
        "4.0 3.9\n",
        "[ 0.9853109  -0.03035057]"
       ]
      },
      {
       "output_type": "stream",
       "stream": "stdout",
       "text": [
        "\n",
        "4.0 4.0\n",
        "[ 0.98513691 -0.03060003]"
       ]
      },
      {
       "output_type": "stream",
       "stream": "stdout",
       "text": [
        "\n",
        "4.0 4.1\n",
        "[ 0.98497061 -0.03087383]"
       ]
      },
      {
       "output_type": "stream",
       "stream": "stdout",
       "text": [
        "\n",
        "4.0 4.2\n",
        "[ 0.98481331 -0.03117411]"
       ]
      },
      {
       "output_type": "stream",
       "stream": "stdout",
       "text": [
        "\n",
        "4.0 4.3\n",
        "[ 0.98466642 -0.03150314]"
       ]
      },
      {
       "output_type": "stream",
       "stream": "stdout",
       "text": [
        "\n",
        "4.0 4.4\n",
        "[ 0.98453146 -0.03186333]"
       ]
      },
      {
       "output_type": "stream",
       "stream": "stdout",
       "text": [
        "\n",
        "4.0 4.5\n",
        "[ 0.98441008 -0.03225727]"
       ]
      },
      {
       "output_type": "stream",
       "stream": "stdout",
       "text": [
        "\n",
        "4.0 4.6\n",
        "[ 0.98430408 -0.03268769]"
       ]
      },
      {
       "output_type": "stream",
       "stream": "stdout",
       "text": [
        "\n",
        "4.0 4.7\n",
        "[ 0.98421543 -0.03315753]"
       ]
      },
      {
       "output_type": "stream",
       "stream": "stdout",
       "text": [
        "\n",
        "4.0 4.8\n",
        "[ 0.9841463  -0.03366991]"
       ]
      },
      {
       "output_type": "stream",
       "stream": "stdout",
       "text": [
        "\n",
        "4.0 4.9\n",
        "[ 0.98409905 -0.03422814]"
       ]
      },
      {
       "output_type": "stream",
       "stream": "stdout",
       "text": [
        "\n",
        "4.0 5.0\n",
        "[ 0.9840763  -0.03483576]"
       ]
      },
      {
       "output_type": "stream",
       "stream": "stdout",
       "text": [
        "\n",
        "4.0 5.1\n",
        "[ 0.98408096 -0.03549653]"
       ]
      },
      {
       "output_type": "stream",
       "stream": "stdout",
       "text": [
        "\n",
        "4.0 5.2\n",
        "[ 0.98411621 -0.03621446]"
       ]
      },
      {
       "output_type": "stream",
       "stream": "stdout",
       "text": [
        "\n",
        "4.0 5.3\n",
        "[ 0.98418564 -0.03699379]"
       ]
      },
      {
       "output_type": "stream",
       "stream": "stdout",
       "text": [
        "\n",
        "4.0 5.4\n",
        "[ 0.9842932  -0.03783905]"
       ]
      },
      {
       "output_type": "stream",
       "stream": "stdout",
       "text": [
        "\n",
        "4.0 5.5\n",
        "[ 0.98444333 -0.03875501]"
       ]
      },
      {
       "output_type": "stream",
       "stream": "stdout",
       "text": [
        "\n",
        "4.0 5.6\n",
        "[ 0.98464097 -0.03974675]"
       ]
      },
      {
       "output_type": "stream",
       "stream": "stdout",
       "text": [
        "\n",
        "4.0 5.7\n",
        "[ 0.98489167 -0.04081961]"
       ]
      },
      {
       "output_type": "stream",
       "stream": "stdout",
       "text": [
        "\n",
        "4.0 5.8\n",
        "[ 0.98520168 -0.04197922]"
       ]
      },
      {
       "output_type": "stream",
       "stream": "stdout",
       "text": [
        "\n",
        "4.0 5.9\n",
        "[ 0.985578   -0.04323147]"
       ]
      },
      {
       "output_type": "stream",
       "stream": "stdout",
       "text": [
        "\n",
        "4.0 6.0\n",
        "[ 0.98602854 -0.04458253]"
       ]
      },
      {
       "output_type": "stream",
       "stream": "stdout",
       "text": [
        "\n",
        "4.0 6.1\n",
        "[ 0.98656222 -0.04603877]"
       ]
      },
      {
       "output_type": "stream",
       "stream": "stdout",
       "text": [
        "\n",
        "4.0 6.2\n",
        "[ 0.98718914 -0.04760671]"
       ]
      },
      {
       "output_type": "stream",
       "stream": "stdout",
       "text": [
        "\n",
        "4.0 6.3\n",
        "[ 0.98792074 -0.04929299]"
       ]
      },
      {
       "output_type": "stream",
       "stream": "stdout",
       "text": [
        "\n",
        "4.0 6.4\n",
        "[ 0.98876999 -0.0511042 ]"
       ]
      },
      {
       "output_type": "stream",
       "stream": "stdout",
       "text": [
        "\n",
        "4.0 6.5\n",
        "[ 0.98975161 -0.05304673]"
       ]
      },
      {
       "output_type": "stream",
       "stream": "stdout",
       "text": [
        "\n",
        "4.0 6.6\n",
        "[ 0.99088237 -0.05512656]"
       ]
      },
      {
       "output_type": "stream",
       "stream": "stdout",
       "text": [
        "\n",
        "4.0 6.7\n",
        "[ 0.99218132 -0.05734889]"
       ]
      },
      {
       "output_type": "stream",
       "stream": "stdout",
       "text": [
        "\n",
        "4.0 6.8\n",
        "[ 0.99367018 -0.05971772]"
       ]
      },
      {
       "output_type": "stream",
       "stream": "stdout",
       "text": [
        "\n",
        "4.0 6.9\n",
        "[ 0.99537368 -0.06223522]"
       ]
      },
      {
       "output_type": "stream",
       "stream": "stdout",
       "text": [
        "\n",
        "4.0 7.0\n",
        "[ 0.99731998 -0.06490086]"
       ]
      },
      {
       "output_type": "stream",
       "stream": "stdout",
       "text": [
        "\n",
        "4.0 7.1\n",
        "[ 0.99954111 -0.06771021]"
       ]
      },
      {
       "output_type": "stream",
       "stream": "stdout",
       "text": [
        "\n",
        "4.0 7.2\n",
        "[ 1.00207345 -0.07065333]"
       ]
      },
      {
       "output_type": "stream",
       "stream": "stdout",
       "text": [
        "\n",
        "4.0 7.3\n",
        "[ 1.00495819 -0.07371245]"
       ]
      },
      {
       "output_type": "stream",
       "stream": "stdout",
       "text": [
        "\n",
        "4.0 7.4\n",
        "[ 1.00824168 -0.07685887]"
       ]
      },
      {
       "output_type": "stream",
       "stream": "stdout",
       "text": [
        "\n",
        "4.0 7.5\n",
        "[ 1.01197568 -0.0800485 ]"
       ]
      },
      {
       "output_type": "stream",
       "stream": "stdout",
       "text": [
        "\n",
        "4.0 7.6\n",
        "[ 1.01621728 -0.08321575]"
       ]
      },
      {
       "output_type": "stream",
       "stream": "stdout",
       "text": [
        "\n",
        "4.0 7.7\n",
        "[ 1.02102819 -0.08626488]"
       ]
      },
      {
       "output_type": "stream",
       "stream": "stdout",
       "text": [
        "\n",
        "4.0 7.8\n",
        "[ 1.02647295 -0.08905778]"
       ]
      },
      {
       "output_type": "stream",
       "stream": "stdout",
       "text": [
        "\n",
        "4.0 7.9\n",
        "[ 1.03261527 -0.09139677]"
       ]
      },
      {
       "output_type": "stream",
       "stream": "stdout",
       "text": [
        "\n",
        "4.0 8.0\n",
        "[ 1.03951112 -0.09300005]"
       ]
      },
      {
       "output_type": "stream",
       "stream": "stdout",
       "text": [
        "\n",
        "4.0 8.1\n",
        "[ 1.0471962  -0.09346707]"
       ]
      },
      {
       "output_type": "stream",
       "stream": "stdout",
       "text": [
        "\n",
        "4.0 8.2\n",
        "[ 1.05566377 -0.09222954]"
       ]
      },
      {
       "output_type": "stream",
       "stream": "stdout",
       "text": [
        "\n",
        "4.0 8.3\n",
        "[ 1.06482588 -0.08848337]"
       ]
      },
      {
       "output_type": "stream",
       "stream": "stdout",
       "text": [
        "\n",
        "4.0 8.4\n",
        "[ 1.07444571 -0.08109675]"
       ]
      },
      {
       "output_type": "stream",
       "stream": "stdout",
       "text": [
        "\n",
        "4.0 8.5\n",
        "[ 1.08401981 -0.0684938 ]"
       ]
      },
      {
       "output_type": "stream",
       "stream": "stdout",
       "text": [
        "\n",
        "4.0 8.6\n",
        "[ 1.09257283 -0.04852848]"
       ]
      },
      {
       "output_type": "stream",
       "stream": "stdout",
       "text": [
        "\n",
        "4.0 8.7\n",
        "[ 1.09830151 -0.01840824]"
       ]
      },
      {
       "output_type": "stream",
       "stream": "stdout",
       "text": [
        "\n",
        "4.0 8.8\n",
        "[ 1.09796442  0.0251575 ]"
       ]
      },
      {
       "output_type": "stream",
       "stream": "stdout",
       "text": [
        "\n",
        "4.0 8.9\n",
        "[ 1.08587053  0.08514025]"
       ]
      },
      {
       "output_type": "stream",
       "stream": "stdout",
       "text": [
        "\n",
        "4.0 9.0\n",
        "[ 1.05233055  0.16174088]"
       ]
      },
      {
       "output_type": "stream",
       "stream": "stdout",
       "text": [
        "\n",
        "4.0 9.1\n",
        "[ 0.98172293  0.24671871]"
       ]
      },
      {
       "output_type": "stream",
       "stream": "stdout",
       "text": [
        "\n",
        "4.0 9.2\n",
        "[ 0.85147147  0.31380714]"
       ]
      },
      {
       "output_type": "stream",
       "stream": "stdout",
       "text": [
        "\n",
        "4.0 9.3\n",
        "[ 0.63600438  0.3122931 ]"
       ]
      },
      {
       "output_type": "stream",
       "stream": "stdout",
       "text": [
        "\n",
        "4.0 9.4\n",
        "[ 0.32240298  0.18933936]"
       ]
      },
      {
       "output_type": "stream",
       "stream": "stdout",
       "text": [
        "\n",
        "4.0 9.5\n",
        "[-0.06369659 -0.03935873]"
       ]
      },
      {
       "output_type": "stream",
       "stream": "stdout",
       "text": [
        "\n",
        "4.0 9.6\n",
        "[-0.4504102  -0.25106262]"
       ]
      },
      {
       "output_type": "stream",
       "stream": "stdout",
       "text": [
        "\n",
        "4.0 9.7\n",
        "[-0.75965949 -0.32569345]"
       ]
      },
      {
       "output_type": "stream",
       "stream": "stdout",
       "text": [
        "\n",
        "4.0 9.8\n",
        "[-0.95781721 -0.26573069]"
       ]
      },
      {
       "output_type": "stream",
       "stream": "stdout",
       "text": [
        "\n",
        "4.0 9.9\n",
        "[-1.05913314 -0.15061247]"
       ]
      },
      {
       "output_type": "stream",
       "stream": "stdout",
       "text": [
        "\n",
        "4.1 0.0\n",
        "[ 0.98430916 -0.026554  ]"
       ]
      },
      {
       "output_type": "stream",
       "stream": "stdout",
       "text": [
        "\n",
        "4.1 0.1\n",
        "[ 0.98434668 -0.02664325]"
       ]
      },
      {
       "output_type": "stream",
       "stream": "stdout",
       "text": [
        "\n",
        "4.1 0.2\n",
        "[ 0.98437736 -0.02673456]"
       ]
      },
      {
       "output_type": "stream",
       "stream": "stdout",
       "text": [
        "\n",
        "4.1 0.3\n",
        "[ 0.98440125 -0.02682802]"
       ]
      },
      {
       "output_type": "stream",
       "stream": "stdout",
       "text": [
        "\n",
        "4.1 0.4\n",
        "[ 0.98441842 -0.02692377]"
       ]
      },
      {
       "output_type": "stream",
       "stream": "stdout",
       "text": [
        "\n",
        "4.1 0.5\n",
        "[ 0.98442897 -0.02702197]"
       ]
      },
      {
       "output_type": "stream",
       "stream": "stdout",
       "text": [
        "\n",
        "4.1 0.6\n",
        "[ 0.98443304 -0.02712283]"
       ]
      },
      {
       "output_type": "stream",
       "stream": "stdout",
       "text": [
        "\n",
        "4.1 0.7\n",
        "[ 0.98443075 -0.02722658]"
       ]
      },
      {
       "output_type": "stream",
       "stream": "stdout",
       "text": [
        "\n",
        "4.1 0.8\n",
        "[ 0.9844223  -0.02733351]"
       ]
      },
      {
       "output_type": "stream",
       "stream": "stdout",
       "text": [
        "\n",
        "4.1 0.9\n",
        "[ 0.98440786 -0.02744391]"
       ]
      },
      {
       "output_type": "stream",
       "stream": "stdout",
       "text": [
        "\n",
        "4.1 1.0\n",
        "[ 0.98438766 -0.02755815]"
       ]
      },
      {
       "output_type": "stream",
       "stream": "stdout",
       "text": [
        "\n",
        "4.1 1.1\n",
        "[ 0.98436193 -0.02767661]"
       ]
      },
      {
       "output_type": "stream",
       "stream": "stdout",
       "text": [
        "\n",
        "4.1 1.2\n",
        "[ 0.98433096 -0.02779972]"
       ]
      },
      {
       "output_type": "stream",
       "stream": "stdout",
       "text": [
        "\n",
        "4.1 1.3\n",
        "[ 0.98429503 -0.02792795]"
       ]
      },
      {
       "output_type": "stream",
       "stream": "stdout",
       "text": [
        "\n",
        "4.1 1.4\n",
        "[ 0.98425447 -0.02806182]"
       ]
      },
      {
       "output_type": "stream",
       "stream": "stdout",
       "text": [
        "\n",
        "4.1 1.5\n",
        "[ 0.98420962 -0.02820188]"
       ]
      },
      {
       "output_type": "stream",
       "stream": "stdout",
       "text": [
        "\n",
        "4.1 1.6\n",
        "[ 0.98416086 -0.02834873]"
       ]
      },
      {
       "output_type": "stream",
       "stream": "stdout",
       "text": [
        "\n",
        "4.1 1.7\n",
        "[ 0.9841086  -0.02850304]"
       ]
      },
      {
       "output_type": "stream",
       "stream": "stdout",
       "text": [
        "\n",
        "4.1 1.8\n",
        "[ 0.98405327 -0.02866551]"
       ]
      },
      {
       "output_type": "stream",
       "stream": "stdout",
       "text": [
        "\n",
        "4.1 1.9\n",
        "[ 0.98399536 -0.02883689]"
       ]
      },
      {
       "output_type": "stream",
       "stream": "stdout",
       "text": [
        "\n",
        "4.1 2.0\n",
        "[ 0.98393536 -0.02901801]"
       ]
      },
      {
       "output_type": "stream",
       "stream": "stdout",
       "text": [
        "\n",
        "4.1 2.1\n",
        "[ 0.98387382 -0.02920974]"
       ]
      },
      {
       "output_type": "stream",
       "stream": "stdout",
       "text": [
        "\n",
        "4.1 2.2\n",
        "[ 0.98381133 -0.02941302]"
       ]
      },
      {
       "output_type": "stream",
       "stream": "stdout",
       "text": [
        "\n",
        "4.1 2.3\n",
        "[ 0.9837485  -0.02962886]"
       ]
      },
      {
       "output_type": "stream",
       "stream": "stdout",
       "text": [
        "\n",
        "4.1 2.4\n",
        "[ 0.98368602 -0.02985832]"
       ]
      },
      {
       "output_type": "stream",
       "stream": "stdout",
       "text": [
        "\n",
        "4.1 2.5\n",
        "[ 0.98362459 -0.03010256]"
       ]
      },
      {
       "output_type": "stream",
       "stream": "stdout",
       "text": [
        "\n",
        "4.1 2.6\n",
        "[ 0.983565   -0.03036281]"
       ]
      },
      {
       "output_type": "stream",
       "stream": "stdout",
       "text": [
        "\n",
        "4.1 2.7\n",
        "[ 0.98350806 -0.03064037]"
       ]
      },
      {
       "output_type": "stream",
       "stream": "stdout",
       "text": [
        "\n",
        "4.1 2.8\n",
        "[ 0.98345469 -0.03093665]"
       ]
      },
      {
       "output_type": "stream",
       "stream": "stdout",
       "text": [
        "\n",
        "4.1 2.9\n",
        "[ 0.98340583 -0.03125312]"
       ]
      },
      {
       "output_type": "stream",
       "stream": "stdout",
       "text": [
        "\n",
        "4.1 3.0\n",
        "[ 0.98336252 -0.03159138]"
       ]
      },
      {
       "output_type": "stream",
       "stream": "stdout",
       "text": [
        "\n",
        "4.1 3.1\n",
        "[ 0.98332588 -0.03195311]"
       ]
      },
      {
       "output_type": "stream",
       "stream": "stdout",
       "text": [
        "\n",
        "4.1 3.2\n",
        "[ 0.98329713 -0.03234012]"
       ]
      },
      {
       "output_type": "stream",
       "stream": "stdout",
       "text": [
        "\n",
        "4.1 3.3\n",
        "[ 0.98327756 -0.03275433]"
       ]
      },
      {
       "output_type": "stream",
       "stream": "stdout",
       "text": [
        "\n",
        "4.1 3.4\n",
        "[ 0.98326862 -0.03319776]"
       ]
      },
      {
       "output_type": "stream",
       "stream": "stdout",
       "text": [
        "\n",
        "4.1 3.5\n",
        "[ 0.98327184 -0.03367259]"
       ]
      },
      {
       "output_type": "stream",
       "stream": "stdout",
       "text": [
        "\n",
        "4.1 3.6\n",
        "[ 0.98328891 -0.03418113]"
       ]
      },
      {
       "output_type": "stream",
       "stream": "stdout",
       "text": [
        "\n",
        "4.1 3.7\n",
        "[ 0.98332166 -0.03472582]"
       ]
      },
      {
       "output_type": "stream",
       "stream": "stdout",
       "text": [
        "\n",
        "4.1 3.8\n",
        "[ 0.98337212 -0.03530928]"
       ]
      },
      {
       "output_type": "stream",
       "stream": "stdout",
       "text": [
        "\n",
        "4.1 3.9\n",
        "[ 0.98344247 -0.03593426]"
       ]
      },
      {
       "output_type": "stream",
       "stream": "stdout",
       "text": [
        "\n",
        "4.1 4.0\n",
        "[ 0.98353515 -0.03660371]"
       ]
      },
      {
       "output_type": "stream",
       "stream": "stdout",
       "text": [
        "\n",
        "4.1 4.1\n",
        "[ 0.9836528  -0.03732073]"
       ]
      },
      {
       "output_type": "stream",
       "stream": "stdout",
       "text": [
        "\n",
        "4.1 4.2\n",
        "[ 0.98379835 -0.03808862]"
       ]
      },
      {
       "output_type": "stream",
       "stream": "stdout",
       "text": [
        "\n",
        "4.1 4.3\n",
        "[ 0.98397505 -0.03891087]"
       ]
      },
      {
       "output_type": "stream",
       "stream": "stdout",
       "text": [
        "\n",
        "4.1 4.4\n",
        "[ 0.98418646 -0.03979117]"
       ]
      },
      {
       "output_type": "stream",
       "stream": "stdout",
       "text": [
        "\n",
        "4.1 4.5\n",
        "[ 0.98443654 -0.04073341]"
       ]
      },
      {
       "output_type": "stream",
       "stream": "stdout",
       "text": [
        "\n",
        "4.1 4.6\n",
        "[ 0.98472968 -0.04174168]"
       ]
      },
      {
       "output_type": "stream",
       "stream": "stdout",
       "text": [
        "\n",
        "4.1 4.7\n",
        "[ 0.98507078 -0.04282028]"
       ]
      },
      {
       "output_type": "stream",
       "stream": "stdout",
       "text": [
        "\n",
        "4.1 4.8\n",
        "[ 0.98546527 -0.0439737 ]"
       ]
      },
      {
       "output_type": "stream",
       "stream": "stdout",
       "text": [
        "\n",
        "4.1 4.9\n",
        "[ 0.98591922 -0.04520663]"
       ]
      },
      {
       "output_type": "stream",
       "stream": "stdout",
       "text": [
        "\n",
        "4.1 5.0\n",
        "[ 0.9864394  -0.04652389]"
       ]
      },
      {
       "output_type": "stream",
       "stream": "stdout",
       "text": [
        "\n",
        "4.1 5.1\n",
        "[ 0.98703339 -0.04793049]"
       ]
      },
      {
       "output_type": "stream",
       "stream": "stdout",
       "text": [
        "\n",
        "4.1 5.2\n",
        "[ 0.98770971 -0.04943146]"
       ]
      },
      {
       "output_type": "stream",
       "stream": "stdout",
       "text": [
        "\n",
        "4.1 5.3\n",
        "[ 0.98847786 -0.05103191]"
       ]
      },
      {
       "output_type": "stream",
       "stream": "stdout",
       "text": [
        "\n",
        "4.1 5.4\n",
        "[ 0.98934857 -0.05273685]"
       ]
      },
      {
       "output_type": "stream",
       "stream": "stdout",
       "text": [
        "\n",
        "4.1 5.5\n",
        "[ 0.99033388 -0.05455108]"
       ]
      },
      {
       "output_type": "stream",
       "stream": "stdout",
       "text": [
        "\n",
        "4.1 5.6\n",
        "[ 0.99144734 -0.05647905]"
       ]
      },
      {
       "output_type": "stream",
       "stream": "stdout",
       "text": [
        "\n",
        "4.1 5.7\n",
        "[ 0.99270424 -0.05852457]"
       ]
      },
      {
       "output_type": "stream",
       "stream": "stdout",
       "text": [
        "\n",
        "4.1 5.8\n",
        "[ 0.9941218  -0.06069056]"
       ]
      },
      {
       "output_type": "stream",
       "stream": "stdout",
       "text": [
        "\n",
        "4.1 5.9\n",
        "[ 0.99571946 -0.06297852]"
       ]
      },
      {
       "output_type": "stream",
       "stream": "stdout",
       "text": [
        "\n",
        "4.1 6.0\n",
        "[ 0.99751912 -0.06538804]"
       ]
      },
      {
       "output_type": "stream",
       "stream": "stdout",
       "text": [
        "\n",
        "4.1 6.1\n",
        "[ 0.99954547 -0.06791596]"
       ]
      },
      {
       "output_type": "stream",
       "stream": "stdout",
       "text": [
        "\n",
        "4.1 6.2\n",
        "[ 1.00182629 -0.07055535]"
       ]
      },
      {
       "output_type": "stream",
       "stream": "stdout",
       "text": [
        "\n",
        "4.1 6.3\n",
        "[ 1.00439278 -0.07329403]"
       ]
      },
      {
       "output_type": "stream",
       "stream": "stdout",
       "text": [
        "\n",
        "4.1 6.4\n",
        "[ 1.00727982 -0.07611268]"
       ]
      },
      {
       "output_type": "stream",
       "stream": "stdout",
       "text": [
        "\n",
        "4.1 6.5\n",
        "[ 1.01052619 -0.07898221]"
       ]
      },
      {
       "output_type": "stream",
       "stream": "stdout",
       "text": [
        "\n",
        "4.1 6.6\n",
        "[ 1.01417463 -0.08186016]"
       ]
      },
      {
       "output_type": "stream",
       "stream": "stdout",
       "text": [
        "\n",
        "4.1 6.7\n",
        "[ 1.01827163 -0.08468581]"
       ]
      },
      {
       "output_type": "stream",
       "stream": "stdout",
       "text": [
        "\n",
        "4.1 6.8\n",
        "[ 1.02286672 -0.08737346]"
       ]
      },
      {
       "output_type": "stream",
       "stream": "stdout",
       "text": [
        "\n",
        "4.1 6.9\n",
        "[ 1.02801091 -0.08980315]"
       ]
      },
      {
       "output_type": "stream",
       "stream": "stdout",
       "text": [
        "\n",
        "4.1 7.0\n",
        "[ 1.03375384 -0.09180786]"
       ]
      },
      {
       "output_type": "stream",
       "stream": "stdout",
       "text": [
        "\n",
        "4.1 7.1\n",
        "[ 1.04013852 -0.09315579]"
       ]
      },
      {
       "output_type": "stream",
       "stream": "stdout",
       "text": [
        "\n",
        "4.1 7.2\n",
        "[ 1.04719238 -0.09352581]"
       ]
      },
      {
       "output_type": "stream",
       "stream": "stdout",
       "text": [
        "\n",
        "4.1 7.3\n",
        "[ 1.05491196 -0.09247373]"
       ]
      },
      {
       "output_type": "stream",
       "stream": "stdout",
       "text": [
        "\n",
        "4.1 7.4\n",
        "[ 1.06323726 -0.08938632]"
       ]
      },
      {
       "output_type": "stream",
       "stream": "stdout",
       "text": [
        "\n",
        "4.1 7.5\n",
        "[ 1.07200857 -0.08342019]"
       ]
      },
      {
       "output_type": "stream",
       "stream": "stdout",
       "text": [
        "\n",
        "4.1 7.6\n",
        "[ 1.08089429 -0.0734244 ]"
       ]
      },
      {
       "output_type": "stream",
       "stream": "stdout",
       "text": [
        "\n",
        "4.1 7.7\n",
        "[ 1.08926971 -0.05785204]"
       ]
      },
      {
       "output_type": "stream",
       "stream": "stdout",
       "text": [
        "\n",
        "4.1 7.8\n",
        "[ 1.09601418 -0.03468509]"
       ]
      },
      {
       "output_type": "stream",
       "stream": "stdout",
       "text": [
        "\n",
        "4.1 7.9\n",
        "[ 1.09917364 -0.00144321]"
       ]
      },
      {
       "output_type": "stream",
       "stream": "stdout",
       "text": [
        "\n",
        "4.1 8.0\n",
        "[ 1.09540914  0.04454484]"
       ]
      },
      {
       "output_type": "stream",
       "stream": "stdout",
       "text": [
        "\n",
        "4.1 8.1\n",
        "[ 1.0791331   0.10520685]"
       ]
      },
      {
       "output_type": "stream",
       "stream": "stdout",
       "text": [
        "\n",
        "4.1 8.2\n",
        "[ 1.04127968  0.17936289]"
       ]
      },
      {
       "output_type": "stream",
       "stream": "stdout",
       "text": [
        "\n",
        "4.1 8.3\n",
        "[ 0.96793794  0.25789169]"
       ]
      },
      {
       "output_type": "stream",
       "stream": "stdout",
       "text": [
        "\n",
        "4.1 8.4\n",
        "[ 0.83997528  0.31653287]"
       ]
      },
      {
       "output_type": "stream",
       "stream": "stdout",
       "text": [
        "\n",
        "4.1 8.5\n",
        "[ 0.6366408   0.31242966]"
       ]
      },
      {
       "output_type": "stream",
       "stream": "stdout",
       "text": [
        "\n",
        "4.1 8.6\n",
        "[ 0.34750152  0.20232802]"
       ]
      },
      {
       "output_type": "stream",
       "stream": "stdout",
       "text": [
        "\n",
        "4.1 8.7\n",
        "[-0.00858997 -0.0053741 ]"
       ]
      },
      {
       "output_type": "stream",
       "stream": "stdout",
       "text": [
        "\n",
        "4.1 8.8\n",
        "[-0.37590277 -0.21667401]"
       ]
      },
      {
       "output_type": "stream",
       "stream": "stdout",
       "text": [
        "\n",
        "4.1 8.9\n",
        "[-0.68726881 -0.32129048]"
       ]
      },
      {
       "output_type": "stream",
       "stream": "stdout",
       "text": [
        "\n",
        "4.1 9.0\n",
        "[-0.90417742 -0.29597167]"
       ]
      },
      {
       "output_type": "stream",
       "stream": "stdout",
       "text": [
        "\n",
        "4.1 9.1\n",
        "[-1.02870618 -0.19759238]"
       ]
      },
      {
       "output_type": "stream",
       "stream": "stdout",
       "text": [
        "\n",
        "4.1 9.2\n",
        "[-1.08521367 -0.08923417]"
       ]
      },
      {
       "output_type": "stream",
       "stream": "stdout",
       "text": [
        "\n",
        "4.1 9.3\n",
        "[-1.10006696 -0.00346852]"
       ]
      },
      {
       "output_type": "stream",
       "stream": "stdout",
       "text": [
        "\n",
        "4.1 9.4\n",
        "[-1.09285556  0.05260879]"
       ]
      },
      {
       "output_type": "stream",
       "stream": "stdout",
       "text": [
        "\n",
        "4.1 9.5\n",
        "[-1.07576667  0.08338547]"
       ]
      },
      {
       "output_type": "stream",
       "stream": "stdout",
       "text": [
        "\n",
        "4.1 9.6\n",
        "[-1.05561808  0.09595217]"
       ]
      },
      {
       "output_type": "stream",
       "stream": "stdout",
       "text": [
        "\n",
        "4.1 9.7\n",
        "[-1.03591321  0.09660441]"
       ]
      },
      {
       "output_type": "stream",
       "stream": "stdout",
       "text": [
        "\n",
        "4.1 9.8\n",
        "[-1.01827268  0.09001738]"
       ]
      },
      {
       "output_type": "stream",
       "stream": "stdout",
       "text": [
        "\n",
        "4.1 9.9\n",
        "[-1.00330287  0.07938977]"
       ]
      },
      {
       "output_type": "stream",
       "stream": "stdout",
       "text": [
        "\n",
        "4.2 0.0\n",
        "[ 0.98157034 -0.03134557]"
       ]
      },
      {
       "output_type": "stream",
       "stream": "stdout",
       "text": [
        "\n",
        "4.2 0.1\n",
        "[ 0.98161493 -0.03144824]"
       ]
      },
      {
       "output_type": "stream",
       "stream": "stdout",
       "text": [
        "\n",
        "4.2 0.2\n",
        "[ 0.98165906 -0.03156402]"
       ]
      },
      {
       "output_type": "stream",
       "stream": "stdout",
       "text": [
        "\n",
        "4.2 0.3\n",
        "[ 0.98170283 -0.03169299]"
       ]
      },
      {
       "output_type": "stream",
       "stream": "stdout",
       "text": [
        "\n",
        "4.2 0.4\n",
        "[ 0.98174638 -0.03183532]"
       ]
      },
      {
       "output_type": "stream",
       "stream": "stdout",
       "text": [
        "\n",
        "4.2 0.5\n",
        "[ 0.98178991 -0.03199124]"
       ]
      },
      {
       "output_type": "stream",
       "stream": "stdout",
       "text": [
        "\n",
        "4.2 0.6\n",
        "[ 0.98183363 -0.03216104]"
       ]
      },
      {
       "output_type": "stream",
       "stream": "stdout",
       "text": [
        "\n",
        "4.2 0.7\n",
        "[ 0.9818778  -0.03234506]"
       ]
      },
      {
       "output_type": "stream",
       "stream": "stdout",
       "text": [
        "\n",
        "4.2 0.8\n",
        "[ 0.98192274 -0.03254373]"
       ]
      },
      {
       "output_type": "stream",
       "stream": "stdout",
       "text": [
        "\n",
        "4.2 0.9\n",
        "[ 0.98196879 -0.03275753]"
       ]
      },
      {
       "output_type": "stream",
       "stream": "stdout",
       "text": [
        "\n",
        "4.2 1.0\n",
        "[ 0.98201636 -0.03298702]"
       ]
      },
      {
       "output_type": "stream",
       "stream": "stdout",
       "text": [
        "\n",
        "4.2 1.1\n",
        "[ 0.98206588 -0.0332328 ]"
       ]
      },
      {
       "output_type": "stream",
       "stream": "stdout",
       "text": [
        "\n",
        "4.2 1.2\n",
        "[ 0.98211786 -0.03349557]"
       ]
      },
      {
       "output_type": "stream",
       "stream": "stdout",
       "text": [
        "\n",
        "4.2 1.3\n",
        "[ 0.98217284 -0.0337761 ]"
       ]
      },
      {
       "output_type": "stream",
       "stream": "stdout",
       "text": [
        "\n",
        "4.2 1.4\n",
        "[ 0.98223144 -0.0340752 ]"
       ]
      },
      {
       "output_type": "stream",
       "stream": "stdout",
       "text": [
        "\n",
        "4.2 1.5\n",
        "[ 0.98229432 -0.0343938 ]"
       ]
      },
      {
       "output_type": "stream",
       "stream": "stdout",
       "text": [
        "\n",
        "4.2 1.6\n",
        "[ 0.98236221 -0.03473288]"
       ]
      },
      {
       "output_type": "stream",
       "stream": "stdout",
       "text": [
        "\n",
        "4.2 1.7\n",
        "[ 0.98243592 -0.03509352]"
       ]
      },
      {
       "output_type": "stream",
       "stream": "stdout",
       "text": [
        "\n",
        "4.2 1.8\n",
        "[ 0.98251632 -0.03547686]"
       ]
      },
      {
       "output_type": "stream",
       "stream": "stdout",
       "text": [
        "\n",
        "4.2 1.9\n",
        "[ 0.98260438 -0.03588416]"
       ]
      },
      {
       "output_type": "stream",
       "stream": "stdout",
       "text": [
        "\n",
        "4.2 2.0\n",
        "[ 0.98270114 -0.03631674]"
       ]
      },
      {
       "output_type": "stream",
       "stream": "stdout",
       "text": [
        "\n",
        "4.2 2.1\n",
        "[ 0.98280775 -0.03677605]"
       ]
      },
      {
       "output_type": "stream",
       "stream": "stdout",
       "text": [
        "\n",
        "4.2 2.2\n",
        "[ 0.98292546 -0.0372636 ]"
       ]
      },
      {
       "output_type": "stream",
       "stream": "stdout",
       "text": [
        "\n",
        "4.2 2.3\n",
        "[ 0.98305563 -0.03778104]"
       ]
      },
      {
       "output_type": "stream",
       "stream": "stdout",
       "text": [
        "\n",
        "4.2 2.4\n",
        "[ 0.98319975 -0.03833009]"
       ]
      },
      {
       "output_type": "stream",
       "stream": "stdout",
       "text": [
        "\n",
        "4.2 2.5\n",
        "[ 0.98335944 -0.03891262]"
       ]
      },
      {
       "output_type": "stream",
       "stream": "stdout",
       "text": [
        "\n",
        "4.2 2.6\n",
        "[ 0.98353649 -0.03953059]"
       ]
      },
      {
       "output_type": "stream",
       "stream": "stdout",
       "text": [
        "\n",
        "4.2 2.7\n",
        "[ 0.98373283 -0.04018609]"
       ]
      },
      {
       "output_type": "stream",
       "stream": "stdout",
       "text": [
        "\n",
        "4.2 2.8\n",
        "[ 0.9839506  -0.04088132]"
       ]
      },
      {
       "output_type": "stream",
       "stream": "stdout",
       "text": [
        "\n",
        "4.2 2.9\n",
        "[ 0.98419213 -0.04161863]"
       ]
      },
      {
       "output_type": "stream",
       "stream": "stdout",
       "text": [
        "\n",
        "4.2 3.0\n",
        "[ 0.98445997 -0.04240049]"
       ]
      },
      {
       "output_type": "stream",
       "stream": "stdout",
       "text": [
        "\n",
        "4.2 3.1\n",
        "[ 0.98475693 -0.04322949]"
       ]
      },
      {
       "output_type": "stream",
       "stream": "stdout",
       "text": [
        "\n",
        "4.2 3.2\n",
        "[ 0.98508609 -0.04410836]"
       ]
      },
      {
       "output_type": "stream",
       "stream": "stdout",
       "text": [
        "\n",
        "4.2 3.3\n",
        "[ 0.98545085 -0.04503997]"
       ]
      },
      {
       "output_type": "stream",
       "stream": "stdout",
       "text": [
        "\n",
        "4.2 3.4\n",
        "[ 0.98585494 -0.04602731]"
       ]
      },
      {
       "output_type": "stream",
       "stream": "stdout",
       "text": [
        "\n",
        "4.2 3.5\n",
        "[ 0.98630249 -0.04707349]"
       ]
      },
      {
       "output_type": "stream",
       "stream": "stdout",
       "text": [
        "\n",
        "4.2 3.6\n",
        "[ 0.98679805 -0.04818175]"
       ]
      },
      {
       "output_type": "stream",
       "stream": "stdout",
       "text": [
        "\n",
        "4.2 3.7\n",
        "[ 0.98734664 -0.04935539]"
       ]
      },
      {
       "output_type": "stream",
       "stream": "stdout",
       "text": [
        "\n",
        "4.2 3.8\n",
        "[ 0.98795382 -0.05059784]"
       ]
      },
      {
       "output_type": "stream",
       "stream": "stdout",
       "text": [
        "\n",
        "4.2 3.9\n",
        "[ 0.98862576 -0.05191252]"
       ]
      },
      {
       "output_type": "stream",
       "stream": "stdout",
       "text": [
        "\n",
        "4.2 4.0\n",
        "[ 0.98936929 -0.0533029 ]"
       ]
      },
      {
       "output_type": "stream",
       "stream": "stdout",
       "text": [
        "\n",
        "4.2 4.1\n",
        "[ 0.99019199 -0.05477237]"
       ]
      },
      {
       "output_type": "stream",
       "stream": "stdout",
       "text": [
        "\n",
        "4.2 4.2\n",
        "[ 0.99110231 -0.05632422]"
       ]
      },
      {
       "output_type": "stream",
       "stream": "stdout",
       "text": [
        "\n",
        "4.2 4.3\n",
        "[ 0.9921096 -0.0579615]"
       ]
      },
      {
       "output_type": "stream",
       "stream": "stdout",
       "text": [
        "\n",
        "4.2 4.4\n",
        "[ 0.9932243  -0.05968693]"
       ]
      },
      {
       "output_type": "stream",
       "stream": "stdout",
       "text": [
        "\n",
        "4.2 4.5\n",
        "[ 0.99445803 -0.0615027 ]"
       ]
      },
      {
       "output_type": "stream",
       "stream": "stdout",
       "text": [
        "\n",
        "4.2 4.6\n",
        "[ 0.99582373 -0.06341028]"
       ]
      },
      {
       "output_type": "stream",
       "stream": "stdout",
       "text": [
        "\n",
        "4.2 4.7\n",
        "[ 0.99733583 -0.06541011]"
       ]
      },
      {
       "output_type": "stream",
       "stream": "stdout",
       "text": [
        "\n",
        "4.2 4.8\n",
        "[ 0.9990104  -0.06750123]"
       ]
      },
      {
       "output_type": "stream",
       "stream": "stdout",
       "text": [
        "\n",
        "4.2 4.9\n",
        "[ 1.00086533 -0.06968082]"
       ]
      },
      {
       "output_type": "stream",
       "stream": "stdout",
       "text": [
        "\n",
        "4.2 5.0\n",
        "[ 1.00292052 -0.07194352]"
       ]
      },
      {
       "output_type": "stream",
       "stream": "stdout",
       "text": [
        "\n",
        "4.2 5.1\n",
        "[ 1.00519806 -0.07428061]"
       ]
      },
      {
       "output_type": "stream",
       "stream": "stdout",
       "text": [
        "\n",
        "4.2 5.2\n",
        "[ 1.00772242 -0.07667891]"
       ]
      },
      {
       "output_type": "stream",
       "stream": "stdout",
       "text": [
        "\n",
        "4.2 5.3\n",
        "[ 1.01052055 -0.07911932]"
       ]
      },
      {
       "output_type": "stream",
       "stream": "stdout",
       "text": [
        "\n",
        "4.2 5.4\n",
        "[ 1.01362197 -0.08157492]"
       ]
      },
      {
       "output_type": "stream",
       "stream": "stdout",
       "text": [
        "\n",
        "4.2 5.5\n",
        "[ 1.01705874 -0.08400839]"
       ]
      },
      {
       "output_type": "stream",
       "stream": "stdout",
       "text": [
        "\n",
        "4.2 5.6\n",
        "[ 1.02086518 -0.08636869]"
       ]
      },
      {
       "output_type": "stream",
       "stream": "stdout",
       "text": [
        "\n",
        "4.2 5.7\n",
        "[ 1.02507733 -0.08858649]"
       ]
      },
      {
       "output_type": "stream",
       "stream": "stdout",
       "text": [
        "\n",
        "4.2 5.8\n",
        "[ 1.02973183 -0.09056818]"
       ]
      },
      {
       "output_type": "stream",
       "stream": "stdout",
       "text": [
        "\n",
        "4.2 5.9\n",
        "[ 1.03486403 -0.09218777]"
       ]
      },
      {
       "output_type": "stream",
       "stream": "stdout",
       "text": [
        "\n",
        "4.2 6.0\n",
        "[ 1.04050473 -0.09327606]"
       ]
      },
      {
       "output_type": "stream",
       "stream": "stdout",
       "text": [
        "\n",
        "4.2 6.1\n",
        "[ 1.04667491 -0.09360602]"
       ]
      },
      {
       "output_type": "stream",
       "stream": "stdout",
       "text": [
        "\n",
        "4.2 6.2\n",
        "[ 1.05337715 -0.09287338]"
       ]
      },
      {
       "output_type": "stream",
       "stream": "stdout",
       "text": [
        "\n",
        "4.2 6.3\n",
        "[ 1.06058192 -0.09067074]"
       ]
      },
      {
       "output_type": "stream",
       "stream": "stdout",
       "text": [
        "\n",
        "4.2 6.4\n",
        "[ 1.0682056  -0.08645379]"
       ]
      },
      {
       "output_type": "stream",
       "stream": "stdout",
       "text": [
        "\n",
        "4.2 6.5\n",
        "[ 1.07607545 -0.0794985 ]"
       ]
      },
      {
       "output_type": "stream",
       "stream": "stdout",
       "text": [
        "\n",
        "4.2 6.6\n",
        "[ 1.08387352 -0.06884985]"
       ]
      },
      {
       "output_type": "stream",
       "stream": "stdout",
       "text": [
        "\n",
        "4.2 6.7\n",
        "[ 1.09104701 -0.05326778]"
       ]
      },
      {
       "output_type": "stream",
       "stream": "stdout",
       "text": [
        "\n",
        "4.2 6.8\n",
        "[ 1.09666513 -0.03118813]"
       ]
      },
      {
       "output_type": "stream",
       "stream": "stdout",
       "text": [
        "\n",
        "4.2 6.9\n",
        "[  1.09919193e+00  -7.44030457e-04]"
       ]
      },
      {
       "output_type": "stream",
       "stream": "stdout",
       "text": [
        "\n",
        "4.2 7.0\n",
        "[ 1.09613158  0.04004909]"
       ]
      },
      {
       "output_type": "stream",
       "stream": "stdout",
       "text": [
        "\n",
        "4.2 7.1\n",
        "[ 1.08349332  0.09273031]"
       ]
      },
      {
       "output_type": "stream",
       "stream": "stdout",
       "text": [
        "\n",
        "4.2 7.2\n",
        "[ 1.0550418   0.15705972]"
       ]
      },
      {
       "output_type": "stream",
       "stream": "stdout",
       "text": [
        "\n",
        "4.2 7.3\n",
        "[ 1.00141023  0.22835615]"
       ]
      },
      {
       "output_type": "stream",
       "stream": "stdout",
       "text": [
        "\n",
        "4.2 7.4\n",
        "[ 0.90950615  0.2932283 ]"
       ]
      },
      {
       "output_type": "stream",
       "stream": "stdout",
       "text": [
        "\n",
        "4.2 7.5\n",
        "[ 0.76342658  0.32540331]"
       ]
      },
      {
       "output_type": "stream",
       "stream": "stdout",
       "text": [
        "\n",
        "4.2 7.6\n",
        "[ 0.54915193  0.28861072]"
       ]
      },
      {
       "output_type": "stream",
       "stream": "stdout",
       "text": [
        "\n",
        "4.2 7.7\n",
        "[ 0.2648292   0.15818493]"
       ]
      },
      {
       "output_type": "stream",
       "stream": "stdout",
       "text": [
        "\n",
        "4.2 7.8\n",
        "[-0.06725926 -0.04154494]"
       ]
      },
      {
       "output_type": "stream",
       "stream": "stdout",
       "text": [
        "\n",
        "4.2 7.9\n",
        "[-0.40030016 -0.22841601]"
       ]
      },
      {
       "output_type": "stream",
       "stream": "stdout",
       "text": [
        "\n",
        "4.2 8.0\n",
        "[-0.68335329 -0.32076951]"
       ]
      },
      {
       "output_type": "stream",
       "stream": "stdout",
       "text": [
        "\n",
        "4.2 8.1\n",
        "[-0.88729882 -0.30286276]"
       ]
      },
      {
       "output_type": "stream",
       "stream": "stdout",
       "text": [
        "\n",
        "4.2 8.2\n",
        "[-1.01216069 -0.21748214]"
       ]
      },
      {
       "output_type": "stream",
       "stream": "stdout",
       "text": [
        "\n",
        "4.2 8.3\n",
        "[-1.0755032  -0.11597519]"
       ]
      },
      {
       "output_type": "stream",
       "stream": "stdout",
       "text": [
        "\n",
        "4.2 8.4\n",
        "[-1.09831248 -0.02918774]"
       ]
      },
      {
       "output_type": "stream",
       "stream": "stdout",
       "text": [
        "\n",
        "4.2 8.5\n",
        "[-1.09759908  0.03272416]"
       ]
      },
      {
       "output_type": "stream",
       "stream": "stdout",
       "text": [
        "\n",
        "4.2 8.6\n",
        "[-1.0848725  0.0709517]"
       ]
      },
      {
       "output_type": "stream",
       "stream": "stdout",
       "text": [
        "\n",
        "4.2 8.7\n",
        "[-1.06713853  0.09064594]"
       ]
      },
      {
       "output_type": "stream",
       "stream": "stdout",
       "text": [
        "\n",
        "4.2 8.8\n",
        "[-1.04834954  0.09725737]"
       ]
      },
      {
       "output_type": "stream",
       "stream": "stdout",
       "text": [
        "\n",
        "4.2 8.9\n",
        "[-1.0305743   0.09525616]"
       ]
      },
      {
       "output_type": "stream",
       "stream": "stdout",
       "text": [
        "\n",
        "4.2 9.0\n",
        "[-1.01478298  0.08793449]"
       ]
      },
      {
       "output_type": "stream",
       "stream": "stdout",
       "text": [
        "\n",
        "4.2 9.1\n",
        "[-1.00133102  0.07758333]"
       ]
      },
      {
       "output_type": "stream",
       "stream": "stdout",
       "text": [
        "\n",
        "4.2 9.2\n",
        "[-0.99024434  0.06574233]"
       ]
      },
      {
       "output_type": "stream",
       "stream": "stdout",
       "text": [
        "\n",
        "4.2 9.3\n",
        "[-0.98138263  0.05341972]"
       ]
      },
      {
       "output_type": "stream",
       "stream": "stdout",
       "text": [
        "\n",
        "4.2 9.4\n",
        "[-0.97453099  0.04125935]"
       ]
      },
      {
       "output_type": "stream",
       "stream": "stdout",
       "text": [
        "\n",
        "4.2 9.5\n",
        "[-0.96944999  0.02965966]"
       ]
      },
      {
       "output_type": "stream",
       "stream": "stdout",
       "text": [
        "\n",
        "4.2 9.6\n",
        "[-0.96590206  0.01885561]"
       ]
      },
      {
       "output_type": "stream",
       "stream": "stdout",
       "text": [
        "\n",
        "4.2 9.7\n",
        "[-0.96366459  0.00897416]"
       ]
      },
      {
       "output_type": "stream",
       "stream": "stdout",
       "text": [
        "\n",
        "4.2 9.8\n",
        "[ -9.62535599e-01   7.15115033e-05]"
       ]
      },
      {
       "output_type": "stream",
       "stream": "stdout",
       "text": [
        "\n",
        "4.2 9.9\n",
        "[-0.96233532 -0.00784197]"
       ]
      },
      {
       "output_type": "stream",
       "stream": "stdout",
       "text": [
        "\n",
        "4.3 0.0\n",
        "[ 0.98590365 -0.04774079]"
       ]
      },
      {
       "output_type": "stream",
       "stream": "stdout",
       "text": [
        "\n",
        "4.3 0.1\n",
        "[ 0.98597484 -0.04785774]"
       ]
      },
      {
       "output_type": "stream",
       "stream": "stdout",
       "text": [
        "\n",
        "4.3 0.2\n",
        "[ 0.98606158 -0.04800823]"
       ]
      },
      {
       "output_type": "stream",
       "stream": "stdout",
       "text": [
        "\n",
        "4.3 0.3\n",
        "[ 0.98616411 -0.04819232]"
       ]
      },
      {
       "output_type": "stream",
       "stream": "stdout",
       "text": [
        "\n",
        "4.3 0.4\n",
        "[ 0.98628277 -0.04841019]"
       ]
      },
      {
       "output_type": "stream",
       "stream": "stdout",
       "text": [
        "\n",
        "4.3 0.5\n",
        "[ 0.98641804 -0.04866208]"
       ]
      },
      {
       "output_type": "stream",
       "stream": "stdout",
       "text": [
        "\n",
        "4.3 0.6\n",
        "[ 0.9865705  -0.04894838]"
       ]
      },
      {
       "output_type": "stream",
       "stream": "stdout",
       "text": [
        "\n",
        "4.3 0.7\n",
        "[ 0.98674085 -0.04926956]"
       ]
      },
      {
       "output_type": "stream",
       "stream": "stdout",
       "text": [
        "\n",
        "4.3 0.8\n",
        "[ 0.98692991 -0.04962617]"
       ]
      },
      {
       "output_type": "stream",
       "stream": "stdout",
       "text": [
        "\n",
        "4.3 0.9\n",
        "[ 0.98713864 -0.05001888]"
       ]
      },
      {
       "output_type": "stream",
       "stream": "stdout",
       "text": [
        "\n",
        "4.3 1.0\n",
        "[ 0.98736811 -0.05044845]"
       ]
      },
      {
       "output_type": "stream",
       "stream": "stdout",
       "text": [
        "\n",
        "4.3 1.1\n",
        "[ 0.98761956 -0.05091573]"
       ]
      },
      {
       "output_type": "stream",
       "stream": "stdout",
       "text": [
        "\n",
        "4.3 1.2\n",
        "[ 0.98789437 -0.05142168]"
       ]
      },
      {
       "output_type": "stream",
       "stream": "stdout",
       "text": [
        "\n",
        "4.3 1.3\n",
        "[ 0.98819409 -0.05196735]"
       ]
      },
      {
       "output_type": "stream",
       "stream": "stdout",
       "text": [
        "\n",
        "4.3 1.4\n",
        "[ 0.98852044 -0.05255385]"
       ]
      },
      {
       "output_type": "stream",
       "stream": "stdout",
       "text": [
        "\n",
        "4.3 1.5\n",
        "[ 0.98887531 -0.05318242]"
       ]
      },
      {
       "output_type": "stream",
       "stream": "stdout",
       "text": [
        "\n",
        "4.3 1.6\n",
        "[ 0.98926083 -0.05385435]"
       ]
      },
      {
       "output_type": "stream",
       "stream": "stdout",
       "text": [
        "\n",
        "4.3 1.7\n",
        "[ 0.98967933 -0.05457105]"
       ]
      },
      {
       "output_type": "stream",
       "stream": "stdout",
       "text": [
        "\n",
        "4.3 1.8\n",
        "[ 0.99013336 -0.05533395]"
       ]
      },
      {
       "output_type": "stream",
       "stream": "stdout",
       "text": [
        "\n",
        "4.3 1.9\n",
        "[ 0.99062577 -0.05614458]"
       ]
      },
      {
       "output_type": "stream",
       "stream": "stdout",
       "text": [
        "\n",
        "4.3 2.0\n",
        "[ 0.99115966 -0.05700452]"
       ]
      },
      {
       "output_type": "stream",
       "stream": "stdout",
       "text": [
        "\n",
        "4.3 2.1\n",
        "[ 0.99173846 -0.05791537]"
       ]
      },
      {
       "output_type": "stream",
       "stream": "stdout",
       "text": [
        "\n",
        "4.3 2.2\n",
        "[ 0.99236593 -0.05887878]"
       ]
      },
      {
       "output_type": "stream",
       "stream": "stdout",
       "text": [
        "\n",
        "4.3 2.3\n",
        "[ 0.99304621 -0.05989637]"
       ]
      },
      {
       "output_type": "stream",
       "stream": "stdout",
       "text": [
        "\n",
        "4.3 2.4\n",
        "[ 0.99378384 -0.06096974]"
       ]
      },
      {
       "output_type": "stream",
       "stream": "stdout",
       "text": [
        "\n",
        "4.3 2.5\n",
        "[ 0.99458383 -0.06210043]"
       ]
      },
      {
       "output_type": "stream",
       "stream": "stdout",
       "text": [
        "\n",
        "4.3 2.6\n",
        "[ 0.99545166 -0.06328985]"
       ]
      },
      {
       "output_type": "stream",
       "stream": "stdout",
       "text": [
        "\n",
        "4.3 2.7\n",
        "[ 0.99639337 -0.06453927]"
       ]
      },
      {
       "output_type": "stream",
       "stream": "stdout",
       "text": [
        "\n",
        "4.3 2.8\n",
        "[ 0.99741559 -0.06584967]"
       ]
      },
      {
       "output_type": "stream",
       "stream": "stdout",
       "text": [
        "\n",
        "4.3 2.9\n",
        "[ 0.99852562 -0.06722175]"
       ]
      },
      {
       "output_type": "stream",
       "stream": "stdout",
       "text": [
        "\n",
        "4.3 3.0\n",
        "[ 0.99973148 -0.06865571]"
       ]
      },
      {
       "output_type": "stream",
       "stream": "stdout",
       "text": [
        "\n",
        "4.3 3.1\n",
        "[ 1.00104198 -0.0701512 ]"
       ]
      },
      {
       "output_type": "stream",
       "stream": "stdout",
       "text": [
        "\n",
        "4.3 3.2\n",
        "[ 1.0024668  -0.07170709]"
       ]
      },
      {
       "output_type": "stream",
       "stream": "stdout",
       "text": [
        "\n",
        "4.3 3.3\n",
        "[ 1.00401658 -0.07332123]"
       ]
      },
      {
       "output_type": "stream",
       "stream": "stdout",
       "text": [
        "\n",
        "4.3 3.4\n",
        "[ 1.00570298 -0.07499023]"
       ]
      },
      {
       "output_type": "stream",
       "stream": "stdout",
       "text": [
        "\n",
        "4.3 3.5\n",
        "[ 1.00753877 -0.07670902]"
       ]
      },
      {
       "output_type": "stream",
       "stream": "stdout",
       "text": [
        "\n",
        "4.3 3.6\n",
        "[ 1.00953793 -0.07847047]"
       ]
      },
      {
       "output_type": "stream",
       "stream": "stdout",
       "text": [
        "\n",
        "4.3 3.7\n",
        "[ 1.01171571 -0.08026478]"
       ]
      },
      {
       "output_type": "stream",
       "stream": "stdout",
       "text": [
        "\n",
        "4.3 3.8\n",
        "[ 1.01408867 -0.08207877]"
       ]
      },
      {
       "output_type": "stream",
       "stream": "stdout",
       "text": [
        "\n",
        "4.3 3.9\n",
        "[ 1.01667472 -0.08389493]"
       ]
      },
      {
       "output_type": "stream",
       "stream": "stdout",
       "text": [
        "\n",
        "4.3 4.0\n",
        "[ 1.0194931  -0.08569029]"
       ]
      },
      {
       "output_type": "stream",
       "stream": "stdout",
       "text": [
        "\n",
        "4.3 4.1\n",
        "[ 1.02256428 -0.08743488]"
       ]
      },
      {
       "output_type": "stream",
       "stream": "stdout",
       "text": [
        "\n",
        "4.3 4.2\n",
        "[ 1.02590974 -0.08908982]"
       ]
      },
      {
       "output_type": "stream",
       "stream": "stdout",
       "text": [
        "\n",
        "4.3 4.3\n",
        "[ 1.0295516  -0.09060486]"
       ]
      },
      {
       "output_type": "stream",
       "stream": "stdout",
       "text": [
        "\n",
        "4.3 4.4\n",
        "[ 1.03351194 -0.09191518]"
       ]
      },
      {
       "output_type": "stream",
       "stream": "stdout",
       "text": [
        "\n",
        "4.3 4.5\n",
        "[ 1.03781178 -0.09293729]"
       ]
      },
      {
       "output_type": "stream",
       "stream": "stdout",
       "text": [
        "\n",
        "4.3 4.6\n",
        "[ 1.04246949 -0.09356377]"
       ]
      },
      {
       "output_type": "stream",
       "stream": "stdout",
       "text": [
        "\n",
        "4.3 4.7\n",
        "[ 1.04749826 -0.09365638]"
       ]
      },
      {
       "output_type": "stream",
       "stream": "stdout",
       "text": [
        "\n",
        "4.3 4.8\n",
        "[ 1.05290239 -0.09303731]"
       ]
      },
      {
       "output_type": "stream",
       "stream": "stdout",
       "text": [
        "\n",
        "4.3 4.9\n",
        "[ 1.05867162 -0.09147789]"
       ]
      },
      {
       "output_type": "stream",
       "stream": "stdout",
       "text": [
        "\n",
        "4.3 5.0\n",
        "[ 1.06477263 -0.08868424]"
       ]
      },
      {
       "output_type": "stream",
       "stream": "stdout",
       "text": [
        "\n",
        "4.3 5.1\n",
        "[ 1.0711363  -0.08427936]"
       ]
      },
      {
       "output_type": "stream",
       "stream": "stdout",
       "text": [
        "\n",
        "4.3 5.2\n",
        "[ 1.07763852 -0.07778127]"
       ]
      },
      {
       "output_type": "stream",
       "stream": "stdout",
       "text": [
        "\n",
        "4.3 5.3\n",
        "[ 1.0840714  -0.06857778]"
       ]
      },
      {
       "output_type": "stream",
       "stream": "stdout",
       "text": [
        "\n",
        "4.3 5.4\n",
        "[ 1.09009981 -0.05589995]"
       ]
      },
      {
       "output_type": "stream",
       "stream": "stdout",
       "text": [
        "\n",
        "4.3 5.5\n",
        "[ 1.0951961  -0.03880047]"
       ]
      },
      {
       "output_type": "stream",
       "stream": "stdout",
       "text": [
        "\n",
        "4.3 5.6\n",
        "[ 1.098542 -0.016151]"
       ]
      },
      {
       "output_type": "stream",
       "stream": "stdout",
       "text": [
        "\n",
        "4.3 5.7\n",
        "[ 1.09888269  0.01331204]"
       ]
      },
      {
       "output_type": "stream",
       "stream": "stdout",
       "text": [
        "\n",
        "4.3 5.8\n",
        "[ 1.09431306  0.05083484]"
       ]
      },
      {
       "output_type": "stream",
       "stream": "stdout",
       "text": [
        "\n",
        "4.3 5.9\n",
        "[ 1.0819751   0.09728045]"
       ]
      },
      {
       "output_type": "stream",
       "stream": "stdout",
       "text": [
        "\n",
        "4.3 6.0\n",
        "[ 1.05765615  0.15237533]"
       ]
      },
      {
       "output_type": "stream",
       "stream": "stdout",
       "text": [
        "\n",
        "4.3 6.1\n",
        "[ 1.0153237   0.21333861]"
       ]
      },
      {
       "output_type": "stream",
       "stream": "stdout",
       "text": [
        "\n",
        "4.3 6.2\n",
        "[ 0.9467576   0.27275621]"
       ]
      },
      {
       "output_type": "stream",
       "stream": "stdout",
       "text": [
        "\n",
        "4.3 6.3\n",
        "[ 0.84170585  0.31615497]"
       ]
      },
      {
       "output_type": "stream",
       "stream": "stdout",
       "text": [
        "\n",
        "4.3 6.4\n",
        "[ 0.68939571  0.32136724]"
       ]
      },
      {
       "output_type": "stream",
       "stream": "stdout",
       "text": [
        "\n",
        "4.3 6.5\n",
        "[ 0.48245383  0.26423088]"
       ]
      },
      {
       "output_type": "stream",
       "stream": "stdout",
       "text": [
        "\n",
        "4.3 6.6\n",
        "[ 0.2233324   0.13472317]"
       ]
      },
      {
       "output_type": "stream",
       "stream": "stdout",
       "text": [
        "\n",
        "4.3 6.7\n",
        "[-0.0698358  -0.04312545]"
       ]
      },
      {
       "output_type": "stream",
       "stream": "stdout",
       "text": [
        "\n",
        "4.3 6.8\n",
        "[-0.3643686  -0.21096955]"
       ]
      },
      {
       "output_type": "stream",
       "stream": "stdout",
       "text": [
        "\n",
        "4.3 6.9\n",
        "[-0.62450779 -0.30993386]"
       ]
      },
      {
       "output_type": "stream",
       "stream": "stdout",
       "text": [
        "\n",
        "4.3 7.0\n",
        "[-0.82621344 -0.31952937]"
       ]
      },
      {
       "output_type": "stream",
       "stream": "stdout",
       "text": [
        "\n",
        "4.3 7.1\n",
        "[-0.96379012 -0.2614267 ]"
       ]
      },
      {
       "output_type": "stream",
       "stream": "stdout",
       "text": [
        "\n",
        "4.3 7.2\n",
        "[-1.04572269 -0.17335545]"
       ]
      },
      {
       "output_type": "stream",
       "stream": "stdout",
       "text": [
        "\n",
        "4.3 7.3\n",
        "[-1.08635812 -0.08553038]"
       ]
      },
      {
       "output_type": "stream",
       "stream": "stdout",
       "text": [
        "\n",
        "4.3 7.4\n",
        "[-1.09967049 -0.01357794]"
       ]
      },
      {
       "output_type": "stream",
       "stream": "stdout",
       "text": [
        "\n",
        "4.3 7.5\n",
        "[-1.09658765  0.03815482]"
       ]
      },
      {
       "output_type": "stream",
       "stream": "stdout",
       "text": [
        "\n",
        "4.3 7.6\n",
        "[-1.0846742   0.07126512]"
       ]
      },
      {
       "output_type": "stream",
       "stream": "stdout",
       "text": [
        "\n",
        "4.3 7.7\n",
        "[-1.06877003  0.08949573]"
       ]
      },
      {
       "output_type": "stream",
       "stream": "stdout",
       "text": [
        "\n",
        "4.3 7.8\n",
        "[-1.05179032  0.09677513]"
       ]
      },
      {
       "output_type": "stream",
       "stream": "stdout",
       "text": [
        "\n",
        "4.3 7.9\n",
        "[-1.03538929  0.09644865]"
       ]
      },
      {
       "output_type": "stream",
       "stream": "stdout",
       "text": [
        "\n",
        "4.3 8.0\n",
        "[-1.02043306  0.09110494]"
       ]
      },
      {
       "output_type": "stream",
       "stream": "stdout",
       "text": [
        "\n",
        "4.3 8.1\n",
        "[-1.00731201  0.08264389]"
       ]
      },
      {
       "output_type": "stream",
       "stream": "stdout",
       "text": [
        "\n",
        "4.3 8.2\n",
        "[-0.99613864  0.0724146 ]"
       ]
      },
      {
       "output_type": "stream",
       "stream": "stdout",
       "text": [
        "\n",
        "4.3 8.3\n",
        "[-0.98686956  0.06135262]"
       ]
      },
      {
       "output_type": "stream",
       "stream": "stdout",
       "text": [
        "\n",
        "4.3 8.4\n",
        "[-0.97937927  0.05009373]"
       ]
      },
      {
       "output_type": "stream",
       "stream": "stdout",
       "text": [
        "\n",
        "4.3 8.5\n",
        "[-0.97350404  0.03906071]"
       ]
      },
      {
       "output_type": "stream",
       "stream": "stdout",
       "text": [
        "\n",
        "4.3 8.6\n",
        "[-0.96906741  0.02852694]"
       ]
      },
      {
       "output_type": "stream",
       "stream": "stdout",
       "text": [
        "\n",
        "4.3 8.7\n",
        "[-0.96589455  0.01866191]"
       ]
      },
      {
       "output_type": "stream",
       "stream": "stdout",
       "text": [
        "\n",
        "4.3 8.8\n",
        "[-0.96381994  0.00956331]"
       ]
      },
      {
       "output_type": "stream",
       "stream": "stdout",
       "text": [
        "\n",
        "4.3 8.9\n",
        "[-0.96269107  0.0012796 ]"
       ]
      },
      {
       "output_type": "stream",
       "stream": "stdout",
       "text": [
        "\n",
        "4.3 9.0\n",
        "[-0.96236983 -0.00617429]"
       ]
      },
      {
       "output_type": "stream",
       "stream": "stdout",
       "text": [
        "\n",
        "4.3 9.1\n",
        "[-0.96273258 -0.01280595]"
       ]
      },
      {
       "output_type": "stream",
       "stream": "stdout",
       "text": [
        "\n",
        "4.3 9.2\n",
        "[-0.96366949 -0.01863794]"
       ]
      },
      {
       "output_type": "stream",
       "stream": "stdout",
       "text": [
        "\n",
        "4.3 9.3\n",
        "[-0.96508355 -0.0237024 ]"
       ]
      },
      {
       "output_type": "stream",
       "stream": "stdout",
       "text": [
        "\n",
        "4.3 9.4\n",
        "[-0.96688943 -0.02803745]"
       ]
      },
      {
       "output_type": "stream",
       "stream": "stdout",
       "text": [
        "\n",
        "4.3 9.5\n",
        "[-0.96901229 -0.03168455]"
       ]
      },
      {
       "output_type": "stream",
       "stream": "stdout",
       "text": [
        "\n",
        "4.3 9.6\n",
        "[-0.9713867  -0.03468682]"
       ]
      },
      {
       "output_type": "stream",
       "stream": "stdout",
       "text": [
        "\n",
        "4.3 9.7\n",
        "[-0.97395555 -0.03708779]"
       ]
      },
      {
       "output_type": "stream",
       "stream": "stdout",
       "text": [
        "\n",
        "4.3 9.8\n",
        "[-0.97666916 -0.03893056]"
       ]
      },
      {
       "output_type": "stream",
       "stream": "stdout",
       "text": [
        "\n",
        "4.3 9.9\n",
        "[-0.9794844  -0.04025729]"
       ]
      },
      {
       "output_type": "stream",
       "stream": "stdout",
       "text": [
        "\n",
        "4.4 0.0\n",
        "[ 1.01577031 -0.08359325]"
       ]
      },
      {
       "output_type": "stream",
       "stream": "stdout",
       "text": [
        "\n",
        "4.4 0.1\n",
        "[ 1.01591038 -0.08368172]"
       ]
      },
      {
       "output_type": "stream",
       "stream": "stdout",
       "text": [
        "\n",
        "4.4 0.2\n",
        "[ 1.01612384 -0.08381969]"
       ]
      },
      {
       "output_type": "stream",
       "stream": "stdout",
       "text": [
        "\n",
        "4.4 0.3\n",
        "[ 1.01641124 -0.08400645]"
       ]
      },
      {
       "output_type": "stream",
       "stream": "stdout",
       "text": [
        "\n",
        "4.4 0.4\n",
        "[ 1.01677353 -0.08424113]"
       ]
      },
      {
       "output_type": "stream",
       "stream": "stdout",
       "text": [
        "\n",
        "4.4 0.5\n",
        "[ 1.01721203 -0.08452271]"
       ]
      },
      {
       "output_type": "stream",
       "stream": "stdout",
       "text": [
        "\n",
        "4.4 0.6\n",
        "[ 1.01772847 -0.08484994]"
       ]
      },
      {
       "output_type": "stream",
       "stream": "stdout",
       "text": [
        "\n",
        "4.4 0.7\n",
        "[ 1.01832495 -0.08522136]"
       ]
      },
      {
       "output_type": "stream",
       "stream": "stdout",
       "text": [
        "\n",
        "4.4 0.8\n",
        "[ 1.019004   -0.08563519]"
       ]
      },
      {
       "output_type": "stream",
       "stream": "stdout",
       "text": [
        "\n",
        "4.4 0.9\n",
        "[ 1.01976854 -0.08608934]"
       ]
      },
      {
       "output_type": "stream",
       "stream": "stdout",
       "text": [
        "\n",
        "4.4 1.0\n",
        "[ 1.02062194 -0.08658128]"
       ]
      },
      {
       "output_type": "stream",
       "stream": "stdout",
       "text": [
        "\n",
        "4.4 1.1\n",
        "[ 1.02156799 -0.08710799]"
       ]
      },
      {
       "output_type": "stream",
       "stream": "stdout",
       "text": [
        "\n",
        "4.4 1.2\n",
        "[ 1.02261094 -0.08766584]"
       ]
      },
      {
       "output_type": "stream",
       "stream": "stdout",
       "text": [
        "\n",
        "4.4 1.3\n",
        "[ 1.0237555  -0.08825046]"
       ]
      },
      {
       "output_type": "stream",
       "stream": "stdout",
       "text": [
        "\n",
        "4.4 1.4\n",
        "[ 1.02500687 -0.0888566 ]"
       ]
      },
      {
       "output_type": "stream",
       "stream": "stdout",
       "text": [
        "\n",
        "4.4 1.5\n",
        "[ 1.02637072 -0.08947794]"
       ]
      },
      {
       "output_type": "stream",
       "stream": "stdout",
       "text": [
        "\n",
        "4.4 1.6\n",
        "[ 1.02785322 -0.09010687]"
       ]
      },
      {
       "output_type": "stream",
       "stream": "stdout",
       "text": [
        "\n",
        "4.4 1.7\n",
        "[ 1.02946101 -0.09073424]"
       ]
      },
      {
       "output_type": "stream",
       "stream": "stdout",
       "text": [
        "\n",
        "4.4 1.8\n",
        "[ 1.03120123 -0.091349  ]"
       ]
      },
      {
       "output_type": "stream",
       "stream": "stdout",
       "text": [
        "\n",
        "4.4 1.9\n",
        "[ 1.03308145 -0.09193785]"
       ]
      },
      {
       "output_type": "stream",
       "stream": "stdout",
       "text": [
        "\n",
        "4.4 2.0\n",
        "[ 1.03510964 -0.09248475]"
       ]
      },
      {
       "output_type": "stream",
       "stream": "stdout",
       "text": [
        "\n",
        "4.4 2.1\n",
        "[ 1.03729407 -0.09297034]"
       ]
      },
      {
       "output_type": "stream",
       "stream": "stdout",
       "text": [
        "\n",
        "4.4 2.2\n",
        "[ 1.03964325 -0.09337127]"
       ]
      },
      {
       "output_type": "stream",
       "stream": "stdout",
       "text": [
        "\n",
        "4.4 2.3\n",
        "[ 1.04216566 -0.09365931]"
       ]
      },
      {
       "output_type": "stream",
       "stream": "stdout",
       "text": [
        "\n",
        "4.4 2.4\n",
        "[ 1.0448696  -0.09380036]"
       ]
      },
      {
       "output_type": "stream",
       "stream": "stdout",
       "text": [
        "\n",
        "4.4 2.5\n",
        "[ 1.04776276 -0.09375313]"
       ]
      },
      {
       "output_type": "stream",
       "stream": "stdout",
       "text": [
        "\n",
        "4.4 2.6\n",
        "[ 1.05085174 -0.09346764]"
       ]
      },
      {
       "output_type": "stream",
       "stream": "stdout",
       "text": [
        "\n",
        "4.4 2.7\n",
        "[ 1.05414139 -0.0928833 ]"
       ]
      },
      {
       "output_type": "stream",
       "stream": "stdout",
       "text": [
        "\n",
        "4.4 2.8\n",
        "[ 1.0576338  -0.09192658]"
       ]
      },
      {
       "output_type": "stream",
       "stream": "stdout",
       "text": [
        "\n",
        "4.4 2.9\n",
        "[ 1.06132699 -0.09050824]"
       ]
      },
      {
       "output_type": "stream",
       "stream": "stdout",
       "text": [
        "\n",
        "4.4 3.0\n",
        "[ 1.06521311 -0.08851983]"
       ]
      },
      {
       "output_type": "stream",
       "stream": "stdout",
       "text": [
        "\n",
        "4.4 3.1\n",
        "[ 1.0692759  -0.08582957]"
       ]
      },
      {
       "output_type": "stream",
       "stream": "stdout",
       "text": [
        "\n",
        "4.4 3.2\n",
        "[ 1.07348719 -0.08227741]"
       ]
      },
      {
       "output_type": "stream",
       "stream": "stdout",
       "text": [
        "\n",
        "4.4 3.3\n",
        "[ 1.07780218 -0.07766906]"
       ]
      },
      {
       "output_type": "stream",
       "stream": "stdout",
       "text": [
        "\n",
        "4.4 3.4\n",
        "[ 1.08215274 -0.07176928]"
       ]
      },
      {
       "output_type": "stream",
       "stream": "stdout",
       "text": [
        "\n",
        "4.4 3.5\n",
        "[ 1.08643834 -0.06429425]"
       ]
      },
      {
       "output_type": "stream",
       "stream": "stdout",
       "text": [
        "\n",
        "4.4 3.6\n",
        "[ 1.09051327 -0.05490363]"
       ]
      },
      {
       "output_type": "stream",
       "stream": "stdout",
       "text": [
        "\n",
        "4.4 3.7\n",
        "[ 1.09416904 -0.0431933 ]"
       ]
      },
      {
       "output_type": "stream",
       "stream": "stdout",
       "text": [
        "\n",
        "4.4 3.8\n",
        "[ 1.09710996 -0.02869058]"
       ]
      },
      {
       "output_type": "stream",
       "stream": "stdout",
       "text": [
        "\n",
        "4.4 3.9\n",
        "[ 1.09891921 -0.01085582]"
       ]
      },
      {
       "output_type": "stream",
       "stream": "stdout",
       "text": [
        "\n",
        "4.4 4.0\n",
        "[ 1.09901214  0.01090314]"
       ]
      },
      {
       "output_type": "stream",
       "stream": "stdout",
       "text": [
        "\n",
        "4.4 4.1\n",
        "[ 1.09657236  0.03719225]"
       ]
      },
      {
       "output_type": "stream",
       "stream": "stdout",
       "text": [
        "\n",
        "4.4 4.2\n",
        "[ 1.09046568  0.06854934]"
       ]
      },
      {
       "output_type": "stream",
       "stream": "stdout",
       "text": [
        "\n",
        "4.4 4.3\n",
        "[ 1.07912739  0.10528938]"
       ]
      },
      {
       "output_type": "stream",
       "stream": "stdout",
       "text": [
        "\n",
        "4.4 4.4\n",
        "[ 1.06042111  0.14723451]"
       ]
      },
      {
       "output_type": "stream",
       "stream": "stdout",
       "text": [
        "\n",
        "4.4 4.5\n",
        "[ 1.03147707  0.19327613]"
       ]
      },
      {
       "output_type": "stream",
       "stream": "stdout",
       "text": [
        "\n",
        "4.4 4.6\n",
        "[ 0.98853816  0.24072793]"
       ]
      },
      {
       "output_type": "stream",
       "stream": "stdout",
       "text": [
        "\n",
        "4.4 4.7\n",
        "[ 0.92688416  0.28449939]"
       ]
      },
      {
       "output_type": "stream",
       "stream": "stdout",
       "text": [
        "\n",
        "4.4 4.8\n",
        "[ 0.84097343  0.31632262]"
       ]
      },
      {
       "output_type": "stream",
       "stream": "stdout",
       "text": [
        "\n",
        "4.4 4.9\n",
        "[ 0.72502884  0.32466812]"
       ]
      },
      {
       "output_type": "stream",
       "stream": "stdout",
       "text": [
        "\n",
        "4.4 5.0\n",
        "[ 0.5743391   0.29650416]"
       ]
      },
      {
       "output_type": "stream",
       "stream": "stdout",
       "text": [
        "\n",
        "4.4 5.1\n",
        "[ 0.38739567  0.22211965]"
       ]
      },
      {
       "output_type": "stream",
       "stream": "stdout",
       "text": [
        "\n",
        "4.4 5.2\n",
        "[ 0.16844234  0.10265662]"
       ]
      },
      {
       "output_type": "stream",
       "stream": "stdout",
       "text": [
        "\n",
        "4.4 5.3\n",
        "[-0.07086587 -0.04375599]"
       ]
      },
      {
       "output_type": "stream",
       "stream": "stdout",
       "text": [
        "\n",
        "4.4 5.4\n",
        "[-0.31246481 -0.18422846]"
       ]
      },
      {
       "output_type": "stream",
       "stream": "stdout",
       "text": [
        "\n",
        "4.4 5.5\n",
        "[-0.53621827 -0.28442241]"
       ]
      },
      {
       "output_type": "stream",
       "stream": "stdout",
       "text": [
        "\n",
        "4.4 5.6\n",
        "[-0.72577743 -0.32490804]"
       ]
      },
      {
       "output_type": "stream",
       "stream": "stdout",
       "text": [
        "\n",
        "4.4 5.7\n",
        "[-0.87266594 -0.3079715 ]"
       ]
      },
      {
       "output_type": "stream",
       "stream": "stdout",
       "text": [
        "\n",
        "4.4 5.8\n",
        "[-0.97667525 -0.25140512]"
       ]
      },
      {
       "output_type": "stream",
       "stream": "stdout",
       "text": [
        "\n",
        "4.4 5.9\n",
        "[-1.04337667 -0.17696038]"
       ]
      },
      {
       "output_type": "stream",
       "stream": "stdout",
       "text": [
        "\n",
        "4.4 6.0\n",
        "[-1.08087122 -0.10199176]"
       ]
      },
      {
       "output_type": "stream",
       "stream": "stdout",
       "text": [
        "\n",
        "4.4 6.1\n",
        "[-1.09731741 -0.03676551]"
       ]
      },
      {
       "output_type": "stream",
       "stream": "stdout",
       "text": [
        "\n",
        "4.4 6.2\n",
        "[-1.09964095  0.01452202]"
       ]
      },
      {
       "output_type": "stream",
       "stream": "stdout",
       "text": [
        "\n",
        "4.4 6.3\n",
        "[-1.09315193  0.05156059]"
       ]
      },
      {
       "output_type": "stream",
       "stream": "stdout",
       "text": [
        "\n",
        "4.4 6.4\n",
        "[-1.08165353  0.07600124]"
       ]
      },
      {
       "output_type": "stream",
       "stream": "stdout",
       "text": [
        "\n",
        "4.4 6.5\n",
        "[-1.06773545  0.09019234]"
       ]
      },
      {
       "output_type": "stream",
       "stream": "stdout",
       "text": [
        "\n",
        "4.4 6.6\n",
        "[-1.05308671  0.09649542]"
       ]
      },
      {
       "output_type": "stream",
       "stream": "stdout",
       "text": [
        "\n",
        "4.4 6.7\n",
        "[-1.0387612   0.09698224]"
       ]
      },
      {
       "output_type": "stream",
       "stream": "stdout",
       "text": [
        "\n",
        "4.4 6.8\n",
        "[-1.02538028  0.09334375]"
       ]
      },
      {
       "output_type": "stream",
       "stream": "stdout",
       "text": [
        "\n",
        "4.4 6.9\n",
        "[-1.01327858  0.08690133]"
       ]
      },
      {
       "output_type": "stream",
       "stream": "stdout",
       "text": [
        "\n",
        "4.4 7.0\n",
        "[-1.00260516  0.07865821]"
       ]
      },
      {
       "output_type": "stream",
       "stream": "stdout",
       "text": [
        "\n",
        "4.4 7.1\n",
        "[-0.99339206  0.06936045]"
       ]
      },
      {
       "output_type": "stream",
       "stream": "stdout",
       "text": [
        "\n",
        "4.4 7.2\n",
        "[-0.98560003  0.05955363]"
       ]
      },
      {
       "output_type": "stream",
       "stream": "stdout",
       "text": [
        "\n",
        "4.4 7.3\n",
        "[-0.97914845  0.04963056]"
       ]
      },
      {
       "output_type": "stream",
       "stream": "stdout",
       "text": [
        "\n",
        "4.4 7.4\n",
        "[-0.97393488  0.03986939]"
       ]
      },
      {
       "output_type": "stream",
       "stream": "stdout",
       "text": [
        "\n",
        "4.4 7.5\n",
        "[-0.96984736  0.03046298]"
       ]
      },
      {
       "output_type": "stream",
       "stream": "stdout",
       "text": [
        "\n",
        "4.4 7.6\n",
        "[-0.96677227  0.02154129]"
       ]
      },
      {
       "output_type": "stream",
       "stream": "stdout",
       "text": [
        "\n",
        "4.4 7.7\n",
        "[-0.96459896  0.01318811]"
       ]
      },
      {
       "output_type": "stream",
       "stream": "stdout",
       "text": [
        "\n",
        "4.4 7.8\n",
        "[-0.96322246  0.00545348]"
       ]
      },
      {
       "output_type": "stream",
       "stream": "stdout",
       "text": [
        "\n",
        "4.4 7.9\n",
        "[-0.96254495 -0.00163705]"
       ]
      },
      {
       "output_type": "stream",
       "stream": "stdout",
       "text": [
        "\n",
        "4.4 8.0\n",
        "[-0.96247635 -0.00807561]"
       ]
      },
      {
       "output_type": "stream",
       "stream": "stdout",
       "text": [
        "\n",
        "4.4 8.1\n",
        "[-0.96293439 -0.01386699]"
       ]
      },
      {
       "output_type": "stream",
       "stream": "stdout",
       "text": [
        "\n",
        "4.4 8.2\n",
        "[-0.96384444 -0.01902496]"
       ]
      },
      {
       "output_type": "stream",
       "stream": "stdout",
       "text": [
        "\n",
        "4.4 8.3\n",
        "[-0.96513912 -0.02356953]"
       ]
      },
      {
       "output_type": "stream",
       "stream": "stdout",
       "text": [
        "\n",
        "4.4 8.4\n",
        "[-0.9667578  -0.02752496]"
       ]
      },
      {
       "output_type": "stream",
       "stream": "stdout",
       "text": [
        "\n",
        "4.4 8.5\n",
        "[-0.96864612 -0.03091828]"
       ]
      },
      {
       "output_type": "stream",
       "stream": "stdout",
       "text": [
        "\n",
        "4.4 8.6\n",
        "[-0.97075546 -0.03377824]"
       ]
      },
      {
       "output_type": "stream",
       "stream": "stdout",
       "text": [
        "\n",
        "4.4 8.7\n",
        "[-0.97304243 -0.03613447]"
       ]
      },
      {
       "output_type": "stream",
       "stream": "stdout",
       "text": [
        "\n",
        "4.4 8.8\n",
        "[-0.97546841 -0.03801695]"
       ]
      },
      {
       "output_type": "stream",
       "stream": "stdout",
       "text": [
        "\n",
        "4.4 8.9\n",
        "[-0.97799908 -0.03945554]"
       ]
      },
      {
       "output_type": "stream",
       "stream": "stdout",
       "text": [
        "\n",
        "4.4 9.0\n",
        "[-0.98060405 -0.04047974]"
       ]
      },
      {
       "output_type": "stream",
       "stream": "stdout",
       "text": [
        "\n",
        "4.4 9.1\n",
        "[-0.98325647 -0.0411184 ]"
       ]
      },
      {
       "output_type": "stream",
       "stream": "stdout",
       "text": [
        "\n",
        "4.4 9.2\n",
        "[-0.98593267 -0.04139961]"
       ]
      },
      {
       "output_type": "stream",
       "stream": "stdout",
       "text": [
        "\n",
        "4.4 9.3\n",
        "[-0.9886119  -0.04135055]"
       ]
      },
      {
       "output_type": "stream",
       "stream": "stdout",
       "text": [
        "\n",
        "4.4 9.4\n",
        "[-0.991276   -0.04099748]"
       ]
      },
      {
       "output_type": "stream",
       "stream": "stdout",
       "text": [
        "\n",
        "4.4 9.5\n",
        "[-0.99390918 -0.04036559]"
       ]
      },
      {
       "output_type": "stream",
       "stream": "stdout",
       "text": [
        "\n",
        "4.4 9.6\n",
        "[-0.99649778 -0.03947906]"
       ]
      },
      {
       "output_type": "stream",
       "stream": "stdout",
       "text": [
        "\n",
        "4.4 9.7\n",
        "[-0.99903006 -0.038361  ]"
       ]
      },
      {
       "output_type": "stream",
       "stream": "stdout",
       "text": [
        "\n",
        "4.4 9.8\n",
        "[-1.00149603 -0.03703343]"
       ]
      },
      {
       "output_type": "stream",
       "stream": "stdout",
       "text": [
        "\n",
        "4.4 9.9\n",
        "[-1.00388726 -0.03551732]"
       ]
      },
      {
       "output_type": "stream",
       "stream": "stdout",
       "text": [
        "\n",
        "4.5 0.0\n",
        "[ 1.09586302  0.04212668]"
       ]
      },
      {
       "output_type": "stream",
       "stream": "stdout",
       "text": [
        "\n",
        "4.5 0.1\n",
        "[ 1.09575216  0.04281725]"
       ]
      },
      {
       "output_type": "stream",
       "stream": "stdout",
       "text": [
        "\n",
        "4.5 0.2\n",
        "[ 1.09551135  0.04428777]"
       ]
      },
      {
       "output_type": "stream",
       "stream": "stdout",
       "text": [
        "\n",
        "4.5 0.3\n",
        "[ 1.09512643  0.04655171]"
       ]
      },
      {
       "output_type": "stream",
       "stream": "stdout",
       "text": [
        "\n",
        "4.5 0.4\n",
        "[ 1.09457485  0.04963157]"
       ]
      },
      {
       "output_type": "stream",
       "stream": "stdout",
       "text": [
        "\n",
        "4.5 0.5\n",
        "[ 1.09382493  0.05355881]"
       ]
      },
      {
       "output_type": "stream",
       "stream": "stdout",
       "text": [
        "\n",
        "4.5 0.6\n",
        "[ 1.09283469  0.05837365]"
       ]
      },
      {
       "output_type": "stream",
       "stream": "stdout",
       "text": [
        "\n",
        "4.5 0.7\n",
        "[ 1.09155027  0.06412489]"
       ]
      },
      {
       "output_type": "stream",
       "stream": "stdout",
       "text": [
        "\n",
        "4.5 0.8\n",
        "[ 1.08990394  0.07086935]"
       ]
      },
      {
       "output_type": "stream",
       "stream": "stdout",
       "text": [
        "\n",
        "4.5 0.9\n",
        "[ 1.08781148  0.07867114]"
       ]
      },
      {
       "output_type": "stream",
       "stream": "stdout",
       "text": [
        "\n",
        "4.5 1.0\n",
        "[ 1.08516893  0.08760023]"
       ]
      },
      {
       "output_type": "stream",
       "stream": "stdout",
       "text": [
        "\n",
        "4.5 1.1\n",
        "[ 1.08184856  0.09773035]"
       ]
      },
      {
       "output_type": "stream",
       "stream": "stdout",
       "text": [
        "\n",
        "4.5 1.2\n",
        "[ 1.07769383  0.10913561]"
       ]
      },
      {
       "output_type": "stream",
       "stream": "stdout",
       "text": [
        "\n",
        "4.5 1.3\n",
        "[ 1.07251326  0.12188553]"
       ]
      },
      {
       "output_type": "stream",
       "stream": "stdout",
       "text": [
        "\n",
        "4.5 1.4\n",
        "[ 1.06607296  0.13603765]"
       ]
      },
      {
       "output_type": "stream",
       "stream": "stdout",
       "text": [
        "\n",
        "4.5 1.5\n",
        "[ 1.05808756  0.15162692]"
       ]
      },
      {
       "output_type": "stream",
       "stream": "stdout",
       "text": [
        "\n",
        "4.5 1.6\n",
        "[ 1.04820948  0.16865062]"
       ]
      },
      {
       "output_type": "stream",
       "stream": "stdout",
       "text": [
        "\n",
        "4.5 1.7\n",
        "[ 1.03601621  0.18704754]"
       ]
      },
      {
       "output_type": "stream",
       "stream": "stdout",
       "text": [
        "\n",
        "4.5 1.8\n",
        "[ 1.02099576  0.20666939]"
       ]
      },
      {
       "output_type": "stream",
       "stream": "stdout",
       "text": [
        "\n",
        "4.5 1.9\n",
        "[ 1.00253055  0.227243  ]"
       ]
      },
      {
       "output_type": "stream",
       "stream": "stdout",
       "text": [
        "\n",
        "4.5 2.0\n",
        "[ 0.97988039  0.24832136]"
       ]
      },
      {
       "output_type": "stream",
       "stream": "stdout",
       "text": [
        "\n",
        "4.5 2.1\n",
        "[ 0.95216626  0.26922314]"
       ]
      },
      {
       "output_type": "stream",
       "stream": "stdout",
       "text": [
        "\n",
        "4.5 2.2\n",
        "[ 0.91835764  0.28896203]"
       ]
      },
      {
       "output_type": "stream",
       "stream": "stdout",
       "text": [
        "\n",
        "4.5 2.3\n",
        "[ 0.87726808  0.30617236]"
       ]
      },
      {
       "output_type": "stream",
       "stream": "stdout",
       "text": [
        "\n",
        "4.5 2.4\n",
        "[ 0.82756626  0.31904463]"
       ]
      },
      {
       "output_type": "stream",
       "stream": "stdout",
       "text": [
        "\n",
        "4.5 2.5\n",
        "[ 0.76781273  0.32529676]"
       ]
      },
      {
       "output_type": "stream",
       "stream": "stdout",
       "text": [
        "\n",
        "4.5 2.6\n",
        "[ 0.69653552  0.3222225 ]"
       ]
      },
      {
       "output_type": "stream",
       "stream": "stdout",
       "text": [
        "\n",
        "4.5 2.7\n",
        "[ 0.61235951  0.3068737 ]"
       ]
      },
      {
       "output_type": "stream",
       "stream": "stdout",
       "text": [
        "\n",
        "4.5 2.8\n",
        "[ 0.51420154  0.27643893]"
       ]
      },
      {
       "output_type": "stream",
       "stream": "stdout",
       "text": [
        "\n",
        "4.5 2.9\n",
        "[ 0.40153298  0.22885923]"
       ]
      },
      {
       "output_type": "stream",
       "stream": "stdout",
       "text": [
        "\n",
        "4.5 3.0\n",
        "[ 0.27468954  0.16365016]"
       ]
      },
      {
       "output_type": "stream",
       "stream": "stdout",
       "text": [
        "\n",
        "4.5 3.1\n",
        "[ 0.13517469  0.08276893]"
       ]
      },
      {
       "output_type": "stream",
       "stream": "stdout",
       "text": [
        "\n",
        "4.5 3.2\n",
        "[-0.01413373 -0.00879305]"
       ]
      },
      {
       "output_type": "stream",
       "stream": "stdout",
       "text": [
        "\n",
        "4.5 3.3\n",
        "[-0.16898335 -0.10309989]"
       ]
      },
      {
       "output_type": "stream",
       "stream": "stdout",
       "text": [
        "\n",
        "4.5 3.4\n",
        "[-0.32404006 -0.19033402]"
       ]
      },
      {
       "output_type": "stream",
       "stream": "stdout",
       "text": [
        "\n",
        "4.5 3.5\n",
        "[-0.47347885 -0.26074282]"
       ]
      },
      {
       "output_type": "stream",
       "stream": "stdout",
       "text": [
        "\n",
        "4.5 3.6\n",
        "[-0.61176202 -0.30688617]"
       ]
      },
      {
       "output_type": "stream",
       "stream": "stdout",
       "text": [
        "\n",
        "4.5 3.7\n",
        "[-0.7344009 -0.3253275]"
       ]
      },
      {
       "output_type": "stream",
       "stream": "stdout",
       "text": [
        "\n",
        "4.5 3.8\n",
        "[-0.83848888 -0.31711189]"
       ]
      },
      {
       "output_type": "stream",
       "stream": "stdout",
       "text": [
        "\n",
        "4.5 3.9\n",
        "[-0.92288096 -0.28695555]"
       ]
      },
      {
       "output_type": "stream",
       "stream": "stdout",
       "text": [
        "\n",
        "4.5 4.0\n",
        "[-0.98802886 -0.24163746]"
       ]
      },
      {
       "output_type": "stream",
       "stream": "stdout",
       "text": [
        "\n",
        "4.5 4.1\n",
        "[-1.03558588 -0.18829464]"
       ]
      },
      {
       "output_type": "stream",
       "stream": "stdout",
       "text": [
        "\n",
        "4.5 4.2\n",
        "[-1.06793143 -0.13314874]"
       ]
      },
      {
       "output_type": "stream",
       "stream": "stdout",
       "text": [
        "\n",
        "4.5 4.3\n",
        "[-1.08773684 -0.08085459]"
       ]
      },
      {
       "output_type": "stream",
       "stream": "stdout",
       "text": [
        "\n",
        "4.5 4.4\n",
        "[-1.09763822 -0.03438734]"
       ]
      },
      {
       "output_type": "stream",
       "stream": "stdout",
       "text": [
        "\n",
        "4.5 4.5\n",
        "[-1.1000308   0.00473423]"
       ]
      },
      {
       "output_type": "stream",
       "stream": "stdout",
       "text": [
        "\n",
        "4.5 4.6\n",
        "[-1.09696738  0.03608498]"
       ]
      },
      {
       "output_type": "stream",
       "stream": "stdout",
       "text": [
        "\n",
        "4.5 4.7\n",
        "[-1.09013127  0.05996509]"
       ]
      },
      {
       "output_type": "stream",
       "stream": "stdout",
       "text": [
        "\n",
        "4.5 4.8\n",
        "[-1.08085521  0.07709366]"
       ]
      },
      {
       "output_type": "stream",
       "stream": "stdout",
       "text": [
        "\n",
        "4.5 4.9\n",
        "[-1.07016349  0.08838404]"
       ]
      },
      {
       "output_type": "stream",
       "stream": "stdout",
       "text": [
        "\n",
        "4.5 5.0\n",
        "[-1.0588224   0.09479508]"
       ]
      },
      {
       "output_type": "stream",
       "stream": "stdout",
       "text": [
        "\n",
        "4.5 5.1\n",
        "[-1.04739002  0.09724209]"
       ]
      },
      {
       "output_type": "stream",
       "stream": "stdout",
       "text": [
        "\n",
        "4.5 5.2\n",
        "[-1.03626087  0.09655027]"
       ]
      },
      {
       "output_type": "stream",
       "stream": "stdout",
       "text": [
        "\n",
        "4.5 5.3\n",
        "[-1.02570363  0.09343573]"
       ]
      },
      {
       "output_type": "stream",
       "stream": "stdout",
       "text": [
        "\n",
        "4.5 5.4\n",
        "[-1.01589197  0.08850342]"
       ]
      },
      {
       "output_type": "stream",
       "stream": "stdout",
       "text": [
        "\n",
        "4.5 5.5\n",
        "[-1.00692887  0.08225417]"
       ]
      },
      {
       "output_type": "stream",
       "stream": "stdout",
       "text": [
        "\n",
        "4.5 5.6\n",
        "[-0.9988656   0.07509611]"
       ]
      },
      {
       "output_type": "stream",
       "stream": "stdout",
       "text": [
        "\n",
        "4.5 5.7\n",
        "[-0.99171623  0.06735754]"
       ]
      },
      {
       "output_type": "stream",
       "stream": "stdout",
       "text": [
        "\n",
        "4.5 5.8\n",
        "[-0.98546862  0.05929952]"
       ]
      },
      {
       "output_type": "stream",
       "stream": "stdout",
       "text": [
        "\n",
        "4.5 5.9\n",
        "[-0.98009261  0.05112738]"
       ]
      },
      {
       "output_type": "stream",
       "stream": "stdout",
       "text": [
        "\n",
        "4.5 6.0\n",
        "[-0.97554614  0.04300084]"
       ]
      },
      {
       "output_type": "stream",
       "stream": "stdout",
       "text": [
        "\n",
        "4.5 6.1\n",
        "[-0.97177976  0.03504259]"
       ]
      },
      {
       "output_type": "stream",
       "stream": "stdout",
       "text": [
        "\n",
        "4.5 6.2\n",
        "[-0.96873981  0.02734549]"
       ]
      },
      {
       "output_type": "stream",
       "stream": "stdout",
       "text": [
        "\n",
        "4.5 6.3\n",
        "[-0.96637087  0.01997846]"
       ]
      },
      {
       "output_type": "stream",
       "stream": "stdout",
       "text": [
        "\n",
        "4.5 6.4\n",
        "[-0.96461736  0.01299133]"
       ]
      },
      {
       "output_type": "stream",
       "stream": "stdout",
       "text": [
        "\n",
        "4.5 6.5\n",
        "[-0.96342469  0.00641873]"
       ]
      },
      {
       "output_type": "stream",
       "stream": "stdout",
       "text": [
        "\n",
        "4.5 6.6\n",
        "[ -9.62740107e-01   2.83296413e-04]"
       ]
      },
      {
       "output_type": "stream",
       "stream": "stdout",
       "text": [
        "\n",
        "4.5 6.7\n",
        "[-0.96251315 -0.00540188]"
       ]
      },
      {
       "output_type": "stream",
       "stream": "stdout",
       "text": [
        "\n",
        "4.5 6.8\n",
        "[-0.96269599 -0.01063117]"
       ]
      },
      {
       "output_type": "stream",
       "stream": "stdout",
       "text": [
        "\n",
        "4.5 6.9\n",
        "[-0.96324358 -0.0154048 ]"
       ]
      },
      {
       "output_type": "stream",
       "stream": "stdout",
       "text": [
        "\n",
        "4.5 7.0\n",
        "[-0.96411374 -0.01972757]"
       ]
      },
      {
       "output_type": "stream",
       "stream": "stdout",
       "text": [
        "\n",
        "4.5 7.1\n",
        "[-0.96526714 -0.02360784]"
       ]
      },
      {
       "output_type": "stream",
       "stream": "stdout",
       "text": [
        "\n",
        "4.5 7.2\n",
        "[-0.96666726 -0.02705667]"
       ]
      },
      {
       "output_type": "stream",
       "stream": "stdout",
       "text": [
        "\n",
        "4.5 7.3\n",
        "[-0.96828026 -0.03008721]"
       ]
      },
      {
       "output_type": "stream",
       "stream": "stdout",
       "text": [
        "\n",
        "4.5 7.4\n",
        "[-0.97007494 -0.03271415]"
       ]
      },
      {
       "output_type": "stream",
       "stream": "stdout",
       "text": [
        "\n",
        "4.5 7.5\n",
        "[-0.97202253 -0.03495332]"
       ]
      },
      {
       "output_type": "stream",
       "stream": "stdout",
       "text": [
        "\n",
        "4.5 7.6\n",
        "[-0.97409663 -0.03682137]"
       ]
      },
      {
       "output_type": "stream",
       "stream": "stdout",
       "text": [
        "\n",
        "4.5 7.7\n",
        "[-0.97627305 -0.03833545]"
       ]
      },
      {
       "output_type": "stream",
       "stream": "stdout",
       "text": [
        "\n",
        "4.5 7.8\n",
        "[-0.97852968 -0.03951308]"
       ]
      },
      {
       "output_type": "stream",
       "stream": "stdout",
       "text": [
        "\n",
        "4.5 7.9\n",
        "[-0.98084636 -0.04037189]"
       ]
      },
      {
       "output_type": "stream",
       "stream": "stdout",
       "text": [
        "\n",
        "4.5 8.0\n",
        "[-0.98320477 -0.04092956]"
       ]
      },
      {
       "output_type": "stream",
       "stream": "stdout",
       "text": [
        "\n",
        "4.5 8.1\n",
        "[-0.98558829 -0.04120365]"
       ]
      },
      {
       "output_type": "stream",
       "stream": "stdout",
       "text": [
        "\n",
        "4.5 8.2\n",
        "[-0.98798191 -0.04121155]"
       ]
      },
      {
       "output_type": "stream",
       "stream": "stdout",
       "text": [
        "\n",
        "4.5 8.3\n",
        "[-0.99037211 -0.04097035]"
       ]
      },
      {
       "output_type": "stream",
       "stream": "stdout",
       "text": [
        "\n",
        "4.5 8.4\n",
        "[-0.99274676 -0.04049687]"
       ]
      },
      {
       "output_type": "stream",
       "stream": "stdout",
       "text": [
        "\n",
        "4.5 8.5\n",
        "[-0.99509501 -0.0398075 ]"
       ]
      },
      {
       "output_type": "stream",
       "stream": "stdout",
       "text": [
        "\n",
        "4.5 8.6\n",
        "[-0.99740725 -0.03891826]"
       ]
      },
      {
       "output_type": "stream",
       "stream": "stdout",
       "text": [
        "\n",
        "4.5 8.7\n",
        "[-0.99967494 -0.03784469]"
       ]
      },
      {
       "output_type": "stream",
       "stream": "stdout",
       "text": [
        "\n",
        "4.5 8.8\n",
        "[-1.00189063 -0.03660188]"
       ]
      },
      {
       "output_type": "stream",
       "stream": "stdout",
       "text": [
        "\n",
        "4.5 8.9\n",
        "[-1.00404781 -0.0352044 ]"
       ]
      },
      {
       "output_type": "stream",
       "stream": "stdout",
       "text": [
        "\n",
        "4.5 9.0\n",
        "[-1.00614086 -0.0336663 ]"
       ]
      },
      {
       "output_type": "stream",
       "stream": "stdout",
       "text": [
        "\n",
        "4.5 9.1\n",
        "[-1.008165   -0.03200113]"
       ]
      },
      {
       "output_type": "stream",
       "stream": "stdout",
       "text": [
        "\n",
        "4.5 9.2\n",
        "[-1.01011621 -0.03022186]"
       ]
      },
      {
       "output_type": "stream",
       "stream": "stdout",
       "text": [
        "\n",
        "4.5 9.3\n",
        "[-1.01199118 -0.02834093]"
       ]
      },
      {
       "output_type": "stream",
       "stream": "stdout",
       "text": [
        "\n",
        "4.5 9.4\n",
        "[-1.01378725 -0.02637023]"
       ]
      },
      {
       "output_type": "stream",
       "stream": "stdout",
       "text": [
        "\n",
        "4.5 9.5\n",
        "[-1.01550237 -0.02432107]"
       ]
      },
      {
       "output_type": "stream",
       "stream": "stdout",
       "text": [
        "\n",
        "4.5 9.6\n",
        "[-1.01713501 -0.02220423]"
       ]
      },
      {
       "output_type": "stream",
       "stream": "stdout",
       "text": [
        "\n",
        "4.5 9.7\n",
        "[-1.01868418 -0.0200299 ]"
       ]
      },
      {
       "output_type": "stream",
       "stream": "stdout",
       "text": [
        "\n",
        "4.5 9.8\n",
        "[-1.02014933 -0.01780773]"
       ]
      },
      {
       "output_type": "stream",
       "stream": "stdout",
       "text": [
        "\n",
        "4.5 9.9\n",
        "[-1.02153035 -0.01554683]"
       ]
      },
      {
       "output_type": "stream",
       "stream": "stdout",
       "text": [
        "\n",
        "4.6 0.0\n",
        "[-1.09141815 -0.06701342]"
       ]
      },
      {
       "output_type": "stream",
       "stream": "stdout",
       "text": [
        "\n",
        "4.6 0.1\n",
        "[-1.09149189 -0.06671285]"
       ]
      },
      {
       "output_type": "stream",
       "stream": "stdout",
       "text": [
        "\n",
        "4.6 0.2\n",
        "[-1.09185105 -0.06522434]"
       ]
      },
      {
       "output_type": "stream",
       "stream": "stdout",
       "text": [
        "\n",
        "4.6 0.3\n",
        "[-1.09247305 -0.06257004]"
       ]
      },
      {
       "output_type": "stream",
       "stream": "stdout",
       "text": [
        "\n",
        "4.6 0.4\n",
        "[-1.09331931 -0.05878631]"
       ]
      },
      {
       "output_type": "stream",
       "stream": "stdout",
       "text": [
        "\n",
        "4.6 0.5\n",
        "[-1.09433692 -0.05392401]"
       ]
      },
      {
       "output_type": "stream",
       "stream": "stdout",
       "text": [
        "\n",
        "4.6 0.6\n",
        "[-1.095461   -0.04804889]"
       ]
      },
      {
       "output_type": "stream",
       "stream": "stdout",
       "text": [
        "\n",
        "4.6 0.7\n",
        "[-1.09661738 -0.04124187]"
       ]
      },
      {
       "output_type": "stream",
       "stream": "stdout",
       "text": [
        "\n",
        "4.6 0.8\n",
        "[-1.09772567 -0.03359903]"
       ]
      },
      {
       "output_type": "stream",
       "stream": "stdout",
       "text": [
        "\n",
        "4.6 0.9\n",
        "[-1.09870258 -0.02523123]"
       ]
      },
      {
       "output_type": "stream",
       "stream": "stdout",
       "text": [
        "\n",
        "4.6 1.0\n",
        "[-1.0994652  -0.01626304]"
       ]
      },
      {
       "output_type": "stream",
       "stream": "stdout",
       "text": [
        "\n",
        "4.6 1.1\n",
        "[-1.09993428 -0.00683113]"
       ]
      },
      {
       "output_type": "stream",
       "stream": "stdout",
       "text": [
        "\n",
        "4.6 1.2\n",
        "[-1.10003718  0.00291808]"
       ]
      },
      {
       "output_type": "stream",
       "stream": "stdout",
       "text": [
        "\n",
        "4.6 1.3\n",
        "[-1.09971058  0.0128314 ]"
       ]
      },
      {
       "output_type": "stream",
       "stream": "stdout",
       "text": [
        "\n",
        "4.6 1.4\n",
        "[-1.09890255  0.02275241]"
       ]
      },
      {
       "output_type": "stream",
       "stream": "stdout",
       "text": [
        "\n",
        "4.6 1.5\n",
        "[-1.09757422  0.0325253 ]"
       ]
      },
      {
       "output_type": "stream",
       "stream": "stdout",
       "text": [
        "\n",
        "4.6 1.6\n",
        "[-1.09570076  0.04199893]"
       ]
      },
      {
       "output_type": "stream",
       "stream": "stdout",
       "text": [
        "\n",
        "4.6 1.7\n",
        "[-1.09327171  0.05103079]"
       ]
      },
      {
       "output_type": "stream",
       "stream": "stdout",
       "text": [
        "\n",
        "4.6 1.8\n",
        "[-1.09029083  0.05949065]"
       ]
      },
      {
       "output_type": "stream",
       "stream": "stdout",
       "text": [
        "\n",
        "4.6 1.9\n",
        "[-1.08677532  0.06726372]"
       ]
      },
      {
       "output_type": "stream",
       "stream": "stdout",
       "text": [
        "\n",
        "4.6 2.0\n",
        "[-1.0827546   0.07425312]"
       ]
      },
      {
       "output_type": "stream",
       "stream": "stdout",
       "text": [
        "\n",
        "4.6 2.1\n",
        "[-1.07826879  0.08038157]"
       ]
      },
      {
       "output_type": "stream",
       "stream": "stdout",
       "text": [
        "\n",
        "4.6 2.2\n",
        "[-1.07336683  0.08559231]"
       ]
      },
      {
       "output_type": "stream",
       "stream": "stdout",
       "text": [
        "\n",
        "4.6 2.3\n",
        "[-1.06810459  0.08984916]"
       ]
      },
      {
       "output_type": "stream",
       "stream": "stdout",
       "text": [
        "\n",
        "4.6 2.4\n",
        "[-1.06254283  0.09313588]"
       ]
      },
      {
       "output_type": "stream",
       "stream": "stdout",
       "text": [
        "\n",
        "4.6 2.5\n",
        "[-1.0567453   0.09545487]"
       ]
      },
      {
       "output_type": "stream",
       "stream": "stdout",
       "text": [
        "\n",
        "4.6 2.6\n",
        "[-1.05077689  0.09682541]"
       ]
      },
      {
       "output_type": "stream",
       "stream": "stdout",
       "text": [
        "\n",
        "4.6 2.7\n",
        "[-1.04470201  0.0972815 ]"
       ]
      },
      {
       "output_type": "stream",
       "stream": "stdout",
       "text": [
        "\n",
        "4.6 2.8\n",
        "[-1.03858318  0.09686954]"
       ]
      },
      {
       "output_type": "stream",
       "stream": "stdout",
       "text": [
        "\n",
        "4.6 2.9\n",
        "[-1.03247985  0.0956459 ]"
       ]
      },
      {
       "output_type": "stream",
       "stream": "stdout",
       "text": [
        "\n",
        "4.6 3.0\n",
        "[-1.02644751  0.09367449]"
       ]
      },
      {
       "output_type": "stream",
       "stream": "stdout",
       "text": [
        "\n",
        "4.6 3.1\n",
        "[-1.02053692  0.09102455]"
       ]
      },
      {
       "output_type": "stream",
       "stream": "stdout",
       "text": [
        "\n",
        "4.6 3.2\n",
        "[-1.01479372  0.08776852]"
       ]
      },
      {
       "output_type": "stream",
       "stream": "stdout",
       "text": [
        "\n",
        "4.6 3.3\n",
        "[-1.00925811  0.08398025]"
       ]
      },
      {
       "output_type": "stream",
       "stream": "stdout",
       "text": [
        "\n",
        "4.6 3.4\n",
        "[-1.0039648   0.07973337]"
       ]
      },
      {
       "output_type": "stream",
       "stream": "stdout",
       "text": [
        "\n",
        "4.6 3.5\n",
        "[-0.998943    0.07510001]"
       ]
      },
      {
       "output_type": "stream",
       "stream": "stdout",
       "text": [
        "\n",
        "4.6 3.6\n",
        "[-0.99421661  0.07014974]"
       ]
      },
      {
       "output_type": "stream",
       "stream": "stdout",
       "text": [
        "\n",
        "4.6 3.7\n",
        "[-0.98980448  0.06494877]"
       ]
      },
      {
       "output_type": "stream",
       "stream": "stdout",
       "text": [
        "\n",
        "4.6 3.8\n",
        "[-0.98572072  0.05955932]"
       ]
      },
      {
       "output_type": "stream",
       "stream": "stdout",
       "text": [
        "\n",
        "4.6 3.9\n",
        "[-0.98197505  0.05403928]"
       ]
      },
      {
       "output_type": "stream",
       "stream": "stdout",
       "text": [
        "\n",
        "4.6 4.0\n",
        "[-0.97857318  0.04844193]"
       ]
      },
      {
       "output_type": "stream",
       "stream": "stdout",
       "text": [
        "\n",
        "4.6 4.1\n",
        "[-0.97551726  0.04281589]"
       ]
      },
      {
       "output_type": "stream",
       "stream": "stdout",
       "text": [
        "\n",
        "4.6 4.2\n",
        "[-0.97280622  0.03720507]"
       ]
      },
      {
       "output_type": "stream",
       "stream": "stdout",
       "text": [
        "\n",
        "4.6 4.3\n",
        "[-0.97043617  0.03164885]"
       ]
      },
      {
       "output_type": "stream",
       "stream": "stdout",
       "text": [
        "\n",
        "4.6 4.4\n",
        "[-0.96840081  0.02618218]"
       ]
      },
      {
       "output_type": "stream",
       "stream": "stdout",
       "text": [
        "\n",
        "4.6 4.5\n",
        "[-0.96669175  0.02083584]"
       ]
      },
      {
       "output_type": "stream",
       "stream": "stdout",
       "text": [
        "\n",
        "4.6 4.6\n",
        "[-0.96529883  0.01563662]"
       ]
      },
      {
       "output_type": "stream",
       "stream": "stdout",
       "text": [
        "\n",
        "4.6 4.7\n",
        "[-0.96421046  0.01060766]"
       ]
      },
      {
       "output_type": "stream",
       "stream": "stdout",
       "text": [
        "\n",
        "4.6 4.8\n",
        "[-0.96341386  0.00576867]"
       ]
      },
      {
       "output_type": "stream",
       "stream": "stdout",
       "text": [
        "\n",
        "4.6 4.9\n",
        "[-0.9628953   0.00113622]"
       ]
      },
      {
       "output_type": "stream",
       "stream": "stdout",
       "text": [
        "\n",
        "4.6 5.0\n",
        "[-0.96264038 -0.00327603]"
       ]
      },
      {
       "output_type": "stream",
       "stream": "stdout",
       "text": [
        "\n",
        "4.6 5.1\n",
        "[-0.96263416 -0.00745702]"
       ]
      },
      {
       "output_type": "stream",
       "stream": "stdout",
       "text": [
        "\n",
        "4.6 5.2\n",
        "[-0.96286138 -0.01139808]"
       ]
      },
      {
       "output_type": "stream",
       "stream": "stdout",
       "text": [
        "\n",
        "4.6 5.3\n",
        "[-0.96330658 -0.0150927 ]"
       ]
      },
      {
       "output_type": "stream",
       "stream": "stdout",
       "text": [
        "\n",
        "4.6 5.4\n",
        "[-0.96395428 -0.0185363 ]"
       ]
      },
      {
       "output_type": "stream",
       "stream": "stdout",
       "text": [
        "\n",
        "4.6 5.5\n",
        "[-0.96478904 -0.02172606]"
       ]
      },
      {
       "output_type": "stream",
       "stream": "stdout",
       "text": [
        "\n",
        "4.6 5.6\n",
        "[-0.96579559 -0.02466072]"
       ]
      },
      {
       "output_type": "stream",
       "stream": "stdout",
       "text": [
        "\n",
        "4.6 5.7\n",
        "[-0.96695893 -0.0273404 ]"
       ]
      },
      {
       "output_type": "stream",
       "stream": "stdout",
       "text": [
        "\n",
        "4.6 5.8\n",
        "[-0.96826436 -0.02976647]"
       ]
      },
      {
       "output_type": "stream",
       "stream": "stdout",
       "text": [
        "\n",
        "4.6 5.9\n",
        "[-0.96969757 -0.03194142]"
       ]
      },
      {
       "output_type": "stream",
       "stream": "stdout",
       "text": [
        "\n",
        "4.6 6.0\n",
        "[-0.97124469 -0.0338687 ]"
       ]
      },
      {
       "output_type": "stream",
       "stream": "stdout",
       "text": [
        "\n",
        "4.6 6.1\n",
        "[-0.97289229 -0.03555262]"
       ]
      },
      {
       "output_type": "stream",
       "stream": "stdout",
       "text": [
        "\n",
        "4.6 6.2\n",
        "[-0.97462748 -0.03699826]"
       ]
      },
      {
       "output_type": "stream",
       "stream": "stdout",
       "text": [
        "\n",
        "4.6 6.3\n",
        "[-0.97643787 -0.03821136]"
       ]
      },
      {
       "output_type": "stream",
       "stream": "stdout",
       "text": [
        "\n",
        "4.6 6.4\n",
        "[-0.97831164 -0.03919824]"
       ]
      },
      {
       "output_type": "stream",
       "stream": "stdout",
       "text": [
        "\n",
        "4.6 6.5\n",
        "[-0.9802375  -0.03996572]"
       ]
      },
      {
       "output_type": "stream",
       "stream": "stdout",
       "text": [
        "\n",
        "4.6 6.6\n",
        "[-0.98220475 -0.04052103]"
       ]
      },
      {
       "output_type": "stream",
       "stream": "stdout",
       "text": [
        "\n",
        "4.6 6.7\n",
        "[-0.98420326 -0.04087179]"
       ]
      },
      {
       "output_type": "stream",
       "stream": "stdout",
       "text": [
        "\n",
        "4.6 6.8\n",
        "[-0.98622346 -0.0410259 ]"
       ]
      },
      {
       "output_type": "stream",
       "stream": "stdout",
       "text": [
        "\n",
        "4.6 6.9\n",
        "[-0.98825638 -0.04099152]"
       ]
      },
      {
       "output_type": "stream",
       "stream": "stdout",
       "text": [
        "\n",
        "4.6 7.0\n",
        "[-0.99029358 -0.04077699]"
       ]
      },
      {
       "output_type": "stream",
       "stream": "stdout",
       "text": [
        "\n",
        "4.6 7.1\n",
        "[-0.99232719 -0.04039082]"
       ]
      },
      {
       "output_type": "stream",
       "stream": "stdout",
       "text": [
        "\n",
        "4.6 7.2\n",
        "[-0.99434991 -0.0398416 ]"
       ]
      },
      {
       "output_type": "stream",
       "stream": "stdout",
       "text": [
        "\n",
        "4.6 7.3\n",
        "[-0.99635495 -0.03913801]"
       ]
      },
      {
       "output_type": "stream",
       "stream": "stdout",
       "text": [
        "\n",
        "4.6 7.4\n",
        "[-0.99833606 -0.03828875]"
       ]
      },
      {
       "output_type": "stream",
       "stream": "stdout",
       "text": [
        "\n",
        "4.6 7.5\n",
        "[-1.00028749 -0.03730251]"
       ]
      },
      {
       "output_type": "stream",
       "stream": "stdout",
       "text": [
        "\n",
        "4.6 7.6\n",
        "[-1.00220401 -0.03618794]"
       ]
      },
      {
       "output_type": "stream",
       "stream": "stdout",
       "text": [
        "\n",
        "4.6 7.7\n",
        "[-1.00408085 -0.03495364]"
       ]
      },
      {
       "output_type": "stream",
       "stream": "stdout",
       "text": [
        "\n",
        "4.6 7.8\n",
        "[-1.00591371 -0.03360811]"
       ]
      },
      {
       "output_type": "stream",
       "stream": "stdout",
       "text": [
        "\n",
        "4.6 7.9\n",
        "[-1.00769874 -0.0321597 ]"
       ]
      },
      {
       "output_type": "stream",
       "stream": "stdout",
       "text": [
        "\n",
        "4.6 8.0\n",
        "[-1.00943251 -0.03061668]"
       ]
      },
      {
       "output_type": "stream",
       "stream": "stdout",
       "text": [
        "\n",
        "4.6 8.1\n",
        "[-1.01111203 -0.0289871 ]"
       ]
      },
      {
       "output_type": "stream",
       "stream": "stdout",
       "text": [
        "\n",
        "4.6 8.2\n",
        "[-1.01273468 -0.02727886]"
       ]
      },
      {
       "output_type": "stream",
       "stream": "stdout",
       "text": [
        "\n",
        "4.6 8.3\n",
        "[-1.01429822 -0.02549964]"
       ]
      },
      {
       "output_type": "stream",
       "stream": "stdout",
       "text": [
        "\n",
        "4.6 8.4\n",
        "[-1.01580077 -0.02365693]"
       ]
      },
      {
       "output_type": "stream",
       "stream": "stdout",
       "text": [
        "\n",
        "4.6 8.5\n",
        "[-1.01724081 -0.02175797]"
       ]
      },
      {
       "output_type": "stream",
       "stream": "stdout",
       "text": [
        "\n",
        "4.6 8.6\n",
        "[-1.01861712 -0.01980977]"
       ]
      },
      {
       "output_type": "stream",
       "stream": "stdout",
       "text": [
        "\n",
        "4.6 8.7\n",
        "[-1.01992879 -0.01781907]"
       ]
      },
      {
       "output_type": "stream",
       "stream": "stdout",
       "text": [
        "\n",
        "4.6 8.8\n",
        "[-1.02117521 -0.01579238]"
       ]
      },
      {
       "output_type": "stream",
       "stream": "stdout",
       "text": [
        "\n",
        "4.6 8.9\n",
        "[-1.02235603 -0.01373591]"
       ]
      },
      {
       "output_type": "stream",
       "stream": "stdout",
       "text": [
        "\n",
        "4.6 9.0\n",
        "[-1.02347116 -0.0116556 ]"
       ]
      },
      {
       "output_type": "stream",
       "stream": "stdout",
       "text": [
        "\n",
        "4.6 9.1\n",
        "[-1.02452074 -0.00955713]"
       ]
      },
      {
       "output_type": "stream",
       "stream": "stdout",
       "text": [
        "\n",
        "4.6 9.2\n",
        "[-1.02550513 -0.00744587]"
       ]
      },
      {
       "output_type": "stream",
       "stream": "stdout",
       "text": [
        "\n",
        "4.6 9.3\n",
        "[-1.02642493 -0.00532691]"
       ]
      },
      {
       "output_type": "stream",
       "stream": "stdout",
       "text": [
        "\n",
        "4.6 9.4\n",
        "[-1.02728088 -0.00320506]"
       ]
      },
      {
       "output_type": "stream",
       "stream": "stdout",
       "text": [
        "\n",
        "4.6 9.5\n",
        "[-1.02807394 -0.00108483]"
       ]
      },
      {
       "output_type": "stream",
       "stream": "stdout",
       "text": [
        "\n",
        "4.6 9.6\n",
        "[-1.0288052   0.00102955]"
       ]
      },
      {
       "output_type": "stream",
       "stream": "stdout",
       "text": [
        "\n",
        "4.6 9.7\n",
        "[-1.02947592  0.00313414]"
       ]
      },
      {
       "output_type": "stream",
       "stream": "stdout",
       "text": [
        "\n",
        "4.6 9.8\n",
        "[-1.0300875   0.00522529]"
       ]
      },
      {
       "output_type": "stream",
       "stream": "stdout",
       "text": [
        "\n",
        "4.6 9.9\n",
        "[-1.03064145  0.00729962]"
       ]
      },
      {
       "output_type": "stream",
       "stream": "stdout",
       "text": [
        "\n",
        "4.7 0.0\n",
        "[-0.96658241  0.0198685 ]"
       ]
      },
      {
       "output_type": "stream",
       "stream": "stdout",
       "text": [
        "\n",
        "4.7 0.1\n",
        "[-0.96658484  0.0198901 ]"
       ]
      },
      {
       "output_type": "stream",
       "stream": "stdout",
       "text": [
        "\n",
        "4.7 0.2\n",
        "[-0.96655212  0.0197869 ]"
       ]
      },
      {
       "output_type": "stream",
       "stream": "stdout",
       "text": [
        "\n",
        "4.7 0.3\n",
        "[-0.96648483  0.01955962]"
       ]
      },
      {
       "output_type": "stream",
       "stream": "stdout",
       "text": [
        "\n",
        "4.7 0.4\n",
        "[-0.96638412  0.01920946]"
       ]
      },
      {
       "output_type": "stream",
       "stream": "stdout",
       "text": [
        "\n",
        "4.7 0.5\n",
        "[-0.96625169  0.01873803]"
       ]
      },
      {
       "output_type": "stream",
       "stream": "stdout",
       "text": [
        "\n",
        "4.7 0.6\n",
        "[-0.96608979  0.01814739]"
       ]
      },
      {
       "output_type": "stream",
       "stream": "stdout",
       "text": [
        "\n",
        "4.7 0.7\n",
        "[-0.96590118  0.01744004]"
       ]
      },
      {
       "output_type": "stream",
       "stream": "stdout",
       "text": [
        "\n",
        "4.7 0.8\n",
        "[-0.96568906  0.01661893]"
       ]
      },
      {
       "output_type": "stream",
       "stream": "stdout",
       "text": [
        "\n",
        "4.7 0.9\n",
        "[-0.96545707  0.01568745]"
       ]
      },
      {
       "output_type": "stream",
       "stream": "stdout",
       "text": [
        "\n",
        "4.7 1.0\n",
        "[-0.96520926  0.01464941]"
       ]
      },
      {
       "output_type": "stream",
       "stream": "stdout",
       "text": [
        "\n",
        "4.7 1.1\n",
        "[-0.96494999  0.01350906]"
       ]
      },
      {
       "output_type": "stream",
       "stream": "stdout",
       "text": [
        "\n",
        "4.7 1.2\n",
        "[-0.9646839   0.01227109]"
       ]
      },
      {
       "output_type": "stream",
       "stream": "stdout",
       "text": [
        "\n",
        "4.7 1.3\n",
        "[-0.96441588  0.01094057]"
       ]
      },
      {
       "output_type": "stream",
       "stream": "stdout",
       "text": [
        "\n",
        "4.7 1.4\n",
        "[-0.96415099  0.00952301]"
       ]
      },
      {
       "output_type": "stream",
       "stream": "stdout",
       "text": [
        "\n",
        "4.7 1.5\n",
        "[-0.9638944   0.00802428]"
       ]
      },
      {
       "output_type": "stream",
       "stream": "stdout",
       "text": [
        "\n",
        "4.7 1.6\n",
        "[-0.96365137  0.00645064]"
       ]
      },
      {
       "output_type": "stream",
       "stream": "stdout",
       "text": [
        "\n",
        "4.7 1.7\n",
        "[-0.96342713  0.00480866]"
       ]
      },
      {
       "output_type": "stream",
       "stream": "stdout",
       "text": [
        "\n",
        "4.7 1.8\n",
        "[-0.9632269   0.00310526]"
       ]
      },
      {
       "output_type": "stream",
       "stream": "stdout",
       "text": [
        "\n",
        "4.7 1.9\n",
        "[-0.96305577  0.0013476 ]"
       ]
      },
      {
       "output_type": "stream",
       "stream": "stdout",
       "text": [
        "\n",
        "4.7 2.0\n",
        "[ -9.62918714e-01  -4.56873397e-04]"
       ]
      },
      {
       "output_type": "stream",
       "stream": "stdout",
       "text": [
        "\n",
        "4.7 2.1\n",
        "[-0.96282048 -0.00230054]"
       ]
      },
      {
       "output_type": "stream",
       "stream": "stdout",
       "text": [
        "\n",
        "4.7 2.2\n",
        "[-0.96276558 -0.0041756 ]"
       ]
      },
      {
       "output_type": "stream",
       "stream": "stdout",
       "text": [
        "\n",
        "4.7 2.3\n",
        "[-0.96275826 -0.00607413]"
       ]
      },
      {
       "output_type": "stream",
       "stream": "stdout",
       "text": [
        "\n",
        "4.7 2.4\n",
        "[-0.96280245 -0.00798813]"
       ]
      },
      {
       "output_type": "stream",
       "stream": "stdout",
       "text": [
        "\n",
        "4.7 2.5\n",
        "[-0.96290171 -0.00990958]"
       ]
      },
      {
       "output_type": "stream",
       "stream": "stdout",
       "text": [
        "\n",
        "4.7 2.6\n",
        "[-0.96305926 -0.01183045]"
       ]
      },
      {
       "output_type": "stream",
       "stream": "stdout",
       "text": [
        "\n",
        "4.7 2.7\n",
        "[-0.96327791 -0.01374277]"
       ]
      },
      {
       "output_type": "stream",
       "stream": "stdout",
       "text": [
        "\n",
        "4.7 2.8\n",
        "[-0.96356005 -0.0156387 ]"
       ]
      },
      {
       "output_type": "stream",
       "stream": "stdout",
       "text": [
        "\n",
        "4.7 2.9\n",
        "[-0.96390766 -0.0175105 ]"
       ]
      },
      {
       "output_type": "stream",
       "stream": "stdout",
       "text": [
        "\n",
        "4.7 3.0\n",
        "[-0.96432229 -0.01935066]"
       ]
      },
      {
       "output_type": "stream",
       "stream": "stdout",
       "text": [
        "\n",
        "4.7 3.1\n",
        "[-0.96480507 -0.02115185]"
       ]
      },
      {
       "output_type": "stream",
       "stream": "stdout",
       "text": [
        "\n",
        "4.7 3.2\n",
        "[-0.96535666 -0.02290702]"
       ]
      },
      {
       "output_type": "stream",
       "stream": "stdout",
       "text": [
        "\n",
        "4.7 3.3\n",
        "[-0.96597734 -0.02460941]"
       ]
      },
      {
       "output_type": "stream",
       "stream": "stdout",
       "text": [
        "\n",
        "4.7 3.4\n",
        "[-0.96666695 -0.02625258]"
       ]
      },
      {
       "output_type": "stream",
       "stream": "stdout",
       "text": [
        "\n",
        "4.7 3.5\n",
        "[-0.96742493 -0.02783043]"
       ]
      },
      {
       "output_type": "stream",
       "stream": "stdout",
       "text": [
        "\n",
        "4.7 3.6\n",
        "[-0.96825032 -0.02933721]"
       ]
      },
      {
       "output_type": "stream",
       "stream": "stdout",
       "text": [
        "\n",
        "4.7 3.7\n",
        "[-0.96914181 -0.0307676 ]"
       ]
      },
      {
       "output_type": "stream",
       "stream": "stdout",
       "text": [
        "\n",
        "4.7 3.8\n",
        "[-0.97009773 -0.03211665]"
       ]
      },
      {
       "output_type": "stream",
       "stream": "stdout",
       "text": [
        "\n",
        "4.7 3.9\n",
        "[-0.97111607 -0.03337982]"
       ]
      },
      {
       "output_type": "stream",
       "stream": "stdout",
       "text": [
        "\n",
        "4.7 4.0\n",
        "[-0.97219452 -0.03455303]"
       ]
      },
      {
       "output_type": "stream",
       "stream": "stdout",
       "text": [
        "\n",
        "4.7 4.1\n",
        "[-0.97333051 -0.03563259]"
       ]
      },
      {
       "output_type": "stream",
       "stream": "stdout",
       "text": [
        "\n",
        "4.7 4.2\n",
        "[-0.97452118 -0.03661529]"
       ]
      },
      {
       "output_type": "stream",
       "stream": "stdout",
       "text": [
        "\n",
        "4.7 4.3\n",
        "[-0.97576347 -0.03749832]"
       ]
      },
      {
       "output_type": "stream",
       "stream": "stdout",
       "text": [
        "\n",
        "4.7 4.4\n",
        "[-0.97705409 -0.03827931]"
       ]
      },
      {
       "output_type": "stream",
       "stream": "stdout",
       "text": [
        "\n",
        "4.7 4.5\n",
        "[-0.97838959 -0.03895634]"
       ]
      },
      {
       "output_type": "stream",
       "stream": "stdout",
       "text": [
        "\n",
        "4.7 4.6\n",
        "[-0.97976637 -0.0395279 ]"
       ]
      },
      {
       "output_type": "stream",
       "stream": "stdout",
       "text": [
        "\n",
        "4.7 4.7\n",
        "[-0.9811807 -0.0399929]"
       ]
      },
      {
       "output_type": "stream",
       "stream": "stdout",
       "text": [
        "\n",
        "4.7 4.8\n",
        "[-0.98262875 -0.04035065]"
       ]
      },
      {
       "output_type": "stream",
       "stream": "stdout",
       "text": [
        "\n",
        "4.7 4.9\n",
        "[-0.98410661 -0.04060086]"
       ]
      },
      {
       "output_type": "stream",
       "stream": "stdout",
       "text": [
        "\n",
        "4.7 5.0\n",
        "[-0.98561033 -0.04074363]"
       ]
      },
      {
       "output_type": "stream",
       "stream": "stdout",
       "text": [
        "\n",
        "4.7 5.1\n",
        "[-0.98713593 -0.04077943]"
       ]
      },
      {
       "output_type": "stream",
       "stream": "stdout",
       "text": [
        "\n",
        "4.7 5.2\n",
        "[-0.9886794  -0.04070906]"
       ]
      },
      {
       "output_type": "stream",
       "stream": "stdout",
       "text": [
        "\n",
        "4.7 5.3\n",
        "[-0.99023678 -0.04053368]"
       ]
      },
      {
       "output_type": "stream",
       "stream": "stdout",
       "text": [
        "\n",
        "4.7 5.4\n",
        "[-0.99180411 -0.04025477]"
       ]
      },
      {
       "output_type": "stream",
       "stream": "stdout",
       "text": [
        "\n",
        "4.7 5.5\n",
        "[-0.99337751 -0.03987409]"
       ]
      },
      {
       "output_type": "stream",
       "stream": "stdout",
       "text": [
        "\n",
        "4.7 5.6\n",
        "[-0.99495314 -0.03939371]"
       ]
      },
      {
       "output_type": "stream",
       "stream": "stdout",
       "text": [
        "\n",
        "4.7 5.7\n",
        "[-0.99652726 -0.03881596]"
       ]
      },
      {
       "output_type": "stream",
       "stream": "stdout",
       "text": [
        "\n",
        "4.7 5.8\n",
        "[-0.99809621 -0.03814339]"
       ]
      },
      {
       "output_type": "stream",
       "stream": "stdout",
       "text": [
        "\n",
        "4.7 5.9\n",
        "[-0.99965647 -0.03737883]"
       ]
      },
      {
       "output_type": "stream",
       "stream": "stdout",
       "text": [
        "\n",
        "4.7 6.0\n",
        "[-1.00120461 -0.03652526]"
       ]
      },
      {
       "output_type": "stream",
       "stream": "stdout",
       "text": [
        "\n",
        "4.7 6.1\n",
        "[-1.00273734 -0.03558589]"
       ]
      },
      {
       "output_type": "stream",
       "stream": "stdout",
       "text": [
        "\n",
        "4.7 6.2\n",
        "[-1.00425153 -0.03456408]"
       ]
      },
      {
       "output_type": "stream",
       "stream": "stdout",
       "text": [
        "\n",
        "4.7 6.3\n",
        "[-1.00574418 -0.03346334]"
       ]
      },
      {
       "output_type": "stream",
       "stream": "stdout",
       "text": [
        "\n",
        "4.7 6.4\n",
        "[-1.00721244 -0.03228733]"
       ]
      },
      {
       "output_type": "stream",
       "stream": "stdout",
       "text": [
        "\n",
        "4.7 6.5\n",
        "[-1.00865363 -0.0310398 ]"
       ]
      },
      {
       "output_type": "stream",
       "stream": "stdout",
       "text": [
        "\n",
        "4.7 6.6\n",
        "[-1.01006525 -0.02972459]"
       ]
      },
      {
       "output_type": "stream",
       "stream": "stdout",
       "text": [
        "\n",
        "4.7 6.7\n",
        "[-1.01144493 -0.02834565]"
       ]
      },
      {
       "output_type": "stream",
       "stream": "stdout",
       "text": [
        "\n",
        "4.7 6.8\n",
        "[-1.01279052 -0.02690694]"
       ]
      },
      {
       "output_type": "stream",
       "stream": "stdout",
       "text": [
        "\n",
        "4.7 6.9\n",
        "[-1.01410001 -0.0254125 ]"
       ]
      },
      {
       "output_type": "stream",
       "stream": "stdout",
       "text": [
        "\n",
        "4.7 7.0\n",
        "[-1.01537157 -0.02386638]"
       ]
      },
      {
       "output_type": "stream",
       "stream": "stdout",
       "text": [
        "\n",
        "4.7 7.1\n",
        "[-1.01660354 -0.02227264]"
       ]
      },
      {
       "output_type": "stream",
       "stream": "stdout",
       "text": [
        "\n",
        "4.7 7.2\n",
        "[-1.01779446 -0.02063532]"
       ]
      },
      {
       "output_type": "stream",
       "stream": "stdout",
       "text": [
        "\n",
        "4.7 7.3\n",
        "[-1.018943   -0.01895845]"
       ]
      },
      {
       "output_type": "stream",
       "stream": "stdout",
       "text": [
        "\n",
        "4.7 7.4\n",
        "[-1.02004802 -0.01724604]"
       ]
      },
      {
       "output_type": "stream",
       "stream": "stdout",
       "text": [
        "\n",
        "4.7 7.5\n",
        "[-1.02110856 -0.01550202]"
       ]
      },
      {
       "output_type": "stream",
       "stream": "stdout",
       "text": [
        "\n",
        "4.7 7.6\n",
        "[-1.02212381 -0.01373029]"
       ]
      },
      {
       "output_type": "stream",
       "stream": "stdout",
       "text": [
        "\n",
        "4.7 7.7\n",
        "[-1.0230931  -0.01193464]"
       ]
      },
      {
       "output_type": "stream",
       "stream": "stdout",
       "text": [
        "\n",
        "4.7 7.8\n",
        "[-1.02401596 -0.01011882]"
       ]
      },
      {
       "output_type": "stream",
       "stream": "stdout",
       "text": [
        "\n",
        "4.7 7.9\n",
        "[-1.02489202 -0.00828645]"
       ]
      },
      {
       "output_type": "stream",
       "stream": "stdout",
       "text": [
        "\n",
        "4.7 8.0\n",
        "[-1.0257211  -0.00644108]"
       ]
      },
      {
       "output_type": "stream",
       "stream": "stdout",
       "text": [
        "\n",
        "4.7 8.1\n",
        "[-1.02650313 -0.00458611]"
       ]
      },
      {
       "output_type": "stream",
       "stream": "stdout",
       "text": [
        "\n",
        "4.7 8.2\n",
        "[-1.0272382  -0.00272486]"
       ]
      }
     ]
    }
   ],
   "metadata": {}
  }
 ]
}