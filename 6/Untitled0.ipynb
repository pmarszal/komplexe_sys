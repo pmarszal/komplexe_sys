{
 "metadata": {
  "name": "",
  "signature": "sha256:9ef8f2079117f9394576a36c3a7558a8547ec457cb0b799cd02e0481cbde37a3"
 },
 "nbformat": 3,
 "nbformat_minor": 0,
 "worksheets": []
}